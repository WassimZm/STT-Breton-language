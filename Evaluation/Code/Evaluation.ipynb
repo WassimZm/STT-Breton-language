{
 "cells": [
  {
   "cell_type": "markdown",
   "id": "538ba698",
   "metadata": {},
   "source": [
    "In this notebook, we evaluate the latest version of the **Anaouder Vosk model** on the dataset \"La banque sonore des dialectes bretons\":\n",
    "* The dataset audio files are already in wav format, so no need to use the function `MP3toWAV`\n",
    "\n",
    "* However, for the compatibility with Vosk model, all audio files must be converted to a 16 kHz sampling rate with the function `resample_audio`\n"
   ]
  },
  {
   "cell_type": "code",
   "execution_count": 22,
   "id": "1f4d2ae2",
   "metadata": {},
   "outputs": [],
   "source": [
    "import os\n",
    "import wave\n",
    "import json\n",
    "import jiwer\n",
    "import vosk \n",
    "from vosk import Model, KaldiRecognizer\n",
    "from resample_audio import resample_audio"
   ]
  },
  {
   "cell_type": "code",
   "execution_count": null,
   "id": "ec054bc9",
   "metadata": {},
   "outputs": [],
   "source": []
  },
  {
   "cell_type": "code",
   "execution_count": 15,
   "id": "ffe23edb",
   "metadata": {},
   "outputs": [
    {
     "ename": "ImportError",
     "evalue": "cannot import name 'resample_all_wav' from 'resample_audio' (/home/ouassim/Desktop/stage/evaluation/Code/resample_audio.py)",
     "output_type": "error",
     "traceback": [
      "\u001b[0;31m---------------------------------------------------------------------------\u001b[0m",
      "\u001b[0;31mImportError\u001b[0m                               Traceback (most recent call last)",
      "Cell \u001b[0;32mIn[15], line 1\u001b[0m\n\u001b[0;32m----> 1\u001b[0m \u001b[38;5;28;01mfrom\u001b[39;00m \u001b[38;5;21;01mresample_audio\u001b[39;00m \u001b[38;5;28;01mimport\u001b[39;00m resample_all_wav\n",
      "\u001b[0;31mImportError\u001b[0m: cannot import name 'resample_all_wav' from 'resample_audio' (/home/ouassim/Desktop/stage/evaluation/Code/resample_audio.py)"
     ]
    }
   ],
   "source": [
    "from resample_audio import resample_all_wav"
   ]
  },
  {
   "cell_type": "code",
   "execution_count": 5,
   "id": "9a539822",
   "metadata": {},
   "outputs": [],
   "source": [
    "# Path to the dataset\n",
    "dataset_path = \"/home/ouassim/Desktop/stage/Kaldi/kaldi/data/test/\"\n",
    "output_path = \"/home/ouassim/Desktop/stage/Kaldi/kaldi/data_16/test/\""
   ]
  },
  {
   "cell_type": "code",
   "execution_count": 19,
   "id": "188f5cc6",
   "metadata": {},
   "outputs": [
    {
     "ename": "NameError",
     "evalue": "name 'AudioSegment' is not defined",
     "output_type": "error",
     "traceback": [
      "\u001b[0;31m---------------------------------------------------------------------------\u001b[0m",
      "\u001b[0;31mNameError\u001b[0m                                 Traceback (most recent call last)",
      "Cell \u001b[0;32mIn[19], line 1\u001b[0m\n\u001b[0;32m----> 1\u001b[0m \u001b[43mresample_audio\u001b[49m\u001b[43m(\u001b[49m\u001b[43mdataset_path\u001b[49m\u001b[43m,\u001b[49m\u001b[43m \u001b[49m\u001b[43moutput_path\u001b[49m\u001b[43m)\u001b[49m\n",
      "File \u001b[0;32m~/Desktop/stage/evaluation/Code/resample_audio.py:5\u001b[0m, in \u001b[0;36mresample_audio\u001b[0;34m(input_path, output_path, target_sample_rate)\u001b[0m\n\u001b[1;32m      4\u001b[0m \u001b[38;5;28;01mdef\u001b[39;00m \u001b[38;5;21mresample_all_wav\u001b[39m(source_folder, output_folder, target_sample_rate\u001b[38;5;241m=\u001b[39m\u001b[38;5;241m16000\u001b[39m):\n\u001b[0;32m----> 5\u001b[0m \u001b[38;5;250m    \u001b[39m\u001b[38;5;124;03m\"\"\"\u001b[39;00m\n\u001b[1;32m      6\u001b[0m \u001b[38;5;124;03m    Resample all WAV files in the source folder to the target sample rate\u001b[39;00m\n\u001b[1;32m      7\u001b[0m \u001b[38;5;124;03m    and save them in the output folder.\u001b[39;00m\n\u001b[1;32m      8\u001b[0m \n\u001b[1;32m      9\u001b[0m \u001b[38;5;124;03m    Args:\u001b[39;00m\n\u001b[1;32m     10\u001b[0m \u001b[38;5;124;03m        source_folder (str): Path to the folder containing original WAV files.\u001b[39;00m\n\u001b[1;32m     11\u001b[0m \u001b[38;5;124;03m        output_folder (str): Path to save the resampled WAV files.\u001b[39;00m\n\u001b[1;32m     12\u001b[0m \u001b[38;5;124;03m        target_sample_rate (int): Desired sample rate (default: 16000 Hz).\u001b[39;00m\n\u001b[1;32m     13\u001b[0m \u001b[38;5;124;03m    \"\"\"\u001b[39;00m\n\u001b[1;32m     14\u001b[0m     os\u001b[38;5;241m.\u001b[39mmakedirs(output_folder, exist_ok\u001b[38;5;241m=\u001b[39m\u001b[38;5;28;01mTrue\u001b[39;00m)\n\u001b[1;32m     16\u001b[0m     \u001b[38;5;28;01mfor\u001b[39;00m filename \u001b[38;5;129;01min\u001b[39;00m os\u001b[38;5;241m.\u001b[39mlistdir(source_folder):\n",
      "\u001b[0;31mNameError\u001b[0m: name 'AudioSegment' is not defined"
     ]
    }
   ],
   "source": [
    "resample_audio(dataset_path, output_path)"
   ]
  },
  {
   "cell_type": "code",
   "execution_count": null,
   "id": "e6b8d0ac",
   "metadata": {},
   "outputs": [],
   "source": []
  }
 ],
 "metadata": {
  "kernelspec": {
   "display_name": "stt-breton",
   "language": "python",
   "name": "python3"
  },
  "language_info": {
   "codemirror_mode": {
    "name": "ipython",
    "version": 3
   },
   "file_extension": ".py",
   "mimetype": "text/x-python",
   "name": "python",
   "nbconvert_exporter": "python",
   "pygments_lexer": "ipython3",
   "version": "3.10.16"
  }
 },
 "nbformat": 4,
 "nbformat_minor": 5
}
