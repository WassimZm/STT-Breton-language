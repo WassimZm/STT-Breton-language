{
 "cells": [
  {
   "cell_type": "code",
   "execution_count": 1,
   "id": "74cc39bf",
   "metadata": {},
   "outputs": [],
   "source": [
    "import os\n",
    "import wave\n",
    "import json\n",
    "import jiwer\n",
    "import audio\n",
    "\n",
    "import sys\n",
    "\n",
    "import whisper"
   ]
  },
  {
   "cell_type": "code",
   "execution_count": 2,
   "id": "fed700c2",
   "metadata": {},
   "outputs": [],
   "source": [
    "import pandas as pd"
   ]
  },
  {
   "cell_type": "code",
   "execution_count": 4,
   "id": "e4e74a2f",
   "metadata": {},
   "outputs": [],
   "source": [
    "# Login using e.g. `huggingface-cli login` to access this dataset\n",
    "df = pd.read_parquet(\"/home/ouassim/Downloads/0000.parquet\",columns=[\"br\",\"fr\",\"city\"])\n",
    "# df = pd.read_parquet(\"/home/wazemour/Stage-Breton/Data/Banque sonore des Dialectes Bretonnes/0000.parquet\",columns=[\"br\",\"fr\",\"city\"])"
   ]
  },
  {
   "cell_type": "code",
   "execution_count": 5,
   "id": "51119bd8",
   "metadata": {},
   "outputs": [],
   "source": [
    "def fix_row(row):\n",
    "    if 'peurunvan :' in row['fr']:\n",
    "        # Extract Breton text after \"peurunvan :\"\n",
    "        new_text = row['fr'].split('peurunvan :', 1)[1].strip()\n",
    "        # Replace both Br and Fr columns with this new_text\n",
    "        row['br'] = new_text\n",
    "        row['fr'] = new_text\n",
    "    return row\n",
    "\n",
    "df = df.apply(fix_row, axis=1)"
   ]
  },
  {
   "cell_type": "code",
   "execution_count": 6,
   "id": "94c651c9",
   "metadata": {},
   "outputs": [
    {
     "data": {
      "application/vnd.microsoft.datawrangler.viewer.v0+json": {
       "columns": [
        {
         "name": "index",
         "rawType": "int64",
         "type": "integer"
        },
        {
         "name": "br",
         "rawType": "object",
         "type": "string"
        },
        {
         "name": "fr",
         "rawType": "object",
         "type": "string"
        },
        {
         "name": "city",
         "rawType": "object",
         "type": "string"
        }
       ],
       "ref": "2ae71915-5a39-4007-ab75-d88dff81fd93",
       "rows": [
        [
         "0",
         "Pell zo n'eo ket o welet ac'hanon.",
         "Ça fait longtemps qu'il n'est pas venu me voir.",
         "22107"
        ],
        [
         "1",
         "N'oc'h ket bet pell zo o welet ac'hanon.",
         "Vous n'êtes pas venus me voir depuis longtemps.",
         "22107"
        ],
        [
         "2",
         "Pell zo n'eo ket bet o welet ac'hanon.",
         "Ça fait longtemps qu'il n'est pas venu me voir.",
         "22107"
        ],
        [
         "3",
         "Ma... ma zi ne vo ket gwerzhet.",
         "Ma... ma maison ne sera pas vendue.",
         "22107"
        ],
        [
         "4",
         "Hon... hon ti ne vo ket gwerzhet.",
         "Notre... notre maison ne sera pas vendue.",
         "22107"
        ],
        [
         "5",
         "Me am eus... me am eus afer da lavaret un dra-bennak deoc'h.",
         "J'ai... j'ai besoin de te dire quelque chose.",
         "22107"
        ],
        [
         "6",
         "N'an ket da vale d'ar c'h-... Koad ar Forj.",
         "Je ne vais pas me promener dans la F-... Forêt de Quénécan.",
         "22107"
        ],
        [
         "7",
         "N'an ket ma unan da... vale da Goad ar Forj.",
         "Je ne vais pas toute seule me... promener dans la Forêt de Quénécan.",
         "22107"
        ],
        [
         "8",
         "E hini zo gwelloc'h evit ma hini.",
         "Le sien est mieux que le mien.",
         "22107"
        ],
        [
         "9",
         "N'eo ket mad.",
         "Ce n'est pas bon.",
         "22107"
        ],
        [
         "10",
         "Ma zad zo skuizh hiziv.",
         "Mon père est fatigué aujourd'hui.",
         "22107"
        ],
        [
         "11",
         "Bout zo saout er park.",
         "Il y a des vaches dans le champ.",
         "22107"
        ],
        [
         "12",
         "Bout zo... bout zo saout er park.",
         "Il y a... il y a des vaches dans le champ.",
         "22107"
        ],
        [
         "13",
         "N'eus ket deñved e-barzh er park ken.",
         "Il n'y a plus de moutons dans le champ.",
         "22107"
        ],
        [
         "14",
         "N'eus ket deñved e-barzh er park ken.",
         "Il n'y a plus de moutons dans le champ.",
         "22107"
        ],
        [
         "15",
         "Ar paotr-se ne blij ket din.",
         "Ce garçon ne me plaît pas.",
         "22107"
        ],
        [
         "16",
         "Me am eus droug-kof pa zebrañ kaol.",
         "J'ai mal au ventre quand je mange du chou.",
         "22107"
        ],
        [
         "17",
         "Me am eus... me am eus drouk-kozh... -kof pa zebrañ kaol.",
         "J'ai... j'ai mal de vieux... au ventre quand je mange du chou.",
         "22107"
        ],
        [
         "18",
         "E-men ema ar skeul ?",
         "Où est l'échelle ?",
         "22107"
        ],
        [
         "19",
         "Ma breur en deus lakaet anezhi e-kos-... e-kos-... e-kostez an ti.",
         "Mon frère l'a mise c-... c-... contre la maison.",
         "22107"
        ],
        [
         "20",
         "Ma breur en deus lakaet anezhi e-kostez an ti.",
         "Mon frère l'a mise contre la maison.",
         "22107"
        ],
        [
         "21",
         "Deuet on gantañ.",
         "Je suis venue avec lui.",
         "22107"
        ],
        [
         "22",
         "Deuet on ganti.",
         "Je suis venue avec elle.",
         "22107"
        ],
        [
         "23",
         "Deuet on ganti.",
         "Je suis venue avec elle.",
         "22107"
        ],
        [
         "24",
         "Deuet on ganeoc'h.",
         "Je suis venue avec toi.",
         "22107"
        ],
        [
         "25",
         "Ober a ra tommoc'h war-lerc'h kreisteiz evit h-... evit hi-... evit ar mintin-mañ.",
         "Il fait plus chaud après midi que... que... que ce matin.",
         "22107"
        ],
        [
         "26",
         "Ober a ra tommoc'h war-lerc'h kreisteiz evit ar mintin-mañ.",
         "Il fait plus chaud après midi que ce matin.",
         "22107"
        ],
        [
         "27",
         "Yenoc'h eo bremañ evit a beure.",
         "Il fait plus froid maintenant que ce matin.",
         "22107"
        ],
        [
         "28",
         "Yenoc'h eo bremañ evit a beure.",
         "Il fait plus froid maintenant que ce matin.",
         "22107"
        ],
        [
         "29",
         "Bremañ ec'h an da vale d'ar... d'ar c'hoad.",
         "Maintenant je vais me promener dans... dans le bois.",
         "22107"
        ],
        [
         "30",
         "Bremañ ec'h an da vale d'ar c'hoadoù.",
         "Maintenant je vais me promener dans les bois.",
         "22107"
        ],
        [
         "31",
         "Droug am eus e ma diouc'har, n'on ket ken evit kerzhal.",
         "J'ai mal aux jambes, je ne peux plus marcher.",
         "22107"
        ],
        [
         "32",
         "Ema oc'h angellat... oc'h angellat... er rivier.",
         "Il est en train de nager... de nager... dans la rivière.",
         "22107"
        ],
        [
         "33",
         "Ema oc'h angellat er rivier.",
         "Il est en train de nager dans la rivière.",
         "22107"
        ],
        [
         "34",
         "Me am eus ur porc'hell. Me a gaso anezhañ da Rostrenenn warc'hoazh da... da... da werhzañ.",
         "J'ai un cochon. Je l'enverrai à Rostrenen demain pour... pour... pour le vendre.",
         "22107"
        ],
        [
         "35",
         "He mamm a oa matezh e Kergarreg.",
         "Sa mère était servante à Kergarrec.",
         "22107"
        ],
        [
         "36",
         "Red eo din mont kuit, ma zad-kozh zo o c'hortoz ac'hanon er gêr.",
         "Je dois partir, mon grand-père est en train de m'attendre à la maison.",
         "22107"
        ],
        [
         "37",
         "Ma rastell zo drailhet.",
         "Mon râteau est cassé.",
         "22107"
        ],
        [
         "38",
         "Ho rastell zo drailhet.",
         "Votre râteau est cassé.",
         "22107"
        ],
        [
         "39",
         "E loened zo oc'h evañ dour e-barzh er rivier.",
         "Ses bêtes sont en train de boire de l'eau dans la rivière.",
         "22107"
        ],
        [
         "40",
         "Ho loened zo oc'h evañ dour er rivier.",
         "Vos bêtes sont en train de boire de l'eau dans la rivière.",
         "22107"
        ],
        [
         "41",
         "Petra eo hennezh ?",
         "Qu'est-ce que c'est que celui-là ?",
         "22107"
        ],
        [
         "42",
         "raden.",
         "des fougères.",
         "22107"
        ],
        [
         "43",
         "Re a zour zo d'ar... d'ar goañv.",
         "Il y a trop d'eau en... en hiver.",
         "22107"
        ],
        [
         "44",
         "N'omp ket evit sailhañ... ar... ar rigol.",
         "Nous ne pouvons pas sauter... le... le ruisseau.",
         "22107"
        ],
        [
         "45",
         "sailhañ",
         "sauter",
         "22107"
        ],
        [
         "46",
         "N'eus ket ken kemener evit ober dilhad.",
         "Il n'y a plus de tailleur pour faire des habits.",
         "22107"
        ],
        [
         "47",
         "Hiziv ema brav... brav an amzer.",
         "Aujourd'hui il fait beau... le temps est beau.",
         "22107"
        ],
        [
         "48",
         "Bout zo ur bern merien e ma... e... e ma sukr.",
         "Il y a plein de fourmis dans mon... dans... dans mon sucre.",
         "22107"
        ],
        [
         "49",
         "Bout... bout zo ur bern melien e-barzh e ma sukr.",
         "Il y a... il y a plein de fourmis dans mon sucre.",
         "22107"
        ]
       ],
       "shape": {
        "columns": 3,
        "rows": 7291
       }
      },
      "text/html": [
       "<div>\n",
       "<style scoped>\n",
       "    .dataframe tbody tr th:only-of-type {\n",
       "        vertical-align: middle;\n",
       "    }\n",
       "\n",
       "    .dataframe tbody tr th {\n",
       "        vertical-align: top;\n",
       "    }\n",
       "\n",
       "    .dataframe thead th {\n",
       "        text-align: right;\n",
       "    }\n",
       "</style>\n",
       "<table border=\"1\" class=\"dataframe\">\n",
       "  <thead>\n",
       "    <tr style=\"text-align: right;\">\n",
       "      <th></th>\n",
       "      <th>br</th>\n",
       "      <th>fr</th>\n",
       "      <th>city</th>\n",
       "    </tr>\n",
       "  </thead>\n",
       "  <tbody>\n",
       "    <tr>\n",
       "      <th>0</th>\n",
       "      <td>Pell zo n'eo ket o welet ac'hanon.</td>\n",
       "      <td>Ça fait longtemps qu'il n'est pas venu me voir.</td>\n",
       "      <td>22107</td>\n",
       "    </tr>\n",
       "    <tr>\n",
       "      <th>1</th>\n",
       "      <td>N'oc'h ket bet pell zo o welet ac'hanon.</td>\n",
       "      <td>Vous n'êtes pas venus me voir depuis longtemps.</td>\n",
       "      <td>22107</td>\n",
       "    </tr>\n",
       "    <tr>\n",
       "      <th>2</th>\n",
       "      <td>Pell zo n'eo ket bet o welet ac'hanon.</td>\n",
       "      <td>Ça fait longtemps qu'il n'est pas venu me voir.</td>\n",
       "      <td>22107</td>\n",
       "    </tr>\n",
       "    <tr>\n",
       "      <th>3</th>\n",
       "      <td>Ma... ma zi ne vo ket gwerzhet.</td>\n",
       "      <td>Ma... ma maison ne sera pas vendue.</td>\n",
       "      <td>22107</td>\n",
       "    </tr>\n",
       "    <tr>\n",
       "      <th>4</th>\n",
       "      <td>Hon... hon ti ne vo ket gwerzhet.</td>\n",
       "      <td>Notre... notre maison ne sera pas vendue.</td>\n",
       "      <td>22107</td>\n",
       "    </tr>\n",
       "    <tr>\n",
       "      <th>...</th>\n",
       "      <td>...</td>\n",
       "      <td>...</td>\n",
       "      <td>...</td>\n",
       "    </tr>\n",
       "    <tr>\n",
       "      <th>7286</th>\n",
       "      <td>Ne zeue ket ag ar vro Kemper. Ne zeue ket ag a...</td>\n",
       "      <td>Il ne venait pas du pays de Quimper. Il ne ven...</td>\n",
       "      <td>56247</td>\n",
       "    </tr>\n",
       "    <tr>\n",
       "      <th>7287</th>\n",
       "      <td>Bout a oa linad razh d'en-dro ar feunteun. Bou...</td>\n",
       "      <td>Il y avait des orties tout autour de la fontai...</td>\n",
       "      <td>56247</td>\n",
       "    </tr>\n",
       "    <tr>\n",
       "      <th>7288</th>\n",
       "      <td>Ne oa ket aes o zennañ.</td>\n",
       "      <td>Ce n'était pas facile de les arracher.</td>\n",
       "      <td>56247</td>\n",
       "    </tr>\n",
       "    <tr>\n",
       "      <th>7289</th>\n",
       "      <td>Ne oa ket aes o zennañ.</td>\n",
       "      <td>Ce n'était pas facile de les arracher.</td>\n",
       "      <td>56247</td>\n",
       "    </tr>\n",
       "    <tr>\n",
       "      <th>7290</th>\n",
       "      <td>Bout a o gweler lies o, o pousiñ e-tal ar feun...</td>\n",
       "      <td>On les voit souvent pousser près de la fontain...</td>\n",
       "      <td>56247</td>\n",
       "    </tr>\n",
       "  </tbody>\n",
       "</table>\n",
       "<p>7291 rows × 3 columns</p>\n",
       "</div>"
      ],
      "text/plain": [
       "                                                     br  \\\n",
       "0                    Pell zo n'eo ket o welet ac'hanon.   \n",
       "1              N'oc'h ket bet pell zo o welet ac'hanon.   \n",
       "2                Pell zo n'eo ket bet o welet ac'hanon.   \n",
       "3                       Ma... ma zi ne vo ket gwerzhet.   \n",
       "4                     Hon... hon ti ne vo ket gwerzhet.   \n",
       "...                                                 ...   \n",
       "7286  Ne zeue ket ag ar vro Kemper. Ne zeue ket ag a...   \n",
       "7287  Bout a oa linad razh d'en-dro ar feunteun. Bou...   \n",
       "7288                            Ne oa ket aes o zennañ.   \n",
       "7289                            Ne oa ket aes o zennañ.   \n",
       "7290  Bout a o gweler lies o, o pousiñ e-tal ar feun...   \n",
       "\n",
       "                                                     fr   city  \n",
       "0       Ça fait longtemps qu'il n'est pas venu me voir.  22107  \n",
       "1       Vous n'êtes pas venus me voir depuis longtemps.  22107  \n",
       "2       Ça fait longtemps qu'il n'est pas venu me voir.  22107  \n",
       "3                   Ma... ma maison ne sera pas vendue.  22107  \n",
       "4             Notre... notre maison ne sera pas vendue.  22107  \n",
       "...                                                 ...    ...  \n",
       "7286  Il ne venait pas du pays de Quimper. Il ne ven...  56247  \n",
       "7287  Il y avait des orties tout autour de la fontai...  56247  \n",
       "7288             Ce n'était pas facile de les arracher.  56247  \n",
       "7289             Ce n'était pas facile de les arracher.  56247  \n",
       "7290  On les voit souvent pousser près de la fontain...  56247  \n",
       "\n",
       "[7291 rows x 3 columns]"
      ]
     },
     "execution_count": 6,
     "metadata": {},
     "output_type": "execute_result"
    }
   ],
   "source": [
    "df"
   ]
  },
  {
   "cell_type": "code",
   "execution_count": 7,
   "id": "a9c9d16d",
   "metadata": {},
   "outputs": [],
   "source": [
    "# dataset_path = \"/home/wazemour/Stage-Breton/Data/Banque sonore des Dialectes Bretonnes/Audio/Audio\"\n",
    "dataset_path = \"/home/ouassim/Desktop/ss/stage/Data/Banque sonore des Dialectes Bretonnes/Audio/Audio\""
   ]
  },
  {
   "cell_type": "code",
   "execution_count": 9,
   "id": "4f893d71",
   "metadata": {},
   "outputs": [],
   "source": [
    "model = whisper.load_model(\"small\")"
   ]
  },
  {
   "cell_type": "code",
   "execution_count": 11,
   "id": "d69ad2e0",
   "metadata": {},
   "outputs": [],
   "source": [
    "\n",
    "from load_ground_truth import load_ground_truth_dict\n",
    "\n",
    "from transcriber import transcribe_audio\n",
    "\n",
    "from evaluate_wer_cer import evaluate_wer_cer"
   ]
  },
  {
   "cell_type": "code",
   "execution_count": 12,
   "id": "26edfb57",
   "metadata": {},
   "outputs": [],
   "source": [
    "def generate_transcription(row):\n",
    "    file_id = row['file']\n",
    "    utt_name = f\"utt_{file_id:05d}.wav\"\n",
    "    full_path = os.path.join(dataset_path, utt_name)\n",
    "    return transcribe_audio(full_path, model)"
   ]
  },
  {
   "cell_type": "code",
   "execution_count": 25,
   "id": "7e37246d",
   "metadata": {},
   "outputs": [
    {
     "data": {
      "application/vnd.microsoft.datawrangler.viewer.v0+json": {
       "columns": [
        {
         "name": "index",
         "rawType": "int64",
         "type": "integer"
        },
        {
         "name": "br",
         "rawType": "object",
         "type": "string"
        },
        {
         "name": "fr",
         "rawType": "object",
         "type": "string"
        },
        {
         "name": "city",
         "rawType": "object",
         "type": "string"
        },
        {
         "name": "file",
         "rawType": "int64",
         "type": "integer"
        }
       ],
       "ref": "ff9211db-b54a-4a06-b6c8-a61f79a3a840",
       "rows": [
        [
         "1057",
         "ur c'harzh",
         "une haie",
         "29032",
         "1057"
        ],
        [
         "2654",
         "Mari zo deuet a-benn enno antronoz.",
         "Marie est venue vers eux le lendemain.",
         "29168",
         "2654"
        ],
        [
         "4401",
         "An amzer gwechall, ne oa... ne oa ket, eu... ne oa ket memes mod.",
         "Autrefois, c'était... c'était, euh... ça n'était pas pareil.",
         "29230",
         "4401"
        ],
        [
         "5843",
         "Piv zo bet o troc'hiñ ar wezenn ?",
         "Qui a coupé l'arbre ?",
         "29293",
         "5843"
        ],
        [
         "7177",
         "Pa oufemp ar wirionez, n'he lavarfemp ket.",
         "Si nous savions la vérité, nous ne la dirions pas.",
         "56175",
         "7177"
        ],
        [
         "3805",
         "Int zo o joentrañ ar mein e-barzh ar vur.",
         "Ils sont en train de joindre les pierres du mur.",
         "29230",
         "3805"
        ],
        [
         "3961",
         "A-benn em eus labouret em eus gounezet ma fae.",
         "Quand j'ai travaillé, j'ai gagné ma paie.",
         "29230",
         "3961"
        ],
        [
         "6147",
         "Un amzer zo bet, eu, dour ar feunteun a rede e-barzh ar prad.",
         "Fut un temps, euh, l'eau de la fontaine coulait dans la prairie.",
         "56057",
         "6147"
        ],
        [
         "3551",
         "A-wechoù em eus poan-benn diouzh ar pardaez.",
         "Parfois j'ai mal à la tête le soir.",
         "29180",
         "3551"
        ],
        [
         "2413",
         "gris loued",
         "bleu grisonnant",
         "29153",
         "2413"
        ],
        [
         "185",
         "A-vuzul e kosha, e teu muioc'h a spered dezhañ.",
         "Plus il vieillit, plus il devient intelligent.",
         "22167",
         "185"
        ],
        [
         "1221",
         "Ah, ar glesker a oa bet kuzhet marteze e-barzh ar c'holi ? n'ouzon ket ; boñ, amañ emañ tout an dud bremañ neuze, bez' emañ ar mous, bez' emañ ar glesker bihan, hag an hini vras, fougeet ivez, an tortu hag ar c'hi, ar c'hi zo da, ar c'hi n'en deus ket an aer bezañ gwall seder anezhañ, marteze ar c'hi n'en deus ket bet netra, n'ouzon ket.",
         "Ah, ar glesker a oa bet kuzhet marteze e-barzh ar c'holi ? n'ouzon ket ; boñ, amañ emañ tout an dud bremañ neuze, bez' emañ ar mous, bez' emañ ar glesker bihan, hag an hini vras, fougeet ivez, an tortu hag ar c'hi, ar c'hi zo da, ar c'hi n'en deus ket an aer bezañ gwall seder anezhañ, marteze ar c'hi n'en deus ket bet netra, n'ouzon ket.",
         "29122",
         "1221"
        ],
        [
         "61",
         "Evit Gouel an Ollzent ar bloaz tremenet, ec'h oa muioc'h a... a bokedoù er... er vered... evit ar bloaz-mañ.",
         "À la Toussaint l'année dernière, il y avait plus de... de fleurs au... au cimetière... que cette année.",
         "22107",
         "61"
        ],
        [
         "2328",
         "Te zo bet o teskiñ debriñ korriged e-barzh bro ar Mokoied¹ !",
         "Te zo bet o teskiñ debriñ korriged e-barzh bro ar Mokoied¹ !",
         "29150",
         "2328"
        ],
        [
         "6524",
         "Me a lavarfe, me a lavarfe, bremañ, me a wel anezho evel rouanezed, ha ur seurt ne chomont ket, war ar maez !",
         "Me a lavarfe, me a lavarfe, bremañ, me a wel anezho evel rouanezed, ha ur seurt ne chomont ket, war ar maez !",
         "56089",
         "6524"
        ],
        [
         "6082",
         "Ah mes, e-barzh amañ ez omp e-barzh Goured al Lojoù ;<br/>hag, e-barzh aze, dreist ar, vardell-se zo, zo un espes lenn ivez kar, ar stêr a lenn kwa ;<br/>an hini kaoz e-barzh-amañ e oa ul lec'h neuze, e-barzh an tu all evit lakaat kizelloù, gwel-, gwelet e vez ar, ar vur heñ ;<br/> mes bout zo euh, bout zo ur goured, ne welit ket, ar goured euh a base etre, etre an daou biler ;<br/>an hini kaoz hennezh, aze e veze lakaet kizelloù, gwel-, gwelet a vez heñ ;<br/>kaoz ar c'hizelloù a veze staget ouzh euh, ouzh ar voger kwa, ouzh, ouzh ar murioù kwa, hag hennezh a oa ul lec'h evit tapout silioù a-font ;<br/>hennezh zo bet evel-se ha, hag unan seurt-se zo c'hoazh, a-benn euh, pa erruit izeloc'h evit Milin Poulhibed du-se zo unan seurt-se c'hoazh, ur, mes n'eo ket e-barzh ar memes model, eñ zo plomoc'h kwa, hag e oa tout ar re-se a oa graet a-espres evit la-, evit tapout silioù.",
         "Ah mes, e-barzh amañ ez omp e-barzh Goured al Lojoù ;<br/>hag, e-barzh aze, dreist ar, vardell-se zo, zo un espes lenn ivez kar, ar stêr a lenn kwa ;<br/>an hini kaoz e-barzh-amañ e oa ul lec'h neuze, e-barzh an tu all evit lakaat kizelloù, gwel-, gwelet e vez ar, ar vur heñ ;<br/> mes bout zo euh, bout zo ur goured, ne welit ket, ar goured euh a base etre, etre an daou biler ;<br/>an hini kaoz hennezh, aze e veze lakaet kizelloù, gwel-, gwelet a vez heñ ;<br/>kaoz ar c'hizelloù a veze staget ouzh euh, ouzh ar voger kwa, ouzh, ouzh ar murioù kwa, hag hennezh a oa ul lec'h evit tapout silioù a-font ;<br/>hennezh zo bet evel-se ha, hag unan seurt-se zo c'hoazh, a-benn euh, pa erruit izeloc'h evit Milin Poulhibed du-se zo unan seurt-se c'hoazh, ur, mes n'eo ket e-barzh ar memes model, eñ zo plomoc'h kwa, hag e oa tout ar re-se a oa graet a-espres evit la-, evit tapout silioù.",
         "56014",
         "6082"
        ],
        [
         "3934",
         "Ma breur zo ganet tri bloaz war o lerc'h.",
         "Mon frère est né 3 ans après eux.",
         "29230",
         "3934"
        ],
        [
         "4128",
         "Un amzer zo bet, ni n'ajemp ket d'ar skol d'ar yaou.",
         "Autrefois, nous n'allions pas à l'école le jeudi.",
         "29230",
         "4128"
        ],
        [
         "2344",
         "Eu, me am eus soñj, a-benn e oan e-barzh... a-benn e oan yaouank... ha krennbaotr memes... lar, eu... an devezh, eu, Gouel, eu... Nedeleg, eh beñ, e yae an traoù da... an oferenn hanter-noz ha neuze, eu... pa veze, eu... deuet an dud d'ar gêr, beñ, e veze degaset, eu... ur vriochenn, a-wechoù, un aval-orañj pe... a-wechoù e veze degaset ivez ur mabig Jezuz, un tammig, eu... gant... graet gant sukr ha neuze, eu... an dra-se e oa... dija un dra... \"un dra gaer\" e veze lavaret ! Ha neuze da... da vintin, te a gave an dra-se tout e-barzh da votez-koad, kar pa... a-benn e oa... da... d'an devezh a-raok, te az poa naetaet, e veze lavaret dit :<br/>\"Ah paotr ! Te ema dav dit naetaat da vo-... da voutoù-lêr pe da... da voutoù-koad, surtout boutoù-koad, dav(?) kaout anezhe prop, lakaat un tammig plouz fresk e-barzh anezhe ha neuze, eu... a-benn warc'hoazh vitin, beñ, eu... e vo... marteze, eu... e vo d-... e kavi un dra-bennak e-barzh da... e-barzh da votez-koad, kwa.\"<br/>Ha neuze, eu... boñ beñ... alies, eu... dija atav memes e veze kavet, eu... hag an dra-se a oa un dra gaer... lar... evit ur c'hrouadur da welet... da gaout an dra-se e-barzh e votez-koad. Hag an dra-se a oa e-barzh... met... a-hend-all... ha neuze, eu... d'an devezh, eu... e veze graet un tammig, eu... mañjer, eu... eu, gwelloc'h a-wechoù evit, eu... an devezhioù-all. E veze lakeet ur yar pe ur c'hog da boazhañ ha neuze, eu... e veze kavet ar soubenn d'ober un daou pe dri devezh war-lerc'h... ah... an dra-se a oa... an dra-se a oa dija ur fest ! Ya...",
         "Eu, me am eus soñj, a-benn e oan e-barzh... a-benn e oan yaouank... ha krennbaotr memes... lar, eu... an devezh, eu, Gouel, eu... Nedeleg, eh beñ, e yae an traoù da... an oferenn hanter-noz ha neuze, eu... pa veze, eu... deuet an dud d'ar gêr, beñ, e veze degaset, eu... ur vriochenn, a-wechoù, un aval-orañj pe... a-wechoù e veze degaset ivez ur mabig Jezuz, un tammig, eu... gant... graet gant sukr ha neuze, eu... an dra-se e oa... dija un dra... \"un dra gaer\" e veze lavaret ! Ha neuze da... da vintin, te a gave an dra-se tout e-barzh da votez-koad, kar pa... a-benn e oa... da... d'an devezh a-raok, te az poa naetaet, e veze lavaret dit :<br/>\"Ah paotr ! Te ema dav dit naetaat da vo-... da voutoù-lêr pe da... da voutoù-koad, surtout boutoù-koad, dav(?) kaout anezhe prop, lakaat un tammig plouz fresk e-barzh anezhe ha neuze, eu... a-benn warc'hoazh vitin, beñ, eu... e vo... marteze, eu... e vo d-... e kavi un dra-bennak e-barzh da... e-barzh da votez-koad, kwa.\"<br/>Ha neuze, eu... boñ beñ... alies, eu... dija atav memes e veze kavet, eu... hag an dra-se a oa un dra gaer... lar... evit ur c'hrouadur da welet... da gaout an dra-se e-barzh e votez-koad. Hag an dra-se a oa e-barzh... met... a-hend-all... ha neuze, eu... d'an devezh, eu... e veze graet un tammig, eu... mañjer, eu... eu, gwelloc'h a-wechoù evit, eu... an devezhioù-all. E veze lakeet ur yar pe ur c'hog da boazhañ ha neuze, eu... e veze kavet ar soubenn d'ober un daou pe dri devezh war-lerc'h... ah... an dra-se a oa... an dra-se a oa dija ur fest ! Ya...",
         "29153",
         "2344"
        ],
        [
         "6771",
         "Tuet d'an douar ur seurt, ne oamp ket heu, ne oamp ket pesketaerien heu, ni a oa...",
         "Tournés vers la terre quand même, nous n'étions pas heu, nous n'étions pas des pêcheurs heu, nous étions...",
         "56094",
         "6771"
        ],
        [
         "4539",
         "Eu, an uioù-se zo dozvet gant ma yar wenn.",
         "Euh, ces oeufs-là ont été pondus par ma poule blanche.",
         "29230",
         "4539"
        ],
        [
         "544",
         "Al levrioù-mañ zo ker, pegement eo ar re-se ?",
         "Ces livres-ci sont chers, combien coûtent ceux-là ?",
         "22331",
         "544"
        ],
        [
         "3647",
         "Ar bal zo aet a-dreuz kaer.",
         "La pelle a fini toute tordue.",
         "29230",
         "3647"
        ],
        [
         "1670",
         "Me zo o vont da skubañ ma zi a-benn e vi aet kuit.",
         "Je vais balayer ma maison quand tu seras parti.",
         "29150",
         "1670"
        ],
        [
         "1465",
         "Ah... te az peus troc'het un tamm da lakaat aze, a-gaoz e oan o vont da lavar, n'ema ket staget tu ebet anezhañ !",
         "Ah... te az peus troc'het un tamm da lakaat aze, a-gaoz e oan o vont da lavar, n'ema ket staget tu ebet anezhañ !",
         "29150",
         "1465"
        ],
        [
         "3463",
         "Euh, euh, ouzh ouzh o favioù ? Ya, e veze lakaet ul, ul, ul liver. Petra a vez lavaret eus an dra-se e, e galleg ?",
         "Euh, euh, ouzh ouzh o favioù ? Ya, e veze lakaet ul, ul, ul liver. Petra a vez lavaret eus an dra-se e, e galleg ?",
         "29168",
         "3463"
        ],
        [
         "2778",
         "Pa yaen da welet va breur-kaer, eñv a gonte din istorioù eus... les... diouzh al lutin.",
         "Quand j'allais voir mon beau-frère, il me racontait des histoires de lutins.",
         "29168",
         "2778"
        ],
        [
         "2492",
         "N'eus ket e-leizh bugale hag a oa brezhoneg.",
         "Il n'y a pas beaucoup d'enfants qui savent le breton.",
         "29153",
         "2492"
        ],
        [
         "6966",
         "Ki ivez, un amzer ki a ve bet lavaret, ya. Fall amzer peotramant un amzer ki.",
         "Ki ivez, un amzer ki a ve bet lavaret, ya. Fall amzer peotramant un amzer ki.",
         "56116",
         "6966"
        ],
        [
         "4666",
         "N'ho peus ket graet ar pezh am boa lavaret deoc'h.",
         "Vous n'avez pas fait ce que je vous avais dit.",
         "29236",
         "4666"
        ],
        [
         "994",
         "Muioc'h a dud e oant dec'h e-barzh an overenn.",
         "Ils étaient plus de monde hier à la messe.",
         "29032",
         "994"
        ],
        [
         "7118",
         "Ar voazined zo deuet d'ober an dornerezh.",
         "Les voisins sont venus faire le battage.",
         "56175",
         "7118"
        ],
        [
         "4011",
         "Dec'h, ni hor boa gwelet e vreur gantañ.",
         "Hier, nous avions vu son frère avec lui.",
         "29230",
         "4011"
        ],
        [
         "177",
         "Dont a rehet, da ma gwel (gwelet), a-benn ur miz ac'hann-amañ.",
         "Tu viendras me voir dans un mois.",
         "22167",
         "177"
        ],
        [
         "1737",
         "Gra ur bouch din !",
         "Fais-moi un bisou !",
         "29150",
         "1737"
        ],
        [
         "1615",
         "Eu... oui, ya... me zo o vont da lavar dit lar me am eus, eu... ur c'hou-... ur c'houzeñ jermen da ma mamm... hag, eu... zo bet lazhet... e oa kouezhet... kouezhet ar... ar wern hag a oa ar vizan dalc'h diouti hag ar... ar wern zo kouezhet hag he deus lazhet °na-... ar paotr yaouank, war-c'horre ar vag.",
         "Eu... oui, ya... me zo o vont da lavar dit lar me am eus, eu... ur c'hou-... ur c'houzeñ jermen da ma mamm... hag, eu... zo bet lazhet... e oa kouezhet... kouezhet ar... ar wern hag a oa ar vizan dalc'h diouti hag ar... ar wern zo kouezhet hag he deus lazhet °na-... ar paotr yaouank, war-c'horre ar vag.",
         "29150",
         "1615"
        ],
        [
         "4700",
         "An dra-se zo lavaret \"payer cash\", paeet diouzhtu, kwa. Hag an arc'hant war ar peul. Abalamour gwechall, pa'z eer d'ar foar gant ur marc'h pe ur vuoc'h, e veze plantet peulioù deomp gant... tud... gant... kantonierien kêr, kwa, a lakae peulioù hag e veze staget ar marc'h pe a... setu, e veze kontet an arc'hant war ar peul peogwir ne oa taol ebet. Ya, e veze kountet war ar peul a dalveze da stagañ ar marc'h pe ar vuoc'h, eo war ar peul-se a oa plat ar penn e veze kontet ar gwenneien war-gorre... pa veze prenet ur vuoc'h.",
         "Cela se dit \"payer cash\", payé tout de suite, quoi. Et l'argent sur le pieu. Parce qu'autrefois, quand on allait à la foire avec un cheval ou une vache, les gens, les cantoniers municipaux nous plantaient des pieux, quoi. Ils mettaient des pieux et on attachait le cheval ou... ainsi, on comptait l'argent sur le pieu puisqu'il n'y avait aucune table. Oui, on comptait sur le pieu... qui servait à attacher le cheval ou la vache. C'est sur ce pieu-là dont ta tête était plate qu'on comptait les sous par-dessus... quand on achetait une vache.",
         "29239",
         "4700"
        ],
        [
         "877",
         "Kerzh d'azezañ war-c'horre ma gwele !",
         "Vas t'asseoir sur mon lit !",
         "29032",
         "877"
        ],
        [
         "263",
         "Ya, ar c'hezeg, ma vagec'h anezho mat, ar re-se a gerzhe mat.",
         "Ya, ar c'hezeg, ma vagec'h anezho mat, ar re-se a gerzhe mat.",
         "22181",
         "263"
        ],
        [
         "3206",
         "Pa gontoc'h an istor-se d'hoc'h eontr, eñ ne gredo ket ac'hanoc'h anezhañ.",
         "Quand vous raconterez cette histoire à votre oncle, il ne vous croira pas.",
         "29168",
         "3206"
        ],
        [
         "319",
         "E c'hoar zo demezet gant unan deus Plaeraneg.",
         "Sa soeur est mariée avec quelqu'un de Ploubazlanec.",
         "22230",
         "319"
        ],
        [
         "3768",
         "Ar paotrig bihan a oa e noazh.",
         "Le petit garçon était nu.",
         "29230",
         "3768"
        ],
        [
         "3439",
         "An dra-se n'em eus ket gwelet, eu, n'em eus ken klevet va mamm-gozh, eu, o rentañ din, eu, penaos e raent, kwa. Peogwir va mamm-gozh a oa diouzh Kerured hag e teue, eu... hag e veze aze gant, eu... peogwir e oa ur gazeg... peogwir e oa un... un... ur stal vihan ivez, e oa ur gazeg er gêr, setu e teue ivez, eu... hi ha neuze ar... ar re a-raok hi, eu, he zad, donc, da... beñ, d'ober ar bezhin. An dra-se, eu, a zikoure anezho ivez da gaout un tammig moneiz.",
         "An dra-se n'em eus ket gwelet, eu, n'em eus ken klevet va mamm-gozh, eu, o rentañ din, eu, penaos e raent, kwa. Peogwir va mamm-gozh a oa diouzh Kerured hag e teue, eu... hag e veze aze gant, eu... peogwir e oa ur gazeg... peogwir e oa un... un... ur stal vihan ivez, e oa ur gazeg er gêr, setu e teue ivez, eu... hi ha neuze ar... ar re a-raok hi, eu, he zad, donc, da... beñ, d'ober ar bezhin. An dra-se, eu, a zikoure anezho ivez da gaout un tammig moneiz.",
         "29168",
         "3439"
        ],
        [
         "5774",
         "Ar bedervet deus ar merc'hed... ar bedervet deus ar merc'hed.",
         "La quatrième des filles... la quatrième des filles.",
         "29293",
         "5774"
        ],
        [
         "1511",
         "Me... me a wel anezhe... petra int bremañ. Ha te... te a bouez warne, paf ! Te a dorr anezhe... bremañ... mes peseurt anv o deus, n'ouzon ket par exemple... mes ra... ni, ni a lavare bezhin kloc'hek oute : \"Kerzhit da gla-... kerzhit da... en em amuz-... d'ober jeu, ne vez ket lavaret en em amuz, kerzhit d'ober jeu gant bezhin kloc'hek du-se ! Petra emaoc'h oc'h ober aze, o lakaat ar bezhin kloc'hek da strakal ?\" Memes a-benn e oa... zo... zo heol mat, int... te a glev paf ! paf ! e vez... int... te a glev... te a glev... te a glev anezhe o tigeriñ.",
         "Me... me a wel anezhe... petra int bremañ. Ha te... te a bouez warne, paf ! Te a dorr anezhe... bremañ... mes peseurt anv o deus, n'ouzon ket par exemple... mes ra... ni, ni a lavare bezhin kloc'hek oute : \"Kerzhit da gla-... kerzhit da... en em amuz-... d'ober jeu, ne vez ket lavaret en em amuz, kerzhit d'ober jeu gant bezhin kloc'hek du-se ! Petra emaoc'h oc'h ober aze, o lakaat ar bezhin kloc'hek da strakal ?\" Memes a-benn e oa... zo... zo heol mat, int... te a glev paf ! paf ! e vez... int... te a glev... te a glev... te a glev anezhe o tigeriñ.",
         "29150",
         "1511"
        ],
        [
         "5484",
         "Mes pas peogwir te a dro anezhañ diouzhin atav !",
         "Mes pas peogwir te a dro anezhañ diouzhin atav !",
         "29293",
         "5484"
        ],
        [
         "3107",
         "Yann a oa azezet tost dezhañ.",
         "Yann était assis près de lui.",
         "29168",
         "3107"
        ],
        [
         "2543",
         "un alc'houez",
         "une clef",
         "29154",
         "2543"
        ],
        [
         "4100",
         "Bemnoz, ni hor boa naon.",
         "Tous les soirs, nous avions faim.",
         "29230",
         "4100"
        ],
        [
         "230",
         "Hi a end-eeune he zraoù e-barzh en he sakoch.",
         "Elle rangeait ses affaires dans son sac.",
         "22167",
         "230"
        ]
       ],
       "shape": {
        "columns": 4,
        "rows": 200
       }
      },
      "text/html": [
       "<div>\n",
       "<style scoped>\n",
       "    .dataframe tbody tr th:only-of-type {\n",
       "        vertical-align: middle;\n",
       "    }\n",
       "\n",
       "    .dataframe tbody tr th {\n",
       "        vertical-align: top;\n",
       "    }\n",
       "\n",
       "    .dataframe thead th {\n",
       "        text-align: right;\n",
       "    }\n",
       "</style>\n",
       "<table border=\"1\" class=\"dataframe\">\n",
       "  <thead>\n",
       "    <tr style=\"text-align: right;\">\n",
       "      <th></th>\n",
       "      <th>br</th>\n",
       "      <th>fr</th>\n",
       "      <th>city</th>\n",
       "      <th>file</th>\n",
       "    </tr>\n",
       "  </thead>\n",
       "  <tbody>\n",
       "    <tr>\n",
       "      <th>1057</th>\n",
       "      <td>ur c'harzh</td>\n",
       "      <td>une haie</td>\n",
       "      <td>29032</td>\n",
       "      <td>1057</td>\n",
       "    </tr>\n",
       "    <tr>\n",
       "      <th>2654</th>\n",
       "      <td>Mari zo deuet a-benn enno antronoz.</td>\n",
       "      <td>Marie est venue vers eux le lendemain.</td>\n",
       "      <td>29168</td>\n",
       "      <td>2654</td>\n",
       "    </tr>\n",
       "    <tr>\n",
       "      <th>4401</th>\n",
       "      <td>An amzer gwechall, ne oa... ne oa ket, eu... n...</td>\n",
       "      <td>Autrefois, c'était... c'était, euh... ça n'éta...</td>\n",
       "      <td>29230</td>\n",
       "      <td>4401</td>\n",
       "    </tr>\n",
       "    <tr>\n",
       "      <th>5843</th>\n",
       "      <td>Piv zo bet o troc'hiñ ar wezenn ?</td>\n",
       "      <td>Qui a coupé l'arbre ?</td>\n",
       "      <td>29293</td>\n",
       "      <td>5843</td>\n",
       "    </tr>\n",
       "    <tr>\n",
       "      <th>7177</th>\n",
       "      <td>Pa oufemp ar wirionez, n'he lavarfemp ket.</td>\n",
       "      <td>Si nous savions la vérité, nous ne la dirions ...</td>\n",
       "      <td>56175</td>\n",
       "      <td>7177</td>\n",
       "    </tr>\n",
       "    <tr>\n",
       "      <th>...</th>\n",
       "      <td>...</td>\n",
       "      <td>...</td>\n",
       "      <td>...</td>\n",
       "      <td>...</td>\n",
       "    </tr>\n",
       "    <tr>\n",
       "      <th>2925</th>\n",
       "      <td>War an hent am eus gwelet div vaouez.</td>\n",
       "      <td>Sur le chemin, j'ai vu deux femmes.</td>\n",
       "      <td>29168</td>\n",
       "      <td>2925</td>\n",
       "    </tr>\n",
       "    <tr>\n",
       "      <th>2251</th>\n",
       "      <td>Mes pegiz e ra ar re zo e-barzh... e-kostez......</td>\n",
       "      <td>Mes pegiz e ra ar re zo e-barzh... e-kostez......</td>\n",
       "      <td>29150</td>\n",
       "      <td>2251</td>\n",
       "    </tr>\n",
       "    <tr>\n",
       "      <th>5777</th>\n",
       "      <td>Ar bedervet deus e verc'hed zo aet da chom da ...</td>\n",
       "      <td>La quatrième de ses filles est allée habiter à...</td>\n",
       "      <td>29293</td>\n",
       "      <td>5777</td>\n",
       "    </tr>\n",
       "    <tr>\n",
       "      <th>6815</th>\n",
       "      <td>Kerzhet a ra ? Eñ... eñ a respont ? O, me a we...</td>\n",
       "      <td>Il fonctionne (ton appareil) ? Il... il répond...</td>\n",
       "      <td>56094</td>\n",
       "      <td>6815</td>\n",
       "    </tr>\n",
       "    <tr>\n",
       "      <th>6453</th>\n",
       "      <td>E brad-eñ ha, ne oa ket da zen mod arall nemet...</td>\n",
       "      <td>C'était son pré à lui et, il n'appartenait à p...</td>\n",
       "      <td>56089</td>\n",
       "      <td>6453</td>\n",
       "    </tr>\n",
       "  </tbody>\n",
       "</table>\n",
       "<p>200 rows × 4 columns</p>\n",
       "</div>"
      ],
      "text/plain": [
       "                                                     br  \\\n",
       "1057                                         ur c'harzh   \n",
       "2654                Mari zo deuet a-benn enno antronoz.   \n",
       "4401  An amzer gwechall, ne oa... ne oa ket, eu... n...   \n",
       "5843                  Piv zo bet o troc'hiñ ar wezenn ?   \n",
       "7177         Pa oufemp ar wirionez, n'he lavarfemp ket.   \n",
       "...                                                 ...   \n",
       "2925              War an hent am eus gwelet div vaouez.   \n",
       "2251  Mes pegiz e ra ar re zo e-barzh... e-kostez......   \n",
       "5777  Ar bedervet deus e verc'hed zo aet da chom da ...   \n",
       "6815  Kerzhet a ra ? Eñ... eñ a respont ? O, me a we...   \n",
       "6453  E brad-eñ ha, ne oa ket da zen mod arall nemet...   \n",
       "\n",
       "                                                     fr   city  file  \n",
       "1057                                           une haie  29032  1057  \n",
       "2654             Marie est venue vers eux le lendemain.  29168  2654  \n",
       "4401  Autrefois, c'était... c'était, euh... ça n'éta...  29230  4401  \n",
       "5843                              Qui a coupé l'arbre ?  29293  5843  \n",
       "7177  Si nous savions la vérité, nous ne la dirions ...  56175  7177  \n",
       "...                                                 ...    ...   ...  \n",
       "2925                Sur le chemin, j'ai vu deux femmes.  29168  2925  \n",
       "2251  Mes pegiz e ra ar re zo e-barzh... e-kostez......  29150  2251  \n",
       "5777  La quatrième de ses filles est allée habiter à...  29293  5777  \n",
       "6815  Il fonctionne (ton appareil) ? Il... il répond...  56094  6815  \n",
       "6453  C'était son pré à lui et, il n'appartenait à p...  56089  6453  \n",
       "\n",
       "[200 rows x 4 columns]"
      ]
     },
     "execution_count": 25,
     "metadata": {},
     "output_type": "execute_result"
    }
   ],
   "source": [
    "# If your DataFrame is called df\n",
    "small_df = df.sample(n=200, random_state=42)  # random_state makes it reproducible\n",
    "small_df"
   ]
  },
  {
   "cell_type": "code",
   "execution_count": 26,
   "id": "0e2d9326",
   "metadata": {},
   "outputs": [
    {
     "name": "stdout",
     "output_type": "stream",
     "text": [
      "Transcribing /home/ouassim/Desktop/ss/stage/Data/Banque sonore des Dialectes Bretonnes/Audio/Audio/utt_01057.wav...\n"
     ]
    },
    {
     "name": "stderr",
     "output_type": "stream",
     "text": [
      "/home/ouassim/anaconda3/envs/stt-breton/lib/python3.10/site-packages/whisper/transcribe.py:126: UserWarning: FP16 is not supported on CPU; using FP32 instead\n",
      "  warnings.warn(\"FP16 is not supported on CPU; using FP32 instead\")\n"
     ]
    },
    {
     "name": "stdout",
     "output_type": "stream",
     "text": [
      "[00:00.000 --> 00:19.200]  ὂ ἕ ˋ başka den ὀ ὢ ᴏ ệ Ử Ổ἟ ᴇ ᴇ ỗ ệ ữ Ồ἟ ᰩ ᴇ ᴨ ᵃ ᴩ, ᴟ �date ᴄ ᴒ ᴜ ᶻ ệ Ổ Ἇ �\n",
      "Transcribing /home/ouassim/Desktop/ss/stage/Data/Banque sonore des Dialectes Bretonnes/Audio/Audio/utt_02654.wav...\n"
     ]
    },
    {
     "name": "stderr",
     "output_type": "stream",
     "text": [
      "/home/ouassim/anaconda3/envs/stt-breton/lib/python3.10/site-packages/whisper/transcribe.py:126: UserWarning: FP16 is not supported on CPU; using FP32 instead\n",
      "  warnings.warn(\"FP16 is not supported on CPU; using FP32 instead\")\n"
     ]
    },
    {
     "name": "stdout",
     "output_type": "stream",
     "text": [
      "[00:00.000 --> 00:02.800]  некоторht bread of Lucy physicians is lacked with Daehhhh se if faith is not tied up\n",
      "Transcribing /home/ouassim/Desktop/ss/stage/Data/Banque sonore des Dialectes Bretonnes/Audio/Audio/utt_04401.wav...\n"
     ]
    },
    {
     "name": "stderr",
     "output_type": "stream",
     "text": [
      "/home/ouassim/anaconda3/envs/stt-breton/lib/python3.10/site-packages/whisper/transcribe.py:126: UserWarning: FP16 is not supported on CPU; using FP32 instead\n",
      "  warnings.warn(\"FP16 is not supported on CPU; using FP32 instead\")\n"
     ]
    },
    {
     "name": "stdout",
     "output_type": "stream",
     "text": [
      "[00:00.000 --> 00:06.000]  nd ʻɑm ʻzɔr ʻdwɪ ʃɪl ʻɔa ʻwɑtʃɪt ʻɔa ʻwɑtʃɪt mɛm ʻsəm ʻɔdʃ.\n",
      "Transcribing /home/ouassim/Desktop/ss/stage/Data/Banque sonore des Dialectes Bretonnes/Audio/Audio/utt_05843.wav...\n"
     ]
    },
    {
     "name": "stderr",
     "output_type": "stream",
     "text": [
      "/home/ouassim/anaconda3/envs/stt-breton/lib/python3.10/site-packages/whisper/transcribe.py:126: UserWarning: FP16 is not supported on CPU; using FP32 instead\n",
      "  warnings.warn(\"FP16 is not supported on CPU; using FP32 instead\")\n"
     ]
    },
    {
     "name": "stdout",
     "output_type": "stream",
     "text": [
      "[00:00.000 --> 00:02.320]  PIǜ-ZOO-Bē-ċT bossā advantages.\n",
      "Transcribing /home/ouassim/Desktop/ss/stage/Data/Banque sonore des Dialectes Bretonnes/Audio/Audio/utt_07177.wav...\n"
     ]
    },
    {
     "name": "stderr",
     "output_type": "stream",
     "text": [
      "/home/ouassim/anaconda3/envs/stt-breton/lib/python3.10/site-packages/whisper/transcribe.py:126: UserWarning: FP16 is not supported on CPU; using FP32 instead\n",
      "  warnings.warn(\"FP16 is not supported on CPU; using FP32 instead\")\n"
     ]
    },
    {
     "name": "stdout",
     "output_type": "stream",
     "text": [
      "[00:00.000 --> 00:02.960]  ḍ្ ្ ្ៗ ្ ្ម ្៓ ្ ្៓ ្ ្៓ ្៓ ្ ្៓ ្ ្ ្៓\n",
      "Transcribing /home/ouassim/Desktop/ss/stage/Data/Banque sonore des Dialectes Bretonnes/Audio/Audio/utt_03805.wav...\n"
     ]
    },
    {
     "name": "stderr",
     "output_type": "stream",
     "text": [
      "/home/ouassim/anaconda3/envs/stt-breton/lib/python3.10/site-packages/whisper/transcribe.py:126: UserWarning: FP16 is not supported on CPU; using FP32 instead\n",
      "  warnings.warn(\"FP16 is not supported on CPU; using FP32 instead\")\n"
     ]
    },
    {
     "name": "stdout",
     "output_type": "stream",
     "text": [
      "[00:00.000 --> 00:02.600]  �IIʂ interestoshing Āni ᶖily fisa betrġ çusḛ\n",
      "Transcribing /home/ouassim/Desktop/ss/stage/Data/Banque sonore des Dialectes Bretonnes/Audio/Audio/utt_03961.wav...\n"
     ]
    },
    {
     "name": "stderr",
     "output_type": "stream",
     "text": [
      "/home/ouassim/anaconda3/envs/stt-breton/lib/python3.10/site-packages/whisper/transcribe.py:126: UserWarning: FP16 is not supported on CPU; using FP32 instead\n",
      "  warnings.warn(\"FP16 is not supported on CPU; using FP32 instead\")\n"
     ]
    },
    {
     "name": "stdout",
     "output_type": "stream",
     "text": [
      "[00:00.000 --> 00:02.040] akingha jóŋвар déjunj내 desp킨\n",
      "Transcribing /home/ouassim/Desktop/ss/stage/Data/Banque sonore des Dialectes Bretonnes/Audio/Audio/utt_06147.wav...\n"
     ]
    },
    {
     "name": "stderr",
     "output_type": "stream",
     "text": [
      "/home/ouassim/anaconda3/envs/stt-breton/lib/python3.10/site-packages/whisper/transcribe.py:126: UserWarning: FP16 is not supported on CPU; using FP32 instead\n",
      "  warnings.warn(\"FP16 is not supported on CPU; using FP32 instead\")\n"
     ]
    },
    {
     "name": "stdout",
     "output_type": "stream",
     "text": [
      "[00:00.000 --> 00:03.920]  ច ច់្់ំᵃ្ဠ៎ៈៅ៽្្េ៊៎ uważ�果 ឋ តៈ៦�면서៉ំ។\n",
      "Transcribing /home/ouassim/Desktop/ss/stage/Data/Banque sonore des Dialectes Bretonnes/Audio/Audio/utt_03551.wav...\n"
     ]
    },
    {
     "name": "stderr",
     "output_type": "stream",
     "text": [
      "/home/ouassim/anaconda3/envs/stt-breton/lib/python3.10/site-packages/whisper/transcribe.py:126: UserWarning: FP16 is not supported on CPU; using FP32 instead\n",
      "  warnings.warn(\"FP16 is not supported on CPU; using FP32 instead\")\n"
     ]
    },
    {
     "name": "stdout",
     "output_type": "stream",
     "text": [
      "[00:00.000 --> 00:12.140]  attracts\n",
      "Transcribing /home/ouassim/Desktop/ss/stage/Data/Banque sonore des Dialectes Bretonnes/Audio/Audio/utt_02413.wav...\n"
     ]
    },
    {
     "name": "stderr",
     "output_type": "stream",
     "text": [
      "/home/ouassim/anaconda3/envs/stt-breton/lib/python3.10/site-packages/whisper/transcribe.py:126: UserWarning: FP16 is not supported on CPU; using FP32 instead\n",
      "  warnings.warn(\"FP16 is not supported on CPU; using FP32 instead\")\n"
     ]
    },
    {
     "name": "stdout",
     "output_type": "stream",
     "text": [
      "[00:00.000 --> 00:02.840]  ភ ជʃ្ក  czę ʉ𝞣ʃ ʉˊ钸ʉentlich çu ʉ មʉ់ ភwaʃ ʉ literally\n",
      "[00:02.840 --> 00:03.840]  ʈx˓¿ ¿ Engineers?\n",
      "[00:03.840 --> 00:24.060]  ʘR and ʒ devices with black and whiteher硬\n",
      "Transcribing /home/ouassim/Desktop/ss/stage/Data/Banque sonore des Dialectes Bretonnes/Audio/Audio/utt_00185.wav...\n"
     ]
    },
    {
     "name": "stderr",
     "output_type": "stream",
     "text": [
      "/home/ouassim/anaconda3/envs/stt-breton/lib/python3.10/site-packages/whisper/transcribe.py:126: UserWarning: FP16 is not supported on CPU; using FP32 instead\n",
      "  warnings.warn(\"FP16 is not supported on CPU; using FP32 instead\")\n"
     ]
    },
    {
     "name": "stdout",
     "output_type": "stream",
     "text": [
      "[00:00.000 --> 00:06.100] ав mesure ko'a, tha m tuo asper então\n",
      "Transcribing /home/ouassim/Desktop/ss/stage/Data/Banque sonore des Dialectes Bretonnes/Audio/Audio/utt_01221.wav...\n"
     ]
    },
    {
     "name": "stderr",
     "output_type": "stream",
     "text": [
      "/home/ouassim/anaconda3/envs/stt-breton/lib/python3.10/site-packages/whisper/transcribe.py:126: UserWarning: FP16 is not supported on CPU; using FP32 instead\n",
      "  warnings.warn(\"FP16 is not supported on CPU; using FP32 instead\")\n"
     ]
    },
    {
     "name": "stdout",
     "output_type": "stream",
     "text": [
      "[00:00.000 --> 00:22.200]  වංන්කන්, වඹන්සණඛන් පහ් Pit\n",
      "Transcribing /home/ouassim/Desktop/ss/stage/Data/Banque sonore des Dialectes Bretonnes/Audio/Audio/utt_00061.wav...\n"
     ]
    },
    {
     "name": "stderr",
     "output_type": "stream",
     "text": [
      "/home/ouassim/anaconda3/envs/stt-breton/lib/python3.10/site-packages/whisper/transcribe.py:126: UserWarning: FP16 is not supported on CPU; using FP32 instead\n",
      "  warnings.warn(\"FP16 is not supported on CPU; using FP32 instead\")\n"
     ]
    },
    {
     "name": "stdout",
     "output_type": "stream",
     "text": [
      "[00:00.000 --> 00:02.000]  ʻʻɾɟɟɾɟɑ ʻɝɪvɪl nɔl zɪn.\n",
      "[00:03.000 --> 00:14.000]  ʻɡɡɡɡɡɡɡɡɡɡ, ɚɡɡɡɡɡɡɡɡɡɡɡɡɡɡɡɡɡɡɡɡɡɡ.\n",
      "Transcribing /home/ouassim/Desktop/ss/stage/Data/Banque sonore des Dialectes Bretonnes/Audio/Audio/utt_02328.wav...\n"
     ]
    },
    {
     "name": "stderr",
     "output_type": "stream",
     "text": [
      "/home/ouassim/anaconda3/envs/stt-breton/lib/python3.10/site-packages/whisper/transcribe.py:126: UserWarning: FP16 is not supported on CPU; using FP32 instead\n",
      "  warnings.warn(\"FP16 is not supported on CPU; using FP32 instead\")\n"
     ]
    },
    {
     "name": "stdout",
     "output_type": "stream",
     "text": [
      "[00:00.000 --> 00:00.880]  វ Beaista li forecasts ñ s λέ ឃ lélpe 담  RajU\n",
      "[00:00.880 --> 00:25.140]  离  Environmental\n",
      "Transcribing /home/ouassim/Desktop/ss/stage/Data/Banque sonore des Dialectes Bretonnes/Audio/Audio/utt_06524.wav...\n"
     ]
    },
    {
     "name": "stderr",
     "output_type": "stream",
     "text": [
      "/home/ouassim/anaconda3/envs/stt-breton/lib/python3.10/site-packages/whisper/transcribe.py:126: UserWarning: FP16 is not supported on CPU; using FP32 instead\n",
      "  warnings.warn(\"FP16 is not supported on CPU; using FP32 instead\")\n"
     ]
    },
    {
     "name": "stdout",
     "output_type": "stream",
     "text": [
      "[00:00.000 --> 00:03.800]  ʻmʻlār e wʻmʻlār e bʻmʻam e wʻlār nia lʻhʻuān zin\n",
      "[00:03.800 --> 00:06.400]  ʻhau sō shomantʻi ʻag nīs.\n",
      "Transcribing /home/ouassim/Desktop/ss/stage/Data/Banque sonore des Dialectes Bretonnes/Audio/Audio/utt_06082.wav...\n"
     ]
    },
    {
     "name": "stderr",
     "output_type": "stream",
     "text": [
      "/home/ouassim/anaconda3/envs/stt-breton/lib/python3.10/site-packages/whisper/transcribe.py:126: UserWarning: FP16 is not supported on CPU; using FP32 instead\n",
      "  warnings.warn(\"FP16 is not supported on CPU; using FP32 instead\")\n"
     ]
    },
    {
     "name": "stdout",
     "output_type": "stream",
     "text": [
      "[00:00.000 --> 00:08.920]  ʻʻʻʰām Ḥum ʰā gūr d'r lāng ʻaw, ʰā ʰā ʸah dʸrʃt ʰā rdʰelses ʰaw ʰēnwʰʰeʃ ʰaʃ t'eer lina ʰaʳʰa.\n",
      "[00:08.920 --> 00:12.040]  ʰak wʰām Ḥaw ʰaʰaʰ ʰaʰaʰ ʰaʰ ʰaʰaʰ ʰan ʰan zin.\n",
      "[00:12.040 --> 00:42.040]  ʰan ʰan ʰan ʰan ʰan ʰan ʰan ʰan ʰan ʰan ʰan ʰan ʰan ʰan ʰan ʰan ʰan ʰan ʰan ʰan ʰan ʰan ʰan ʰan ʰan ʰan ʰan ʰan ʰan ʰan ʰan ʰan ʰan ʰan ʰan ʰan ʰan ʰan ʰan ʰan ʰan ʰan ʰan ʰan ʰan ʰan ʰan ʰan ʰan ʰan ʰan ʰan ʰan ʰan ʰan ʰ\n",
      "[00:42.040 --> 00:46.660]  ʢʂʂ o xʃ ben peyire di salai millin puhe' by tuzhas, xʂʂʂ xʂʂ accustomed.\n",
      "[00:46.660 --> 00:50.520]  Ben iísme pa myn moden, iisme bu maxwa.\n",
      "[00:50.520 --> 00:54.100]  ts ghe derzug w baida s prse laʋ ta position q̸yee.\n",
      "Transcribing /home/ouassim/Desktop/ss/stage/Data/Banque sonore des Dialectes Bretonnes/Audio/Audio/utt_03934.wav...\n"
     ]
    },
    {
     "name": "stderr",
     "output_type": "stream",
     "text": [
      "/home/ouassim/anaconda3/envs/stt-breton/lib/python3.10/site-packages/whisper/transcribe.py:126: UserWarning: FP16 is not supported on CPU; using FP32 instead\n",
      "  warnings.warn(\"FP16 is not supported on CPU; using FP32 instead\")\n"
     ]
    },
    {
     "name": "stdout",
     "output_type": "stream",
     "text": [
      "[00:00.000 --> 00:05.620]  Me brûr se garn tribblat a twe இரu.\n",
      "Transcribing /home/ouassim/Desktop/ss/stage/Data/Banque sonore des Dialectes Bretonnes/Audio/Audio/utt_04128.wav...\n"
     ]
    },
    {
     "name": "stderr",
     "output_type": "stream",
     "text": [
      "/home/ouassim/anaconda3/envs/stt-breton/lib/python3.10/site-packages/whisper/transcribe.py:126: UserWarning: FP16 is not supported on CPU; using FP32 instead\n",
      "  warnings.warn(\"FP16 is not supported on CPU; using FP32 instead\")\n"
     ]
    },
    {
     "name": "stdout",
     "output_type": "stream",
     "text": [
      "[00:00.000 --> 00:05.020]  N baptism lente de scholy fhtl knigna dhish,\n",
      "Transcribing /home/ouassim/Desktop/ss/stage/Data/Banque sonore des Dialectes Bretonnes/Audio/Audio/utt_02344.wav...\n"
     ]
    },
    {
     "name": "stderr",
     "output_type": "stream",
     "text": [
      "/home/ouassim/anaconda3/envs/stt-breton/lib/python3.10/site-packages/whisper/transcribe.py:126: UserWarning: FP16 is not supported on CPU; using FP32 instead\n",
      "  warnings.warn(\"FP16 is not supported on CPU; using FP32 instead\")\n"
     ]
    },
    {
     "name": "stdout",
     "output_type": "stream",
     "text": [
      "[00:00.000 --> 00:02.840]  Hilma maout – langだ & tigeving- yonk do.\n",
      "[00:03.680 --> 00:04.480]  Yill kreunb tha pro.\n",
      "[00:05.600 --> 00:08.680]  Mwil nilbs di ...\n",
      "[00:11.080 --> 00:13.040] son salut en tra dunh.\n",
      "[00:19.160 --> 00:21.440]  Ben nib m residue,\n",
      "[00:25.280 --> 00:27.400]  Er y um gтаки da dan y vit친\n",
      "[00:27.400 --> 00:28.840]  an Score frying n ş dod et le ryonq ...\n",
      "[00:28.840 --> 00:58.840]  ʻʻʻʻʻʻʻʻʻʻʻʻʻʻʻʻʻʻʻʻʻʻʻʻʻʻʻʻʻʻʻʻʻʻʻʻʻʻʻʻʻʻʻʻʻʻʻʻʻʻʻʻʻʻʻʻʻʻʻʻʻʻʻʻʻʻʻʻʻʻʻʻʻʻʻʻʻʻʻʻʻʻʻʻʻʻʻʻʻʻʻʻʻʻʻʻʻʻʻʻʻʻʻʻʻʻʻʻʻʻʻ\n",
      "[00:58.840 --> 01:28.840]  ʰʰʰʰʰʰʰʳʰʰʰʰʰʸʰʰʟʳʰʸʰʳʰʹʰʰʸʳʳʳʳʳʸʲʳʰʳʰʰʰʳʳʰʸʳʰʳʰ Link ʰʰʰʰʰʰʰʳʰʰʰʸʰʰʰʰʰʰʰʰʰ.ʰʰʰʰʰʰʰʰʰʰʰʳʰʰʱʰʰʰʰʰʰʰʰʳʰʰʰʰʰʰʰʰ.ʰʰʰʰʳʰʰ\n",
      "[01:28.840 --> 01:30.780] 02  brack\n",
      "[01:32.780 --> 01:57.420]  is that\n",
      "Transcribing /home/ouassim/Desktop/ss/stage/Data/Banque sonore des Dialectes Bretonnes/Audio/Audio/utt_06771.wav...\n"
     ]
    },
    {
     "name": "stderr",
     "output_type": "stream",
     "text": [
      "/home/ouassim/anaconda3/envs/stt-breton/lib/python3.10/site-packages/whisper/transcribe.py:126: UserWarning: FP16 is not supported on CPU; using FP32 instead\n",
      "  warnings.warn(\"FP16 is not supported on CPU; using FP32 instead\")\n"
     ]
    },
    {
     "name": "stdout",
     "output_type": "stream",
     "text": [
      "[00:00.000 --> 00:03.000]  ᣼� lireṋ di ឌ �bleṣ náa ao rā s recipient Psalmsaulex기자tek'\n",
      "[00:03.000 --> 00:05.000]  ʒʀe ghef nón spacing\n",
      "[00:05.000 --> 00:06.080]  ḍo' čench hommes\n",
      "Transcribing /home/ouassim/Desktop/ss/stage/Data/Banque sonore des Dialectes Bretonnes/Audio/Audio/utt_04539.wav...\n"
     ]
    },
    {
     "name": "stderr",
     "output_type": "stream",
     "text": [
      "/home/ouassim/anaconda3/envs/stt-breton/lib/python3.10/site-packages/whisper/transcribe.py:126: UserWarning: FP16 is not supported on CPU; using FP32 instead\n",
      "  warnings.warn(\"FP16 is not supported on CPU; using FP32 instead\")\n"
     ]
    },
    {
     "name": "stdout",
     "output_type": "stream",
     "text": [
      "[00:00.000 --> 00:04.820]  � ounces dense singing\n",
      "Transcribing /home/ouassim/Desktop/ss/stage/Data/Banque sonore des Dialectes Bretonnes/Audio/Audio/utt_00544.wav...\n"
     ]
    },
    {
     "name": "stderr",
     "output_type": "stream",
     "text": [
      "/home/ouassim/anaconda3/envs/stt-breton/lib/python3.10/site-packages/whisper/transcribe.py:126: UserWarning: FP16 is not supported on CPU; using FP32 instead\n",
      "  warnings.warn(\"FP16 is not supported on CPU; using FP32 instead\")\n"
     ]
    },
    {
     "name": "stdout",
     "output_type": "stream",
     "text": [
      "[00:00.000 --> 00:06.280]  Lé veryéu maz hou tsir pì me dé lhese?\n",
      "Transcribing /home/ouassim/Desktop/ss/stage/Data/Banque sonore des Dialectes Bretonnes/Audio/Audio/utt_03647.wav...\n"
     ]
    },
    {
     "name": "stderr",
     "output_type": "stream",
     "text": [
      "/home/ouassim/anaconda3/envs/stt-breton/lib/python3.10/site-packages/whisper/transcribe.py:126: UserWarning: FP16 is not supported on CPU; using FP32 instead\n",
      "  warnings.warn(\"FP16 is not supported on CPU; using FP32 instead\")\n"
     ]
    },
    {
     "name": "stdout",
     "output_type": "stream",
     "text": [
      "[00:00.000 --> 00:02.760]  Blels kompartyo\n",
      "Transcribing /home/ouassim/Desktop/ss/stage/Data/Banque sonore des Dialectes Bretonnes/Audio/Audio/utt_01670.wav...\n"
     ]
    },
    {
     "name": "stderr",
     "output_type": "stream",
     "text": [
      "/home/ouassim/anaconda3/envs/stt-breton/lib/python3.10/site-packages/whisper/transcribe.py:126: UserWarning: FP16 is not supported on CPU; using FP32 instead\n",
      "  warnings.warn(\"FP16 is not supported on CPU; using FP32 instead\")\n"
     ]
    },
    {
     "name": "stdout",
     "output_type": "stream",
     "text": [
      "[00:00.000 --> 00:02.960]  But it's a little imps Larager than I had expected.\n",
      "Transcribing /home/ouassim/Desktop/ss/stage/Data/Banque sonore des Dialectes Bretonnes/Audio/Audio/utt_01465.wav...\n"
     ]
    },
    {
     "name": "stderr",
     "output_type": "stream",
     "text": [
      "/home/ouassim/anaconda3/envs/stt-breton/lib/python3.10/site-packages/whisper/transcribe.py:126: UserWarning: FP16 is not supported on CPU; using FP32 instead\n",
      "  warnings.warn(\"FP16 is not supported on CPU; using FP32 instead\")\n"
     ]
    },
    {
     "name": "stdout",
     "output_type": "stream",
     "text": [
      "[00:00.560 --> 00:02.800]  tumori kodiro\n",
      "[00:02.800 --> 00:05.600]  I can suck it\n",
      "Transcribing /home/ouassim/Desktop/ss/stage/Data/Banque sonore des Dialectes Bretonnes/Audio/Audio/utt_03463.wav...\n"
     ]
    },
    {
     "name": "stderr",
     "output_type": "stream",
     "text": [
      "/home/ouassim/anaconda3/envs/stt-breton/lib/python3.10/site-packages/whisper/transcribe.py:126: UserWarning: FP16 is not supported on CPU; using FP32 instead\n",
      "  warnings.warn(\"FP16 is not supported on CPU; using FP32 instead\")\n"
     ]
    },
    {
     "name": "stdout",
     "output_type": "stream",
     "text": [
      "[00:00.000 --> 00:03.480]  Ὁ ὃ ὒἒὀἒἒἒ.\n",
      "[00:03.480 --> 00:09.380]  ὃ ὒἒἒἒἒ ὗἒἒἒἒἒ ὅἒἒἒἒ ὀἒἒἒἒἒ.\n",
      "Transcribing /home/ouassim/Desktop/ss/stage/Data/Banque sonore des Dialectes Bretonnes/Audio/Audio/utt_02778.wav...\n"
     ]
    },
    {
     "name": "stderr",
     "output_type": "stream",
     "text": [
      "/home/ouassim/anaconda3/envs/stt-breton/lib/python3.10/site-packages/whisper/transcribe.py:126: UserWarning: FP16 is not supported on CPU; using FP32 instead\n",
      "  warnings.warn(\"FP16 is not supported on CPU; using FP32 instead\")\n"
     ]
    },
    {
     "name": "stdout",
     "output_type": "stream",
     "text": [
      "[00:00.000 --> 00:02.060]  Ѩй realised pa talking about politics ʻas וק выход\n",
      "[00:02.060 --> 00:06.040]  ὠἓapers etas do the flash不展\n",
      "Transcribing /home/ouassim/Desktop/ss/stage/Data/Banque sonore des Dialectes Bretonnes/Audio/Audio/utt_02492.wav...\n"
     ]
    },
    {
     "name": "stderr",
     "output_type": "stream",
     "text": [
      "/home/ouassim/anaconda3/envs/stt-breton/lib/python3.10/site-packages/whisper/transcribe.py:126: UserWarning: FP16 is not supported on CPU; using FP32 instead\n",
      "  warnings.warn(\"FP16 is not supported on CPU; using FP32 instead\")\n"
     ]
    },
    {
     "name": "stdout",
     "output_type": "stream",
     "text": [
      "[00:00.000 --> 00:02.840]  ឋ, ជ, aged. គ, ទ, គ, ឋ, ខ, ង, ង, ង, ញ, ប.\n",
      "Transcribing /home/ouassim/Desktop/ss/stage/Data/Banque sonore des Dialectes Bretonnes/Audio/Audio/utt_06966.wav...\n"
     ]
    },
    {
     "name": "stderr",
     "output_type": "stream",
     "text": [
      "/home/ouassim/anaconda3/envs/stt-breton/lib/python3.10/site-packages/whisper/transcribe.py:126: UserWarning: FP16 is not supported on CPU; using FP32 instead\n",
      "  warnings.warn(\"FP16 is not supported on CPU; using FP32 instead\")\n"
     ]
    },
    {
     "name": "stdout",
     "output_type": "stream",
     "text": [
      "[00:00.000 --> 00:05.100]  ლლლლლლლ ლლლრლნმლლმლთ\n",
      "Transcribing /home/ouassim/Desktop/ss/stage/Data/Banque sonore des Dialectes Bretonnes/Audio/Audio/utt_04666.wav...\n"
     ]
    },
    {
     "name": "stderr",
     "output_type": "stream",
     "text": [
      "/home/ouassim/anaconda3/envs/stt-breton/lib/python3.10/site-packages/whisper/transcribe.py:126: UserWarning: FP16 is not supported on CPU; using FP32 instead\n",
      "  warnings.warn(\"FP16 is not supported on CPU; using FP32 instead\")\n"
     ]
    },
    {
     "name": "stdout",
     "output_type": "stream",
     "text": [
      "[00:00.000 --> 00:02.000]  PQĤ Chq q использовать hasn to nit.\n",
      "Transcribing /home/ouassim/Desktop/ss/stage/Data/Banque sonore des Dialectes Bretonnes/Audio/Audio/utt_00994.wav...\n"
     ]
    },
    {
     "name": "stderr",
     "output_type": "stream",
     "text": [
      "/home/ouassim/anaconda3/envs/stt-breton/lib/python3.10/site-packages/whisper/transcribe.py:126: UserWarning: FP16 is not supported on CPU; using FP32 instead\n",
      "  warnings.warn(\"FP16 is not supported on CPU; using FP32 instead\")\n"
     ]
    },
    {
     "name": "stdout",
     "output_type": "stream",
     "text": [
      "[00:00.000 --> 00:03.080]  ლლლლლლ�наაალალლლლლლალლლლლლლ\n",
      "Transcribing /home/ouassim/Desktop/ss/stage/Data/Banque sonore des Dialectes Bretonnes/Audio/Audio/utt_07118.wav...\n"
     ]
    },
    {
     "name": "stderr",
     "output_type": "stream",
     "text": [
      "/home/ouassim/anaconda3/envs/stt-breton/lib/python3.10/site-packages/whisper/transcribe.py:126: UserWarning: FP16 is not supported on CPU; using FP32 instead\n",
      "  warnings.warn(\"FP16 is not supported on CPU; using FP32 instead\")\n"
     ]
    },
    {
     "name": "stdout",
     "output_type": "stream",
     "text": [
      "[00:00.000 --> 00:03.290]  ʰr jeu ʰaz ʰaz res ʰoˀdéi ʰd a bire ʰndɔˀn ɾerre ʰɐˀri ʰᄥ ʰɖ ʰɪ ʰɣ ʰɣ ʰɡ ʰɣ ʰɣ ʰɡ ʰɥ ʰiˀʸ ɨˀɣ ʰɣ ʰɣ ʰɡ ʰɡ ʰɡ ʰɡ ʰɡ ʰɡ ʰɣ ʰɡ ʰɡ ʰɡ ʰɡ ʰɡ ʰɡ ʰɡ ʰɡ ʰ ʰɡ ʰɡ ʰɡ �\n",
      "Transcribing /home/ouassim/Desktop/ss/stage/Data/Banque sonore des Dialectes Bretonnes/Audio/Audio/utt_04011.wav...\n"
     ]
    },
    {
     "name": "stderr",
     "output_type": "stream",
     "text": [
      "/home/ouassim/anaconda3/envs/stt-breton/lib/python3.10/site-packages/whisper/transcribe.py:126: UserWarning: FP16 is not supported on CPU; using FP32 instead\n",
      "  warnings.warn(\"FP16 is not supported on CPU; using FP32 instead\")\n"
     ]
    },
    {
     "name": "stdout",
     "output_type": "stream",
     "text": [
      "[00:00.000 --> 00:23.000]  dé cáicem nieodie\n",
      "Transcribing /home/ouassim/Desktop/ss/stage/Data/Banque sonore des Dialectes Bretonnes/Audio/Audio/utt_00177.wav...\n"
     ]
    },
    {
     "name": "stderr",
     "output_type": "stream",
     "text": [
      "/home/ouassim/anaconda3/envs/stt-breton/lib/python3.10/site-packages/whisper/transcribe.py:126: UserWarning: FP16 is not supported on CPU; using FP32 instead\n",
      "  warnings.warn(\"FP16 is not supported on CPU; using FP32 instead\")\n"
     ]
    },
    {
     "name": "stdout",
     "output_type": "stream",
     "text": [
      "[00:00.000 --> 00:04.360]  D phonìry een dimma joel benton mï thấy hana fundogkels d物ook ka gong xdi\n",
      "Transcribing /home/ouassim/Desktop/ss/stage/Data/Banque sonore des Dialectes Bretonnes/Audio/Audio/utt_01737.wav...\n"
     ]
    },
    {
     "name": "stderr",
     "output_type": "stream",
     "text": [
      "/home/ouassim/anaconda3/envs/stt-breton/lib/python3.10/site-packages/whisper/transcribe.py:126: UserWarning: FP16 is not supported on CPU; using FP32 instead\n",
      "  warnings.warn(\"FP16 is not supported on CPU; using FP32 instead\")\n"
     ]
    },
    {
     "name": "stdout",
     "output_type": "stream",
     "text": [
      "[00:00.000 --> 00:01.100]  करब्ष्टिं\n",
      "Transcribing /home/ouassim/Desktop/ss/stage/Data/Banque sonore des Dialectes Bretonnes/Audio/Audio/utt_01615.wav...\n"
     ]
    },
    {
     "name": "stderr",
     "output_type": "stream",
     "text": [
      "/home/ouassim/anaconda3/envs/stt-breton/lib/python3.10/site-packages/whisper/transcribe.py:126: UserWarning: FP16 is not supported on CPU; using FP32 instead\n",
      "  warnings.warn(\"FP16 is not supported on CPU; using FP32 instead\")\n"
     ]
    },
    {
     "name": "stdout",
     "output_type": "stream",
     "text": [
      "[00:00.000 --> 00:02.800]  alla  KRIS  possession he aleля meaning from her house\n",
      "[00:02.800 --> 00:02.980]  ются  Hobby\n",
      "[00:02.980 --> 00:05.420]  Ы MGEEEE\n",
      "[00:05.480 --> 00:06.420]   МУЗЫКАö Gordon\n",
      "[00:06.520 --> 00:08.180]   devastated Oke\n",
      "[00:08.700 --> 00:10.120]  ziehen millet\n",
      "[00:10.120 --> 00:14.280]  gebaut\n",
      "[00:14.320 --> 00:15.720]   conductivity\n",
      "[00:15.720 --> 00:17.300]   Zugete\n",
      "[00:17.320 --> 00:17.480]   Hoo\n",
      "[00:17.480 --> 00:18.040]  n qüet\n",
      "[00:18.040 --> 00:19.360]   lavender\n",
      "[00:19.360 --> 00:21.240]  rpoyon\n",
      "Transcribing /home/ouassim/Desktop/ss/stage/Data/Banque sonore des Dialectes Bretonnes/Audio/Audio/utt_04700.wav...\n"
     ]
    },
    {
     "name": "stderr",
     "output_type": "stream",
     "text": [
      "/home/ouassim/anaconda3/envs/stt-breton/lib/python3.10/site-packages/whisper/transcribe.py:126: UserWarning: FP16 is not supported on CPU; using FP32 instead\n",
      "  warnings.warn(\"FP16 is not supported on CPU; using FP32 instead\")\n"
     ]
    },
    {
     "name": "stdout",
     "output_type": "stream",
     "text": [
      "[00:00.340 --> 00:03.640]  삑特別 spar pas RottenDidS\n",
      "[00:03.720 --> 00:06.420]  i al jep raiti iaди y'gwechar\n",
      "[00:09.440 --> 00:27.900]  bo hмо nuntale haver mort Mary\n",
      "[00:30.000 --> 00:34.880]  le web we re songs, so we thus everybody could play along to see the stage,\n",
      "[00:34.880 --> 00:39.120]  if many a ones régור le se Symphony skoond.\n",
      "[00:39.120 --> 00:41.080]  Cloud three.\n",
      "[00:41.080 --> 00:44.140]  The music started with bank,\n",
      "[00:44.140 --> 00:48.140]  during the excellency bateurs aux waist of a song.\n",
      "[00:48.140 --> 00:54.620]  An advantage is that we can perform technically well in a bust along with family.\n",
      "Transcribing /home/ouassim/Desktop/ss/stage/Data/Banque sonore des Dialectes Bretonnes/Audio/Audio/utt_00877.wav...\n"
     ]
    },
    {
     "name": "stderr",
     "output_type": "stream",
     "text": [
      "/home/ouassim/anaconda3/envs/stt-breton/lib/python3.10/site-packages/whisper/transcribe.py:126: UserWarning: FP16 is not supported on CPU; using FP32 instead\n",
      "  warnings.warn(\"FP16 is not supported on CPU; using FP32 instead\")\n"
     ]
    },
    {
     "name": "stdout",
     "output_type": "stream",
     "text": [
      "[00:00.000 --> 00:08.040]  landf Iranian\n",
      "Transcribing /home/ouassim/Desktop/ss/stage/Data/Banque sonore des Dialectes Bretonnes/Audio/Audio/utt_00263.wav...\n"
     ]
    },
    {
     "name": "stderr",
     "output_type": "stream",
     "text": [
      "/home/ouassim/anaconda3/envs/stt-breton/lib/python3.10/site-packages/whisper/transcribe.py:126: UserWarning: FP16 is not supported on CPU; using FP32 instead\n",
      "  warnings.warn(\"FP16 is not supported on CPU; using FP32 instead\")\n"
     ]
    },
    {
     "name": "stdout",
     "output_type": "stream",
     "text": [
      "[00:00.780 --> 00:02.000] ches Fran\n",
      "[00:02.000 --> 00:03.840]  le\n",
      "Transcribing /home/ouassim/Desktop/ss/stage/Data/Banque sonore des Dialectes Bretonnes/Audio/Audio/utt_03206.wav...\n"
     ]
    },
    {
     "name": "stderr",
     "output_type": "stream",
     "text": [
      "/home/ouassim/anaconda3/envs/stt-breton/lib/python3.10/site-packages/whisper/transcribe.py:126: UserWarning: FP16 is not supported on CPU; using FP32 instead\n",
      "  warnings.warn(\"FP16 is not supported on CPU; using FP32 instead\")\n"
     ]
    },
    {
     "name": "stdout",
     "output_type": "stream",
     "text": [
      "[00:00.000 --> 00:04.040]  ʻpaguntohan ʻister z'edu yon ʻiʻon ʻiʻon ʻiʻon ʻiʻon ʻiʻon ʻiʻon ʻon ʻia.\n",
      "Transcribing /home/ouassim/Desktop/ss/stage/Data/Banque sonore des Dialectes Bretonnes/Audio/Audio/utt_00319.wav...\n"
     ]
    },
    {
     "name": "stderr",
     "output_type": "stream",
     "text": [
      "/home/ouassim/anaconda3/envs/stt-breton/lib/python3.10/site-packages/whisper/transcribe.py:126: UserWarning: FP16 is not supported on CPU; using FP32 instead\n",
      "  warnings.warn(\"FP16 is not supported on CPU; using FP32 instead\")\n"
     ]
    },
    {
     "name": "stdout",
     "output_type": "stream",
     "text": [
      "[00:00.000 --> 00:03.000]  ʻʻi ʻwɛ ʻu ʻdi ʻmɛ ʻgɛ ʻu ʻnʻu ʻnʻu ʻnʻu ʻdʻi ʻsplɛ ʻo ʻnʻu ʻkʰ.\n",
      "Transcribing /home/ouassim/Desktop/ss/stage/Data/Banque sonore des Dialectes Bretonnes/Audio/Audio/utt_03768.wav...\n"
     ]
    },
    {
     "name": "stderr",
     "output_type": "stream",
     "text": [
      "/home/ouassim/anaconda3/envs/stt-breton/lib/python3.10/site-packages/whisper/transcribe.py:126: UserWarning: FP16 is not supported on CPU; using FP32 instead\n",
      "  warnings.warn(\"FP16 is not supported on CPU; using FP32 instead\")\n"
     ]
    },
    {
     "name": "stdout",
     "output_type": "stream",
     "text": [
      "[00:00.000 --> 00:01.600]  åtīk  richest bouoro\n",
      "Transcribing /home/ouassim/Desktop/ss/stage/Data/Banque sonore des Dialectes Bretonnes/Audio/Audio/utt_03439.wav...\n"
     ]
    },
    {
     "name": "stderr",
     "output_type": "stream",
     "text": [
      "/home/ouassim/anaconda3/envs/stt-breton/lib/python3.10/site-packages/whisper/transcribe.py:126: UserWarning: FP16 is not supported on CPU; using FP32 instead\n",
      "  warnings.warn(\"FP16 is not supported on CPU; using FP32 instead\")\n"
     ]
    },
    {
     "name": "stdout",
     "output_type": "stream",
     "text": [
      "[00:00.000 --> 00:07.000]  ʻĀnā y'a miski gwe l'y'un y'a muskin kléved r'amamgoz ʻerentadīng penozarengo.\n",
      "[00:07.000 --> 00:12.000]  ʻp'gur'vamamgoz o va doxk'ar'udet, agat'u y'a gav'i y'a,\n",
      "[00:12.000 --> 00:17.000]  ʻp'gur'var'gose g'o ʻp'gur'vaw'n ʻstal'vi'an ʻy'a, ʻv'r'gose g'i'r ge'ir,\n",
      "[00:17.000 --> 00:23.000]  ʻs'e tu y'e ʻi'n'u ʻa'e ar'og ʻi' ʻezad.\n",
      "[00:23.000 --> 00:33.000]  ʻv'r'gose g'o ʻe'r be doxk'ar'a bi'j'n ʻan'a ʻe'a ʻazik'o ʻe'r n'e'o ʻe'a ʻgose n'e'o ʻt'a imun'i.\n",
      "Transcribing /home/ouassim/Desktop/ss/stage/Data/Banque sonore des Dialectes Bretonnes/Audio/Audio/utt_05774.wav...\n"
     ]
    },
    {
     "name": "stderr",
     "output_type": "stream",
     "text": [
      "/home/ouassim/anaconda3/envs/stt-breton/lib/python3.10/site-packages/whisper/transcribe.py:126: UserWarning: FP16 is not supported on CPU; using FP32 instead\n",
      "  warnings.warn(\"FP16 is not supported on CPU; using FP32 instead\")\n"
     ]
    },
    {
     "name": "stdout",
     "output_type": "stream",
     "text": [
      "[00:00.000 --> 00:02.980]  ḍᵇ ᵃᵅ ᶀᵏᶁ ioxᵉᵍᶉru ᷚᵉᶁ � tattoo ᵊᵔᶘᶍ ᵣᶌ ᶅᵉᵉᶁ ḅ número 4\n",
      "Transcribing /home/ouassim/Desktop/ss/stage/Data/Banque sonore des Dialectes Bretonnes/Audio/Audio/utt_01511.wav...\n"
     ]
    },
    {
     "name": "stderr",
     "output_type": "stream",
     "text": [
      "/home/ouassim/anaconda3/envs/stt-breton/lib/python3.10/site-packages/whisper/transcribe.py:126: UserWarning: FP16 is not supported on CPU; using FP32 instead\n",
      "  warnings.warn(\"FP16 is not supported on CPU; using FP32 instead\")\n"
     ]
    },
    {
     "name": "stdout",
     "output_type": "stream",
     "text": [
      "[00:00.000 --> 00:04.000]  ˈmʊəl nə ptrayin broun, nə ˈtə ˈbɪzənə ptrəʃ.\n",
      "[00:04.000 --> 00:06.000]  ˈbɪzənə ptrəʃ.\n",
      "[00:06.000 --> 00:08.000]  ˈbɪzənə ptrəʃ ˈpɪzən ˈpɪzən.\n",
      "[00:08.000 --> 00:11.000]  ˈmɪrə nɪ nə rə ˈbɪn klāhək təʃ ˈtɪk.\n",
      "[00:11.000 --> 00:14.000]  ˈtə ˈtə ˈtə ˈnɪməməmʉ də rə ˈʈʃu.\n",
      "[00:14.000 --> 00:16.000]  ˈkə də rə ˈbɪn klāhək təʃ ˈtə ˈtɪk.\n",
      "[00:16.000 --> 00:20.000]  ˈtə ˈkɪrə mə hɨrə ˈsə lakər bɪn klāhək tə ˈstrəkkəl.\n",
      "[00:20.000 --> 00:32.360]  ğõlma esta l Hayu l M insight, ute li trEN g le him Me 가� Service l French다는 Aud subjected for the Egyptian languageсе aksi si ü zugliy as 전 uniqueness constituency альной konk!!\n",
      "Transcribing /home/ouassim/Desktop/ss/stage/Data/Banque sonore des Dialectes Bretonnes/Audio/Audio/utt_05484.wav...\n"
     ]
    },
    {
     "name": "stderr",
     "output_type": "stream",
     "text": [
      "/home/ouassim/anaconda3/envs/stt-breton/lib/python3.10/site-packages/whisper/transcribe.py:126: UserWarning: FP16 is not supported on CPU; using FP32 instead\n",
      "  warnings.warn(\"FP16 is not supported on CPU; using FP32 instead\")\n"
     ]
    },
    {
     "name": "stdout",
     "output_type": "stream",
     "text": [
      "[00:00.000 --> 00:02.200]  nien measuring\n",
      "Transcribing /home/ouassim/Desktop/ss/stage/Data/Banque sonore des Dialectes Bretonnes/Audio/Audio/utt_03107.wav...\n"
     ]
    },
    {
     "name": "stderr",
     "output_type": "stream",
     "text": [
      "/home/ouassim/anaconda3/envs/stt-breton/lib/python3.10/site-packages/whisper/transcribe.py:126: UserWarning: FP16 is not supported on CPU; using FP32 instead\n",
      "  warnings.warn(\"FP16 is not supported on CPU; using FP32 instead\")\n"
     ]
    },
    {
     "name": "stdout",
     "output_type": "stream",
     "text": [
      "[00:00.000 --> 00:02.000]  yán vazítos dí\n",
      "Transcribing /home/ouassim/Desktop/ss/stage/Data/Banque sonore des Dialectes Bretonnes/Audio/Audio/utt_02543.wav...\n"
     ]
    },
    {
     "name": "stderr",
     "output_type": "stream",
     "text": [
      "/home/ouassim/anaconda3/envs/stt-breton/lib/python3.10/site-packages/whisper/transcribe.py:126: UserWarning: FP16 is not supported on CPU; using FP32 instead\n",
      "  warnings.warn(\"FP16 is not supported on CPU; using FP32 instead\")\n"
     ]
    },
    {
     "name": "stdout",
     "output_type": "stream",
     "text": [
      "[00:00.000 --> 00:01.000] ôle\n",
      "Transcribing /home/ouassim/Desktop/ss/stage/Data/Banque sonore des Dialectes Bretonnes/Audio/Audio/utt_04100.wav...\n"
     ]
    },
    {
     "name": "stderr",
     "output_type": "stream",
     "text": [
      "/home/ouassim/anaconda3/envs/stt-breton/lib/python3.10/site-packages/whisper/transcribe.py:126: UserWarning: FP16 is not supported on CPU; using FP32 instead\n",
      "  warnings.warn(\"FP16 is not supported on CPU; using FP32 instead\")\n"
     ]
    },
    {
     "name": "stdout",
     "output_type": "stream",
     "text": [
      "[00:00.000 --> 00:03.620]  � Fielding 73\n",
      "Transcribing /home/ouassim/Desktop/ss/stage/Data/Banque sonore des Dialectes Bretonnes/Audio/Audio/utt_00230.wav...\n"
     ]
    },
    {
     "name": "stderr",
     "output_type": "stream",
     "text": [
      "/home/ouassim/anaconda3/envs/stt-breton/lib/python3.10/site-packages/whisper/transcribe.py:126: UserWarning: FP16 is not supported on CPU; using FP32 instead\n",
      "  warnings.warn(\"FP16 is not supported on CPU; using FP32 instead\")\n"
     ]
    },
    {
     "name": "stdout",
     "output_type": "stream",
     "text": [
      "[00:00.000 --> 00:03.860]  bound was du ʒizru by ṭhīṣ pā Reddit\n",
      "Transcribing /home/ouassim/Desktop/ss/stage/Data/Banque sonore des Dialectes Bretonnes/Audio/Audio/utt_07199.wav...\n"
     ]
    },
    {
     "name": "stderr",
     "output_type": "stream",
     "text": [
      "/home/ouassim/anaconda3/envs/stt-breton/lib/python3.10/site-packages/whisper/transcribe.py:126: UserWarning: FP16 is not supported on CPU; using FP32 instead\n",
      "  warnings.warn(\"FP16 is not supported on CPU; using FP32 instead\")\n"
     ]
    },
    {
     "name": "stdout",
     "output_type": "stream",
     "text": [
      "[00:00.000 --> 00:02.000]  ្ником ្m្m្a contractors\n",
      "Transcribing /home/ouassim/Desktop/ss/stage/Data/Banque sonore des Dialectes Bretonnes/Audio/Audio/utt_04595.wav...\n"
     ]
    },
    {
     "name": "stderr",
     "output_type": "stream",
     "text": [
      "/home/ouassim/anaconda3/envs/stt-breton/lib/python3.10/site-packages/whisper/transcribe.py:126: UserWarning: FP16 is not supported on CPU; using FP32 instead\n",
      "  warnings.warn(\"FP16 is not supported on CPU; using FP32 instead\")\n"
     ]
    },
    {
     "name": "stdout",
     "output_type": "stream",
     "text": [
      "[00:00.000 --> 00:05.000]  Repe Edinburgh\n",
      "Transcribing /home/ouassim/Desktop/ss/stage/Data/Banque sonore des Dialectes Bretonnes/Audio/Audio/utt_04355.wav...\n"
     ]
    },
    {
     "name": "stderr",
     "output_type": "stream",
     "text": [
      "/home/ouassim/anaconda3/envs/stt-breton/lib/python3.10/site-packages/whisper/transcribe.py:126: UserWarning: FP16 is not supported on CPU; using FP32 instead\n",
      "  warnings.warn(\"FP16 is not supported on CPU; using FP32 instead\")\n"
     ]
    },
    {
     "name": "stdout",
     "output_type": "stream",
     "text": [
      "[00:00.000 --> 00:19.780] iceless – Sixth w scanned,\n",
      "Transcribing /home/ouassim/Desktop/ss/stage/Data/Banque sonore des Dialectes Bretonnes/Audio/Audio/utt_03620.wav...\n"
     ]
    },
    {
     "name": "stderr",
     "output_type": "stream",
     "text": [
      "/home/ouassim/anaconda3/envs/stt-breton/lib/python3.10/site-packages/whisper/transcribe.py:126: UserWarning: FP16 is not supported on CPU; using FP32 instead\n",
      "  warnings.warn(\"FP16 is not supported on CPU; using FP32 instead\")\n"
     ]
    },
    {
     "name": "stdout",
     "output_type": "stream",
     "text": [
      "[00:00.000 --> 00:08.000]  ʻagipeto ʻgad de ʻgāra ʻāren ʻbār ʻasam du ʻrti ʻbār p'fu ʻospe ʻtri gōnas ʻya.\n",
      "Transcribing /home/ouassim/Desktop/ss/stage/Data/Banque sonore des Dialectes Bretonnes/Audio/Audio/utt_01352.wav...\n"
     ]
    },
    {
     "name": "stderr",
     "output_type": "stream",
     "text": [
      "/home/ouassim/anaconda3/envs/stt-breton/lib/python3.10/site-packages/whisper/transcribe.py:126: UserWarning: FP16 is not supported on CPU; using FP32 instead\n",
      "  warnings.warn(\"FP16 is not supported on CPU; using FP32 instead\")\n"
     ]
    },
    {
     "name": "stdout",
     "output_type": "stream",
     "text": [
      "[00:00.000 --> 00:04.560]  Me grí dísen lé chl管 dísen nāsattle אפar.\n",
      "[00:04.560 --> 00:08.680]  Mמו tíom priige col díseniha bajt.\n",
      "[00:08.680 --> 00:11.800]  Me grí díj Silence.\n",
      "Transcribing /home/ouassim/Desktop/ss/stage/Data/Banque sonore des Dialectes Bretonnes/Audio/Audio/utt_02970.wav...\n"
     ]
    },
    {
     "name": "stderr",
     "output_type": "stream",
     "text": [
      "/home/ouassim/anaconda3/envs/stt-breton/lib/python3.10/site-packages/whisper/transcribe.py:126: UserWarning: FP16 is not supported on CPU; using FP32 instead\n",
      "  warnings.warn(\"FP16 is not supported on CPU; using FP32 instead\")\n"
     ]
    },
    {
     "name": "stdout",
     "output_type": "stream",
     "text": [
      "[00:00.000 --> 00:04.000]  Ṣāṁ tīma niskinī mīti Ṣāṁ niski dōn tīya phāl.\n",
      "Transcribing /home/ouassim/Desktop/ss/stage/Data/Banque sonore des Dialectes Bretonnes/Audio/Audio/utt_06300.wav...\n"
     ]
    },
    {
     "name": "stderr",
     "output_type": "stream",
     "text": [
      "/home/ouassim/anaconda3/envs/stt-breton/lib/python3.10/site-packages/whisper/transcribe.py:126: UserWarning: FP16 is not supported on CPU; using FP32 instead\n",
      "  warnings.warn(\"FP16 is not supported on CPU; using FP32 instead\")\n"
     ]
    },
    {
     "name": "stdout",
     "output_type": "stream",
     "text": [
      "[00:00.000 --> 00:02.460]  ὇ ὃ ἇᵃ ᵇᵃ ᵑᵗʑᴀᵃ\n",
      "Transcribing /home/ouassim/Desktop/ss/stage/Data/Banque sonore des Dialectes Bretonnes/Audio/Audio/utt_06876.wav...\n"
     ]
    },
    {
     "name": "stderr",
     "output_type": "stream",
     "text": [
      "/home/ouassim/anaconda3/envs/stt-breton/lib/python3.10/site-packages/whisper/transcribe.py:126: UserWarning: FP16 is not supported on CPU; using FP32 instead\n",
      "  warnings.warn(\"FP16 is not supported on CPU; using FP32 instead\")\n"
     ]
    },
    {
     "name": "stdout",
     "output_type": "stream",
     "text": [
      "[00:00.000 --> 00:21.920]  Japonakb ken Paris\n",
      "Transcribing /home/ouassim/Desktop/ss/stage/Data/Banque sonore des Dialectes Bretonnes/Audio/Audio/utt_05650.wav...\n"
     ]
    },
    {
     "name": "stderr",
     "output_type": "stream",
     "text": [
      "/home/ouassim/anaconda3/envs/stt-breton/lib/python3.10/site-packages/whisper/transcribe.py:126: UserWarning: FP16 is not supported on CPU; using FP32 instead\n",
      "  warnings.warn(\"FP16 is not supported on CPU; using FP32 instead\")\n"
     ]
    },
    {
     "name": "stdout",
     "output_type": "stream",
     "text": [
      "[00:00.000 --> 00:05.000]  슛oba  wünsé ro w transportation r역\n",
      "Transcribing /home/ouassim/Desktop/ss/stage/Data/Banque sonore des Dialectes Bretonnes/Audio/Audio/utt_05890.wav...\n"
     ]
    },
    {
     "name": "stderr",
     "output_type": "stream",
     "text": [
      "/home/ouassim/anaconda3/envs/stt-breton/lib/python3.10/site-packages/whisper/transcribe.py:126: UserWarning: FP16 is not supported on CPU; using FP32 instead\n",
      "  warnings.warn(\"FP16 is not supported on CPU; using FP32 instead\")\n"
     ]
    },
    {
     "name": "stdout",
     "output_type": "stream",
     "text": [
      "[00:00.000 --> 00:05.320]  WAT I BÏ BAR struck by fidelity.\n",
      "Transcribing /home/ouassim/Desktop/ss/stage/Data/Banque sonore des Dialectes Bretonnes/Audio/Audio/utt_05377.wav...\n"
     ]
    },
    {
     "name": "stderr",
     "output_type": "stream",
     "text": [
      "/home/ouassim/anaconda3/envs/stt-breton/lib/python3.10/site-packages/whisper/transcribe.py:126: UserWarning: FP16 is not supported on CPU; using FP32 instead\n",
      "  warnings.warn(\"FP16 is not supported on CPU; using FP32 instead\")\n"
     ]
    },
    {
     "name": "stdout",
     "output_type": "stream",
     "text": [
      "[00:00.000 --> 00:02.960]  ḍᴃᵉ Ḝᶅᶼᵃ ḙḓ ᴄʄᵖʊ ḧʆᵉ ᵒʌʀ ḏʀʋᴍᵉ ᵐʈᵃ.\n",
      "Transcribing /home/ouassim/Desktop/ss/stage/Data/Banque sonore des Dialectes Bretonnes/Audio/Audio/utt_05753.wav...\n"
     ]
    },
    {
     "name": "stderr",
     "output_type": "stream",
     "text": [
      "/home/ouassim/anaconda3/envs/stt-breton/lib/python3.10/site-packages/whisper/transcribe.py:126: UserWarning: FP16 is not supported on CPU; using FP32 instead\n",
      "  warnings.warn(\"FP16 is not supported on CPU; using FP32 instead\")\n"
     ]
    },
    {
     "name": "stdout",
     "output_type": "stream",
     "text": [
      "[00:00.000 --> 00:09.040]  ťIsisan Ām way ko te yo nee l'aqdoor soda.\n",
      "[00:09.220 --> 00:15.620]  Iím Lac compared to cipe's Therearing for baked road food experiences.\n",
      "[00:16.040 --> 00:19.000]   Shaun, ʬ bryей!opfi l'ad dearle35\n",
      "Transcribing /home/ouassim/Desktop/ss/stage/Data/Banque sonore des Dialectes Bretonnes/Audio/Audio/utt_01176.wav...\n"
     ]
    },
    {
     "name": "stderr",
     "output_type": "stream",
     "text": [
      "/home/ouassim/anaconda3/envs/stt-breton/lib/python3.10/site-packages/whisper/transcribe.py:126: UserWarning: FP16 is not supported on CPU; using FP32 instead\n",
      "  warnings.warn(\"FP16 is not supported on CPU; using FP32 instead\")\n"
     ]
    },
    {
     "name": "stdout",
     "output_type": "stream",
     "text": [
      "[00:00.000 --> 00:04.220]  � Jaharthūr  women ideology Matched.\n",
      "Transcribing /home/ouassim/Desktop/ss/stage/Data/Banque sonore des Dialectes Bretonnes/Audio/Audio/utt_05902.wav...\n"
     ]
    },
    {
     "name": "stderr",
     "output_type": "stream",
     "text": [
      "/home/ouassim/anaconda3/envs/stt-breton/lib/python3.10/site-packages/whisper/transcribe.py:126: UserWarning: FP16 is not supported on CPU; using FP32 instead\n",
      "  warnings.warn(\"FP16 is not supported on CPU; using FP32 instead\")\n"
     ]
    },
    {
     "name": "stdout",
     "output_type": "stream",
     "text": [
      "[00:00.000 --> 00:00.600]  විවිවින්\n",
      "[00:00.600 --> 00:01.100]  වවිවින්\n",
      "Transcribing /home/ouassim/Desktop/ss/stage/Data/Banque sonore des Dialectes Bretonnes/Audio/Audio/utt_04237.wav...\n"
     ]
    },
    {
     "name": "stderr",
     "output_type": "stream",
     "text": [
      "/home/ouassim/anaconda3/envs/stt-breton/lib/python3.10/site-packages/whisper/transcribe.py:126: UserWarning: FP16 is not supported on CPU; using FP32 instead\n",
      "  warnings.warn(\"FP16 is not supported on CPU; using FP32 instead\")\n"
     ]
    },
    {
     "name": "stdout",
     "output_type": "stream",
     "text": [
      "[00:00.000 --> 00:02.000]  part yama yen dan valdan you ded na writers\n",
      "Transcribing /home/ouassim/Desktop/ss/stage/Data/Banque sonore des Dialectes Bretonnes/Audio/Audio/utt_01047.wav...\n"
     ]
    },
    {
     "name": "stderr",
     "output_type": "stream",
     "text": [
      "/home/ouassim/anaconda3/envs/stt-breton/lib/python3.10/site-packages/whisper/transcribe.py:126: UserWarning: FP16 is not supported on CPU; using FP32 instead\n",
      "  warnings.warn(\"FP16 is not supported on CPU; using FP32 instead\")\n"
     ]
    },
    {
     "name": "stdout",
     "output_type": "stream",
     "text": [
      "[00:00.000 --> 00:00.240]  llsiaowisomen z contradict dhim dworld\n",
      "[00:02.240 --> 00:03.800]  nanggi shitle to dh 상태\n",
      "Transcribing /home/ouassim/Desktop/ss/stage/Data/Banque sonore des Dialectes Bretonnes/Audio/Audio/utt_06885.wav...\n"
     ]
    },
    {
     "name": "stderr",
     "output_type": "stream",
     "text": [
      "/home/ouassim/anaconda3/envs/stt-breton/lib/python3.10/site-packages/whisper/transcribe.py:126: UserWarning: FP16 is not supported on CPU; using FP32 instead\n",
      "  warnings.warn(\"FP16 is not supported on CPU; using FP32 instead\")\n"
     ]
    },
    {
     "name": "stdout",
     "output_type": "stream",
     "text": [
      "[00:00.000 --> 00:04.640]  ༟ ༱༭༽༎༽ ༟ ༯༾༱༽༼༽༽༽༽ ༴༾༽༽༽༽\n",
      "[00:04.880 --> 00:08.920]  ༱༰༂༽༽༽ ༭༾༽༽༽༽༽༽༽༽༽ ༮༾༽༽༽༽༽ ༨༽༽༽.\n",
      "Transcribing /home/ouassim/Desktop/ss/stage/Data/Banque sonore des Dialectes Bretonnes/Audio/Audio/utt_03916.wav...\n"
     ]
    },
    {
     "name": "stderr",
     "output_type": "stream",
     "text": [
      "/home/ouassim/anaconda3/envs/stt-breton/lib/python3.10/site-packages/whisper/transcribe.py:126: UserWarning: FP16 is not supported on CPU; using FP32 instead\n",
      "  warnings.warn(\"FP16 is not supported on CPU; using FP32 instead\")\n"
     ]
    },
    {
     "name": "stdout",
     "output_type": "stream",
     "text": [
      "[00:00.000 --> 00:05.000]  ʻmʻe ʻfʻo ʻtʻi dʻan ʻtʻu ʻe rʻo ʻmʻa ʻa zʻan ʻdo\n",
      "Transcribing /home/ouassim/Desktop/ss/stage/Data/Banque sonore des Dialectes Bretonnes/Audio/Audio/utt_03518.wav...\n"
     ]
    },
    {
     "name": "stderr",
     "output_type": "stream",
     "text": [
      "/home/ouassim/anaconda3/envs/stt-breton/lib/python3.10/site-packages/whisper/transcribe.py:126: UserWarning: FP16 is not supported on CPU; using FP32 instead\n",
      "  warnings.warn(\"FP16 is not supported on CPU; using FP32 instead\")\n"
     ]
    },
    {
     "name": "stdout",
     "output_type": "stream",
     "text": [
      "[00:00.000 --> 00:03.620]  Ḥar huaz em hmINT quarlua\n",
      "Transcribing /home/ouassim/Desktop/ss/stage/Data/Banque sonore des Dialectes Bretonnes/Audio/Audio/utt_04241.wav...\n"
     ]
    },
    {
     "name": "stderr",
     "output_type": "stream",
     "text": [
      "/home/ouassim/anaconda3/envs/stt-breton/lib/python3.10/site-packages/whisper/transcribe.py:126: UserWarning: FP16 is not supported on CPU; using FP32 instead\n",
      "  warnings.warn(\"FP16 is not supported on CPU; using FP32 instead\")\n"
     ]
    },
    {
     "name": "stdout",
     "output_type": "stream",
     "text": [
      "[00:00.000 --> 00:21.880]  Bēne cmme\n",
      "Transcribing /home/ouassim/Desktop/ss/stage/Data/Banque sonore des Dialectes Bretonnes/Audio/Audio/utt_00332.wav...\n"
     ]
    },
    {
     "name": "stderr",
     "output_type": "stream",
     "text": [
      "/home/ouassim/anaconda3/envs/stt-breton/lib/python3.10/site-packages/whisper/transcribe.py:126: UserWarning: FP16 is not supported on CPU; using FP32 instead\n",
      "  warnings.warn(\"FP16 is not supported on CPU; using FP32 instead\")\n"
     ]
    },
    {
     "name": "stdout",
     "output_type": "stream",
     "text": [
      "[00:00.000 --> 00:01.440]  ធ្'� بع្' ខ ᐀់� cilantro\n",
      "Transcribing /home/ouassim/Desktop/ss/stage/Data/Banque sonore des Dialectes Bretonnes/Audio/Audio/utt_04379.wav...\n"
     ]
    },
    {
     "name": "stderr",
     "output_type": "stream",
     "text": [
      "/home/ouassim/anaconda3/envs/stt-breton/lib/python3.10/site-packages/whisper/transcribe.py:126: UserWarning: FP16 is not supported on CPU; using FP32 instead\n",
      "  warnings.warn(\"FP16 is not supported on CPU; using FP32 instead\")\n"
     ]
    },
    {
     "name": "stdout",
     "output_type": "stream",
     "text": [
      "[00:00.000 --> 00:02.000]  យ neonan យ n�Tech9 hយ nយ nយ nយ nយ n� cow.\n",
      "Transcribing /home/ouassim/Desktop/ss/stage/Data/Banque sonore des Dialectes Bretonnes/Audio/Audio/utt_06737.wav...\n"
     ]
    },
    {
     "name": "stderr",
     "output_type": "stream",
     "text": [
      "/home/ouassim/anaconda3/envs/stt-breton/lib/python3.10/site-packages/whisper/transcribe.py:126: UserWarning: FP16 is not supported on CPU; using FP32 instead\n",
      "  warnings.warn(\"FP16 is not supported on CPU; using FP32 instead\")\n"
     ]
    },
    {
     "name": "stdout",
     "output_type": "stream",
     "text": [
      "[00:00.000 --> 00:02.000]  ὑᾱ ំᾱ ᷄ᶕ ᳏ᾜΆ� Alice\n",
      "Transcribing /home/ouassim/Desktop/ss/stage/Data/Banque sonore des Dialectes Bretonnes/Audio/Audio/utt_05447.wav...\n"
     ]
    },
    {
     "name": "stderr",
     "output_type": "stream",
     "text": [
      "/home/ouassim/anaconda3/envs/stt-breton/lib/python3.10/site-packages/whisper/transcribe.py:126: UserWarning: FP16 is not supported on CPU; using FP32 instead\n",
      "  warnings.warn(\"FP16 is not supported on CPU; using FP32 instead\")\n"
     ]
    },
    {
     "name": "stdout",
     "output_type": "stream",
     "text": [
      "[00:00.000 --> 00:04.200]  �powers andisés,оἀἀᾜᾗ ῢ῭ᰜἂ ᶠᰄἀἂᴄἁ ᷈ἤἎῡ Ḥἡἦ�惜ἰ� Boss\n",
      "Transcribing /home/ouassim/Desktop/ss/stage/Data/Banque sonore des Dialectes Bretonnes/Audio/Audio/utt_04078.wav...\n"
     ]
    },
    {
     "name": "stderr",
     "output_type": "stream",
     "text": [
      "/home/ouassim/anaconda3/envs/stt-breton/lib/python3.10/site-packages/whisper/transcribe.py:126: UserWarning: FP16 is not supported on CPU; using FP32 instead\n",
      "  warnings.warn(\"FP16 is not supported on CPU; using FP32 instead\")\n"
     ]
    },
    {
     "name": "stdout",
     "output_type": "stream",
     "text": [
      "[00:00.000 --> 00:06.040]  Set Dor coachall galek basqu warriors.\n",
      "Transcribing /home/ouassim/Desktop/ss/stage/Data/Banque sonore des Dialectes Bretonnes/Audio/Audio/utt_03658.wav...\n"
     ]
    },
    {
     "name": "stderr",
     "output_type": "stream",
     "text": [
      "/home/ouassim/anaconda3/envs/stt-breton/lib/python3.10/site-packages/whisper/transcribe.py:126: UserWarning: FP16 is not supported on CPU; using FP32 instead\n",
      "  warnings.warn(\"FP16 is not supported on CPU; using FP32 instead\")\n"
     ]
    },
    {
     "name": "stdout",
     "output_type": "stream",
     "text": [
      "[00:00.000 --> 00:03.040]  Ben outright xha nws,warumpan qha men ?\n",
      "Transcribing /home/ouassim/Desktop/ss/stage/Data/Banque sonore des Dialectes Bretonnes/Audio/Audio/utt_06199.wav...\n"
     ]
    },
    {
     "name": "stderr",
     "output_type": "stream",
     "text": [
      "/home/ouassim/anaconda3/envs/stt-breton/lib/python3.10/site-packages/whisper/transcribe.py:126: UserWarning: FP16 is not supported on CPU; using FP32 instead\n",
      "  warnings.warn(\"FP16 is not supported on CPU; using FP32 instead\")\n"
     ]
    },
    {
     "name": "stdout",
     "output_type": "stream",
     "text": [
      "[00:00.000 --> 00:26.140]  Dfuntard bas roint ┱ flek acke Pinouxay that the\n",
      "Transcribing /home/ouassim/Desktop/ss/stage/Data/Banque sonore des Dialectes Bretonnes/Audio/Audio/utt_06249.wav...\n"
     ]
    },
    {
     "name": "stderr",
     "output_type": "stream",
     "text": [
      "/home/ouassim/anaconda3/envs/stt-breton/lib/python3.10/site-packages/whisper/transcribe.py:126: UserWarning: FP16 is not supported on CPU; using FP32 instead\n",
      "  warnings.warn(\"FP16 is not supported on CPU; using FP32 instead\")\n"
     ]
    },
    {
     "name": "stdout",
     "output_type": "stream",
     "text": [
      "[00:00.000 --> 00:02.760]  bookstore\n",
      "[00:02.760 --> 00:05.680]  slogan\n",
      "[00:05.740 --> 00:10.080]  let me talk about yonder\n",
      "[00:10.100 --> 00:12.140]  their bombings\n",
      "[00:12.160 --> 00:15.260]  e\n",
      "Transcribing /home/ouassim/Desktop/ss/stage/Data/Banque sonore des Dialectes Bretonnes/Audio/Audio/utt_03406.wav...\n"
     ]
    },
    {
     "name": "stderr",
     "output_type": "stream",
     "text": [
      "/home/ouassim/anaconda3/envs/stt-breton/lib/python3.10/site-packages/whisper/transcribe.py:126: UserWarning: FP16 is not supported on CPU; using FP32 instead\n",
      "  warnings.warn(\"FP16 is not supported on CPU; using FP32 instead\")\n"
     ]
    },
    {
     "name": "stdout",
     "output_type": "stream",
     "text": [
      "[00:00.000 --> 00:09.900]  Saya perdee  intéressa troaw akese.\n",
      "Transcribing /home/ouassim/Desktop/ss/stage/Data/Banque sonore des Dialectes Bretonnes/Audio/Audio/utt_00101.wav...\n"
     ]
    },
    {
     "name": "stderr",
     "output_type": "stream",
     "text": [
      "/home/ouassim/anaconda3/envs/stt-breton/lib/python3.10/site-packages/whisper/transcribe.py:126: UserWarning: FP16 is not supported on CPU; using FP32 instead\n",
      "  warnings.warn(\"FP16 is not supported on CPU; using FP32 instead\")\n"
     ]
    },
    {
     "name": "stdout",
     "output_type": "stream",
     "text": [
      "[00:00.000 --> 00:02.520]  qă Attardğ\n",
      "Transcribing /home/ouassim/Desktop/ss/stage/Data/Banque sonore des Dialectes Bretonnes/Audio/Audio/utt_00538.wav...\n"
     ]
    },
    {
     "name": "stderr",
     "output_type": "stream",
     "text": [
      "/home/ouassim/anaconda3/envs/stt-breton/lib/python3.10/site-packages/whisper/transcribe.py:126: UserWarning: FP16 is not supported on CPU; using FP32 instead\n",
      "  warnings.warn(\"FP16 is not supported on CPU; using FP32 instead\")\n"
     ]
    },
    {
     "name": "stdout",
     "output_type": "stream",
     "text": [
      "[00:00.000 --> 00:04.720]  B ឡឯឡឡឡឡ ឡឡឡឡឡ ឡឡឡឡ  comfortably crad one with stitches.\n",
      "Transcribing /home/ouassim/Desktop/ss/stage/Data/Banque sonore des Dialectes Bretonnes/Audio/Audio/utt_03238.wav...\n"
     ]
    },
    {
     "name": "stderr",
     "output_type": "stream",
     "text": [
      "/home/ouassim/anaconda3/envs/stt-breton/lib/python3.10/site-packages/whisper/transcribe.py:126: UserWarning: FP16 is not supported on CPU; using FP32 instead\n",
      "  warnings.warn(\"FP16 is not supported on CPU; using FP32 instead\")\n"
     ]
    },
    {
     "name": "stdout",
     "output_type": "stream",
     "text": [
      "[00:00.000 --> 00:02.950]  ኵᵏᵒᵏᵍᵉ ᶠᶜᵌᶦᵗᶜᵗ, ပᶜᶠᵗ ᶠᵊᶤᶠᵉ ᶠᶠᴄᶠᶠᶠᶠᶺ ᶠᶠᵗᶠᶦ ᶠᶠᶠ ᶠᶠᶠᶠᶠᶠ ᶠᶠᶠ\n",
      "Transcribing /home/ouassim/Desktop/ss/stage/Data/Banque sonore des Dialectes Bretonnes/Audio/Audio/utt_07234.wav...\n"
     ]
    },
    {
     "name": "stderr",
     "output_type": "stream",
     "text": [
      "/home/ouassim/anaconda3/envs/stt-breton/lib/python3.10/site-packages/whisper/transcribe.py:126: UserWarning: FP16 is not supported on CPU; using FP32 instead\n",
      "  warnings.warn(\"FP16 is not supported on CPU; using FP32 instead\")\n"
     ]
    },
    {
     "name": "stdout",
     "output_type": "stream",
     "text": [
      "[00:00.000 --> 00:01.200]  grey light\n",
      "Transcribing /home/ouassim/Desktop/ss/stage/Data/Banque sonore des Dialectes Bretonnes/Audio/Audio/utt_06929.wav...\n"
     ]
    },
    {
     "name": "stderr",
     "output_type": "stream",
     "text": [
      "/home/ouassim/anaconda3/envs/stt-breton/lib/python3.10/site-packages/whisper/transcribe.py:126: UserWarning: FP16 is not supported on CPU; using FP32 instead\n",
      "  warnings.warn(\"FP16 is not supported on CPU; using FP32 instead\")\n"
     ]
    },
    {
     "name": "stdout",
     "output_type": "stream",
     "text": [
      "[00:00.000 --> 00:03.480]   snowflind  co  bound                 h 的 一  di  l que...\n",
      "[00:03.880 --> 00:07.920]   Realm of Loop\n",
      "Transcribing /home/ouassim/Desktop/ss/stage/Data/Banque sonore des Dialectes Bretonnes/Audio/Audio/utt_05230.wav...\n"
     ]
    },
    {
     "name": "stderr",
     "output_type": "stream",
     "text": [
      "/home/ouassim/anaconda3/envs/stt-breton/lib/python3.10/site-packages/whisper/transcribe.py:126: UserWarning: FP16 is not supported on CPU; using FP32 instead\n",
      "  warnings.warn(\"FP16 is not supported on CPU; using FP32 instead\")\n"
     ]
    },
    {
     "name": "stdout",
     "output_type": "stream",
     "text": [
      "[00:00.000 --> 00:04.080]  ʻan ʻtuj ʻins ʻas ʻob ʻmir ʻmanuār ʻkull ʻdwar ʻandu ʻlos ʻen\n",
      "Transcribing /home/ouassim/Desktop/ss/stage/Data/Banque sonore des Dialectes Bretonnes/Audio/Audio/utt_02941.wav...\n"
     ]
    },
    {
     "name": "stderr",
     "output_type": "stream",
     "text": [
      "/home/ouassim/anaconda3/envs/stt-breton/lib/python3.10/site-packages/whisper/transcribe.py:126: UserWarning: FP16 is not supported on CPU; using FP32 instead\n",
      "  warnings.warn(\"FP16 is not supported on CPU; using FP32 instead\")\n"
     ]
    },
    {
     "name": "stdout",
     "output_type": "stream",
     "text": [
      "[00:00.000 --> 00:17.360]  �\n",
      "Transcribing /home/ouassim/Desktop/ss/stage/Data/Banque sonore des Dialectes Bretonnes/Audio/Audio/utt_02288.wav...\n"
     ]
    },
    {
     "name": "stderr",
     "output_type": "stream",
     "text": [
      "/home/ouassim/anaconda3/envs/stt-breton/lib/python3.10/site-packages/whisper/transcribe.py:126: UserWarning: FP16 is not supported on CPU; using FP32 instead\n",
      "  warnings.warn(\"FP16 is not supported on CPU; using FP32 instead\")\n"
     ]
    },
    {
     "name": "stdout",
     "output_type": "stream",
     "text": [
      "[00:00.000 --> 00:15.440]  ὀἄᴀ ὀἄᴀἓἋἋἉἔἋἀἋἋἉἉἉἉἋἋἉ ἀἄἓἋἋἉἉ ἋἔἋ ἉἋἓἋἉἋἉἉἋἉἉ.\n",
      "Transcribing /home/ouassim/Desktop/ss/stage/Data/Banque sonore des Dialectes Bretonnes/Audio/Audio/utt_03686.wav...\n"
     ]
    },
    {
     "name": "stderr",
     "output_type": "stream",
     "text": [
      "/home/ouassim/anaconda3/envs/stt-breton/lib/python3.10/site-packages/whisper/transcribe.py:126: UserWarning: FP16 is not supported on CPU; using FP32 instead\n",
      "  warnings.warn(\"FP16 is not supported on CPU; using FP32 instead\")\n"
     ]
    },
    {
     "name": "stdout",
     "output_type": "stream",
     "text": [
      "[00:00.000 --> 00:02.000] reated\n",
      "Transcribing /home/ouassim/Desktop/ss/stage/Data/Banque sonore des Dialectes Bretonnes/Audio/Audio/utt_06764.wav...\n"
     ]
    },
    {
     "name": "stderr",
     "output_type": "stream",
     "text": [
      "/home/ouassim/anaconda3/envs/stt-breton/lib/python3.10/site-packages/whisper/transcribe.py:126: UserWarning: FP16 is not supported on CPU; using FP32 instead\n",
      "  warnings.warn(\"FP16 is not supported on CPU; using FP32 instead\")\n"
     ]
    },
    {
     "name": "stdout",
     "output_type": "stream",
     "text": [
      "[00:00.000 --> 00:12.760]  ʻoh ʻi ʻpa ʻde nūs pa ʻbלp ʻbėdā ʻpa ʻbí la qe dò ʻon, ʻve ʻan ʻin ʻan ʻin ʻad ʻin ʻad ʻas ʻi qe ʻde ʰe ʻe ʻas ʰe ʻu ʰet ʰa ʻan ʻaz ʻal ʻen ʻtang ʻwāl ʻde nūs.\n",
      "Transcribing /home/ouassim/Desktop/ss/stage/Data/Banque sonore des Dialectes Bretonnes/Audio/Audio/utt_05927.wav...\n"
     ]
    },
    {
     "name": "stderr",
     "output_type": "stream",
     "text": [
      "/home/ouassim/anaconda3/envs/stt-breton/lib/python3.10/site-packages/whisper/transcribe.py:126: UserWarning: FP16 is not supported on CPU; using FP32 instead\n",
      "  warnings.warn(\"FP16 is not supported on CPU; using FP32 instead\")\n"
     ]
    },
    {
     "name": "stdout",
     "output_type": "stream",
     "text": [
      "[00:00.420 --> 00:00.980]  ᶴᶉᶕᶉᶄ\n",
      "[00:02.980 --> 00:05.200]  ᶀᶈᶙᶜᶐ�recioule\n",
      "Transcribing /home/ouassim/Desktop/ss/stage/Data/Banque sonore des Dialectes Bretonnes/Audio/Audio/utt_06182.wav...\n"
     ]
    },
    {
     "name": "stderr",
     "output_type": "stream",
     "text": [
      "/home/ouassim/anaconda3/envs/stt-breton/lib/python3.10/site-packages/whisper/transcribe.py:126: UserWarning: FP16 is not supported on CPU; using FP32 instead\n",
      "  warnings.warn(\"FP16 is not supported on CPU; using FP32 instead\")\n"
     ]
    },
    {
     "name": "stdout",
     "output_type": "stream",
     "text": [
      "[00:00.000 --> 00:03.140]  Ḡ quiere\n",
      "Transcribing /home/ouassim/Desktop/ss/stage/Data/Banque sonore des Dialectes Bretonnes/Audio/Audio/utt_06060.wav...\n"
     ]
    },
    {
     "name": "stderr",
     "output_type": "stream",
     "text": [
      "/home/ouassim/anaconda3/envs/stt-breton/lib/python3.10/site-packages/whisper/transcribe.py:126: UserWarning: FP16 is not supported on CPU; using FP32 instead\n",
      "  warnings.warn(\"FP16 is not supported on CPU; using FP32 instead\")\n"
     ]
    },
    {
     "name": "stdout",
     "output_type": "stream",
     "text": [
      "[00:00.000 --> 00:17.640]  � orchestra d' nam γᴘ ᗜᗸ ᗜᗼ̓ ᗜᗸ ᗜ ᗜᗿ ᗜʃ peel te ti te d ᗕᗼᗻᗷᗼᗾ\n",
      "Transcribing /home/ouassim/Desktop/ss/stage/Data/Banque sonore des Dialectes Bretonnes/Audio/Audio/utt_00079.wav...\n"
     ]
    },
    {
     "name": "stderr",
     "output_type": "stream",
     "text": [
      "/home/ouassim/anaconda3/envs/stt-breton/lib/python3.10/site-packages/whisper/transcribe.py:126: UserWarning: FP16 is not supported on CPU; using FP32 instead\n",
      "  warnings.warn(\"FP16 is not supported on CPU; using FP32 instead\")\n"
     ]
    },
    {
     "name": "stdout",
     "output_type": "stream",
     "text": [
      "[00:00.000 --> 00:03.000]  ṭṅ ʻwé lé ʻen ṭṅ Ṭṅ Ṭṅ Ṭṅ dābwé dheer.\n",
      "Transcribing /home/ouassim/Desktop/ss/stage/Data/Banque sonore des Dialectes Bretonnes/Audio/Audio/utt_06576.wav...\n"
     ]
    },
    {
     "name": "stderr",
     "output_type": "stream",
     "text": [
      "/home/ouassim/anaconda3/envs/stt-breton/lib/python3.10/site-packages/whisper/transcribe.py:126: UserWarning: FP16 is not supported on CPU; using FP32 instead\n",
      "  warnings.warn(\"FP16 is not supported on CPU; using FP32 instead\")\n"
     ]
    },
    {
     "name": "stdout",
     "output_type": "stream",
     "text": [
      "[00:00.000 --> 00:02.500]  ღ჊ თ ვ უთamię tú\n",
      "Transcribing /home/ouassim/Desktop/ss/stage/Data/Banque sonore des Dialectes Bretonnes/Audio/Audio/utt_04483.wav...\n"
     ]
    },
    {
     "name": "stderr",
     "output_type": "stream",
     "text": [
      "/home/ouassim/anaconda3/envs/stt-breton/lib/python3.10/site-packages/whisper/transcribe.py:126: UserWarning: FP16 is not supported on CPU; using FP32 instead\n",
      "  warnings.warn(\"FP16 is not supported on CPU; using FP32 instead\")\n"
     ]
    },
    {
     "name": "stdout",
     "output_type": "stream",
     "text": [
      "[00:00.000 --> 00:02.000]  Ben bowl to 싶은 sh тип Lac\n",
      "Transcribing /home/ouassim/Desktop/ss/stage/Data/Banque sonore des Dialectes Bretonnes/Audio/Audio/utt_01374.wav...\n"
     ]
    },
    {
     "name": "stderr",
     "output_type": "stream",
     "text": [
      "/home/ouassim/anaconda3/envs/stt-breton/lib/python3.10/site-packages/whisper/transcribe.py:126: UserWarning: FP16 is not supported on CPU; using FP32 instead\n",
      "  warnings.warn(\"FP16 is not supported on CPU; using FP32 instead\")\n"
     ]
    },
    {
     "name": "stdout",
     "output_type": "stream",
     "text": [
      "[00:00.000 --> 00:02.000]  мерикan bíw mal Step dead in joy\n",
      "Transcribing /home/ouassim/Desktop/ss/stage/Data/Banque sonore des Dialectes Bretonnes/Audio/Audio/utt_01912.wav...\n"
     ]
    },
    {
     "name": "stderr",
     "output_type": "stream",
     "text": [
      "/home/ouassim/anaconda3/envs/stt-breton/lib/python3.10/site-packages/whisper/transcribe.py:126: UserWarning: FP16 is not supported on CPU; using FP32 instead\n",
      "  warnings.warn(\"FP16 is not supported on CPU; using FP32 instead\")\n"
     ]
    },
    {
     "name": "stdout",
     "output_type": "stream",
     "text": [
      "[00:00.480 --> 00:08.040]  höchha\n",
      "[00:08.880 --> 00:14.040]  kha\n",
      "Transcribing /home/ouassim/Desktop/ss/stage/Data/Banque sonore des Dialectes Bretonnes/Audio/Audio/utt_01662.wav...\n"
     ]
    },
    {
     "name": "stderr",
     "output_type": "stream",
     "text": [
      "/home/ouassim/anaconda3/envs/stt-breton/lib/python3.10/site-packages/whisper/transcribe.py:126: UserWarning: FP16 is not supported on CPU; using FP32 instead\n",
      "  warnings.warn(\"FP16 is not supported on CPU; using FP32 instead\")\n"
     ]
    },
    {
     "name": "stdout",
     "output_type": "stream",
     "text": [
      "[00:00.000 --> 00:01.940]  Stay here, you pilot!\n",
      "Transcribing /home/ouassim/Desktop/ss/stage/Data/Banque sonore des Dialectes Bretonnes/Audio/Audio/utt_04059.wav...\n"
     ]
    },
    {
     "name": "stderr",
     "output_type": "stream",
     "text": [
      "/home/ouassim/anaconda3/envs/stt-breton/lib/python3.10/site-packages/whisper/transcribe.py:126: UserWarning: FP16 is not supported on CPU; using FP32 instead\n",
      "  warnings.warn(\"FP16 is not supported on CPU; using FP32 instead\")\n"
     ]
    },
    {
     "name": "stdout",
     "output_type": "stream",
     "text": [
      "[00:00.000 --> 00:04.560]  , shash nealis, mag汁, bhen Pho.\n",
      "Transcribing /home/ouassim/Desktop/ss/stage/Data/Banque sonore des Dialectes Bretonnes/Audio/Audio/utt_07257.wav...\n"
     ]
    },
    {
     "name": "stderr",
     "output_type": "stream",
     "text": [
      "/home/ouassim/anaconda3/envs/stt-breton/lib/python3.10/site-packages/whisper/transcribe.py:126: UserWarning: FP16 is not supported on CPU; using FP32 instead\n",
      "  warnings.warn(\"FP16 is not supported on CPU; using FP32 instead\")\n"
     ]
    },
    {
     "name": "stdout",
     "output_type": "stream",
     "text": [
      "[00:00.000 --> 00:02.790]  Ḥ �ıl ᵇ� falsa ᶀ ក ឣᄤ Ḥᄤ Ḣᶏ ឋḣក ទក �iques យ� 담 បោក ឥ៊ក ឬទ ៊១ក ម�etic សក ឯកក ុ យកមក ផៜកមៜក ផក កម៙ក ឧមក យោក ឈᦰ។ ហប� paling ឵� ark ឋក វកទ ច បកកក ឲទ �棒 តៀ ឯក ផក\n",
      "Transcribing /home/ouassim/Desktop/ss/stage/Data/Banque sonore des Dialectes Bretonnes/Audio/Audio/utt_02897.wav...\n"
     ]
    },
    {
     "name": "stderr",
     "output_type": "stream",
     "text": [
      "/home/ouassim/anaconda3/envs/stt-breton/lib/python3.10/site-packages/whisper/transcribe.py:126: UserWarning: FP16 is not supported on CPU; using FP32 instead\n",
      "  warnings.warn(\"FP16 is not supported on CPU; using FP32 instead\")\n"
     ]
    },
    {
     "name": "stdout",
     "output_type": "stream",
     "text": [
      "[00:00.000 --> 00:02.970]   nave ację pipe  Ut  เข                                                                                                                                                                                                                    \n",
      "Transcribing /home/ouassim/Desktop/ss/stage/Data/Banque sonore des Dialectes Bretonnes/Audio/Audio/utt_01420.wav...\n"
     ]
    },
    {
     "name": "stderr",
     "output_type": "stream",
     "text": [
      "/home/ouassim/anaconda3/envs/stt-breton/lib/python3.10/site-packages/whisper/transcribe.py:126: UserWarning: FP16 is not supported on CPU; using FP32 instead\n",
      "  warnings.warn(\"FP16 is not supported on CPU; using FP32 instead\")\n"
     ]
    },
    {
     "name": "stdout",
     "output_type": "stream",
     "text": [
      "[00:00.000 --> 00:03.040]  Mèmmaşa explanationze se gĉm Stupid womad thy legs kliliht lha torht.\n",
      "[00:03.060 --> 00:06.880]  Bad y verdadht to be sleeping like this a mother Morgen metricas Oh she's always sleeping nally.\n",
      "[00:06.900 --> 00:12.680]  Meïmู้ана Which means we are in fear of this medicine.\n",
      "[00:12.700 --> 00:17.900]  sage utility distribute a largerin.\n",
      "[00:17.920 --> 00:19.720]  What do I speak about?\n",
      "Transcribing /home/ouassim/Desktop/ss/stage/Data/Banque sonore des Dialectes Bretonnes/Audio/Audio/utt_03992.wav...\n"
     ]
    },
    {
     "name": "stderr",
     "output_type": "stream",
     "text": [
      "/home/ouassim/anaconda3/envs/stt-breton/lib/python3.10/site-packages/whisper/transcribe.py:126: UserWarning: FP16 is not supported on CPU; using FP32 instead\n",
      "  warnings.warn(\"FP16 is not supported on CPU; using FP32 instead\")\n"
     ]
    },
    {
     "name": "stdout",
     "output_type": "stream",
     "text": [
      "[00:00.000 --> 00:02.000]  씰 láry smack t'luxy yir\n",
      "Transcribing /home/ouassim/Desktop/ss/stage/Data/Banque sonore des Dialectes Bretonnes/Audio/Audio/utt_06139.wav...\n"
     ]
    },
    {
     "name": "stderr",
     "output_type": "stream",
     "text": [
      "/home/ouassim/anaconda3/envs/stt-breton/lib/python3.10/site-packages/whisper/transcribe.py:126: UserWarning: FP16 is not supported on CPU; using FP32 instead\n",
      "  warnings.warn(\"FP16 is not supported on CPU; using FP32 instead\")\n"
     ]
    },
    {
     "name": "stdout",
     "output_type": "stream",
     "text": [
      "[00:00.000 --> 00:02.000]  សំៅំំ ៅំៅៅៅៅៅៅៅៅៅ.\n",
      "Transcribing /home/ouassim/Desktop/ss/stage/Data/Banque sonore des Dialectes Bretonnes/Audio/Audio/utt_05523.wav...\n"
     ]
    },
    {
     "name": "stderr",
     "output_type": "stream",
     "text": [
      "/home/ouassim/anaconda3/envs/stt-breton/lib/python3.10/site-packages/whisper/transcribe.py:126: UserWarning: FP16 is not supported on CPU; using FP32 instead\n",
      "  warnings.warn(\"FP16 is not supported on CPU; using FP32 instead\")\n"
     ]
    },
    {
     "name": "stdout",
     "output_type": "stream",
     "text": [
      "[00:00.500 --> 00:05.380]  Ē, fixes со çam choun料so a eleven oidla l telling about the rail roads we would run before\n",
      "[00:05.700 --> 00:07.840]  appliances and vehicles euor11\n",
      "[00:08.200 --> 00:09.380]  prendi ballistic sheet\n",
      "[00:09.740 --> 00:13.000]  llğan sen chadu siaama\n",
      "Transcribing /home/ouassim/Desktop/ss/stage/Data/Banque sonore des Dialectes Bretonnes/Audio/Audio/utt_01084.wav...\n"
     ]
    },
    {
     "name": "stderr",
     "output_type": "stream",
     "text": [
      "/home/ouassim/anaconda3/envs/stt-breton/lib/python3.10/site-packages/whisper/transcribe.py:126: UserWarning: FP16 is not supported on CPU; using FP32 instead\n",
      "  warnings.warn(\"FP16 is not supported on CPU; using FP32 instead\")\n"
     ]
    },
    {
     "name": "stdout",
     "output_type": "stream",
     "text": [
      "[00:00.000 --> 00:10.960]  , ʻɔme g pɛ l'ɔr, bi ɔ ɒm pə bɛ nɨ ʂtɪr, mʻɔn aɪ gwɪl pɪs bɪn, ɔ wɡ ɒdə mɪs ʻɔ ʂn dʒr, ɔ ɒm bɒng yɔt, ʻu e kɪmɨng, ɪ ʻɪs a mɔd mʜn bɛn dʒr dʒr.\n",
      "[00:10.960 --> 00:40.960]  ʻʻʻʻʻʻʻʻʻʻʻʻʻʻʻʻʻʻʻʻʻʻʻʻʻʻʻʻʻʻʻʻʻʻʻʻʻʻʻʻʻʻʻʻʻʻʻʻʻʻʻʻʻʻʻʻʻʻʻʻʻʻʻʻʻʻʻʻʻʻʻʻʻʻʻʻʻʻʻʻʻʻʻʻʻʻʻʻʻʻʻʻʻʻʻʻʻʻʻʻʻʻʻʻʻʻʻʻʻʻʻ\n",
      "[00:40.960 --> 00:49.280]  B� ng Ghostcules wę\n",
      "Transcribing /home/ouassim/Desktop/ss/stage/Data/Banque sonore des Dialectes Bretonnes/Audio/Audio/utt_06392.wav...\n"
     ]
    },
    {
     "name": "stderr",
     "output_type": "stream",
     "text": [
      "/home/ouassim/anaconda3/envs/stt-breton/lib/python3.10/site-packages/whisper/transcribe.py:126: UserWarning: FP16 is not supported on CPU; using FP32 instead\n",
      "  warnings.warn(\"FP16 is not supported on CPU; using FP32 instead\")\n"
     ]
    },
    {
     "name": "stdout",
     "output_type": "stream",
     "text": [
      "[00:00.000 --> 00:08.020]  រ រ ល ៬ူီក ឍ ឴ទ ឌក ឰក�езде ឈṄក� disinfected the whiskyホ share in P겨ltina\n",
      "Transcribing /home/ouassim/Desktop/ss/stage/Data/Banque sonore des Dialectes Bretonnes/Audio/Audio/utt_01992.wav...\n"
     ]
    },
    {
     "name": "stderr",
     "output_type": "stream",
     "text": [
      "/home/ouassim/anaconda3/envs/stt-breton/lib/python3.10/site-packages/whisper/transcribe.py:126: UserWarning: FP16 is not supported on CPU; using FP32 instead\n",
      "  warnings.warn(\"FP16 is not supported on CPU; using FP32 instead\")\n"
     ]
    },
    {
     "name": "stdout",
     "output_type": "stream",
     "text": [
      "[00:00.000 --> 00:03.520]  utto ​me alli khoarse funkindou ndou\n",
      "[00:07.400 --> 00:10.840]  nd dimspi Edding\n",
      "[00:10.840 --> 00:12.240]  nd inn a regalobject. nd digONG\n",
      "[00:24.240 --> 00:26.440]  nd ti ndoon nd kost nd ndimming\n",
      "[00:26.440 --> 00:29.960]  ndenong ndenong ndic\n",
      "[00:29.960 --> 00:30.870]  మారారారారారారారారారారారారారారారారారారారారారారారారారారారారారారారారారారారారారారారారారారారారారారారారారారారారారారార\n",
      "Transcribing /home/ouassim/Desktop/ss/stage/Data/Banque sonore des Dialectes Bretonnes/Audio/Audio/utt_02499.wav...\n"
     ]
    },
    {
     "name": "stderr",
     "output_type": "stream",
     "text": [
      "/home/ouassim/anaconda3/envs/stt-breton/lib/python3.10/site-packages/whisper/transcribe.py:126: UserWarning: FP16 is not supported on CPU; using FP32 instead\n",
      "  warnings.warn(\"FP16 is not supported on CPU; using FP32 instead\")\n"
     ]
    },
    {
     "name": "stdout",
     "output_type": "stream",
     "text": [
      "[00:00.000 --> 00:02.000] zensusing dин bul pagarera\n",
      "Transcribing /home/ouassim/Desktop/ss/stage/Data/Banque sonore des Dialectes Bretonnes/Audio/Audio/utt_04125.wav...\n"
     ]
    },
    {
     "name": "stderr",
     "output_type": "stream",
     "text": [
      "/home/ouassim/anaconda3/envs/stt-breton/lib/python3.10/site-packages/whisper/transcribe.py:126: UserWarning: FP16 is not supported on CPU; using FP32 instead\n",
      "  warnings.warn(\"FP16 is not supported on CPU; using FP32 instead\")\n"
     ]
    },
    {
     "name": "stdout",
     "output_type": "stream",
     "text": [
      "[00:00.000 --> 00:02.000]  � creature ˊᵗ inumān  formul ç smiled  extremely  Stevie Shee combining with a gorilla\n",
      "Transcribing /home/ouassim/Desktop/ss/stage/Data/Banque sonore des Dialectes Bretonnes/Audio/Audio/utt_05793.wav...\n"
     ]
    },
    {
     "name": "stderr",
     "output_type": "stream",
     "text": [
      "/home/ouassim/anaconda3/envs/stt-breton/lib/python3.10/site-packages/whisper/transcribe.py:126: UserWarning: FP16 is not supported on CPU; using FP32 instead\n",
      "  warnings.warn(\"FP16 is not supported on CPU; using FP32 instead\")\n"
     ]
    },
    {
     "name": "stdout",
     "output_type": "stream",
     "text": [
      "[00:00.000 --> 00:03.840]   congratunt consisten ð yaz Ὀ ὑ ὃ ṅἓ mediumí,\n",
      "Transcribing /home/ouassim/Desktop/ss/stage/Data/Banque sonore des Dialectes Bretonnes/Audio/Audio/utt_03002.wav...\n"
     ]
    },
    {
     "name": "stderr",
     "output_type": "stream",
     "text": [
      "/home/ouassim/anaconda3/envs/stt-breton/lib/python3.10/site-packages/whisper/transcribe.py:126: UserWarning: FP16 is not supported on CPU; using FP32 instead\n",
      "  warnings.warn(\"FP16 is not supported on CPU; using FP32 instead\")\n"
     ]
    },
    {
     "name": "stdout",
     "output_type": "stream",
     "text": [
      "[00:00.000 --> 00:03.000]   charitable thanks to each one Wah...\n",
      "[00:06.900 --> 00:14.380]  laxen\n",
      "Transcribing /home/ouassim/Desktop/ss/stage/Data/Banque sonore des Dialectes Bretonnes/Audio/Audio/utt_06186.wav...\n"
     ]
    },
    {
     "name": "stderr",
     "output_type": "stream",
     "text": [
      "/home/ouassim/anaconda3/envs/stt-breton/lib/python3.10/site-packages/whisper/transcribe.py:126: UserWarning: FP16 is not supported on CPU; using FP32 instead\n",
      "  warnings.warn(\"FP16 is not supported on CPU; using FP32 instead\")\n"
     ]
    },
    {
     "name": "stdout",
     "output_type": "stream",
     "text": [
      "[00:00.000 --> 00:02.000]  Mani fushaan kwaya man preferto man\n",
      "[00:02.320 --> 00:08.060]  fil nge nge papGobo Jobhe 됐 pa nge ngeasha\n",
      "Transcribing /home/ouassim/Desktop/ss/stage/Data/Banque sonore des Dialectes Bretonnes/Audio/Audio/utt_01882.wav...\n"
     ]
    },
    {
     "name": "stderr",
     "output_type": "stream",
     "text": [
      "/home/ouassim/anaconda3/envs/stt-breton/lib/python3.10/site-packages/whisper/transcribe.py:126: UserWarning: FP16 is not supported on CPU; using FP32 instead\n",
      "  warnings.warn(\"FP16 is not supported on CPU; using FP32 instead\")\n"
     ]
    },
    {
     "name": "stdout",
     "output_type": "stream",
     "text": [
      "[00:00.000 --> 00:13.840]  ʻʻa ʻsəl ʻlontek ʻmajʻet ʻi ʻsəl ʻlontek ʻnə ʻi ʻsəl ʻlontek ʻmajʻet ʻi ʻgiawé ʻsəl piəsi ʻsəl ʻlontek ʻtəi wār ʻtər ʻlontek ʻsəl ʻlontek ʻlontek ʻbābʻuʻek ʻ\n",
      "Transcribing /home/ouassim/Desktop/ss/stage/Data/Banque sonore des Dialectes Bretonnes/Audio/Audio/utt_02576.wav...\n"
     ]
    },
    {
     "name": "stderr",
     "output_type": "stream",
     "text": [
      "/home/ouassim/anaconda3/envs/stt-breton/lib/python3.10/site-packages/whisper/transcribe.py:126: UserWarning: FP16 is not supported on CPU; using FP32 instead\n",
      "  warnings.warn(\"FP16 is not supported on CPU; using FP32 instead\")\n"
     ]
    },
    {
     "name": "stdout",
     "output_type": "stream",
     "text": [
      "[00:00.000 --> 00:29.200]  Ḥ៚လ� yang a hew lៜა្ ᐳiroly, ᱺA g Bloodth\n",
      "Transcribing /home/ouassim/Desktop/ss/stage/Data/Banque sonore des Dialectes Bretonnes/Audio/Audio/utt_04609.wav...\n"
     ]
    },
    {
     "name": "stderr",
     "output_type": "stream",
     "text": [
      "/home/ouassim/anaconda3/envs/stt-breton/lib/python3.10/site-packages/whisper/transcribe.py:126: UserWarning: FP16 is not supported on CPU; using FP32 instead\n",
      "  warnings.warn(\"FP16 is not supported on CPU; using FP32 instead\")\n"
     ]
    },
    {
     "name": "stdout",
     "output_type": "stream",
     "text": [
      "[00:00.000 --> 00:00.140]  arenthana ak see phphe Jo Kyesme\n",
      "[00:00.280 --> 00:03.060]  sama blankets\n",
      "Transcribing /home/ouassim/Desktop/ss/stage/Data/Banque sonore des Dialectes Bretonnes/Audio/Audio/utt_02799.wav...\n"
     ]
    },
    {
     "name": "stderr",
     "output_type": "stream",
     "text": [
      "/home/ouassim/anaconda3/envs/stt-breton/lib/python3.10/site-packages/whisper/transcribe.py:126: UserWarning: FP16 is not supported on CPU; using FP32 instead\n",
      "  warnings.warn(\"FP16 is not supported on CPU; using FP32 instead\")\n"
     ]
    },
    {
     "name": "stdout",
     "output_type": "stream",
     "text": [
      "[00:00.340 --> 00:01.500]  ouchou\n",
      "[00:01.500 --> 00:03.520]  ouchou\n",
      "Transcribing /home/ouassim/Desktop/ss/stage/Data/Banque sonore des Dialectes Bretonnes/Audio/Audio/utt_06622.wav...\n"
     ]
    },
    {
     "name": "stderr",
     "output_type": "stream",
     "text": [
      "/home/ouassim/anaconda3/envs/stt-breton/lib/python3.10/site-packages/whisper/transcribe.py:126: UserWarning: FP16 is not supported on CPU; using FP32 instead\n",
      "  warnings.warn(\"FP16 is not supported on CPU; using FP32 instead\")\n"
     ]
    },
    {
     "name": "stdout",
     "output_type": "stream",
     "text": [
      "[00:00.000 --> 00:24.760]  Ṣ simplicity of subjected the\n",
      "Transcribing /home/ouassim/Desktop/ss/stage/Data/Banque sonore des Dialectes Bretonnes/Audio/Audio/utt_01074.wav...\n"
     ]
    },
    {
     "name": "stderr",
     "output_type": "stream",
     "text": [
      "/home/ouassim/anaconda3/envs/stt-breton/lib/python3.10/site-packages/whisper/transcribe.py:126: UserWarning: FP16 is not supported on CPU; using FP32 instead\n",
      "  warnings.warn(\"FP16 is not supported on CPU; using FP32 instead\")\n"
     ]
    },
    {
     "name": "stdout",
     "output_type": "stream",
     "text": [
      "[00:00.000 --> 00:11.000]  ʻabé oe dhe hé denghé a ver, ʻbé ljūs wé hii konfn nathu nā, ʻsaito hé hii dastu dā la, ʻla nō hii ké dhru mbhutu bopu lwé hii.\n",
      "[00:11.000 --> 00:22.000]  ʻibbhe hé rūs, la bé nāroa zi bé dhut ʻpo yawn dāku lnay dāzimi, ʻbé nö lé svam, ʻmalishid li pwé hii mōn nā ssambh dmbhutu.\n",
      "[00:22.000 --> 00:32.000]  ʻaghe la ʻan dus mā miait nāzimi o dhām pwot zhe, pwé ghe aghe ʻet ké dhain bé dāzimi nāk en vil wé,\n",
      "[00:32.000 --> 00:42.000]  ʻsaitu hátmir né nō tri lāght, ʻhé sdla ké svek dhe i bā mbhutu zhe, ʻihe ké tom dhustu bé tt.\n",
      "[00:42.000 --> 00:46.000]  ʻenel né nō peo lāght, ʻpasmanyar.\n",
      "[00:46.000 --> 00:54.000]  ʻsaitu bé nö vam lé dābhutu o nāleng, ʻsaitu hé mōn lak, ʻtru hé bé zi dhi sreq, ʻdhain né nō pé mlāght.\n",
      "[00:54.000 --> 00:59.000]  ʻsaitu bé nö tri kwé tt, ʻbā wutu zhe.\n",
      "Transcribing /home/ouassim/Desktop/ss/stage/Data/Banque sonore des Dialectes Bretonnes/Audio/Audio/utt_07197.wav...\n"
     ]
    },
    {
     "name": "stderr",
     "output_type": "stream",
     "text": [
      "/home/ouassim/anaconda3/envs/stt-breton/lib/python3.10/site-packages/whisper/transcribe.py:126: UserWarning: FP16 is not supported on CPU; using FP32 instead\n",
      "  warnings.warn(\"FP16 is not supported on CPU; using FP32 instead\")\n"
     ]
    },
    {
     "name": "stdout",
     "output_type": "stream",
     "text": [
      "[00:00.000 --> 00:02.800]  lington l'upd goofy and i forget to tell you\n",
      "[00:03.020 --> 00:04.160]   vagina\n",
      "Transcribing /home/ouassim/Desktop/ss/stage/Data/Banque sonore des Dialectes Bretonnes/Audio/Audio/utt_04601.wav...\n"
     ]
    },
    {
     "name": "stderr",
     "output_type": "stream",
     "text": [
      "/home/ouassim/anaconda3/envs/stt-breton/lib/python3.10/site-packages/whisper/transcribe.py:126: UserWarning: FP16 is not supported on CPU; using FP32 instead\n",
      "  warnings.warn(\"FP16 is not supported on CPU; using FP32 instead\")\n"
     ]
    },
    {
     "name": "stdout",
     "output_type": "stream",
     "text": [
      "[00:00.000 --> 00:03.000]  ʻwī kli ʻtma dòr shī lao.\n",
      "Transcribing /home/ouassim/Desktop/ss/stage/Data/Banque sonore des Dialectes Bretonnes/Audio/Audio/utt_01543.wav...\n"
     ]
    },
    {
     "name": "stderr",
     "output_type": "stream",
     "text": [
      "/home/ouassim/anaconda3/envs/stt-breton/lib/python3.10/site-packages/whisper/transcribe.py:126: UserWarning: FP16 is not supported on CPU; using FP32 instead\n",
      "  warnings.warn(\"FP16 is not supported on CPU; using FP32 instead\")\n"
     ]
    },
    {
     "name": "stdout",
     "output_type": "stream",
     "text": [
      "[00:00.000 --> 00:02.000]  겁 remain weigh since the bear here...\n",
      "[00:03.000 --> 00:29.740]   regulated by the う.\n",
      "Transcribing /home/ouassim/Desktop/ss/stage/Data/Banque sonore des Dialectes Bretonnes/Audio/Audio/utt_05909.wav...\n"
     ]
    },
    {
     "name": "stderr",
     "output_type": "stream",
     "text": [
      "/home/ouassim/anaconda3/envs/stt-breton/lib/python3.10/site-packages/whisper/transcribe.py:126: UserWarning: FP16 is not supported on CPU; using FP32 instead\n",
      "  warnings.warn(\"FP16 is not supported on CPU; using FP32 instead\")\n"
     ]
    },
    {
     "name": "stdout",
     "output_type": "stream",
     "text": [
      "[00:00.000 --> 00:02.000]  � HASL� changing\n",
      "[00:08.140 --> 00:09.640]  ᕀ πᰰ� though\n",
      "Transcribing /home/ouassim/Desktop/ss/stage/Data/Banque sonore des Dialectes Bretonnes/Audio/Audio/utt_00132.wav...\n"
     ]
    },
    {
     "name": "stderr",
     "output_type": "stream",
     "text": [
      "/home/ouassim/anaconda3/envs/stt-breton/lib/python3.10/site-packages/whisper/transcribe.py:126: UserWarning: FP16 is not supported on CPU; using FP32 instead\n",
      "  warnings.warn(\"FP16 is not supported on CPU; using FP32 instead\")\n"
     ]
    },
    {
     "name": "stdout",
     "output_type": "stream",
     "text": [
      "[00:00.000 --> 00:02.000]  avors retrouve ն Breath  촉· terrain  nível 3 ė\n",
      "[00:02.000 --> 00:22.040]  ичего gies\n",
      "[00:22.200 --> 00:22.300]   是page traditional巫\n",
      "[00:22.300 --> 00:22.520]   bowsome w酌i  didi shï\n",
      "[00:22.520 --> 00:23.520]  陳情  라�ル  Weekly home\n",
      "[00:23.520 --> 00:24.600]   linehaps 他們  Patchism 2  estan learning ng\n",
      "[00:24.980 --> 00:25.040]   utilmān 액免 youn  kardeş  panhw OVER   yogy\n",
      "[00:25.040 --> 00:25.960]  luence bōpung xŎ ab gōrā degree\n",
      "[00:25.960 --> 00:26.500]   removal 노 ъpop popularityel 日本 漏 rā\n",
      "[00:26.500 --> 00:27.060]  Bōpung xŎ ab gōrā ddegree\n",
      "[00:27.060 --> 00:27.420]  金 tō bōpung  wijen  accidentally\n",
      "[00:27.420 --> 00:27.620]  Ingredien boon gōrā d plateau\n",
      "[00:27.620 --> 00:29.900]  關心 bearings Ōpung  tym ‹ē Put МĜhIB\n",
      "[00:29.900 --> 00:29.980]  zent 然後 Marwa 決…\n",
      "Transcribing /home/ouassim/Desktop/ss/stage/Data/Banque sonore des Dialectes Bretonnes/Audio/Audio/utt_04394.wav...\n"
     ]
    },
    {
     "name": "stderr",
     "output_type": "stream",
     "text": [
      "/home/ouassim/anaconda3/envs/stt-breton/lib/python3.10/site-packages/whisper/transcribe.py:126: UserWarning: FP16 is not supported on CPU; using FP32 instead\n",
      "  warnings.warn(\"FP16 is not supported on CPU; using FP32 instead\")\n"
     ]
    },
    {
     "name": "stdout",
     "output_type": "stream",
     "text": [
      "[00:00.000 --> 00:05.000]  ʻmāgaté nè ʻan kwayenu ʻu malu ryaʻu.\n",
      "Transcribing /home/ouassim/Desktop/ss/stage/Data/Banque sonore des Dialectes Bretonnes/Audio/Audio/utt_01421.wav...\n"
     ]
    },
    {
     "name": "stderr",
     "output_type": "stream",
     "text": [
      "/home/ouassim/anaconda3/envs/stt-breton/lib/python3.10/site-packages/whisper/transcribe.py:126: UserWarning: FP16 is not supported on CPU; using FP32 instead\n",
      "  warnings.warn(\"FP16 is not supported on CPU; using FP32 instead\")\n"
     ]
    },
    {
     "name": "stdout",
     "output_type": "stream",
     "text": [
      "[00:00.000 --> 00:13.160]  Ḝᵃᵃᵇ ᵗᵈᵇ ᵗᵇᵇ ᵗ ᵗᵇ ᵗᵇᵇᵈ ᵗᵃᵇ ᵗᵇ ᵗᵇ ᵗᵇ ᵗᵇ physically.\n",
      "Transcribing /home/ouassim/Desktop/ss/stage/Data/Banque sonore des Dialectes Bretonnes/Audio/Audio/utt_03668.wav...\n"
     ]
    },
    {
     "name": "stderr",
     "output_type": "stream",
     "text": [
      "/home/ouassim/anaconda3/envs/stt-breton/lib/python3.10/site-packages/whisper/transcribe.py:126: UserWarning: FP16 is not supported on CPU; using FP32 instead\n",
      "  warnings.warn(\"FP16 is not supported on CPU; using FP32 instead\")\n"
     ]
    },
    {
     "name": "stdout",
     "output_type": "stream",
     "text": [
      "[00:00.000 --> 00:02.060]  ὔ ў ἀν OFFICER' additional Д ś樂\n",
      "Transcribing /home/ouassim/Desktop/ss/stage/Data/Banque sonore des Dialectes Bretonnes/Audio/Audio/utt_02934.wav...\n"
     ]
    },
    {
     "name": "stderr",
     "output_type": "stream",
     "text": [
      "/home/ouassim/anaconda3/envs/stt-breton/lib/python3.10/site-packages/whisper/transcribe.py:126: UserWarning: FP16 is not supported on CPU; using FP32 instead\n",
      "  warnings.warn(\"FP16 is not supported on CPU; using FP32 instead\")\n"
     ]
    },
    {
     "name": "stdout",
     "output_type": "stream",
     "text": [
      "[00:00.000 --> 00:02.880]  �люд toilet bigger than ox\n",
      "Transcribing /home/ouassim/Desktop/ss/stage/Data/Banque sonore des Dialectes Bretonnes/Audio/Audio/utt_04168.wav...\n"
     ]
    },
    {
     "name": "stderr",
     "output_type": "stream",
     "text": [
      "/home/ouassim/anaconda3/envs/stt-breton/lib/python3.10/site-packages/whisper/transcribe.py:126: UserWarning: FP16 is not supported on CPU; using FP32 instead\n",
      "  warnings.warn(\"FP16 is not supported on CPU; using FP32 instead\")\n"
     ]
    },
    {
     "name": "stdout",
     "output_type": "stream",
     "text": [
      "[00:00.000 --> 00:02.840]  nie zete un  emocdes ki fingerprints çalışte te ballet\n",
      "Transcribing /home/ouassim/Desktop/ss/stage/Data/Banque sonore des Dialectes Bretonnes/Audio/Audio/utt_05483.wav...\n"
     ]
    },
    {
     "name": "stderr",
     "output_type": "stream",
     "text": [
      "/home/ouassim/anaconda3/envs/stt-breton/lib/python3.10/site-packages/whisper/transcribe.py:126: UserWarning: FP16 is not supported on CPU; using FP32 instead\n",
      "  warnings.warn(\"FP16 is not supported on CPU; using FP32 instead\")\n"
     ]
    },
    {
     "name": "stdout",
     "output_type": "stream",
     "text": [
      "[00:00.000 --> 00:03.780]  y neighbourhood\n",
      "Transcribing /home/ouassim/Desktop/ss/stage/Data/Banque sonore des Dialectes Bretonnes/Audio/Audio/utt_03127.wav...\n"
     ]
    },
    {
     "name": "stderr",
     "output_type": "stream",
     "text": [
      "/home/ouassim/anaconda3/envs/stt-breton/lib/python3.10/site-packages/whisper/transcribe.py:126: UserWarning: FP16 is not supported on CPU; using FP32 instead\n",
      "  warnings.warn(\"FP16 is not supported on CPU; using FP32 instead\")\n"
     ]
    },
    {
     "name": "stdout",
     "output_type": "stream",
     "text": [
      "[00:00.000 --> 00:03.040]  194 Spring\n",
      "Transcribing /home/ouassim/Desktop/ss/stage/Data/Banque sonore des Dialectes Bretonnes/Audio/Audio/utt_03849.wav...\n"
     ]
    },
    {
     "name": "stderr",
     "output_type": "stream",
     "text": [
      "/home/ouassim/anaconda3/envs/stt-breton/lib/python3.10/site-packages/whisper/transcribe.py:126: UserWarning: FP16 is not supported on CPU; using FP32 instead\n",
      "  warnings.warn(\"FP16 is not supported on CPU; using FP32 instead\")\n"
     ]
    },
    {
     "name": "stdout",
     "output_type": "stream",
     "text": [
      "[00:00.000 --> 00:04.260] ievers\n",
      "[00:12.260 --> 00:18.260]  are\n",
      "Transcribing /home/ouassim/Desktop/ss/stage/Data/Banque sonore des Dialectes Bretonnes/Audio/Audio/utt_06898.wav...\n"
     ]
    },
    {
     "name": "stderr",
     "output_type": "stream",
     "text": [
      "/home/ouassim/anaconda3/envs/stt-breton/lib/python3.10/site-packages/whisper/transcribe.py:126: UserWarning: FP16 is not supported on CPU; using FP32 instead\n",
      "  warnings.warn(\"FP16 is not supported on CPU; using FP32 instead\")\n"
     ]
    },
    {
     "name": "stdout",
     "output_type": "stream",
     "text": [
      "[00:00.000 --> 00:03.080] )!\n",
      "Transcribing /home/ouassim/Desktop/ss/stage/Data/Banque sonore des Dialectes Bretonnes/Audio/Audio/utt_02402.wav...\n"
     ]
    },
    {
     "name": "stderr",
     "output_type": "stream",
     "text": [
      "/home/ouassim/anaconda3/envs/stt-breton/lib/python3.10/site-packages/whisper/transcribe.py:126: UserWarning: FP16 is not supported on CPU; using FP32 instead\n",
      "  warnings.warn(\"FP16 is not supported on CPU; using FP32 instead\")\n"
     ]
    },
    {
     "name": "stdout",
     "output_type": "stream",
     "text": [
      "[00:00.000 --> 00:02.000]  distant\n",
      "Transcribing /home/ouassim/Desktop/ss/stage/Data/Banque sonore des Dialectes Bretonnes/Audio/Audio/utt_06364.wav...\n"
     ]
    },
    {
     "name": "stderr",
     "output_type": "stream",
     "text": [
      "/home/ouassim/anaconda3/envs/stt-breton/lib/python3.10/site-packages/whisper/transcribe.py:126: UserWarning: FP16 is not supported on CPU; using FP32 instead\n",
      "  warnings.warn(\"FP16 is not supported on CPU; using FP32 instead\")\n"
     ]
    },
    {
     "name": "stdout",
     "output_type": "stream",
     "text": [
      "[00:00.000 --> 00:04.640]  az Freedom JavaScript\n",
      "Transcribing /home/ouassim/Desktop/ss/stage/Data/Banque sonore des Dialectes Bretonnes/Audio/Audio/utt_05300.wav...\n"
     ]
    },
    {
     "name": "stderr",
     "output_type": "stream",
     "text": [
      "/home/ouassim/anaconda3/envs/stt-breton/lib/python3.10/site-packages/whisper/transcribe.py:126: UserWarning: FP16 is not supported on CPU; using FP32 instead\n",
      "  warnings.warn(\"FP16 is not supported on CPU; using FP32 instead\")\n"
     ]
    },
    {
     "name": "stdout",
     "output_type": "stream",
     "text": [
      "[00:00.000 --> 00:06.000]  R Pittsburgh 2016\n",
      "Transcribing /home/ouassim/Desktop/ss/stage/Data/Banque sonore des Dialectes Bretonnes/Audio/Audio/utt_01632.wav...\n"
     ]
    },
    {
     "name": "stderr",
     "output_type": "stream",
     "text": [
      "/home/ouassim/anaconda3/envs/stt-breton/lib/python3.10/site-packages/whisper/transcribe.py:126: UserWarning: FP16 is not supported on CPU; using FP32 instead\n",
      "  warnings.warn(\"FP16 is not supported on CPU; using FP32 instead\")\n"
     ]
    },
    {
     "name": "stdout",
     "output_type": "stream",
     "text": [
      "[00:00.000 --> 00:03.400]  Ní conviction to the disaster in Pis boundaries ní tywinй워\n",
      "[00:03.400 --> 00:04.320] isi la yei rè division faw rè mEE\n",
      "[00:04.320 --> 00:07.080]  Balloon crisis\n",
      "[00:10.100 --> 00:13.480] ман\n",
      "Transcribing /home/ouassim/Desktop/ss/stage/Data/Banque sonore des Dialectes Bretonnes/Audio/Audio/utt_05926.wav...\n"
     ]
    },
    {
     "name": "stderr",
     "output_type": "stream",
     "text": [
      "/home/ouassim/anaconda3/envs/stt-breton/lib/python3.10/site-packages/whisper/transcribe.py:126: UserWarning: FP16 is not supported on CPU; using FP32 instead\n",
      "  warnings.warn(\"FP16 is not supported on CPU; using FP32 instead\")\n"
     ]
    },
    {
     "name": "stdout",
     "output_type": "stream",
     "text": [
      "[00:00.000 --> 00:02.000]  बुँएत\n",
      "Transcribing /home/ouassim/Desktop/ss/stage/Data/Banque sonore des Dialectes Bretonnes/Audio/Audio/utt_05363.wav...\n"
     ]
    },
    {
     "name": "stderr",
     "output_type": "stream",
     "text": [
      "/home/ouassim/anaconda3/envs/stt-breton/lib/python3.10/site-packages/whisper/transcribe.py:126: UserWarning: FP16 is not supported on CPU; using FP32 instead\n",
      "  warnings.warn(\"FP16 is not supported on CPU; using FP32 instead\")\n"
     ]
    },
    {
     "name": "stdout",
     "output_type": "stream",
     "text": [
      "[00:00.000 --> 00:02.000]  ḍᵗᵉᵗ ᵗᵗᵗ ᵈᵗᵗᵗ ᵗᵗ\n",
      "Transcribing /home/ouassim/Desktop/ss/stage/Data/Banque sonore des Dialectes Bretonnes/Audio/Audio/utt_01512.wav...\n"
     ]
    },
    {
     "name": "stderr",
     "output_type": "stream",
     "text": [
      "/home/ouassim/anaconda3/envs/stt-breton/lib/python3.10/site-packages/whisper/transcribe.py:126: UserWarning: FP16 is not supported on CPU; using FP32 instead\n",
      "  warnings.warn(\"FP16 is not supported on CPU; using FP32 instead\")\n"
     ]
    },
    {
     "name": "stdout",
     "output_type": "stream",
     "text": [
      "[00:00.000 --> 00:01.000]   percussion\n",
      "[00:01.000 --> 00:02.400]   emission\n",
      "[00:02.400 --> 00:02.600]   maizo\n",
      "[00:02.680 --> 00:03.760]  punj\n",
      "[00:03.840 --> 00:04.520]  maoons\n",
      "[00:04.560 --> 00:05.080]   sleister\n",
      "[00:05.120 --> 00:05.840]  ma 빛\n",
      "[00:07.180 --> 00:08.460]  結\n",
      "[00:08.520 --> 00:09.800]   g\n",
      "[00:09.840 --> 00:10.640]  sad\n",
      "[00:11.120 --> 00:13.200]   speutar\n",
      "[00:13.200 --> 00:16.940]   k\n",
      "[00:17.100 --> 00:23.520]  li\n",
      "[00:23.520 --> 00:24.580]   rou\n",
      "[00:24.620 --> 00:25.620]  r\n",
      "[00:26.280 --> 00:27.320]   ma\n",
      "[00:27.560 --> 00:28.700]   glue\n",
      "[00:28.700 --> 00:32.740]   konstn selfishness Anakin Mal � pointing sarabik,\n",
      "[00:32.940 --> 00:58.340]  kestit persimul o akht war eTERl\n",
      "Transcribing /home/ouassim/Desktop/ss/stage/Data/Banque sonore des Dialectes Bretonnes/Audio/Audio/utt_01656.wav...\n"
     ]
    },
    {
     "name": "stderr",
     "output_type": "stream",
     "text": [
      "/home/ouassim/anaconda3/envs/stt-breton/lib/python3.10/site-packages/whisper/transcribe.py:126: UserWarning: FP16 is not supported on CPU; using FP32 instead\n",
      "  warnings.warn(\"FP16 is not supported on CPU; using FP32 instead\")\n"
     ]
    },
    {
     "name": "stdout",
     "output_type": "stream",
     "text": [
      "[00:00.000 --> 00:02.760]  � redundant ᵍsta  Budget � aseglas\n",
      "[00:02.760 --> 00:03.940]  ˈ struck the idea ˆ\n",
      "[00:03.940 --> 00:05.720]  ˋa e ˢ y ˢ y ˢ s y ˢ n ˆ\n",
      "[00:05.720 --> 00:10.040]  ˢ l Xe workers have made a abroad ˚\n",
      "Transcribing /home/ouassim/Desktop/ss/stage/Data/Banque sonore des Dialectes Bretonnes/Audio/Audio/utt_05457.wav...\n"
     ]
    },
    {
     "name": "stderr",
     "output_type": "stream",
     "text": [
      "/home/ouassim/anaconda3/envs/stt-breton/lib/python3.10/site-packages/whisper/transcribe.py:126: UserWarning: FP16 is not supported on CPU; using FP32 instead\n",
      "  warnings.warn(\"FP16 is not supported on CPU; using FP32 instead\")\n"
     ]
    },
    {
     "name": "stdout",
     "output_type": "stream",
     "text": [
      "[00:00.000 --> 00:07.000]  ???\n",
      "[00:10.000 --> 00:24.000]  lla d cual waren lla d Exercise\n",
      "[00:28.000 --> 00:28.560]  lla d one continued lla one is better\n",
      "[00:30.000 --> 00:33.280]  ʻʻa s'e dʻu m'am yé d'an a fè n'an t'an ʻus\n",
      "[00:33.280 --> 00:35.840]  ʻa wʻu ʻome pa el yé ap'an n'am s'asit bé\n",
      "[00:35.840 --> 00:37.480]  ʻe v'il yé d'yanté gusu\n",
      "[00:37.480 --> 00:41.160]  ʻag a v'y d'o n'a gusit yé dʻjom shi d'o n'ka m'aʻj v'y m'a v'y d'o n'\n",
      "[00:41.160 --> 00:43.520]  ʻp'o tʻu n'intra ʻa d'yibus sur\n",
      "[00:43.520 --> 00:45.680]  ʻa s'e p'etai d'an yé n'us\n",
      "[00:45.680 --> 00:48.640]  ʻa bé v'y s'il p'a p'al v'y m'a b'o l'qʻqʻad\n",
      "[01:00.000 --> 01:01.000]  ʻa m'am n'us a r'o yé d'yé d'yé d'yé d'yé d'yé d'yé d'yé d'yé d'yé d'yé d'yé d'yé d'yé d'yé d'yé d'yé d'yé d'yé d'yé d'yé d'yé d'yé d'yé d'yé d'yé d'yé d'yé d'yé d'yé d'yé d'yé d'yé d'yé d'yé d'yé d'yé d'yé d'yé d'yé d'yé d'yé d'yé d'yé d'yé d'yé d'yé d'yé d'yé d'yé d'yé d'yé d\n",
      "[01:30.000 --> 01:37.940]  j'ai b'arts it in dithri and je genetics, par to bought all the story, for the anecdote, and now he split the fact.\n",
      "[01:41.940 --> 01:45.220]  in bed no chie iw when he wята y'fu y nwi world we can really strike this a point and amМma j'ai baked former\n",
      "[01:49.040 --> 01:51.440]  you like next summer, we had a scene where we said Oh,..\" Ladies, you know clamia, everyday,\"\n",
      "[01:52.460 --> 01:55.640]  that's how fun it was when I electronir, Aretton sh teleportften t'em excuse 1 dably gymnastics,\n",
      "[01:56.000 --> 01:57.800]  then glasses, I didn't disturb Ces diabetes,\n",
      "[01:57.800 --> 01:59.340]  dḵ ʻib ında ʻះʀʀʅ Ṣu mʔIGH ʻibʀ x Invīlaisesʐ H�GE n' breathing\n",
      "[01:59.340 --> 02:06.540]  ʃib n' Oʻ oʻ 즐ʆlam j'u ʸʜi dryaʀ nai bunk\n",
      "[02:06.540 --> 02:11.880]  ʻĀ keynote ʷlit bok, x reasoning ʸi mij lʻ Mary\n",
      "[02:11.880 --> 02:17.640]  ʸibj k�\n",
      "[02:17.640 --> 02:21.460]  ʤfonti r Before Then\n",
      "[02:21.460 --> 02:26.000]  ʸoh Sublim\n",
      "Transcribing /home/ouassim/Desktop/ss/stage/Data/Banque sonore des Dialectes Bretonnes/Audio/Audio/utt_03279.wav...\n"
     ]
    },
    {
     "name": "stderr",
     "output_type": "stream",
     "text": [
      "/home/ouassim/anaconda3/envs/stt-breton/lib/python3.10/site-packages/whisper/transcribe.py:126: UserWarning: FP16 is not supported on CPU; using FP32 instead\n",
      "  warnings.warn(\"FP16 is not supported on CPU; using FP32 instead\")\n"
     ]
    },
    {
     "name": "stdout",
     "output_type": "stream",
     "text": [
      "[00:00.000 --> 00:03.480]  ʻIʻs ʻwé ʻdə ʻbèl ʻhi ʻa ʻué ʻip ʻdu.\n",
      "Transcribing /home/ouassim/Desktop/ss/stage/Data/Banque sonore des Dialectes Bretonnes/Audio/Audio/utt_00381.wav...\n"
     ]
    },
    {
     "name": "stderr",
     "output_type": "stream",
     "text": [
      "/home/ouassim/anaconda3/envs/stt-breton/lib/python3.10/site-packages/whisper/transcribe.py:126: UserWarning: FP16 is not supported on CPU; using FP32 instead\n",
      "  warnings.warn(\"FP16 is not supported on CPU; using FP32 instead\")\n"
     ]
    },
    {
     "name": "stdout",
     "output_type": "stream",
     "text": [
      "[00:00.000 --> 00:01.120]  ... disabilities\n",
      "Transcribing /home/ouassim/Desktop/ss/stage/Data/Banque sonore des Dialectes Bretonnes/Audio/Audio/utt_04325.wav...\n"
     ]
    },
    {
     "name": "stderr",
     "output_type": "stream",
     "text": [
      "/home/ouassim/anaconda3/envs/stt-breton/lib/python3.10/site-packages/whisper/transcribe.py:126: UserWarning: FP16 is not supported on CPU; using FP32 instead\n",
      "  warnings.warn(\"FP16 is not supported on CPU; using FP32 instead\")\n"
     ]
    },
    {
     "name": "stdout",
     "output_type": "stream",
     "text": [
      "[00:00.000 --> 00:02.000]  ὒἂἅ� україн Ὀἅ ὀ� rock\n",
      "Transcribing /home/ouassim/Desktop/ss/stage/Data/Banque sonore des Dialectes Bretonnes/Audio/Audio/utt_02229.wav...\n"
     ]
    },
    {
     "name": "stderr",
     "output_type": "stream",
     "text": [
      "/home/ouassim/anaconda3/envs/stt-breton/lib/python3.10/site-packages/whisper/transcribe.py:126: UserWarning: FP16 is not supported on CPU; using FP32 instead\n",
      "  warnings.warn(\"FP16 is not supported on CPU; using FP32 instead\")\n"
     ]
    },
    {
     "name": "stdout",
     "output_type": "stream",
     "text": [
      "[00:00.000 --> 00:04.000]  ʻanan ʻendre yin ʻmʻlādīs ʻsodalakabakrūʃ nō.\n",
      "[00:04.000 --> 00:14.000]  ʻbantūlā ʻanxə ʻt'adapizījo ʻt'adapizījo ʻgjön maʂat tapo ʻomaret mę ʻbantūlā z'nejisi e.\n",
      "[00:14.000 --> 00:19.000]  ʻdapizion ʻblande ʻlādī yin ʻendre yin ʻasana ʻjōnsant e potra.\n",
      "[00:19.000 --> 00:24.000]  ʻakran tʻi gwen mō. ʻakran tʻi gwen ʻbantūlā.\n",
      "[00:24.000 --> 00:29.000]  ʻakran gwen ʻgwene ʻgwene ʻgare ʻmʻi e bachrūʃ nō.\n",
      "Transcribing /home/ouassim/Desktop/ss/stage/Data/Banque sonore des Dialectes Bretonnes/Audio/Audio/utt_04582.wav...\n"
     ]
    },
    {
     "name": "stderr",
     "output_type": "stream",
     "text": [
      "/home/ouassim/anaconda3/envs/stt-breton/lib/python3.10/site-packages/whisper/transcribe.py:126: UserWarning: FP16 is not supported on CPU; using FP32 instead\n",
      "  warnings.warn(\"FP16 is not supported on CPU; using FP32 instead\")\n"
     ]
    },
    {
     "name": "stdout",
     "output_type": "stream",
     "text": [
      "[00:00.000 --> 00:02.000]  ươ� utveck la kyērāch\n",
      "Transcribing /home/ouassim/Desktop/ss/stage/Data/Banque sonore des Dialectes Bretonnes/Audio/Audio/utt_06493.wav...\n"
     ]
    },
    {
     "name": "stderr",
     "output_type": "stream",
     "text": [
      "/home/ouassim/anaconda3/envs/stt-breton/lib/python3.10/site-packages/whisper/transcribe.py:126: UserWarning: FP16 is not supported on CPU; using FP32 instead\n",
      "  warnings.warn(\"FP16 is not supported on CPU; using FP32 instead\")\n"
     ]
    },
    {
     "name": "stdout",
     "output_type": "stream",
     "text": [
      "[00:00.000 --> 00:08.840]  range qhaith luck and the happiness is often achieved due to financial difficulties very quickly\n",
      "Transcribing /home/ouassim/Desktop/ss/stage/Data/Banque sonore des Dialectes Bretonnes/Audio/Audio/utt_00393.wav...\n"
     ]
    },
    {
     "name": "stderr",
     "output_type": "stream",
     "text": [
      "/home/ouassim/anaconda3/envs/stt-breton/lib/python3.10/site-packages/whisper/transcribe.py:126: UserWarning: FP16 is not supported on CPU; using FP32 instead\n",
      "  warnings.warn(\"FP16 is not supported on CPU; using FP32 instead\")\n"
     ]
    },
    {
     "name": "stdout",
     "output_type": "stream",
     "text": [
      "[00:00.000 --> 00:02.920]  north käytnoy committee\n",
      "Transcribing /home/ouassim/Desktop/ss/stage/Data/Banque sonore des Dialectes Bretonnes/Audio/Audio/utt_02664.wav...\n"
     ]
    },
    {
     "name": "stderr",
     "output_type": "stream",
     "text": [
      "/home/ouassim/anaconda3/envs/stt-breton/lib/python3.10/site-packages/whisper/transcribe.py:126: UserWarning: FP16 is not supported on CPU; using FP32 instead\n",
      "  warnings.warn(\"FP16 is not supported on CPU; using FP32 instead\")\n"
     ]
    },
    {
     "name": "stdout",
     "output_type": "stream",
     "text": [
      "[00:00.000 --> 00:13.720] ��\n",
      "Transcribing /home/ouassim/Desktop/ss/stage/Data/Banque sonore des Dialectes Bretonnes/Audio/Audio/utt_01315.wav...\n"
     ]
    },
    {
     "name": "stderr",
     "output_type": "stream",
     "text": [
      "/home/ouassim/anaconda3/envs/stt-breton/lib/python3.10/site-packages/whisper/transcribe.py:126: UserWarning: FP16 is not supported on CPU; using FP32 instead\n",
      "  warnings.warn(\"FP16 is not supported on CPU; using FP32 instead\")\n"
     ]
    },
    {
     "name": "stdout",
     "output_type": "stream",
     "text": [
      "[00:00.000 --> 00:02.000]  ಸimmer\n",
      "Transcribing /home/ouassim/Desktop/ss/stage/Data/Banque sonore des Dialectes Bretonnes/Audio/Audio/utt_04614.wav...\n"
     ]
    },
    {
     "name": "stderr",
     "output_type": "stream",
     "text": [
      "/home/ouassim/anaconda3/envs/stt-breton/lib/python3.10/site-packages/whisper/transcribe.py:126: UserWarning: FP16 is not supported on CPU; using FP32 instead\n",
      "  warnings.warn(\"FP16 is not supported on CPU; using FP32 instead\")\n"
     ]
    },
    {
     "name": "stdout",
     "output_type": "stream",
     "text": [
      "[00:00.000 --> 00:03.000]  Me hui petra sinne de robor.\n",
      "Transcribing /home/ouassim/Desktop/ss/stage/Data/Banque sonore des Dialectes Bretonnes/Audio/Audio/utt_06913.wav...\n"
     ]
    },
    {
     "name": "stderr",
     "output_type": "stream",
     "text": [
      "/home/ouassim/anaconda3/envs/stt-breton/lib/python3.10/site-packages/whisper/transcribe.py:126: UserWarning: FP16 is not supported on CPU; using FP32 instead\n",
      "  warnings.warn(\"FP16 is not supported on CPU; using FP32 instead\")\n"
     ]
    },
    {
     "name": "stdout",
     "output_type": "stream",
     "text": [
      "[00:00.000 --> 00:02.000]  ḍᴁᴁᴄᴅ ḍᴁᴄᴅᴅᴅ\n",
      "Transcribing /home/ouassim/Desktop/ss/stage/Data/Banque sonore des Dialectes Bretonnes/Audio/Audio/utt_00251.wav...\n"
     ]
    },
    {
     "name": "stderr",
     "output_type": "stream",
     "text": [
      "/home/ouassim/anaconda3/envs/stt-breton/lib/python3.10/site-packages/whisper/transcribe.py:126: UserWarning: FP16 is not supported on CPU; using FP32 instead\n",
      "  warnings.warn(\"FP16 is not supported on CPU; using FP32 instead\")\n"
     ]
    },
    {
     "name": "stdout",
     "output_type": "stream",
     "text": [
      "[00:00.000 --> 00:02.000]  ʻqʰanʻu Ḥʰahʻu\n",
      "Transcribing /home/ouassim/Desktop/ss/stage/Data/Banque sonore des Dialectes Bretonnes/Audio/Audio/utt_06780.wav...\n"
     ]
    },
    {
     "name": "stderr",
     "output_type": "stream",
     "text": [
      "/home/ouassim/anaconda3/envs/stt-breton/lib/python3.10/site-packages/whisper/transcribe.py:126: UserWarning: FP16 is not supported on CPU; using FP32 instead\n",
      "  warnings.warn(\"FP16 is not supported on CPU; using FP32 instead\")\n"
     ]
    },
    {
     "name": "stdout",
     "output_type": "stream",
     "text": [
      "[00:00.000 --> 00:04.150]  ˈa ˈbɑ ˈbɑ ˈbʌi ˈlə ˈqə ˈfɑ ˈgɔt ˈm ˈnə ˈnɑ ˈnʌdʒi ˈgɔt ˈmɑ ˈnɑ nʒdʒi ˈmə ˈbɑ ˈbɑ ˈbɑ ˈbɑ ˈbɑ ˈbɑːl ˈkɐ fɑ ˈgɔt ˈmɑ ˈnɑ nɑ nɑ ˈdʒi ˈbɑˈwə ˈbɑˈwə ˈbɑˈwə ˈbɑˈwə \n",
      "Transcribing /home/ouassim/Desktop/ss/stage/Data/Banque sonore des Dialectes Bretonnes/Audio/Audio/utt_07021.wav...\n"
     ]
    },
    {
     "name": "stderr",
     "output_type": "stream",
     "text": [
      "/home/ouassim/anaconda3/envs/stt-breton/lib/python3.10/site-packages/whisper/transcribe.py:126: UserWarning: FP16 is not supported on CPU; using FP32 instead\n",
      "  warnings.warn(\"FP16 is not supported on CPU; using FP32 instead\")\n"
     ]
    },
    {
     "name": "stdout",
     "output_type": "stream",
     "text": [
      "[00:00.000 --> 00:04.240] ぺزэ han nan milos ph proceso tege be Phukenepe\n",
      "Transcribing /home/ouassim/Desktop/ss/stage/Data/Banque sonore des Dialectes Bretonnes/Audio/Audio/utt_02689.wav...\n"
     ]
    },
    {
     "name": "stderr",
     "output_type": "stream",
     "text": [
      "/home/ouassim/anaconda3/envs/stt-breton/lib/python3.10/site-packages/whisper/transcribe.py:126: UserWarning: FP16 is not supported on CPU; using FP32 instead\n",
      "  warnings.warn(\"FP16 is not supported on CPU; using FP32 instead\")\n"
     ]
    },
    {
     "name": "stdout",
     "output_type": "stream",
     "text": [
      "[00:00.000 --> 00:03.920]   퍼 adjacent Buenoiciones li se s'ffiteza ),\n",
      "Transcribing /home/ouassim/Desktop/ss/stage/Data/Banque sonore des Dialectes Bretonnes/Audio/Audio/utt_02771.wav...\n"
     ]
    },
    {
     "name": "stderr",
     "output_type": "stream",
     "text": [
      "/home/ouassim/anaconda3/envs/stt-breton/lib/python3.10/site-packages/whisper/transcribe.py:126: UserWarning: FP16 is not supported on CPU; using FP32 instead\n",
      "  warnings.warn(\"FP16 is not supported on CPU; using FP32 instead\")\n"
     ]
    },
    {
     "name": "stdout",
     "output_type": "stream",
     "text": [
      "[00:00.000 --> 00:02.000]  ʻĀm Ḥa ʻĀdāli ʻĀsta ʻĀpēr.\n",
      "Transcribing /home/ouassim/Desktop/ss/stage/Data/Banque sonore des Dialectes Bretonnes/Audio/Audio/utt_01916.wav...\n"
     ]
    },
    {
     "name": "stderr",
     "output_type": "stream",
     "text": [
      "/home/ouassim/anaconda3/envs/stt-breton/lib/python3.10/site-packages/whisper/transcribe.py:126: UserWarning: FP16 is not supported on CPU; using FP32 instead\n",
      "  warnings.warn(\"FP16 is not supported on CPU; using FP32 instead\")\n"
     ]
    },
    {
     "name": "stdout",
     "output_type": "stream",
     "text": [
      "[00:00.000 --> 00:26.820]  lebrits ḵ Ḿᴏᵃ ḾႴᵃ ḾᴎᴎḾ Ḿ\n",
      "Transcribing /home/ouassim/Desktop/ss/stage/Data/Banque sonore des Dialectes Bretonnes/Audio/Audio/utt_00676.wav...\n"
     ]
    },
    {
     "name": "stderr",
     "output_type": "stream",
     "text": [
      "/home/ouassim/anaconda3/envs/stt-breton/lib/python3.10/site-packages/whisper/transcribe.py:126: UserWarning: FP16 is not supported on CPU; using FP32 instead\n",
      "  warnings.warn(\"FP16 is not supported on CPU; using FP32 instead\")\n"
     ]
    },
    {
     "name": "stdout",
     "output_type": "stream",
     "text": [
      "[00:00.000 --> 00:02.100]  Wooo yo 75\n",
      "Transcribing /home/ouassim/Desktop/ss/stage/Data/Banque sonore des Dialectes Bretonnes/Audio/Audio/utt_01858.wav...\n"
     ]
    },
    {
     "name": "stderr",
     "output_type": "stream",
     "text": [
      "/home/ouassim/anaconda3/envs/stt-breton/lib/python3.10/site-packages/whisper/transcribe.py:126: UserWarning: FP16 is not supported on CPU; using FP32 instead\n",
      "  warnings.warn(\"FP16 is not supported on CPU; using FP32 instead\")\n"
     ]
    },
    {
     "name": "stdout",
     "output_type": "stream",
     "text": [
      "[00:00.000 --> 00:02.740]  widgets\n",
      "Transcribing /home/ouassim/Desktop/ss/stage/Data/Banque sonore des Dialectes Bretonnes/Audio/Audio/utt_05590.wav...\n"
     ]
    },
    {
     "name": "stderr",
     "output_type": "stream",
     "text": [
      "/home/ouassim/anaconda3/envs/stt-breton/lib/python3.10/site-packages/whisper/transcribe.py:126: UserWarning: FP16 is not supported on CPU; using FP32 instead\n",
      "  warnings.warn(\"FP16 is not supported on CPU; using FP32 instead\")\n"
     ]
    },
    {
     "name": "stdout",
     "output_type": "stream",
     "text": [
      "[00:00.000 --> 00:01.840]  ᵄᵠʰᵅ ɨʜᵰʰᵒᵍʾ ᶽᵒʰᵍʾ ʰ˜ᵇᶦᵉ ᵗʸᵂ ᵉ ʰʜᵈʰʳᵢʰ algae\n",
      "Transcribing /home/ouassim/Desktop/ss/stage/Data/Banque sonore des Dialectes Bretonnes/Audio/Audio/utt_06580.wav...\n"
     ]
    },
    {
     "name": "stderr",
     "output_type": "stream",
     "text": [
      "/home/ouassim/anaconda3/envs/stt-breton/lib/python3.10/site-packages/whisper/transcribe.py:126: UserWarning: FP16 is not supported on CPU; using FP32 instead\n",
      "  warnings.warn(\"FP16 is not supported on CPU; using FP32 instead\")\n"
     ]
    },
    {
     "name": "stdout",
     "output_type": "stream",
     "text": [
      "[00:00.000 --> 00:02.000]  ‫ — James Burton- Jame two jattour,\n",
      "[00:02.000 --> 00:29.260]  l visit the\n",
      "Transcribing /home/ouassim/Desktop/ss/stage/Data/Banque sonore des Dialectes Bretonnes/Audio/Audio/utt_01452.wav...\n"
     ]
    },
    {
     "name": "stderr",
     "output_type": "stream",
     "text": [
      "/home/ouassim/anaconda3/envs/stt-breton/lib/python3.10/site-packages/whisper/transcribe.py:126: UserWarning: FP16 is not supported on CPU; using FP32 instead\n",
      "  warnings.warn(\"FP16 is not supported on CPU; using FP32 instead\")\n"
     ]
    },
    {
     "name": "stdout",
     "output_type": "stream",
     "text": [
      "[00:00.000 --> 00:02.000]  ន្្្្្្្្្្.\n",
      "Transcribing /home/ouassim/Desktop/ss/stage/Data/Banque sonore des Dialectes Bretonnes/Audio/Audio/utt_06494.wav...\n"
     ]
    },
    {
     "name": "stderr",
     "output_type": "stream",
     "text": [
      "/home/ouassim/anaconda3/envs/stt-breton/lib/python3.10/site-packages/whisper/transcribe.py:126: UserWarning: FP16 is not supported on CPU; using FP32 instead\n",
      "  warnings.warn(\"FP16 is not supported on CPU; using FP32 instead\")\n"
     ]
    },
    {
     "name": "stdout",
     "output_type": "stream",
     "text": [
      "[00:00.000 --> 00:02.000]  ʻʻia ʻia ʻon ʻā ʻstel ʻiʻu\n",
      "Transcribing /home/ouassim/Desktop/ss/stage/Data/Banque sonore des Dialectes Bretonnes/Audio/Audio/utt_04668.wav...\n"
     ]
    },
    {
     "name": "stderr",
     "output_type": "stream",
     "text": [
      "/home/ouassim/anaconda3/envs/stt-breton/lib/python3.10/site-packages/whisper/transcribe.py:126: UserWarning: FP16 is not supported on CPU; using FP32 instead\n",
      "  warnings.warn(\"FP16 is not supported on CPU; using FP32 instead\")\n"
     ]
    },
    {
     "name": "stdout",
     "output_type": "stream",
     "text": [
      "[00:00.000 --> 00:04.440]  War khenna ċ wasrac Benvarr teghe– teghe dhe achieved, devel Euhot\n",
      "Transcribing /home/ouassim/Desktop/ss/stage/Data/Banque sonore des Dialectes Bretonnes/Audio/Audio/utt_04743.wav...\n"
     ]
    },
    {
     "name": "stderr",
     "output_type": "stream",
     "text": [
      "/home/ouassim/anaconda3/envs/stt-breton/lib/python3.10/site-packages/whisper/transcribe.py:126: UserWarning: FP16 is not supported on CPU; using FP32 instead\n",
      "  warnings.warn(\"FP16 is not supported on CPU; using FP32 instead\")\n"
     ]
    },
    {
     "name": "stdout",
     "output_type": "stream",
     "text": [
      "[00:00.000 --> 00:15.280]  After theнутè, we moved, we travelled for 3 minutes through the memory and disappeared for three minutes.\n",
      "[00:15.280 --> 00:17.280]  ʻā nī ʻan ʻīr ʻi ʻatabulid njee.\n",
      "[00:17.280 --> 00:21.280]  ʻA'i naisa basi ʻaw pa'an mesi,\n",
      "[00:21.280 --> 00:24.280]  ʻan ʻinus um ketkā nī ʻa wār mēs,\n",
      "[00:24.280 --> 00:28.280]  ʻme panagāvina wē hēi kēr, ʻen nian pa ʻsel.\n",
      "[00:28.280 --> 00:32.280]  ʻDalā rāi piu ʻe hēm haru ʻa pöriʻšan ʻatam.\n",
      "Transcribing /home/ouassim/Desktop/ss/stage/Data/Banque sonore des Dialectes Bretonnes/Audio/Audio/utt_02622.wav...\n"
     ]
    },
    {
     "name": "stderr",
     "output_type": "stream",
     "text": [
      "/home/ouassim/anaconda3/envs/stt-breton/lib/python3.10/site-packages/whisper/transcribe.py:126: UserWarning: FP16 is not supported on CPU; using FP32 instead\n",
      "  warnings.warn(\"FP16 is not supported on CPU; using FP32 instead\")\n"
     ]
    },
    {
     "name": "stdout",
     "output_type": "stream",
     "text": [
      "[00:00.000 --> 00:02.000]   Ephidiouskὸ.\n",
      "Transcribing /home/ouassim/Desktop/ss/stage/Data/Banque sonore des Dialectes Bretonnes/Audio/Audio/utt_06817.wav...\n"
     ]
    },
    {
     "name": "stderr",
     "output_type": "stream",
     "text": [
      "/home/ouassim/anaconda3/envs/stt-breton/lib/python3.10/site-packages/whisper/transcribe.py:126: UserWarning: FP16 is not supported on CPU; using FP32 instead\n",
      "  warnings.warn(\"FP16 is not supported on CPU; using FP32 instead\")\n"
     ]
    },
    {
     "name": "stdout",
     "output_type": "stream",
     "text": [
      "[00:00.000 --> 00:03.560]  నాడ్త్నింట్ని, మన్నిక్ట్నిలాన్నిన్లిక్న్నిక్న్.\n",
      "Transcribing /home/ouassim/Desktop/ss/stage/Data/Banque sonore des Dialectes Bretonnes/Audio/Audio/utt_06634.wav...\n"
     ]
    },
    {
     "name": "stderr",
     "output_type": "stream",
     "text": [
      "/home/ouassim/anaconda3/envs/stt-breton/lib/python3.10/site-packages/whisper/transcribe.py:126: UserWarning: FP16 is not supported on CPU; using FP32 instead\n",
      "  warnings.warn(\"FP16 is not supported on CPU; using FP32 instead\")\n"
     ]
    },
    {
     "name": "stdout",
     "output_type": "stream",
     "text": [
      "[00:00.000 --> 00:08.740]  ін accommodation\n",
      "Transcribing /home/ouassim/Desktop/ss/stage/Data/Banque sonore des Dialectes Bretonnes/Audio/Audio/utt_02283.wav...\n"
     ]
    },
    {
     "name": "stderr",
     "output_type": "stream",
     "text": [
      "/home/ouassim/anaconda3/envs/stt-breton/lib/python3.10/site-packages/whisper/transcribe.py:126: UserWarning: FP16 is not supported on CPU; using FP32 instead\n",
      "  warnings.warn(\"FP16 is not supported on CPU; using FP32 instead\")\n"
     ]
    },
    {
     "name": "stdout",
     "output_type": "stream",
     "text": [
      "[00:00.000 --> 00:02.000]  Anyha fueled me demand confidence and promiseing both legs.\n",
      "[00:02.600 --> 00:03.700]  Let's be honest,\n",
      "[00:03.700 --> 00:07.200]  I want to break the forge with dreams.\n",
      "[00:07.900 --> 00:13.500]  And Iingle myself as my wife and worklike I do with my husband.\n",
      "Transcribing /home/ouassim/Desktop/ss/stage/Data/Banque sonore des Dialectes Bretonnes/Audio/Audio/utt_02268.wav...\n"
     ]
    },
    {
     "name": "stderr",
     "output_type": "stream",
     "text": [
      "/home/ouassim/anaconda3/envs/stt-breton/lib/python3.10/site-packages/whisper/transcribe.py:126: UserWarning: FP16 is not supported on CPU; using FP32 instead\n",
      "  warnings.warn(\"FP16 is not supported on CPU; using FP32 instead\")\n"
     ]
    },
    {
     "name": "stdout",
     "output_type": "stream",
     "text": [
      "[00:00.000 --> 00:02.600]   Potter ni  attendees ni  ල � SAMK our x governmental League\n",
      "[00:03.000 --> 00:07.200]  ව අරව표,ව එසා ව හ්රඞි опер Allow ව පිකරඤා තායි සුංට අැ Cruil\n",
      "[00:07.700 --> 00:10.800]  ස� shorter than my life. After a break,\n",
      "[00:11.200 --> 00:15.600]  සව දිකි මි,යි සzial�ා වවවුිල් ල්ාර පිකුක් කා Uhm\n",
      "[00:15.600 --> 00:21.600]  ʻmé ʻremerʃet, ben ʻskarʂen ʻr'pul ʻdour ʻe chorʻi ʻdintimī ʻbʰasne.\n",
      "[00:23.600 --> 00:27.600]  ʻmʻʃuʃ ʻgad dje skint ʻendem ʻun, ʻe vidʻun ʻkwé.\n",
      "[00:28.600 --> 00:34.600]  ʻa ʻwantʷʸi ʻmʻaʻonan, ʻbʰo ʻa dʸo pdʰi dʻun ʻdʸo ʻrʻan, ʻgos d'un wappen ʻzek pwere ʻzek ʻasam ʻsmosn ʻe.\n",
      "[00:34.600 --> 00:42.600]  ʻbʰo ʻwantʷʸi ʻmʻaʻonan ʻgad nil ʻal ʻa ʻrede ʻskskarʂet ʻtʰo ʻtʰi ʻrʻan ʻpul ʻa ʻdʸo ʻdʸo ʻdʸo ʻe.\n",
      "[00:43.600 --> 00:46.600]  ʻbʰan ʻbʰel ʻlʻe ʻad dʸo ʻa dintimī ʻne.\n",
      "[00:47.600 --> 00:51.600]  ʻʸo ʻʸo ʻlʻe ʻgos dʻi ʻskskarʂen ʻdʸo ʻskskarʂeyo.\n",
      "Transcribing /home/ouassim/Desktop/ss/stage/Data/Banque sonore des Dialectes Bretonnes/Audio/Audio/utt_02310.wav...\n"
     ]
    },
    {
     "name": "stderr",
     "output_type": "stream",
     "text": [
      "/home/ouassim/anaconda3/envs/stt-breton/lib/python3.10/site-packages/whisper/transcribe.py:126: UserWarning: FP16 is not supported on CPU; using FP32 instead\n",
      "  warnings.warn(\"FP16 is not supported on CPU; using FP32 instead\")\n"
     ]
    },
    {
     "name": "stdout",
     "output_type": "stream",
     "text": [
      "[00:00.000 --> 00:05.000]  ʻmā wī fēr ʻmei ʻmēn ʻmēs bē ʻʻa ʻvīr ʻmēn ʻgòs ʻe ʻe dīd ʻan ʻmei n'e.\n",
      "[00:05.000 --> 00:35.000]  ʻal ʻal ʻa ʻa ʻa ʻa ʻa ʻa ʻa ʻa ʻa ʻa ʻa ʻa ʻa ʻa ʻa ʻa ʻa ʻa ʻa ʻa ʻa ʻa ʻa ʻa ʻa ʻa ʻa ʻa ʻa ʻa ʻa ʻa ʻa ʻa ʻa ʻa ʻa ʻa ʻa ʻa ʻa ʻa ʻa ʻa ʻa ʻa ʻa ʻa ʻa ʻa ʻa ʻa ʻa ʻ\n",
      "[00:35.000 --> 00:42.960]  ʻa ʻa ʻa ʻa ʻa ʻa ʻa ʻa ʻa ʱʸ아 ʱu ʣimi ʱu ʷ� s запис...\n",
      "Transcribing /home/ouassim/Desktop/ss/stage/Data/Banque sonore des Dialectes Bretonnes/Audio/Audio/utt_06092.wav...\n"
     ]
    },
    {
     "name": "stderr",
     "output_type": "stream",
     "text": [
      "/home/ouassim/anaconda3/envs/stt-breton/lib/python3.10/site-packages/whisper/transcribe.py:126: UserWarning: FP16 is not supported on CPU; using FP32 instead\n",
      "  warnings.warn(\"FP16 is not supported on CPU; using FP32 instead\")\n"
     ]
    },
    {
     "name": "stdout",
     "output_type": "stream",
     "text": [
      "[00:00.000 --> 00:02.000]  ʻʻi ʻvā mi ʻhi\n",
      "Transcribing /home/ouassim/Desktop/ss/stage/Data/Banque sonore des Dialectes Bretonnes/Audio/Audio/utt_01507.wav...\n"
     ]
    },
    {
     "name": "stderr",
     "output_type": "stream",
     "text": [
      "/home/ouassim/anaconda3/envs/stt-breton/lib/python3.10/site-packages/whisper/transcribe.py:126: UserWarning: FP16 is not supported on CPU; using FP32 instead\n",
      "  warnings.warn(\"FP16 is not supported on CPU; using FP32 instead\")\n"
     ]
    },
    {
     "name": "stdout",
     "output_type": "stream",
     "text": [
      "[00:00.000 --> 00:05.740]  გლთზლთთვიევსთვლაევდეელეავდრთმვეელდეეოვდეეეიდვეეიებეეეებვეე\n",
      "Transcribing /home/ouassim/Desktop/ss/stage/Data/Banque sonore des Dialectes Bretonnes/Audio/Audio/utt_01888.wav...\n"
     ]
    },
    {
     "name": "stderr",
     "output_type": "stream",
     "text": [
      "/home/ouassim/anaconda3/envs/stt-breton/lib/python3.10/site-packages/whisper/transcribe.py:126: UserWarning: FP16 is not supported on CPU; using FP32 instead\n",
      "  warnings.warn(\"FP16 is not supported on CPU; using FP32 instead\")\n"
     ]
    },
    {
     "name": "stdout",
     "output_type": "stream",
     "text": [
      "[00:00.000 --> 00:05.580]  � CAL' ʐphantā ʐb Zhang Phu�şekkür하는 ˈ'xit'˜qee Nʝ Bone Ḥʔn jau.\n",
      "[00:05.580 --> 00:07.800]  ʋ ᶤʒe ᷅ acting ʝ Ḥʒe ʒe ʒhcja.\n",
      "[00:07.800 --> 00:11.420]  ʜhepi sh Ŝ Ḥut ʜhets ʒ cũng textured fój t Recognize.\n",
      "[00:11.420 --> 00:15.180]  Otnerser br elementos th вчqunt Alliance for willpower.\n",
      "[00:15.180 --> 00:16.080]  الل Personal's device.\n",
      "[00:16.080 --> 00:17.620]  Buñ characteristic enfek Seriously.\n",
      "[00:17.620 --> 00:21.520]  Men φ Crujняzher br\n",
      "[00:21.520 --> 00:26.320]  Dis a הב�era bleAMu za quratovde bad�� mindset\n",
      "[00:26.320 --> 00:29.520]  corvcai nsa Ljpanẩa ʜʜlnind cheng profession\n",
      "Transcribing /home/ouassim/Desktop/ss/stage/Data/Banque sonore des Dialectes Bretonnes/Audio/Audio/utt_03881.wav...\n"
     ]
    },
    {
     "name": "stderr",
     "output_type": "stream",
     "text": [
      "/home/ouassim/anaconda3/envs/stt-breton/lib/python3.10/site-packages/whisper/transcribe.py:126: UserWarning: FP16 is not supported on CPU; using FP32 instead\n",
      "  warnings.warn(\"FP16 is not supported on CPU; using FP32 instead\")\n"
     ]
    },
    {
     "name": "stdout",
     "output_type": "stream",
     "text": [
      "[00:00.000 --> 00:02.000]  ḫᴆ� demasi гᴇ�ración ᴴᴅᴅᴅ sales\n",
      "Transcribing /home/ouassim/Desktop/ss/stage/Data/Banque sonore des Dialectes Bretonnes/Audio/Audio/utt_04680.wav...\n"
     ]
    },
    {
     "name": "stderr",
     "output_type": "stream",
     "text": [
      "/home/ouassim/anaconda3/envs/stt-breton/lib/python3.10/site-packages/whisper/transcribe.py:126: UserWarning: FP16 is not supported on CPU; using FP32 instead\n",
      "  warnings.warn(\"FP16 is not supported on CPU; using FP32 instead\")\n"
     ]
    },
    {
     "name": "stdout",
     "output_type": "stream",
     "text": [
      "[00:00.000 --> 00:02.000]  ᕁ ᕋ �REY ៅ ថ �suite ៍  vardırlar\n",
      "Transcribing /home/ouassim/Desktop/ss/stage/Data/Banque sonore des Dialectes Bretonnes/Audio/Audio/utt_06476.wav...\n"
     ]
    },
    {
     "name": "stderr",
     "output_type": "stream",
     "text": [
      "/home/ouassim/anaconda3/envs/stt-breton/lib/python3.10/site-packages/whisper/transcribe.py:126: UserWarning: FP16 is not supported on CPU; using FP32 instead\n",
      "  warnings.warn(\"FP16 is not supported on CPU; using FP32 instead\")\n"
     ]
    },
    {
     "name": "stdout",
     "output_type": "stream",
     "text": [
      "[00:00.000 --> 00:02.940]  ᶜᶴᵄᶤᵁ ᶅᵈᶂᶔᶅᵚ ᵗᶝᵃ\n",
      "Transcribing /home/ouassim/Desktop/ss/stage/Data/Banque sonore des Dialectes Bretonnes/Audio/Audio/utt_01554.wav...\n"
     ]
    },
    {
     "name": "stderr",
     "output_type": "stream",
     "text": [
      "/home/ouassim/anaconda3/envs/stt-breton/lib/python3.10/site-packages/whisper/transcribe.py:126: UserWarning: FP16 is not supported on CPU; using FP32 instead\n",
      "  warnings.warn(\"FP16 is not supported on CPU; using FP32 instead\")\n"
     ]
    },
    {
     "name": "stdout",
     "output_type": "stream",
     "text": [
      "[00:00.000 --> 00:08.880]  azulama soun ou léˋ en ma bilช Underground\n",
      "[00:08.880 --> 00:21.980]  Thank you for watching!\n",
      "Transcribing /home/ouassim/Desktop/ss/stage/Data/Banque sonore des Dialectes Bretonnes/Audio/Audio/utt_04487.wav...\n"
     ]
    },
    {
     "name": "stderr",
     "output_type": "stream",
     "text": [
      "/home/ouassim/anaconda3/envs/stt-breton/lib/python3.10/site-packages/whisper/transcribe.py:126: UserWarning: FP16 is not supported on CPU; using FP32 instead\n",
      "  warnings.warn(\"FP16 is not supported on CPU; using FP32 instead\")\n"
     ]
    },
    {
     "name": "stdout",
     "output_type": "stream",
     "text": [
      "[00:00.000 --> 00:03.340]  !\n",
      "Transcribing /home/ouassim/Desktop/ss/stage/Data/Banque sonore des Dialectes Bretonnes/Audio/Audio/utt_05275.wav...\n"
     ]
    },
    {
     "name": "stderr",
     "output_type": "stream",
     "text": [
      "/home/ouassim/anaconda3/envs/stt-breton/lib/python3.10/site-packages/whisper/transcribe.py:126: UserWarning: FP16 is not supported on CPU; using FP32 instead\n",
      "  warnings.warn(\"FP16 is not supported on CPU; using FP32 instead\")\n"
     ]
    },
    {
     "name": "stdout",
     "output_type": "stream",
     "text": [
      "[00:00.000 --> 00:03.020]  ).\n",
      "Transcribing /home/ouassim/Desktop/ss/stage/Data/Banque sonore des Dialectes Bretonnes/Audio/Audio/utt_03378.wav...\n"
     ]
    },
    {
     "name": "stderr",
     "output_type": "stream",
     "text": [
      "/home/ouassim/anaconda3/envs/stt-breton/lib/python3.10/site-packages/whisper/transcribe.py:126: UserWarning: FP16 is not supported on CPU; using FP32 instead\n",
      "  warnings.warn(\"FP16 is not supported on CPU; using FP32 instead\")\n"
     ]
    },
    {
     "name": "stdout",
     "output_type": "stream",
     "text": [
      "[00:00.000 --> 00:00.700]  gaz baj d'яз\n",
      "[00:04.840 --> 00:07.400] persi\n",
      "Transcribing /home/ouassim/Desktop/ss/stage/Data/Banque sonore des Dialectes Bretonnes/Audio/Audio/utt_06062.wav...\n"
     ]
    },
    {
     "name": "stderr",
     "output_type": "stream",
     "text": [
      "/home/ouassim/anaconda3/envs/stt-breton/lib/python3.10/site-packages/whisper/transcribe.py:126: UserWarning: FP16 is not supported on CPU; using FP32 instead\n",
      "  warnings.warn(\"FP16 is not supported on CPU; using FP32 instead\")\n"
     ]
    },
    {
     "name": "stdout",
     "output_type": "stream",
     "text": [
      "[00:00.000 --> 00:05.000]  ʻmʻam būs ʻvīdze ʻi ʃu ʻin ʻi ʃen ʻan\n",
      "Transcribing /home/ouassim/Desktop/ss/stage/Data/Banque sonore des Dialectes Bretonnes/Audio/Audio/utt_01803.wav...\n"
     ]
    },
    {
     "name": "stderr",
     "output_type": "stream",
     "text": [
      "/home/ouassim/anaconda3/envs/stt-breton/lib/python3.10/site-packages/whisper/transcribe.py:126: UserWarning: FP16 is not supported on CPU; using FP32 instead\n",
      "  warnings.warn(\"FP16 is not supported on CPU; using FP32 instead\")\n"
     ]
    },
    {
     "name": "stdout",
     "output_type": "stream",
     "text": [
      "[00:00.000 --> 00:02.000]  � phrx�嘉᲋ᠤ�gi- Pork, pork, pork, pork, pork...\n",
      "Transcribing /home/ouassim/Desktop/ss/stage/Data/Banque sonore des Dialectes Bretonnes/Audio/Audio/utt_02548.wav...\n"
     ]
    },
    {
     "name": "stderr",
     "output_type": "stream",
     "text": [
      "/home/ouassim/anaconda3/envs/stt-breton/lib/python3.10/site-packages/whisper/transcribe.py:126: UserWarning: FP16 is not supported on CPU; using FP32 instead\n",
      "  warnings.warn(\"FP16 is not supported on CPU; using FP32 instead\")\n"
     ]
    },
    {
     "name": "stdout",
     "output_type": "stream",
     "text": [
      "[00:00.000 --> 00:01.000]  եբ, explo  constante ?\n",
      "Transcribing /home/ouassim/Desktop/ss/stage/Data/Banque sonore des Dialectes Bretonnes/Audio/Audio/utt_00087.wav...\n"
     ]
    },
    {
     "name": "stderr",
     "output_type": "stream",
     "text": [
      "/home/ouassim/anaconda3/envs/stt-breton/lib/python3.10/site-packages/whisper/transcribe.py:126: UserWarning: FP16 is not supported on CPU; using FP32 instead\n",
      "  warnings.warn(\"FP16 is not supported on CPU; using FP32 instead\")\n"
     ]
    },
    {
     "name": "stdout",
     "output_type": "stream",
     "text": [
      "[00:00.000 --> 00:02.400]  nosis\n",
      "[00:03.580 --> 00:04.100]   ​​in aut adopting\n",
      "Transcribing /home/ouassim/Desktop/ss/stage/Data/Banque sonore des Dialectes Bretonnes/Audio/Audio/utt_01964.wav...\n"
     ]
    },
    {
     "name": "stderr",
     "output_type": "stream",
     "text": [
      "/home/ouassim/anaconda3/envs/stt-breton/lib/python3.10/site-packages/whisper/transcribe.py:126: UserWarning: FP16 is not supported on CPU; using FP32 instead\n",
      "  warnings.warn(\"FP16 is not supported on CPU; using FP32 instead\")\n"
     ]
    },
    {
     "name": "stdout",
     "output_type": "stream",
     "text": [
      "[00:00.000 --> 00:02.640]  Dal ki boi ndor galipat mwesun.\n",
      "Transcribing /home/ouassim/Desktop/ss/stage/Data/Banque sonore des Dialectes Bretonnes/Audio/Audio/utt_06088.wav...\n"
     ]
    },
    {
     "name": "stderr",
     "output_type": "stream",
     "text": [
      "/home/ouassim/anaconda3/envs/stt-breton/lib/python3.10/site-packages/whisper/transcribe.py:126: UserWarning: FP16 is not supported on CPU; using FP32 instead\n",
      "  warnings.warn(\"FP16 is not supported on CPU; using FP32 instead\")\n"
     ]
    },
    {
     "name": "stdout",
     "output_type": "stream",
     "text": [
      "[00:00.000 --> 00:01.600] естоè pr quiz\n",
      "Transcribing /home/ouassim/Desktop/ss/stage/Data/Banque sonore des Dialectes Bretonnes/Audio/Audio/utt_02024.wav...\n"
     ]
    },
    {
     "name": "stderr",
     "output_type": "stream",
     "text": [
      "/home/ouassim/anaconda3/envs/stt-breton/lib/python3.10/site-packages/whisper/transcribe.py:126: UserWarning: FP16 is not supported on CPU; using FP32 instead\n",
      "  warnings.warn(\"FP16 is not supported on CPU; using FP32 instead\")\n"
     ]
    },
    {
     "name": "stdout",
     "output_type": "stream",
     "text": [
      "[00:00.000 --> 00:07.060]  នឱកក ឡកក សកឡoras ឦកឡក ឰឱកឡ\n",
      "Transcribing /home/ouassim/Desktop/ss/stage/Data/Banque sonore des Dialectes Bretonnes/Audio/Audio/utt_01718.wav...\n"
     ]
    },
    {
     "name": "stderr",
     "output_type": "stream",
     "text": [
      "/home/ouassim/anaconda3/envs/stt-breton/lib/python3.10/site-packages/whisper/transcribe.py:126: UserWarning: FP16 is not supported on CPU; using FP32 instead\n",
      "  warnings.warn(\"FP16 is not supported on CPU; using FP32 instead\")\n"
     ]
    },
    {
     "name": "stdout",
     "output_type": "stream",
     "text": [
      "[00:00.000 --> 00:04.540]  �cus Ḷ ἐ១៛១ ḣ។ ῟ំ, ទ ᵃ១� rattling, � flavors endless.\n",
      "Transcribing /home/ouassim/Desktop/ss/stage/Data/Banque sonore des Dialectes Bretonnes/Audio/Audio/utt_03454.wav...\n"
     ]
    },
    {
     "name": "stderr",
     "output_type": "stream",
     "text": [
      "/home/ouassim/anaconda3/envs/stt-breton/lib/python3.10/site-packages/whisper/transcribe.py:126: UserWarning: FP16 is not supported on CPU; using FP32 instead\n",
      "  warnings.warn(\"FP16 is not supported on CPU; using FP32 instead\")\n"
     ]
    },
    {
     "name": "stdout",
     "output_type": "stream",
     "text": [
      "[00:00.000 --> 00:03.040]  ip jin Nanook\n",
      "Transcribing /home/ouassim/Desktop/ss/stage/Data/Banque sonore des Dialectes Bretonnes/Audio/Audio/utt_04323.wav...\n"
     ]
    },
    {
     "name": "stderr",
     "output_type": "stream",
     "text": [
      "/home/ouassim/anaconda3/envs/stt-breton/lib/python3.10/site-packages/whisper/transcribe.py:126: UserWarning: FP16 is not supported on CPU; using FP32 instead\n",
      "  warnings.warn(\"FP16 is not supported on CPU; using FP32 instead\")\n"
     ]
    },
    {
     "name": "stdout",
     "output_type": "stream",
     "text": [
      "[00:00.020 --> 00:01.140]  simplified\n",
      "[00:01.140 --> 00:03.000]  d five\n",
      "[00:03.000 --> 00:05.000]  process\n",
      "Transcribing /home/ouassim/Desktop/ss/stage/Data/Banque sonore des Dialectes Bretonnes/Audio/Audio/utt_05981.wav...\n"
     ]
    },
    {
     "name": "stderr",
     "output_type": "stream",
     "text": [
      "/home/ouassim/anaconda3/envs/stt-breton/lib/python3.10/site-packages/whisper/transcribe.py:126: UserWarning: FP16 is not supported on CPU; using FP32 instead\n",
      "  warnings.warn(\"FP16 is not supported on CPU; using FP32 instead\")\n"
     ]
    },
    {
     "name": "stdout",
     "output_type": "stream",
     "text": [
      "[00:00.000 --> 00:30.000]  еко ˈɑpē, tētē, bi su tī yī sīt ʒt, Ṓt dēn èt trēm mon ʒ mōn o'ə bantáldo vertti ʒ, a yèzòat je te réi ʒ ʒ ʒ ʒ ʒ, ʒ mōdot tētē ʒ ʒ ʒ ʒ ʒ, ʒ ʒ ʒ ʒ ʒ ʒ ʒ, ʒ ʒ ʒ ʒ ʒ ʒ ʒ ʒ ʒ ʒ ʒ ʒ ʒ ʒ ʒ ʒ ʒ ʒ ʒ ʒ ʒ ʒ ʒ ʒ ʒ ʒ ʒ ʒ �\n",
      "[00:30.000 --> 00:34.020]  China will be guilty as a father for making him proud a house like our society and not,\n",
      "[00:34.300 --> 00:35.180]  judges will all be qualified,\n",
      "[00:35.240 --> 00:37.060]  if he will obey the错 of our people.\n",
      "[00:37.520 --> 00:40.520]  In this time of reality I am talking about law and pride.\n",
      "[00:40.980 --> 00:44.100]  but I deeply sincerely accept it and believe there will be no doubt,\n",
      "[00:44.440 --> 00:47.140]  it is food for the poor and not for the poor.\n",
      "[00:47.760 --> 00:48.760]  nutshell\n",
      "Transcribing /home/ouassim/Desktop/ss/stage/Data/Banque sonore des Dialectes Bretonnes/Audio/Audio/utt_05148.wav...\n"
     ]
    },
    {
     "name": "stderr",
     "output_type": "stream",
     "text": [
      "/home/ouassim/anaconda3/envs/stt-breton/lib/python3.10/site-packages/whisper/transcribe.py:126: UserWarning: FP16 is not supported on CPU; using FP32 instead\n",
      "  warnings.warn(\"FP16 is not supported on CPU; using FP32 instead\")\n"
     ]
    },
    {
     "name": "stdout",
     "output_type": "stream",
     "text": [
      "[00:00.000 --> 00:02.000]  This country, where Christ meets men...\n",
      "[00:02.000 --> 00:04.000]  Iици Galway amazed.\n",
      "[00:04.000 --> 00:06.320]  We were yet finally tree tengas,\n",
      "[00:06.320 --> 00:08.320]  ushering by this into the Heh Hyndir farm.\n",
      "Transcribing /home/ouassim/Desktop/ss/stage/Data/Banque sonore des Dialectes Bretonnes/Audio/Audio/utt_02925.wav...\n"
     ]
    },
    {
     "name": "stderr",
     "output_type": "stream",
     "text": [
      "/home/ouassim/anaconda3/envs/stt-breton/lib/python3.10/site-packages/whisper/transcribe.py:126: UserWarning: FP16 is not supported on CPU; using FP32 instead\n",
      "  warnings.warn(\"FP16 is not supported on CPU; using FP32 instead\")\n"
     ]
    },
    {
     "name": "stdout",
     "output_type": "stream",
     "text": [
      "[00:00.000 --> 00:03.240]  Simpson簽ᗿ � flat\n",
      "Transcribing /home/ouassim/Desktop/ss/stage/Data/Banque sonore des Dialectes Bretonnes/Audio/Audio/utt_02251.wav...\n"
     ]
    },
    {
     "name": "stderr",
     "output_type": "stream",
     "text": [
      "/home/ouassim/anaconda3/envs/stt-breton/lib/python3.10/site-packages/whisper/transcribe.py:126: UserWarning: FP16 is not supported on CPU; using FP32 instead\n",
      "  warnings.warn(\"FP16 is not supported on CPU; using FP32 instead\")\n"
     ]
    },
    {
     "name": "stdout",
     "output_type": "stream",
     "text": [
      "[00:00.000 --> 00:02.660]  Korchawe Women went to economised steel andgeneration and inne\n",
      "[00:02.660 --> 00:09.000]  l'este Bank de d'articulos reportув ὑᵋ ά� iron and leave them free.\n",
      "[00:09.000 --> 00:12.540] 論an le nenid en d'est grib adw былиş resistant.\n",
      "[00:12.540 --> 00:16.480]  mezhanol's sub conscience\n",
      "Transcribing /home/ouassim/Desktop/ss/stage/Data/Banque sonore des Dialectes Bretonnes/Audio/Audio/utt_05777.wav...\n"
     ]
    },
    {
     "name": "stderr",
     "output_type": "stream",
     "text": [
      "/home/ouassim/anaconda3/envs/stt-breton/lib/python3.10/site-packages/whisper/transcribe.py:126: UserWarning: FP16 is not supported on CPU; using FP32 instead\n",
      "  warnings.warn(\"FP16 is not supported on CPU; using FP32 instead\")\n"
     ]
    },
    {
     "name": "stdout",
     "output_type": "stream",
     "text": [
      "[00:00.000 --> 00:02.320]  andin emit j 제품 j miss you TC\n",
      "[00:02.320 --> 00:03.440]   BRANDON 我们见试一下\n",
      "Transcribing /home/ouassim/Desktop/ss/stage/Data/Banque sonore des Dialectes Bretonnes/Audio/Audio/utt_06815.wav...\n"
     ]
    },
    {
     "name": "stderr",
     "output_type": "stream",
     "text": [
      "/home/ouassim/anaconda3/envs/stt-breton/lib/python3.10/site-packages/whisper/transcribe.py:126: UserWarning: FP16 is not supported on CPU; using FP32 instead\n",
      "  warnings.warn(\"FP16 is not supported on CPU; using FP32 instead\")\n"
     ]
    },
    {
     "name": "stdout",
     "output_type": "stream",
     "text": [
      "[00:00.020 --> 00:00.120]  smaller x standards\n",
      "[00:01.120 --> 00:01.280]  like here\n",
      "[00:01.280 --> 00:01.360]  together\n",
      "[00:01.360 --> 00:05.700]  it doesn't\n",
      "[00:05.700 --> 00:07.540]  High\n",
      "Transcribing /home/ouassim/Desktop/ss/stage/Data/Banque sonore des Dialectes Bretonnes/Audio/Audio/utt_06453.wav...\n"
     ]
    },
    {
     "name": "stderr",
     "output_type": "stream",
     "text": [
      "/home/ouassim/anaconda3/envs/stt-breton/lib/python3.10/site-packages/whisper/transcribe.py:126: UserWarning: FP16 is not supported on CPU; using FP32 instead\n",
      "  warnings.warn(\"FP16 is not supported on CPU; using FP32 instead\")\n"
     ]
    },
    {
     "name": "stdout",
     "output_type": "stream",
     "text": [
      "[00:00.000 --> 00:10.580]  � pergunt Coco ᗋ ᗻᗿball ᗋ ᗵᗾ ᗬᗾ ᗝ ᗘᗿ � mythology ᗒ ᗖᗿ ᗫᗶ э ᕚᗔ� smoked ᕚ ᗗᗽ ᗡ ᗕᗾ, ᗶ ᗊlıᗶ ᓢ � Jug.\n"
     ]
    }
   ],
   "source": [
    "# Step 1: Filter where city starts with '22'\n",
    "# df_22 = df[df['city'].astype(str).str.startswith('22')].copy()\n",
    "\n",
    "# Step 2: Add a 'file' column with the original index\n",
    "small_df['file'] = small_df.index\n",
    "\n",
    "small_df['transcription'] = small_df.apply(generate_transcription, axis=1)\n",
    "\n",
    "# Optional: Reset index for a clean new DataFrame\n",
    "small_df = small_df.reset_index(drop=True)"
   ]
  },
  {
   "cell_type": "code",
   "execution_count": 27,
   "id": "cc43a987",
   "metadata": {},
   "outputs": [
    {
     "data": {
      "application/vnd.microsoft.datawrangler.viewer.v0+json": {
       "columns": [
        {
         "name": "index",
         "rawType": "int64",
         "type": "integer"
        },
        {
         "name": "br",
         "rawType": "object",
         "type": "string"
        },
        {
         "name": "fr",
         "rawType": "object",
         "type": "string"
        },
        {
         "name": "city",
         "rawType": "object",
         "type": "string"
        },
        {
         "name": "file",
         "rawType": "int64",
         "type": "integer"
        },
        {
         "name": "transcription",
         "rawType": "object",
         "type": "string"
        }
       ],
       "ref": "3ed3b712-fe99-4a67-b352-77945db4788c",
       "rows": [
        [
         "0",
         "ur c'harzh",
         "une haie",
         "29032",
         "1057",
         " ὂ ἕ ˋ başka den ὀ ὢ ᴏ ệ Ử Ổ἟ ᴇ ᴇ ỗ ệ ữ Ồ἟ ᰩ ᴇ ᴨ ᵃ ᴩ, ᴟ �date ᴄ ᴒ ᴜ ᶻ ệ Ổ Ἇ �"
        ],
        [
         "1",
         "Mari zo deuet a-benn enno antronoz.",
         "Marie est venue vers eux le lendemain.",
         "29168",
         "2654",
         " некоторht bread of Lucy physicians is lacked with Daehhhh se if faith is not tied up"
        ],
        [
         "2",
         "An amzer gwechall, ne oa... ne oa ket, eu... ne oa ket memes mod.",
         "Autrefois, c'était... c'était, euh... ça n'était pas pareil.",
         "29230",
         "4401",
         " nd ʻɑm ʻzɔr ʻdwɪ ʃɪl ʻɔa ʻwɑtʃɪt ʻɔa ʻwɑtʃɪt mɛm ʻsəm ʻɔdʃ."
        ],
        [
         "3",
         "Piv zo bet o troc'hiñ ar wezenn ?",
         "Qui a coupé l'arbre ?",
         "29293",
         "5843",
         " PIǜ-ZOO-Bē-ċT bossā advantages."
        ],
        [
         "4",
         "Pa oufemp ar wirionez, n'he lavarfemp ket.",
         "Si nous savions la vérité, nous ne la dirions pas.",
         "56175",
         "7177",
         " ḍ្ ្ ្ៗ ្ ្ម ្៓ ្ ្៓ ្ ្៓ ្៓ ្ ្៓ ្ ្ ្៓"
        ],
        [
         "5",
         "Int zo o joentrañ ar mein e-barzh ar vur.",
         "Ils sont en train de joindre les pierres du mur.",
         "29230",
         "3805",
         " �IIʂ interestoshing Āni ᶖily fisa betrġ çusḛ"
        ],
        [
         "6",
         "A-benn em eus labouret em eus gounezet ma fae.",
         "Quand j'ai travaillé, j'ai gagné ma paie.",
         "29230",
         "3961",
         "akingha jóŋвар déjunj내 desp킨"
        ],
        [
         "7",
         "Un amzer zo bet, eu, dour ar feunteun a rede e-barzh ar prad.",
         "Fut un temps, euh, l'eau de la fontaine coulait dans la prairie.",
         "56057",
         "6147",
         " ច ច់្់ំᵃ្ဠ៎ៈៅ៽្្េ៊៎ uważ�果 ឋ តៈ៦�면서៉ំ។"
        ],
        [
         "8",
         "A-wechoù em eus poan-benn diouzh ar pardaez.",
         "Parfois j'ai mal à la tête le soir.",
         "29180",
         "3551",
         " attracts"
        ],
        [
         "9",
         "gris loued",
         "bleu grisonnant",
         "29153",
         "2413",
         " ភ ជʃ្ក  czę ʉ𝞣ʃ ʉˊ钸ʉentlich çu ʉ មʉ់ ភwaʃ ʉ<|ta|> literally ʈx˓¿ ¿ Engineers? ʘR and ʒ devices with black and whiteher硬"
        ],
        [
         "10",
         "A-vuzul e kosha, e teu muioc'h a spered dezhañ.",
         "Plus il vieillit, plus il devient intelligent.",
         "22167",
         "185",
         "ав mesure ko'a, tha m tuo asper então"
        ],
        [
         "11",
         "Ah, ar glesker a oa bet kuzhet marteze e-barzh ar c'holi ? n'ouzon ket ; boñ, amañ emañ tout an dud bremañ neuze, bez' emañ ar mous, bez' emañ ar glesker bihan, hag an hini vras, fougeet ivez, an tortu hag ar c'hi, ar c'hi zo da, ar c'hi n'en deus ket an aer bezañ gwall seder anezhañ, marteze ar c'hi n'en deus ket bet netra, n'ouzon ket.",
         "Ah, ar glesker a oa bet kuzhet marteze e-barzh ar c'holi ? n'ouzon ket ; boñ, amañ emañ tout an dud bremañ neuze, bez' emañ ar mous, bez' emañ ar glesker bihan, hag an hini vras, fougeet ivez, an tortu hag ar c'hi, ar c'hi zo da, ar c'hi n'en deus ket an aer bezañ gwall seder anezhañ, marteze ar c'hi n'en deus ket bet netra, n'ouzon ket.",
         "29122",
         "1221",
         " වංන්කන්, වඹන්සණඛන් පහ් Pit"
        ],
        [
         "12",
         "Evit Gouel an Ollzent ar bloaz tremenet, ec'h oa muioc'h a... a bokedoù er... er vered... evit ar bloaz-mañ.",
         "À la Toussaint l'année dernière, il y avait plus de... de fleurs au... au cimetière... que cette année.",
         "22107",
         "61",
         " ʻʻɾɟɟɾɟɑ ʻɝɪvɪl nɔl zɪn. ʻɡɡɡɡɡɡɡɡɡɡ, ɚɡɡɡɡɡɡɡɡɡɡɡɡɡɡɡɡɡɡɡɡɡɡ."
        ],
        [
         "13",
         "Te zo bet o teskiñ debriñ korriged e-barzh bro ar Mokoied¹ !",
         "Te zo bet o teskiñ debriñ korriged e-barzh bro ar Mokoied¹ !",
         "29150",
         "2328",
         " វ Beaista li forecasts ñ s λέ ឃ lélpe 담  RajU 离  Environmental"
        ],
        [
         "14",
         "Me a lavarfe, me a lavarfe, bremañ, me a wel anezho evel rouanezed, ha ur seurt ne chomont ket, war ar maez !",
         "Me a lavarfe, me a lavarfe, bremañ, me a wel anezho evel rouanezed, ha ur seurt ne chomont ket, war ar maez !",
         "56089",
         "6524",
         " ʻmʻlār e wʻmʻlār e bʻmʻam e wʻlār nia lʻhʻuān zin ʻhau sō shomantʻi ʻag nīs."
        ],
        [
         "15",
         "Ah mes, e-barzh amañ ez omp e-barzh Goured al Lojoù ;<br/>hag, e-barzh aze, dreist ar, vardell-se zo, zo un espes lenn ivez kar, ar stêr a lenn kwa ;<br/>an hini kaoz e-barzh-amañ e oa ul lec'h neuze, e-barzh an tu all evit lakaat kizelloù, gwel-, gwelet e vez ar, ar vur heñ ;<br/> mes bout zo euh, bout zo ur goured, ne welit ket, ar goured euh a base etre, etre an daou biler ;<br/>an hini kaoz hennezh, aze e veze lakaet kizelloù, gwel-, gwelet a vez heñ ;<br/>kaoz ar c'hizelloù a veze staget ouzh euh, ouzh ar voger kwa, ouzh, ouzh ar murioù kwa, hag hennezh a oa ul lec'h evit tapout silioù a-font ;<br/>hennezh zo bet evel-se ha, hag unan seurt-se zo c'hoazh, a-benn euh, pa erruit izeloc'h evit Milin Poulhibed du-se zo unan seurt-se c'hoazh, ur, mes n'eo ket e-barzh ar memes model, eñ zo plomoc'h kwa, hag e oa tout ar re-se a oa graet a-espres evit la-, evit tapout silioù.",
         "Ah mes, e-barzh amañ ez omp e-barzh Goured al Lojoù ;<br/>hag, e-barzh aze, dreist ar, vardell-se zo, zo un espes lenn ivez kar, ar stêr a lenn kwa ;<br/>an hini kaoz e-barzh-amañ e oa ul lec'h neuze, e-barzh an tu all evit lakaat kizelloù, gwel-, gwelet e vez ar, ar vur heñ ;<br/> mes bout zo euh, bout zo ur goured, ne welit ket, ar goured euh a base etre, etre an daou biler ;<br/>an hini kaoz hennezh, aze e veze lakaet kizelloù, gwel-, gwelet a vez heñ ;<br/>kaoz ar c'hizelloù a veze staget ouzh euh, ouzh ar voger kwa, ouzh, ouzh ar murioù kwa, hag hennezh a oa ul lec'h evit tapout silioù a-font ;<br/>hennezh zo bet evel-se ha, hag unan seurt-se zo c'hoazh, a-benn euh, pa erruit izeloc'h evit Milin Poulhibed du-se zo unan seurt-se c'hoazh, ur, mes n'eo ket e-barzh ar memes model, eñ zo plomoc'h kwa, hag e oa tout ar re-se a oa graet a-espres evit la-, evit tapout silioù.",
         "56014",
         "6082",
         " ʻʻʻʰām Ḥum ʰā gūr d'r lāng ʻaw, ʰā ʰā ʸah dʸrʃt ʰā rdʰelses ʰaw ʰēnwʰʰeʃ ʰaʃ t'eer lina ʰaʳʰa. ʰak wʰām Ḥaw ʰaʰaʰ ʰaʰaʰ ʰaʰ ʰaʰaʰ ʰan ʰan zin. ʰan ʰan ʰan ʰan ʰan ʰan ʰan ʰan ʰan ʰan ʰan ʰan ʰan ʰan ʰan ʰan ʰan ʰan ʰan ʰan ʰan ʰan ʰan ʰan ʰan ʰan ʰan ʰan ʰan ʰan ʰan ʰan ʰan ʰan ʰan ʰan ʰan ʰan ʰan ʰan ʰan ʰan ʰan ʰan ʰan ʰan ʰan ʰan ʰan ʰan ʰan ʰan ʰan ʰan ʰan ʰ ʢʂʂ o xʃ ben peyire di salai millin puhe' by tuzhas, xʂʂʂ xʂʂ accustomed. Ben iísme pa myn moden, iisme bu maxwa. ts ghe derzug w baida s prse laʋ ta position q̸yee."
        ],
        [
         "16",
         "Ma breur zo ganet tri bloaz war o lerc'h.",
         "Mon frère est né 3 ans après eux.",
         "29230",
         "3934",
         " Me brûr se garn tribblat a twe இரu."
        ],
        [
         "17",
         "Un amzer zo bet, ni n'ajemp ket d'ar skol d'ar yaou.",
         "Autrefois, nous n'allions pas à l'école le jeudi.",
         "29230",
         "4128",
         " N baptism lente de scholy fhtl knigna dhish,"
        ],
        [
         "18",
         "Eu, me am eus soñj, a-benn e oan e-barzh... a-benn e oan yaouank... ha krennbaotr memes... lar, eu... an devezh, eu, Gouel, eu... Nedeleg, eh beñ, e yae an traoù da... an oferenn hanter-noz ha neuze, eu... pa veze, eu... deuet an dud d'ar gêr, beñ, e veze degaset, eu... ur vriochenn, a-wechoù, un aval-orañj pe... a-wechoù e veze degaset ivez ur mabig Jezuz, un tammig, eu... gant... graet gant sukr ha neuze, eu... an dra-se e oa... dija un dra... \"un dra gaer\" e veze lavaret ! Ha neuze da... da vintin, te a gave an dra-se tout e-barzh da votez-koad, kar pa... a-benn e oa... da... d'an devezh a-raok, te az poa naetaet, e veze lavaret dit :<br/>\"Ah paotr ! Te ema dav dit naetaat da vo-... da voutoù-lêr pe da... da voutoù-koad, surtout boutoù-koad, dav(?) kaout anezhe prop, lakaat un tammig plouz fresk e-barzh anezhe ha neuze, eu... a-benn warc'hoazh vitin, beñ, eu... e vo... marteze, eu... e vo d-... e kavi un dra-bennak e-barzh da... e-barzh da votez-koad, kwa.\"<br/>Ha neuze, eu... boñ beñ... alies, eu... dija atav memes e veze kavet, eu... hag an dra-se a oa un dra gaer... lar... evit ur c'hrouadur da welet... da gaout an dra-se e-barzh e votez-koad. Hag an dra-se a oa e-barzh... met... a-hend-all... ha neuze, eu... d'an devezh, eu... e veze graet un tammig, eu... mañjer, eu... eu, gwelloc'h a-wechoù evit, eu... an devezhioù-all. E veze lakeet ur yar pe ur c'hog da boazhañ ha neuze, eu... e veze kavet ar soubenn d'ober un daou pe dri devezh war-lerc'h... ah... an dra-se a oa... an dra-se a oa dija ur fest ! Ya...",
         "Eu, me am eus soñj, a-benn e oan e-barzh... a-benn e oan yaouank... ha krennbaotr memes... lar, eu... an devezh, eu, Gouel, eu... Nedeleg, eh beñ, e yae an traoù da... an oferenn hanter-noz ha neuze, eu... pa veze, eu... deuet an dud d'ar gêr, beñ, e veze degaset, eu... ur vriochenn, a-wechoù, un aval-orañj pe... a-wechoù e veze degaset ivez ur mabig Jezuz, un tammig, eu... gant... graet gant sukr ha neuze, eu... an dra-se e oa... dija un dra... \"un dra gaer\" e veze lavaret ! Ha neuze da... da vintin, te a gave an dra-se tout e-barzh da votez-koad, kar pa... a-benn e oa... da... d'an devezh a-raok, te az poa naetaet, e veze lavaret dit :<br/>\"Ah paotr ! Te ema dav dit naetaat da vo-... da voutoù-lêr pe da... da voutoù-koad, surtout boutoù-koad, dav(?) kaout anezhe prop, lakaat un tammig plouz fresk e-barzh anezhe ha neuze, eu... a-benn warc'hoazh vitin, beñ, eu... e vo... marteze, eu... e vo d-... e kavi un dra-bennak e-barzh da... e-barzh da votez-koad, kwa.\"<br/>Ha neuze, eu... boñ beñ... alies, eu... dija atav memes e veze kavet, eu... hag an dra-se a oa un dra gaer... lar... evit ur c'hrouadur da welet... da gaout an dra-se e-barzh e votez-koad. Hag an dra-se a oa e-barzh... met... a-hend-all... ha neuze, eu... d'an devezh, eu... e veze graet un tammig, eu... mañjer, eu... eu, gwelloc'h a-wechoù evit, eu... an devezhioù-all. E veze lakeet ur yar pe ur c'hog da boazhañ ha neuze, eu... e veze kavet ar soubenn d'ober un daou pe dri devezh war-lerc'h... ah... an dra-se a oa... an dra-se a oa dija ur fest ! Ya...",
         "29153",
         "2344",
         " Hilma maout – langだ & tigeving- yonk do. Yill kreunb tha pro. Mwil nilbs di ...son salut en tra dunh. Ben nib m residue, Er y um gтаки da dan y vit친 an Score frying n ş dod et le ryonq ... ʻʻʻʻʻʻʻʻʻʻʻʻʻʻʻʻʻʻʻʻʻʻʻʻʻʻʻʻʻʻʻʻʻʻʻʻʻʻʻʻʻʻʻʻʻʻʻʻʻʻʻʻʻʻʻʻʻʻʻʻʻʻʻʻʻʻʻʻʻʻʻʻʻʻʻʻʻʻʻʻʻʻʻʻʻʻʻʻʻʻʻʻʻʻʻʻʻʻʻʻʻʻʻʻʻʻʻʻʻʻʻ ʰʰʰʰʰʰʰʳʰʰʰʰʰʸʰʰʟʳʰʸʰʳʰʹʰʰʸʳʳʳʳʳʸʲʳʰʳʰʰʰʳʳʰʸʳʰʳʰ Link ʰʰʰʰʰʰʰʳʰʰʰʸʰʰʰʰʰʰʰʰʰ.ʰʰʰʰʰʰʰʰʰʰʰʳʰʰʱʰʰʰʰʰʰʰʰʳʰʰʰʰʰʰʰʰ.ʰʰʰʰʳʰʰ02  brack is that"
        ],
        [
         "19",
         "Tuet d'an douar ur seurt, ne oamp ket heu, ne oamp ket pesketaerien heu, ni a oa...",
         "Tournés vers la terre quand même, nous n'étions pas heu, nous n'étions pas des pêcheurs heu, nous étions...",
         "56094",
         "6771",
         " ᣼� lireṋ di ឌ �bleṣ náa ao rā s recipient Psalmsaulex기자tek' ʒʀe ghef nón spacing ḍo' čench hommes"
        ],
        [
         "20",
         "Eu, an uioù-se zo dozvet gant ma yar wenn.",
         "Euh, ces oeufs-là ont été pondus par ma poule blanche.",
         "29230",
         "4539",
         " � ounces dense singing"
        ],
        [
         "21",
         "Al levrioù-mañ zo ker, pegement eo ar re-se ?",
         "Ces livres-ci sont chers, combien coûtent ceux-là ?",
         "22331",
         "544",
         " Lé veryéu maz hou tsir pì me dé lhese?"
        ],
        [
         "22",
         "Ar bal zo aet a-dreuz kaer.",
         "La pelle a fini toute tordue.",
         "29230",
         "3647",
         " Blels kompartyo"
        ],
        [
         "23",
         "Me zo o vont da skubañ ma zi a-benn e vi aet kuit.",
         "Je vais balayer ma maison quand tu seras parti.",
         "29150",
         "1670",
         " But it's a little imps Larager than I had expected."
        ],
        [
         "24",
         "Ah... te az peus troc'het un tamm da lakaat aze, a-gaoz e oan o vont da lavar, n'ema ket staget tu ebet anezhañ !",
         "Ah... te az peus troc'het un tamm da lakaat aze, a-gaoz e oan o vont da lavar, n'ema ket staget tu ebet anezhañ !",
         "29150",
         "1465",
         " tumori kodiro I can suck it"
        ],
        [
         "25",
         "Euh, euh, ouzh ouzh o favioù ? Ya, e veze lakaet ul, ul, ul liver. Petra a vez lavaret eus an dra-se e, e galleg ?",
         "Euh, euh, ouzh ouzh o favioù ? Ya, e veze lakaet ul, ul, ul liver. Petra a vez lavaret eus an dra-se e, e galleg ?",
         "29168",
         "3463",
         " Ὁ ὃ ὒἒὀἒἒἒ. ὃ ὒἒἒἒἒ ὗἒἒἒἒἒ ὅἒἒἒἒ ὀἒἒἒἒἒ."
        ],
        [
         "26",
         "Pa yaen da welet va breur-kaer, eñv a gonte din istorioù eus... les... diouzh al lutin.",
         "Quand j'allais voir mon beau-frère, il me racontait des histoires de lutins.",
         "29168",
         "2778",
         " Ѩй realised pa talking about politics ʻas וק выход ὠἓapers etas do the flash不展"
        ],
        [
         "27",
         "N'eus ket e-leizh bugale hag a oa brezhoneg.",
         "Il n'y a pas beaucoup d'enfants qui savent le breton.",
         "29153",
         "2492",
         " ឋ, ជ, aged. គ, ទ, គ, ឋ, ខ, ង, ង, ង, ញ, ប."
        ],
        [
         "28",
         "Ki ivez, un amzer ki a ve bet lavaret, ya. Fall amzer peotramant un amzer ki.",
         "Ki ivez, un amzer ki a ve bet lavaret, ya. Fall amzer peotramant un amzer ki.",
         "56116",
         "6966",
         " ლლლლლლლ ლლლრლნმლლმლთ"
        ],
        [
         "29",
         "N'ho peus ket graet ar pezh am boa lavaret deoc'h.",
         "Vous n'avez pas fait ce que je vous avais dit.",
         "29236",
         "4666",
         " PQĤ Chq q использовать hasn to nit."
        ],
        [
         "30",
         "Muioc'h a dud e oant dec'h e-barzh an overenn.",
         "Ils étaient plus de monde hier à la messe.",
         "29032",
         "994",
         " ლლლლლლ�наაალალლლლლლალლლლლლლ"
        ],
        [
         "31",
         "Ar voazined zo deuet d'ober an dornerezh.",
         "Les voisins sont venus faire le battage.",
         "56175",
         "7118",
         " ʰr jeu ʰaz ʰaz res ʰoˀdéi ʰd a bire ʰndɔˀn ɾerre ʰɐˀri ʰᄥ ʰɖ ʰɪ ʰɣ ʰɣ ʰɡ ʰɣ ʰɣ ʰɡ ʰɥ ʰiˀʸ ɨˀɣ ʰɣ ʰɣ ʰɡ ʰɡ ʰɡ ʰɡ ʰɡ ʰɡ ʰɣ ʰɡ ʰɡ ʰɡ ʰɡ ʰɡ ʰɡ ʰɡ ʰɡ ʰ ʰɡ ʰɡ ʰɡ �"
        ],
        [
         "32",
         "Dec'h, ni hor boa gwelet e vreur gantañ.",
         "Hier, nous avions vu son frère avec lui.",
         "29230",
         "4011",
         " dé cáicem nieodie"
        ],
        [
         "33",
         "Dont a rehet, da ma gwel (gwelet), a-benn ur miz ac'hann-amañ.",
         "Tu viendras me voir dans un mois.",
         "22167",
         "177",
         " D phonìry een dimma joel benton mï thấy hana fundogkels d物ook ka gong xdi"
        ],
        [
         "34",
         "Gra ur bouch din !",
         "Fais-moi un bisou !",
         "29150",
         "1737",
         " करब्ष्टिं"
        ],
        [
         "35",
         "Eu... oui, ya... me zo o vont da lavar dit lar me am eus, eu... ur c'hou-... ur c'houzeñ jermen da ma mamm... hag, eu... zo bet lazhet... e oa kouezhet... kouezhet ar... ar wern hag a oa ar vizan dalc'h diouti hag ar... ar wern zo kouezhet hag he deus lazhet °na-... ar paotr yaouank, war-c'horre ar vag.",
         "Eu... oui, ya... me zo o vont da lavar dit lar me am eus, eu... ur c'hou-... ur c'houzeñ jermen da ma mamm... hag, eu... zo bet lazhet... e oa kouezhet... kouezhet ar... ar wern hag a oa ar vizan dalc'h diouti hag ar... ar wern zo kouezhet hag he deus lazhet °na-... ar paotr yaouank, war-c'horre ar vag.",
         "29150",
         "1615",
         " alla  KRIS  possession he aleля meaning from her house ются  Hobby Ы MGEEEE  МУЗЫКАö Gordon  devastated Oke ziehen millet gebaut  conductivity  Zugete  Hoo n qüet  lavender rpoyon"
        ],
        [
         "36",
         "An dra-se zo lavaret \"payer cash\", paeet diouzhtu, kwa. Hag an arc'hant war ar peul. Abalamour gwechall, pa'z eer d'ar foar gant ur marc'h pe ur vuoc'h, e veze plantet peulioù deomp gant... tud... gant... kantonierien kêr, kwa, a lakae peulioù hag e veze staget ar marc'h pe a... setu, e veze kontet an arc'hant war ar peul peogwir ne oa taol ebet. Ya, e veze kountet war ar peul a dalveze da stagañ ar marc'h pe ar vuoc'h, eo war ar peul-se a oa plat ar penn e veze kontet ar gwenneien war-gorre... pa veze prenet ur vuoc'h.",
         "Cela se dit \"payer cash\", payé tout de suite, quoi. Et l'argent sur le pieu. Parce qu'autrefois, quand on allait à la foire avec un cheval ou une vache, les gens, les cantoniers municipaux nous plantaient des pieux, quoi. Ils mettaient des pieux et on attachait le cheval ou... ainsi, on comptait l'argent sur le pieu puisqu'il n'y avait aucune table. Oui, on comptait sur le pieu... qui servait à attacher le cheval ou la vache. C'est sur ce pieu-là dont ta tête était plate qu'on comptait les sous par-dessus... quand on achetait une vache.",
         "29239",
         "4700",
         " 삑特別 spar pas RottenDidS i al jep raiti iaди y'gwechar bo hмо nuntale haver mort Mary le web we re songs, so we thus everybody could play along to see the stage, if many a ones régור le se Symphony skoond. Cloud three. The music started with bank, during the excellency bateurs aux waist of a song. An advantage is that we can perform technically well in a bust along with family."
        ],
        [
         "37",
         "Kerzh d'azezañ war-c'horre ma gwele !",
         "Vas t'asseoir sur mon lit !",
         "29032",
         "877",
         " landf Iranian"
        ],
        [
         "38",
         "Ya, ar c'hezeg, ma vagec'h anezho mat, ar re-se a gerzhe mat.",
         "Ya, ar c'hezeg, ma vagec'h anezho mat, ar re-se a gerzhe mat.",
         "22181",
         "263",
         "ches Fran le"
        ],
        [
         "39",
         "Pa gontoc'h an istor-se d'hoc'h eontr, eñ ne gredo ket ac'hanoc'h anezhañ.",
         "Quand vous raconterez cette histoire à votre oncle, il ne vous croira pas.",
         "29168",
         "3206",
         " ʻpaguntohan ʻister z'edu yon ʻiʻon ʻiʻon ʻiʻon ʻiʻon ʻiʻon ʻiʻon ʻon ʻia."
        ],
        [
         "40",
         "E c'hoar zo demezet gant unan deus Plaeraneg.",
         "Sa soeur est mariée avec quelqu'un de Ploubazlanec.",
         "22230",
         "319",
         " ʻʻi ʻwɛ ʻu ʻdi ʻmɛ ʻgɛ ʻu ʻnʻu ʻnʻu ʻnʻu ʻdʻi ʻsplɛ ʻo ʻnʻu ʻkʰ."
        ],
        [
         "41",
         "Ar paotrig bihan a oa e noazh.",
         "Le petit garçon était nu.",
         "29230",
         "3768",
         " åtīk  richest bouoro"
        ],
        [
         "42",
         "An dra-se n'em eus ket gwelet, eu, n'em eus ken klevet va mamm-gozh, eu, o rentañ din, eu, penaos e raent, kwa. Peogwir va mamm-gozh a oa diouzh Kerured hag e teue, eu... hag e veze aze gant, eu... peogwir e oa ur gazeg... peogwir e oa un... un... ur stal vihan ivez, e oa ur gazeg er gêr, setu e teue ivez, eu... hi ha neuze ar... ar re a-raok hi, eu, he zad, donc, da... beñ, d'ober ar bezhin. An dra-se, eu, a zikoure anezho ivez da gaout un tammig moneiz.",
         "An dra-se n'em eus ket gwelet, eu, n'em eus ken klevet va mamm-gozh, eu, o rentañ din, eu, penaos e raent, kwa. Peogwir va mamm-gozh a oa diouzh Kerured hag e teue, eu... hag e veze aze gant, eu... peogwir e oa ur gazeg... peogwir e oa un... un... ur stal vihan ivez, e oa ur gazeg er gêr, setu e teue ivez, eu... hi ha neuze ar... ar re a-raok hi, eu, he zad, donc, da... beñ, d'ober ar bezhin. An dra-se, eu, a zikoure anezho ivez da gaout un tammig moneiz.",
         "29168",
         "3439",
         " ʻĀnā y'a miski gwe l'y'un y'a muskin kléved r'amamgoz ʻerentadīng penozarengo. ʻp'gur'vamamgoz o va doxk'ar'udet, agat'u y'a gav'i y'a, ʻp'gur'var'gose g'o ʻp'gur'vaw'n ʻstal'vi'an ʻy'a, ʻv'r'gose g'i'r ge'ir, ʻs'e tu y'e ʻi'n'u ʻa'e ar'og ʻi' ʻezad. ʻv'r'gose g'o ʻe'r be doxk'ar'a bi'j'n ʻan'a ʻe'a ʻazik'o ʻe'r n'e'o ʻe'a ʻgose n'e'o ʻt'a imun'i."
        ],
        [
         "43",
         "Ar bedervet deus ar merc'hed... ar bedervet deus ar merc'hed.",
         "La quatrième des filles... la quatrième des filles.",
         "29293",
         "5774",
         " ḍᵇ ᵃᵅ ᶀᵏᶁ ioxᵉᵍᶉru ᷚᵉᶁ � tattoo ᵊᵔᶘᶍ ᵣᶌ ᶅᵉᵉᶁ ḅ número 4"
        ],
        [
         "44",
         "Me... me a wel anezhe... petra int bremañ. Ha te... te a bouez warne, paf ! Te a dorr anezhe... bremañ... mes peseurt anv o deus, n'ouzon ket par exemple... mes ra... ni, ni a lavare bezhin kloc'hek oute : \"Kerzhit da gla-... kerzhit da... en em amuz-... d'ober jeu, ne vez ket lavaret en em amuz, kerzhit d'ober jeu gant bezhin kloc'hek du-se ! Petra emaoc'h oc'h ober aze, o lakaat ar bezhin kloc'hek da strakal ?\" Memes a-benn e oa... zo... zo heol mat, int... te a glev paf ! paf ! e vez... int... te a glev... te a glev... te a glev anezhe o tigeriñ.",
         "Me... me a wel anezhe... petra int bremañ. Ha te... te a bouez warne, paf ! Te a dorr anezhe... bremañ... mes peseurt anv o deus, n'ouzon ket par exemple... mes ra... ni, ni a lavare bezhin kloc'hek oute : \"Kerzhit da gla-... kerzhit da... en em amuz-... d'ober jeu, ne vez ket lavaret en em amuz, kerzhit d'ober jeu gant bezhin kloc'hek du-se ! Petra emaoc'h oc'h ober aze, o lakaat ar bezhin kloc'hek da strakal ?\" Memes a-benn e oa... zo... zo heol mat, int... te a glev paf ! paf ! e vez... int... te a glev... te a glev... te a glev anezhe o tigeriñ.",
         "29150",
         "1511",
         " ˈmʊəl nə ptrayin broun, nə ˈtə ˈbɪzənə ptrəʃ. ˈbɪzənə ptrəʃ. ˈbɪzənə ptrəʃ ˈpɪzən ˈpɪzən. ˈmɪrə nɪ nə rə ˈbɪn klāhək təʃ ˈtɪk. ˈtə ˈtə ˈtə ˈnɪməməmʉ də rə ˈʈʃu. ˈkə də rə ˈbɪn klāhək təʃ ˈtə ˈtɪk. ˈtə ˈkɪrə mə hɨrə ˈsə lakər bɪn klāhək tə ˈstrəkkəl. ğõlma esta l Hayu l M insight, ute li trEN g le him Me 가� Service l French다는 Aud subjected for the Egyptian languageсе aksi si ü zugliy as 전 uniqueness constituency альной konk!!"
        ],
        [
         "45",
         "Mes pas peogwir te a dro anezhañ diouzhin atav !",
         "Mes pas peogwir te a dro anezhañ diouzhin atav !",
         "29293",
         "5484",
         " nien measuring"
        ],
        [
         "46",
         "Yann a oa azezet tost dezhañ.",
         "Yann était assis près de lui.",
         "29168",
         "3107",
         " yán vazítos dí"
        ],
        [
         "47",
         "un alc'houez",
         "une clef",
         "29154",
         "2543",
         "ôle"
        ],
        [
         "48",
         "Bemnoz, ni hor boa naon.",
         "Tous les soirs, nous avions faim.",
         "29230",
         "4100",
         " � Fielding 73"
        ],
        [
         "49",
         "Hi a end-eeune he zraoù e-barzh en he sakoch.",
         "Elle rangeait ses affaires dans son sac.",
         "22167",
         "230",
         " bound was du ʒizru by ṭhīṣ pā Reddit"
        ]
       ],
       "shape": {
        "columns": 5,
        "rows": 200
       }
      },
      "text/html": [
       "<div>\n",
       "<style scoped>\n",
       "    .dataframe tbody tr th:only-of-type {\n",
       "        vertical-align: middle;\n",
       "    }\n",
       "\n",
       "    .dataframe tbody tr th {\n",
       "        vertical-align: top;\n",
       "    }\n",
       "\n",
       "    .dataframe thead th {\n",
       "        text-align: right;\n",
       "    }\n",
       "</style>\n",
       "<table border=\"1\" class=\"dataframe\">\n",
       "  <thead>\n",
       "    <tr style=\"text-align: right;\">\n",
       "      <th></th>\n",
       "      <th>br</th>\n",
       "      <th>fr</th>\n",
       "      <th>city</th>\n",
       "      <th>file</th>\n",
       "      <th>transcription</th>\n",
       "    </tr>\n",
       "  </thead>\n",
       "  <tbody>\n",
       "    <tr>\n",
       "      <th>0</th>\n",
       "      <td>ur c'harzh</td>\n",
       "      <td>une haie</td>\n",
       "      <td>29032</td>\n",
       "      <td>1057</td>\n",
       "      <td>ὂ ἕ ˋ başka den ὀ ὢ ᴏ ệ Ử Ổ἟ ᴇ ᴇ ỗ ệ ữ Ồ἟ ᰩ ᴇ...</td>\n",
       "    </tr>\n",
       "    <tr>\n",
       "      <th>1</th>\n",
       "      <td>Mari zo deuet a-benn enno antronoz.</td>\n",
       "      <td>Marie est venue vers eux le lendemain.</td>\n",
       "      <td>29168</td>\n",
       "      <td>2654</td>\n",
       "      <td>некоторht bread of Lucy physicians is lacked ...</td>\n",
       "    </tr>\n",
       "    <tr>\n",
       "      <th>2</th>\n",
       "      <td>An amzer gwechall, ne oa... ne oa ket, eu... n...</td>\n",
       "      <td>Autrefois, c'était... c'était, euh... ça n'éta...</td>\n",
       "      <td>29230</td>\n",
       "      <td>4401</td>\n",
       "      <td>nd ʻɑm ʻzɔr ʻdwɪ ʃɪl ʻɔa ʻwɑtʃɪt ʻɔa ʻwɑtʃɪt ...</td>\n",
       "    </tr>\n",
       "    <tr>\n",
       "      <th>3</th>\n",
       "      <td>Piv zo bet o troc'hiñ ar wezenn ?</td>\n",
       "      <td>Qui a coupé l'arbre ?</td>\n",
       "      <td>29293</td>\n",
       "      <td>5843</td>\n",
       "      <td>PIǜ-ZOO-Bē-ċT bossā advantages.</td>\n",
       "    </tr>\n",
       "    <tr>\n",
       "      <th>4</th>\n",
       "      <td>Pa oufemp ar wirionez, n'he lavarfemp ket.</td>\n",
       "      <td>Si nous savions la vérité, nous ne la dirions ...</td>\n",
       "      <td>56175</td>\n",
       "      <td>7177</td>\n",
       "      <td>ḍ្ ្ ្ៗ ្ ្ម ្៓ ្ ្៓ ្ ្៓ ្៓ ្ ្៓ ្ ្ ្៓</td>\n",
       "    </tr>\n",
       "    <tr>\n",
       "      <th>...</th>\n",
       "      <td>...</td>\n",
       "      <td>...</td>\n",
       "      <td>...</td>\n",
       "      <td>...</td>\n",
       "      <td>...</td>\n",
       "    </tr>\n",
       "    <tr>\n",
       "      <th>195</th>\n",
       "      <td>War an hent am eus gwelet div vaouez.</td>\n",
       "      <td>Sur le chemin, j'ai vu deux femmes.</td>\n",
       "      <td>29168</td>\n",
       "      <td>2925</td>\n",
       "      <td>Simpson簽ᗿ � flat</td>\n",
       "    </tr>\n",
       "    <tr>\n",
       "      <th>196</th>\n",
       "      <td>Mes pegiz e ra ar re zo e-barzh... e-kostez......</td>\n",
       "      <td>Mes pegiz e ra ar re zo e-barzh... e-kostez......</td>\n",
       "      <td>29150</td>\n",
       "      <td>2251</td>\n",
       "      <td>Korchawe Women went to economised steel andge...</td>\n",
       "    </tr>\n",
       "    <tr>\n",
       "      <th>197</th>\n",
       "      <td>Ar bedervet deus e verc'hed zo aet da chom da ...</td>\n",
       "      <td>La quatrième de ses filles est allée habiter à...</td>\n",
       "      <td>29293</td>\n",
       "      <td>5777</td>\n",
       "      <td>andin emit j 제품 j miss you TC  BRANDON 我们见试一下</td>\n",
       "    </tr>\n",
       "    <tr>\n",
       "      <th>198</th>\n",
       "      <td>Kerzhet a ra ? Eñ... eñ a respont ? O, me a we...</td>\n",
       "      <td>Il fonctionne (ton appareil) ? Il... il répond...</td>\n",
       "      <td>56094</td>\n",
       "      <td>6815</td>\n",
       "      <td>smaller x standards like here together it doe...</td>\n",
       "    </tr>\n",
       "    <tr>\n",
       "      <th>199</th>\n",
       "      <td>E brad-eñ ha, ne oa ket da zen mod arall nemet...</td>\n",
       "      <td>C'était son pré à lui et, il n'appartenait à p...</td>\n",
       "      <td>56089</td>\n",
       "      <td>6453</td>\n",
       "      <td>� pergunt Coco ᗋ ᗻᗿball ᗋ ᗵᗾ ᗬᗾ ᗝ ᗘᗿ � mythol...</td>\n",
       "    </tr>\n",
       "  </tbody>\n",
       "</table>\n",
       "<p>200 rows × 5 columns</p>\n",
       "</div>"
      ],
      "text/plain": [
       "                                                    br  \\\n",
       "0                                           ur c'harzh   \n",
       "1                  Mari zo deuet a-benn enno antronoz.   \n",
       "2    An amzer gwechall, ne oa... ne oa ket, eu... n...   \n",
       "3                    Piv zo bet o troc'hiñ ar wezenn ?   \n",
       "4           Pa oufemp ar wirionez, n'he lavarfemp ket.   \n",
       "..                                                 ...   \n",
       "195              War an hent am eus gwelet div vaouez.   \n",
       "196  Mes pegiz e ra ar re zo e-barzh... e-kostez......   \n",
       "197  Ar bedervet deus e verc'hed zo aet da chom da ...   \n",
       "198  Kerzhet a ra ? Eñ... eñ a respont ? O, me a we...   \n",
       "199  E brad-eñ ha, ne oa ket da zen mod arall nemet...   \n",
       "\n",
       "                                                    fr   city  file  \\\n",
       "0                                             une haie  29032  1057   \n",
       "1               Marie est venue vers eux le lendemain.  29168  2654   \n",
       "2    Autrefois, c'était... c'était, euh... ça n'éta...  29230  4401   \n",
       "3                                Qui a coupé l'arbre ?  29293  5843   \n",
       "4    Si nous savions la vérité, nous ne la dirions ...  56175  7177   \n",
       "..                                                 ...    ...   ...   \n",
       "195                Sur le chemin, j'ai vu deux femmes.  29168  2925   \n",
       "196  Mes pegiz e ra ar re zo e-barzh... e-kostez......  29150  2251   \n",
       "197  La quatrième de ses filles est allée habiter à...  29293  5777   \n",
       "198  Il fonctionne (ton appareil) ? Il... il répond...  56094  6815   \n",
       "199  C'était son pré à lui et, il n'appartenait à p...  56089  6453   \n",
       "\n",
       "                                         transcription  \n",
       "0     ὂ ἕ ˋ başka den ὀ ὢ ᴏ ệ Ử Ổ἟ ᴇ ᴇ ỗ ệ ữ Ồ἟ ᰩ ᴇ...  \n",
       "1     некоторht bread of Lucy physicians is lacked ...  \n",
       "2     nd ʻɑm ʻzɔr ʻdwɪ ʃɪl ʻɔa ʻwɑtʃɪt ʻɔa ʻwɑtʃɪt ...  \n",
       "3                      PIǜ-ZOO-Bē-ċT bossā advantages.  \n",
       "4             ḍ្ ្ ្ៗ ្ ្ម ្៓ ្ ្៓ ្ ្៓ ្៓ ្ ្៓ ្ ្ ្៓  \n",
       "..                                                 ...  \n",
       "195                                   Simpson簽ᗿ � flat  \n",
       "196   Korchawe Women went to economised steel andge...  \n",
       "197      andin emit j 제품 j miss you TC  BRANDON 我们见试一下  \n",
       "198   smaller x standards like here together it doe...  \n",
       "199   � pergunt Coco ᗋ ᗻᗿball ᗋ ᗵᗾ ᗬᗾ ᗝ ᗘᗿ � mythol...  \n",
       "\n",
       "[200 rows x 5 columns]"
      ]
     },
     "execution_count": 27,
     "metadata": {},
     "output_type": "execute_result"
    }
   ],
   "source": [
    "small_df"
   ]
  },
  {
   "cell_type": "code",
   "execution_count": 28,
   "id": "cd0c58f2",
   "metadata": {},
   "outputs": [],
   "source": [
    "from filter_char import filter_out_chars\n",
    "from normalizer import normalize_sentence\n",
    "from utils import pre_process\n",
    "\n",
    "\n",
    "def process_br_text(br):\n",
    "    PUNCTUATION = '<>.?!,;:«»“”\"()[]/…–—•'\n",
    "    br = filter_out_chars(br, PUNCTUATION + '*')\n",
    "    br = normalize_sentence(br, autocorrect=True)\n",
    "    br = pre_process(br).replace('-', ' ').lower()\n",
    "    return br"
   ]
  },
  {
   "cell_type": "code",
   "execution_count": 29,
   "id": "ccae392c",
   "metadata": {},
   "outputs": [],
   "source": [
    "small_df['br_processed'] = small_df['br'].apply(process_br_text)"
   ]
  },
  {
   "cell_type": "code",
   "execution_count": 30,
   "id": "9eb63057",
   "metadata": {},
   "outputs": [],
   "source": [
    "from jiwer import wer, cer\n",
    "\n",
    "# Compute WER and CER for each row\n",
    "small_df['wer'] = small_df.apply(lambda row: wer(row['br_processed'], row['transcription']), axis=1)\n",
    "small_df['cer'] = small_df.apply(lambda row: cer(row['br_processed'], row['transcription']), axis=1)\n"
   ]
  },
  {
   "cell_type": "code",
   "execution_count": 31,
   "id": "1eb683eb",
   "metadata": {},
   "outputs": [
    {
     "data": {
      "application/vnd.microsoft.datawrangler.viewer.v0+json": {
       "columns": [
        {
         "name": "index",
         "rawType": "int64",
         "type": "integer"
        },
        {
         "name": "br",
         "rawType": "object",
         "type": "string"
        },
        {
         "name": "br_processed",
         "rawType": "object",
         "type": "string"
        },
        {
         "name": "fr",
         "rawType": "object",
         "type": "string"
        },
        {
         "name": "transcription",
         "rawType": "object",
         "type": "string"
        },
        {
         "name": "city",
         "rawType": "object",
         "type": "string"
        },
        {
         "name": "wer",
         "rawType": "float64",
         "type": "float"
        },
        {
         "name": "cer",
         "rawType": "float64",
         "type": "float"
        },
        {
         "name": "file",
         "rawType": "int64",
         "type": "integer"
        }
       ],
       "ref": "2e5c7717-5aea-41c0-bfc7-9ab895332b7f",
       "rows": [
        [
         "0",
         "ur c'harzh",
         "ur c'harzh",
         "une haie",
         " ὂ ἕ ˋ başka den ὀ ὢ ᴏ ệ Ử Ổ἟ ᴇ ᴇ ỗ ệ ữ Ồ἟ ᰩ ᴇ ᴨ ᵃ ᴩ, ᴟ �date ᴄ ᴒ ᴜ ᶻ ệ Ổ Ἇ �",
         "29032",
         "16.0",
         "7.4",
         "1057"
        ],
        [
         "1",
         "Mari zo deuet a-benn enno antronoz.",
         "mari zo deuet a benn enno antronoz",
         "Marie est venue vers eux le lendemain.",
         " некоторht bread of Lucy physicians is lacked with Daehhhh se if faith is not tied up",
         "29168",
         "2.2857142857142856",
         "2.0294117647058822",
         "2654"
        ],
        [
         "2",
         "An amzer gwechall, ne oa... ne oa ket, eu... ne oa ket memes mod.",
         "an amzer gwechall ne oa ne oa ket eu ne oa ket memes mod",
         "Autrefois, c'était... c'était, euh... ça n'était pas pareil.",
         " nd ʻɑm ʻzɔr ʻdwɪ ʃɪl ʻɔa ʻwɑtʃɪt ʻɔa ʻwɑtʃɪt mɛm ʻsəm ʻɔdʃ.",
         "29230",
         "1.0",
         "0.8214285714285714",
         "4401"
        ],
        [
         "3",
         "Piv zo bet o troc'hiñ ar wezenn ?",
         "piv zo bet o troc'hiñ ar wezenn",
         "Qui a coupé l'arbre ?",
         " PIǜ-ZOO-Bē-ċT bossā advantages.",
         "29293",
         "1.0",
         "0.9354838709677419",
         "5843"
        ],
        [
         "4",
         "Pa oufemp ar wirionez, n'he lavarfemp ket.",
         "pa oufemp ar wirionez n'he lavarfemp ket",
         "Si nous savions la vérité, nous ne la dirions pas.",
         " ḍ្ ្ ្ៗ ្ ្ម ្៓ ្ ្៓ ្ ្៓ ្៓ ្ ្៓ ្ ្ ្៓",
         "56175",
         "2.2857142857142856",
         "0.875",
         "7177"
        ],
        [
         "5",
         "Int zo o joentrañ ar mein e-barzh ar vur.",
         "int zo o joentrañ ar mein e barzh ar vur",
         "Ils sont en train de joindre les pierres du mur.",
         " �IIʂ interestoshing Āni ᶖily fisa betrġ çusḛ",
         "29230",
         "1.0",
         "0.925",
         "3805"
        ],
        [
         "6",
         "A-benn em eus labouret em eus gounezet ma fae.",
         "a benn em eus labouret em eus gounezet ma fae",
         "Quand j'ai travaillé, j'ai gagné ma paie.",
         "akingha jóŋвар déjunj내 desp킨",
         "29230",
         "1.0",
         "0.8444444444444444",
         "3961"
        ],
        [
         "7",
         "Un amzer zo bet, eu, dour ar feunteun a rede e-barzh ar prad.",
         "un amzer zo bet eu dour ar feunteun a rede e barzh ar prad",
         "Fut un temps, euh, l'eau de la fontaine coulait dans la prairie.",
         " ច ច់្់ំᵃ្ဠ៎ៈៅ៽្្េ៊៎ uważ�果 ឋ តៈ៦�면서៉ំ។",
         "56057",
         "1.0",
         "0.896551724137931",
         "6147"
        ],
        [
         "8",
         "A-wechoù em eus poan-benn diouzh ar pardaez.",
         "a wechoù em eus poan benn diouzh ar pardaez",
         "Parfois j'ai mal à la tête le soir.",
         " attracts",
         "29180",
         "1.0",
         "0.9302325581395349",
         "3551"
        ],
        [
         "9",
         "gris loued",
         "gris loued",
         "bleu grisonnant",
         " ភ ជʃ្ក  czę ʉ𝞣ʃ ʉˊ钸ʉentlich çu ʉ មʉ់ ភwaʃ ʉ<|ta|> literally ʈx˓¿ ¿ Engineers? ʘR and ʒ devices with black and whiteher硬",
         "29153",
         "11.0",
         "11.2",
         "2413"
        ],
        [
         "10",
         "A-vuzul e kosha, e teu muioc'h a spered dezhañ.",
         "a vuzul e kosha e teu muioc'h a spered dezhañ",
         "Plus il vieillit, plus il devient intelligent.",
         "ав mesure ko'a, tha m tuo asper então",
         "22167",
         "1.0",
         "0.6",
         "185"
        ],
        [
         "11",
         "Ah, ar glesker a oa bet kuzhet marteze e-barzh ar c'holi ? n'ouzon ket ; boñ, amañ emañ tout an dud bremañ neuze, bez' emañ ar mous, bez' emañ ar glesker bihan, hag an hini vras, fougeet ivez, an tortu hag ar c'hi, ar c'hi zo da, ar c'hi n'en deus ket an aer bezañ gwall seder anezhañ, marteze ar c'hi n'en deus ket bet netra, n'ouzon ket.",
         "ah ar glesker a oa bet kuzhet marteze e barzh ar c'holi n'ouzon ket boñ amañ emañ tout an dud bremañ neuze bez' emañ ar mous bez' emañ ar glesker bihan hag an hini vras fougeet ivez an tortu hag ar c'hi ar c'hi zo da ar c'hi n'en deus ket an aer bezañ gwall seder anezhañ marteze ar c'hi n'en deus ket bet netra n'ouzon ket",
         "Ah, ar glesker a oa bet kuzhet marteze e-barzh ar c'holi ? n'ouzon ket ; boñ, amañ emañ tout an dud bremañ neuze, bez' emañ ar mous, bez' emañ ar glesker bihan, hag an hini vras, fougeet ivez, an tortu hag ar c'hi, ar c'hi zo da, ar c'hi n'en deus ket an aer bezañ gwall seder anezhañ, marteze ar c'hi n'en deus ket bet netra, n'ouzon ket.",
         " වංන්කන්, වඹන්සණඛන් පහ් Pit",
         "29122",
         "1.0",
         "0.9845201238390093",
         "1221"
        ],
        [
         "12",
         "Evit Gouel an Ollzent ar bloaz tremenet, ec'h oa muioc'h a... a bokedoù er... er vered... evit ar bloaz-mañ.",
         "evit gouel an ollzent ar bloaz tremenet ec'h oa muioc'h a a bokedoù er er vered evit ar bloaz mañ",
         "À la Toussaint l'année dernière, il y avait plus de... de fleurs au... au cimetière... que cette année.",
         " ʻʻɾɟɟɾɟɑ ʻɝɪvɪl nɔl zɪn. ʻɡɡɡɡɡɡɡɡɡɡ, ɚɡɡɡɡɡɡɡɡɡɡɡɡɡɡɡɡɡɡɡɡɡɡ.",
         "22107",
         "1.0",
         "0.9175257731958762",
         "61"
        ],
        [
         "13",
         "Te zo bet o teskiñ debriñ korriged e-barzh bro ar Mokoied¹ !",
         "te zo bet o teskiñ debriñ korriged e barzh bro ar mokoied ¹",
         "Te zo bet o teskiñ debriñ korriged e-barzh bro ar Mokoied¹ !",
         " វ Beaista li forecasts ñ s λέ ឃ lélpe 담  RajU 离  Environmental",
         "29150",
         "1.0",
         "0.8813559322033898",
         "2328"
        ],
        [
         "14",
         "Me a lavarfe, me a lavarfe, bremañ, me a wel anezho evel rouanezed, ha ur seurt ne chomont ket, war ar maez !",
         "me a lavarfe me a lavarfe bremañ me a wel anezho evel rouanezed ha ur seurt ne chomont ket war ar maez",
         "Me a lavarfe, me a lavarfe, bremañ, me a wel anezho evel rouanezed, ha ur seurt ne chomont ket, war ar maez !",
         " ʻmʻlār e wʻmʻlār e bʻmʻam e wʻlār nia lʻhʻuān zin ʻhau sō shomantʻi ʻag nīs.",
         "56089",
         "1.0",
         "0.6666666666666666",
         "6524"
        ],
        [
         "15",
         "Ah mes, e-barzh amañ ez omp e-barzh Goured al Lojoù ;<br/>hag, e-barzh aze, dreist ar, vardell-se zo, zo un espes lenn ivez kar, ar stêr a lenn kwa ;<br/>an hini kaoz e-barzh-amañ e oa ul lec'h neuze, e-barzh an tu all evit lakaat kizelloù, gwel-, gwelet e vez ar, ar vur heñ ;<br/> mes bout zo euh, bout zo ur goured, ne welit ket, ar goured euh a base etre, etre an daou biler ;<br/>an hini kaoz hennezh, aze e veze lakaet kizelloù, gwel-, gwelet a vez heñ ;<br/>kaoz ar c'hizelloù a veze staget ouzh euh, ouzh ar voger kwa, ouzh, ouzh ar murioù kwa, hag hennezh a oa ul lec'h evit tapout silioù a-font ;<br/>hennezh zo bet evel-se ha, hag unan seurt-se zo c'hoazh, a-benn euh, pa erruit izeloc'h evit Milin Poulhibed du-se zo unan seurt-se c'hoazh, ur, mes n'eo ket e-barzh ar memes model, eñ zo plomoc'h kwa, hag e oa tout ar re-se a oa graet a-espres evit la-, evit tapout silioù.",
         "ah mes e barzh amañ ez omp e barzh goured al lojoù brhag e barzh aze dreist ar vardell se zo zo un espes lenn ivez kar ar stêr a lenn kwa bran hini kaoz e barzh amañ e oa ul lec'h neuze e barzh an tu all evit lakaat kizelloù gwel gwelet e vez ar ar vur heñ br mes bout zo euh bout zo ur goured ne welit ket ar goured euh a base etre etre an daou biler bran hini kaoz hennezh aze e veze lakaet kizelloù gwel gwelet a vez heñ brkaoz ar c'hizelloù a veze staget ouzh euh ouzh ar voger kwa ouzh ouzh ar murioù kwa hag hennezh a oa ul lec'h evit tapout silioù a font brhennezh zo bet evel se ha hag unan seurt se zo c'hoazh a benn euh pa erruit izeloc'h evit milin poulhibed du se zo unan seurt se c'hoazh ur mes n'eo ket e barzh ar memes model eñ zo plomoc'h kwa hag e oa tout ar re se a oa graet a espres evit la evit tapout silioù",
         "Ah mes, e-barzh amañ ez omp e-barzh Goured al Lojoù ;<br/>hag, e-barzh aze, dreist ar, vardell-se zo, zo un espes lenn ivez kar, ar stêr a lenn kwa ;<br/>an hini kaoz e-barzh-amañ e oa ul lec'h neuze, e-barzh an tu all evit lakaat kizelloù, gwel-, gwelet e vez ar, ar vur heñ ;<br/> mes bout zo euh, bout zo ur goured, ne welit ket, ar goured euh a base etre, etre an daou biler ;<br/>an hini kaoz hennezh, aze e veze lakaet kizelloù, gwel-, gwelet a vez heñ ;<br/>kaoz ar c'hizelloù a veze staget ouzh euh, ouzh ar voger kwa, ouzh, ouzh ar murioù kwa, hag hennezh a oa ul lec'h evit tapout silioù a-font ;<br/>hennezh zo bet evel-se ha, hag unan seurt-se zo c'hoazh, a-benn euh, pa erruit izeloc'h evit Milin Poulhibed du-se zo unan seurt-se c'hoazh, ur, mes n'eo ket e-barzh ar memes model, eñ zo plomoc'h kwa, hag e oa tout ar re-se a oa graet a-espres evit la-, evit tapout silioù.",
         " ʻʻʻʰām Ḥum ʰā gūr d'r lāng ʻaw, ʰā ʰā ʸah dʸrʃt ʰā rdʰelses ʰaw ʰēnwʰʰeʃ ʰaʃ t'eer lina ʰaʳʰa. ʰak wʰām Ḥaw ʰaʰaʰ ʰaʰaʰ ʰaʰ ʰaʰaʰ ʰan ʰan zin. ʰan ʰan ʰan ʰan ʰan ʰan ʰan ʰan ʰan ʰan ʰan ʰan ʰan ʰan ʰan ʰan ʰan ʰan ʰan ʰan ʰan ʰan ʰan ʰan ʰan ʰan ʰan ʰan ʰan ʰan ʰan ʰan ʰan ʰan ʰan ʰan ʰan ʰan ʰan ʰan ʰan ʰan ʰan ʰan ʰan ʰan ʰan ʰan ʰan ʰan ʰan ʰan ʰan ʰan ʰan ʰ ʢʂʂ o xʃ ben peyire di salai millin puhe' by tuzhas, xʂʂʂ xʂʂ accustomed. Ben iísme pa myn moden, iisme bu maxwa. ts ghe derzug w baida s prse laʋ ta position q̸yee.",
         "56014",
         "0.994475138121547",
         "0.7451690821256038",
         "6082"
        ],
        [
         "16",
         "Ma breur zo ganet tri bloaz war o lerc'h.",
         "ma breur zo ganet tri bloaz war o lerc'h",
         "Mon frère est né 3 ans après eux.",
         " Me brûr se garn tribblat a twe இரu.",
         "29230",
         "1.0",
         "0.55",
         "3934"
        ],
        [
         "17",
         "Un amzer zo bet, ni n'ajemp ket d'ar skol d'ar yaou.",
         "un amzer zo bet ni n'ajemp ket d'ar skol d'ar yaou",
         "Autrefois, nous n'allions pas à l'école le jeudi.",
         " N baptism lente de scholy fhtl knigna dhish,",
         "29230",
         "1.0",
         "0.84",
         "4128"
        ],
        [
         "18",
         "Eu, me am eus soñj, a-benn e oan e-barzh... a-benn e oan yaouank... ha krennbaotr memes... lar, eu... an devezh, eu, Gouel, eu... Nedeleg, eh beñ, e yae an traoù da... an oferenn hanter-noz ha neuze, eu... pa veze, eu... deuet an dud d'ar gêr, beñ, e veze degaset, eu... ur vriochenn, a-wechoù, un aval-orañj pe... a-wechoù e veze degaset ivez ur mabig Jezuz, un tammig, eu... gant... graet gant sukr ha neuze, eu... an dra-se e oa... dija un dra... \"un dra gaer\" e veze lavaret ! Ha neuze da... da vintin, te a gave an dra-se tout e-barzh da votez-koad, kar pa... a-benn e oa... da... d'an devezh a-raok, te az poa naetaet, e veze lavaret dit :<br/>\"Ah paotr ! Te ema dav dit naetaat da vo-... da voutoù-lêr pe da... da voutoù-koad, surtout boutoù-koad, dav(?) kaout anezhe prop, lakaat un tammig plouz fresk e-barzh anezhe ha neuze, eu... a-benn warc'hoazh vitin, beñ, eu... e vo... marteze, eu... e vo d-... e kavi un dra-bennak e-barzh da... e-barzh da votez-koad, kwa.\"<br/>Ha neuze, eu... boñ beñ... alies, eu... dija atav memes e veze kavet, eu... hag an dra-se a oa un dra gaer... lar... evit ur c'hrouadur da welet... da gaout an dra-se e-barzh e votez-koad. Hag an dra-se a oa e-barzh... met... a-hend-all... ha neuze, eu... d'an devezh, eu... e veze graet un tammig, eu... mañjer, eu... eu, gwelloc'h a-wechoù evit, eu... an devezhioù-all. E veze lakeet ur yar pe ur c'hog da boazhañ ha neuze, eu... e veze kavet ar soubenn d'ober un daou pe dri devezh war-lerc'h... ah... an dra-se a oa... an dra-se a oa dija ur fest ! Ya...",
         "eu me am eus soñj a benn e oan e barzh a benn e oan yaouank ha krennbaotr memes lâr eu an devezh eu gouel eu nedeleg eh beñ e yae an traoù da an oferenn hanter noz ha neuze eu pa veze eu deuet an dud d'ar gêr beñ e veze degaset eu ur vriochenn a wechoù un aval orañj pe a wechoù e veze degaset ivez ur mabig jezuz un tammig eu gant graet gant sukr ha neuze eu an dra se e oa dija un dra un dra gaer e veze lavaret ha neuze da da vintin te a gave an dra se tout e barzh da votez koad kar pa a benn e oa da d'an devezh a raok te az poa naetaet e veze lavaret dit brah paotr te ema dav dit naetaat da vo da voutoù lêr pe da da voutoù koad surtout boutoù koad dav kaout anezhe prop lakaat un tammig plouz fresk e barzh anezhe ha neuze eu a benn warc'hoazh vitin beñ eu e vo marteze eu e vo d e kavi un dra bennak e barzh da e barzh da votez koad kwabrha neuze eu boñ beñ alies eu dija atav memes e veze kavet eu hag an dra se a oa un dra gaer lâr evit ur c'hrouadur da welet da gaout an dra se e barzh e votez koad hag an dra se a oa e barzh met a hend all ha neuze eu d'an devezh eu e veze graet un tammig eu mañjer eu eu gwelloc'h a wechoù evit eu an devezhioù all e veze lakeet ur yar pe ur c'hog da boazhañ ha neuze eu e veze kavet ar soubenn d'ober un daou pe dri devezh war lerc'h ah an dra se a oa an dra se a oa dija ur fest ya",
         "Eu, me am eus soñj, a-benn e oan e-barzh... a-benn e oan yaouank... ha krennbaotr memes... lar, eu... an devezh, eu, Gouel, eu... Nedeleg, eh beñ, e yae an traoù da... an oferenn hanter-noz ha neuze, eu... pa veze, eu... deuet an dud d'ar gêr, beñ, e veze degaset, eu... ur vriochenn, a-wechoù, un aval-orañj pe... a-wechoù e veze degaset ivez ur mabig Jezuz, un tammig, eu... gant... graet gant sukr ha neuze, eu... an dra-se e oa... dija un dra... \"un dra gaer\" e veze lavaret ! Ha neuze da... da vintin, te a gave an dra-se tout e-barzh da votez-koad, kar pa... a-benn e oa... da... d'an devezh a-raok, te az poa naetaet, e veze lavaret dit :<br/>\"Ah paotr ! Te ema dav dit naetaat da vo-... da voutoù-lêr pe da... da voutoù-koad, surtout boutoù-koad, dav(?) kaout anezhe prop, lakaat un tammig plouz fresk e-barzh anezhe ha neuze, eu... a-benn warc'hoazh vitin, beñ, eu... e vo... marteze, eu... e vo d-... e kavi un dra-bennak e-barzh da... e-barzh da votez-koad, kwa.\"<br/>Ha neuze, eu... boñ beñ... alies, eu... dija atav memes e veze kavet, eu... hag an dra-se a oa un dra gaer... lar... evit ur c'hrouadur da welet... da gaout an dra-se e-barzh e votez-koad. Hag an dra-se a oa e-barzh... met... a-hend-all... ha neuze, eu... d'an devezh, eu... e veze graet un tammig, eu... mañjer, eu... eu, gwelloc'h a-wechoù evit, eu... an devezhioù-all. E veze lakeet ur yar pe ur c'hog da boazhañ ha neuze, eu... e veze kavet ar soubenn d'ober un daou pe dri devezh war-lerc'h... ah... an dra-se a oa... an dra-se a oa dija ur fest ! Ya...",
         " Hilma maout – langだ & tigeving- yonk do. Yill kreunb tha pro. Mwil nilbs di ...son salut en tra dunh. Ben nib m residue, Er y um gтаки da dan y vit친 an Score frying n ş dod et le ryonq ... ʻʻʻʻʻʻʻʻʻʻʻʻʻʻʻʻʻʻʻʻʻʻʻʻʻʻʻʻʻʻʻʻʻʻʻʻʻʻʻʻʻʻʻʻʻʻʻʻʻʻʻʻʻʻʻʻʻʻʻʻʻʻʻʻʻʻʻʻʻʻʻʻʻʻʻʻʻʻʻʻʻʻʻʻʻʻʻʻʻʻʻʻʻʻʻʻʻʻʻʻʻʻʻʻʻʻʻʻʻʻʻ ʰʰʰʰʰʰʰʳʰʰʰʰʰʸʰʰʟʳʰʸʰʳʰʹʰʰʸʳʳʳʳʳʸʲʳʰʳʰʰʰʳʳʰʸʳʰʳʰ Link ʰʰʰʰʰʰʰʳʰʰʰʸʰʰʰʰʰʰʰʰʰ.ʰʰʰʰʰʰʰʰʰʰʰʳʰʰʱʰʰʰʰʰʰʰʰʳʰʰʰʰʰʰʰʰ.ʰʰʰʰʳʰʰ02  brack is that",
         "29153",
         "0.993485342019544",
         "0.8955672426746807",
         "2344"
        ],
        [
         "19",
         "Tuet d'an douar ur seurt, ne oamp ket heu, ne oamp ket pesketaerien heu, ni a oa...",
         "tuet d'an douar ur seurt ne oamp ket heu ne oamp ket pesketaerien heu ni a oa",
         "Tournés vers la terre quand même, nous n'étions pas heu, nous n'étions pas des pêcheurs heu, nous étions...",
         " ᣼� lireṋ di ឌ �bleṣ náa ao rā s recipient Psalmsaulex기자tek' ʒʀe ghef nón spacing ḍo' čench hommes",
         "56094",
         "1.0588235294117647",
         "0.974025974025974",
         "6771"
        ],
        [
         "20",
         "Eu, an uioù-se zo dozvet gant ma yar wenn.",
         "eu an uioù se zo dozvet gant ma yar wenn",
         "Euh, ces oeufs-là ont été pondus par ma poule blanche.",
         " � ounces dense singing",
         "29230",
         "1.0",
         "0.775",
         "4539"
        ],
        [
         "21",
         "Al levrioù-mañ zo ker, pegement eo ar re-se ?",
         "al levrioù mañ zo ker pegement eo ar re se",
         "Ces livres-ci sont chers, combien coûtent ceux-là ?",
         " Lé veryéu maz hou tsir pì me dé lhese?",
         "22331",
         "1.0",
         "0.6190476190476191",
         "544"
        ],
        [
         "22",
         "Ar bal zo aet a-dreuz kaer.",
         "ar bal zo aet a dreuz kaer",
         "La pelle a fini toute tordue.",
         " Blels kompartyo",
         "29230",
         "1.0",
         "0.8461538461538461",
         "3647"
        ],
        [
         "23",
         "Me zo o vont da skubañ ma zi a-benn e vi aet kuit.",
         "me zo o vont da skubañ ma zi a benn e vi aet kuit",
         "Je vais balayer ma maison quand tu seras parti.",
         " But it's a little imps Larager than I had expected.",
         "29150",
         "1.0",
         "0.8571428571428571",
         "1670"
        ],
        [
         "24",
         "Ah... te az peus troc'het un tamm da lakaat aze, a-gaoz e oan o vont da lavar, n'ema ket staget tu ebet anezhañ !",
         "ah te az peus troc'het un tamm da lakaat aze a gaoz e oan o vont da lavar n'ema ket staget tu ebet anezhañ",
         "Ah... te az peus troc'het un tamm da lakaat aze, a-gaoz e oan o vont da lavar, n'ema ket staget tu ebet anezhañ !",
         " tumori kodiro I can suck it",
         "29150",
         "1.0",
         "0.8584905660377359",
         "1465"
        ],
        [
         "25",
         "Euh, euh, ouzh ouzh o favioù ? Ya, e veze lakaet ul, ul, ul liver. Petra a vez lavaret eus an dra-se e, e galleg ?",
         "euh euh ouzh ouzh o favioù ya e veze lakaet ul ul ul liver petra a vez lavaret eus an dra se e e galleg",
         "Euh, euh, ouzh ouzh o favioù ? Ya, e veze lakaet ul, ul, ul liver. Petra a vez lavaret eus an dra-se e, e galleg ?",
         " Ὁ ὃ ὒἒὀἒἒἒ. ὃ ὒἒἒἒἒ ὗἒἒἒἒἒ ὅἒἒἒἒ ὀἒἒἒἒἒ.",
         "29168",
         "1.0",
         "0.9320388349514563",
         "3463"
        ],
        [
         "26",
         "Pa yaen da welet va breur-kaer, eñv a gonte din istorioù eus... les... diouzh al lutin.",
         "pa yaen da welet va breur kaer eñv a gonte din istorioù eus les diouzh al lutin",
         "Quand j'allais voir mon beau-frère, il me racontait des histoires de lutins.",
         " Ѩй realised pa talking about politics ʻas וק выход ὠἓapers etas do the flash不展",
         "29168",
         "1.0",
         "0.7974683544303798",
         "2778"
        ],
        [
         "27",
         "N'eus ket e-leizh bugale hag a oa brezhoneg.",
         "n'eus ket e leizh bugale hag a oa brezhoneg",
         "Il n'y a pas beaucoup d'enfants qui savent le breton.",
         " ឋ, ជ, aged. គ, ទ, គ, ឋ, ខ, ង, ង, ង, ញ, ប.",
         "29153",
         "1.4444444444444444",
         "0.8604651162790697",
         "2492"
        ],
        [
         "28",
         "Ki ivez, un amzer ki a ve bet lavaret, ya. Fall amzer peotramant un amzer ki.",
         "ki ivez un amzer ki a ve bet lavaret ya fall amzer peotramant un amzer ki",
         "Ki ivez, un amzer ki a ve bet lavaret, ya. Fall amzer peotramant un amzer ki.",
         " ლლლლლლლ ლლლრლნმლლმლთ",
         "56116",
         "1.0",
         "0.9863013698630136",
         "6966"
        ],
        [
         "29",
         "N'ho peus ket graet ar pezh am boa lavaret deoc'h.",
         "n'ho peus ket graet ar pezh am boa lavaret deoc'h",
         "Vous n'avez pas fait ce que je vous avais dit.",
         " PQĤ Chq q использовать hasn to nit.",
         "29236",
         "1.0",
         "0.8571428571428571",
         "4666"
        ],
        [
         "30",
         "Muioc'h a dud e oant dec'h e-barzh an overenn.",
         "muioc'h a dud e oant dec'h e barzh an overenn",
         "Ils étaient plus de monde hier à la messe.",
         " ლლლლლლ�наაალალლლლლლალლლლლლლ",
         "29032",
         "1.0",
         "1.0",
         "994"
        ],
        [
         "31",
         "Ar voazined zo deuet d'ober an dornerezh.",
         "ar voazined zo deuet d'ober an dornerezh",
         "Les voisins sont venus faire le battage.",
         " ʰr jeu ʰaz ʰaz res ʰoˀdéi ʰd a bire ʰndɔˀn ɾerre ʰɐˀri ʰᄥ ʰɖ ʰɪ ʰɣ ʰɣ ʰɡ ʰɣ ʰɣ ʰɡ ʰɥ ʰiˀʸ ɨˀɣ ʰɣ ʰɣ ʰɡ ʰɡ ʰɡ ʰɡ ʰɡ ʰɡ ʰɣ ʰɡ ʰɡ ʰɡ ʰɡ ʰɡ ʰɡ ʰɡ ʰɡ ʰ ʰɡ ʰɡ ʰɡ �",
         "56175",
         "6.571428571428571",
         "3.525",
         "7118"
        ],
        [
         "32",
         "Dec'h, ni hor boa gwelet e vreur gantañ.",
         "dec'h ni hor boa gwelet e vreur gantañ",
         "Hier, nous avions vu son frère avec lui.",
         " dé cáicem nieodie",
         "29230",
         "1.0",
         "0.868421052631579",
         "4011"
        ],
        [
         "33",
         "Dont a rehet, da ma gwel (gwelet), a-benn ur miz ac'hann-amañ.",
         "dont a rehet da ma gwel gwelet a benn ur miz ac'hann amañ",
         "Tu viendras me voir dans un mois.",
         " D phonìry een dimma joel benton mï thấy hana fundogkels d物ook ka gong xdi",
         "22167",
         "1.0769230769230769",
         "0.9473684210526315",
         "177"
        ],
        [
         "34",
         "Gra ur bouch din !",
         "gra ur bouch din",
         "Fais-moi un bisou !",
         " करब्ष्टिं",
         "29150",
         "1.0",
         "1.0",
         "1737"
        ],
        [
         "35",
         "Eu... oui, ya... me zo o vont da lavar dit lar me am eus, eu... ur c'hou-... ur c'houzeñ jermen da ma mamm... hag, eu... zo bet lazhet... e oa kouezhet... kouezhet ar... ar wern hag a oa ar vizan dalc'h diouti hag ar... ar wern zo kouezhet hag he deus lazhet °na-... ar paotr yaouank, war-c'horre ar vag.",
         "eu oui ya me zo o vont da lavar dit lâr me am eus eu ur c'hou ur c'houzeñ jermen da ma mamm hag eu zo bet lazhet e oa kouezhet kouezhet ar ar wern hag a oa ar vizan dalc'h diouti hag ar ar wern zo kouezhet hag he deus lazhet °na ar paotr yaouank war c'horre ar vag",
         "Eu... oui, ya... me zo o vont da lavar dit lar me am eus, eu... ur c'hou-... ur c'houzeñ jermen da ma mamm... hag, eu... zo bet lazhet... e oa kouezhet... kouezhet ar... ar wern hag a oa ar vizan dalc'h diouti hag ar... ar wern zo kouezhet hag he deus lazhet °na-... ar paotr yaouank, war-c'horre ar vag.",
         " alla  KRIS  possession he aleля meaning from her house ются  Hobby Ы MGEEEE  МУЗЫКАö Gordon  devastated Oke ziehen millet gebaut  conductivity  Zugete  Hoo n qüet  lavender rpoyon",
         "29150",
         "1.0",
         "0.7689393939393939",
         "1615"
        ],
        [
         "36",
         "An dra-se zo lavaret \"payer cash\", paeet diouzhtu, kwa. Hag an arc'hant war ar peul. Abalamour gwechall, pa'z eer d'ar foar gant ur marc'h pe ur vuoc'h, e veze plantet peulioù deomp gant... tud... gant... kantonierien kêr, kwa, a lakae peulioù hag e veze staget ar marc'h pe a... setu, e veze kontet an arc'hant war ar peul peogwir ne oa taol ebet. Ya, e veze kountet war ar peul a dalveze da stagañ ar marc'h pe ar vuoc'h, eo war ar peul-se a oa plat ar penn e veze kontet ar gwenneien war-gorre... pa veze prenet ur vuoc'h.",
         "an dra se zo lavaret payer cash paeet diouzhtu kwa hag an arc'hant war ar peul abalamour gwechall pa'z eer d'ar foar gant ur marc'h pe ur vuoc'h e veze plantet peulioù deomp gant tud gant kantonierien kêr kwa a lakae peulioù hag e veze staget ar marc'h pe a setu e veze kontet an arc'hant war ar peul peogwir ne oa taol ebet ya e veze kountet war ar peul a dalveze da stagañ ar marc'h pe ar vuoc'h eo war ar peul se a oa plat ar penn e veze kontet ar gwenneien war gorre pa veze prenet ur vuoc'h",
         "Cela se dit \"payer cash\", payé tout de suite, quoi. Et l'argent sur le pieu. Parce qu'autrefois, quand on allait à la foire avec un cheval ou une vache, les gens, les cantoniers municipaux nous plantaient des pieux, quoi. Ils mettaient des pieux et on attachait le cheval ou... ainsi, on comptait l'argent sur le pieu puisqu'il n'y avait aucune table. Oui, on comptait sur le pieu... qui servait à attacher le cheval ou la vache. C'est sur ce pieu-là dont ta tête était plate qu'on comptait les sous par-dessus... quand on achetait une vache.",
         " 삑特別 spar pas RottenDidS i al jep raiti iaди y'gwechar bo hмо nuntale haver mort Mary le web we re songs, so we thus everybody could play along to see the stage, if many a ones régור le se Symphony skoond. Cloud three. The music started with bank, during the excellency bateurs aux waist of a song. An advantage is that we can perform technically well in a bust along with family.",
         "29239",
         "0.9705882352941176",
         "0.7353535353535353",
         "4700"
        ],
        [
         "37",
         "Kerzh d'azezañ war-c'horre ma gwele !",
         "kerzh d'azezañ war c'horre ma gwele",
         "Vas t'asseoir sur mon lit !",
         " landf Iranian",
         "29032",
         "1.0",
         "0.8857142857142857",
         "877"
        ],
        [
         "38",
         "Ya, ar c'hezeg, ma vagec'h anezho mat, ar re-se a gerzhe mat.",
         "ya ar c'hezeg ma vagec'h anezho mat ar re se a gerzhe mat",
         "Ya, ar c'hezeg, ma vagec'h anezho mat, ar re-se a gerzhe mat.",
         "ches Fran le",
         "22181",
         "1.0",
         "0.8596491228070176",
         "263"
        ],
        [
         "39",
         "Pa gontoc'h an istor-se d'hoc'h eontr, eñ ne gredo ket ac'hanoc'h anezhañ.",
         "pa gontoc'h an istor se d'hoc'h eontr eñ ne gredo ket ac'hanoc'h anezhañ",
         "Quand vous raconterez cette histoire à votre oncle, il ne vous croira pas.",
         " ʻpaguntohan ʻister z'edu yon ʻiʻon ʻiʻon ʻiʻon ʻiʻon ʻiʻon ʻiʻon ʻon ʻia.",
         "29168",
         "1.0",
         "0.7361111111111112",
         "3206"
        ],
        [
         "40",
         "E c'hoar zo demezet gant unan deus Plaeraneg.",
         "e c'hoar zo demezet gant unan deus plaeraneg",
         "Sa soeur est mariée avec quelqu'un de Ploubazlanec.",
         " ʻʻi ʻwɛ ʻu ʻdi ʻmɛ ʻgɛ ʻu ʻnʻu ʻnʻu ʻnʻu ʻdʻi ʻsplɛ ʻo ʻnʻu ʻkʰ.",
         "22230",
         "1.875",
         "1.1590909090909092",
         "319"
        ],
        [
         "41",
         "Ar paotrig bihan a oa e noazh.",
         "ar paotrig bihan a oa e noazh",
         "Le petit garçon était nu.",
         " åtīk  richest bouoro",
         "29230",
         "1.0",
         "0.8275862068965517",
         "3768"
        ],
        [
         "42",
         "An dra-se n'em eus ket gwelet, eu, n'em eus ken klevet va mamm-gozh, eu, o rentañ din, eu, penaos e raent, kwa. Peogwir va mamm-gozh a oa diouzh Kerured hag e teue, eu... hag e veze aze gant, eu... peogwir e oa ur gazeg... peogwir e oa un... un... ur stal vihan ivez, e oa ur gazeg er gêr, setu e teue ivez, eu... hi ha neuze ar... ar re a-raok hi, eu, he zad, donc, da... beñ, d'ober ar bezhin. An dra-se, eu, a zikoure anezho ivez da gaout un tammig moneiz.",
         "an dra se n'em eus ket gwelet eu n'em eus ken klevet va mamm gozh eu o rentañ din eu penaos e raent kwa peogwir va mamm gozh a oa diouzh kerured hag e teue eu hag e veze aze gant eu peogwir e oa ur gazeg peogwir e oa un un ur stal vihan ivez e oa ur gazeg er gêr setu e teue ivez eu hi ha neuze ar ar re a raok hi eu he zad donc da beñ d'ober ar bezhin an dra se eu a zikoure anezho ivez da gaout un tammig moneiz",
         "An dra-se n'em eus ket gwelet, eu, n'em eus ken klevet va mamm-gozh, eu, o rentañ din, eu, penaos e raent, kwa. Peogwir va mamm-gozh a oa diouzh Kerured hag e teue, eu... hag e veze aze gant, eu... peogwir e oa ur gazeg... peogwir e oa un... un... ur stal vihan ivez, e oa ur gazeg er gêr, setu e teue ivez, eu... hi ha neuze ar... ar re a-raok hi, eu, he zad, donc, da... beñ, d'ober ar bezhin. An dra-se, eu, a zikoure anezho ivez da gaout un tammig moneiz.",
         " ʻĀnā y'a miski gwe l'y'un y'a muskin kléved r'amamgoz ʻerentadīng penozarengo. ʻp'gur'vamamgoz o va doxk'ar'udet, agat'u y'a gav'i y'a, ʻp'gur'var'gose g'o ʻp'gur'vaw'n ʻstal'vi'an ʻy'a, ʻv'r'gose g'i'r ge'ir, ʻs'e tu y'e ʻi'n'u ʻa'e ar'og ʻi' ʻezad. ʻv'r'gose g'o ʻe'r be doxk'ar'a bi'j'n ʻan'a ʻe'a ʻazik'o ʻe'r n'e'o ʻe'a ʻgose n'e'o ʻt'a imun'i.",
         "29168",
         "0.9795918367346939",
         "0.648910411622276",
         "3439"
        ],
        [
         "43",
         "Ar bedervet deus ar merc'hed... ar bedervet deus ar merc'hed.",
         "ar bedervet deus ar merc'hed ar bedervet deus ar merc'hed",
         "La quatrième des filles... la quatrième des filles.",
         " ḍᵇ ᵃᵅ ᶀᵏᶁ ioxᵉᵍᶉru ᷚᵉᶁ � tattoo ᵊᵔᶘᶍ ᵣᶌ ᶅᵉᵉᶁ ḅ número 4",
         "29293",
         "1.3",
         "0.8771929824561403",
         "5774"
        ],
        [
         "44",
         "Me... me a wel anezhe... petra int bremañ. Ha te... te a bouez warne, paf ! Te a dorr anezhe... bremañ... mes peseurt anv o deus, n'ouzon ket par exemple... mes ra... ni, ni a lavare bezhin kloc'hek oute : \"Kerzhit da gla-... kerzhit da... en em amuz-... d'ober jeu, ne vez ket lavaret en em amuz, kerzhit d'ober jeu gant bezhin kloc'hek du-se ! Petra emaoc'h oc'h ober aze, o lakaat ar bezhin kloc'hek da strakal ?\" Memes a-benn e oa... zo... zo heol mat, int... te a glev paf ! paf ! e vez... int... te a glev... te a glev... te a glev anezhe o tigeriñ.",
         "me me a wel anezhe petra int bremañ ha te te a bouez warne paf te a dorr anezhe bremañ mes peseurt anv o deus n'ouzon ket par exemple mes ra ni ni a lavare bezhin kloc'hek oute kerzhit da gla kerzhit da en em amuz d'ober jeu ne vez ket lavaret en em amuz kerzhit d'ober jeu gant bezhin kloc'hek du se petra emaoc'h oc'h ober aze o lakaat ar bezhin kloc'hek da strakal memes a benn e oa zo zo heol mat int te a glev paf paf e vez int te a glev te a glev te a glev anezhe o tigeriñ",
         "Me... me a wel anezhe... petra int bremañ. Ha te... te a bouez warne, paf ! Te a dorr anezhe... bremañ... mes peseurt anv o deus, n'ouzon ket par exemple... mes ra... ni, ni a lavare bezhin kloc'hek oute : \"Kerzhit da gla-... kerzhit da... en em amuz-... d'ober jeu, ne vez ket lavaret en em amuz, kerzhit d'ober jeu gant bezhin kloc'hek du-se ! Petra emaoc'h oc'h ober aze, o lakaat ar bezhin kloc'hek da strakal ?\" Memes a-benn e oa... zo... zo heol mat, int... te a glev paf ! paf ! e vez... int... te a glev... te a glev... te a glev anezhe o tigeriñ.",
         " ˈmʊəl nə ptrayin broun, nə ˈtə ˈbɪzənə ptrəʃ. ˈbɪzənə ptrəʃ. ˈbɪzənə ptrəʃ ˈpɪzən ˈpɪzən. ˈmɪrə nɪ nə rə ˈbɪn klāhək təʃ ˈtɪk. ˈtə ˈtə ˈtə ˈnɪməməmʉ də rə ˈʈʃu. ˈkə də rə ˈbɪn klāhək təʃ ˈtə ˈtɪk. ˈtə ˈkɪrə mə hɨrə ˈsə lakər bɪn klāhək tə ˈstrəkkəl. ğõlma esta l Hayu l M insight, ute li trEN g le him Me 가� Service l French다는 Aud subjected for the Egyptian languageсе aksi si ü zugliy as 전 uniqueness constituency альной konk!!",
         "29150",
         "1.0",
         "0.7891440501043842",
         "1511"
        ],
        [
         "45",
         "Mes pas peogwir te a dro anezhañ diouzhin atav !",
         "mes pas peogwir te a dro anezhañ diouzhin atav",
         "Mes pas peogwir te a dro anezhañ diouzhin atav !",
         " nien measuring",
         "29293",
         "1.0",
         "0.8260869565217391",
         "5484"
        ],
        [
         "46",
         "Yann a oa azezet tost dezhañ.",
         "yann a oa azezet tost dezhañ",
         "Yann était assis près de lui.",
         " yán vazítos dí",
         "29168",
         "1.0",
         "0.6428571428571429",
         "3107"
        ],
        [
         "47",
         "un alc'houez",
         "un alc'houez",
         "une clef",
         "ôle",
         "29154",
         "1.0",
         "0.8333333333333334",
         "2543"
        ],
        [
         "48",
         "Bemnoz, ni hor boa naon.",
         "bemnoz ni hor boa naon",
         "Tous les soirs, nous avions faim.",
         " � Fielding 73",
         "29230",
         "1.0",
         "0.8636363636363636",
         "4100"
        ],
        [
         "49",
         "Hi a end-eeune he zraoù e-barzh en he sakoch.",
         "hi a end eeune he zraoù e barzh en he sakoch",
         "Elle rangeait ses affaires dans son sac.",
         " bound was du ʒizru by ṭhīṣ pā Reddit",
         "22167",
         "1.0",
         "0.7727272727272727",
         "230"
        ]
       ],
       "shape": {
        "columns": 8,
        "rows": 200
       }
      },
      "text/html": [
       "<div>\n",
       "<style scoped>\n",
       "    .dataframe tbody tr th:only-of-type {\n",
       "        vertical-align: middle;\n",
       "    }\n",
       "\n",
       "    .dataframe tbody tr th {\n",
       "        vertical-align: top;\n",
       "    }\n",
       "\n",
       "    .dataframe thead th {\n",
       "        text-align: right;\n",
       "    }\n",
       "</style>\n",
       "<table border=\"1\" class=\"dataframe\">\n",
       "  <thead>\n",
       "    <tr style=\"text-align: right;\">\n",
       "      <th></th>\n",
       "      <th>br</th>\n",
       "      <th>br_processed</th>\n",
       "      <th>fr</th>\n",
       "      <th>transcription</th>\n",
       "      <th>city</th>\n",
       "      <th>wer</th>\n",
       "      <th>cer</th>\n",
       "      <th>file</th>\n",
       "    </tr>\n",
       "  </thead>\n",
       "  <tbody>\n",
       "    <tr>\n",
       "      <th>0</th>\n",
       "      <td>ur c'harzh</td>\n",
       "      <td>ur c'harzh</td>\n",
       "      <td>une haie</td>\n",
       "      <td>ὂ ἕ ˋ başka den ὀ ὢ ᴏ ệ Ử Ổ἟ ᴇ ᴇ ỗ ệ ữ Ồ἟ ᰩ ᴇ...</td>\n",
       "      <td>29032</td>\n",
       "      <td>16.000000</td>\n",
       "      <td>7.400000</td>\n",
       "      <td>1057</td>\n",
       "    </tr>\n",
       "    <tr>\n",
       "      <th>1</th>\n",
       "      <td>Mari zo deuet a-benn enno antronoz.</td>\n",
       "      <td>mari zo deuet a benn enno antronoz</td>\n",
       "      <td>Marie est venue vers eux le lendemain.</td>\n",
       "      <td>некоторht bread of Lucy physicians is lacked ...</td>\n",
       "      <td>29168</td>\n",
       "      <td>2.285714</td>\n",
       "      <td>2.029412</td>\n",
       "      <td>2654</td>\n",
       "    </tr>\n",
       "    <tr>\n",
       "      <th>2</th>\n",
       "      <td>An amzer gwechall, ne oa... ne oa ket, eu... n...</td>\n",
       "      <td>an amzer gwechall ne oa ne oa ket eu ne oa ket...</td>\n",
       "      <td>Autrefois, c'était... c'était, euh... ça n'éta...</td>\n",
       "      <td>nd ʻɑm ʻzɔr ʻdwɪ ʃɪl ʻɔa ʻwɑtʃɪt ʻɔa ʻwɑtʃɪt ...</td>\n",
       "      <td>29230</td>\n",
       "      <td>1.000000</td>\n",
       "      <td>0.821429</td>\n",
       "      <td>4401</td>\n",
       "    </tr>\n",
       "    <tr>\n",
       "      <th>3</th>\n",
       "      <td>Piv zo bet o troc'hiñ ar wezenn ?</td>\n",
       "      <td>piv zo bet o troc'hiñ ar wezenn</td>\n",
       "      <td>Qui a coupé l'arbre ?</td>\n",
       "      <td>PIǜ-ZOO-Bē-ċT bossā advantages.</td>\n",
       "      <td>29293</td>\n",
       "      <td>1.000000</td>\n",
       "      <td>0.935484</td>\n",
       "      <td>5843</td>\n",
       "    </tr>\n",
       "    <tr>\n",
       "      <th>4</th>\n",
       "      <td>Pa oufemp ar wirionez, n'he lavarfemp ket.</td>\n",
       "      <td>pa oufemp ar wirionez n'he lavarfemp ket</td>\n",
       "      <td>Si nous savions la vérité, nous ne la dirions ...</td>\n",
       "      <td>ḍ្ ្ ្ៗ ្ ្ម ្៓ ្ ្៓ ្ ្៓ ្៓ ្ ្៓ ្ ្ ្៓</td>\n",
       "      <td>56175</td>\n",
       "      <td>2.285714</td>\n",
       "      <td>0.875000</td>\n",
       "      <td>7177</td>\n",
       "    </tr>\n",
       "    <tr>\n",
       "      <th>...</th>\n",
       "      <td>...</td>\n",
       "      <td>...</td>\n",
       "      <td>...</td>\n",
       "      <td>...</td>\n",
       "      <td>...</td>\n",
       "      <td>...</td>\n",
       "      <td>...</td>\n",
       "      <td>...</td>\n",
       "    </tr>\n",
       "    <tr>\n",
       "      <th>195</th>\n",
       "      <td>War an hent am eus gwelet div vaouez.</td>\n",
       "      <td>war an hent am eus gwelet div vaouez</td>\n",
       "      <td>Sur le chemin, j'ai vu deux femmes.</td>\n",
       "      <td>Simpson簽ᗿ � flat</td>\n",
       "      <td>29168</td>\n",
       "      <td>1.000000</td>\n",
       "      <td>0.861111</td>\n",
       "      <td>2925</td>\n",
       "    </tr>\n",
       "    <tr>\n",
       "      <th>196</th>\n",
       "      <td>Mes pegiz e ra ar re zo e-barzh... e-kostez......</td>\n",
       "      <td>mes pegiz e ra ar re zo e barzh e kostez beg e...</td>\n",
       "      <td>Mes pegiz e ra ar re zo e-barzh... e-kostez......</td>\n",
       "      <td>Korchawe Women went to economised steel andge...</td>\n",
       "      <td>29150</td>\n",
       "      <td>1.000000</td>\n",
       "      <td>0.769565</td>\n",
       "      <td>2251</td>\n",
       "    </tr>\n",
       "    <tr>\n",
       "      <th>197</th>\n",
       "      <td>Ar bedervet deus e verc'hed zo aet da chom da ...</td>\n",
       "      <td>ar bedervet deus e verc'hed zo aet da chom da ...</td>\n",
       "      <td>La quatrième de ses filles est allée habiter à...</td>\n",
       "      <td>andin emit j 제품 j miss you TC  BRANDON 我们见试一下</td>\n",
       "      <td>29293</td>\n",
       "      <td>1.000000</td>\n",
       "      <td>0.803922</td>\n",
       "      <td>5777</td>\n",
       "    </tr>\n",
       "    <tr>\n",
       "      <th>198</th>\n",
       "      <td>Kerzhet a ra ? Eñ... eñ a respont ? O, me a we...</td>\n",
       "      <td>kerzhet a ra eñ eñ a respont o me a wel oiaou ...</td>\n",
       "      <td>Il fonctionne (ton appareil) ? Il... il répond...</td>\n",
       "      <td>smaller x standards like here together it doe...</td>\n",
       "      <td>56094</td>\n",
       "      <td>1.000000</td>\n",
       "      <td>0.860000</td>\n",
       "      <td>6815</td>\n",
       "    </tr>\n",
       "    <tr>\n",
       "      <th>199</th>\n",
       "      <td>E brad-eñ ha, ne oa ket da zen mod arall nemet...</td>\n",
       "      <td>e brad eñ ha ne oa ket da zen mod arall nemet ...</td>\n",
       "      <td>C'était son pré à lui et, il n'appartenait à p...</td>\n",
       "      <td>� pergunt Coco ᗋ ᗻᗿball ᗋ ᗵᗾ ᗬᗾ ᗝ ᗘᗿ � mythol...</td>\n",
       "      <td>56089</td>\n",
       "      <td>1.000000</td>\n",
       "      <td>0.780488</td>\n",
       "      <td>6453</td>\n",
       "    </tr>\n",
       "  </tbody>\n",
       "</table>\n",
       "<p>200 rows × 8 columns</p>\n",
       "</div>"
      ],
      "text/plain": [
       "                                                    br  \\\n",
       "0                                           ur c'harzh   \n",
       "1                  Mari zo deuet a-benn enno antronoz.   \n",
       "2    An amzer gwechall, ne oa... ne oa ket, eu... n...   \n",
       "3                    Piv zo bet o troc'hiñ ar wezenn ?   \n",
       "4           Pa oufemp ar wirionez, n'he lavarfemp ket.   \n",
       "..                                                 ...   \n",
       "195              War an hent am eus gwelet div vaouez.   \n",
       "196  Mes pegiz e ra ar re zo e-barzh... e-kostez......   \n",
       "197  Ar bedervet deus e verc'hed zo aet da chom da ...   \n",
       "198  Kerzhet a ra ? Eñ... eñ a respont ? O, me a we...   \n",
       "199  E brad-eñ ha, ne oa ket da zen mod arall nemet...   \n",
       "\n",
       "                                          br_processed  \\\n",
       "0                                           ur c'harzh   \n",
       "1                   mari zo deuet a benn enno antronoz   \n",
       "2    an amzer gwechall ne oa ne oa ket eu ne oa ket...   \n",
       "3                      piv zo bet o troc'hiñ ar wezenn   \n",
       "4             pa oufemp ar wirionez n'he lavarfemp ket   \n",
       "..                                                 ...   \n",
       "195               war an hent am eus gwelet div vaouez   \n",
       "196  mes pegiz e ra ar re zo e barzh e kostez beg e...   \n",
       "197  ar bedervet deus e verc'hed zo aet da chom da ...   \n",
       "198  kerzhet a ra eñ eñ a respont o me a wel oiaou ...   \n",
       "199  e brad eñ ha ne oa ket da zen mod arall nemet ...   \n",
       "\n",
       "                                                    fr  \\\n",
       "0                                             une haie   \n",
       "1               Marie est venue vers eux le lendemain.   \n",
       "2    Autrefois, c'était... c'était, euh... ça n'éta...   \n",
       "3                                Qui a coupé l'arbre ?   \n",
       "4    Si nous savions la vérité, nous ne la dirions ...   \n",
       "..                                                 ...   \n",
       "195                Sur le chemin, j'ai vu deux femmes.   \n",
       "196  Mes pegiz e ra ar re zo e-barzh... e-kostez......   \n",
       "197  La quatrième de ses filles est allée habiter à...   \n",
       "198  Il fonctionne (ton appareil) ? Il... il répond...   \n",
       "199  C'était son pré à lui et, il n'appartenait à p...   \n",
       "\n",
       "                                         transcription   city        wer  \\\n",
       "0     ὂ ἕ ˋ başka den ὀ ὢ ᴏ ệ Ử Ổ἟ ᴇ ᴇ ỗ ệ ữ Ồ἟ ᰩ ᴇ...  29032  16.000000   \n",
       "1     некоторht bread of Lucy physicians is lacked ...  29168   2.285714   \n",
       "2     nd ʻɑm ʻzɔr ʻdwɪ ʃɪl ʻɔa ʻwɑtʃɪt ʻɔa ʻwɑtʃɪt ...  29230   1.000000   \n",
       "3                      PIǜ-ZOO-Bē-ċT bossā advantages.  29293   1.000000   \n",
       "4             ḍ្ ្ ្ៗ ្ ្ម ្៓ ្ ្៓ ្ ្៓ ្៓ ្ ្៓ ្ ្ ្៓  56175   2.285714   \n",
       "..                                                 ...    ...        ...   \n",
       "195                                   Simpson簽ᗿ � flat  29168   1.000000   \n",
       "196   Korchawe Women went to economised steel andge...  29150   1.000000   \n",
       "197      andin emit j 제품 j miss you TC  BRANDON 我们见试一下  29293   1.000000   \n",
       "198   smaller x standards like here together it doe...  56094   1.000000   \n",
       "199   � pergunt Coco ᗋ ᗻᗿball ᗋ ᗵᗾ ᗬᗾ ᗝ ᗘᗿ � mythol...  56089   1.000000   \n",
       "\n",
       "          cer  file  \n",
       "0    7.400000  1057  \n",
       "1    2.029412  2654  \n",
       "2    0.821429  4401  \n",
       "3    0.935484  5843  \n",
       "4    0.875000  7177  \n",
       "..        ...   ...  \n",
       "195  0.861111  2925  \n",
       "196  0.769565  2251  \n",
       "197  0.803922  5777  \n",
       "198  0.860000  6815  \n",
       "199  0.780488  6453  \n",
       "\n",
       "[200 rows x 8 columns]"
      ]
     },
     "execution_count": 31,
     "metadata": {},
     "output_type": "execute_result"
    }
   ],
   "source": [
    "small_df = small_df[['br', 'br_processed', 'fr', 'transcription', 'city', 'wer', 'cer', 'file']]\n",
    "small_df"
   ]
  },
  {
   "cell_type": "code",
   "execution_count": 33,
   "id": "b6a7c24c",
   "metadata": {},
   "outputs": [
    {
     "name": "stdout",
     "output_type": "stream",
     "text": [
      "Average WER and CER for 22107:\n",
      "WER: 1.17\n",
      "CER: 0.87\n",
      "\n",
      "Average WER and CER for 22167:\n",
      "WER: 2.45\n",
      "CER: 2.7\n",
      "\n",
      "Average WER and CER for 22181:\n",
      "WER: 1.0\n",
      "CER: 0.86\n",
      "\n",
      "Average WER and CER for 22230:\n",
      "WER: 1.39\n",
      "CER: 1.21\n",
      "\n",
      "Average WER and CER for 22331:\n",
      "WER: 1.0\n",
      "CER: 0.84\n",
      "\n",
      "Average WER and CER for 22386:\n",
      "WER: 1.0\n",
      "CER: 0.91\n",
      "\n",
      "Average WER and CER for 29032:\n",
      "WER: 4.81\n",
      "CER: 2.63\n",
      "\n",
      "Average WER and CER for 29058:\n",
      "WER: 0.99\n",
      "CER: 0.76\n",
      "\n",
      "Average WER and CER for 29105:\n",
      "WER: 1.0\n",
      "CER: 0.71\n",
      "\n",
      "Average WER and CER for 29122:\n",
      "WER: 1.0\n",
      "CER: 0.98\n",
      "\n",
      "Average WER and CER for 29146:\n",
      "WER: 1.0\n",
      "CER: 0.82\n",
      "\n",
      "Average WER and CER for 29150:\n",
      "WER: 1.01\n",
      "CER: 0.87\n",
      "\n",
      "Average WER and CER for 29153:\n",
      "WER: 3.09\n",
      "CER: 3.0\n",
      "\n",
      "Average WER and CER for 29154:\n",
      "WER: 1.99\n",
      "CER: 1.69\n",
      "\n",
      "Average WER and CER for 29168:\n",
      "WER: 1.06\n",
      "CER: 0.93\n",
      "\n",
      "Average WER and CER for 29180:\n",
      "WER: 1.12\n",
      "CER: 0.81\n",
      "\n",
      "Average WER and CER for 29195:\n",
      "WER: 1.0\n",
      "CER: 0.66\n",
      "\n",
      "Average WER and CER for 29230:\n",
      "WER: 1.11\n",
      "CER: 0.89\n",
      "\n",
      "Average WER and CER for 29236:\n",
      "WER: 1.33\n",
      "CER: 0.96\n",
      "\n",
      "Average WER and CER for 29239:\n",
      "WER: 0.97\n",
      "CER: 0.74\n",
      "\n",
      "Average WER and CER for 29259:\n",
      "WER: 1.0\n",
      "CER: 0.67\n",
      "\n",
      "Average WER and CER for 29262:\n",
      "WER: 1.05\n",
      "CER: 0.97\n",
      "\n",
      "Average WER and CER for 29273:\n",
      "WER: 1.0\n",
      "CER: 0.82\n",
      "\n",
      "Average WER and CER for 29274:\n",
      "WER: 1.0\n",
      "CER: 0.95\n",
      "\n",
      "Average WER and CER for 29293:\n",
      "WER: 1.13\n",
      "CER: 0.99\n",
      "\n",
      "Average WER and CER for 29297:\n",
      "WER: 1.27\n",
      "CER: 0.84\n",
      "\n",
      "Average WER and CER for 56014:\n",
      "WER: 0.99\n",
      "CER: 0.75\n",
      "\n",
      "Average WER and CER for 56026:\n",
      "WER: 1.17\n",
      "CER: 0.83\n",
      "\n",
      "Average WER and CER for 56057:\n",
      "WER: 1.0\n",
      "CER: 0.94\n",
      "\n",
      "Average WER and CER for 56076:\n",
      "WER: 1.0\n",
      "CER: 0.83\n",
      "\n",
      "Average WER and CER for 56085:\n",
      "WER: 1.0\n",
      "CER: 0.81\n",
      "\n",
      "Average WER and CER for 56089:\n",
      "WER: 1.02\n",
      "CER: 0.82\n",
      "\n",
      "Average WER and CER for 56094:\n",
      "WER: 1.2\n",
      "CER: 1.15\n",
      "\n",
      "Average WER and CER for 56116:\n",
      "WER: 1.0\n",
      "CER: 1.02\n",
      "\n",
      "Average WER and CER for 56175:\n",
      "WER: 2.71\n",
      "CER: 1.52\n",
      "\n",
      "Average WER and CER for 56179:\n",
      "WER: 1.0\n",
      "CER: 0.88\n",
      "\n",
      "Average WER and CER for 56209:\n",
      "WER: 1.0\n",
      "CER: 0.89\n",
      "\n",
      "Average WER and CER for 56247:\n",
      "WER: 6.0\n",
      "CER: 4.26\n",
      "\n"
     ]
    }
   ],
   "source": [
    "# Assuming your DataFrame has columns: 'city', 'wer', and 'cer'\n",
    "city_avg = small_df.groupby('city')[['wer', 'cer']].mean()\n",
    "\n",
    "# Optional: round to 2 decimal places\n",
    "city_avg = city_avg.round(2)\n",
    "\n",
    "# Print each city's average WER and CER\n",
    "for city_code, row in city_avg.iterrows():\n",
    "    print(f\"Average WER and CER for {city_code}:\\nWER: {row['wer']}\\nCER: {row['cer']}\\n\")"
   ]
  },
  {
   "cell_type": "code",
   "execution_count": 34,
   "id": "8c8c29ce",
   "metadata": {},
   "outputs": [
    {
     "name": "stdout",
     "output_type": "stream",
     "text": [
      "Evaluation for --Côtes-d'Armor-- dialects 22xxx :\n",
      "WER: 1.4713\n",
      "CER: 1.3781\n",
      "\n",
      "Evaluation for --Finistère-- dialects 29xxx :\n",
      "WER: 1.2713\n",
      "CER: 1.0351\n",
      "\n",
      "Evaluation for --Morbihan-- dialects 56xxx :\n",
      "WER: 1.3678\n",
      "CER: 1.0922\n"
     ]
    }
   ],
   "source": [
    "# Filter for cities starting with '22'\n",
    "small_df_22 = small_df[small_df['city'].str.startswith('22')]\n",
    "avg_22 = small_df_22[['wer', 'cer']].mean().round(4)\n",
    "\n",
    "\n",
    "# Filter for cities starting with '22'\n",
    "small_df_29 = small_df[small_df['city'].str.startswith('29')]\n",
    "avg_29 = small_df_29[['wer', 'cer']].mean().round(4)\n",
    "\n",
    "\n",
    "# Filter for cities starting with '56'\n",
    "small_df_56 = small_df[small_df['city'].str.startswith('56')]\n",
    "avg_56 = small_df_56[['wer', 'cer']].mean().round(4)\n",
    "\n",
    "\n",
    "\n",
    "print(\"Evaluation for --Côtes-d'Armor-- dialects 22xxx :\")\n",
    "print(f\"WER: {avg_22['wer']}\")\n",
    "print(f\"CER: {avg_22['cer']}\\n\")\n",
    "\n",
    "print(\"Evaluation for --Finistère-- dialects 29xxx :\")\n",
    "print(f\"WER: {avg_29['wer']}\")\n",
    "print(f\"CER: {avg_29['cer']}\\n\")\n",
    "\n",
    "print(\"Evaluation for --Morbihan-- dialects 56xxx :\")\n",
    "print(f\"WER: {avg_56['wer']}\")\n",
    "print(f\"CER: {avg_56['cer']}\")"
   ]
  },
  {
   "cell_type": "code",
   "execution_count": 35,
   "id": "220c7579",
   "metadata": {},
   "outputs": [
    {
     "name": "stdout",
     "output_type": "stream",
     "text": [
      "Overall Average WER: 1.31\n",
      "Overall Average CER: 1.08\n"
     ]
    }
   ],
   "source": [
    "# Assuming 'wer' and 'cer' columns exist\n",
    "average_wer = small_df['wer'].mean()\n",
    "average_cer = small_df['cer'].mean()\n",
    "\n",
    "# Optional: round them\n",
    "average_wer = round(average_wer, 2)\n",
    "average_cer = round(average_cer, 2)\n",
    "\n",
    "print(f\"Overall Average WER: {average_wer}\")\n",
    "print(f\"Overall Average CER: {average_cer}\")"
   ]
  },
  {
   "cell_type": "code",
   "execution_count": null,
   "id": "1d8a6c92",
   "metadata": {},
   "outputs": [],
   "source": []
  }
 ],
 "metadata": {
  "kernelspec": {
   "display_name": "stt-breton",
   "language": "python",
   "name": "python3"
  },
  "language_info": {
   "codemirror_mode": {
    "name": "ipython",
    "version": 3
   },
   "file_extension": ".py",
   "mimetype": "text/x-python",
   "name": "python",
   "nbconvert_exporter": "python",
   "pygments_lexer": "ipython3",
   "version": "3.10.16"
  }
 },
 "nbformat": 4,
 "nbformat_minor": 5
}
