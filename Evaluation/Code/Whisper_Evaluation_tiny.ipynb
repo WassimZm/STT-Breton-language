{
 "cells": [
  {
   "cell_type": "code",
   "execution_count": 1,
   "id": "74cc39bf",
   "metadata": {},
   "outputs": [],
   "source": [
    "import os\n",
    "import wave\n",
    "import json\n",
    "import jiwer\n",
    "import audio\n",
    "\n",
    "import sys\n",
    "\n",
    "import whisper"
   ]
  },
  {
   "cell_type": "code",
   "execution_count": 2,
   "id": "fed700c2",
   "metadata": {},
   "outputs": [],
   "source": [
    "import pandas as pd"
   ]
  },
  {
   "cell_type": "code",
   "execution_count": 3,
   "id": "e4e74a2f",
   "metadata": {},
   "outputs": [],
   "source": [
    "# Login using e.g. `huggingface-cli login` to access this dataset\n",
    "df = pd.read_parquet(\"/home/ouassim/Downloads/0000.parquet\",columns=[\"br\",\"fr\",\"city\"])\n",
    "# df = pd.read_parquet(\"/home/wazemour/Stage-Breton/Data/Banque sonore des Dialectes Bretonnes/0000.parquet\",columns=[\"br\",\"fr\",\"city\"])"
   ]
  },
  {
   "cell_type": "code",
   "execution_count": 4,
   "id": "51119bd8",
   "metadata": {},
   "outputs": [],
   "source": [
    "def fix_row(row):\n",
    "    if 'peurunvan :' in row['fr']:\n",
    "        # Extract Breton text after \"peurunvan :\"\n",
    "        new_text = row['fr'].split('peurunvan :', 1)[1].strip()\n",
    "        # Replace both Br and Fr columns with this new_text\n",
    "        row['br'] = new_text\n",
    "        row['fr'] = new_text\n",
    "    return row\n",
    "\n",
    "df = df.apply(fix_row, axis=1)"
   ]
  },
  {
   "cell_type": "code",
   "execution_count": 5,
   "id": "94c651c9",
   "metadata": {},
   "outputs": [
    {
     "data": {
      "application/vnd.microsoft.datawrangler.viewer.v0+json": {
       "columns": [
        {
         "name": "index",
         "rawType": "int64",
         "type": "integer"
        },
        {
         "name": "br",
         "rawType": "object",
         "type": "string"
        },
        {
         "name": "fr",
         "rawType": "object",
         "type": "string"
        },
        {
         "name": "city",
         "rawType": "object",
         "type": "string"
        }
       ],
       "ref": "c3df1e9a-d748-41b1-bde5-8e89242890b9",
       "rows": [
        [
         "0",
         "Pell zo n'eo ket o welet ac'hanon.",
         "Ça fait longtemps qu'il n'est pas venu me voir.",
         "22107"
        ],
        [
         "1",
         "N'oc'h ket bet pell zo o welet ac'hanon.",
         "Vous n'êtes pas venus me voir depuis longtemps.",
         "22107"
        ],
        [
         "2",
         "Pell zo n'eo ket bet o welet ac'hanon.",
         "Ça fait longtemps qu'il n'est pas venu me voir.",
         "22107"
        ],
        [
         "3",
         "Ma... ma zi ne vo ket gwerzhet.",
         "Ma... ma maison ne sera pas vendue.",
         "22107"
        ],
        [
         "4",
         "Hon... hon ti ne vo ket gwerzhet.",
         "Notre... notre maison ne sera pas vendue.",
         "22107"
        ],
        [
         "5",
         "Me am eus... me am eus afer da lavaret un dra-bennak deoc'h.",
         "J'ai... j'ai besoin de te dire quelque chose.",
         "22107"
        ],
        [
         "6",
         "N'an ket da vale d'ar c'h-... Koad ar Forj.",
         "Je ne vais pas me promener dans la F-... Forêt de Quénécan.",
         "22107"
        ],
        [
         "7",
         "N'an ket ma unan da... vale da Goad ar Forj.",
         "Je ne vais pas toute seule me... promener dans la Forêt de Quénécan.",
         "22107"
        ],
        [
         "8",
         "E hini zo gwelloc'h evit ma hini.",
         "Le sien est mieux que le mien.",
         "22107"
        ],
        [
         "9",
         "N'eo ket mad.",
         "Ce n'est pas bon.",
         "22107"
        ],
        [
         "10",
         "Ma zad zo skuizh hiziv.",
         "Mon père est fatigué aujourd'hui.",
         "22107"
        ],
        [
         "11",
         "Bout zo saout er park.",
         "Il y a des vaches dans le champ.",
         "22107"
        ],
        [
         "12",
         "Bout zo... bout zo saout er park.",
         "Il y a... il y a des vaches dans le champ.",
         "22107"
        ],
        [
         "13",
         "N'eus ket deñved e-barzh er park ken.",
         "Il n'y a plus de moutons dans le champ.",
         "22107"
        ],
        [
         "14",
         "N'eus ket deñved e-barzh er park ken.",
         "Il n'y a plus de moutons dans le champ.",
         "22107"
        ],
        [
         "15",
         "Ar paotr-se ne blij ket din.",
         "Ce garçon ne me plaît pas.",
         "22107"
        ],
        [
         "16",
         "Me am eus droug-kof pa zebrañ kaol.",
         "J'ai mal au ventre quand je mange du chou.",
         "22107"
        ],
        [
         "17",
         "Me am eus... me am eus drouk-kozh... -kof pa zebrañ kaol.",
         "J'ai... j'ai mal de vieux... au ventre quand je mange du chou.",
         "22107"
        ],
        [
         "18",
         "E-men ema ar skeul ?",
         "Où est l'échelle ?",
         "22107"
        ],
        [
         "19",
         "Ma breur en deus lakaet anezhi e-kos-... e-kos-... e-kostez an ti.",
         "Mon frère l'a mise c-... c-... contre la maison.",
         "22107"
        ],
        [
         "20",
         "Ma breur en deus lakaet anezhi e-kostez an ti.",
         "Mon frère l'a mise contre la maison.",
         "22107"
        ],
        [
         "21",
         "Deuet on gantañ.",
         "Je suis venue avec lui.",
         "22107"
        ],
        [
         "22",
         "Deuet on ganti.",
         "Je suis venue avec elle.",
         "22107"
        ],
        [
         "23",
         "Deuet on ganti.",
         "Je suis venue avec elle.",
         "22107"
        ],
        [
         "24",
         "Deuet on ganeoc'h.",
         "Je suis venue avec toi.",
         "22107"
        ],
        [
         "25",
         "Ober a ra tommoc'h war-lerc'h kreisteiz evit h-... evit hi-... evit ar mintin-mañ.",
         "Il fait plus chaud après midi que... que... que ce matin.",
         "22107"
        ],
        [
         "26",
         "Ober a ra tommoc'h war-lerc'h kreisteiz evit ar mintin-mañ.",
         "Il fait plus chaud après midi que ce matin.",
         "22107"
        ],
        [
         "27",
         "Yenoc'h eo bremañ evit a beure.",
         "Il fait plus froid maintenant que ce matin.",
         "22107"
        ],
        [
         "28",
         "Yenoc'h eo bremañ evit a beure.",
         "Il fait plus froid maintenant que ce matin.",
         "22107"
        ],
        [
         "29",
         "Bremañ ec'h an da vale d'ar... d'ar c'hoad.",
         "Maintenant je vais me promener dans... dans le bois.",
         "22107"
        ],
        [
         "30",
         "Bremañ ec'h an da vale d'ar c'hoadoù.",
         "Maintenant je vais me promener dans les bois.",
         "22107"
        ],
        [
         "31",
         "Droug am eus e ma diouc'har, n'on ket ken evit kerzhal.",
         "J'ai mal aux jambes, je ne peux plus marcher.",
         "22107"
        ],
        [
         "32",
         "Ema oc'h angellat... oc'h angellat... er rivier.",
         "Il est en train de nager... de nager... dans la rivière.",
         "22107"
        ],
        [
         "33",
         "Ema oc'h angellat er rivier.",
         "Il est en train de nager dans la rivière.",
         "22107"
        ],
        [
         "34",
         "Me am eus ur porc'hell. Me a gaso anezhañ da Rostrenenn warc'hoazh da... da... da werhzañ.",
         "J'ai un cochon. Je l'enverrai à Rostrenen demain pour... pour... pour le vendre.",
         "22107"
        ],
        [
         "35",
         "He mamm a oa matezh e Kergarreg.",
         "Sa mère était servante à Kergarrec.",
         "22107"
        ],
        [
         "36",
         "Red eo din mont kuit, ma zad-kozh zo o c'hortoz ac'hanon er gêr.",
         "Je dois partir, mon grand-père est en train de m'attendre à la maison.",
         "22107"
        ],
        [
         "37",
         "Ma rastell zo drailhet.",
         "Mon râteau est cassé.",
         "22107"
        ],
        [
         "38",
         "Ho rastell zo drailhet.",
         "Votre râteau est cassé.",
         "22107"
        ],
        [
         "39",
         "E loened zo oc'h evañ dour e-barzh er rivier.",
         "Ses bêtes sont en train de boire de l'eau dans la rivière.",
         "22107"
        ],
        [
         "40",
         "Ho loened zo oc'h evañ dour er rivier.",
         "Vos bêtes sont en train de boire de l'eau dans la rivière.",
         "22107"
        ],
        [
         "41",
         "Petra eo hennezh ?",
         "Qu'est-ce que c'est que celui-là ?",
         "22107"
        ],
        [
         "42",
         "raden.",
         "des fougères.",
         "22107"
        ],
        [
         "43",
         "Re a zour zo d'ar... d'ar goañv.",
         "Il y a trop d'eau en... en hiver.",
         "22107"
        ],
        [
         "44",
         "N'omp ket evit sailhañ... ar... ar rigol.",
         "Nous ne pouvons pas sauter... le... le ruisseau.",
         "22107"
        ],
        [
         "45",
         "sailhañ",
         "sauter",
         "22107"
        ],
        [
         "46",
         "N'eus ket ken kemener evit ober dilhad.",
         "Il n'y a plus de tailleur pour faire des habits.",
         "22107"
        ],
        [
         "47",
         "Hiziv ema brav... brav an amzer.",
         "Aujourd'hui il fait beau... le temps est beau.",
         "22107"
        ],
        [
         "48",
         "Bout zo ur bern merien e ma... e... e ma sukr.",
         "Il y a plein de fourmis dans mon... dans... dans mon sucre.",
         "22107"
        ],
        [
         "49",
         "Bout... bout zo ur bern melien e-barzh e ma sukr.",
         "Il y a... il y a plein de fourmis dans mon sucre.",
         "22107"
        ]
       ],
       "shape": {
        "columns": 3,
        "rows": 7291
       }
      },
      "text/html": [
       "<div>\n",
       "<style scoped>\n",
       "    .dataframe tbody tr th:only-of-type {\n",
       "        vertical-align: middle;\n",
       "    }\n",
       "\n",
       "    .dataframe tbody tr th {\n",
       "        vertical-align: top;\n",
       "    }\n",
       "\n",
       "    .dataframe thead th {\n",
       "        text-align: right;\n",
       "    }\n",
       "</style>\n",
       "<table border=\"1\" class=\"dataframe\">\n",
       "  <thead>\n",
       "    <tr style=\"text-align: right;\">\n",
       "      <th></th>\n",
       "      <th>br</th>\n",
       "      <th>fr</th>\n",
       "      <th>city</th>\n",
       "    </tr>\n",
       "  </thead>\n",
       "  <tbody>\n",
       "    <tr>\n",
       "      <th>0</th>\n",
       "      <td>Pell zo n'eo ket o welet ac'hanon.</td>\n",
       "      <td>Ça fait longtemps qu'il n'est pas venu me voir.</td>\n",
       "      <td>22107</td>\n",
       "    </tr>\n",
       "    <tr>\n",
       "      <th>1</th>\n",
       "      <td>N'oc'h ket bet pell zo o welet ac'hanon.</td>\n",
       "      <td>Vous n'êtes pas venus me voir depuis longtemps.</td>\n",
       "      <td>22107</td>\n",
       "    </tr>\n",
       "    <tr>\n",
       "      <th>2</th>\n",
       "      <td>Pell zo n'eo ket bet o welet ac'hanon.</td>\n",
       "      <td>Ça fait longtemps qu'il n'est pas venu me voir.</td>\n",
       "      <td>22107</td>\n",
       "    </tr>\n",
       "    <tr>\n",
       "      <th>3</th>\n",
       "      <td>Ma... ma zi ne vo ket gwerzhet.</td>\n",
       "      <td>Ma... ma maison ne sera pas vendue.</td>\n",
       "      <td>22107</td>\n",
       "    </tr>\n",
       "    <tr>\n",
       "      <th>4</th>\n",
       "      <td>Hon... hon ti ne vo ket gwerzhet.</td>\n",
       "      <td>Notre... notre maison ne sera pas vendue.</td>\n",
       "      <td>22107</td>\n",
       "    </tr>\n",
       "    <tr>\n",
       "      <th>...</th>\n",
       "      <td>...</td>\n",
       "      <td>...</td>\n",
       "      <td>...</td>\n",
       "    </tr>\n",
       "    <tr>\n",
       "      <th>7286</th>\n",
       "      <td>Ne zeue ket ag ar vro Kemper. Ne zeue ket ag a...</td>\n",
       "      <td>Il ne venait pas du pays de Quimper. Il ne ven...</td>\n",
       "      <td>56247</td>\n",
       "    </tr>\n",
       "    <tr>\n",
       "      <th>7287</th>\n",
       "      <td>Bout a oa linad razh d'en-dro ar feunteun. Bou...</td>\n",
       "      <td>Il y avait des orties tout autour de la fontai...</td>\n",
       "      <td>56247</td>\n",
       "    </tr>\n",
       "    <tr>\n",
       "      <th>7288</th>\n",
       "      <td>Ne oa ket aes o zennañ.</td>\n",
       "      <td>Ce n'était pas facile de les arracher.</td>\n",
       "      <td>56247</td>\n",
       "    </tr>\n",
       "    <tr>\n",
       "      <th>7289</th>\n",
       "      <td>Ne oa ket aes o zennañ.</td>\n",
       "      <td>Ce n'était pas facile de les arracher.</td>\n",
       "      <td>56247</td>\n",
       "    </tr>\n",
       "    <tr>\n",
       "      <th>7290</th>\n",
       "      <td>Bout a o gweler lies o, o pousiñ e-tal ar feun...</td>\n",
       "      <td>On les voit souvent pousser près de la fontain...</td>\n",
       "      <td>56247</td>\n",
       "    </tr>\n",
       "  </tbody>\n",
       "</table>\n",
       "<p>7291 rows × 3 columns</p>\n",
       "</div>"
      ],
      "text/plain": [
       "                                                     br  \\\n",
       "0                    Pell zo n'eo ket o welet ac'hanon.   \n",
       "1              N'oc'h ket bet pell zo o welet ac'hanon.   \n",
       "2                Pell zo n'eo ket bet o welet ac'hanon.   \n",
       "3                       Ma... ma zi ne vo ket gwerzhet.   \n",
       "4                     Hon... hon ti ne vo ket gwerzhet.   \n",
       "...                                                 ...   \n",
       "7286  Ne zeue ket ag ar vro Kemper. Ne zeue ket ag a...   \n",
       "7287  Bout a oa linad razh d'en-dro ar feunteun. Bou...   \n",
       "7288                            Ne oa ket aes o zennañ.   \n",
       "7289                            Ne oa ket aes o zennañ.   \n",
       "7290  Bout a o gweler lies o, o pousiñ e-tal ar feun...   \n",
       "\n",
       "                                                     fr   city  \n",
       "0       Ça fait longtemps qu'il n'est pas venu me voir.  22107  \n",
       "1       Vous n'êtes pas venus me voir depuis longtemps.  22107  \n",
       "2       Ça fait longtemps qu'il n'est pas venu me voir.  22107  \n",
       "3                   Ma... ma maison ne sera pas vendue.  22107  \n",
       "4             Notre... notre maison ne sera pas vendue.  22107  \n",
       "...                                                 ...    ...  \n",
       "7286  Il ne venait pas du pays de Quimper. Il ne ven...  56247  \n",
       "7287  Il y avait des orties tout autour de la fontai...  56247  \n",
       "7288             Ce n'était pas facile de les arracher.  56247  \n",
       "7289             Ce n'était pas facile de les arracher.  56247  \n",
       "7290  On les voit souvent pousser près de la fontain...  56247  \n",
       "\n",
       "[7291 rows x 3 columns]"
      ]
     },
     "execution_count": 5,
     "metadata": {},
     "output_type": "execute_result"
    }
   ],
   "source": [
    "df"
   ]
  },
  {
   "cell_type": "code",
   "execution_count": 6,
   "id": "a9c9d16d",
   "metadata": {},
   "outputs": [],
   "source": [
    "# dataset_path = \"/home/wazemour/Stage-Breton/Data/Banque sonore des Dialectes Bretonnes/Audio/Audio\"\n",
    "dataset_path = \"/home/ouassim/Desktop/ss/stage/Data/Banque sonore des Dialectes Bretonnes/Audio/Audio\""
   ]
  },
  {
   "cell_type": "code",
   "execution_count": 8,
   "id": "4f893d71",
   "metadata": {},
   "outputs": [
    {
     "name": "stderr",
     "output_type": "stream",
     "text": [
      "/home/ouassim/anaconda3/envs/stt-breton/lib/python3.10/site-packages/whisper/__init__.py:69: UserWarning: /home/ouassim/.cache/whisper/tiny.pt exists, but the SHA256 checksum does not match; re-downloading the file\n",
      "  warnings.warn(\n",
      "100%|█████████████████████████████████████| 72.1M/72.1M [00:40<00:00, 1.85MiB/s]\n"
     ]
    }
   ],
   "source": [
    "model = whisper.load_model(\"tiny\")"
   ]
  },
  {
   "cell_type": "code",
   "execution_count": 9,
   "id": "d69ad2e0",
   "metadata": {},
   "outputs": [],
   "source": [
    "\n",
    "from load_ground_truth import load_ground_truth_dict\n",
    "\n",
    "from transcriber import transcribe_audio\n",
    "\n",
    "from evaluate_wer_cer import evaluate_wer_cer"
   ]
  },
  {
   "cell_type": "code",
   "execution_count": 10,
   "id": "26edfb57",
   "metadata": {},
   "outputs": [],
   "source": [
    "def generate_transcription(row):\n",
    "    file_id = row['file']\n",
    "    utt_name = f\"utt_{file_id:05d}.wav\"\n",
    "    full_path = os.path.join(dataset_path, utt_name)\n",
    "    return transcribe_audio(full_path, model)"
   ]
  },
  {
   "cell_type": "code",
   "execution_count": null,
   "id": "7e37246d",
   "metadata": {},
   "outputs": [
    {
     "data": {
      "application/vnd.microsoft.datawrangler.viewer.v0+json": {
       "columns": [
        {
         "name": "index",
         "rawType": "int64",
         "type": "integer"
        },
        {
         "name": "br",
         "rawType": "object",
         "type": "string"
        },
        {
         "name": "fr",
         "rawType": "object",
         "type": "string"
        },
        {
         "name": "city",
         "rawType": "object",
         "type": "string"
        }
       ],
       "ref": "315426a1-c70d-4446-bdc0-fdd9457224e3",
       "rows": [
        [
         "1057",
         "ur c'harzh",
         "une haie",
         "29032"
        ],
        [
         "2654",
         "Mari zo deuet a-benn enno antronoz.",
         "Marie est venue vers eux le lendemain.",
         "29168"
        ],
        [
         "4401",
         "An amzer gwechall, ne oa... ne oa ket, eu... ne oa ket memes mod.",
         "Autrefois, c'était... c'était, euh... ça n'était pas pareil.",
         "29230"
        ],
        [
         "5843",
         "Piv zo bet o troc'hiñ ar wezenn ?",
         "Qui a coupé l'arbre ?",
         "29293"
        ],
        [
         "7177",
         "Pa oufemp ar wirionez, n'he lavarfemp ket.",
         "Si nous savions la vérité, nous ne la dirions pas.",
         "56175"
        ],
        [
         "3805",
         "Int zo o joentrañ ar mein e-barzh ar vur.",
         "Ils sont en train de joindre les pierres du mur.",
         "29230"
        ],
        [
         "3961",
         "A-benn em eus labouret em eus gounezet ma fae.",
         "Quand j'ai travaillé, j'ai gagné ma paie.",
         "29230"
        ],
        [
         "6147",
         "Un amzer zo bet, eu, dour ar feunteun a rede e-barzh ar prad.",
         "Fut un temps, euh, l'eau de la fontaine coulait dans la prairie.",
         "56057"
        ],
        [
         "3551",
         "A-wechoù em eus poan-benn diouzh ar pardaez.",
         "Parfois j'ai mal à la tête le soir.",
         "29180"
        ],
        [
         "2413",
         "gris loued",
         "bleu grisonnant",
         "29153"
        ],
        [
         "185",
         "A-vuzul e kosha, e teu muioc'h a spered dezhañ.",
         "Plus il vieillit, plus il devient intelligent.",
         "22167"
        ],
        [
         "1221",
         "Ah, ar glesker a oa bet kuzhet marteze e-barzh ar c'holi ? n'ouzon ket ; boñ, amañ emañ tout an dud bremañ neuze, bez' emañ ar mous, bez' emañ ar glesker bihan, hag an hini vras, fougeet ivez, an tortu hag ar c'hi, ar c'hi zo da, ar c'hi n'en deus ket an aer bezañ gwall seder anezhañ, marteze ar c'hi n'en deus ket bet netra, n'ouzon ket.",
         "Ah, ar glesker a oa bet kuzhet marteze e-barzh ar c'holi ? n'ouzon ket ; boñ, amañ emañ tout an dud bremañ neuze, bez' emañ ar mous, bez' emañ ar glesker bihan, hag an hini vras, fougeet ivez, an tortu hag ar c'hi, ar c'hi zo da, ar c'hi n'en deus ket an aer bezañ gwall seder anezhañ, marteze ar c'hi n'en deus ket bet netra, n'ouzon ket.",
         "29122"
        ],
        [
         "61",
         "Evit Gouel an Ollzent ar bloaz tremenet, ec'h oa muioc'h a... a bokedoù er... er vered... evit ar bloaz-mañ.",
         "À la Toussaint l'année dernière, il y avait plus de... de fleurs au... au cimetière... que cette année.",
         "22107"
        ],
        [
         "2328",
         "Te zo bet o teskiñ debriñ korriged e-barzh bro ar Mokoied¹ !",
         "Te zo bet o teskiñ debriñ korriged e-barzh bro ar Mokoied¹ !",
         "29150"
        ],
        [
         "6524",
         "Me a lavarfe, me a lavarfe, bremañ, me a wel anezho evel rouanezed, ha ur seurt ne chomont ket, war ar maez !",
         "Me a lavarfe, me a lavarfe, bremañ, me a wel anezho evel rouanezed, ha ur seurt ne chomont ket, war ar maez !",
         "56089"
        ],
        [
         "6082",
         "Ah mes, e-barzh amañ ez omp e-barzh Goured al Lojoù ;<br/>hag, e-barzh aze, dreist ar, vardell-se zo, zo un espes lenn ivez kar, ar stêr a lenn kwa ;<br/>an hini kaoz e-barzh-amañ e oa ul lec'h neuze, e-barzh an tu all evit lakaat kizelloù, gwel-, gwelet e vez ar, ar vur heñ ;<br/> mes bout zo euh, bout zo ur goured, ne welit ket, ar goured euh a base etre, etre an daou biler ;<br/>an hini kaoz hennezh, aze e veze lakaet kizelloù, gwel-, gwelet a vez heñ ;<br/>kaoz ar c'hizelloù a veze staget ouzh euh, ouzh ar voger kwa, ouzh, ouzh ar murioù kwa, hag hennezh a oa ul lec'h evit tapout silioù a-font ;<br/>hennezh zo bet evel-se ha, hag unan seurt-se zo c'hoazh, a-benn euh, pa erruit izeloc'h evit Milin Poulhibed du-se zo unan seurt-se c'hoazh, ur, mes n'eo ket e-barzh ar memes model, eñ zo plomoc'h kwa, hag e oa tout ar re-se a oa graet a-espres evit la-, evit tapout silioù.",
         "Ah mes, e-barzh amañ ez omp e-barzh Goured al Lojoù ;<br/>hag, e-barzh aze, dreist ar, vardell-se zo, zo un espes lenn ivez kar, ar stêr a lenn kwa ;<br/>an hini kaoz e-barzh-amañ e oa ul lec'h neuze, e-barzh an tu all evit lakaat kizelloù, gwel-, gwelet e vez ar, ar vur heñ ;<br/> mes bout zo euh, bout zo ur goured, ne welit ket, ar goured euh a base etre, etre an daou biler ;<br/>an hini kaoz hennezh, aze e veze lakaet kizelloù, gwel-, gwelet a vez heñ ;<br/>kaoz ar c'hizelloù a veze staget ouzh euh, ouzh ar voger kwa, ouzh, ouzh ar murioù kwa, hag hennezh a oa ul lec'h evit tapout silioù a-font ;<br/>hennezh zo bet evel-se ha, hag unan seurt-se zo c'hoazh, a-benn euh, pa erruit izeloc'h evit Milin Poulhibed du-se zo unan seurt-se c'hoazh, ur, mes n'eo ket e-barzh ar memes model, eñ zo plomoc'h kwa, hag e oa tout ar re-se a oa graet a-espres evit la-, evit tapout silioù.",
         "56014"
        ],
        [
         "3934",
         "Ma breur zo ganet tri bloaz war o lerc'h.",
         "Mon frère est né 3 ans après eux.",
         "29230"
        ],
        [
         "4128",
         "Un amzer zo bet, ni n'ajemp ket d'ar skol d'ar yaou.",
         "Autrefois, nous n'allions pas à l'école le jeudi.",
         "29230"
        ],
        [
         "2344",
         "Eu, me am eus soñj, a-benn e oan e-barzh... a-benn e oan yaouank... ha krennbaotr memes... lar, eu... an devezh, eu, Gouel, eu... Nedeleg, eh beñ, e yae an traoù da... an oferenn hanter-noz ha neuze, eu... pa veze, eu... deuet an dud d'ar gêr, beñ, e veze degaset, eu... ur vriochenn, a-wechoù, un aval-orañj pe... a-wechoù e veze degaset ivez ur mabig Jezuz, un tammig, eu... gant... graet gant sukr ha neuze, eu... an dra-se e oa... dija un dra... \"un dra gaer\" e veze lavaret ! Ha neuze da... da vintin, te a gave an dra-se tout e-barzh da votez-koad, kar pa... a-benn e oa... da... d'an devezh a-raok, te az poa naetaet, e veze lavaret dit :<br/>\"Ah paotr ! Te ema dav dit naetaat da vo-... da voutoù-lêr pe da... da voutoù-koad, surtout boutoù-koad, dav(?) kaout anezhe prop, lakaat un tammig plouz fresk e-barzh anezhe ha neuze, eu... a-benn warc'hoazh vitin, beñ, eu... e vo... marteze, eu... e vo d-... e kavi un dra-bennak e-barzh da... e-barzh da votez-koad, kwa.\"<br/>Ha neuze, eu... boñ beñ... alies, eu... dija atav memes e veze kavet, eu... hag an dra-se a oa un dra gaer... lar... evit ur c'hrouadur da welet... da gaout an dra-se e-barzh e votez-koad. Hag an dra-se a oa e-barzh... met... a-hend-all... ha neuze, eu... d'an devezh, eu... e veze graet un tammig, eu... mañjer, eu... eu, gwelloc'h a-wechoù evit, eu... an devezhioù-all. E veze lakeet ur yar pe ur c'hog da boazhañ ha neuze, eu... e veze kavet ar soubenn d'ober un daou pe dri devezh war-lerc'h... ah... an dra-se a oa... an dra-se a oa dija ur fest ! Ya...",
         "Eu, me am eus soñj, a-benn e oan e-barzh... a-benn e oan yaouank... ha krennbaotr memes... lar, eu... an devezh, eu, Gouel, eu... Nedeleg, eh beñ, e yae an traoù da... an oferenn hanter-noz ha neuze, eu... pa veze, eu... deuet an dud d'ar gêr, beñ, e veze degaset, eu... ur vriochenn, a-wechoù, un aval-orañj pe... a-wechoù e veze degaset ivez ur mabig Jezuz, un tammig, eu... gant... graet gant sukr ha neuze, eu... an dra-se e oa... dija un dra... \"un dra gaer\" e veze lavaret ! Ha neuze da... da vintin, te a gave an dra-se tout e-barzh da votez-koad, kar pa... a-benn e oa... da... d'an devezh a-raok, te az poa naetaet, e veze lavaret dit :<br/>\"Ah paotr ! Te ema dav dit naetaat da vo-... da voutoù-lêr pe da... da voutoù-koad, surtout boutoù-koad, dav(?) kaout anezhe prop, lakaat un tammig plouz fresk e-barzh anezhe ha neuze, eu... a-benn warc'hoazh vitin, beñ, eu... e vo... marteze, eu... e vo d-... e kavi un dra-bennak e-barzh da... e-barzh da votez-koad, kwa.\"<br/>Ha neuze, eu... boñ beñ... alies, eu... dija atav memes e veze kavet, eu... hag an dra-se a oa un dra gaer... lar... evit ur c'hrouadur da welet... da gaout an dra-se e-barzh e votez-koad. Hag an dra-se a oa e-barzh... met... a-hend-all... ha neuze, eu... d'an devezh, eu... e veze graet un tammig, eu... mañjer, eu... eu, gwelloc'h a-wechoù evit, eu... an devezhioù-all. E veze lakeet ur yar pe ur c'hog da boazhañ ha neuze, eu... e veze kavet ar soubenn d'ober un daou pe dri devezh war-lerc'h... ah... an dra-se a oa... an dra-se a oa dija ur fest ! Ya...",
         "29153"
        ],
        [
         "6771",
         "Tuet d'an douar ur seurt, ne oamp ket heu, ne oamp ket pesketaerien heu, ni a oa...",
         "Tournés vers la terre quand même, nous n'étions pas heu, nous n'étions pas des pêcheurs heu, nous étions...",
         "56094"
        ],
        [
         "4539",
         "Eu, an uioù-se zo dozvet gant ma yar wenn.",
         "Euh, ces oeufs-là ont été pondus par ma poule blanche.",
         "29230"
        ],
        [
         "544",
         "Al levrioù-mañ zo ker, pegement eo ar re-se ?",
         "Ces livres-ci sont chers, combien coûtent ceux-là ?",
         "22331"
        ],
        [
         "3647",
         "Ar bal zo aet a-dreuz kaer.",
         "La pelle a fini toute tordue.",
         "29230"
        ],
        [
         "1670",
         "Me zo o vont da skubañ ma zi a-benn e vi aet kuit.",
         "Je vais balayer ma maison quand tu seras parti.",
         "29150"
        ],
        [
         "1465",
         "Ah... te az peus troc'het un tamm da lakaat aze, a-gaoz e oan o vont da lavar, n'ema ket staget tu ebet anezhañ !",
         "Ah... te az peus troc'het un tamm da lakaat aze, a-gaoz e oan o vont da lavar, n'ema ket staget tu ebet anezhañ !",
         "29150"
        ],
        [
         "3463",
         "Euh, euh, ouzh ouzh o favioù ? Ya, e veze lakaet ul, ul, ul liver. Petra a vez lavaret eus an dra-se e, e galleg ?",
         "Euh, euh, ouzh ouzh o favioù ? Ya, e veze lakaet ul, ul, ul liver. Petra a vez lavaret eus an dra-se e, e galleg ?",
         "29168"
        ],
        [
         "2778",
         "Pa yaen da welet va breur-kaer, eñv a gonte din istorioù eus... les... diouzh al lutin.",
         "Quand j'allais voir mon beau-frère, il me racontait des histoires de lutins.",
         "29168"
        ],
        [
         "2492",
         "N'eus ket e-leizh bugale hag a oa brezhoneg.",
         "Il n'y a pas beaucoup d'enfants qui savent le breton.",
         "29153"
        ],
        [
         "6966",
         "Ki ivez, un amzer ki a ve bet lavaret, ya. Fall amzer peotramant un amzer ki.",
         "Ki ivez, un amzer ki a ve bet lavaret, ya. Fall amzer peotramant un amzer ki.",
         "56116"
        ],
        [
         "4666",
         "N'ho peus ket graet ar pezh am boa lavaret deoc'h.",
         "Vous n'avez pas fait ce que je vous avais dit.",
         "29236"
        ],
        [
         "994",
         "Muioc'h a dud e oant dec'h e-barzh an overenn.",
         "Ils étaient plus de monde hier à la messe.",
         "29032"
        ],
        [
         "7118",
         "Ar voazined zo deuet d'ober an dornerezh.",
         "Les voisins sont venus faire le battage.",
         "56175"
        ],
        [
         "4011",
         "Dec'h, ni hor boa gwelet e vreur gantañ.",
         "Hier, nous avions vu son frère avec lui.",
         "29230"
        ],
        [
         "177",
         "Dont a rehet, da ma gwel (gwelet), a-benn ur miz ac'hann-amañ.",
         "Tu viendras me voir dans un mois.",
         "22167"
        ],
        [
         "1737",
         "Gra ur bouch din !",
         "Fais-moi un bisou !",
         "29150"
        ],
        [
         "1615",
         "Eu... oui, ya... me zo o vont da lavar dit lar me am eus, eu... ur c'hou-... ur c'houzeñ jermen da ma mamm... hag, eu... zo bet lazhet... e oa kouezhet... kouezhet ar... ar wern hag a oa ar vizan dalc'h diouti hag ar... ar wern zo kouezhet hag he deus lazhet °na-... ar paotr yaouank, war-c'horre ar vag.",
         "Eu... oui, ya... me zo o vont da lavar dit lar me am eus, eu... ur c'hou-... ur c'houzeñ jermen da ma mamm... hag, eu... zo bet lazhet... e oa kouezhet... kouezhet ar... ar wern hag a oa ar vizan dalc'h diouti hag ar... ar wern zo kouezhet hag he deus lazhet °na-... ar paotr yaouank, war-c'horre ar vag.",
         "29150"
        ],
        [
         "4700",
         "An dra-se zo lavaret \"payer cash\", paeet diouzhtu, kwa. Hag an arc'hant war ar peul. Abalamour gwechall, pa'z eer d'ar foar gant ur marc'h pe ur vuoc'h, e veze plantet peulioù deomp gant... tud... gant... kantonierien kêr, kwa, a lakae peulioù hag e veze staget ar marc'h pe a... setu, e veze kontet an arc'hant war ar peul peogwir ne oa taol ebet. Ya, e veze kountet war ar peul a dalveze da stagañ ar marc'h pe ar vuoc'h, eo war ar peul-se a oa plat ar penn e veze kontet ar gwenneien war-gorre... pa veze prenet ur vuoc'h.",
         "Cela se dit \"payer cash\", payé tout de suite, quoi. Et l'argent sur le pieu. Parce qu'autrefois, quand on allait à la foire avec un cheval ou une vache, les gens, les cantoniers municipaux nous plantaient des pieux, quoi. Ils mettaient des pieux et on attachait le cheval ou... ainsi, on comptait l'argent sur le pieu puisqu'il n'y avait aucune table. Oui, on comptait sur le pieu... qui servait à attacher le cheval ou la vache. C'est sur ce pieu-là dont ta tête était plate qu'on comptait les sous par-dessus... quand on achetait une vache.",
         "29239"
        ],
        [
         "877",
         "Kerzh d'azezañ war-c'horre ma gwele !",
         "Vas t'asseoir sur mon lit !",
         "29032"
        ],
        [
         "263",
         "Ya, ar c'hezeg, ma vagec'h anezho mat, ar re-se a gerzhe mat.",
         "Ya, ar c'hezeg, ma vagec'h anezho mat, ar re-se a gerzhe mat.",
         "22181"
        ],
        [
         "3206",
         "Pa gontoc'h an istor-se d'hoc'h eontr, eñ ne gredo ket ac'hanoc'h anezhañ.",
         "Quand vous raconterez cette histoire à votre oncle, il ne vous croira pas.",
         "29168"
        ],
        [
         "319",
         "E c'hoar zo demezet gant unan deus Plaeraneg.",
         "Sa soeur est mariée avec quelqu'un de Ploubazlanec.",
         "22230"
        ],
        [
         "3768",
         "Ar paotrig bihan a oa e noazh.",
         "Le petit garçon était nu.",
         "29230"
        ],
        [
         "3439",
         "An dra-se n'em eus ket gwelet, eu, n'em eus ken klevet va mamm-gozh, eu, o rentañ din, eu, penaos e raent, kwa. Peogwir va mamm-gozh a oa diouzh Kerured hag e teue, eu... hag e veze aze gant, eu... peogwir e oa ur gazeg... peogwir e oa un... un... ur stal vihan ivez, e oa ur gazeg er gêr, setu e teue ivez, eu... hi ha neuze ar... ar re a-raok hi, eu, he zad, donc, da... beñ, d'ober ar bezhin. An dra-se, eu, a zikoure anezho ivez da gaout un tammig moneiz.",
         "An dra-se n'em eus ket gwelet, eu, n'em eus ken klevet va mamm-gozh, eu, o rentañ din, eu, penaos e raent, kwa. Peogwir va mamm-gozh a oa diouzh Kerured hag e teue, eu... hag e veze aze gant, eu... peogwir e oa ur gazeg... peogwir e oa un... un... ur stal vihan ivez, e oa ur gazeg er gêr, setu e teue ivez, eu... hi ha neuze ar... ar re a-raok hi, eu, he zad, donc, da... beñ, d'ober ar bezhin. An dra-se, eu, a zikoure anezho ivez da gaout un tammig moneiz.",
         "29168"
        ],
        [
         "5774",
         "Ar bedervet deus ar merc'hed... ar bedervet deus ar merc'hed.",
         "La quatrième des filles... la quatrième des filles.",
         "29293"
        ],
        [
         "1511",
         "Me... me a wel anezhe... petra int bremañ. Ha te... te a bouez warne, paf ! Te a dorr anezhe... bremañ... mes peseurt anv o deus, n'ouzon ket par exemple... mes ra... ni, ni a lavare bezhin kloc'hek oute : \"Kerzhit da gla-... kerzhit da... en em amuz-... d'ober jeu, ne vez ket lavaret en em amuz, kerzhit d'ober jeu gant bezhin kloc'hek du-se ! Petra emaoc'h oc'h ober aze, o lakaat ar bezhin kloc'hek da strakal ?\" Memes a-benn e oa... zo... zo heol mat, int... te a glev paf ! paf ! e vez... int... te a glev... te a glev... te a glev anezhe o tigeriñ.",
         "Me... me a wel anezhe... petra int bremañ. Ha te... te a bouez warne, paf ! Te a dorr anezhe... bremañ... mes peseurt anv o deus, n'ouzon ket par exemple... mes ra... ni, ni a lavare bezhin kloc'hek oute : \"Kerzhit da gla-... kerzhit da... en em amuz-... d'ober jeu, ne vez ket lavaret en em amuz, kerzhit d'ober jeu gant bezhin kloc'hek du-se ! Petra emaoc'h oc'h ober aze, o lakaat ar bezhin kloc'hek da strakal ?\" Memes a-benn e oa... zo... zo heol mat, int... te a glev paf ! paf ! e vez... int... te a glev... te a glev... te a glev anezhe o tigeriñ.",
         "29150"
        ],
        [
         "5484",
         "Mes pas peogwir te a dro anezhañ diouzhin atav !",
         "Mes pas peogwir te a dro anezhañ diouzhin atav !",
         "29293"
        ],
        [
         "3107",
         "Yann a oa azezet tost dezhañ.",
         "Yann était assis près de lui.",
         "29168"
        ],
        [
         "2543",
         "un alc'houez",
         "une clef",
         "29154"
        ],
        [
         "4100",
         "Bemnoz, ni hor boa naon.",
         "Tous les soirs, nous avions faim.",
         "29230"
        ],
        [
         "230",
         "Hi a end-eeune he zraoù e-barzh en he sakoch.",
         "Elle rangeait ses affaires dans son sac.",
         "22167"
        ]
       ],
       "shape": {
        "columns": 3,
        "rows": 200
       }
      },
      "text/html": [
       "<div>\n",
       "<style scoped>\n",
       "    .dataframe tbody tr th:only-of-type {\n",
       "        vertical-align: middle;\n",
       "    }\n",
       "\n",
       "    .dataframe tbody tr th {\n",
       "        vertical-align: top;\n",
       "    }\n",
       "\n",
       "    .dataframe thead th {\n",
       "        text-align: right;\n",
       "    }\n",
       "</style>\n",
       "<table border=\"1\" class=\"dataframe\">\n",
       "  <thead>\n",
       "    <tr style=\"text-align: right;\">\n",
       "      <th></th>\n",
       "      <th>br</th>\n",
       "      <th>fr</th>\n",
       "      <th>city</th>\n",
       "    </tr>\n",
       "  </thead>\n",
       "  <tbody>\n",
       "    <tr>\n",
       "      <th>1057</th>\n",
       "      <td>ur c'harzh</td>\n",
       "      <td>une haie</td>\n",
       "      <td>29032</td>\n",
       "    </tr>\n",
       "    <tr>\n",
       "      <th>2654</th>\n",
       "      <td>Mari zo deuet a-benn enno antronoz.</td>\n",
       "      <td>Marie est venue vers eux le lendemain.</td>\n",
       "      <td>29168</td>\n",
       "    </tr>\n",
       "    <tr>\n",
       "      <th>4401</th>\n",
       "      <td>An amzer gwechall, ne oa... ne oa ket, eu... n...</td>\n",
       "      <td>Autrefois, c'était... c'était, euh... ça n'éta...</td>\n",
       "      <td>29230</td>\n",
       "    </tr>\n",
       "    <tr>\n",
       "      <th>5843</th>\n",
       "      <td>Piv zo bet o troc'hiñ ar wezenn ?</td>\n",
       "      <td>Qui a coupé l'arbre ?</td>\n",
       "      <td>29293</td>\n",
       "    </tr>\n",
       "    <tr>\n",
       "      <th>7177</th>\n",
       "      <td>Pa oufemp ar wirionez, n'he lavarfemp ket.</td>\n",
       "      <td>Si nous savions la vérité, nous ne la dirions ...</td>\n",
       "      <td>56175</td>\n",
       "    </tr>\n",
       "    <tr>\n",
       "      <th>...</th>\n",
       "      <td>...</td>\n",
       "      <td>...</td>\n",
       "      <td>...</td>\n",
       "    </tr>\n",
       "    <tr>\n",
       "      <th>2925</th>\n",
       "      <td>War an hent am eus gwelet div vaouez.</td>\n",
       "      <td>Sur le chemin, j'ai vu deux femmes.</td>\n",
       "      <td>29168</td>\n",
       "    </tr>\n",
       "    <tr>\n",
       "      <th>2251</th>\n",
       "      <td>Mes pegiz e ra ar re zo e-barzh... e-kostez......</td>\n",
       "      <td>Mes pegiz e ra ar re zo e-barzh... e-kostez......</td>\n",
       "      <td>29150</td>\n",
       "    </tr>\n",
       "    <tr>\n",
       "      <th>5777</th>\n",
       "      <td>Ar bedervet deus e verc'hed zo aet da chom da ...</td>\n",
       "      <td>La quatrième de ses filles est allée habiter à...</td>\n",
       "      <td>29293</td>\n",
       "    </tr>\n",
       "    <tr>\n",
       "      <th>6815</th>\n",
       "      <td>Kerzhet a ra ? Eñ... eñ a respont ? O, me a we...</td>\n",
       "      <td>Il fonctionne (ton appareil) ? Il... il répond...</td>\n",
       "      <td>56094</td>\n",
       "    </tr>\n",
       "    <tr>\n",
       "      <th>6453</th>\n",
       "      <td>E brad-eñ ha, ne oa ket da zen mod arall nemet...</td>\n",
       "      <td>C'était son pré à lui et, il n'appartenait à p...</td>\n",
       "      <td>56089</td>\n",
       "    </tr>\n",
       "  </tbody>\n",
       "</table>\n",
       "<p>200 rows × 3 columns</p>\n",
       "</div>"
      ],
      "text/plain": [
       "                                                     br  \\\n",
       "1057                                         ur c'harzh   \n",
       "2654                Mari zo deuet a-benn enno antronoz.   \n",
       "4401  An amzer gwechall, ne oa... ne oa ket, eu... n...   \n",
       "5843                  Piv zo bet o troc'hiñ ar wezenn ?   \n",
       "7177         Pa oufemp ar wirionez, n'he lavarfemp ket.   \n",
       "...                                                 ...   \n",
       "2925              War an hent am eus gwelet div vaouez.   \n",
       "2251  Mes pegiz e ra ar re zo e-barzh... e-kostez......   \n",
       "5777  Ar bedervet deus e verc'hed zo aet da chom da ...   \n",
       "6815  Kerzhet a ra ? Eñ... eñ a respont ? O, me a we...   \n",
       "6453  E brad-eñ ha, ne oa ket da zen mod arall nemet...   \n",
       "\n",
       "                                                     fr   city  \n",
       "1057                                           une haie  29032  \n",
       "2654             Marie est venue vers eux le lendemain.  29168  \n",
       "4401  Autrefois, c'était... c'était, euh... ça n'éta...  29230  \n",
       "5843                              Qui a coupé l'arbre ?  29293  \n",
       "7177  Si nous savions la vérité, nous ne la dirions ...  56175  \n",
       "...                                                 ...    ...  \n",
       "2925                Sur le chemin, j'ai vu deux femmes.  29168  \n",
       "2251  Mes pegiz e ra ar re zo e-barzh... e-kostez......  29150  \n",
       "5777  La quatrième de ses filles est allée habiter à...  29293  \n",
       "6815  Il fonctionne (ton appareil) ? Il... il répond...  56094  \n",
       "6453  C'était son pré à lui et, il n'appartenait à p...  56089  \n",
       "\n",
       "[200 rows x 3 columns]"
      ]
     },
     "execution_count": 11,
     "metadata": {},
     "output_type": "execute_result"
    }
   ],
   "source": [
    "small_df = df.sample(n=200, random_state=42)  # random_state makes it reproducible\n",
    "small_df"
   ]
  },
  {
   "cell_type": "code",
   "execution_count": 12,
   "id": "0e2d9326",
   "metadata": {},
   "outputs": [
    {
     "name": "stdout",
     "output_type": "stream",
     "text": [
      "Transcribing /home/ouassim/Desktop/ss/stage/Data/Banque sonore des Dialectes Bretonnes/Audio/Audio/utt_01057.wav...\n"
     ]
    },
    {
     "name": "stderr",
     "output_type": "stream",
     "text": [
      "/home/ouassim/anaconda3/envs/stt-breton/lib/python3.10/site-packages/whisper/transcribe.py:126: UserWarning: FP16 is not supported on CPU; using FP32 instead\n",
      "  warnings.warn(\"FP16 is not supported on CPU; using FP32 instead\")\n"
     ]
    },
    {
     "name": "stdout",
     "output_type": "stream",
     "text": [
      "[00:00.000 --> 00:01.720]  sus\n",
      "Transcribing /home/ouassim/Desktop/ss/stage/Data/Banque sonore des Dialectes Bretonnes/Audio/Audio/utt_02654.wav...\n"
     ]
    },
    {
     "name": "stderr",
     "output_type": "stream",
     "text": [
      "/home/ouassim/anaconda3/envs/stt-breton/lib/python3.10/site-packages/whisper/transcribe.py:126: UserWarning: FP16 is not supported on CPU; using FP32 instead\n",
      "  warnings.warn(\"FP16 is not supported on CPU; using FP32 instead\")\n"
     ]
    },
    {
     "name": "stdout",
     "output_type": "stream",
     "text": [
      "[00:00.000 --> 00:02.880]  Mori, as you do, benenne internus\n",
      "Transcribing /home/ouassim/Desktop/ss/stage/Data/Banque sonore des Dialectes Bretonnes/Audio/Audio/utt_04401.wav...\n"
     ]
    },
    {
     "name": "stderr",
     "output_type": "stream",
     "text": [
      "/home/ouassim/anaconda3/envs/stt-breton/lib/python3.10/site-packages/whisper/transcribe.py:126: UserWarning: FP16 is not supported on CPU; using FP32 instead\n",
      "  warnings.warn(\"FP16 is not supported on CPU; using FP32 instead\")\n"
     ]
    },
    {
     "name": "stdout",
     "output_type": "stream",
     "text": [
      "[00:00.440 --> 00:01.360]  Non-bsordre deixal\n",
      "[00:01.440 --> 00:03.680]  Wo That what are you\n",
      "[00:04.760 --> 00:05.840]  Many must mould\n",
      "Transcribing /home/ouassim/Desktop/ss/stage/Data/Banque sonore des Dialectes Bretonnes/Audio/Audio/utt_05843.wav...\n"
     ]
    },
    {
     "name": "stderr",
     "output_type": "stream",
     "text": [
      "/home/ouassim/anaconda3/envs/stt-breton/lib/python3.10/site-packages/whisper/transcribe.py:126: UserWarning: FP16 is not supported on CPU; using FP32 instead\n",
      "  warnings.warn(\"FP16 is not supported on CPU; using FP32 instead\")\n"
     ]
    },
    {
     "name": "stdout",
     "output_type": "stream",
     "text": [
      "[00:00.000 --> 00:03.480] 拚蜆 refers to a good prize but nevertheless this card shows up here.\n",
      "Transcribing /home/ouassim/Desktop/ss/stage/Data/Banque sonore des Dialectes Bretonnes/Audio/Audio/utt_07177.wav...\n"
     ]
    },
    {
     "name": "stderr",
     "output_type": "stream",
     "text": [
      "/home/ouassim/anaconda3/envs/stt-breton/lib/python3.10/site-packages/whisper/transcribe.py:126: UserWarning: FP16 is not supported on CPU; using FP32 instead\n",
      "  warnings.warn(\"FP16 is not supported on CPU; using FP32 instead\")\n"
     ]
    },
    {
     "name": "stdout",
     "output_type": "stream",
     "text": [
      "[00:00.000 --> 00:03.200]  Apugu, yang, arwer, yoni, nilar, emce!\n",
      "Transcribing /home/ouassim/Desktop/ss/stage/Data/Banque sonore des Dialectes Bretonnes/Audio/Audio/utt_03805.wav...\n"
     ]
    },
    {
     "name": "stderr",
     "output_type": "stream",
     "text": [
      "/home/ouassim/anaconda3/envs/stt-breton/lib/python3.10/site-packages/whisper/transcribe.py:126: UserWarning: FP16 is not supported on CPU; using FP32 instead\n",
      "  warnings.warn(\"FP16 is not supported on CPU; using FP32 instead\")\n"
     ]
    },
    {
     "name": "stdout",
     "output_type": "stream",
     "text": [
      "[00:00.000 --> 00:02.980]  hetens chhoentu mein beviuach\n",
      "Transcribing /home/ouassim/Desktop/ss/stage/Data/Banque sonore des Dialectes Bretonnes/Audio/Audio/utt_03961.wav...\n"
     ]
    },
    {
     "name": "stderr",
     "output_type": "stream",
     "text": [
      "/home/ouassim/anaconda3/envs/stt-breton/lib/python3.10/site-packages/whisper/transcribe.py:126: UserWarning: FP16 is not supported on CPU; using FP32 instead\n",
      "  warnings.warn(\"FP16 is not supported on CPU; using FP32 instead\")\n"
     ]
    },
    {
     "name": "stdout",
     "output_type": "stream",
     "text": [
      "[00:00.000 --> 00:02.600]  Bennet Jay or forty times,\n",
      "Transcribing /home/ouassim/Desktop/ss/stage/Data/Banque sonore des Dialectes Bretonnes/Audio/Audio/utt_06147.wav...\n"
     ]
    },
    {
     "name": "stderr",
     "output_type": "stream",
     "text": [
      "/home/ouassim/anaconda3/envs/stt-breton/lib/python3.10/site-packages/whisper/transcribe.py:126: UserWarning: FP16 is not supported on CPU; using FP32 instead\n",
      "  warnings.warn(\"FP16 is not supported on CPU; using FP32 instead\")\n"
     ]
    },
    {
     "name": "stdout",
     "output_type": "stream",
     "text": [
      "[00:00.000 --> 00:03.640]  Now, so better do a fit and ready, they were proud.\n",
      "Transcribing /home/ouassim/Desktop/ss/stage/Data/Banque sonore des Dialectes Bretonnes/Audio/Audio/utt_03551.wav...\n"
     ]
    },
    {
     "name": "stderr",
     "output_type": "stream",
     "text": [
      "/home/ouassim/anaconda3/envs/stt-breton/lib/python3.10/site-packages/whisper/transcribe.py:126: UserWarning: FP16 is not supported on CPU; using FP32 instead\n",
      "  warnings.warn(\"FP16 is not supported on CPU; using FP32 instead\")\n"
     ]
    },
    {
     "name": "stdout",
     "output_type": "stream",
     "text": [
      "[00:00.000 --> 00:04.760]  Age xiúm Deafanwin de hal stitch\n",
      "Transcribing /home/ouassim/Desktop/ss/stage/Data/Banque sonore des Dialectes Bretonnes/Audio/Audio/utt_02413.wav...\n"
     ]
    },
    {
     "name": "stderr",
     "output_type": "stream",
     "text": [
      "/home/ouassim/anaconda3/envs/stt-breton/lib/python3.10/site-packages/whisper/transcribe.py:126: UserWarning: FP16 is not supported on CPU; using FP32 instead\n",
      "  warnings.warn(\"FP16 is not supported on CPU; using FP32 instead\")\n"
     ]
    },
    {
     "name": "stdout",
     "output_type": "stream",
     "text": [
      "[00:00.000 --> 00:00.980]  G safeguard\n",
      "Transcribing /home/ouassim/Desktop/ss/stage/Data/Banque sonore des Dialectes Bretonnes/Audio/Audio/utt_00185.wav...\n"
     ]
    },
    {
     "name": "stderr",
     "output_type": "stream",
     "text": [
      "/home/ouassim/anaconda3/envs/stt-breton/lib/python3.10/site-packages/whisper/transcribe.py:126: UserWarning: FP16 is not supported on CPU; using FP32 instead\n",
      "  warnings.warn(\"FP16 is not supported on CPU; using FP32 instead\")\n"
     ]
    },
    {
     "name": "stdout",
     "output_type": "stream",
     "text": [
      "[00:00.000 --> 00:04.240]  TV x YÄC past\n",
      "Transcribing /home/ouassim/Desktop/ss/stage/Data/Banque sonore des Dialectes Bretonnes/Audio/Audio/utt_01221.wav...\n"
     ]
    },
    {
     "name": "stderr",
     "output_type": "stream",
     "text": [
      "/home/ouassim/anaconda3/envs/stt-breton/lib/python3.10/site-packages/whisper/transcribe.py:126: UserWarning: FP16 is not supported on CPU; using FP32 instead\n",
      "  warnings.warn(\"FP16 is not supported on CPU; using FP32 instead\")\n"
     ]
    },
    {
     "name": "stdout",
     "output_type": "stream",
     "text": [
      "[00:00.000 --> 00:04.100]  Akleska was big club sortir\n",
      "[00:04.100 --> 00:06.060]  Braunermetondwyman\n",
      "[00:06.060 --> 00:23.480]  this\n",
      "Transcribing /home/ouassim/Desktop/ss/stage/Data/Banque sonore des Dialectes Bretonnes/Audio/Audio/utt_00061.wav...\n"
     ]
    },
    {
     "name": "stderr",
     "output_type": "stream",
     "text": [
      "/home/ouassim/anaconda3/envs/stt-breton/lib/python3.10/site-packages/whisper/transcribe.py:126: UserWarning: FP16 is not supported on CPU; using FP32 instead\n",
      "  warnings.warn(\"FP16 is not supported on CPU; using FP32 instead\")\n"
     ]
    },
    {
     "name": "stdout",
     "output_type": "stream",
     "text": [
      "[00:00.000 --> 00:02.980]  y d 這個 horizon\n",
      "[00:02.980 --> 00:13.780] ydd\n",
      "Transcribing /home/ouassim/Desktop/ss/stage/Data/Banque sonore des Dialectes Bretonnes/Audio/Audio/utt_02328.wav...\n"
     ]
    },
    {
     "name": "stderr",
     "output_type": "stream",
     "text": [
      "/home/ouassim/anaconda3/envs/stt-breton/lib/python3.10/site-packages/whisper/transcribe.py:126: UserWarning: FP16 is not supported on CPU; using FP32 instead\n",
      "  warnings.warn(\"FP16 is not supported on CPU; using FP32 instead\")\n"
     ]
    },
    {
     "name": "stdout",
     "output_type": "stream",
     "text": [
      "[00:00.000 --> 00:03.000]  You always have enough time to saveㅋㅋㅋ\n",
      "Transcribing /home/ouassim/Desktop/ss/stage/Data/Banque sonore des Dialectes Bretonnes/Audio/Audio/utt_06524.wav...\n"
     ]
    },
    {
     "name": "stderr",
     "output_type": "stream",
     "text": [
      "/home/ouassim/anaconda3/envs/stt-breton/lib/python3.10/site-packages/whisper/transcribe.py:126: UserWarning: FP16 is not supported on CPU; using FP32 instead\n",
      "  warnings.warn(\"FP16 is not supported on CPU; using FP32 instead\")\n"
     ]
    },
    {
     "name": "stdout",
     "output_type": "stream",
     "text": [
      "[00:00.000 --> 00:01.040]  Mahlare, buu effuinlare ba,\n",
      "[00:01.040 --> 00:03.260]  ma bau l nir razónəぞ\n",
      "[00:03.260 --> 00:05.300]  aus löeff challmance\n",
      "[00:05.320 --> 00:06.360]  欄ɾæce\n",
      "Transcribing /home/ouassim/Desktop/ss/stage/Data/Banque sonore des Dialectes Bretonnes/Audio/Audio/utt_06082.wav...\n"
     ]
    },
    {
     "name": "stderr",
     "output_type": "stream",
     "text": [
      "/home/ouassim/anaconda3/envs/stt-breton/lib/python3.10/site-packages/whisper/transcribe.py:126: UserWarning: FP16 is not supported on CPU; using FP32 instead\n",
      "  warnings.warn(\"FP16 is not supported on CPU; using FP32 instead\")\n"
     ]
    },
    {
     "name": "stdout",
     "output_type": "stream",
     "text": [
      "[00:00.000 --> 00:12.000]  I dont know tha\n",
      "[00:12.000 --> 00:17.080]  venjun funcion,\n",
      "[00:17.080 --> 00:19.400]  evel\n",
      "[00:19.400 --> 00:23.680]  breath\n",
      "[00:23.680 --> 00:29.640]  mis\n",
      "[00:29.640 --> 00:34.040]  tore data mar糊花\n",
      "[00:35.500 --> 00:39.200]  Albert\n",
      "[00:39.200 --> 00:40.000]  son\n",
      "[00:40.000 --> 00:43.860]  a\n",
      "[00:43.860 --> 00:50.220]  pt\n",
      "[00:50.220 --> 00:53.120]  m\n",
      "Transcribing /home/ouassim/Desktop/ss/stage/Data/Banque sonore des Dialectes Bretonnes/Audio/Audio/utt_03934.wav...\n"
     ]
    },
    {
     "name": "stderr",
     "output_type": "stream",
     "text": [
      "/home/ouassim/anaconda3/envs/stt-breton/lib/python3.10/site-packages/whisper/transcribe.py:126: UserWarning: FP16 is not supported on CPU; using FP32 instead\n",
      "  warnings.warn(\"FP16 is not supported on CPU; using FP32 instead\")\n"
     ]
    },
    {
     "name": "stdout",
     "output_type": "stream",
     "text": [
      "[00:00.000 --> 00:03.840]  Me breurs se gana tribla aulaire.\n",
      "Transcribing /home/ouassim/Desktop/ss/stage/Data/Banque sonore des Dialectes Bretonnes/Audio/Audio/utt_04128.wav...\n"
     ]
    },
    {
     "name": "stderr",
     "output_type": "stream",
     "text": [
      "/home/ouassim/anaconda3/envs/stt-breton/lib/python3.10/site-packages/whisper/transcribe.py:126: UserWarning: FP16 is not supported on CPU; using FP32 instead\n",
      "  warnings.warn(\"FP16 is not supported on CPU; using FP32 instead\")\n"
     ]
    },
    {
     "name": "stdout",
     "output_type": "stream",
     "text": [
      "[00:00.000 --> 00:03.180]  Nam 사랑i 아�wЁ\n",
      "[00:03.180 --> 00:04.720]  Sh알\n",
      "Transcribing /home/ouassim/Desktop/ss/stage/Data/Banque sonore des Dialectes Bretonnes/Audio/Audio/utt_02344.wav...\n"
     ]
    },
    {
     "name": "stderr",
     "output_type": "stream",
     "text": [
      "/home/ouassim/anaconda3/envs/stt-breton/lib/python3.10/site-packages/whisper/transcribe.py:126: UserWarning: FP16 is not supported on CPU; using FP32 instead\n",
      "  warnings.warn(\"FP16 is not supported on CPU; using FP32 instead\")\n"
     ]
    },
    {
     "name": "stdout",
     "output_type": "stream",
     "text": [
      "[00:00.000 --> 00:03.120]  Emin ngs ont ur tree.\n",
      "[00:07.400 --> 00:10.780]  Coalес\n",
      "[00:13.320 --> 00:14.980] ough\n",
      "[00:18.040 --> 00:20.840]  t\n",
      "[00:20.840 --> 00:22.860]  Pr tsp,\n",
      "[00:22.880 --> 00:24.100]  Pr tsp,\n",
      "[00:24.140 --> 00:24.780]  Pr tsp\n",
      "[00:24.780 --> 00:27.780]  Pr ch sur\n",
      "[00:27.800 --> 00:29.020]  Pr ch sur\n",
      "[00:29.060 --> 00:31.020]  Pr ch sur\n",
      "[00:31.040 --> 00:32.500]  Pr ch sur\n",
      "[00:32.540 --> 00:34.000]  Pr ch sur\n",
      "[00:34.020 --> 00:34.680]  Pr ch sur\n",
      "[00:34.720 --> 00:36.980]  Pr ch sur\n",
      "[00:37.020 --> 00:38.980]  Pr ch sur\n",
      "[00:39.020 --> 00:41.020]  Pr ch sur\n",
      "[00:41.060 --> 00:42.180]  Pr ch sur\n",
      "[00:42.260 --> 00:43.980]  Pr ch sur\n",
      "[00:44.020 --> 00:46.100]  Pr ch sur\n",
      "[00:46.100 --> 00:46.900]  Pr ch sur\n",
      "[00:46.920 --> 00:48.880]  Pr ch sur\n",
      "[00:48.920 --> 00:49.680]  Pr ch sur\n",
      "[01:19.680 --> 01:25.260]  tardu\n",
      "[01:25.260 --> 01:29.440]  an\n",
      "[01:29.440 --> 01:36.420]  wonderful\n",
      "[01:36.420 --> 01:40.420]  Because we can't zoom in, that would really do us our lesson.\n",
      "[01:40.420 --> 01:42.420]  Ah, that's it.\n",
      "[01:42.420 --> 01:43.420]  That's it.\n",
      "[01:43.420 --> 01:44.420]  That's it.\n",
      "[01:44.420 --> 01:45.420]  I did it.\n",
      "[01:45.420 --> 01:46.420]  Yeah?\n",
      "Transcribing /home/ouassim/Desktop/ss/stage/Data/Banque sonore des Dialectes Bretonnes/Audio/Audio/utt_06771.wav...\n"
     ]
    },
    {
     "name": "stderr",
     "output_type": "stream",
     "text": [
      "/home/ouassim/anaconda3/envs/stt-breton/lib/python3.10/site-packages/whisper/transcribe.py:126: UserWarning: FP16 is not supported on CPU; using FP32 instead\n",
      "  warnings.warn(\"FP16 is not supported on CPU; using FP32 instead\")\n"
     ]
    },
    {
     "name": "stdout",
     "output_type": "stream",
     "text": [
      "[00:00.000 --> 00:02.180]  Tridden profiles ...\n",
      "[00:02.340 --> 00:05.700]  Now we will see thelate as shorthand\n",
      "[00:05.940 --> 00:07.680]  65-65...\n",
      "Transcribing /home/ouassim/Desktop/ss/stage/Data/Banque sonore des Dialectes Bretonnes/Audio/Audio/utt_04539.wav...\n"
     ]
    },
    {
     "name": "stderr",
     "output_type": "stream",
     "text": [
      "/home/ouassim/anaconda3/envs/stt-breton/lib/python3.10/site-packages/whisper/transcribe.py:126: UserWarning: FP16 is not supported on CPU; using FP32 instead\n",
      "  warnings.warn(\"FP16 is not supported on CPU; using FP32 instead\")\n"
     ]
    },
    {
     "name": "stdout",
     "output_type": "stream",
     "text": [
      "[00:00.000 --> 00:05.920] 不一樣練習\n",
      "Transcribing /home/ouassim/Desktop/ss/stage/Data/Banque sonore des Dialectes Bretonnes/Audio/Audio/utt_00544.wav...\n"
     ]
    },
    {
     "name": "stderr",
     "output_type": "stream",
     "text": [
      "/home/ouassim/anaconda3/envs/stt-breton/lib/python3.10/site-packages/whisper/transcribe.py:126: UserWarning: FP16 is not supported on CPU; using FP32 instead\n",
      "  warnings.warn(\"FP16 is not supported on CPU; using FP32 instead\")\n"
     ]
    },
    {
     "name": "stdout",
     "output_type": "stream",
     "text": [
      "[00:00.000 --> 00:01.980]  Leverion mens activity\n",
      "[00:02.100 --> 00:03.460] ppy-madeh threaten\n",
      "Transcribing /home/ouassim/Desktop/ss/stage/Data/Banque sonore des Dialectes Bretonnes/Audio/Audio/utt_03647.wav...\n"
     ]
    },
    {
     "name": "stderr",
     "output_type": "stream",
     "text": [
      "/home/ouassim/anaconda3/envs/stt-breton/lib/python3.10/site-packages/whisper/transcribe.py:126: UserWarning: FP16 is not supported on CPU; using FP32 instead\n",
      "  warnings.warn(\"FP16 is not supported on CPU; using FP32 instead\")\n"
     ]
    },
    {
     "name": "stdout",
     "output_type": "stream",
     "text": [
      "[00:00.000 --> 00:02.080]  Bal, quail !\n",
      "Transcribing /home/ouassim/Desktop/ss/stage/Data/Banque sonore des Dialectes Bretonnes/Audio/Audio/utt_01670.wav...\n"
     ]
    },
    {
     "name": "stderr",
     "output_type": "stream",
     "text": [
      "/home/ouassim/anaconda3/envs/stt-breton/lib/python3.10/site-packages/whisper/transcribe.py:126: UserWarning: FP16 is not supported on CPU; using FP32 instead\n",
      "  warnings.warn(\"FP16 is not supported on CPU; using FP32 instead\")\n"
     ]
    },
    {
     "name": "stdout",
     "output_type": "stream",
     "text": [
      "[00:00.000 --> 00:29.260]  como si es que es 可以 bien visa\n",
      "Transcribing /home/ouassim/Desktop/ss/stage/Data/Banque sonore des Dialectes Bretonnes/Audio/Audio/utt_01465.wav...\n"
     ]
    },
    {
     "name": "stderr",
     "output_type": "stream",
     "text": [
      "/home/ouassim/anaconda3/envs/stt-breton/lib/python3.10/site-packages/whisper/transcribe.py:126: UserWarning: FP16 is not supported on CPU; using FP32 instead\n",
      "  warnings.warn(\"FP16 is not supported on CPU; using FP32 instead\")\n"
     ]
    },
    {
     "name": "stdout",
     "output_type": "stream",
     "text": [
      "[00:00.000 --> 00:06.300]  ahhah Oberonn\n",
      "Transcribing /home/ouassim/Desktop/ss/stage/Data/Banque sonore des Dialectes Bretonnes/Audio/Audio/utt_03463.wav...\n"
     ]
    },
    {
     "name": "stderr",
     "output_type": "stream",
     "text": [
      "/home/ouassim/anaconda3/envs/stt-breton/lib/python3.10/site-packages/whisper/transcribe.py:126: UserWarning: FP16 is not supported on CPU; using FP32 instead\n",
      "  warnings.warn(\"FP16 is not supported on CPU; using FP32 instead\")\n"
     ]
    },
    {
     "name": "stdout",
     "output_type": "stream",
     "text": [
      "[00:00.000 --> 00:03.000]  ndo hufaayu\n",
      "[00:04.000 --> 00:07.000]  ndo hufaayu\n",
      "[00:07.000 --> 00:09.000]  ndo hufaayu\n",
      "Transcribing /home/ouassim/Desktop/ss/stage/Data/Banque sonore des Dialectes Bretonnes/Audio/Audio/utt_02778.wav...\n"
     ]
    },
    {
     "name": "stderr",
     "output_type": "stream",
     "text": [
      "/home/ouassim/anaconda3/envs/stt-breton/lib/python3.10/site-packages/whisper/transcribe.py:126: UserWarning: FP16 is not supported on CPU; using FP32 instead\n",
      "  warnings.warn(\"FP16 is not supported on CPU; using FP32 instead\")\n"
     ]
    },
    {
     "name": "stdout",
     "output_type": "stream",
     "text": [
      "[00:00.000 --> 00:14.860]  panned naval Johitzko JavaScript\n",
      "Transcribing /home/ouassim/Desktop/ss/stage/Data/Banque sonore des Dialectes Bretonnes/Audio/Audio/utt_02492.wav...\n"
     ]
    },
    {
     "name": "stderr",
     "output_type": "stream",
     "text": [
      "/home/ouassim/anaconda3/envs/stt-breton/lib/python3.10/site-packages/whisper/transcribe.py:126: UserWarning: FP16 is not supported on CPU; using FP32 instead\n",
      "  warnings.warn(\"FP16 is not supported on CPU; using FP32 instead\")\n"
     ]
    },
    {
     "name": "stdout",
     "output_type": "stream",
     "text": [
      "[00:00.000 --> 00:17.680] 想事, mors,\n",
      "Transcribing /home/ouassim/Desktop/ss/stage/Data/Banque sonore des Dialectes Bretonnes/Audio/Audio/utt_06966.wav...\n"
     ]
    },
    {
     "name": "stderr",
     "output_type": "stream",
     "text": [
      "/home/ouassim/anaconda3/envs/stt-breton/lib/python3.10/site-packages/whisper/transcribe.py:126: UserWarning: FP16 is not supported on CPU; using FP32 instead\n",
      "  warnings.warn(\"FP16 is not supported on CPU; using FP32 instead\")\n"
     ]
    },
    {
     "name": "stdout",
     "output_type": "stream",
     "text": [
      "[00:00.000 --> 00:02.080]  Chey구요, nosures cheyve dots bar Eliac...\n",
      "[00:02.440 --> 00:04.760]  Falam jí着 ped挨 lenamioti.\n",
      "Transcribing /home/ouassim/Desktop/ss/stage/Data/Banque sonore des Dialectes Bretonnes/Audio/Audio/utt_04666.wav...\n"
     ]
    },
    {
     "name": "stderr",
     "output_type": "stream",
     "text": [
      "/home/ouassim/anaconda3/envs/stt-breton/lib/python3.10/site-packages/whisper/transcribe.py:126: UserWarning: FP16 is not supported on CPU; using FP32 instead\n",
      "  warnings.warn(\"FP16 is not supported on CPU; using FP32 instead\")\n"
     ]
    },
    {
     "name": "stdout",
     "output_type": "stream",
     "text": [
      "[00:00.000 --> 00:02.000]  Peu che guret piz malar d'or\n",
      "Transcribing /home/ouassim/Desktop/ss/stage/Data/Banque sonore des Dialectes Bretonnes/Audio/Audio/utt_00994.wav...\n"
     ]
    },
    {
     "name": "stderr",
     "output_type": "stream",
     "text": [
      "/home/ouassim/anaconda3/envs/stt-breton/lib/python3.10/site-packages/whisper/transcribe.py:126: UserWarning: FP16 is not supported on CPU; using FP32 instead\n",
      "  warnings.warn(\"FP16 is not supported on CPU; using FP32 instead\")\n"
     ]
    },
    {
     "name": "stdout",
     "output_type": "stream",
     "text": [
      "[00:00.000 --> 00:02.000]  May I do to and dare, benefit?\n",
      "Transcribing /home/ouassim/Desktop/ss/stage/Data/Banque sonore des Dialectes Bretonnes/Audio/Audio/utt_07118.wav...\n"
     ]
    },
    {
     "name": "stderr",
     "output_type": "stream",
     "text": [
      "/home/ouassim/anaconda3/envs/stt-breton/lib/python3.10/site-packages/whisper/transcribe.py:126: UserWarning: FP16 is not supported on CPU; using FP32 instead\n",
      "  warnings.warn(\"FP16 is not supported on CPU; using FP32 instead\")\n"
     ]
    },
    {
     "name": "stdout",
     "output_type": "stream",
     "text": [
      "[00:00.000 --> 00:02.840]  A Macerlaw address Delhi.\n",
      "Transcribing /home/ouassim/Desktop/ss/stage/Data/Banque sonore des Dialectes Bretonnes/Audio/Audio/utt_04011.wav...\n"
     ]
    },
    {
     "name": "stderr",
     "output_type": "stream",
     "text": [
      "/home/ouassim/anaconda3/envs/stt-breton/lib/python3.10/site-packages/whisper/transcribe.py:126: UserWarning: FP16 is not supported on CPU; using FP32 instead\n",
      "  warnings.warn(\"FP16 is not supported on CPU; using FP32 instead\")\n"
     ]
    },
    {
     "name": "stdout",
     "output_type": "stream",
     "text": [
      "[00:00.000 --> 00:02.890] 第一集集集集集集集集集\n",
      "Transcribing /home/ouassim/Desktop/ss/stage/Data/Banque sonore des Dialectes Bretonnes/Audio/Audio/utt_00177.wav...\n"
     ]
    },
    {
     "name": "stderr",
     "output_type": "stream",
     "text": [
      "/home/ouassim/anaconda3/envs/stt-breton/lib/python3.10/site-packages/whisper/transcribe.py:126: UserWarning: FP16 is not supported on CPU; using FP32 instead\n",
      "  warnings.warn(\"FP16 is not supported on CPU; using FP32 instead\")\n"
     ]
    },
    {
     "name": "stdout",
     "output_type": "stream",
     "text": [
      "[00:00.000 --> 00:04.800]  Kirk and Sarma palan Bil many\n",
      "Transcribing /home/ouassim/Desktop/ss/stage/Data/Banque sonore des Dialectes Bretonnes/Audio/Audio/utt_01737.wav...\n"
     ]
    },
    {
     "name": "stderr",
     "output_type": "stream",
     "text": [
      "/home/ouassim/anaconda3/envs/stt-breton/lib/python3.10/site-packages/whisper/transcribe.py:126: UserWarning: FP16 is not supported on CPU; using FP32 instead\n",
      "  warnings.warn(\"FP16 is not supported on CPU; using FP32 instead\")\n"
     ]
    },
    {
     "name": "stdout",
     "output_type": "stream",
     "text": [
      "[00:00.000 --> 00:01.860]  Krabustiี่\n",
      "Transcribing /home/ouassim/Desktop/ss/stage/Data/Banque sonore des Dialectes Bretonnes/Audio/Audio/utt_01615.wav...\n"
     ]
    },
    {
     "name": "stderr",
     "output_type": "stream",
     "text": [
      "/home/ouassim/anaconda3/envs/stt-breton/lib/python3.10/site-packages/whisper/transcribe.py:126: UserWarning: FP16 is not supported on CPU; using FP32 instead\n",
      "  warnings.warn(\"FP16 is not supported on CPU; using FP32 instead\")\n"
     ]
    },
    {
     "name": "stdout",
     "output_type": "stream",
     "text": [
      "[00:00.000 --> 00:06.000]  что importante你是\n",
      "[00:07.000 --> 00:11.000]  самые宇宙\n",
      "[00:12.000 --> 00:13.960]  primo\n",
      "[00:14.000 --> 00:26.000] mem\n",
      "Transcribing /home/ouassim/Desktop/ss/stage/Data/Banque sonore des Dialectes Bretonnes/Audio/Audio/utt_04700.wav...\n"
     ]
    },
    {
     "name": "stderr",
     "output_type": "stream",
     "text": [
      "/home/ouassim/anaconda3/envs/stt-breton/lib/python3.10/site-packages/whisper/transcribe.py:126: UserWarning: FP16 is not supported on CPU; using FP32 instead\n",
      "  warnings.warn(\"FP16 is not supported on CPU; using FP32 instead\")\n"
     ]
    },
    {
     "name": "stdout",
     "output_type": "stream",
     "text": [
      "[00:00.000 --> 00:11.600]  př Li békenet ar\n",
      "[00:15.380 --> 00:22.200]  mr\n",
      "[00:22.200 --> 00:26.240]  Arthur Hammanete Ankel\n",
      "[00:26.240 --> 00:28.980]  Namter Rayshi recently dying\n",
      "[00:29.340 --> 00:31.820]  connect with the emperor\n",
      "[00:31.820 --> 00:33.040]  in the future\n",
      "[00:33.160 --> 00:35.600]  of the first time\n",
      "Transcribing /home/ouassim/Desktop/ss/stage/Data/Banque sonore des Dialectes Bretonnes/Audio/Audio/utt_00877.wav...\n"
     ]
    },
    {
     "name": "stderr",
     "output_type": "stream",
     "text": [
      "/home/ouassim/anaconda3/envs/stt-breton/lib/python3.10/site-packages/whisper/transcribe.py:126: UserWarning: FP16 is not supported on CPU; using FP32 instead\n",
      "  warnings.warn(\"FP16 is not supported on CPU; using FP32 instead\")\n"
     ]
    },
    {
     "name": "stdout",
     "output_type": "stream",
     "text": [
      "[00:00.000 --> 00:02.900]  and russian Corem Girl\n",
      "Transcribing /home/ouassim/Desktop/ss/stage/Data/Banque sonore des Dialectes Bretonnes/Audio/Audio/utt_00263.wav...\n"
     ]
    },
    {
     "name": "stderr",
     "output_type": "stream",
     "text": [
      "/home/ouassim/anaconda3/envs/stt-breton/lib/python3.10/site-packages/whisper/transcribe.py:126: UserWarning: FP16 is not supported on CPU; using FP32 instead\n",
      "  warnings.warn(\"FP16 is not supported on CPU; using FP32 instead\")\n"
     ]
    },
    {
     "name": "stdout",
     "output_type": "stream",
     "text": [
      "[00:00.000 --> 00:02.480] ə ye ye elloador\n",
      "[00:02.480 --> 00:05.180]  mahthank you\n",
      "Transcribing /home/ouassim/Desktop/ss/stage/Data/Banque sonore des Dialectes Bretonnes/Audio/Audio/utt_03206.wav...\n"
     ]
    },
    {
     "name": "stderr",
     "output_type": "stream",
     "text": [
      "/home/ouassim/anaconda3/envs/stt-breton/lib/python3.10/site-packages/whisper/transcribe.py:126: UserWarning: FP16 is not supported on CPU; using FP32 instead\n",
      "  warnings.warn(\"FP16 is not supported on CPU; using FP32 instead\")\n"
     ]
    },
    {
     "name": "stdout",
     "output_type": "stream",
     "text": [
      "[00:00.000 --> 00:23.480]  Pagontohorre ada ist thôi 보면 ensa\n",
      "Transcribing /home/ouassim/Desktop/ss/stage/Data/Banque sonore des Dialectes Bretonnes/Audio/Audio/utt_00319.wav...\n"
     ]
    },
    {
     "name": "stderr",
     "output_type": "stream",
     "text": [
      "/home/ouassim/anaconda3/envs/stt-breton/lib/python3.10/site-packages/whisper/transcribe.py:126: UserWarning: FP16 is not supported on CPU; using FP32 instead\n",
      "  warnings.warn(\"FP16 is not supported on CPU; using FP32 instead\")\n"
     ]
    },
    {
     "name": "stdout",
     "output_type": "stream",
     "text": [
      "[00:00.000 --> 00:01.700]  . Ê ho, er,З,DI,��,Y niíino !\n",
      "[00:01.900 --> 00:18.920]  . »\n",
      "Transcribing /home/ouassim/Desktop/ss/stage/Data/Banque sonore des Dialectes Bretonnes/Audio/Audio/utt_03768.wav...\n"
     ]
    },
    {
     "name": "stderr",
     "output_type": "stream",
     "text": [
      "/home/ouassim/anaconda3/envs/stt-breton/lib/python3.10/site-packages/whisper/transcribe.py:126: UserWarning: FP16 is not supported on CPU; using FP32 instead\n",
      "  warnings.warn(\"FP16 is not supported on CPU; using FP32 instead\")\n"
     ]
    },
    {
     "name": "stdout",
     "output_type": "stream",
     "text": [
      "[00:00.000 --> 00:02.000]  Put a good one who has\n",
      "Transcribing /home/ouassim/Desktop/ss/stage/Data/Banque sonore des Dialectes Bretonnes/Audio/Audio/utt_03439.wav...\n"
     ]
    },
    {
     "name": "stderr",
     "output_type": "stream",
     "text": [
      "/home/ouassim/anaconda3/envs/stt-breton/lib/python3.10/site-packages/whisper/transcribe.py:126: UserWarning: FP16 is not supported on CPU; using FP32 instead\n",
      "  warnings.warn(\"FP16 is not supported on CPU; using FP32 instead\")\n"
     ]
    },
    {
     "name": "stdout",
     "output_type": "stream",
     "text": [
      "[00:00.000 --> 00:02.440]  Aidaa, miskliqoel, miskliqoel, miskliqoel, miskliqoel,\n",
      "[00:02.440 --> 00:07.440]  klevet, ramangose, erentadeng, penosa renga.\n",
      "[00:07.840 --> 00:17.760]  고양iена, er afecte, edcs,uya, malm wono.\n",
      "[00:31.360 --> 00:33.180]  Aidaa.\n",
      "Transcribing /home/ouassim/Desktop/ss/stage/Data/Banque sonore des Dialectes Bretonnes/Audio/Audio/utt_05774.wav...\n"
     ]
    },
    {
     "name": "stderr",
     "output_type": "stream",
     "text": [
      "/home/ouassim/anaconda3/envs/stt-breton/lib/python3.10/site-packages/whisper/transcribe.py:126: UserWarning: FP16 is not supported on CPU; using FP32 instead\n",
      "  warnings.warn(\"FP16 is not supported on CPU; using FP32 instead\")\n"
     ]
    },
    {
     "name": "stdout",
     "output_type": "stream",
     "text": [
      "[00:00.000 --> 00:02.000]  Bidja da meat\n",
      "[00:02.000 --> 00:04.000]  Bidja da meat\n",
      "Transcribing /home/ouassim/Desktop/ss/stage/Data/Banque sonore des Dialectes Bretonnes/Audio/Audio/utt_01511.wav...\n"
     ]
    },
    {
     "name": "stderr",
     "output_type": "stream",
     "text": [
      "/home/ouassim/anaconda3/envs/stt-breton/lib/python3.10/site-packages/whisper/transcribe.py:126: UserWarning: FP16 is not supported on CPU; using FP32 instead\n",
      "  warnings.warn(\"FP16 is not supported on CPU; using FP32 instead\")\n"
     ]
    },
    {
     "name": "stdout",
     "output_type": "stream",
     "text": [
      "[00:00.000 --> 00:07.440]  Dasan mistakes.\n",
      "[00:09.240 --> 00:14.520]  Heri Bleigingslark Baeek\n",
      "[00:14.520 --> 00:15.280]  Ditrange kaef\n",
      "[00:15.800 --> 00:16.740]  Pak\n",
      "[00:17.880 --> 00:20.320]  Pasta\n",
      "[00:21.660 --> 00:22.900]  Amin\n",
      "[00:23.620 --> 00:25.380]  Phu\n",
      "[00:26.020 --> 00:28.840]  A\n",
      "[00:29.280 --> 00:30.220]  A\n",
      "[00:31.860 --> 00:36.240]  J\n",
      "Transcribing /home/ouassim/Desktop/ss/stage/Data/Banque sonore des Dialectes Bretonnes/Audio/Audio/utt_05484.wav...\n"
     ]
    },
    {
     "name": "stderr",
     "output_type": "stream",
     "text": [
      "/home/ouassim/anaconda3/envs/stt-breton/lib/python3.10/site-packages/whisper/transcribe.py:126: UserWarning: FP16 is not supported on CPU; using FP32 instead\n",
      "  warnings.warn(\"FP16 is not supported on CPU; using FP32 instead\")\n"
     ]
    },
    {
     "name": "stdout",
     "output_type": "stream",
     "text": [
      "[00:00.000 --> 00:02.000]  Öwhithin ....\n",
      "Transcribing /home/ouassim/Desktop/ss/stage/Data/Banque sonore des Dialectes Bretonnes/Audio/Audio/utt_03107.wav...\n"
     ]
    },
    {
     "name": "stderr",
     "output_type": "stream",
     "text": [
      "/home/ouassim/anaconda3/envs/stt-breton/lib/python3.10/site-packages/whisper/transcribe.py:126: UserWarning: FP16 is not supported on CPU; using FP32 instead\n",
      "  warnings.warn(\"FP16 is not supported on CPU; using FP32 instead\")\n"
     ]
    },
    {
     "name": "stdout",
     "output_type": "stream",
     "text": [
      "[00:00.000 --> 00:02.000]  Jan Vasitos dear\n",
      "Transcribing /home/ouassim/Desktop/ss/stage/Data/Banque sonore des Dialectes Bretonnes/Audio/Audio/utt_02543.wav...\n"
     ]
    },
    {
     "name": "stderr",
     "output_type": "stream",
     "text": [
      "/home/ouassim/anaconda3/envs/stt-breton/lib/python3.10/site-packages/whisper/transcribe.py:126: UserWarning: FP16 is not supported on CPU; using FP32 instead\n",
      "  warnings.warn(\"FP16 is not supported on CPU; using FP32 instead\")\n"
     ]
    },
    {
     "name": "stdout",
     "output_type": "stream",
     "text": [
      "[00:00.000 --> 00:01.000]  Nettl\n",
      "Transcribing /home/ouassim/Desktop/ss/stage/Data/Banque sonore des Dialectes Bretonnes/Audio/Audio/utt_04100.wav...\n"
     ]
    },
    {
     "name": "stderr",
     "output_type": "stream",
     "text": [
      "/home/ouassim/anaconda3/envs/stt-breton/lib/python3.10/site-packages/whisper/transcribe.py:126: UserWarning: FP16 is not supported on CPU; using FP32 instead\n",
      "  warnings.warn(\"FP16 is not supported on CPU; using FP32 instead\")\n"
     ]
    },
    {
     "name": "stdout",
     "output_type": "stream",
     "text": [
      "[00:00.000 --> 00:03.080]  Bobnos Jon accessible\n",
      "Transcribing /home/ouassim/Desktop/ss/stage/Data/Banque sonore des Dialectes Bretonnes/Audio/Audio/utt_00230.wav...\n"
     ]
    },
    {
     "name": "stderr",
     "output_type": "stream",
     "text": [
      "/home/ouassim/anaconda3/envs/stt-breton/lib/python3.10/site-packages/whisper/transcribe.py:126: UserWarning: FP16 is not supported on CPU; using FP32 instead\n",
      "  warnings.warn(\"FP16 is not supported on CPU; using FP32 instead\")\n"
     ]
    },
    {
     "name": "stdout",
     "output_type": "stream",
     "text": [
      "[00:00.000 --> 00:00.920] 離矇,鼻,鼻,鼻 bod越,综艾 céler,\n",
      "[00:01.000 --> 00:02.160] 鼻,鼻,鼻,鼻 tamb purs,鼻 baptog Bonzourski.\n",
      "[00:02.800 --> 00:14.780] 鼻鼻鼻 ,鼻鼻 honkoss sou Sébian\n",
      "[00:15.480 --> 00:19.240]  건너鼻鼻鼻鼻鼻鼻鼻 bond\n",
      "[00:24.200 --> 00:26.440] 鼻鼻鼻鼻鼻鼻鼻鼻鼻\n",
      "Transcribing /home/ouassim/Desktop/ss/stage/Data/Banque sonore des Dialectes Bretonnes/Audio/Audio/utt_07199.wav...\n"
     ]
    },
    {
     "name": "stderr",
     "output_type": "stream",
     "text": [
      "/home/ouassim/anaconda3/envs/stt-breton/lib/python3.10/site-packages/whisper/transcribe.py:126: UserWarning: FP16 is not supported on CPU; using FP32 instead\n",
      "  warnings.warn(\"FP16 is not supported on CPU; using FP32 instead\")\n"
     ]
    },
    {
     "name": "stdout",
     "output_type": "stream",
     "text": [
      "[00:00.000 --> 00:05.860]  Nu domain are wearing it\n",
      "Transcribing /home/ouassim/Desktop/ss/stage/Data/Banque sonore des Dialectes Bretonnes/Audio/Audio/utt_04595.wav...\n"
     ]
    },
    {
     "name": "stderr",
     "output_type": "stream",
     "text": [
      "/home/ouassim/anaconda3/envs/stt-breton/lib/python3.10/site-packages/whisper/transcribe.py:126: UserWarning: FP16 is not supported on CPU; using FP32 instead\n",
      "  warnings.warn(\"FP16 is not supported on CPU; using FP32 instead\")\n"
     ]
    },
    {
     "name": "stdout",
     "output_type": "stream",
     "text": [
      "[00:00.160 --> 00:02.940]  Mist someday,子ім...\n",
      "[00:02.960 --> 00:05.060] 子ім...\n",
      "[00:05.320 --> 00:07.740]  Don't do a mistake,\n",
      "Transcribing /home/ouassim/Desktop/ss/stage/Data/Banque sonore des Dialectes Bretonnes/Audio/Audio/utt_04355.wav...\n"
     ]
    },
    {
     "name": "stderr",
     "output_type": "stream",
     "text": [
      "/home/ouassim/anaconda3/envs/stt-breton/lib/python3.10/site-packages/whisper/transcribe.py:126: UserWarning: FP16 is not supported on CPU; using FP32 instead\n",
      "  warnings.warn(\"FP16 is not supported on CPU; using FP32 instead\")\n"
     ]
    },
    {
     "name": "stdout",
     "output_type": "stream",
     "text": [
      "[00:00.000 --> 00:16.340]  Einay え 小 measurement power\n",
      "[00:16.340 --> 00:19.760]  Half point tolerance\n",
      "[00:19.760 --> 00:28.800]  embarrassment\n",
      "Transcribing /home/ouassim/Desktop/ss/stage/Data/Banque sonore des Dialectes Bretonnes/Audio/Audio/utt_03620.wav...\n"
     ]
    },
    {
     "name": "stderr",
     "output_type": "stream",
     "text": [
      "/home/ouassim/anaconda3/envs/stt-breton/lib/python3.10/site-packages/whisper/transcribe.py:126: UserWarning: FP16 is not supported on CPU; using FP32 instead\n",
      "  warnings.warn(\"FP16 is not supported on CPU; using FP32 instead\")\n"
     ]
    },
    {
     "name": "stdout",
     "output_type": "stream",
     "text": [
      "[00:00.000 --> 00:02.860]  agEsughter\n",
      "[00:03.120 --> 00:03.800]  un\n",
      "[00:03.800 --> 00:06.440]  dar sal\n",
      "[00:07.060 --> 00:11.020]  4\n",
      "Transcribing /home/ouassim/Desktop/ss/stage/Data/Banque sonore des Dialectes Bretonnes/Audio/Audio/utt_01352.wav...\n"
     ]
    },
    {
     "name": "stderr",
     "output_type": "stream",
     "text": [
      "/home/ouassim/anaconda3/envs/stt-breton/lib/python3.10/site-packages/whisper/transcribe.py:126: UserWarning: FP16 is not supported on CPU; using FP32 instead\n",
      "  warnings.warn(\"FP16 is not supported on CPU; using FP32 instead\")\n"
     ]
    },
    {
     "name": "stdout",
     "output_type": "stream",
     "text": [
      "[00:00.000 --> 00:04.560]  Magrima her, pavenso, jaya, jaya, paveno\n",
      "[00:04.560 --> 00:08.760]  tewa, paveno mario, paveno, paveno, paveno, safili, berte, kutuntos\n",
      "[00:08.760 --> 00:10.800]  Magrima, mageno, nendiviram\n",
      "[00:10.800 --> 00:11.800]  tan sangok\n",
      "Transcribing /home/ouassim/Desktop/ss/stage/Data/Banque sonore des Dialectes Bretonnes/Audio/Audio/utt_02970.wav...\n"
     ]
    },
    {
     "name": "stderr",
     "output_type": "stream",
     "text": [
      "/home/ouassim/anaconda3/envs/stt-breton/lib/python3.10/site-packages/whisper/transcribe.py:126: UserWarning: FP16 is not supported on CPU; using FP32 instead\n",
      "  warnings.warn(\"FP16 is not supported on CPU; using FP32 instead\")\n"
     ]
    },
    {
     "name": "stdout",
     "output_type": "stream",
     "text": [
      "[00:00.000 --> 00:04.420]  Datan te grandmother, icky z viver,\n",
      "Transcribing /home/ouassim/Desktop/ss/stage/Data/Banque sonore des Dialectes Bretonnes/Audio/Audio/utt_06300.wav...\n"
     ]
    },
    {
     "name": "stderr",
     "output_type": "stream",
     "text": [
      "/home/ouassim/anaconda3/envs/stt-breton/lib/python3.10/site-packages/whisper/transcribe.py:126: UserWarning: FP16 is not supported on CPU; using FP32 instead\n",
      "  warnings.warn(\"FP16 is not supported on CPU; using FP32 instead\")\n"
     ]
    },
    {
     "name": "stdout",
     "output_type": "stream",
     "text": [
      "[00:00.000 --> 00:02.480]  um tamdiaeda so ribbon in aubar\n",
      "Transcribing /home/ouassim/Desktop/ss/stage/Data/Banque sonore des Dialectes Bretonnes/Audio/Audio/utt_06876.wav...\n"
     ]
    },
    {
     "name": "stderr",
     "output_type": "stream",
     "text": [
      "/home/ouassim/anaconda3/envs/stt-breton/lib/python3.10/site-packages/whisper/transcribe.py:126: UserWarning: FP16 is not supported on CPU; using FP32 instead\n",
      "  warnings.warn(\"FP16 is not supported on CPU; using FP32 instead\")\n"
     ]
    },
    {
     "name": "stdout",
     "output_type": "stream",
     "text": [
      "[00:00.000 --> 00:16.420]  visite me k same\n",
      "Transcribing /home/ouassim/Desktop/ss/stage/Data/Banque sonore des Dialectes Bretonnes/Audio/Audio/utt_05650.wav...\n"
     ]
    },
    {
     "name": "stderr",
     "output_type": "stream",
     "text": [
      "/home/ouassim/anaconda3/envs/stt-breton/lib/python3.10/site-packages/whisper/transcribe.py:126: UserWarning: FP16 is not supported on CPU; using FP32 instead\n",
      "  warnings.warn(\"FP16 is not supported on CPU; using FP32 instead\")\n"
     ]
    },
    {
     "name": "stdout",
     "output_type": "stream",
     "text": [
      "[00:00.000 --> 00:02.260]  Petra Paladev, že\n",
      "[00:02.760 --> 00:04.580]  literaliser\n",
      "Transcribing /home/ouassim/Desktop/ss/stage/Data/Banque sonore des Dialectes Bretonnes/Audio/Audio/utt_05890.wav...\n"
     ]
    },
    {
     "name": "stderr",
     "output_type": "stream",
     "text": [
      "/home/ouassim/anaconda3/envs/stt-breton/lib/python3.10/site-packages/whisper/transcribe.py:126: UserWarning: FP16 is not supported on CPU; using FP32 instead\n",
      "  warnings.warn(\"FP16 is not supported on CPU; using FP32 instead\")\n"
     ]
    },
    {
     "name": "stdout",
     "output_type": "stream",
     "text": [
      "[00:00.000 --> 00:04.920]  My father was having loads ofusions\n",
      "Transcribing /home/ouassim/Desktop/ss/stage/Data/Banque sonore des Dialectes Bretonnes/Audio/Audio/utt_05377.wav...\n"
     ]
    },
    {
     "name": "stderr",
     "output_type": "stream",
     "text": [
      "/home/ouassim/anaconda3/envs/stt-breton/lib/python3.10/site-packages/whisper/transcribe.py:126: UserWarning: FP16 is not supported on CPU; using FP32 instead\n",
      "  warnings.warn(\"FP16 is not supported on CPU; using FP32 instead\")\n"
     ]
    },
    {
     "name": "stdout",
     "output_type": "stream",
     "text": [
      "[00:00.000 --> 00:01.400]  Tando hooks up\n",
      "[00:01.400 --> 00:01.920]  Take your sweet сюжet\n",
      "[00:02.000 --> 00:03.160]  Take your ways\n",
      "Transcribing /home/ouassim/Desktop/ss/stage/Data/Banque sonore des Dialectes Bretonnes/Audio/Audio/utt_05753.wav...\n"
     ]
    },
    {
     "name": "stderr",
     "output_type": "stream",
     "text": [
      "/home/ouassim/anaconda3/envs/stt-breton/lib/python3.10/site-packages/whisper/transcribe.py:126: UserWarning: FP16 is not supported on CPU; using FP32 instead\n",
      "  warnings.warn(\"FP16 is not supported on CPU; using FP32 instead\")\n"
     ]
    },
    {
     "name": "stdout",
     "output_type": "stream",
     "text": [
      "[00:00.720 --> 00:02.600]  Holio-Care!\n",
      "[00:04.520 --> 00:06.840] lä카aciSA-Lack\n",
      "[00:06.960 --> 00:08.520]  Ilkysil!\n",
      "[00:10.520 --> 00:12.400]  Hei, duet!\n",
      "[00:12.520 --> 00:12.800]  lol\n",
      "Transcribing /home/ouassim/Desktop/ss/stage/Data/Banque sonore des Dialectes Bretonnes/Audio/Audio/utt_01176.wav...\n"
     ]
    },
    {
     "name": "stderr",
     "output_type": "stream",
     "text": [
      "/home/ouassim/anaconda3/envs/stt-breton/lib/python3.10/site-packages/whisper/transcribe.py:126: UserWarning: FP16 is not supported on CPU; using FP32 instead\n",
      "  warnings.warn(\"FP16 is not supported on CPU; using FP32 instead\")\n"
     ]
    },
    {
     "name": "stdout",
     "output_type": "stream",
     "text": [
      "[00:00.000 --> 00:03.360] ünd 오늘它 Martinez\n",
      "Transcribing /home/ouassim/Desktop/ss/stage/Data/Banque sonore des Dialectes Bretonnes/Audio/Audio/utt_05902.wav...\n"
     ]
    },
    {
     "name": "stderr",
     "output_type": "stream",
     "text": [
      "/home/ouassim/anaconda3/envs/stt-breton/lib/python3.10/site-packages/whisper/transcribe.py:126: UserWarning: FP16 is not supported on CPU; using FP32 instead\n",
      "  warnings.warn(\"FP16 is not supported on CPU; using FP32 instead\")\n"
     ]
    },
    {
     "name": "stdout",
     "output_type": "stream",
     "text": [
      "[00:00.000 --> 00:01.180]  Mas before\n",
      "Transcribing /home/ouassim/Desktop/ss/stage/Data/Banque sonore des Dialectes Bretonnes/Audio/Audio/utt_04237.wav...\n"
     ]
    },
    {
     "name": "stderr",
     "output_type": "stream",
     "text": [
      "/home/ouassim/anaconda3/envs/stt-breton/lib/python3.10/site-packages/whisper/transcribe.py:126: UserWarning: FP16 is not supported on CPU; using FP32 instead\n",
      "  warnings.warn(\"FP16 is not supported on CPU; using FP32 instead\")\n"
     ]
    },
    {
     "name": "stdout",
     "output_type": "stream",
     "text": [
      "[00:00.000 --> 00:02.800]  Pierreにな� divorce,\n",
      "Transcribing /home/ouassim/Desktop/ss/stage/Data/Banque sonore des Dialectes Bretonnes/Audio/Audio/utt_01047.wav...\n"
     ]
    },
    {
     "name": "stderr",
     "output_type": "stream",
     "text": [
      "/home/ouassim/anaconda3/envs/stt-breton/lib/python3.10/site-packages/whisper/transcribe.py:126: UserWarning: FP16 is not supported on CPU; using FP32 instead\n",
      "  warnings.warn(\"FP16 is not supported on CPU; using FP32 instead\")\n"
     ]
    },
    {
     "name": "stdout",
     "output_type": "stream",
     "text": [
      "[00:00.000 --> 00:04.120]  Did the lampchrist\n",
      "Transcribing /home/ouassim/Desktop/ss/stage/Data/Banque sonore des Dialectes Bretonnes/Audio/Audio/utt_06885.wav...\n"
     ]
    },
    {
     "name": "stderr",
     "output_type": "stream",
     "text": [
      "/home/ouassim/anaconda3/envs/stt-breton/lib/python3.10/site-packages/whisper/transcribe.py:126: UserWarning: FP16 is not supported on CPU; using FP32 instead\n",
      "  warnings.warn(\"FP16 is not supported on CPU; using FP32 instead\")\n"
     ]
    },
    {
     "name": "stdout",
     "output_type": "stream",
     "text": [
      "[00:00.000 --> 00:08.640]  Oh no, overwhelmingly 他們就pled a 他們有她們ằng�著 對 來說就是 對,我們自己 是不是是的\n",
      "Transcribing /home/ouassim/Desktop/ss/stage/Data/Banque sonore des Dialectes Bretonnes/Audio/Audio/utt_03916.wav...\n"
     ]
    },
    {
     "name": "stderr",
     "output_type": "stream",
     "text": [
      "/home/ouassim/anaconda3/envs/stt-breton/lib/python3.10/site-packages/whisper/transcribe.py:126: UserWarning: FP16 is not supported on CPU; using FP32 instead\n",
      "  warnings.warn(\"FP16 is not supported on CPU; using FP32 instead\")\n"
     ]
    },
    {
     "name": "stdout",
     "output_type": "stream",
     "text": [
      "[00:00.000 --> 00:04.000]  Uh, my foot isn't too air-ור.\n",
      "[00:04.000 --> 00:07.020]  Ma 하ずında?</\n",
      "Transcribing /home/ouassim/Desktop/ss/stage/Data/Banque sonore des Dialectes Bretonnes/Audio/Audio/utt_03518.wav...\n"
     ]
    },
    {
     "name": "stderr",
     "output_type": "stream",
     "text": [
      "/home/ouassim/anaconda3/envs/stt-breton/lib/python3.10/site-packages/whisper/transcribe.py:126: UserWarning: FP16 is not supported on CPU; using FP32 instead\n",
      "  warnings.warn(\"FP16 is not supported on CPU; using FP32 instead\")\n"
     ]
    },
    {
     "name": "stdout",
     "output_type": "stream",
     "text": [
      "[00:00.000 --> 00:03.480]  Verho is imaokayuari\n",
      "Transcribing /home/ouassim/Desktop/ss/stage/Data/Banque sonore des Dialectes Bretonnes/Audio/Audio/utt_04241.wav...\n"
     ]
    },
    {
     "name": "stderr",
     "output_type": "stream",
     "text": [
      "/home/ouassim/anaconda3/envs/stt-breton/lib/python3.10/site-packages/whisper/transcribe.py:126: UserWarning: FP16 is not supported on CPU; using FP32 instead\n",
      "  warnings.warn(\"FP16 is not supported on CPU; using FP32 instead\")\n"
     ]
    },
    {
     "name": "stdout",
     "output_type": "stream",
     "text": [
      "[00:00.000 --> 00:03.340]  bin Birjen a chinî opposatét\n",
      "Transcribing /home/ouassim/Desktop/ss/stage/Data/Banque sonore des Dialectes Bretonnes/Audio/Audio/utt_00332.wav...\n"
     ]
    },
    {
     "name": "stderr",
     "output_type": "stream",
     "text": [
      "/home/ouassim/anaconda3/envs/stt-breton/lib/python3.10/site-packages/whisper/transcribe.py:126: UserWarning: FP16 is not supported on CPU; using FP32 instead\n",
      "  warnings.warn(\"FP16 is not supported on CPU; using FP32 instead\")\n"
     ]
    },
    {
     "name": "stdout",
     "output_type": "stream",
     "text": [
      "[00:00.000 --> 00:01.580]  P visa miracles\n",
      "Transcribing /home/ouassim/Desktop/ss/stage/Data/Banque sonore des Dialectes Bretonnes/Audio/Audio/utt_04379.wav...\n"
     ]
    },
    {
     "name": "stderr",
     "output_type": "stream",
     "text": [
      "/home/ouassim/anaconda3/envs/stt-breton/lib/python3.10/site-packages/whisper/transcribe.py:126: UserWarning: FP16 is not supported on CPU; using FP32 instead\n",
      "  warnings.warn(\"FP16 is not supported on CPU; using FP32 instead\")\n"
     ]
    },
    {
     "name": "stdout",
     "output_type": "stream",
     "text": [
      "[00:00.000 --> 00:02.000]  Bipajai, tennido well, no?\n",
      "Transcribing /home/ouassim/Desktop/ss/stage/Data/Banque sonore des Dialectes Bretonnes/Audio/Audio/utt_06737.wav...\n"
     ]
    },
    {
     "name": "stderr",
     "output_type": "stream",
     "text": [
      "/home/ouassim/anaconda3/envs/stt-breton/lib/python3.10/site-packages/whisper/transcribe.py:126: UserWarning: FP16 is not supported on CPU; using FP32 instead\n",
      "  warnings.warn(\"FP16 is not supported on CPU; using FP32 instead\")\n"
     ]
    },
    {
     "name": "stdout",
     "output_type": "stream",
     "text": [
      "[00:00.000 --> 00:01.860]  Do nerv93e yeux\n",
      "Transcribing /home/ouassim/Desktop/ss/stage/Data/Banque sonore des Dialectes Bretonnes/Audio/Audio/utt_05447.wav...\n"
     ]
    },
    {
     "name": "stderr",
     "output_type": "stream",
     "text": [
      "/home/ouassim/anaconda3/envs/stt-breton/lib/python3.10/site-packages/whisper/transcribe.py:126: UserWarning: FP16 is not supported on CPU; using FP32 instead\n",
      "  warnings.warn(\"FP16 is not supported on CPU; using FP32 instead\")\n"
     ]
    },
    {
     "name": "stdout",
     "output_type": "stream",
     "text": [
      "[00:00.000 --> 00:01.980]  Mis cort v ye o gua must\n",
      "[00:01.980 --> 00:03.560]  mha rail se llã m d h\n",
      "Transcribing /home/ouassim/Desktop/ss/stage/Data/Banque sonore des Dialectes Bretonnes/Audio/Audio/utt_04078.wav...\n"
     ]
    },
    {
     "name": "stderr",
     "output_type": "stream",
     "text": [
      "/home/ouassim/anaconda3/envs/stt-breton/lib/python3.10/site-packages/whisper/transcribe.py:126: UserWarning: FP16 is not supported on CPU; using FP32 instead\n",
      "  warnings.warn(\"FP16 is not supported on CPU; using FP32 instead\")\n"
     ]
    },
    {
     "name": "stdout",
     "output_type": "stream",
     "text": [
      "[00:00.000 --> 00:03.260]  But after days, Kochal\n",
      "[00:03.600 --> 00:05.880] opedalä� Schnäšhood\n",
      "Transcribing /home/ouassim/Desktop/ss/stage/Data/Banque sonore des Dialectes Bretonnes/Audio/Audio/utt_03658.wav...\n"
     ]
    },
    {
     "name": "stderr",
     "output_type": "stream",
     "text": [
      "/home/ouassim/anaconda3/envs/stt-breton/lib/python3.10/site-packages/whisper/transcribe.py:126: UserWarning: FP16 is not supported on CPU; using FP32 instead\n",
      "  warnings.warn(\"FP16 is not supported on CPU; using FP32 instead\")\n"
     ]
    },
    {
     "name": "stdout",
     "output_type": "stream",
     "text": [
      "[00:00.000 --> 00:02.000]  señor Goodnight\n",
      "[00:02.000 --> 00:03.000]  Have fun\n",
      "Transcribing /home/ouassim/Desktop/ss/stage/Data/Banque sonore des Dialectes Bretonnes/Audio/Audio/utt_06199.wav...\n"
     ]
    },
    {
     "name": "stderr",
     "output_type": "stream",
     "text": [
      "/home/ouassim/anaconda3/envs/stt-breton/lib/python3.10/site-packages/whisper/transcribe.py:126: UserWarning: FP16 is not supported on CPU; using FP32 instead\n",
      "  warnings.warn(\"FP16 is not supported on CPU; using FP32 instead\")\n"
     ]
    },
    {
     "name": "stdout",
     "output_type": "stream",
     "text": [
      "[00:00.300 --> 00:03.480]  Pecher, pecher pedéquent, Climb,\n",
      "[00:03.500 --> 00:05.420]  jors avagers sauces ی Тут\n",
      "Transcribing /home/ouassim/Desktop/ss/stage/Data/Banque sonore des Dialectes Bretonnes/Audio/Audio/utt_06249.wav...\n"
     ]
    },
    {
     "name": "stderr",
     "output_type": "stream",
     "text": [
      "/home/ouassim/anaconda3/envs/stt-breton/lib/python3.10/site-packages/whisper/transcribe.py:126: UserWarning: FP16 is not supported on CPU; using FP32 instead\n",
      "  warnings.warn(\"FP16 is not supported on CPU; using FP32 instead\")\n"
     ]
    },
    {
     "name": "stdout",
     "output_type": "stream",
     "text": [
      "[00:00.000 --> 00:01.000]  Ah!!\n",
      "[00:01.000 --> 00:02.000]  Wait, we have done cleifs!\n",
      "[00:02.000 --> 00:03.000] 暮lerker Green Bay show show!\n",
      "[00:03.000 --> 00:04.000]  In the rails...\n",
      "[00:04.000 --> 00:05.000]  In thezilian world...\n",
      "[00:05.000 --> 00:06.000]  ah!!\n",
      "[00:06.000 --> 00:07.000]  Ah!!\n",
      "[00:07.000 --> 00:10.000]  Molecels, do not disappear,\n",
      "[00:10.000 --> 00:11.000]  In the next one, we will have brotherordinary tea...\n",
      "[00:11.000 --> 00:12.000]  Basis show!\n",
      "Transcribing /home/ouassim/Desktop/ss/stage/Data/Banque sonore des Dialectes Bretonnes/Audio/Audio/utt_03406.wav...\n"
     ]
    },
    {
     "name": "stderr",
     "output_type": "stream",
     "text": [
      "/home/ouassim/anaconda3/envs/stt-breton/lib/python3.10/site-packages/whisper/transcribe.py:126: UserWarning: FP16 is not supported on CPU; using FP32 instead\n",
      "  warnings.warn(\"FP16 is not supported on CPU; using FP32 instead\")\n"
     ]
    },
    {
     "name": "stdout",
     "output_type": "stream",
     "text": [
      "[00:00.000 --> 00:04.920]  mitions visulet a den tru\n",
      "[00:04.920 --> 00:23.340]  aber 크lla harley Bayi\n",
      "Transcribing /home/ouassim/Desktop/ss/stage/Data/Banque sonore des Dialectes Bretonnes/Audio/Audio/utt_00101.wav...\n"
     ]
    },
    {
     "name": "stderr",
     "output_type": "stream",
     "text": [
      "/home/ouassim/anaconda3/envs/stt-breton/lib/python3.10/site-packages/whisper/transcribe.py:126: UserWarning: FP16 is not supported on CPU; using FP32 instead\n",
      "  warnings.warn(\"FP16 is not supported on CPU; using FP32 instead\")\n"
     ]
    },
    {
     "name": "stdout",
     "output_type": "stream",
     "text": [
      "[00:00.000 --> 00:02.120]  Abolanj, riso eso?\n",
      "Transcribing /home/ouassim/Desktop/ss/stage/Data/Banque sonore des Dialectes Bretonnes/Audio/Audio/utt_00538.wav...\n"
     ]
    },
    {
     "name": "stderr",
     "output_type": "stream",
     "text": [
      "/home/ouassim/anaconda3/envs/stt-breton/lib/python3.10/site-packages/whisper/transcribe.py:126: UserWarning: FP16 is not supported on CPU; using FP32 instead\n",
      "  warnings.warn(\"FP16 is not supported on CPU; using FP32 instead\")\n"
     ]
    },
    {
     "name": "stdout",
     "output_type": "stream",
     "text": [
      "[00:00.000 --> 00:13.840]  by m Quickly norr\n",
      "Transcribing /home/ouassim/Desktop/ss/stage/Data/Banque sonore des Dialectes Bretonnes/Audio/Audio/utt_03238.wav...\n"
     ]
    },
    {
     "name": "stderr",
     "output_type": "stream",
     "text": [
      "/home/ouassim/anaconda3/envs/stt-breton/lib/python3.10/site-packages/whisper/transcribe.py:126: UserWarning: FP16 is not supported on CPU; using FP32 instead\n",
      "  warnings.warn(\"FP16 is not supported on CPU; using FP32 instead\")\n"
     ]
    },
    {
     "name": "stdout",
     "output_type": "stream",
     "text": [
      "[00:00.000 --> 00:01.520]  …liwiw!!\n",
      "Transcribing /home/ouassim/Desktop/ss/stage/Data/Banque sonore des Dialectes Bretonnes/Audio/Audio/utt_07234.wav...\n"
     ]
    },
    {
     "name": "stderr",
     "output_type": "stream",
     "text": [
      "/home/ouassim/anaconda3/envs/stt-breton/lib/python3.10/site-packages/whisper/transcribe.py:126: UserWarning: FP16 is not supported on CPU; using FP32 instead\n",
      "  warnings.warn(\"FP16 is not supported on CPU; using FP32 instead\")\n"
     ]
    },
    {
     "name": "stdout",
     "output_type": "stream",
     "text": [
      "[00:00.000 --> 00:02.400] 妳敢 lui\n",
      "Transcribing /home/ouassim/Desktop/ss/stage/Data/Banque sonore des Dialectes Bretonnes/Audio/Audio/utt_06929.wav...\n"
     ]
    },
    {
     "name": "stderr",
     "output_type": "stream",
     "text": [
      "/home/ouassim/anaconda3/envs/stt-breton/lib/python3.10/site-packages/whisper/transcribe.py:126: UserWarning: FP16 is not supported on CPU; using FP32 instead\n",
      "  warnings.warn(\"FP16 is not supported on CPU; using FP32 instead\")\n"
     ]
    },
    {
     "name": "stdout",
     "output_type": "stream",
     "text": [
      "[00:00.000 --> 00:03.440]  뜻....\n",
      "[00:05.740 --> 00:12.760]  –\n",
      "Transcribing /home/ouassim/Desktop/ss/stage/Data/Banque sonore des Dialectes Bretonnes/Audio/Audio/utt_05230.wav...\n"
     ]
    },
    {
     "name": "stderr",
     "output_type": "stream",
     "text": [
      "/home/ouassim/anaconda3/envs/stt-breton/lib/python3.10/site-packages/whisper/transcribe.py:126: UserWarning: FP16 is not supported on CPU; using FP32 instead\n",
      "  warnings.warn(\"FP16 is not supported on CPU; using FP32 instead\")\n"
     ]
    },
    {
     "name": "stdout",
     "output_type": "stream",
     "text": [
      "[00:00.000 --> 00:07.040]  jad\n",
      "Transcribing /home/ouassim/Desktop/ss/stage/Data/Banque sonore des Dialectes Bretonnes/Audio/Audio/utt_02941.wav...\n"
     ]
    },
    {
     "name": "stderr",
     "output_type": "stream",
     "text": [
      "/home/ouassim/anaconda3/envs/stt-breton/lib/python3.10/site-packages/whisper/transcribe.py:126: UserWarning: FP16 is not supported on CPU; using FP32 instead\n",
      "  warnings.warn(\"FP16 is not supported on CPU; using FP32 instead\")\n"
     ]
    },
    {
     "name": "stdout",
     "output_type": "stream",
     "text": [
      "[00:00.000 --> 00:02.980]  Has donecentrisaananoner\n",
      "Transcribing /home/ouassim/Desktop/ss/stage/Data/Banque sonore des Dialectes Bretonnes/Audio/Audio/utt_02288.wav...\n"
     ]
    },
    {
     "name": "stderr",
     "output_type": "stream",
     "text": [
      "/home/ouassim/anaconda3/envs/stt-breton/lib/python3.10/site-packages/whisper/transcribe.py:126: UserWarning: FP16 is not supported on CPU; using FP32 instead\n",
      "  warnings.warn(\"FP16 is not supported on CPU; using FP32 instead\")\n"
     ]
    },
    {
     "name": "stdout",
     "output_type": "stream",
     "text": [
      "[00:00.000 --> 00:03.940]   scripturess me\n",
      "[00:03.940 --> 00:09.600]  Pr fo braza nehiseide\n",
      "[00:11.280 --> 00:15.520]  Menbe traction ktaest\n",
      "Transcribing /home/ouassim/Desktop/ss/stage/Data/Banque sonore des Dialectes Bretonnes/Audio/Audio/utt_03686.wav...\n"
     ]
    },
    {
     "name": "stderr",
     "output_type": "stream",
     "text": [
      "/home/ouassim/anaconda3/envs/stt-breton/lib/python3.10/site-packages/whisper/transcribe.py:126: UserWarning: FP16 is not supported on CPU; using FP32 instead\n",
      "  warnings.warn(\"FP16 is not supported on CPU; using FP32 instead\")\n"
     ]
    },
    {
     "name": "stdout",
     "output_type": "stream",
     "text": [
      "[00:00.000 --> 00:03.280]  Work sire!\n",
      "Transcribing /home/ouassim/Desktop/ss/stage/Data/Banque sonore des Dialectes Bretonnes/Audio/Audio/utt_06764.wav...\n"
     ]
    },
    {
     "name": "stderr",
     "output_type": "stream",
     "text": [
      "/home/ouassim/anaconda3/envs/stt-breton/lib/python3.10/site-packages/whisper/transcribe.py:126: UserWarning: FP16 is not supported on CPU; using FP32 instead\n",
      "  warnings.warn(\"FP16 is not supported on CPU; using FP32 instead\")\n"
     ]
    },
    {
     "name": "stdout",
     "output_type": "stream",
     "text": [
      "[00:00.060 --> 00:01.460]  Ah!\n",
      "[00:02.860 --> 00:05.160]  Poor Dad!\n",
      "[00:05.320 --> 00:05.440]  N°V\n",
      "[00:05.440 --> 00:09.800]  N°V\n",
      "[00:09.800 --> 00:15.040]  N°V\n",
      "Transcribing /home/ouassim/Desktop/ss/stage/Data/Banque sonore des Dialectes Bretonnes/Audio/Audio/utt_05927.wav...\n"
     ]
    },
    {
     "name": "stderr",
     "output_type": "stream",
     "text": [
      "/home/ouassim/anaconda3/envs/stt-breton/lib/python3.10/site-packages/whisper/transcribe.py:126: UserWarning: FP16 is not supported on CPU; using FP32 instead\n",
      "  warnings.warn(\"FP16 is not supported on CPU; using FP32 instead\")\n"
     ]
    },
    {
     "name": "stdout",
     "output_type": "stream",
     "text": [
      "[00:00.000 --> 00:01.140]  e like you know this\n",
      "Transcribing /home/ouassim/Desktop/ss/stage/Data/Banque sonore des Dialectes Bretonnes/Audio/Audio/utt_06182.wav...\n"
     ]
    },
    {
     "name": "stderr",
     "output_type": "stream",
     "text": [
      "/home/ouassim/anaconda3/envs/stt-breton/lib/python3.10/site-packages/whisper/transcribe.py:126: UserWarning: FP16 is not supported on CPU; using FP32 instead\n",
      "  warnings.warn(\"FP16 is not supported on CPU; using FP32 instead\")\n"
     ]
    },
    {
     "name": "stdout",
     "output_type": "stream",
     "text": [
      "[00:00.000 --> 00:01.500]  ale ellmichrosand\n",
      "Transcribing /home/ouassim/Desktop/ss/stage/Data/Banque sonore des Dialectes Bretonnes/Audio/Audio/utt_06060.wav...\n"
     ]
    },
    {
     "name": "stderr",
     "output_type": "stream",
     "text": [
      "/home/ouassim/anaconda3/envs/stt-breton/lib/python3.10/site-packages/whisper/transcribe.py:126: UserWarning: FP16 is not supported on CPU; using FP32 instead\n",
      "  warnings.warn(\"FP16 is not supported on CPU; using FP32 instead\")\n"
     ]
    },
    {
     "name": "stdout",
     "output_type": "stream",
     "text": [
      "[00:00.000 --> 00:03.340]  VadJohnny Hyrdeguin ㅋㅋㅋ\n",
      "Transcribing /home/ouassim/Desktop/ss/stage/Data/Banque sonore des Dialectes Bretonnes/Audio/Audio/utt_00079.wav...\n"
     ]
    },
    {
     "name": "stderr",
     "output_type": "stream",
     "text": [
      "/home/ouassim/anaconda3/envs/stt-breton/lib/python3.10/site-packages/whisper/transcribe.py:126: UserWarning: FP16 is not supported on CPU; using FP32 instead\n",
      "  warnings.warn(\"FP16 is not supported on CPU; using FP32 instead\")\n"
     ]
    },
    {
     "name": "stdout",
     "output_type": "stream",
     "text": [
      "[00:00.000 --> 00:02.920]  T'hanwire le namzeda bhoədeh\n",
      "Transcribing /home/ouassim/Desktop/ss/stage/Data/Banque sonore des Dialectes Bretonnes/Audio/Audio/utt_06576.wav...\n"
     ]
    },
    {
     "name": "stderr",
     "output_type": "stream",
     "text": [
      "/home/ouassim/anaconda3/envs/stt-breton/lib/python3.10/site-packages/whisper/transcribe.py:126: UserWarning: FP16 is not supported on CPU; using FP32 instead\n",
      "  warnings.warn(\"FP16 is not supported on CPU; using FP32 instead\")\n"
     ]
    },
    {
     "name": "stdout",
     "output_type": "stream",
     "text": [
      "[00:00.000 --> 00:02.000]  Str busted\n",
      "Transcribing /home/ouassim/Desktop/ss/stage/Data/Banque sonore des Dialectes Bretonnes/Audio/Audio/utt_04483.wav...\n"
     ]
    },
    {
     "name": "stderr",
     "output_type": "stream",
     "text": [
      "/home/ouassim/anaconda3/envs/stt-breton/lib/python3.10/site-packages/whisper/transcribe.py:126: UserWarning: FP16 is not supported on CPU; using FP32 instead\n",
      "  warnings.warn(\"FP16 is not supported on CPU; using FP32 instead\")\n"
     ]
    },
    {
     "name": "stdout",
     "output_type": "stream",
     "text": [
      "[00:00.000 --> 00:02.000]  Benchili, ni velune\n",
      "Transcribing /home/ouassim/Desktop/ss/stage/Data/Banque sonore des Dialectes Bretonnes/Audio/Audio/utt_01374.wav...\n"
     ]
    },
    {
     "name": "stderr",
     "output_type": "stream",
     "text": [
      "/home/ouassim/anaconda3/envs/stt-breton/lib/python3.10/site-packages/whisper/transcribe.py:126: UserWarning: FP16 is not supported on CPU; using FP32 instead\n",
      "  warnings.warn(\"FP16 is not supported on CPU; using FP32 instead\")\n"
     ]
    },
    {
     "name": "stdout",
     "output_type": "stream",
     "text": [
      "[00:00.000 --> 00:01.580]  HASUNA ZIH MI sağ pindé\n",
      "Transcribing /home/ouassim/Desktop/ss/stage/Data/Banque sonore des Dialectes Bretonnes/Audio/Audio/utt_01912.wav...\n"
     ]
    },
    {
     "name": "stderr",
     "output_type": "stream",
     "text": [
      "/home/ouassim/anaconda3/envs/stt-breton/lib/python3.10/site-packages/whisper/transcribe.py:126: UserWarning: FP16 is not supported on CPU; using FP32 instead\n",
      "  warnings.warn(\"FP16 is not supported on CPU; using FP32 instead\")\n"
     ]
    },
    {
     "name": "stdout",
     "output_type": "stream",
     "text": [
      "[00:00.000 --> 00:02.660]  いや、 めちゃん 死らしい  baugen ezan\n",
      "[00:02.660 --> 00:05.900]  いや、  Affran,  Affran 老子  baoi\n",
      "[00:05.900 --> 00:11.280]  めちゃい  baoi 孫 慣  baoi 孫 慣  baoi 孫 慣  baoi 孫 慣 兒\n",
      "[00:11.280 --> 00:13.320]  めちゃい 死らしい  baoi  yen ezan\n",
      "Transcribing /home/ouassim/Desktop/ss/stage/Data/Banque sonore des Dialectes Bretonnes/Audio/Audio/utt_01662.wav...\n"
     ]
    },
    {
     "name": "stderr",
     "output_type": "stream",
     "text": [
      "/home/ouassim/anaconda3/envs/stt-breton/lib/python3.10/site-packages/whisper/transcribe.py:126: UserWarning: FP16 is not supported on CPU; using FP32 instead\n",
      "  warnings.warn(\"FP16 is not supported on CPU; using FP32 instead\")\n"
     ]
    },
    {
     "name": "stdout",
     "output_type": "stream",
     "text": [
      "[00:00.000 --> 00:02.000]  Bize Don Gaton\n",
      "Transcribing /home/ouassim/Desktop/ss/stage/Data/Banque sonore des Dialectes Bretonnes/Audio/Audio/utt_04059.wav...\n"
     ]
    },
    {
     "name": "stderr",
     "output_type": "stream",
     "text": [
      "/home/ouassim/anaconda3/envs/stt-breton/lib/python3.10/site-packages/whisper/transcribe.py:126: UserWarning: FP16 is not supported on CPU; using FP32 instead\n",
      "  warnings.warn(\"FP16 is not supported on CPU; using FP32 instead\")\n"
     ]
    },
    {
     "name": "stdout",
     "output_type": "stream",
     "text": [
      "[00:00.000 --> 00:04.320]  ...shotshe, vomalize madurivien bent non.\"\n",
      "Transcribing /home/ouassim/Desktop/ss/stage/Data/Banque sonore des Dialectes Bretonnes/Audio/Audio/utt_07257.wav...\n"
     ]
    },
    {
     "name": "stderr",
     "output_type": "stream",
     "text": [
      "/home/ouassim/anaconda3/envs/stt-breton/lib/python3.10/site-packages/whisper/transcribe.py:126: UserWarning: FP16 is not supported on CPU; using FP32 instead\n",
      "  warnings.warn(\"FP16 is not supported on CPU; using FP32 instead\")\n"
     ]
    },
    {
     "name": "stdout",
     "output_type": "stream",
     "text": [
      "[00:00.000 --> 00:02.400] 哈返w\n",
      "Transcribing /home/ouassim/Desktop/ss/stage/Data/Banque sonore des Dialectes Bretonnes/Audio/Audio/utt_02897.wav...\n"
     ]
    },
    {
     "name": "stderr",
     "output_type": "stream",
     "text": [
      "/home/ouassim/anaconda3/envs/stt-breton/lib/python3.10/site-packages/whisper/transcribe.py:126: UserWarning: FP16 is not supported on CPU; using FP32 instead\n",
      "  warnings.warn(\"FP16 is not supported on CPU; using FP32 instead\")\n"
     ]
    },
    {
     "name": "stdout",
     "output_type": "stream",
     "text": [
      "[00:00.000 --> 00:02.840]  niso even, even, Catholic!\n",
      "Transcribing /home/ouassim/Desktop/ss/stage/Data/Banque sonore des Dialectes Bretonnes/Audio/Audio/utt_01420.wav...\n"
     ]
    },
    {
     "name": "stderr",
     "output_type": "stream",
     "text": [
      "/home/ouassim/anaconda3/envs/stt-breton/lib/python3.10/site-packages/whisper/transcribe.py:126: UserWarning: FP16 is not supported on CPU; using FP32 instead\n",
      "  warnings.warn(\"FP16 is not supported on CPU; using FP32 instead\")\n"
     ]
    },
    {
     "name": "stdout",
     "output_type": "stream",
     "text": [
      "[00:00.000 --> 00:07.000]  But we speak it is the jazz to Joel, the Sposatutanel, Zeplatu, Astöju.\n",
      "[00:07.000 --> 00:12.000]  Mahonina Horna, Neltenovt.\n",
      "[00:12.000 --> 00:17.000]  Mahin Avmur, Anelta, Dund Tudormur.\n",
      "[00:17.000 --> 00:19.000]  Seppchismazastöju.\n",
      "Transcribing /home/ouassim/Desktop/ss/stage/Data/Banque sonore des Dialectes Bretonnes/Audio/Audio/utt_03992.wav...\n"
     ]
    },
    {
     "name": "stderr",
     "output_type": "stream",
     "text": [
      "/home/ouassim/anaconda3/envs/stt-breton/lib/python3.10/site-packages/whisper/transcribe.py:126: UserWarning: FP16 is not supported on CPU; using FP32 instead\n",
      "  warnings.warn(\"FP16 is not supported on CPU; using FP32 instead\")\n"
     ]
    },
    {
     "name": "stdout",
     "output_type": "stream",
     "text": [
      "[00:00.000 --> 00:02.000]  Zisar تو lowρι\n",
      "Transcribing /home/ouassim/Desktop/ss/stage/Data/Banque sonore des Dialectes Bretonnes/Audio/Audio/utt_06139.wav...\n"
     ]
    },
    {
     "name": "stderr",
     "output_type": "stream",
     "text": [
      "/home/ouassim/anaconda3/envs/stt-breton/lib/python3.10/site-packages/whisper/transcribe.py:126: UserWarning: FP16 is not supported on CPU; using FP32 instead\n",
      "  warnings.warn(\"FP16 is not supported on CPU; using FP32 instead\")\n"
     ]
    },
    {
     "name": "stdout",
     "output_type": "stream",
     "text": [
      "[00:00.000 --> 00:01.340]  kesadin\n",
      "[00:01.580 --> 00:05.740]  vent\n",
      "Transcribing /home/ouassim/Desktop/ss/stage/Data/Banque sonore des Dialectes Bretonnes/Audio/Audio/utt_05523.wav...\n"
     ]
    },
    {
     "name": "stderr",
     "output_type": "stream",
     "text": [
      "/home/ouassim/anaconda3/envs/stt-breton/lib/python3.10/site-packages/whisper/transcribe.py:126: UserWarning: FP16 is not supported on CPU; using FP32 instead\n",
      "  warnings.warn(\"FP16 is not supported on CPU; using FP32 instead\")\n"
     ]
    },
    {
     "name": "stdout",
     "output_type": "stream",
     "text": [
      "[00:00.000 --> 00:04.020]  advantages connot demekMother,\n",
      "[00:04.040 --> 00:08.520] wie patentsocksonsor,\n",
      "[00:08.540 --> 00:12.820]  traditionally secularでは exists\n",
      "[00:12.820 --> 00:12.870]  ������������������������������������������������������������������������������������������������������������������������������������������������������������������������������������������������������������������������������\n",
      "Transcribing /home/ouassim/Desktop/ss/stage/Data/Banque sonore des Dialectes Bretonnes/Audio/Audio/utt_01084.wav...\n"
     ]
    },
    {
     "name": "stderr",
     "output_type": "stream",
     "text": [
      "/home/ouassim/anaconda3/envs/stt-breton/lib/python3.10/site-packages/whisper/transcribe.py:126: UserWarning: FP16 is not supported on CPU; using FP32 instead\n",
      "  warnings.warn(\"FP16 is not supported on CPU; using FP32 instead\")\n"
     ]
    },
    {
     "name": "stdout",
     "output_type": "stream",
     "text": [
      "[00:00.000 --> 00:08.000]  So, I think we have to be honest, we are not going to be able to be a part of the world.\n",
      "[00:08.000 --> 00:12.000]  We are going to be a part of the world.\n",
      "[00:12.000 --> 00:16.000]  We are going to be a part of the world.\n",
      "[00:16.000 --> 00:19.000]  We are going to be a part of the world.\n",
      "[00:19.000 --> 00:24.000]  We are going to be a part of the world.\n",
      "[00:24.000 --> 00:29.000]  We are going to be a part of the world.\n",
      "[00:29.000 --> 00:32.000]  We are going to be a part of the world.\n",
      "[00:32.000 --> 00:35.000]  We are going to be a part of the world.\n",
      "[00:35.000 --> 00:39.000]  This joy is going to be a part of my life.\n",
      "[00:39.000 --> 00:41.000]  I want to say something to my friends.\n",
      "[00:41.000 --> 00:43.000]  We need to find a piece of money.\n",
      "[00:43.000 --> 00:46.000]  I want to say something to my friends.\n",
      "[00:46.000 --> 00:48.000]  But I don't want to be a part of my life.\n",
      "[00:48.000 --> 00:50.000]  I need to be a part of the world.\n",
      "Transcribing /home/ouassim/Desktop/ss/stage/Data/Banque sonore des Dialectes Bretonnes/Audio/Audio/utt_06392.wav...\n"
     ]
    },
    {
     "name": "stderr",
     "output_type": "stream",
     "text": [
      "/home/ouassim/anaconda3/envs/stt-breton/lib/python3.10/site-packages/whisper/transcribe.py:126: UserWarning: FP16 is not supported on CPU; using FP32 instead\n",
      "  warnings.warn(\"FP16 is not supported on CPU; using FP32 instead\")\n"
     ]
    },
    {
     "name": "stdout",
     "output_type": "stream",
     "text": [
      "[00:00.000 --> 00:12.440]  fertig 我amos\n",
      "Transcribing /home/ouassim/Desktop/ss/stage/Data/Banque sonore des Dialectes Bretonnes/Audio/Audio/utt_01992.wav...\n"
     ]
    },
    {
     "name": "stderr",
     "output_type": "stream",
     "text": [
      "/home/ouassim/anaconda3/envs/stt-breton/lib/python3.10/site-packages/whisper/transcribe.py:126: UserWarning: FP16 is not supported on CPU; using FP32 instead\n",
      "  warnings.warn(\"FP16 is not supported on CPU; using FP32 instead\")\n"
     ]
    },
    {
     "name": "stdout",
     "output_type": "stream",
     "text": [
      "[00:00.760 --> 00:05.300]  Me no aga seniorlyh 28\n",
      "[00:05.360 --> 00:08.440]  Dia del Kele\n",
      "[00:08.500 --> 00:11.640]  Men\n",
      "[00:11.740 --> 00:16.740]  tilana gala\n",
      "[00:16.820 --> 00:21.840]  Tula de\n",
      "[00:21.940 --> 00:27.720]  Mat u\n",
      "[00:27.720 --> 00:30.460]  Notilean aline\n",
      "Transcribing /home/ouassim/Desktop/ss/stage/Data/Banque sonore des Dialectes Bretonnes/Audio/Audio/utt_02499.wav...\n"
     ]
    },
    {
     "name": "stderr",
     "output_type": "stream",
     "text": [
      "/home/ouassim/anaconda3/envs/stt-breton/lib/python3.10/site-packages/whisper/transcribe.py:126: UserWarning: FP16 is not supported on CPU; using FP32 instead\n",
      "  warnings.warn(\"FP16 is not supported on CPU; using FP32 instead\")\n"
     ]
    },
    {
     "name": "stdout",
     "output_type": "stream",
     "text": [
      "[00:00.000 --> 00:01.720] ��� rid Letter\n",
      "Transcribing /home/ouassim/Desktop/ss/stage/Data/Banque sonore des Dialectes Bretonnes/Audio/Audio/utt_04125.wav...\n"
     ]
    },
    {
     "name": "stderr",
     "output_type": "stream",
     "text": [
      "/home/ouassim/anaconda3/envs/stt-breton/lib/python3.10/site-packages/whisper/transcribe.py:126: UserWarning: FP16 is not supported on CPU; using FP32 instead\n",
      "  warnings.warn(\"FP16 is not supported on CPU; using FP32 instead\")\n"
     ]
    },
    {
     "name": "stdout",
     "output_type": "stream",
     "text": [
      "[00:00.000 --> 00:02.080]  Three can derm梓\n",
      "Transcribing /home/ouassim/Desktop/ss/stage/Data/Banque sonore des Dialectes Bretonnes/Audio/Audio/utt_05793.wav...\n"
     ]
    },
    {
     "name": "stderr",
     "output_type": "stream",
     "text": [
      "/home/ouassim/anaconda3/envs/stt-breton/lib/python3.10/site-packages/whisper/transcribe.py:126: UserWarning: FP16 is not supported on CPU; using FP32 instead\n",
      "  warnings.warn(\"FP16 is not supported on CPU; using FP32 instead\")\n"
     ]
    },
    {
     "name": "stdout",
     "output_type": "stream",
     "text": [
      "[00:00.000 --> 00:00.060]  Mannudez megals guthi\n",
      "[00:00.080 --> 00:00.500]  Это羨ныхity\n",
      "[00:02.420 --> 00:03.780]  菌羨 Mutta\n",
      "Transcribing /home/ouassim/Desktop/ss/stage/Data/Banque sonore des Dialectes Bretonnes/Audio/Audio/utt_03002.wav...\n"
     ]
    },
    {
     "name": "stderr",
     "output_type": "stream",
     "text": [
      "/home/ouassim/anaconda3/envs/stt-breton/lib/python3.10/site-packages/whisper/transcribe.py:126: UserWarning: FP16 is not supported on CPU; using FP32 instead\n",
      "  warnings.warn(\"FP16 is not supported on CPU; using FP32 instead\")\n"
     ]
    },
    {
     "name": "stdout",
     "output_type": "stream",
     "text": [
      "[00:00.000 --> 00:02.460]  o war king, eu praster就 beying\n",
      "Transcribing /home/ouassim/Desktop/ss/stage/Data/Banque sonore des Dialectes Bretonnes/Audio/Audio/utt_06186.wav...\n"
     ]
    },
    {
     "name": "stderr",
     "output_type": "stream",
     "text": [
      "/home/ouassim/anaconda3/envs/stt-breton/lib/python3.10/site-packages/whisper/transcribe.py:126: UserWarning: FP16 is not supported on CPU; using FP32 instead\n",
      "  warnings.warn(\"FP16 is not supported on CPU; using FP32 instead\")\n"
     ]
    },
    {
     "name": "stdout",
     "output_type": "stream",
     "text": [
      "[00:00.000 --> 00:02.000]  Mei, mis shan koi me brutumi\n",
      "[00:02.000 --> 00:04.000]  Mis shan koi me shan koi me brutumi\n",
      "[00:04.000 --> 00:06.000]  Mis shan koi me brutumi\n",
      "Transcribing /home/ouassim/Desktop/ss/stage/Data/Banque sonore des Dialectes Bretonnes/Audio/Audio/utt_01882.wav...\n"
     ]
    },
    {
     "name": "stderr",
     "output_type": "stream",
     "text": [
      "/home/ouassim/anaconda3/envs/stt-breton/lib/python3.10/site-packages/whisper/transcribe.py:126: UserWarning: FP16 is not supported on CPU; using FP32 instead\n",
      "  warnings.warn(\"FP16 is not supported on CPU; using FP32 instead\")\n"
     ]
    },
    {
     "name": "stdout",
     "output_type": "stream",
     "text": [
      "[00:00.000 --> 00:02.000]  Asello lontek mekiet\n",
      "[00:02.000 --> 00:04.000]  Ismaki lontek no?\n",
      "[00:04.000 --> 00:06.000]  Asello lontek mekiet\n",
      "[00:06.000 --> 00:10.000]  Ejao esell piensi sello lontek\n",
      "[00:10.000 --> 00:12.000]  Teo ar trallo lontek\n",
      "[00:12.000 --> 00:14.000]  Asello lontek ba muzek\n",
      "Transcribing /home/ouassim/Desktop/ss/stage/Data/Banque sonore des Dialectes Bretonnes/Audio/Audio/utt_02576.wav...\n"
     ]
    },
    {
     "name": "stderr",
     "output_type": "stream",
     "text": [
      "/home/ouassim/anaconda3/envs/stt-breton/lib/python3.10/site-packages/whisper/transcribe.py:126: UserWarning: FP16 is not supported on CPU; using FP32 instead\n",
      "  warnings.warn(\"FP16 is not supported on CPU; using FP32 instead\")\n"
     ]
    },
    {
     "name": "stdout",
     "output_type": "stream",
     "text": [
      "[00:00.000 --> 00:09.000]  Pyristuphe Jabarao, Azondamsegazondamseg pyristuphe Jabarao, Azondamsegazumam.\n",
      "[00:09.000 --> 00:18.000]  Agala, Agau, Agau, Agau, Pyristuphe, Gala, Agau, Pyristuphe Xavieral.\n",
      "Transcribing /home/ouassim/Desktop/ss/stage/Data/Banque sonore des Dialectes Bretonnes/Audio/Audio/utt_04609.wav...\n"
     ]
    },
    {
     "name": "stderr",
     "output_type": "stream",
     "text": [
      "/home/ouassim/anaconda3/envs/stt-breton/lib/python3.10/site-packages/whisper/transcribe.py:126: UserWarning: FP16 is not supported on CPU; using FP32 instead\n",
      "  warnings.warn(\"FP16 is not supported on CPU; using FP32 instead\")\n"
     ]
    },
    {
     "name": "stdout",
     "output_type": "stream",
     "text": [
      "[00:00.080 --> 00:00.620]  Yo yo dobасибо\n",
      "[00:00.780 --> 00:02.680]  T airport\n",
      "Transcribing /home/ouassim/Desktop/ss/stage/Data/Banque sonore des Dialectes Bretonnes/Audio/Audio/utt_02799.wav...\n"
     ]
    },
    {
     "name": "stderr",
     "output_type": "stream",
     "text": [
      "/home/ouassim/anaconda3/envs/stt-breton/lib/python3.10/site-packages/whisper/transcribe.py:126: UserWarning: FP16 is not supported on CPU; using FP32 instead\n",
      "  warnings.warn(\"FP16 is not supported on CPU; using FP32 instead\")\n"
     ]
    },
    {
     "name": "stdout",
     "output_type": "stream",
     "text": [
      "[00:00.000 --> 00:09.440] inese\n",
      "[00:13.960 --> 00:25.880]  ka\n",
      "Transcribing /home/ouassim/Desktop/ss/stage/Data/Banque sonore des Dialectes Bretonnes/Audio/Audio/utt_06622.wav...\n"
     ]
    },
    {
     "name": "stderr",
     "output_type": "stream",
     "text": [
      "/home/ouassim/anaconda3/envs/stt-breton/lib/python3.10/site-packages/whisper/transcribe.py:126: UserWarning: FP16 is not supported on CPU; using FP32 instead\n",
      "  warnings.warn(\"FP16 is not supported on CPU; using FP32 instead\")\n"
     ]
    },
    {
     "name": "stdout",
     "output_type": "stream",
     "text": [
      "[00:00.000 --> 00:04.700]  lady every day\n",
      "Transcribing /home/ouassim/Desktop/ss/stage/Data/Banque sonore des Dialectes Bretonnes/Audio/Audio/utt_01074.wav...\n"
     ]
    },
    {
     "name": "stderr",
     "output_type": "stream",
     "text": [
      "/home/ouassim/anaconda3/envs/stt-breton/lib/python3.10/site-packages/whisper/transcribe.py:126: UserWarning: FP16 is not supported on CPU; using FP32 instead\n",
      "  warnings.warn(\"FP16 is not supported on CPU; using FP32 instead\")\n"
     ]
    },
    {
     "name": "stdout",
     "output_type": "stream",
     "text": [
      "[00:00.000 --> 00:03.000]  Abéo, édeu, y'danghi, a verre,\n",
      "[00:03.000 --> 00:11.040]  belju, soyi, kong, natuna, sato, eh, de stew, da, da, la, la, la, noi, ké, drunbutu, ba, boi, loi,\n",
      "[00:11.040 --> 00:16.080]  i, bheirous, la, benarroa, sibitut, poya, un, da, quuna, i desimi,\n",
      "[00:16.080 --> 00:24.080]  beno, les vamb, mali, sibitli, poya, i mon, samb, et boutu, ag, la,\n",
      "[00:24.080 --> 00:28.080]  an, de sma, miet, nasimi, ou d'un pot, s'et,\n",
      "[00:28.080 --> 00:31.920]  puya, gui, et ké, dan, bheirous, i min, et ké, n'vil, wo, eh,\n",
      "[00:31.920 --> 00:36.880]  s'éture, rat, mire, n'e, n'e, au, tril, ag, et,\n",
      "[00:36.880 --> 00:41.520]  vo, eh, s'adlac, et, soq, d'ai, boutu, s'et, et, ké, t'en, de stew, bheirous,\n",
      "[00:41.520 --> 00:45.680]  et, ne, n'a, n'a, n'o, peur, ag, et, pas, mire,\n",
      "[00:45.680 --> 00:50.960]  s'et, au, ben, vamb, la, d'avoudau, on, lang, s'et, au, mon, la,\n",
      "[00:50.960 --> 00:53.500]  pro, et, bheirous, et, des, s'hèque, dan, n'a, n'a, n'o, phe, mire,\n",
      "[00:53.500 --> 00:58.760]  s'et, tu, ben, trek, wept, bah, bah, bah, voudau, s'et.\n",
      "Transcribing /home/ouassim/Desktop/ss/stage/Data/Banque sonore des Dialectes Bretonnes/Audio/Audio/utt_07197.wav...\n"
     ]
    },
    {
     "name": "stderr",
     "output_type": "stream",
     "text": [
      "/home/ouassim/anaconda3/envs/stt-breton/lib/python3.10/site-packages/whisper/transcribe.py:126: UserWarning: FP16 is not supported on CPU; using FP32 instead\n",
      "  warnings.warn(\"FP16 is not supported on CPU; using FP32 instead\")\n"
     ]
    },
    {
     "name": "stdout",
     "output_type": "stream",
     "text": [
      "[00:00.000 --> 00:03.440]  Zexisting Wandaya & Khme Jeanne Charm\n",
      "Transcribing /home/ouassim/Desktop/ss/stage/Data/Banque sonore des Dialectes Bretonnes/Audio/Audio/utt_04601.wav...\n"
     ]
    },
    {
     "name": "stderr",
     "output_type": "stream",
     "text": [
      "/home/ouassim/anaconda3/envs/stt-breton/lib/python3.10/site-packages/whisper/transcribe.py:126: UserWarning: FP16 is not supported on CPU; using FP32 instead\n",
      "  warnings.warn(\"FP16 is not supported on CPU; using FP32 instead\")\n"
     ]
    },
    {
     "name": "stdout",
     "output_type": "stream",
     "text": [
      "[00:00.000 --> 00:02.420]  y, ch misery年\n",
      "[00:02.460 --> 00:03.820]  wow\n",
      "Transcribing /home/ouassim/Desktop/ss/stage/Data/Banque sonore des Dialectes Bretonnes/Audio/Audio/utt_01543.wav...\n"
     ]
    },
    {
     "name": "stderr",
     "output_type": "stream",
     "text": [
      "/home/ouassim/anaconda3/envs/stt-breton/lib/python3.10/site-packages/whisper/transcribe.py:126: UserWarning: FP16 is not supported on CPU; using FP32 instead\n",
      "  warnings.warn(\"FP16 is not supported on CPU; using FP32 instead\")\n"
     ]
    },
    {
     "name": "stdout",
     "output_type": "stream",
     "text": [
      "[00:00.000 --> 00:05.440]   heterrorism 我們有關血壓用 假設enschance 我們加油\n",
      "Transcribing /home/ouassim/Desktop/ss/stage/Data/Banque sonore des Dialectes Bretonnes/Audio/Audio/utt_05909.wav...\n"
     ]
    },
    {
     "name": "stderr",
     "output_type": "stream",
     "text": [
      "/home/ouassim/anaconda3/envs/stt-breton/lib/python3.10/site-packages/whisper/transcribe.py:126: UserWarning: FP16 is not supported on CPU; using FP32 instead\n",
      "  warnings.warn(\"FP16 is not supported on CPU; using FP32 instead\")\n"
     ]
    },
    {
     "name": "stdout",
     "output_type": "stream",
     "text": [
      "[00:00.000 --> 00:01.000]  Madur\n",
      "Transcribing /home/ouassim/Desktop/ss/stage/Data/Banque sonore des Dialectes Bretonnes/Audio/Audio/utt_00132.wav...\n"
     ]
    },
    {
     "name": "stderr",
     "output_type": "stream",
     "text": [
      "/home/ouassim/anaconda3/envs/stt-breton/lib/python3.10/site-packages/whisper/transcribe.py:126: UserWarning: FP16 is not supported on CPU; using FP32 instead\n",
      "  warnings.warn(\"FP16 is not supported on CPU; using FP32 instead\")\n"
     ]
    },
    {
     "name": "stdout",
     "output_type": "stream",
     "text": [
      "[00:00.220 --> 00:02.600]  We each attract a menin whin\n",
      "[00:02.620 --> 00:04.120]  from flavouring the jorn\n",
      "Transcribing /home/ouassim/Desktop/ss/stage/Data/Banque sonore des Dialectes Bretonnes/Audio/Audio/utt_04394.wav...\n"
     ]
    },
    {
     "name": "stderr",
     "output_type": "stream",
     "text": [
      "/home/ouassim/anaconda3/envs/stt-breton/lib/python3.10/site-packages/whisper/transcribe.py:126: UserWarning: FP16 is not supported on CPU; using FP32 instead\n",
      "  warnings.warn(\"FP16 is not supported on CPU; using FP32 instead\")\n"
     ]
    },
    {
     "name": "stdout",
     "output_type": "stream",
     "text": [
      "[00:00.000 --> 00:01.740]  MegATE?\n",
      "[00:01.740 --> 00:17.820]  Nyeang when kway nyu mph\n",
      "Transcribing /home/ouassim/Desktop/ss/stage/Data/Banque sonore des Dialectes Bretonnes/Audio/Audio/utt_01421.wav...\n"
     ]
    },
    {
     "name": "stderr",
     "output_type": "stream",
     "text": [
      "/home/ouassim/anaconda3/envs/stt-breton/lib/python3.10/site-packages/whisper/transcribe.py:126: UserWarning: FP16 is not supported on CPU; using FP32 instead\n",
      "  warnings.warn(\"FP16 is not supported on CPU; using FP32 instead\")\n"
     ]
    },
    {
     "name": "stdout",
     "output_type": "stream",
     "text": [
      "[00:00.000 --> 00:15.380]  excellentStoutard also\n",
      "Transcribing /home/ouassim/Desktop/ss/stage/Data/Banque sonore des Dialectes Bretonnes/Audio/Audio/utt_03668.wav...\n"
     ]
    },
    {
     "name": "stderr",
     "output_type": "stream",
     "text": [
      "/home/ouassim/anaconda3/envs/stt-breton/lib/python3.10/site-packages/whisper/transcribe.py:126: UserWarning: FP16 is not supported on CPU; using FP32 instead\n",
      "  warnings.warn(\"FP16 is not supported on CPU; using FP32 instead\")\n"
     ]
    },
    {
     "name": "stdout",
     "output_type": "stream",
     "text": [
      "[00:00.000 --> 00:02.780]  Hadi, hell bschstig !\n",
      "Transcribing /home/ouassim/Desktop/ss/stage/Data/Banque sonore des Dialectes Bretonnes/Audio/Audio/utt_02934.wav...\n"
     ]
    },
    {
     "name": "stderr",
     "output_type": "stream",
     "text": [
      "/home/ouassim/anaconda3/envs/stt-breton/lib/python3.10/site-packages/whisper/transcribe.py:126: UserWarning: FP16 is not supported on CPU; using FP32 instead\n",
      "  warnings.warn(\"FP16 is not supported on CPU; using FP32 instead\")\n"
     ]
    },
    {
     "name": "stdout",
     "output_type": "stream",
     "text": [
      "[00:00.560 --> 00:02.180]  ...diriby äh umo\n",
      "[00:02.180 --> 00:03.040]  으\n",
      "Transcribing /home/ouassim/Desktop/ss/stage/Data/Banque sonore des Dialectes Bretonnes/Audio/Audio/utt_04168.wav...\n"
     ]
    },
    {
     "name": "stderr",
     "output_type": "stream",
     "text": [
      "/home/ouassim/anaconda3/envs/stt-breton/lib/python3.10/site-packages/whisper/transcribe.py:126: UserWarning: FP16 is not supported on CPU; using FP32 instead\n",
      "  warnings.warn(\"FP16 is not supported on CPU; using FP32 instead\")\n"
     ]
    },
    {
     "name": "stdout",
     "output_type": "stream",
     "text": [
      "[00:00.000 --> 00:02.620]  Nezettinooti tochὸ stre티 bellet\n",
      "Transcribing /home/ouassim/Desktop/ss/stage/Data/Banque sonore des Dialectes Bretonnes/Audio/Audio/utt_05483.wav...\n"
     ]
    },
    {
     "name": "stderr",
     "output_type": "stream",
     "text": [
      "/home/ouassim/anaconda3/envs/stt-breton/lib/python3.10/site-packages/whisper/transcribe.py:126: UserWarning: FP16 is not supported on CPU; using FP32 instead\n",
      "  warnings.warn(\"FP16 is not supported on CPU; using FP32 instead\")\n"
     ]
    },
    {
     "name": "stdout",
     "output_type": "stream",
     "text": [
      "[00:00.000 --> 00:02.240] 很可怕\n",
      "Transcribing /home/ouassim/Desktop/ss/stage/Data/Banque sonore des Dialectes Bretonnes/Audio/Audio/utt_03127.wav...\n"
     ]
    },
    {
     "name": "stderr",
     "output_type": "stream",
     "text": [
      "/home/ouassim/anaconda3/envs/stt-breton/lib/python3.10/site-packages/whisper/transcribe.py:126: UserWarning: FP16 is not supported on CPU; using FP32 instead\n",
      "  warnings.warn(\"FP16 is not supported on CPU; using FP32 instead\")\n"
     ]
    },
    {
     "name": "stdout",
     "output_type": "stream",
     "text": [
      "[00:00.000 --> 00:04.420]  Undyterophia, avoebezonixUMOro\n",
      "Transcribing /home/ouassim/Desktop/ss/stage/Data/Banque sonore des Dialectes Bretonnes/Audio/Audio/utt_03849.wav...\n"
     ]
    },
    {
     "name": "stderr",
     "output_type": "stream",
     "text": [
      "/home/ouassim/anaconda3/envs/stt-breton/lib/python3.10/site-packages/whisper/transcribe.py:126: UserWarning: FP16 is not supported on CPU; using FP32 instead\n",
      "  warnings.warn(\"FP16 is not supported on CPU; using FP32 instead\")\n"
     ]
    },
    {
     "name": "stdout",
     "output_type": "stream",
     "text": [
      "[00:00.000 --> 00:01.880]  Shawn medal\n",
      "Transcribing /home/ouassim/Desktop/ss/stage/Data/Banque sonore des Dialectes Bretonnes/Audio/Audio/utt_06898.wav...\n"
     ]
    },
    {
     "name": "stderr",
     "output_type": "stream",
     "text": [
      "/home/ouassim/anaconda3/envs/stt-breton/lib/python3.10/site-packages/whisper/transcribe.py:126: UserWarning: FP16 is not supported on CPU; using FP32 instead\n",
      "  warnings.warn(\"FP16 is not supported on CPU; using FP32 instead\")\n"
     ]
    },
    {
     "name": "stdout",
     "output_type": "stream",
     "text": [
      "[00:00.000 --> 00:02.200]  I will not поряд given the same name\n",
      "Transcribing /home/ouassim/Desktop/ss/stage/Data/Banque sonore des Dialectes Bretonnes/Audio/Audio/utt_02402.wav...\n"
     ]
    },
    {
     "name": "stderr",
     "output_type": "stream",
     "text": [
      "/home/ouassim/anaconda3/envs/stt-breton/lib/python3.10/site-packages/whisper/transcribe.py:126: UserWarning: FP16 is not supported on CPU; using FP32 instead\n",
      "  warnings.warn(\"FP16 is not supported on CPU; using FP32 instead\")\n"
     ]
    },
    {
     "name": "stdout",
     "output_type": "stream",
     "text": [
      "[00:00.000 --> 00:00.500]  Thank you.\n",
      "Transcribing /home/ouassim/Desktop/ss/stage/Data/Banque sonore des Dialectes Bretonnes/Audio/Audio/utt_06364.wav...\n"
     ]
    },
    {
     "name": "stderr",
     "output_type": "stream",
     "text": [
      "/home/ouassim/anaconda3/envs/stt-breton/lib/python3.10/site-packages/whisper/transcribe.py:126: UserWarning: FP16 is not supported on CPU; using FP32 instead\n",
      "  warnings.warn(\"FP16 is not supported on CPU; using FP32 instead\")\n"
     ]
    },
    {
     "name": "stdout",
     "output_type": "stream",
     "text": [
      "[00:00.000 --> 00:21.380]  s\n",
      "Transcribing /home/ouassim/Desktop/ss/stage/Data/Banque sonore des Dialectes Bretonnes/Audio/Audio/utt_05300.wav...\n"
     ]
    },
    {
     "name": "stderr",
     "output_type": "stream",
     "text": [
      "/home/ouassim/anaconda3/envs/stt-breton/lib/python3.10/site-packages/whisper/transcribe.py:126: UserWarning: FP16 is not supported on CPU; using FP32 instead\n",
      "  warnings.warn(\"FP16 is not supported on CPU; using FP32 instead\")\n"
     ]
    },
    {
     "name": "stdout",
     "output_type": "stream",
     "text": [
      "[00:00.640 --> 00:02.340]  Ah psi阿 81\n",
      "[00:04.340 --> 00:05.120]  Ah betHa\n",
      "[00:05.180 --> 00:05.700]  Ah cад\n",
      "[00:07.780 --> 00:09.100]  sheep\n",
      "[00:10.280 --> 00:11.440]  M Sad\n",
      "[00:11.460 --> 00:12.040]  M cant\n",
      "[00:12.060 --> 00:13.940]  S\n",
      "Transcribing /home/ouassim/Desktop/ss/stage/Data/Banque sonore des Dialectes Bretonnes/Audio/Audio/utt_01632.wav...\n"
     ]
    },
    {
     "name": "stderr",
     "output_type": "stream",
     "text": [
      "/home/ouassim/anaconda3/envs/stt-breton/lib/python3.10/site-packages/whisper/transcribe.py:126: UserWarning: FP16 is not supported on CPU; using FP32 instead\n",
      "  warnings.warn(\"FP16 is not supported on CPU; using FP32 instead\")\n"
     ]
    },
    {
     "name": "stdout",
     "output_type": "stream",
     "text": [
      "[00:00.000 --> 00:02.080]  N'eyo gah gal na ber geo\n",
      "[00:02.080 --> 00:04.760]  agir a nghian ja ny\n",
      "[00:05.120 --> 00:06.980]  tuter defu wa j philosophical\n",
      "[00:07.320 --> 00:08.140]  brain\n",
      "[00:08.400 --> 00:12.320]  ke fore kha navji ni dozha kanag un\n",
      "Transcribing /home/ouassim/Desktop/ss/stage/Data/Banque sonore des Dialectes Bretonnes/Audio/Audio/utt_05926.wav...\n"
     ]
    },
    {
     "name": "stderr",
     "output_type": "stream",
     "text": [
      "/home/ouassim/anaconda3/envs/stt-breton/lib/python3.10/site-packages/whisper/transcribe.py:126: UserWarning: FP16 is not supported on CPU; using FP32 instead\n",
      "  warnings.warn(\"FP16 is not supported on CPU; using FP32 instead\")\n"
     ]
    },
    {
     "name": "stdout",
     "output_type": "stream",
     "text": [
      "[00:00.000 --> 00:01.000]  Do you?\n",
      "Transcribing /home/ouassim/Desktop/ss/stage/Data/Banque sonore des Dialectes Bretonnes/Audio/Audio/utt_05363.wav...\n"
     ]
    },
    {
     "name": "stderr",
     "output_type": "stream",
     "text": [
      "/home/ouassim/anaconda3/envs/stt-breton/lib/python3.10/site-packages/whisper/transcribe.py:126: UserWarning: FP16 is not supported on CPU; using FP32 instead\n",
      "  warnings.warn(\"FP16 is not supported on CPU; using FP32 instead\")\n"
     ]
    },
    {
     "name": "stdout",
     "output_type": "stream",
     "text": [
      "[00:00.000 --> 00:01.680]  ...a Meyer zu ellnej hajel\n",
      "Transcribing /home/ouassim/Desktop/ss/stage/Data/Banque sonore des Dialectes Bretonnes/Audio/Audio/utt_01512.wav...\n"
     ]
    },
    {
     "name": "stderr",
     "output_type": "stream",
     "text": [
      "/home/ouassim/anaconda3/envs/stt-breton/lib/python3.10/site-packages/whisper/transcribe.py:126: UserWarning: FP16 is not supported on CPU; using FP32 instead\n",
      "  warnings.warn(\"FP16 is not supported on CPU; using FP32 instead\")\n"
     ]
    },
    {
     "name": "stdout",
     "output_type": "stream",
     "text": [
      "[00:00.000 --> 00:02.000]  Yes, black.\n",
      "[00:02.000 --> 00:05.000]  Makinosoradi.\n",
      "[00:05.000 --> 00:07.000]  No.\n",
      "[00:07.000 --> 00:09.000]  Lostoradi.\n",
      "[00:09.000 --> 00:11.000]  I know.\n",
      "[00:11.000 --> 00:15.000]  Lostoradi was a 20-year-old, but I was born in the world.\n",
      "[00:15.000 --> 00:19.000]  I was born in the old days.\n",
      "[00:19.000 --> 00:22.000]  I was born in the old days.\n",
      "[00:22.000 --> 00:25.000]  I was born in the old days.\n",
      "[00:25.000 --> 00:28.000]  I was born in the old days.\n",
      "[00:28.000 --> 00:33.000]  I had no bad experience,\n",
      "[00:33.000 --> 00:35.000]  So, tell me,\n",
      "[00:35.000 --> 00:40.000]  Sure talk my beginning story.\n",
      "[00:40.000 --> 00:43.000]  But I couldn't see it.\n",
      "Transcribing /home/ouassim/Desktop/ss/stage/Data/Banque sonore des Dialectes Bretonnes/Audio/Audio/utt_01656.wav...\n"
     ]
    },
    {
     "name": "stderr",
     "output_type": "stream",
     "text": [
      "/home/ouassim/anaconda3/envs/stt-breton/lib/python3.10/site-packages/whisper/transcribe.py:126: UserWarning: FP16 is not supported on CPU; using FP32 instead\n",
      "  warnings.warn(\"FP16 is not supported on CPU; using FP32 instead\")\n"
     ]
    },
    {
     "name": "stdout",
     "output_type": "stream",
     "text": [
      "[00:00.000 --> 00:06.640]  factories have you like these ways ?!\n",
      "[00:06.640 --> 00:10.040]  families\n",
      "Transcribing /home/ouassim/Desktop/ss/stage/Data/Banque sonore des Dialectes Bretonnes/Audio/Audio/utt_05457.wav...\n"
     ]
    },
    {
     "name": "stderr",
     "output_type": "stream",
     "text": [
      "/home/ouassim/anaconda3/envs/stt-breton/lib/python3.10/site-packages/whisper/transcribe.py:126: UserWarning: FP16 is not supported on CPU; using FP32 instead\n",
      "  warnings.warn(\"FP16 is not supported on CPU; using FP32 instead\")\n"
     ]
    },
    {
     "name": "stdout",
     "output_type": "stream",
     "text": [
      "[00:00.000 --> 00:01.340]  Maxine Gornkin.\n",
      "[00:01.460 --> 00:29.680] 西\n",
      "[00:59.680 --> 01:29.680]  Maam Nuss, ah, ah, ah, ah, ah, ah, ah, ah, ah, ah, ah, ah, ah, ah, ah, ah, ah, ah, ah, ah, ah, ah, ah, ah, ah, ah, ah, ah, ah, ah, ah, ah, ah, ah, ah, ah, ah, ah, ah, ah, ah, ah, ah, ah, ah, ah, ah, ah, ah, ah, ah, ah, ah, ah, ah, ah, ah, ah, ah, ah, ah, ah, ah, ah, ah, ah, ah, ah, ah, ah, ah, ah, ah, ah, ah, ah, ah, ah, ah, ah, ah, ah, ah, ah, ah, ah, ah, ah, ah, ah, ah, ah, ah, ah, ah, ah, ah, ah, ah, ah, ah, ah, ah, ah, ah, ah, ah, ah, ah,\n",
      "[01:29.680 --> 01:59.680]  ah, ah, ah, ah, ah, ah ah, ah,, ah, ah, ah ah, ah, ah, ah ah, ah, ah, ah, ah, ah, ah, ah, ah, ah, ah, ah, ah, ah,ah, ah, ah, ah, ah, ah, ah, ah ah, ah, ah, ah, ah, ah, ah, ah, ah, ah, ah, ah, ah, ah, ah, ah, ah, ah, ah, ah, ah, ah, ah, ah, ah, ah, ah, ah, ah, ah, ah, ah, ah, ah, ah, ah, ah, ah, ah, ah, ah, ah, ah, . ah, ah, ah, ah, ah, doing great, ah, ah, ah, ah, ah, ah, ah, ah, ah ah, ah, ah, ah, ah, ah, ah, ah, ah. ah, ah, ah, ah, ah, ah, ah, ah\n",
      "[01:59.680 --> 02:19.980]  So,\n",
      "Transcribing /home/ouassim/Desktop/ss/stage/Data/Banque sonore des Dialectes Bretonnes/Audio/Audio/utt_03279.wav...\n"
     ]
    },
    {
     "name": "stderr",
     "output_type": "stream",
     "text": [
      "/home/ouassim/anaconda3/envs/stt-breton/lib/python3.10/site-packages/whisper/transcribe.py:126: UserWarning: FP16 is not supported on CPU; using FP32 instead\n",
      "  warnings.warn(\"FP16 is not supported on CPU; using FP32 instead\")\n"
     ]
    },
    {
     "name": "stdout",
     "output_type": "stream",
     "text": [
      "[00:00.000 --> 00:03.360]   지금까지��óp rápiti\n",
      "Transcribing /home/ouassim/Desktop/ss/stage/Data/Banque sonore des Dialectes Bretonnes/Audio/Audio/utt_00381.wav...\n"
     ]
    },
    {
     "name": "stderr",
     "output_type": "stream",
     "text": [
      "/home/ouassim/anaconda3/envs/stt-breton/lib/python3.10/site-packages/whisper/transcribe.py:126: UserWarning: FP16 is not supported on CPU; using FP32 instead\n",
      "  warnings.warn(\"FP16 is not supported on CPU; using FP32 instead\")\n"
     ]
    },
    {
     "name": "stdout",
     "output_type": "stream",
     "text": [
      "[00:00.000 --> 00:01.000]  Nekudut!\n",
      "Transcribing /home/ouassim/Desktop/ss/stage/Data/Banque sonore des Dialectes Bretonnes/Audio/Audio/utt_04325.wav...\n"
     ]
    },
    {
     "name": "stderr",
     "output_type": "stream",
     "text": [
      "/home/ouassim/anaconda3/envs/stt-breton/lib/python3.10/site-packages/whisper/transcribe.py:126: UserWarning: FP16 is not supported on CPU; using FP32 instead\n",
      "  warnings.warn(\"FP16 is not supported on CPU; using FP32 instead\")\n"
     ]
    },
    {
     "name": "stdout",
     "output_type": "stream",
     "text": [
      "[00:00.000 --> 00:02.000]  Misia note per meduarylet\n",
      "Transcribing /home/ouassim/Desktop/ss/stage/Data/Banque sonore des Dialectes Bretonnes/Audio/Audio/utt_02229.wav...\n"
     ]
    },
    {
     "name": "stderr",
     "output_type": "stream",
     "text": [
      "/home/ouassim/anaconda3/envs/stt-breton/lib/python3.10/site-packages/whisper/transcribe.py:126: UserWarning: FP16 is not supported on CPU; using FP32 instead\n",
      "  warnings.warn(\"FP16 is not supported on CPU; using FP32 instead\")\n"
     ]
    },
    {
     "name": "stdout",
     "output_type": "stream",
     "text": [
      "[00:00.000 --> 00:03.380]  a nun andrem la distra de la cabaqueroja,\n",
      "[00:04.320 --> 00:05.420]  mantulo.\n",
      "[00:05.420 --> 00:08.480]  Asa de tape oxi dama tenas je diun maan NSAP\n",
      "[00:09.860 --> 00:10.760]  topo uh\n",
      "[00:10.940 --> 00:13.200]  omaried me ban tul ho,\n",
      "[00:13.200 --> 00:14.400]  nege dipling\n",
      "[00:14.400 --> 00:18.960]  sin damaín y un gian tir ak Upton\n",
      "[00:19.200 --> 00:21.460]  ak kantiganoo\n",
      "[00:21.520 --> 00:27.960] rying zin\n",
      "[00:27.960 --> 00:31.220] 歡喜カ sel familia\n",
      "[00:33.340 --> 00:34.360]  cake\n",
      "[00:34.440 --> 00:36.460]  eigenlijk\n",
      "[00:36.520 --> 00:38.000]  cu\n",
      "[00:38.040 --> 00:38.660]  po\n",
      "[00:38.740 --> 00:41.700]  p\n",
      "[00:41.740 --> 00:43.460]  bu\n",
      "[00:43.460 --> 00:45.000]  c\n",
      "[00:45.060 --> 00:46.280]  bu\n",
      "[00:46.280 --> 00:48.140]  terrible\n",
      "[00:49.600 --> 00:50.920]  en\n",
      "[00:50.920 --> 00:53.640]  oh\n",
      "[00:53.740 --> 00:53.960]  e\n",
      "[00:53.960 --> 00:54.440]  mi\n",
      "[00:54.460 --> 00:55.700]  under\n",
      "Transcribing /home/ouassim/Desktop/ss/stage/Data/Banque sonore des Dialectes Bretonnes/Audio/Audio/utt_04582.wav...\n"
     ]
    },
    {
     "name": "stderr",
     "output_type": "stream",
     "text": [
      "/home/ouassim/anaconda3/envs/stt-breton/lib/python3.10/site-packages/whisper/transcribe.py:126: UserWarning: FP16 is not supported on CPU; using FP32 instead\n",
      "  warnings.warn(\"FP16 is not supported on CPU; using FP32 instead\")\n"
     ]
    },
    {
     "name": "stdout",
     "output_type": "stream",
     "text": [
      "[00:00.000 --> 00:02.400]  Ichon n'th oder ich ...\n",
      "Transcribing /home/ouassim/Desktop/ss/stage/Data/Banque sonore des Dialectes Bretonnes/Audio/Audio/utt_06493.wav...\n"
     ]
    },
    {
     "name": "stderr",
     "output_type": "stream",
     "text": [
      "/home/ouassim/anaconda3/envs/stt-breton/lib/python3.10/site-packages/whisper/transcribe.py:126: UserWarning: FP16 is not supported on CPU; using FP32 instead\n",
      "  warnings.warn(\"FP16 is not supported on CPU; using FP32 instead\")\n"
     ]
    },
    {
     "name": "stdout",
     "output_type": "stream",
     "text": [
      "[00:00.000 --> 00:16.240]  Eighthつ gyres,\n",
      "Transcribing /home/ouassim/Desktop/ss/stage/Data/Banque sonore des Dialectes Bretonnes/Audio/Audio/utt_00393.wav...\n"
     ]
    },
    {
     "name": "stderr",
     "output_type": "stream",
     "text": [
      "/home/ouassim/anaconda3/envs/stt-breton/lib/python3.10/site-packages/whisper/transcribe.py:126: UserWarning: FP16 is not supported on CPU; using FP32 instead\n",
      "  warnings.warn(\"FP16 is not supported on CPU; using FP32 instead\")\n"
     ]
    },
    {
     "name": "stdout",
     "output_type": "stream",
     "text": [
      "[00:00.000 --> 00:02.540]  Just live happily under the Southland with love\n",
      "Transcribing /home/ouassim/Desktop/ss/stage/Data/Banque sonore des Dialectes Bretonnes/Audio/Audio/utt_02664.wav...\n"
     ]
    },
    {
     "name": "stderr",
     "output_type": "stream",
     "text": [
      "/home/ouassim/anaconda3/envs/stt-breton/lib/python3.10/site-packages/whisper/transcribe.py:126: UserWarning: FP16 is not supported on CPU; using FP32 instead\n",
      "  warnings.warn(\"FP16 is not supported on CPU; using FP32 instead\")\n"
     ]
    },
    {
     "name": "stdout",
     "output_type": "stream",
     "text": [
      "[00:00.000 --> 00:03.900]  habe Continue\n",
      "Transcribing /home/ouassim/Desktop/ss/stage/Data/Banque sonore des Dialectes Bretonnes/Audio/Audio/utt_01315.wav...\n"
     ]
    },
    {
     "name": "stderr",
     "output_type": "stream",
     "text": [
      "/home/ouassim/anaconda3/envs/stt-breton/lib/python3.10/site-packages/whisper/transcribe.py:126: UserWarning: FP16 is not supported on CPU; using FP32 instead\n",
      "  warnings.warn(\"FP16 is not supported on CPU; using FP32 instead\")\n"
     ]
    },
    {
     "name": "stdout",
     "output_type": "stream",
     "text": [
      "[00:00.000 --> 00:02.560]  hydama\n",
      "Transcribing /home/ouassim/Desktop/ss/stage/Data/Banque sonore des Dialectes Bretonnes/Audio/Audio/utt_04614.wav...\n"
     ]
    },
    {
     "name": "stderr",
     "output_type": "stream",
     "text": [
      "/home/ouassim/anaconda3/envs/stt-breton/lib/python3.10/site-packages/whisper/transcribe.py:126: UserWarning: FP16 is not supported on CPU; using FP32 instead\n",
      "  warnings.warn(\"FP16 is not supported on CPU; using FP32 instead\")\n"
     ]
    },
    {
     "name": "stdout",
     "output_type": "stream",
     "text": [
      "[00:00.000 --> 00:02.580]  Meøhi petras sin de tobog.\n",
      "Transcribing /home/ouassim/Desktop/ss/stage/Data/Banque sonore des Dialectes Bretonnes/Audio/Audio/utt_06913.wav...\n"
     ]
    },
    {
     "name": "stderr",
     "output_type": "stream",
     "text": [
      "/home/ouassim/anaconda3/envs/stt-breton/lib/python3.10/site-packages/whisper/transcribe.py:126: UserWarning: FP16 is not supported on CPU; using FP32 instead\n",
      "  warnings.warn(\"FP16 is not supported on CPU; using FP32 instead\")\n"
     ]
    },
    {
     "name": "stdout",
     "output_type": "stream",
     "text": [
      "[00:00.000 --> 00:01.520]  Reduce an quadubrata\n",
      "Transcribing /home/ouassim/Desktop/ss/stage/Data/Banque sonore des Dialectes Bretonnes/Audio/Audio/utt_00251.wav...\n"
     ]
    },
    {
     "name": "stderr",
     "output_type": "stream",
     "text": [
      "/home/ouassim/anaconda3/envs/stt-breton/lib/python3.10/site-packages/whisper/transcribe.py:126: UserWarning: FP16 is not supported on CPU; using FP32 instead\n",
      "  warnings.warn(\"FP16 is not supported on CPU; using FP32 instead\")\n"
     ]
    },
    {
     "name": "stdout",
     "output_type": "stream",
     "text": [
      "[00:00.000 --> 00:02.040]  很虐陽\n",
      "Transcribing /home/ouassim/Desktop/ss/stage/Data/Banque sonore des Dialectes Bretonnes/Audio/Audio/utt_06780.wav...\n"
     ]
    },
    {
     "name": "stderr",
     "output_type": "stream",
     "text": [
      "/home/ouassim/anaconda3/envs/stt-breton/lib/python3.10/site-packages/whisper/transcribe.py:126: UserWarning: FP16 is not supported on CPU; using FP32 instead\n",
      "  warnings.warn(\"FP16 is not supported on CPU; using FP32 instead\")\n"
     ]
    },
    {
     "name": "stdout",
     "output_type": "stream",
     "text": [
      "[00:00.000 --> 00:06.240]   gownay 번), ප ˹ss PA AdamāliyaYA\n",
      "Transcribing /home/ouassim/Desktop/ss/stage/Data/Banque sonore des Dialectes Bretonnes/Audio/Audio/utt_07021.wav...\n"
     ]
    },
    {
     "name": "stderr",
     "output_type": "stream",
     "text": [
      "/home/ouassim/anaconda3/envs/stt-breton/lib/python3.10/site-packages/whisper/transcribe.py:126: UserWarning: FP16 is not supported on CPU; using FP32 instead\n",
      "  warnings.warn(\"FP16 is not supported on CPU; using FP32 instead\")\n"
     ]
    },
    {
     "name": "stdout",
     "output_type": "stream",
     "text": [
      "[00:00.000 --> 00:04.040]  Ay..... And now we will begin with the beginning of the universe!\n",
      "Transcribing /home/ouassim/Desktop/ss/stage/Data/Banque sonore des Dialectes Bretonnes/Audio/Audio/utt_02689.wav...\n"
     ]
    },
    {
     "name": "stderr",
     "output_type": "stream",
     "text": [
      "/home/ouassim/anaconda3/envs/stt-breton/lib/python3.10/site-packages/whisper/transcribe.py:126: UserWarning: FP16 is not supported on CPU; using FP32 instead\n",
      "  warnings.warn(\"FP16 is not supported on CPU; using FP32 instead\")\n"
     ]
    },
    {
     "name": "stdout",
     "output_type": "stream",
     "text": [
      "[00:00.000 --> 00:11.800]  No...\n",
      "Transcribing /home/ouassim/Desktop/ss/stage/Data/Banque sonore des Dialectes Bretonnes/Audio/Audio/utt_02771.wav...\n"
     ]
    },
    {
     "name": "stderr",
     "output_type": "stream",
     "text": [
      "/home/ouassim/anaconda3/envs/stt-breton/lib/python3.10/site-packages/whisper/transcribe.py:126: UserWarning: FP16 is not supported on CPU; using FP32 instead\n",
      "  warnings.warn(\"FP16 is not supported on CPU; using FP32 instead\")\n"
     ]
    },
    {
     "name": "stdout",
     "output_type": "stream",
     "text": [
      "[00:00.000 --> 00:01.940]  Lemkeda Liestagonpe\n",
      "Transcribing /home/ouassim/Desktop/ss/stage/Data/Banque sonore des Dialectes Bretonnes/Audio/Audio/utt_01916.wav...\n"
     ]
    },
    {
     "name": "stderr",
     "output_type": "stream",
     "text": [
      "/home/ouassim/anaconda3/envs/stt-breton/lib/python3.10/site-packages/whisper/transcribe.py:126: UserWarning: FP16 is not supported on CPU; using FP32 instead\n",
      "  warnings.warn(\"FP16 is not supported on CPU; using FP32 instead\")\n"
     ]
    },
    {
     "name": "stdout",
     "output_type": "stream",
     "text": [
      "[00:00.000 --> 00:03.500]  Just a big erosion, they are sure it big erosion.\n",
      "Transcribing /home/ouassim/Desktop/ss/stage/Data/Banque sonore des Dialectes Bretonnes/Audio/Audio/utt_00676.wav...\n"
     ]
    },
    {
     "name": "stderr",
     "output_type": "stream",
     "text": [
      "/home/ouassim/anaconda3/envs/stt-breton/lib/python3.10/site-packages/whisper/transcribe.py:126: UserWarning: FP16 is not supported on CPU; using FP32 instead\n",
      "  warnings.warn(\"FP16 is not supported on CPU; using FP32 instead\")\n"
     ]
    },
    {
     "name": "stdout",
     "output_type": "stream",
     "text": [
      "[00:00.040 --> 00:00.800]  super\n",
      "[00:00.800 --> 00:02.280]  She was a better person than the girl\n",
      "[00:03.560 --> 00:09.200]  by\n",
      "Transcribing /home/ouassim/Desktop/ss/stage/Data/Banque sonore des Dialectes Bretonnes/Audio/Audio/utt_01858.wav...\n"
     ]
    },
    {
     "name": "stderr",
     "output_type": "stream",
     "text": [
      "/home/ouassim/anaconda3/envs/stt-breton/lib/python3.10/site-packages/whisper/transcribe.py:126: UserWarning: FP16 is not supported on CPU; using FP32 instead\n",
      "  warnings.warn(\"FP16 is not supported on CPU; using FP32 instead\")\n"
     ]
    },
    {
     "name": "stdout",
     "output_type": "stream",
     "text": [
      "[00:00.000 --> 00:03.680]  Body of T passenger\n",
      "[00:03.680 --> 00:08.300]  I am\n",
      "Transcribing /home/ouassim/Desktop/ss/stage/Data/Banque sonore des Dialectes Bretonnes/Audio/Audio/utt_05590.wav...\n"
     ]
    },
    {
     "name": "stderr",
     "output_type": "stream",
     "text": [
      "/home/ouassim/anaconda3/envs/stt-breton/lib/python3.10/site-packages/whisper/transcribe.py:126: UserWarning: FP16 is not supported on CPU; using FP32 instead\n",
      "  warnings.warn(\"FP16 is not supported on CPU; using FP32 instead\")\n"
     ]
    },
    {
     "name": "stdout",
     "output_type": "stream",
     "text": [
      "[00:00.000 --> 00:01.680]  Palου blauuunagi!\n",
      "Transcribing /home/ouassim/Desktop/ss/stage/Data/Banque sonore des Dialectes Bretonnes/Audio/Audio/utt_06580.wav...\n"
     ]
    },
    {
     "name": "stderr",
     "output_type": "stream",
     "text": [
      "/home/ouassim/anaconda3/envs/stt-breton/lib/python3.10/site-packages/whisper/transcribe.py:126: UserWarning: FP16 is not supported on CPU; using FP32 instead\n",
      "  warnings.warn(\"FP16 is not supported on CPU; using FP32 instead\")\n"
     ]
    },
    {
     "name": "stdout",
     "output_type": "stream",
     "text": [
      "[00:00.000 --> 00:02.020]  A Still Heledge jeu bloton\n",
      "[00:02.020 --> 00:04.320]  Uftai Hétoun, Dupakeir\n",
      "[00:04.320 --> 00:05.940]  Normson silk!\n",
      "[00:05.940 --> 00:07.020]  Ma Meskein\n",
      "Transcribing /home/ouassim/Desktop/ss/stage/Data/Banque sonore des Dialectes Bretonnes/Audio/Audio/utt_01452.wav...\n"
     ]
    },
    {
     "name": "stderr",
     "output_type": "stream",
     "text": [
      "/home/ouassim/anaconda3/envs/stt-breton/lib/python3.10/site-packages/whisper/transcribe.py:126: UserWarning: FP16 is not supported on CPU; using FP32 instead\n",
      "  warnings.warn(\"FP16 is not supported on CPU; using FP32 instead\")\n"
     ]
    },
    {
     "name": "stdout",
     "output_type": "stream",
     "text": [
      "[00:00.000 --> 00:03.620]  By becomingrr astronomer\n",
      "Transcribing /home/ouassim/Desktop/ss/stage/Data/Banque sonore des Dialectes Bretonnes/Audio/Audio/utt_06494.wav...\n"
     ]
    },
    {
     "name": "stderr",
     "output_type": "stream",
     "text": [
      "/home/ouassim/anaconda3/envs/stt-breton/lib/python3.10/site-packages/whisper/transcribe.py:126: UserWarning: FP16 is not supported on CPU; using FP32 instead\n",
      "  warnings.warn(\"FP16 is not supported on CPU; using FP32 instead\")\n"
     ]
    },
    {
     "name": "stdout",
     "output_type": "stream",
     "text": [
      "[00:00.000 --> 00:01.700]  Ya ya on last interview\n",
      "[00:01.700 --> 00:07.120]  Charles\n",
      "Transcribing /home/ouassim/Desktop/ss/stage/Data/Banque sonore des Dialectes Bretonnes/Audio/Audio/utt_04668.wav...\n"
     ]
    },
    {
     "name": "stderr",
     "output_type": "stream",
     "text": [
      "/home/ouassim/anaconda3/envs/stt-breton/lib/python3.10/site-packages/whisper/transcribe.py:126: UserWarning: FP16 is not supported on CPU; using FP32 instead\n",
      "  warnings.warn(\"FP16 is not supported on CPU; using FP32 instead\")\n"
     ]
    },
    {
     "name": "stdout",
     "output_type": "stream",
     "text": [
      "[00:00.340 --> 00:01.160]  clothesenár真晚\n",
      "[00:01.500 --> 00:03.000]  gave to get\n",
      "[00:03.280 --> 00:03.400]  given men\n",
      "[00:03.700 --> 00:04.180]  to vital\n",
      "Transcribing /home/ouassim/Desktop/ss/stage/Data/Banque sonore des Dialectes Bretonnes/Audio/Audio/utt_04743.wav...\n"
     ]
    },
    {
     "name": "stderr",
     "output_type": "stream",
     "text": [
      "/home/ouassim/anaconda3/envs/stt-breton/lib/python3.10/site-packages/whisper/transcribe.py:126: UserWarning: FP16 is not supported on CPU; using FP32 instead\n",
      "  warnings.warn(\"FP16 is not supported on CPU; using FP32 instead\")\n"
     ]
    },
    {
     "name": "stdout",
     "output_type": "stream",
     "text": [
      "[00:00.000 --> 00:03.420]  He went on my family and she went down on my knees to the exit.\n",
      "[00:03.540 --> 00:07.380]  He went there for three minutes before she walked.\n",
      "[00:07.420 --> 00:10.040]  The car went on foot...\n",
      "[00:10.040 --> 00:11.260]  The Gé il passai.\n",
      "[00:11.260 --> 00:13.640]  The He wounded her and also helped.\n",
      "[00:13.740 --> 00:14.680]  What do you mean?\n",
      "[00:14.860 --> 00:17.240]  The On exatamente.\n",
      "[00:17.340 --> 00:18.300]  The On Initiative.\n",
      "[00:18.460 --> 00:20.760]  He has a totally different plan\n",
      "[00:20.760 --> 00:25.640]  I was Sand psic\n",
      "[00:25.740 --> 00:28.500]  Because there were some kind of Šnēch\n",
      "[00:28.500 --> 00:33.070]  pgs,ēpersan\n",
      "Transcribing /home/ouassim/Desktop/ss/stage/Data/Banque sonore des Dialectes Bretonnes/Audio/Audio/utt_02622.wav...\n"
     ]
    },
    {
     "name": "stderr",
     "output_type": "stream",
     "text": [
      "/home/ouassim/anaconda3/envs/stt-breton/lib/python3.10/site-packages/whisper/transcribe.py:126: UserWarning: FP16 is not supported on CPU; using FP32 instead\n",
      "  warnings.warn(\"FP16 is not supported on CPU; using FP32 instead\")\n"
     ]
    },
    {
     "name": "stdout",
     "output_type": "stream",
     "text": [
      "[00:00.000 --> 00:29.280] izens\n",
      "Transcribing /home/ouassim/Desktop/ss/stage/Data/Banque sonore des Dialectes Bretonnes/Audio/Audio/utt_06817.wav...\n"
     ]
    },
    {
     "name": "stderr",
     "output_type": "stream",
     "text": [
      "/home/ouassim/anaconda3/envs/stt-breton/lib/python3.10/site-packages/whisper/transcribe.py:126: UserWarning: FP16 is not supported on CPU; using FP32 instead\n",
      "  warnings.warn(\"FP16 is not supported on CPU; using FP32 instead\")\n"
     ]
    },
    {
     "name": "stdout",
     "output_type": "stream",
     "text": [
      "[00:00.320 --> 00:01.480]  Pale\n",
      "[00:01.480 --> 00:03.160]  Benchi lo mét車\n",
      "Transcribing /home/ouassim/Desktop/ss/stage/Data/Banque sonore des Dialectes Bretonnes/Audio/Audio/utt_06634.wav...\n"
     ]
    },
    {
     "name": "stderr",
     "output_type": "stream",
     "text": [
      "/home/ouassim/anaconda3/envs/stt-breton/lib/python3.10/site-packages/whisper/transcribe.py:126: UserWarning: FP16 is not supported on CPU; using FP32 instead\n",
      "  warnings.warn(\"FP16 is not supported on CPU; using FP32 instead\")\n"
     ]
    },
    {
     "name": "stdout",
     "output_type": "stream",
     "text": [
      "[00:00.440 --> 00:01.660]  Aha Damirarla\n",
      "[00:02.040 --> 00:02.460]  Damir…\n",
      "[00:02.560 --> 00:19.980]  Damir ya visit estime\n",
      "Transcribing /home/ouassim/Desktop/ss/stage/Data/Banque sonore des Dialectes Bretonnes/Audio/Audio/utt_02283.wav...\n"
     ]
    },
    {
     "name": "stderr",
     "output_type": "stream",
     "text": [
      "/home/ouassim/anaconda3/envs/stt-breton/lib/python3.10/site-packages/whisper/transcribe.py:126: UserWarning: FP16 is not supported on CPU; using FP32 instead\n",
      "  warnings.warn(\"FP16 is not supported on CPU; using FP32 instead\")\n"
     ]
    },
    {
     "name": "stdout",
     "output_type": "stream",
     "text": [
      "[00:00.000 --> 00:01.160]  meine cjęrei\n",
      "[00:01.160 --> 00:02.560]  1 pay righoul\n",
      "[00:03.360 --> 00:05.920]  2-3 Ikowau\n",
      "[00:06.640 --> 00:08.900]  .\n",
      "[00:10.080 --> 00:13.600]  .\n",
      "[00:18.040 --> 00:22.840]  .\n",
      "Transcribing /home/ouassim/Desktop/ss/stage/Data/Banque sonore des Dialectes Bretonnes/Audio/Audio/utt_02268.wav...\n"
     ]
    },
    {
     "name": "stderr",
     "output_type": "stream",
     "text": [
      "/home/ouassim/anaconda3/envs/stt-breton/lib/python3.10/site-packages/whisper/transcribe.py:126: UserWarning: FP16 is not supported on CPU; using FP32 instead\n",
      "  warnings.warn(\"FP16 is not supported on CPU; using FP32 instead\")\n"
     ]
    },
    {
     "name": "stdout",
     "output_type": "stream",
     "text": [
      "[00:00.000 --> 00:05.920]  Gennemu, a nibra, guafet gua, aghenife, crem, nibra, aghe,\n",
      "[00:05.920 --> 00:08.360]  megredu, entru, jene, reit, enki bine,\n",
      "[00:08.360 --> 00:14.320]  yenik, fekatsa, zayogata, yenik, aghe, aghe, zayogata, yenik, aghe, zayogata, yenik, aghe, skarze, pulodur.\n",
      "[00:14.320 --> 00:19.360]  Atters, benches, mermerket, benches, skarze, nibra pulodur,\n",
      "[00:19.360 --> 00:22.720]  etchu, yed enki, mibert, ne.\n",
      "[00:22.720 --> 00:28.320]  Me chung, badge, skintendemu, nibidung, kwein.\n",
      "[00:28.680 --> 00:33.360]  Ah ne Unlikema, sómy, honain, Ladies-Adule,\n",
      "[00:34.320 --> 00:37.600]  tsame, moussmerin, ah bu, wolf, mon Başmhaonnan, aghenil internacional\n",
      "[00:37.600 --> 00:41.400]  a la redde, skar applying Gir noin Chipu-lundur, pulodur.\n",
      "[00:41.400 --> 00:44.080]  Leitze hä, courage, dinkhe min eh!\n",
      "[00:44.080 --> 00:47.080]  By selling hayat, dolu, è dinkimin eh,\n",
      "[00:47.080 --> 00:49.120]  ameksition gerandrze perse,\n",
      "[00:49.120 --> 00:51.960]  goes difreden zkazcentrzei,\n",
      "[00:51.960 --> 00:52.270]  ������������������������������������������������������������������������������������������������������������������������������������������������������������������������������������������������������������������������������\n",
      "Transcribing /home/ouassim/Desktop/ss/stage/Data/Banque sonore des Dialectes Bretonnes/Audio/Audio/utt_02310.wav...\n"
     ]
    },
    {
     "name": "stderr",
     "output_type": "stream",
     "text": [
      "/home/ouassim/anaconda3/envs/stt-breton/lib/python3.10/site-packages/whisper/transcribe.py:126: UserWarning: FP16 is not supported on CPU; using FP32 instead\n",
      "  warnings.warn(\"FP16 is not supported on CPU; using FP32 instead\")\n"
     ]
    },
    {
     "name": "stdout",
     "output_type": "stream",
     "text": [
      "[00:00.000 --> 00:04.960]  Mewef asa mein mesbesh kitchen\n",
      "[00:04.960 --> 00:08.360]  yer erithan mein\n",
      "[00:08.360 --> 00:19.320]  ikalk dr inreetень\n",
      "[00:19.320 --> 00:24.560]  ikaku\n",
      "[00:24.560 --> 00:26.720]  je zai sono\n",
      "[00:27.260 --> 00:28.700]  maz PAROMEN Марmqing\n",
      "[00:28.700 --> 00:29.660]  je priji kessen marivaka\n",
      "[00:29.760 --> 00:30.420]  lacarmina\n",
      "[00:30.440 --> 00:47.740]  hel\n",
      "[00:48.040 --> 00:50.040]  famaka\n",
      "Transcribing /home/ouassim/Desktop/ss/stage/Data/Banque sonore des Dialectes Bretonnes/Audio/Audio/utt_06092.wav...\n"
     ]
    },
    {
     "name": "stderr",
     "output_type": "stream",
     "text": [
      "/home/ouassim/anaconda3/envs/stt-breton/lib/python3.10/site-packages/whisper/transcribe.py:126: UserWarning: FP16 is not supported on CPU; using FP32 instead\n",
      "  warnings.warn(\"FP16 is not supported on CPU; using FP32 instead\")\n"
     ]
    },
    {
     "name": "stdout",
     "output_type": "stream",
     "text": [
      "[00:00.000 --> 00:01.400]  no, imamai,\n",
      "Transcribing /home/ouassim/Desktop/ss/stage/Data/Banque sonore des Dialectes Bretonnes/Audio/Audio/utt_01507.wav...\n"
     ]
    },
    {
     "name": "stderr",
     "output_type": "stream",
     "text": [
      "/home/ouassim/anaconda3/envs/stt-breton/lib/python3.10/site-packages/whisper/transcribe.py:126: UserWarning: FP16 is not supported on CPU; using FP32 instead\n",
      "  warnings.warn(\"FP16 is not supported on CPU; using FP32 instead\")\n"
     ]
    },
    {
     "name": "stdout",
     "output_type": "stream",
     "text": [
      "[00:00.000 --> 00:28.560]  m1\n",
      "Transcribing /home/ouassim/Desktop/ss/stage/Data/Banque sonore des Dialectes Bretonnes/Audio/Audio/utt_01888.wav...\n"
     ]
    },
    {
     "name": "stderr",
     "output_type": "stream",
     "text": [
      "/home/ouassim/anaconda3/envs/stt-breton/lib/python3.10/site-packages/whisper/transcribe.py:126: UserWarning: FP16 is not supported on CPU; using FP32 instead\n",
      "  warnings.warn(\"FP16 is not supported on CPU; using FP32 instead\")\n"
     ]
    },
    {
     "name": "stdout",
     "output_type": "stream",
     "text": [
      "[00:00.000 --> 00:04.320]  Boatter hear too personally\n",
      "[00:04.880 --> 00:07.060]  Her fighter\n",
      "[00:08.800 --> 00:10.240]  oh\n",
      "[00:14.900 --> 00:17.800]  Deep miss was ready\n",
      "[00:20.200 --> 00:22.680]  Keq sack\n",
      "[00:24.000 --> 00:28.400]  head\n",
      "Transcribing /home/ouassim/Desktop/ss/stage/Data/Banque sonore des Dialectes Bretonnes/Audio/Audio/utt_03881.wav...\n"
     ]
    },
    {
     "name": "stderr",
     "output_type": "stream",
     "text": [
      "/home/ouassim/anaconda3/envs/stt-breton/lib/python3.10/site-packages/whisper/transcribe.py:126: UserWarning: FP16 is not supported on CPU; using FP32 instead\n",
      "  warnings.warn(\"FP16 is not supported on CPU; using FP32 instead\")\n"
     ]
    },
    {
     "name": "stdout",
     "output_type": "stream",
     "text": [
      "[00:00.000 --> 00:01.380]  Yets!\n",
      "[00:01.380 --> 00:03.380]  Are you gonna get my permission?\n",
      "[00:03.540 --> 00:05.720]  Ok, Boss.\n",
      "[00:05.820 --> 00:08.720]  Don't get cheating...\n",
      "[00:08.720 --> 00:11.660]  You should be my hands, sir!\n",
      "[00:12.520 --> 00:16.040]  Ok, Ill say,\n",
      "[00:16.660 --> 00:18.120]  Put your hand in this.\n",
      "[00:20.620 --> 00:24.120]  Don't ignore me,\n",
      "[00:24.120 --> 00:25.260]  it can't.\n",
      "[00:25.880 --> 00:27.100]  You have to cooperate with me\n",
      "[00:27.300 --> 00:29.600]  because I sacrificed money for admiring you.\n",
      "Transcribing /home/ouassim/Desktop/ss/stage/Data/Banque sonore des Dialectes Bretonnes/Audio/Audio/utt_04680.wav...\n"
     ]
    },
    {
     "name": "stderr",
     "output_type": "stream",
     "text": [
      "/home/ouassim/anaconda3/envs/stt-breton/lib/python3.10/site-packages/whisper/transcribe.py:126: UserWarning: FP16 is not supported on CPU; using FP32 instead\n",
      "  warnings.warn(\"FP16 is not supported on CPU; using FP32 instead\")\n"
     ]
    },
    {
     "name": "stdout",
     "output_type": "stream",
     "text": [
      "[00:00.000 --> 00:00.840]  Believer and fat\n",
      "[00:00.840 --> 00:01.520]  Gr grandes gnaw B\n",
      "Transcribing /home/ouassim/Desktop/ss/stage/Data/Banque sonore des Dialectes Bretonnes/Audio/Audio/utt_06476.wav...\n"
     ]
    },
    {
     "name": "stderr",
     "output_type": "stream",
     "text": [
      "/home/ouassim/anaconda3/envs/stt-breton/lib/python3.10/site-packages/whisper/transcribe.py:126: UserWarning: FP16 is not supported on CPU; using FP32 instead\n",
      "  warnings.warn(\"FP16 is not supported on CPU; using FP32 instead\")\n"
     ]
    },
    {
     "name": "stdout",
     "output_type": "stream",
     "text": [
      "[00:00.000 --> 00:03.340]  Don't you change your bag with the grown-up solace ...\n",
      "Transcribing /home/ouassim/Desktop/ss/stage/Data/Banque sonore des Dialectes Bretonnes/Audio/Audio/utt_01554.wav...\n"
     ]
    },
    {
     "name": "stderr",
     "output_type": "stream",
     "text": [
      "/home/ouassim/anaconda3/envs/stt-breton/lib/python3.10/site-packages/whisper/transcribe.py:126: UserWarning: FP16 is not supported on CPU; using FP32 instead\n",
      "  warnings.warn(\"FP16 is not supported on CPU; using FP32 instead\")\n"
     ]
    },
    {
     "name": "stdout",
     "output_type": "stream",
     "text": [
      "[00:00.000 --> 00:09.320]  Asia,\n",
      "[00:09.320 --> 00:12.860]  A\n",
      "[00:12.860 --> 00:17.880]  going\n",
      "Transcribing /home/ouassim/Desktop/ss/stage/Data/Banque sonore des Dialectes Bretonnes/Audio/Audio/utt_04487.wav...\n"
     ]
    },
    {
     "name": "stderr",
     "output_type": "stream",
     "text": [
      "/home/ouassim/anaconda3/envs/stt-breton/lib/python3.10/site-packages/whisper/transcribe.py:126: UserWarning: FP16 is not supported on CPU; using FP32 instead\n",
      "  warnings.warn(\"FP16 is not supported on CPU; using FP32 instead\")\n"
     ]
    },
    {
     "name": "stdout",
     "output_type": "stream",
     "text": [
      "[00:00.320 --> 00:01.800]  Men wifigroaning\n",
      "[00:02.280 --> 00:02.440]  Do sempre,\n",
      "[00:02.440 --> 00:04.640] omon wifi trakt errors\n",
      "Transcribing /home/ouassim/Desktop/ss/stage/Data/Banque sonore des Dialectes Bretonnes/Audio/Audio/utt_05275.wav...\n"
     ]
    },
    {
     "name": "stderr",
     "output_type": "stream",
     "text": [
      "/home/ouassim/anaconda3/envs/stt-breton/lib/python3.10/site-packages/whisper/transcribe.py:126: UserWarning: FP16 is not supported on CPU; using FP32 instead\n",
      "  warnings.warn(\"FP16 is not supported on CPU; using FP32 instead\")\n"
     ]
    },
    {
     "name": "stdout",
     "output_type": "stream",
     "text": [
      "[00:00.000 --> 00:04.700]  alnego,ressen régorn\n",
      "Transcribing /home/ouassim/Desktop/ss/stage/Data/Banque sonore des Dialectes Bretonnes/Audio/Audio/utt_03378.wav...\n"
     ]
    },
    {
     "name": "stderr",
     "output_type": "stream",
     "text": [
      "/home/ouassim/anaconda3/envs/stt-breton/lib/python3.10/site-packages/whisper/transcribe.py:126: UserWarning: FP16 is not supported on CPU; using FP32 instead\n",
      "  warnings.warn(\"FP16 is not supported on CPU; using FP32 instead\")\n"
     ]
    },
    {
     "name": "stdout",
     "output_type": "stream",
     "text": [
      "[00:00.000 --> 00:05.240]  Abohe mis-Gwinay numi, li, lota, aphadi, homeowners –支持 November 2013.\n",
      "Transcribing /home/ouassim/Desktop/ss/stage/Data/Banque sonore des Dialectes Bretonnes/Audio/Audio/utt_06062.wav...\n"
     ]
    },
    {
     "name": "stderr",
     "output_type": "stream",
     "text": [
      "/home/ouassim/anaconda3/envs/stt-breton/lib/python3.10/site-packages/whisper/transcribe.py:126: UserWarning: FP16 is not supported on CPU; using FP32 instead\n",
      "  warnings.warn(\"FP16 is not supported on CPU; using FP32 instead\")\n"
     ]
    },
    {
     "name": "stdout",
     "output_type": "stream",
     "text": [
      "[00:00.000 --> 00:06.920]  Despite his Lawson dress, he also will be embarrassed by his later age\n",
      "[00:06.920 --> 00:12.940]  He is very embarrassed\n",
      "[00:12.940 --> 00:15.660]  and又 fears from both sides\n",
      "[00:15.660 --> 00:19.640]  and when he is surprised\n",
      "[00:19.640 --> 00:23.800]  to give place to one who helps me\n",
      "[00:23.800 --> 00:25.600]  very surprisingly\n",
      "Transcribing /home/ouassim/Desktop/ss/stage/Data/Banque sonore des Dialectes Bretonnes/Audio/Audio/utt_01803.wav...\n"
     ]
    },
    {
     "name": "stderr",
     "output_type": "stream",
     "text": [
      "/home/ouassim/anaconda3/envs/stt-breton/lib/python3.10/site-packages/whisper/transcribe.py:126: UserWarning: FP16 is not supported on CPU; using FP32 instead\n",
      "  warnings.warn(\"FP16 is not supported on CPU; using FP32 instead\")\n"
     ]
    },
    {
     "name": "stdout",
     "output_type": "stream",
     "text": [
      "[00:00.000 --> 00:02.020]  Zamesta Jodo K spinal\n",
      "Transcribing /home/ouassim/Desktop/ss/stage/Data/Banque sonore des Dialectes Bretonnes/Audio/Audio/utt_02548.wav...\n"
     ]
    },
    {
     "name": "stderr",
     "output_type": "stream",
     "text": [
      "/home/ouassim/anaconda3/envs/stt-breton/lib/python3.10/site-packages/whisper/transcribe.py:126: UserWarning: FP16 is not supported on CPU; using FP32 instead\n",
      "  warnings.warn(\"FP16 is not supported on CPU; using FP32 instead\")\n"
     ]
    },
    {
     "name": "stdout",
     "output_type": "stream",
     "text": [
      "[00:00.000 --> 00:01.980]  ditesthé\n",
      "Transcribing /home/ouassim/Desktop/ss/stage/Data/Banque sonore des Dialectes Bretonnes/Audio/Audio/utt_00087.wav...\n"
     ]
    },
    {
     "name": "stderr",
     "output_type": "stream",
     "text": [
      "/home/ouassim/anaconda3/envs/stt-breton/lib/python3.10/site-packages/whisper/transcribe.py:126: UserWarning: FP16 is not supported on CPU; using FP32 instead\n",
      "  warnings.warn(\"FP16 is not supported on CPU; using FP32 instead\")\n"
     ]
    },
    {
     "name": "stdout",
     "output_type": "stream",
     "text": [
      "[00:00.000 --> 00:04.080]  But you have to take this child,\n",
      "[00:04.080 --> 00:04.840]  in the heart you have.\n",
      "Transcribing /home/ouassim/Desktop/ss/stage/Data/Banque sonore des Dialectes Bretonnes/Audio/Audio/utt_01964.wav...\n"
     ]
    },
    {
     "name": "stderr",
     "output_type": "stream",
     "text": [
      "/home/ouassim/anaconda3/envs/stt-breton/lib/python3.10/site-packages/whisper/transcribe.py:126: UserWarning: FP16 is not supported on CPU; using FP32 instead\n",
      "  warnings.warn(\"FP16 is not supported on CPU; using FP32 instead\")\n"
     ]
    },
    {
     "name": "stdout",
     "output_type": "stream",
     "text": [
      "[00:00.000 --> 00:01.960]  calmter\n",
      "[00:01.960 --> 00:02.960]  de\n",
      "Transcribing /home/ouassim/Desktop/ss/stage/Data/Banque sonore des Dialectes Bretonnes/Audio/Audio/utt_06088.wav...\n"
     ]
    },
    {
     "name": "stderr",
     "output_type": "stream",
     "text": [
      "/home/ouassim/anaconda3/envs/stt-breton/lib/python3.10/site-packages/whisper/transcribe.py:126: UserWarning: FP16 is not supported on CPU; using FP32 instead\n",
      "  warnings.warn(\"FP16 is not supported on CPU; using FP32 instead\")\n"
     ]
    },
    {
     "name": "stdout",
     "output_type": "stream",
     "text": [
      "[00:00.000 --> 00:02.640]  Credervati\n",
      "Transcribing /home/ouassim/Desktop/ss/stage/Data/Banque sonore des Dialectes Bretonnes/Audio/Audio/utt_02024.wav...\n"
     ]
    },
    {
     "name": "stderr",
     "output_type": "stream",
     "text": [
      "/home/ouassim/anaconda3/envs/stt-breton/lib/python3.10/site-packages/whisper/transcribe.py:126: UserWarning: FP16 is not supported on CPU; using FP32 instead\n",
      "  warnings.warn(\"FP16 is not supported on CPU; using FP32 instead\")\n"
     ]
    },
    {
     "name": "stdout",
     "output_type": "stream",
     "text": [
      "[00:00.000 --> 00:03.340]  But you know, I've never seen that a hero me, it's gone.\n",
      "[00:03.340 --> 00:06.460]  It's gone, it's gone. It's gone. It's gone. It's gone.\n",
      "[00:06.460 --> 00:11.800]  It's gone. It's gone. It's gone. It's gone. It's gone. It's gone.\n",
      "[00:11.800 --> 00:14.440]  Don't do anything. It's gone.\n",
      "[00:14.440 --> 00:16.440]  And you know, that he's the hero meas.\n",
      "Transcribing /home/ouassim/Desktop/ss/stage/Data/Banque sonore des Dialectes Bretonnes/Audio/Audio/utt_01718.wav...\n"
     ]
    },
    {
     "name": "stderr",
     "output_type": "stream",
     "text": [
      "/home/ouassim/anaconda3/envs/stt-breton/lib/python3.10/site-packages/whisper/transcribe.py:126: UserWarning: FP16 is not supported on CPU; using FP32 instead\n",
      "  warnings.warn(\"FP16 is not supported on CPU; using FP32 instead\")\n"
     ]
    },
    {
     "name": "stdout",
     "output_type": "stream",
     "text": [
      "[00:00.000 --> 00:06.160]  unemployment\n",
      "Transcribing /home/ouassim/Desktop/ss/stage/Data/Banque sonore des Dialectes Bretonnes/Audio/Audio/utt_03454.wav...\n"
     ]
    },
    {
     "name": "stderr",
     "output_type": "stream",
     "text": [
      "/home/ouassim/anaconda3/envs/stt-breton/lib/python3.10/site-packages/whisper/transcribe.py:126: UserWarning: FP16 is not supported on CPU; using FP32 instead\n",
      "  warnings.warn(\"FP16 is not supported on CPU; using FP32 instead\")\n"
     ]
    },
    {
     "name": "stdout",
     "output_type": "stream",
     "text": [
      "[00:00.100 --> 00:01.360]  On audiobook\n",
      "[00:01.360 --> 00:02.320]  Thinking Who are you\n",
      "Transcribing /home/ouassim/Desktop/ss/stage/Data/Banque sonore des Dialectes Bretonnes/Audio/Audio/utt_04323.wav...\n"
     ]
    },
    {
     "name": "stderr",
     "output_type": "stream",
     "text": [
      "/home/ouassim/anaconda3/envs/stt-breton/lib/python3.10/site-packages/whisper/transcribe.py:126: UserWarning: FP16 is not supported on CPU; using FP32 instead\n",
      "  warnings.warn(\"FP16 is not supported on CPU; using FP32 instead\")\n"
     ]
    },
    {
     "name": "stdout",
     "output_type": "stream",
     "text": [
      "[00:00.040 --> 00:02.460]  Eu, chi Previously a snesan de horsl 아�romeades\n",
      "[00:03.340 --> 00:04.320]  Hi pathways\n",
      "Transcribing /home/ouassim/Desktop/ss/stage/Data/Banque sonore des Dialectes Bretonnes/Audio/Audio/utt_05981.wav...\n"
     ]
    },
    {
     "name": "stderr",
     "output_type": "stream",
     "text": [
      "/home/ouassim/anaconda3/envs/stt-breton/lib/python3.10/site-packages/whisper/transcribe.py:126: UserWarning: FP16 is not supported on CPU; using FP32 instead\n",
      "  warnings.warn(\"FP16 is not supported on CPU; using FP32 instead\")\n"
     ]
    },
    {
     "name": "stdout",
     "output_type": "stream",
     "text": [
      "[00:00.000 --> 00:30.000]  Ape, Titi, Vivi, Suti, Siti, Titi, Titi, Titi, Titi, Titi, Titi, Titi, Titi, Titi, Titi, Titi, Titi, Titi, Titi, Titi, Titi, Titi, Titi, Titi, Titi, Titi, Titi, Titi, Titi, Titi, Titi, Titi, Titi, Titi, Titi, Titi, Titi, Titi, Titi, Titi, Titi, Titi, Titi, Titi, Titi, Titi, Titi, Titi, Titi, Titi, Titi, Titi, Titi, Titi, Titi, Titi, Titi, Titi, Titi, Titi, Titi, Titi, Titi, Titi, Titi, Titi, Titi, Titi, Titi, Titi, Titi, Titi, Titi, Titi, T\n",
      "[00:30.000 --> 00:43.070]  Titi, Tammy. parlant, Titi? Lose Mr,rain student, seraan. Misita, caa痛, disobedit, mNot Unterpera♥ . Misita, m Liberalyi, Titi, Minickiniti\n",
      "Transcribing /home/ouassim/Desktop/ss/stage/Data/Banque sonore des Dialectes Bretonnes/Audio/Audio/utt_05148.wav...\n"
     ]
    },
    {
     "name": "stderr",
     "output_type": "stream",
     "text": [
      "/home/ouassim/anaconda3/envs/stt-breton/lib/python3.10/site-packages/whisper/transcribe.py:126: UserWarning: FP16 is not supported on CPU; using FP32 instead\n",
      "  warnings.warn(\"FP16 is not supported on CPU; using FP32 instead\")\n"
     ]
    },
    {
     "name": "stdout",
     "output_type": "stream",
     "text": [
      "[00:00.060 --> 00:00.520]  Bigur is, is\n",
      "[00:01.020 --> 00:12.880]  submarine\n",
      "Transcribing /home/ouassim/Desktop/ss/stage/Data/Banque sonore des Dialectes Bretonnes/Audio/Audio/utt_02925.wav...\n"
     ]
    },
    {
     "name": "stderr",
     "output_type": "stream",
     "text": [
      "/home/ouassim/anaconda3/envs/stt-breton/lib/python3.10/site-packages/whisper/transcribe.py:126: UserWarning: FP16 is not supported on CPU; using FP32 instead\n",
      "  warnings.warn(\"FP16 is not supported on CPU; using FP32 instead\")\n"
     ]
    },
    {
     "name": "stdout",
     "output_type": "stream",
     "text": [
      "[00:00.000 --> 00:03.560]  For a thing, it will do always\n",
      "Transcribing /home/ouassim/Desktop/ss/stage/Data/Banque sonore des Dialectes Bretonnes/Audio/Audio/utt_02251.wav...\n"
     ]
    },
    {
     "name": "stderr",
     "output_type": "stream",
     "text": [
      "/home/ouassim/anaconda3/envs/stt-breton/lib/python3.10/site-packages/whisper/transcribe.py:126: UserWarning: FP16 is not supported on CPU; using FP32 instead\n",
      "  warnings.warn(\"FP16 is not supported on CPU; using FP32 instead\")\n"
     ]
    },
    {
     "name": "stdout",
     "output_type": "stream",
     "text": [
      "[00:00.000 --> 00:01.760]  My benef defenders-over...\n",
      "[00:02.320 --> 00:03.560]  kinds,\n",
      "[00:03.620 --> 00:04.460]  le digging bloody\n",
      "[00:04.800 --> 00:06.540]  mr me sheng\n",
      "[00:07.540 --> 00:08.340]  dursun\n",
      "[00:08.420 --> 00:09.820]  noz statistic\n",
      "[00:09.840 --> 00:11.420]  realization\n",
      "[00:11.440 --> 00:13.060]  but you might not have some views\n",
      "[00:13.260 --> 00:15.460]  sound\n",
      "Transcribing /home/ouassim/Desktop/ss/stage/Data/Banque sonore des Dialectes Bretonnes/Audio/Audio/utt_05777.wav...\n"
     ]
    },
    {
     "name": "stderr",
     "output_type": "stream",
     "text": [
      "/home/ouassim/anaconda3/envs/stt-breton/lib/python3.10/site-packages/whisper/transcribe.py:126: UserWarning: FP16 is not supported on CPU; using FP32 instead\n",
      "  warnings.warn(\"FP16 is not supported on CPU; using FP32 instead\")\n"
     ]
    },
    {
     "name": "stdout",
     "output_type": "stream",
     "text": [
      "[00:00.000 --> 00:03.640]  Bedir Danae Feels歡迎 Forum\n",
      "Transcribing /home/ouassim/Desktop/ss/stage/Data/Banque sonore des Dialectes Bretonnes/Audio/Audio/utt_06815.wav...\n"
     ]
    },
    {
     "name": "stderr",
     "output_type": "stream",
     "text": [
      "/home/ouassim/anaconda3/envs/stt-breton/lib/python3.10/site-packages/whisper/transcribe.py:126: UserWarning: FP16 is not supported on CPU; using FP32 instead\n",
      "  warnings.warn(\"FP16 is not supported on CPU; using FP32 instead\")\n"
     ]
    },
    {
     "name": "stdout",
     "output_type": "stream",
     "text": [
      "[00:00.000 --> 00:03.620]  Territra, yoh, yoh, responda.\n",
      "[00:03.620 --> 00:06.460]  Ah, yoh, yoh, yoh, yoh, yoh, yoh, yoh.\n",
      "Transcribing /home/ouassim/Desktop/ss/stage/Data/Banque sonore des Dialectes Bretonnes/Audio/Audio/utt_06453.wav...\n"
     ]
    },
    {
     "name": "stderr",
     "output_type": "stream",
     "text": [
      "/home/ouassim/anaconda3/envs/stt-breton/lib/python3.10/site-packages/whisper/transcribe.py:126: UserWarning: FP16 is not supported on CPU; using FP32 instead\n",
      "  warnings.warn(\"FP16 is not supported on CPU; using FP32 instead\")\n"
     ]
    },
    {
     "name": "stdout",
     "output_type": "stream",
     "text": [
      "[00:00.000 --> 00:07.520]  «Ibrad jo' h- Video te zine melodikai me te ho trackery y wee ur me ram.\n",
      "[00:07.520 --> 00:10.640]  Unت Ashad ach wuu ehohe lo komand ofベ Illari.\n"
     ]
    }
   ],
   "source": [
    "# Step 1: Filter where city starts with '22'\n",
    "# df_22 = df[df['city'].astype(str).str.startswith('22')].copy()\n",
    "\n",
    "# Step 2: Add a 'file' column with the original index\n",
    "small_df['file'] = small_df.index\n",
    "\n",
    "small_df['transcription'] = small_df.apply(generate_transcription, axis=1)\n",
    "\n",
    "# Optional: Reset index for a clean new DataFrame\n",
    "small_df = small_df.reset_index(drop=True)"
   ]
  },
  {
   "cell_type": "code",
   "execution_count": 13,
   "id": "cc43a987",
   "metadata": {},
   "outputs": [
    {
     "data": {
      "application/vnd.microsoft.datawrangler.viewer.v0+json": {
       "columns": [
        {
         "name": "index",
         "rawType": "int64",
         "type": "integer"
        },
        {
         "name": "br",
         "rawType": "object",
         "type": "string"
        },
        {
         "name": "fr",
         "rawType": "object",
         "type": "string"
        },
        {
         "name": "city",
         "rawType": "object",
         "type": "string"
        },
        {
         "name": "file",
         "rawType": "int64",
         "type": "integer"
        },
        {
         "name": "transcription",
         "rawType": "object",
         "type": "string"
        }
       ],
       "ref": "137a94d2-05e2-42cb-a35d-38e4ec58a443",
       "rows": [
        [
         "0",
         "ur c'harzh",
         "une haie",
         "29032",
         "1057",
         " sus"
        ],
        [
         "1",
         "Mari zo deuet a-benn enno antronoz.",
         "Marie est venue vers eux le lendemain.",
         "29168",
         "2654",
         " Mori, as you do, benenne internus"
        ],
        [
         "2",
         "An amzer gwechall, ne oa... ne oa ket, eu... ne oa ket memes mod.",
         "Autrefois, c'était... c'était, euh... ça n'était pas pareil.",
         "29230",
         "4401",
         " Non-bsordre deixal Wo That what are you Many must mould"
        ],
        [
         "3",
         "Piv zo bet o troc'hiñ ar wezenn ?",
         "Qui a coupé l'arbre ?",
         "29293",
         "5843",
         "拚蜆 refers to a good prize but nevertheless this card shows up here."
        ],
        [
         "4",
         "Pa oufemp ar wirionez, n'he lavarfemp ket.",
         "Si nous savions la vérité, nous ne la dirions pas.",
         "56175",
         "7177",
         " Apugu, yang, arwer, yoni, nilar, emce!"
        ],
        [
         "5",
         "Int zo o joentrañ ar mein e-barzh ar vur.",
         "Ils sont en train de joindre les pierres du mur.",
         "29230",
         "3805",
         " hetens chhoentu mein beviuach"
        ],
        [
         "6",
         "A-benn em eus labouret em eus gounezet ma fae.",
         "Quand j'ai travaillé, j'ai gagné ma paie.",
         "29230",
         "3961",
         " Bennet Jay or forty times,"
        ],
        [
         "7",
         "Un amzer zo bet, eu, dour ar feunteun a rede e-barzh ar prad.",
         "Fut un temps, euh, l'eau de la fontaine coulait dans la prairie.",
         "56057",
         "6147",
         " Now, so better do a fit and ready, they were proud."
        ],
        [
         "8",
         "A-wechoù em eus poan-benn diouzh ar pardaez.",
         "Parfois j'ai mal à la tête le soir.",
         "29180",
         "3551",
         " Age xiúm Deafanwin de hal stitch"
        ],
        [
         "9",
         "gris loued",
         "bleu grisonnant",
         "29153",
         "2413",
         " G safeguard"
        ],
        [
         "10",
         "A-vuzul e kosha, e teu muioc'h a spered dezhañ.",
         "Plus il vieillit, plus il devient intelligent.",
         "22167",
         "185",
         " TV x YÄC past"
        ],
        [
         "11",
         "Ah, ar glesker a oa bet kuzhet marteze e-barzh ar c'holi ? n'ouzon ket ; boñ, amañ emañ tout an dud bremañ neuze, bez' emañ ar mous, bez' emañ ar glesker bihan, hag an hini vras, fougeet ivez, an tortu hag ar c'hi, ar c'hi zo da, ar c'hi n'en deus ket an aer bezañ gwall seder anezhañ, marteze ar c'hi n'en deus ket bet netra, n'ouzon ket.",
         "Ah, ar glesker a oa bet kuzhet marteze e-barzh ar c'holi ? n'ouzon ket ; boñ, amañ emañ tout an dud bremañ neuze, bez' emañ ar mous, bez' emañ ar glesker bihan, hag an hini vras, fougeet ivez, an tortu hag ar c'hi, ar c'hi zo da, ar c'hi n'en deus ket an aer bezañ gwall seder anezhañ, marteze ar c'hi n'en deus ket bet netra, n'ouzon ket.",
         "29122",
         "1221",
         " Akleska was big club sortir Braunermetondwyman this"
        ],
        [
         "12",
         "Evit Gouel an Ollzent ar bloaz tremenet, ec'h oa muioc'h a... a bokedoù er... er vered... evit ar bloaz-mañ.",
         "À la Toussaint l'année dernière, il y avait plus de... de fleurs au... au cimetière... que cette année.",
         "22107",
         "61",
         " y d 這個 horizonydd"
        ],
        [
         "13",
         "Te zo bet o teskiñ debriñ korriged e-barzh bro ar Mokoied¹ !",
         "Te zo bet o teskiñ debriñ korriged e-barzh bro ar Mokoied¹ !",
         "29150",
         "2328",
         " You always have enough time to saveㅋㅋㅋ"
        ],
        [
         "14",
         "Me a lavarfe, me a lavarfe, bremañ, me a wel anezho evel rouanezed, ha ur seurt ne chomont ket, war ar maez !",
         "Me a lavarfe, me a lavarfe, bremañ, me a wel anezho evel rouanezed, ha ur seurt ne chomont ket, war ar maez !",
         "56089",
         "6524",
         " Mahlare, buu effuinlare ba, ma bau l nir razónəぞ aus löeff challmance 欄ɾæce"
        ],
        [
         "15",
         "Ah mes, e-barzh amañ ez omp e-barzh Goured al Lojoù ;<br/>hag, e-barzh aze, dreist ar, vardell-se zo, zo un espes lenn ivez kar, ar stêr a lenn kwa ;<br/>an hini kaoz e-barzh-amañ e oa ul lec'h neuze, e-barzh an tu all evit lakaat kizelloù, gwel-, gwelet e vez ar, ar vur heñ ;<br/> mes bout zo euh, bout zo ur goured, ne welit ket, ar goured euh a base etre, etre an daou biler ;<br/>an hini kaoz hennezh, aze e veze lakaet kizelloù, gwel-, gwelet a vez heñ ;<br/>kaoz ar c'hizelloù a veze staget ouzh euh, ouzh ar voger kwa, ouzh, ouzh ar murioù kwa, hag hennezh a oa ul lec'h evit tapout silioù a-font ;<br/>hennezh zo bet evel-se ha, hag unan seurt-se zo c'hoazh, a-benn euh, pa erruit izeloc'h evit Milin Poulhibed du-se zo unan seurt-se c'hoazh, ur, mes n'eo ket e-barzh ar memes model, eñ zo plomoc'h kwa, hag e oa tout ar re-se a oa graet a-espres evit la-, evit tapout silioù.",
         "Ah mes, e-barzh amañ ez omp e-barzh Goured al Lojoù ;<br/>hag, e-barzh aze, dreist ar, vardell-se zo, zo un espes lenn ivez kar, ar stêr a lenn kwa ;<br/>an hini kaoz e-barzh-amañ e oa ul lec'h neuze, e-barzh an tu all evit lakaat kizelloù, gwel-, gwelet e vez ar, ar vur heñ ;<br/> mes bout zo euh, bout zo ur goured, ne welit ket, ar goured euh a base etre, etre an daou biler ;<br/>an hini kaoz hennezh, aze e veze lakaet kizelloù, gwel-, gwelet a vez heñ ;<br/>kaoz ar c'hizelloù a veze staget ouzh euh, ouzh ar voger kwa, ouzh, ouzh ar murioù kwa, hag hennezh a oa ul lec'h evit tapout silioù a-font ;<br/>hennezh zo bet evel-se ha, hag unan seurt-se zo c'hoazh, a-benn euh, pa erruit izeloc'h evit Milin Poulhibed du-se zo unan seurt-se c'hoazh, ur, mes n'eo ket e-barzh ar memes model, eñ zo plomoc'h kwa, hag e oa tout ar re-se a oa graet a-espres evit la-, evit tapout silioù.",
         "56014",
         "6082",
         " I dont know tha venjun funcion, evel breath mis tore data mar糊花 Albert son a pt m"
        ],
        [
         "16",
         "Ma breur zo ganet tri bloaz war o lerc'h.",
         "Mon frère est né 3 ans après eux.",
         "29230",
         "3934",
         " Me breurs se gana tribla aulaire."
        ],
        [
         "17",
         "Un amzer zo bet, ni n'ajemp ket d'ar skol d'ar yaou.",
         "Autrefois, nous n'allions pas à l'école le jeudi.",
         "29230",
         "4128",
         " Nam 사랑i 아�wЁ Sh알"
        ],
        [
         "18",
         "Eu, me am eus soñj, a-benn e oan e-barzh... a-benn e oan yaouank... ha krennbaotr memes... lar, eu... an devezh, eu, Gouel, eu... Nedeleg, eh beñ, e yae an traoù da... an oferenn hanter-noz ha neuze, eu... pa veze, eu... deuet an dud d'ar gêr, beñ, e veze degaset, eu... ur vriochenn, a-wechoù, un aval-orañj pe... a-wechoù e veze degaset ivez ur mabig Jezuz, un tammig, eu... gant... graet gant sukr ha neuze, eu... an dra-se e oa... dija un dra... \"un dra gaer\" e veze lavaret ! Ha neuze da... da vintin, te a gave an dra-se tout e-barzh da votez-koad, kar pa... a-benn e oa... da... d'an devezh a-raok, te az poa naetaet, e veze lavaret dit :<br/>\"Ah paotr ! Te ema dav dit naetaat da vo-... da voutoù-lêr pe da... da voutoù-koad, surtout boutoù-koad, dav(?) kaout anezhe prop, lakaat un tammig plouz fresk e-barzh anezhe ha neuze, eu... a-benn warc'hoazh vitin, beñ, eu... e vo... marteze, eu... e vo d-... e kavi un dra-bennak e-barzh da... e-barzh da votez-koad, kwa.\"<br/>Ha neuze, eu... boñ beñ... alies, eu... dija atav memes e veze kavet, eu... hag an dra-se a oa un dra gaer... lar... evit ur c'hrouadur da welet... da gaout an dra-se e-barzh e votez-koad. Hag an dra-se a oa e-barzh... met... a-hend-all... ha neuze, eu... d'an devezh, eu... e veze graet un tammig, eu... mañjer, eu... eu, gwelloc'h a-wechoù evit, eu... an devezhioù-all. E veze lakeet ur yar pe ur c'hog da boazhañ ha neuze, eu... e veze kavet ar soubenn d'ober un daou pe dri devezh war-lerc'h... ah... an dra-se a oa... an dra-se a oa dija ur fest ! Ya...",
         "Eu, me am eus soñj, a-benn e oan e-barzh... a-benn e oan yaouank... ha krennbaotr memes... lar, eu... an devezh, eu, Gouel, eu... Nedeleg, eh beñ, e yae an traoù da... an oferenn hanter-noz ha neuze, eu... pa veze, eu... deuet an dud d'ar gêr, beñ, e veze degaset, eu... ur vriochenn, a-wechoù, un aval-orañj pe... a-wechoù e veze degaset ivez ur mabig Jezuz, un tammig, eu... gant... graet gant sukr ha neuze, eu... an dra-se e oa... dija un dra... \"un dra gaer\" e veze lavaret ! Ha neuze da... da vintin, te a gave an dra-se tout e-barzh da votez-koad, kar pa... a-benn e oa... da... d'an devezh a-raok, te az poa naetaet, e veze lavaret dit :<br/>\"Ah paotr ! Te ema dav dit naetaat da vo-... da voutoù-lêr pe da... da voutoù-koad, surtout boutoù-koad, dav(?) kaout anezhe prop, lakaat un tammig plouz fresk e-barzh anezhe ha neuze, eu... a-benn warc'hoazh vitin, beñ, eu... e vo... marteze, eu... e vo d-... e kavi un dra-bennak e-barzh da... e-barzh da votez-koad, kwa.\"<br/>Ha neuze, eu... boñ beñ... alies, eu... dija atav memes e veze kavet, eu... hag an dra-se a oa un dra gaer... lar... evit ur c'hrouadur da welet... da gaout an dra-se e-barzh e votez-koad. Hag an dra-se a oa e-barzh... met... a-hend-all... ha neuze, eu... d'an devezh, eu... e veze graet un tammig, eu... mañjer, eu... eu, gwelloc'h a-wechoù evit, eu... an devezhioù-all. E veze lakeet ur yar pe ur c'hog da boazhañ ha neuze, eu... e veze kavet ar soubenn d'ober un daou pe dri devezh war-lerc'h... ah... an dra-se a oa... an dra-se a oa dija ur fest ! Ya...",
         "29153",
         "2344",
         " Emin ngs ont ur tree. Coalесough t Pr tsp, Pr tsp, Pr tsp Pr ch sur Pr ch sur Pr ch sur Pr ch sur Pr ch sur Pr ch sur Pr ch sur Pr ch sur Pr ch sur Pr ch sur Pr ch sur Pr ch sur Pr ch sur Pr ch sur Pr ch sur tardu an wonderful Because we can't zoom in, that would really do us our lesson. Ah, that's it. That's it. That's it. I did it. Yeah?"
        ],
        [
         "19",
         "Tuet d'an douar ur seurt, ne oamp ket heu, ne oamp ket pesketaerien heu, ni a oa...",
         "Tournés vers la terre quand même, nous n'étions pas heu, nous n'étions pas des pêcheurs heu, nous étions...",
         "56094",
         "6771",
         " Tridden profiles ... Now we will see thelate as shorthand 65-65..."
        ],
        [
         "20",
         "Eu, an uioù-se zo dozvet gant ma yar wenn.",
         "Euh, ces oeufs-là ont été pondus par ma poule blanche.",
         "29230",
         "4539",
         "不一樣練習"
        ],
        [
         "21",
         "Al levrioù-mañ zo ker, pegement eo ar re-se ?",
         "Ces livres-ci sont chers, combien coûtent ceux-là ?",
         "22331",
         "544",
         " Leverion mens activityppy-madeh threaten"
        ],
        [
         "22",
         "Ar bal zo aet a-dreuz kaer.",
         "La pelle a fini toute tordue.",
         "29230",
         "3647",
         " Bal, quail !"
        ],
        [
         "23",
         "Me zo o vont da skubañ ma zi a-benn e vi aet kuit.",
         "Je vais balayer ma maison quand tu seras parti.",
         "29150",
         "1670",
         " como si es que es 可以 bien visa"
        ],
        [
         "24",
         "Ah... te az peus troc'het un tamm da lakaat aze, a-gaoz e oan o vont da lavar, n'ema ket staget tu ebet anezhañ !",
         "Ah... te az peus troc'het un tamm da lakaat aze, a-gaoz e oan o vont da lavar, n'ema ket staget tu ebet anezhañ !",
         "29150",
         "1465",
         " ahhah Oberonn"
        ],
        [
         "25",
         "Euh, euh, ouzh ouzh o favioù ? Ya, e veze lakaet ul, ul, ul liver. Petra a vez lavaret eus an dra-se e, e galleg ?",
         "Euh, euh, ouzh ouzh o favioù ? Ya, e veze lakaet ul, ul, ul liver. Petra a vez lavaret eus an dra-se e, e galleg ?",
         "29168",
         "3463",
         " ndo hufaayu ndo hufaayu ndo hufaayu"
        ],
        [
         "26",
         "Pa yaen da welet va breur-kaer, eñv a gonte din istorioù eus... les... diouzh al lutin.",
         "Quand j'allais voir mon beau-frère, il me racontait des histoires de lutins.",
         "29168",
         "2778",
         " panned naval Johitzko JavaScript"
        ],
        [
         "27",
         "N'eus ket e-leizh bugale hag a oa brezhoneg.",
         "Il n'y a pas beaucoup d'enfants qui savent le breton.",
         "29153",
         "2492",
         "想事, mors,"
        ],
        [
         "28",
         "Ki ivez, un amzer ki a ve bet lavaret, ya. Fall amzer peotramant un amzer ki.",
         "Ki ivez, un amzer ki a ve bet lavaret, ya. Fall amzer peotramant un amzer ki.",
         "56116",
         "6966",
         " Chey구요, nosures cheyve dots bar Eliac... Falam jí着 ped挨 lenamioti."
        ],
        [
         "29",
         "N'ho peus ket graet ar pezh am boa lavaret deoc'h.",
         "Vous n'avez pas fait ce que je vous avais dit.",
         "29236",
         "4666",
         " Peu che guret piz malar d'or"
        ],
        [
         "30",
         "Muioc'h a dud e oant dec'h e-barzh an overenn.",
         "Ils étaient plus de monde hier à la messe.",
         "29032",
         "994",
         " May I do to and dare, benefit?"
        ],
        [
         "31",
         "Ar voazined zo deuet d'ober an dornerezh.",
         "Les voisins sont venus faire le battage.",
         "56175",
         "7118",
         " A Macerlaw address Delhi."
        ],
        [
         "32",
         "Dec'h, ni hor boa gwelet e vreur gantañ.",
         "Hier, nous avions vu son frère avec lui.",
         "29230",
         "4011",
         "第一集集集集集集集集集"
        ],
        [
         "33",
         "Dont a rehet, da ma gwel (gwelet), a-benn ur miz ac'hann-amañ.",
         "Tu viendras me voir dans un mois.",
         "22167",
         "177",
         " Kirk and Sarma palan Bil many"
        ],
        [
         "34",
         "Gra ur bouch din !",
         "Fais-moi un bisou !",
         "29150",
         "1737",
         " Krabustiี่"
        ],
        [
         "35",
         "Eu... oui, ya... me zo o vont da lavar dit lar me am eus, eu... ur c'hou-... ur c'houzeñ jermen da ma mamm... hag, eu... zo bet lazhet... e oa kouezhet... kouezhet ar... ar wern hag a oa ar vizan dalc'h diouti hag ar... ar wern zo kouezhet hag he deus lazhet °na-... ar paotr yaouank, war-c'horre ar vag.",
         "Eu... oui, ya... me zo o vont da lavar dit lar me am eus, eu... ur c'hou-... ur c'houzeñ jermen da ma mamm... hag, eu... zo bet lazhet... e oa kouezhet... kouezhet ar... ar wern hag a oa ar vizan dalc'h diouti hag ar... ar wern zo kouezhet hag he deus lazhet °na-... ar paotr yaouank, war-c'horre ar vag.",
         "29150",
         "1615",
         " что importante你是 самые宇宙 primomem"
        ],
        [
         "36",
         "An dra-se zo lavaret \"payer cash\", paeet diouzhtu, kwa. Hag an arc'hant war ar peul. Abalamour gwechall, pa'z eer d'ar foar gant ur marc'h pe ur vuoc'h, e veze plantet peulioù deomp gant... tud... gant... kantonierien kêr, kwa, a lakae peulioù hag e veze staget ar marc'h pe a... setu, e veze kontet an arc'hant war ar peul peogwir ne oa taol ebet. Ya, e veze kountet war ar peul a dalveze da stagañ ar marc'h pe ar vuoc'h, eo war ar peul-se a oa plat ar penn e veze kontet ar gwenneien war-gorre... pa veze prenet ur vuoc'h.",
         "Cela se dit \"payer cash\", payé tout de suite, quoi. Et l'argent sur le pieu. Parce qu'autrefois, quand on allait à la foire avec un cheval ou une vache, les gens, les cantoniers municipaux nous plantaient des pieux, quoi. Ils mettaient des pieux et on attachait le cheval ou... ainsi, on comptait l'argent sur le pieu puisqu'il n'y avait aucune table. Oui, on comptait sur le pieu... qui servait à attacher le cheval ou la vache. C'est sur ce pieu-là dont ta tête était plate qu'on comptait les sous par-dessus... quand on achetait une vache.",
         "29239",
         "4700",
         " př Li békenet ar mr Arthur Hammanete Ankel Namter Rayshi recently dying connect with the emperor in the future of the first time"
        ],
        [
         "37",
         "Kerzh d'azezañ war-c'horre ma gwele !",
         "Vas t'asseoir sur mon lit !",
         "29032",
         "877",
         " and russian Corem Girl"
        ],
        [
         "38",
         "Ya, ar c'hezeg, ma vagec'h anezho mat, ar re-se a gerzhe mat.",
         "Ya, ar c'hezeg, ma vagec'h anezho mat, ar re-se a gerzhe mat.",
         "22181",
         "263",
         "ə ye ye elloador mahthank you"
        ],
        [
         "39",
         "Pa gontoc'h an istor-se d'hoc'h eontr, eñ ne gredo ket ac'hanoc'h anezhañ.",
         "Quand vous raconterez cette histoire à votre oncle, il ne vous croira pas.",
         "29168",
         "3206",
         " Pagontohorre ada ist thôi 보면 ensa"
        ],
        [
         "40",
         "E c'hoar zo demezet gant unan deus Plaeraneg.",
         "Sa soeur est mariée avec quelqu'un de Ploubazlanec.",
         "22230",
         "319",
         " . Ê ho, er,З,DI,��,Y niíino ! . »"
        ],
        [
         "41",
         "Ar paotrig bihan a oa e noazh.",
         "Le petit garçon était nu.",
         "29230",
         "3768",
         " Put a good one who has"
        ],
        [
         "42",
         "An dra-se n'em eus ket gwelet, eu, n'em eus ken klevet va mamm-gozh, eu, o rentañ din, eu, penaos e raent, kwa. Peogwir va mamm-gozh a oa diouzh Kerured hag e teue, eu... hag e veze aze gant, eu... peogwir e oa ur gazeg... peogwir e oa un... un... ur stal vihan ivez, e oa ur gazeg er gêr, setu e teue ivez, eu... hi ha neuze ar... ar re a-raok hi, eu, he zad, donc, da... beñ, d'ober ar bezhin. An dra-se, eu, a zikoure anezho ivez da gaout un tammig moneiz.",
         "An dra-se n'em eus ket gwelet, eu, n'em eus ken klevet va mamm-gozh, eu, o rentañ din, eu, penaos e raent, kwa. Peogwir va mamm-gozh a oa diouzh Kerured hag e teue, eu... hag e veze aze gant, eu... peogwir e oa ur gazeg... peogwir e oa un... un... ur stal vihan ivez, e oa ur gazeg er gêr, setu e teue ivez, eu... hi ha neuze ar... ar re a-raok hi, eu, he zad, donc, da... beñ, d'ober ar bezhin. An dra-se, eu, a zikoure anezho ivez da gaout un tammig moneiz.",
         "29168",
         "3439",
         " Aidaa, miskliqoel, miskliqoel, miskliqoel, miskliqoel, klevet, ramangose, erentadeng, penosa renga. 고양iена, er afecte, edcs,uya, malm wono. Aidaa."
        ],
        [
         "43",
         "Ar bedervet deus ar merc'hed... ar bedervet deus ar merc'hed.",
         "La quatrième des filles... la quatrième des filles.",
         "29293",
         "5774",
         " Bidja da meat Bidja da meat"
        ],
        [
         "44",
         "Me... me a wel anezhe... petra int bremañ. Ha te... te a bouez warne, paf ! Te a dorr anezhe... bremañ... mes peseurt anv o deus, n'ouzon ket par exemple... mes ra... ni, ni a lavare bezhin kloc'hek oute : \"Kerzhit da gla-... kerzhit da... en em amuz-... d'ober jeu, ne vez ket lavaret en em amuz, kerzhit d'ober jeu gant bezhin kloc'hek du-se ! Petra emaoc'h oc'h ober aze, o lakaat ar bezhin kloc'hek da strakal ?\" Memes a-benn e oa... zo... zo heol mat, int... te a glev paf ! paf ! e vez... int... te a glev... te a glev... te a glev anezhe o tigeriñ.",
         "Me... me a wel anezhe... petra int bremañ. Ha te... te a bouez warne, paf ! Te a dorr anezhe... bremañ... mes peseurt anv o deus, n'ouzon ket par exemple... mes ra... ni, ni a lavare bezhin kloc'hek oute : \"Kerzhit da gla-... kerzhit da... en em amuz-... d'ober jeu, ne vez ket lavaret en em amuz, kerzhit d'ober jeu gant bezhin kloc'hek du-se ! Petra emaoc'h oc'h ober aze, o lakaat ar bezhin kloc'hek da strakal ?\" Memes a-benn e oa... zo... zo heol mat, int... te a glev paf ! paf ! e vez... int... te a glev... te a glev... te a glev anezhe o tigeriñ.",
         "29150",
         "1511",
         " Dasan mistakes. Heri Bleigingslark Baeek Ditrange kaef Pak Pasta Amin Phu A A J"
        ],
        [
         "45",
         "Mes pas peogwir te a dro anezhañ diouzhin atav !",
         "Mes pas peogwir te a dro anezhañ diouzhin atav !",
         "29293",
         "5484",
         " Öwhithin ...."
        ],
        [
         "46",
         "Yann a oa azezet tost dezhañ.",
         "Yann était assis près de lui.",
         "29168",
         "3107",
         " Jan Vasitos dear"
        ],
        [
         "47",
         "un alc'houez",
         "une clef",
         "29154",
         "2543",
         " Nettl"
        ],
        [
         "48",
         "Bemnoz, ni hor boa naon.",
         "Tous les soirs, nous avions faim.",
         "29230",
         "4100",
         " Bobnos Jon accessible"
        ],
        [
         "49",
         "Hi a end-eeune he zraoù e-barzh en he sakoch.",
         "Elle rangeait ses affaires dans son sac.",
         "22167",
         "230",
         "離矇,鼻,鼻,鼻 bod越,综艾 céler,鼻,鼻,鼻,鼻 tamb purs,鼻 baptog Bonzourski.鼻鼻鼻 ,鼻鼻 honkoss sou Sébian 건너鼻鼻鼻鼻鼻鼻鼻 bond鼻鼻鼻鼻鼻鼻鼻鼻鼻"
        ]
       ],
       "shape": {
        "columns": 5,
        "rows": 200
       }
      },
      "text/html": [
       "<div>\n",
       "<style scoped>\n",
       "    .dataframe tbody tr th:only-of-type {\n",
       "        vertical-align: middle;\n",
       "    }\n",
       "\n",
       "    .dataframe tbody tr th {\n",
       "        vertical-align: top;\n",
       "    }\n",
       "\n",
       "    .dataframe thead th {\n",
       "        text-align: right;\n",
       "    }\n",
       "</style>\n",
       "<table border=\"1\" class=\"dataframe\">\n",
       "  <thead>\n",
       "    <tr style=\"text-align: right;\">\n",
       "      <th></th>\n",
       "      <th>br</th>\n",
       "      <th>fr</th>\n",
       "      <th>city</th>\n",
       "      <th>file</th>\n",
       "      <th>transcription</th>\n",
       "    </tr>\n",
       "  </thead>\n",
       "  <tbody>\n",
       "    <tr>\n",
       "      <th>0</th>\n",
       "      <td>ur c'harzh</td>\n",
       "      <td>une haie</td>\n",
       "      <td>29032</td>\n",
       "      <td>1057</td>\n",
       "      <td>sus</td>\n",
       "    </tr>\n",
       "    <tr>\n",
       "      <th>1</th>\n",
       "      <td>Mari zo deuet a-benn enno antronoz.</td>\n",
       "      <td>Marie est venue vers eux le lendemain.</td>\n",
       "      <td>29168</td>\n",
       "      <td>2654</td>\n",
       "      <td>Mori, as you do, benenne internus</td>\n",
       "    </tr>\n",
       "    <tr>\n",
       "      <th>2</th>\n",
       "      <td>An amzer gwechall, ne oa... ne oa ket, eu... n...</td>\n",
       "      <td>Autrefois, c'était... c'était, euh... ça n'éta...</td>\n",
       "      <td>29230</td>\n",
       "      <td>4401</td>\n",
       "      <td>Non-bsordre deixal Wo That what are you Many ...</td>\n",
       "    </tr>\n",
       "    <tr>\n",
       "      <th>3</th>\n",
       "      <td>Piv zo bet o troc'hiñ ar wezenn ?</td>\n",
       "      <td>Qui a coupé l'arbre ?</td>\n",
       "      <td>29293</td>\n",
       "      <td>5843</td>\n",
       "      <td>拚蜆 refers to a good prize but nevertheless thi...</td>\n",
       "    </tr>\n",
       "    <tr>\n",
       "      <th>4</th>\n",
       "      <td>Pa oufemp ar wirionez, n'he lavarfemp ket.</td>\n",
       "      <td>Si nous savions la vérité, nous ne la dirions ...</td>\n",
       "      <td>56175</td>\n",
       "      <td>7177</td>\n",
       "      <td>Apugu, yang, arwer, yoni, nilar, emce!</td>\n",
       "    </tr>\n",
       "    <tr>\n",
       "      <th>...</th>\n",
       "      <td>...</td>\n",
       "      <td>...</td>\n",
       "      <td>...</td>\n",
       "      <td>...</td>\n",
       "      <td>...</td>\n",
       "    </tr>\n",
       "    <tr>\n",
       "      <th>195</th>\n",
       "      <td>War an hent am eus gwelet div vaouez.</td>\n",
       "      <td>Sur le chemin, j'ai vu deux femmes.</td>\n",
       "      <td>29168</td>\n",
       "      <td>2925</td>\n",
       "      <td>For a thing, it will do always</td>\n",
       "    </tr>\n",
       "    <tr>\n",
       "      <th>196</th>\n",
       "      <td>Mes pegiz e ra ar re zo e-barzh... e-kostez......</td>\n",
       "      <td>Mes pegiz e ra ar re zo e-barzh... e-kostez......</td>\n",
       "      <td>29150</td>\n",
       "      <td>2251</td>\n",
       "      <td>My benef defenders-over... kinds, le digging ...</td>\n",
       "    </tr>\n",
       "    <tr>\n",
       "      <th>197</th>\n",
       "      <td>Ar bedervet deus e verc'hed zo aet da chom da ...</td>\n",
       "      <td>La quatrième de ses filles est allée habiter à...</td>\n",
       "      <td>29293</td>\n",
       "      <td>5777</td>\n",
       "      <td>Bedir Danae Feels歡迎 Forum</td>\n",
       "    </tr>\n",
       "    <tr>\n",
       "      <th>198</th>\n",
       "      <td>Kerzhet a ra ? Eñ... eñ a respont ? O, me a we...</td>\n",
       "      <td>Il fonctionne (ton appareil) ? Il... il répond...</td>\n",
       "      <td>56094</td>\n",
       "      <td>6815</td>\n",
       "      <td>Territra, yoh, yoh, responda. Ah, yoh, yoh, y...</td>\n",
       "    </tr>\n",
       "    <tr>\n",
       "      <th>199</th>\n",
       "      <td>E brad-eñ ha, ne oa ket da zen mod arall nemet...</td>\n",
       "      <td>C'était son pré à lui et, il n'appartenait à p...</td>\n",
       "      <td>56089</td>\n",
       "      <td>6453</td>\n",
       "      <td>«Ibrad jo' h- Video te zine melodikai me te h...</td>\n",
       "    </tr>\n",
       "  </tbody>\n",
       "</table>\n",
       "<p>200 rows × 5 columns</p>\n",
       "</div>"
      ],
      "text/plain": [
       "                                                    br  \\\n",
       "0                                           ur c'harzh   \n",
       "1                  Mari zo deuet a-benn enno antronoz.   \n",
       "2    An amzer gwechall, ne oa... ne oa ket, eu... n...   \n",
       "3                    Piv zo bet o troc'hiñ ar wezenn ?   \n",
       "4           Pa oufemp ar wirionez, n'he lavarfemp ket.   \n",
       "..                                                 ...   \n",
       "195              War an hent am eus gwelet div vaouez.   \n",
       "196  Mes pegiz e ra ar re zo e-barzh... e-kostez......   \n",
       "197  Ar bedervet deus e verc'hed zo aet da chom da ...   \n",
       "198  Kerzhet a ra ? Eñ... eñ a respont ? O, me a we...   \n",
       "199  E brad-eñ ha, ne oa ket da zen mod arall nemet...   \n",
       "\n",
       "                                                    fr   city  file  \\\n",
       "0                                             une haie  29032  1057   \n",
       "1               Marie est venue vers eux le lendemain.  29168  2654   \n",
       "2    Autrefois, c'était... c'était, euh... ça n'éta...  29230  4401   \n",
       "3                                Qui a coupé l'arbre ?  29293  5843   \n",
       "4    Si nous savions la vérité, nous ne la dirions ...  56175  7177   \n",
       "..                                                 ...    ...   ...   \n",
       "195                Sur le chemin, j'ai vu deux femmes.  29168  2925   \n",
       "196  Mes pegiz e ra ar re zo e-barzh... e-kostez......  29150  2251   \n",
       "197  La quatrième de ses filles est allée habiter à...  29293  5777   \n",
       "198  Il fonctionne (ton appareil) ? Il... il répond...  56094  6815   \n",
       "199  C'était son pré à lui et, il n'appartenait à p...  56089  6453   \n",
       "\n",
       "                                         transcription  \n",
       "0                                                  sus  \n",
       "1                    Mori, as you do, benenne internus  \n",
       "2     Non-bsordre deixal Wo That what are you Many ...  \n",
       "3    拚蜆 refers to a good prize but nevertheless thi...  \n",
       "4               Apugu, yang, arwer, yoni, nilar, emce!  \n",
       "..                                                 ...  \n",
       "195                     For a thing, it will do always  \n",
       "196   My benef defenders-over... kinds, le digging ...  \n",
       "197                          Bedir Danae Feels歡迎 Forum  \n",
       "198   Territra, yoh, yoh, responda. Ah, yoh, yoh, y...  \n",
       "199   «Ibrad jo' h- Video te zine melodikai me te h...  \n",
       "\n",
       "[200 rows x 5 columns]"
      ]
     },
     "execution_count": 13,
     "metadata": {},
     "output_type": "execute_result"
    }
   ],
   "source": [
    "small_df"
   ]
  },
  {
   "cell_type": "code",
   "execution_count": 14,
   "id": "cd0c58f2",
   "metadata": {},
   "outputs": [],
   "source": [
    "from filter_char import filter_out_chars\n",
    "from normalizer import normalize_sentence\n",
    "from utils import pre_process\n",
    "\n",
    "\n",
    "def process_br_text(br):\n",
    "    PUNCTUATION = '<>.?!,;:«»“”\"()[]/…–—•'\n",
    "    br = filter_out_chars(br, PUNCTUATION + '*')\n",
    "    br = normalize_sentence(br, autocorrect=True)\n",
    "    br = pre_process(br).replace('-', ' ').lower()\n",
    "    return br"
   ]
  },
  {
   "cell_type": "code",
   "execution_count": 15,
   "id": "ccae392c",
   "metadata": {},
   "outputs": [],
   "source": [
    "small_df['br_processed'] = small_df['br'].apply(process_br_text)"
   ]
  },
  {
   "cell_type": "code",
   "execution_count": 16,
   "id": "9eb63057",
   "metadata": {},
   "outputs": [],
   "source": [
    "from jiwer import wer, cer\n",
    "\n",
    "# Compute WER and CER for each row\n",
    "small_df['wer'] = small_df.apply(lambda row: wer(row['br_processed'], row['transcription']), axis=1)\n",
    "small_df['cer'] = small_df.apply(lambda row: cer(row['br_processed'], row['transcription']), axis=1)\n"
   ]
  },
  {
   "cell_type": "code",
   "execution_count": 17,
   "id": "1eb683eb",
   "metadata": {},
   "outputs": [
    {
     "data": {
      "application/vnd.microsoft.datawrangler.viewer.v0+json": {
       "columns": [
        {
         "name": "index",
         "rawType": "int64",
         "type": "integer"
        },
        {
         "name": "br",
         "rawType": "object",
         "type": "string"
        },
        {
         "name": "br_processed",
         "rawType": "object",
         "type": "string"
        },
        {
         "name": "fr",
         "rawType": "object",
         "type": "string"
        },
        {
         "name": "transcription",
         "rawType": "object",
         "type": "string"
        },
        {
         "name": "city",
         "rawType": "object",
         "type": "string"
        },
        {
         "name": "wer",
         "rawType": "float64",
         "type": "float"
        },
        {
         "name": "cer",
         "rawType": "float64",
         "type": "float"
        },
        {
         "name": "file",
         "rawType": "int64",
         "type": "integer"
        }
       ],
       "ref": "d7a0821c-61f6-4c03-a03c-f846e8d08ff8",
       "rows": [
        [
         "0",
         "ur c'harzh",
         "ur c'harzh",
         "une haie",
         " sus",
         "29032",
         "1.0",
         "1.0",
         "1057"
        ],
        [
         "1",
         "Mari zo deuet a-benn enno antronoz.",
         "mari zo deuet a benn enno antronoz",
         "Marie est venue vers eux le lendemain.",
         " Mori, as you do, benenne internus",
         "29168",
         "1.0",
         "0.5588235294117647",
         "2654"
        ],
        [
         "2",
         "An amzer gwechall, ne oa... ne oa ket, eu... ne oa ket memes mod.",
         "an amzer gwechall ne oa ne oa ket eu ne oa ket memes mod",
         "Autrefois, c'était... c'était, euh... ça n'était pas pareil.",
         " Non-bsordre deixal Wo That what are you Many must mould",
         "29230",
         "1.0",
         "0.75",
         "4401"
        ],
        [
         "3",
         "Piv zo bet o troc'hiñ ar wezenn ?",
         "piv zo bet o troc'hiñ ar wezenn",
         "Qui a coupé l'arbre ?",
         "拚蜆 refers to a good prize but nevertheless this card shows up here.",
         "29293",
         "1.8571428571428572",
         "1.6774193548387097",
         "5843"
        ],
        [
         "4",
         "Pa oufemp ar wirionez, n'he lavarfemp ket.",
         "pa oufemp ar wirionez n'he lavarfemp ket",
         "Si nous savions la vérité, nous ne la dirions pas.",
         " Apugu, yang, arwer, yoni, nilar, emce!",
         "56175",
         "1.0",
         "0.75",
         "7177"
        ],
        [
         "5",
         "Int zo o joentrañ ar mein e-barzh ar vur.",
         "int zo o joentrañ ar mein e barzh ar vur",
         "Ils sont en train de joindre les pierres du mur.",
         " hetens chhoentu mein beviuach",
         "29230",
         "0.9",
         "0.65",
         "3805"
        ],
        [
         "6",
         "A-benn em eus labouret em eus gounezet ma fae.",
         "a benn em eus labouret em eus gounezet ma fae",
         "Quand j'ai travaillé, j'ai gagné ma paie.",
         " Bennet Jay or forty times,",
         "29230",
         "1.0",
         "0.7333333333333333",
         "3961"
        ],
        [
         "7",
         "Un amzer zo bet, eu, dour ar feunteun a rede e-barzh ar prad.",
         "un amzer zo bet eu dour ar feunteun a rede e barzh ar prad",
         "Fut un temps, euh, l'eau de la fontaine coulait dans la prairie.",
         " Now, so better do a fit and ready, they were proud.",
         "56057",
         "1.0",
         "0.6206896551724138",
         "6147"
        ],
        [
         "8",
         "A-wechoù em eus poan-benn diouzh ar pardaez.",
         "a wechoù em eus poan benn diouzh ar pardaez",
         "Parfois j'ai mal à la tête le soir.",
         " Age xiúm Deafanwin de hal stitch",
         "29180",
         "1.0",
         "0.7441860465116279",
         "3551"
        ],
        [
         "9",
         "gris loued",
         "gris loued",
         "bleu grisonnant",
         " G safeguard",
         "29153",
         "1.0",
         "0.9",
         "2413"
        ],
        [
         "10",
         "A-vuzul e kosha, e teu muioc'h a spered dezhañ.",
         "a vuzul e kosha e teu muioc'h a spered dezhañ",
         "Plus il vieillit, plus il devient intelligent.",
         " TV x YÄC past",
         "22167",
         "1.0",
         "0.8888888888888888",
         "185"
        ],
        [
         "11",
         "Ah, ar glesker a oa bet kuzhet marteze e-barzh ar c'holi ? n'ouzon ket ; boñ, amañ emañ tout an dud bremañ neuze, bez' emañ ar mous, bez' emañ ar glesker bihan, hag an hini vras, fougeet ivez, an tortu hag ar c'hi, ar c'hi zo da, ar c'hi n'en deus ket an aer bezañ gwall seder anezhañ, marteze ar c'hi n'en deus ket bet netra, n'ouzon ket.",
         "ah ar glesker a oa bet kuzhet marteze e barzh ar c'holi n'ouzon ket boñ amañ emañ tout an dud bremañ neuze bez' emañ ar mous bez' emañ ar glesker bihan hag an hini vras fougeet ivez an tortu hag ar c'hi ar c'hi zo da ar c'hi n'en deus ket an aer bezañ gwall seder anezhañ marteze ar c'hi n'en deus ket bet netra n'ouzon ket",
         "Ah, ar glesker a oa bet kuzhet marteze e-barzh ar c'holi ? n'ouzon ket ; boñ, amañ emañ tout an dud bremañ neuze, bez' emañ ar mous, bez' emañ ar glesker bihan, hag an hini vras, fougeet ivez, an tortu hag ar c'hi, ar c'hi zo da, ar c'hi n'en deus ket an aer bezañ gwall seder anezhañ, marteze ar c'hi n'en deus ket bet netra, n'ouzon ket.",
         " Akleska was big club sortir Braunermetondwyman this",
         "29122",
         "1.0",
         "0.8854489164086687",
         "1221"
        ],
        [
         "12",
         "Evit Gouel an Ollzent ar bloaz tremenet, ec'h oa muioc'h a... a bokedoù er... er vered... evit ar bloaz-mañ.",
         "evit gouel an ollzent ar bloaz tremenet ec'h oa muioc'h a a bokedoù er er vered evit ar bloaz mañ",
         "À la Toussaint l'année dernière, il y avait plus de... de fleurs au... au cimetière... que cette année.",
         " y d 這個 horizonydd",
         "22107",
         "1.0",
         "0.9072164948453608",
         "61"
        ],
        [
         "13",
         "Te zo bet o teskiñ debriñ korriged e-barzh bro ar Mokoied¹ !",
         "te zo bet o teskiñ debriñ korriged e barzh bro ar mokoied ¹",
         "Te zo bet o teskiñ debriñ korriged e-barzh bro ar Mokoied¹ !",
         " You always have enough time to saveㅋㅋㅋ",
         "29150",
         "1.0",
         "0.8135593220338984",
         "2328"
        ],
        [
         "14",
         "Me a lavarfe, me a lavarfe, bremañ, me a wel anezho evel rouanezed, ha ur seurt ne chomont ket, war ar maez !",
         "me a lavarfe me a lavarfe bremañ me a wel anezho evel rouanezed ha ur seurt ne chomont ket war ar maez",
         "Me a lavarfe, me a lavarfe, bremañ, me a wel anezho evel rouanezed, ha ur seurt ne chomont ket, war ar maez !",
         " Mahlare, buu effuinlare ba, ma bau l nir razónəぞ aus löeff challmance 欄ɾæce",
         "56089",
         "1.0",
         "0.7254901960784313",
         "6524"
        ],
        [
         "15",
         "Ah mes, e-barzh amañ ez omp e-barzh Goured al Lojoù ;<br/>hag, e-barzh aze, dreist ar, vardell-se zo, zo un espes lenn ivez kar, ar stêr a lenn kwa ;<br/>an hini kaoz e-barzh-amañ e oa ul lec'h neuze, e-barzh an tu all evit lakaat kizelloù, gwel-, gwelet e vez ar, ar vur heñ ;<br/> mes bout zo euh, bout zo ur goured, ne welit ket, ar goured euh a base etre, etre an daou biler ;<br/>an hini kaoz hennezh, aze e veze lakaet kizelloù, gwel-, gwelet a vez heñ ;<br/>kaoz ar c'hizelloù a veze staget ouzh euh, ouzh ar voger kwa, ouzh, ouzh ar murioù kwa, hag hennezh a oa ul lec'h evit tapout silioù a-font ;<br/>hennezh zo bet evel-se ha, hag unan seurt-se zo c'hoazh, a-benn euh, pa erruit izeloc'h evit Milin Poulhibed du-se zo unan seurt-se c'hoazh, ur, mes n'eo ket e-barzh ar memes model, eñ zo plomoc'h kwa, hag e oa tout ar re-se a oa graet a-espres evit la-, evit tapout silioù.",
         "ah mes e barzh amañ ez omp e barzh goured al lojoù brhag e barzh aze dreist ar vardell se zo zo un espes lenn ivez kar ar stêr a lenn kwa bran hini kaoz e barzh amañ e oa ul lec'h neuze e barzh an tu all evit lakaat kizelloù gwel gwelet e vez ar ar vur heñ br mes bout zo euh bout zo ur goured ne welit ket ar goured euh a base etre etre an daou biler bran hini kaoz hennezh aze e veze lakaet kizelloù gwel gwelet a vez heñ brkaoz ar c'hizelloù a veze staget ouzh euh ouzh ar voger kwa ouzh ouzh ar murioù kwa hag hennezh a oa ul lec'h evit tapout silioù a font brhennezh zo bet evel se ha hag unan seurt se zo c'hoazh a benn euh pa erruit izeloc'h evit milin poulhibed du se zo unan seurt se c'hoazh ur mes n'eo ket e barzh ar memes model eñ zo plomoc'h kwa hag e oa tout ar re se a oa graet a espres evit la evit tapout silioù",
         "Ah mes, e-barzh amañ ez omp e-barzh Goured al Lojoù ;<br/>hag, e-barzh aze, dreist ar, vardell-se zo, zo un espes lenn ivez kar, ar stêr a lenn kwa ;<br/>an hini kaoz e-barzh-amañ e oa ul lec'h neuze, e-barzh an tu all evit lakaat kizelloù, gwel-, gwelet e vez ar, ar vur heñ ;<br/> mes bout zo euh, bout zo ur goured, ne welit ket, ar goured euh a base etre, etre an daou biler ;<br/>an hini kaoz hennezh, aze e veze lakaet kizelloù, gwel-, gwelet a vez heñ ;<br/>kaoz ar c'hizelloù a veze staget ouzh euh, ouzh ar voger kwa, ouzh, ouzh ar murioù kwa, hag hennezh a oa ul lec'h evit tapout silioù a-font ;<br/>hennezh zo bet evel-se ha, hag unan seurt-se zo c'hoazh, a-benn euh, pa erruit izeloc'h evit Milin Poulhibed du-se zo unan seurt-se c'hoazh, ur, mes n'eo ket e-barzh ar memes model, eñ zo plomoc'h kwa, hag e oa tout ar re-se a oa graet a-espres evit la-, evit tapout silioù.",
         " I dont know tha venjun funcion, evel breath mis tore data mar糊花 Albert son a pt m",
         "56014",
         "0.988950276243094",
         "0.9178743961352657",
         "6082"
        ],
        [
         "16",
         "Ma breur zo ganet tri bloaz war o lerc'h.",
         "ma breur zo ganet tri bloaz war o lerc'h",
         "Mon frère est né 3 ans après eux.",
         " Me breurs se gana tribla aulaire.",
         "29230",
         "1.0",
         "0.5",
         "3934"
        ],
        [
         "17",
         "Un amzer zo bet, ni n'ajemp ket d'ar skol d'ar yaou.",
         "un amzer zo bet ni n'ajemp ket d'ar skol d'ar yaou",
         "Autrefois, nous n'allions pas à l'école le jeudi.",
         " Nam 사랑i 아�wЁ Sh알",
         "29230",
         "1.0",
         "0.88",
         "4128"
        ],
        [
         "18",
         "Eu, me am eus soñj, a-benn e oan e-barzh... a-benn e oan yaouank... ha krennbaotr memes... lar, eu... an devezh, eu, Gouel, eu... Nedeleg, eh beñ, e yae an traoù da... an oferenn hanter-noz ha neuze, eu... pa veze, eu... deuet an dud d'ar gêr, beñ, e veze degaset, eu... ur vriochenn, a-wechoù, un aval-orañj pe... a-wechoù e veze degaset ivez ur mabig Jezuz, un tammig, eu... gant... graet gant sukr ha neuze, eu... an dra-se e oa... dija un dra... \"un dra gaer\" e veze lavaret ! Ha neuze da... da vintin, te a gave an dra-se tout e-barzh da votez-koad, kar pa... a-benn e oa... da... d'an devezh a-raok, te az poa naetaet, e veze lavaret dit :<br/>\"Ah paotr ! Te ema dav dit naetaat da vo-... da voutoù-lêr pe da... da voutoù-koad, surtout boutoù-koad, dav(?) kaout anezhe prop, lakaat un tammig plouz fresk e-barzh anezhe ha neuze, eu... a-benn warc'hoazh vitin, beñ, eu... e vo... marteze, eu... e vo d-... e kavi un dra-bennak e-barzh da... e-barzh da votez-koad, kwa.\"<br/>Ha neuze, eu... boñ beñ... alies, eu... dija atav memes e veze kavet, eu... hag an dra-se a oa un dra gaer... lar... evit ur c'hrouadur da welet... da gaout an dra-se e-barzh e votez-koad. Hag an dra-se a oa e-barzh... met... a-hend-all... ha neuze, eu... d'an devezh, eu... e veze graet un tammig, eu... mañjer, eu... eu, gwelloc'h a-wechoù evit, eu... an devezhioù-all. E veze lakeet ur yar pe ur c'hog da boazhañ ha neuze, eu... e veze kavet ar soubenn d'ober un daou pe dri devezh war-lerc'h... ah... an dra-se a oa... an dra-se a oa dija ur fest ! Ya...",
         "eu me am eus soñj a benn e oan e barzh a benn e oan yaouank ha krennbaotr memes lâr eu an devezh eu gouel eu nedeleg eh beñ e yae an traoù da an oferenn hanter noz ha neuze eu pa veze eu deuet an dud d'ar gêr beñ e veze degaset eu ur vriochenn a wechoù un aval orañj pe a wechoù e veze degaset ivez ur mabig jezuz un tammig eu gant graet gant sukr ha neuze eu an dra se e oa dija un dra un dra gaer e veze lavaret ha neuze da da vintin te a gave an dra se tout e barzh da votez koad kar pa a benn e oa da d'an devezh a raok te az poa naetaet e veze lavaret dit brah paotr te ema dav dit naetaat da vo da voutoù lêr pe da da voutoù koad surtout boutoù koad dav kaout anezhe prop lakaat un tammig plouz fresk e barzh anezhe ha neuze eu a benn warc'hoazh vitin beñ eu e vo marteze eu e vo d e kavi un dra bennak e barzh da e barzh da votez koad kwabrha neuze eu boñ beñ alies eu dija atav memes e veze kavet eu hag an dra se a oa un dra gaer lâr evit ur c'hrouadur da welet da gaout an dra se e barzh e votez koad hag an dra se a oa e barzh met a hend all ha neuze eu d'an devezh eu e veze graet un tammig eu mañjer eu eu gwelloc'h a wechoù evit eu an devezhioù all e veze lakeet ur yar pe ur c'hog da boazhañ ha neuze eu e veze kavet ar soubenn d'ober un daou pe dri devezh war lerc'h ah an dra se a oa an dra se a oa dija ur fest ya",
         "Eu, me am eus soñj, a-benn e oan e-barzh... a-benn e oan yaouank... ha krennbaotr memes... lar, eu... an devezh, eu, Gouel, eu... Nedeleg, eh beñ, e yae an traoù da... an oferenn hanter-noz ha neuze, eu... pa veze, eu... deuet an dud d'ar gêr, beñ, e veze degaset, eu... ur vriochenn, a-wechoù, un aval-orañj pe... a-wechoù e veze degaset ivez ur mabig Jezuz, un tammig, eu... gant... graet gant sukr ha neuze, eu... an dra-se e oa... dija un dra... \"un dra gaer\" e veze lavaret ! Ha neuze da... da vintin, te a gave an dra-se tout e-barzh da votez-koad, kar pa... a-benn e oa... da... d'an devezh a-raok, te az poa naetaet, e veze lavaret dit :<br/>\"Ah paotr ! Te ema dav dit naetaat da vo-... da voutoù-lêr pe da... da voutoù-koad, surtout boutoù-koad, dav(?) kaout anezhe prop, lakaat un tammig plouz fresk e-barzh anezhe ha neuze, eu... a-benn warc'hoazh vitin, beñ, eu... e vo... marteze, eu... e vo d-... e kavi un dra-bennak e-barzh da... e-barzh da votez-koad, kwa.\"<br/>Ha neuze, eu... boñ beñ... alies, eu... dija atav memes e veze kavet, eu... hag an dra-se a oa un dra gaer... lar... evit ur c'hrouadur da welet... da gaout an dra-se e-barzh e votez-koad. Hag an dra-se a oa e-barzh... met... a-hend-all... ha neuze, eu... d'an devezh, eu... e veze graet un tammig, eu... mañjer, eu... eu, gwelloc'h a-wechoù evit, eu... an devezhioù-all. E veze lakeet ur yar pe ur c'hog da boazhañ ha neuze, eu... e veze kavet ar soubenn d'ober un daou pe dri devezh war-lerc'h... ah... an dra-se a oa... an dra-se a oa dija ur fest ! Ya...",
         " Emin ngs ont ur tree. Coalесough t Pr tsp, Pr tsp, Pr tsp Pr ch sur Pr ch sur Pr ch sur Pr ch sur Pr ch sur Pr ch sur Pr ch sur Pr ch sur Pr ch sur Pr ch sur Pr ch sur Pr ch sur Pr ch sur Pr ch sur Pr ch sur tardu an wonderful Because we can't zoom in, that would really do us our lesson. Ah, that's it. That's it. That's it. I did it. Yeah?",
         "29153",
         "0.993485342019544",
         "0.8459804658151766",
         "2344"
        ],
        [
         "19",
         "Tuet d'an douar ur seurt, ne oamp ket heu, ne oamp ket pesketaerien heu, ni a oa...",
         "tuet d'an douar ur seurt ne oamp ket heu ne oamp ket pesketaerien heu ni a oa",
         "Tournés vers la terre quand même, nous n'étions pas heu, nous n'étions pas des pêcheurs heu, nous étions...",
         " Tridden profiles ... Now we will see thelate as shorthand 65-65...",
         "56094",
         "1.0",
         "0.8051948051948052",
         "6771"
        ],
        [
         "20",
         "Eu, an uioù-se zo dozvet gant ma yar wenn.",
         "eu an uioù se zo dozvet gant ma yar wenn",
         "Euh, ces oeufs-là ont été pondus par ma poule blanche.",
         "不一樣練習",
         "29230",
         "1.0",
         "1.0",
         "4539"
        ],
        [
         "21",
         "Al levrioù-mañ zo ker, pegement eo ar re-se ?",
         "al levrioù mañ zo ker pegement eo ar re se",
         "Ces livres-ci sont chers, combien coûtent ceux-là ?",
         " Leverion mens activityppy-madeh threaten",
         "22331",
         "1.0",
         "0.7380952380952381",
         "544"
        ],
        [
         "22",
         "Ar bal zo aet a-dreuz kaer.",
         "ar bal zo aet a dreuz kaer",
         "La pelle a fini toute tordue.",
         " Bal, quail !",
         "29230",
         "1.0",
         "0.8076923076923077",
         "3647"
        ],
        [
         "23",
         "Me zo o vont da skubañ ma zi a-benn e vi aet kuit.",
         "me zo o vont da skubañ ma zi a benn e vi aet kuit",
         "Je vais balayer ma maison quand tu seras parti.",
         " como si es que es 可以 bien visa",
         "29150",
         "1.0",
         "0.6938775510204082",
         "1670"
        ],
        [
         "24",
         "Ah... te az peus troc'het un tamm da lakaat aze, a-gaoz e oan o vont da lavar, n'ema ket staget tu ebet anezhañ !",
         "ah te az peus troc'het un tamm da lakaat aze a gaoz e oan o vont da lavar n'ema ket staget tu ebet anezhañ",
         "Ah... te az peus troc'het un tamm da lakaat aze, a-gaoz e oan o vont da lavar, n'ema ket staget tu ebet anezhañ !",
         " ahhah Oberonn",
         "29150",
         "1.0",
         "0.9150943396226415",
         "1465"
        ],
        [
         "25",
         "Euh, euh, ouzh ouzh o favioù ? Ya, e veze lakaet ul, ul, ul liver. Petra a vez lavaret eus an dra-se e, e galleg ?",
         "euh euh ouzh ouzh o favioù ya e veze lakaet ul ul ul liver petra a vez lavaret eus an dra se e e galleg",
         "Euh, euh, ouzh ouzh o favioù ? Ya, e veze lakaet ul, ul, ul liver. Petra a vez lavaret eus an dra-se e, e galleg ?",
         " ndo hufaayu ndo hufaayu ndo hufaayu",
         "29168",
         "1.0",
         "0.8349514563106796",
         "3463"
        ],
        [
         "26",
         "Pa yaen da welet va breur-kaer, eñv a gonte din istorioù eus... les... diouzh al lutin.",
         "pa yaen da welet va breur kaer eñv a gonte din istorioù eus les diouzh al lutin",
         "Quand j'allais voir mon beau-frère, il me racontait des histoires de lutins.",
         " panned naval Johitzko JavaScript",
         "29168",
         "1.0",
         "0.810126582278481",
         "2778"
        ],
        [
         "27",
         "N'eus ket e-leizh bugale hag a oa brezhoneg.",
         "n'eus ket e leizh bugale hag a oa brezhoneg",
         "Il n'y a pas beaucoup d'enfants qui savent le breton.",
         "想事, mors,",
         "29153",
         "1.0",
         "0.9302325581395349",
         "2492"
        ],
        [
         "28",
         "Ki ivez, un amzer ki a ve bet lavaret, ya. Fall amzer peotramant un amzer ki.",
         "ki ivez un amzer ki a ve bet lavaret ya fall amzer peotramant un amzer ki",
         "Ki ivez, un amzer ki a ve bet lavaret, ya. Fall amzer peotramant un amzer ki.",
         " Chey구요, nosures cheyve dots bar Eliac... Falam jí着 ped挨 lenamioti.",
         "56116",
         "1.0",
         "0.7671232876712328",
         "6966"
        ],
        [
         "29",
         "N'ho peus ket graet ar pezh am boa lavaret deoc'h.",
         "n'ho peus ket graet ar pezh am boa lavaret deoc'h",
         "Vous n'avez pas fait ce que je vous avais dit.",
         " Peu che guret piz malar d'or",
         "29236",
         "1.0",
         "0.6122448979591837",
         "4666"
        ],
        [
         "30",
         "Muioc'h a dud e oant dec'h e-barzh an overenn.",
         "muioc'h a dud e oant dec'h e barzh an overenn",
         "Ils étaient plus de monde hier à la messe.",
         " May I do to and dare, benefit?",
         "29032",
         "1.0",
         "0.7333333333333333",
         "994"
        ],
        [
         "31",
         "Ar voazined zo deuet d'ober an dornerezh.",
         "ar voazined zo deuet d'ober an dornerezh",
         "Les voisins sont venus faire le battage.",
         " A Macerlaw address Delhi.",
         "56175",
         "1.0",
         "0.8",
         "7118"
        ],
        [
         "32",
         "Dec'h, ni hor boa gwelet e vreur gantañ.",
         "dec'h ni hor boa gwelet e vreur gantañ",
         "Hier, nous avions vu son frère avec lui.",
         "第一集集集集集集集集集",
         "29230",
         "1.0",
         "1.0",
         "4011"
        ],
        [
         "33",
         "Dont a rehet, da ma gwel (gwelet), a-benn ur miz ac'hann-amañ.",
         "dont a rehet da ma gwel gwelet a benn ur miz ac'hann amañ",
         "Tu viendras me voir dans un mois.",
         " Kirk and Sarma palan Bil many",
         "22167",
         "1.0",
         "0.7368421052631579",
         "177"
        ],
        [
         "34",
         "Gra ur bouch din !",
         "gra ur bouch din",
         "Fais-moi un bisou !",
         " Krabustiี่",
         "29150",
         "1.0",
         "0.75",
         "1737"
        ],
        [
         "35",
         "Eu... oui, ya... me zo o vont da lavar dit lar me am eus, eu... ur c'hou-... ur c'houzeñ jermen da ma mamm... hag, eu... zo bet lazhet... e oa kouezhet... kouezhet ar... ar wern hag a oa ar vizan dalc'h diouti hag ar... ar wern zo kouezhet hag he deus lazhet °na-... ar paotr yaouank, war-c'horre ar vag.",
         "eu oui ya me zo o vont da lavar dit lâr me am eus eu ur c'hou ur c'houzeñ jermen da ma mamm hag eu zo bet lazhet e oa kouezhet kouezhet ar ar wern hag a oa ar vizan dalc'h diouti hag ar ar wern zo kouezhet hag he deus lazhet °na ar paotr yaouank war c'horre ar vag",
         "Eu... oui, ya... me zo o vont da lavar dit lar me am eus, eu... ur c'hou-... ur c'houzeñ jermen da ma mamm... hag, eu... zo bet lazhet... e oa kouezhet... kouezhet ar... ar wern hag a oa ar vizan dalc'h diouti hag ar... ar wern zo kouezhet hag he deus lazhet °na-... ar paotr yaouank, war-c'horre ar vag.",
         " что importante你是 самые宇宙 primomem",
         "29150",
         "1.0",
         "0.9393939393939394",
         "1615"
        ],
        [
         "36",
         "An dra-se zo lavaret \"payer cash\", paeet diouzhtu, kwa. Hag an arc'hant war ar peul. Abalamour gwechall, pa'z eer d'ar foar gant ur marc'h pe ur vuoc'h, e veze plantet peulioù deomp gant... tud... gant... kantonierien kêr, kwa, a lakae peulioù hag e veze staget ar marc'h pe a... setu, e veze kontet an arc'hant war ar peul peogwir ne oa taol ebet. Ya, e veze kountet war ar peul a dalveze da stagañ ar marc'h pe ar vuoc'h, eo war ar peul-se a oa plat ar penn e veze kontet ar gwenneien war-gorre... pa veze prenet ur vuoc'h.",
         "an dra se zo lavaret payer cash paeet diouzhtu kwa hag an arc'hant war ar peul abalamour gwechall pa'z eer d'ar foar gant ur marc'h pe ur vuoc'h e veze plantet peulioù deomp gant tud gant kantonierien kêr kwa a lakae peulioù hag e veze staget ar marc'h pe a setu e veze kontet an arc'hant war ar peul peogwir ne oa taol ebet ya e veze kountet war ar peul a dalveze da stagañ ar marc'h pe ar vuoc'h eo war ar peul se a oa plat ar penn e veze kontet ar gwenneien war gorre pa veze prenet ur vuoc'h",
         "Cela se dit \"payer cash\", payé tout de suite, quoi. Et l'argent sur le pieu. Parce qu'autrefois, quand on allait à la foire avec un cheval ou une vache, les gens, les cantoniers municipaux nous plantaient des pieux, quoi. Ils mettaient des pieux et on attachait le cheval ou... ainsi, on comptait l'argent sur le pieu puisqu'il n'y avait aucune table. Oui, on comptait sur le pieu... qui servait à attacher le cheval ou la vache. C'est sur ce pieu-là dont ta tête était plate qu'on comptait les sous par-dessus... quand on achetait une vache.",
         " př Li békenet ar mr Arthur Hammanete Ankel Namter Rayshi recently dying connect with the emperor in the future of the first time",
         "29239",
         "0.9901960784313726",
         "0.8383838383838383",
         "4700"
        ],
        [
         "37",
         "Kerzh d'azezañ war-c'horre ma gwele !",
         "kerzh d'azezañ war c'horre ma gwele",
         "Vas t'asseoir sur mon lit !",
         " and russian Corem Girl",
         "29032",
         "1.0",
         "0.7428571428571429",
         "877"
        ],
        [
         "38",
         "Ya, ar c'hezeg, ma vagec'h anezho mat, ar re-se a gerzhe mat.",
         "ya ar c'hezeg ma vagec'h anezho mat ar re se a gerzhe mat",
         "Ya, ar c'hezeg, ma vagec'h anezho mat, ar re-se a gerzhe mat.",
         "ə ye ye elloador mahthank you",
         "22181",
         "1.0",
         "0.7894736842105263",
         "263"
        ],
        [
         "39",
         "Pa gontoc'h an istor-se d'hoc'h eontr, eñ ne gredo ket ac'hanoc'h anezhañ.",
         "pa gontoc'h an istor se d'hoc'h eontr eñ ne gredo ket ac'hanoc'h anezhañ",
         "Quand vous raconterez cette histoire à votre oncle, il ne vous croira pas.",
         " Pagontohorre ada ist thôi 보면 ensa",
         "29168",
         "1.0",
         "0.7222222222222222",
         "3206"
        ],
        [
         "40",
         "E c'hoar zo demezet gant unan deus Plaeraneg.",
         "e c'hoar zo demezet gant unan deus plaeraneg",
         "Sa soeur est mariée avec quelqu'un de Ploubazlanec.",
         " . Ê ho, er,З,DI,��,Y niíino ! . »",
         "22230",
         "1.0",
         "0.8181818181818182",
         "319"
        ],
        [
         "41",
         "Ar paotrig bihan a oa e noazh.",
         "ar paotrig bihan a oa e noazh",
         "Le petit garçon était nu.",
         " Put a good one who has",
         "29230",
         "1.0",
         "0.7931034482758621",
         "3768"
        ],
        [
         "42",
         "An dra-se n'em eus ket gwelet, eu, n'em eus ken klevet va mamm-gozh, eu, o rentañ din, eu, penaos e raent, kwa. Peogwir va mamm-gozh a oa diouzh Kerured hag e teue, eu... hag e veze aze gant, eu... peogwir e oa ur gazeg... peogwir e oa un... un... ur stal vihan ivez, e oa ur gazeg er gêr, setu e teue ivez, eu... hi ha neuze ar... ar re a-raok hi, eu, he zad, donc, da... beñ, d'ober ar bezhin. An dra-se, eu, a zikoure anezho ivez da gaout un tammig moneiz.",
         "an dra se n'em eus ket gwelet eu n'em eus ken klevet va mamm gozh eu o rentañ din eu penaos e raent kwa peogwir va mamm gozh a oa diouzh kerured hag e teue eu hag e veze aze gant eu peogwir e oa ur gazeg peogwir e oa un un ur stal vihan ivez e oa ur gazeg er gêr setu e teue ivez eu hi ha neuze ar ar re a raok hi eu he zad donc da beñ d'ober ar bezhin an dra se eu a zikoure anezho ivez da gaout un tammig moneiz",
         "An dra-se n'em eus ket gwelet, eu, n'em eus ken klevet va mamm-gozh, eu, o rentañ din, eu, penaos e raent, kwa. Peogwir va mamm-gozh a oa diouzh Kerured hag e teue, eu... hag e veze aze gant, eu... peogwir e oa ur gazeg... peogwir e oa un... un... ur stal vihan ivez, e oa ur gazeg er gêr, setu e teue ivez, eu... hi ha neuze ar... ar re a-raok hi, eu, he zad, donc, da... beñ, d'ober ar bezhin. An dra-se, eu, a zikoure anezho ivez da gaout un tammig moneiz.",
         " Aidaa, miskliqoel, miskliqoel, miskliqoel, miskliqoel, klevet, ramangose, erentadeng, penosa renga. 고양iена, er afecte, edcs,uya, malm wono. Aidaa.",
         "29168",
         "0.9897959183673469",
         "0.8256658595641646",
         "3439"
        ],
        [
         "43",
         "Ar bedervet deus ar merc'hed... ar bedervet deus ar merc'hed.",
         "ar bedervet deus ar merc'hed ar bedervet deus ar merc'hed",
         "La quatrième des filles... la quatrième des filles.",
         " Bidja da meat Bidja da meat",
         "29293",
         "1.0",
         "0.7192982456140351",
         "5774"
        ],
        [
         "44",
         "Me... me a wel anezhe... petra int bremañ. Ha te... te a bouez warne, paf ! Te a dorr anezhe... bremañ... mes peseurt anv o deus, n'ouzon ket par exemple... mes ra... ni, ni a lavare bezhin kloc'hek oute : \"Kerzhit da gla-... kerzhit da... en em amuz-... d'ober jeu, ne vez ket lavaret en em amuz, kerzhit d'ober jeu gant bezhin kloc'hek du-se ! Petra emaoc'h oc'h ober aze, o lakaat ar bezhin kloc'hek da strakal ?\" Memes a-benn e oa... zo... zo heol mat, int... te a glev paf ! paf ! e vez... int... te a glev... te a glev... te a glev anezhe o tigeriñ.",
         "me me a wel anezhe petra int bremañ ha te te a bouez warne paf te a dorr anezhe bremañ mes peseurt anv o deus n'ouzon ket par exemple mes ra ni ni a lavare bezhin kloc'hek oute kerzhit da gla kerzhit da en em amuz d'ober jeu ne vez ket lavaret en em amuz kerzhit d'ober jeu gant bezhin kloc'hek du se petra emaoc'h oc'h ober aze o lakaat ar bezhin kloc'hek da strakal memes a benn e oa zo zo heol mat int te a glev paf paf e vez int te a glev te a glev te a glev anezhe o tigeriñ",
         "Me... me a wel anezhe... petra int bremañ. Ha te... te a bouez warne, paf ! Te a dorr anezhe... bremañ... mes peseurt anv o deus, n'ouzon ket par exemple... mes ra... ni, ni a lavare bezhin kloc'hek oute : \"Kerzhit da gla-... kerzhit da... en em amuz-... d'ober jeu, ne vez ket lavaret en em amuz, kerzhit d'ober jeu gant bezhin kloc'hek du-se ! Petra emaoc'h oc'h ober aze, o lakaat ar bezhin kloc'hek da strakal ?\" Memes a-benn e oa... zo... zo heol mat, int... te a glev paf ! paf ! e vez... int... te a glev... te a glev... te a glev anezhe o tigeriñ.",
         " Dasan mistakes. Heri Bleigingslark Baeek Ditrange kaef Pak Pasta Amin Phu A A J",
         "29150",
         "1.0",
         "0.8851774530271399",
         "1511"
        ],
        [
         "45",
         "Mes pas peogwir te a dro anezhañ diouzhin atav !",
         "mes pas peogwir te a dro anezhañ diouzhin atav",
         "Mes pas peogwir te a dro anezhañ diouzhin atav !",
         " Öwhithin ....",
         "29293",
         "1.0",
         "0.8478260869565217",
         "5484"
        ],
        [
         "46",
         "Yann a oa azezet tost dezhañ.",
         "yann a oa azezet tost dezhañ",
         "Yann était assis près de lui.",
         " Jan Vasitos dear",
         "29168",
         "1.0",
         "0.6071428571428571",
         "3107"
        ],
        [
         "47",
         "un alc'houez",
         "un alc'houez",
         "une clef",
         " Nettl",
         "29154",
         "1.0",
         "0.9166666666666666",
         "2543"
        ],
        [
         "48",
         "Bemnoz, ni hor boa naon.",
         "bemnoz ni hor boa naon",
         "Tous les soirs, nous avions faim.",
         " Bobnos Jon accessible",
         "29230",
         "1.0",
         "0.8636363636363636",
         "4100"
        ],
        [
         "49",
         "Hi a end-eeune he zraoù e-barzh en he sakoch.",
         "hi a end eeune he zraoù e barzh en he sakoch",
         "Elle rangeait ses affaires dans son sac.",
         "離矇,鼻,鼻,鼻 bod越,综艾 céler,鼻,鼻,鼻,鼻 tamb purs,鼻 baptog Bonzourski.鼻鼻鼻 ,鼻鼻 honkoss sou Sébian 건너鼻鼻鼻鼻鼻鼻鼻 bond鼻鼻鼻鼻鼻鼻鼻鼻鼻",
         "22167",
         "1.1818181818181819",
         "2.1136363636363638",
         "230"
        ]
       ],
       "shape": {
        "columns": 8,
        "rows": 200
       }
      },
      "text/html": [
       "<div>\n",
       "<style scoped>\n",
       "    .dataframe tbody tr th:only-of-type {\n",
       "        vertical-align: middle;\n",
       "    }\n",
       "\n",
       "    .dataframe tbody tr th {\n",
       "        vertical-align: top;\n",
       "    }\n",
       "\n",
       "    .dataframe thead th {\n",
       "        text-align: right;\n",
       "    }\n",
       "</style>\n",
       "<table border=\"1\" class=\"dataframe\">\n",
       "  <thead>\n",
       "    <tr style=\"text-align: right;\">\n",
       "      <th></th>\n",
       "      <th>br</th>\n",
       "      <th>br_processed</th>\n",
       "      <th>fr</th>\n",
       "      <th>transcription</th>\n",
       "      <th>city</th>\n",
       "      <th>wer</th>\n",
       "      <th>cer</th>\n",
       "      <th>file</th>\n",
       "    </tr>\n",
       "  </thead>\n",
       "  <tbody>\n",
       "    <tr>\n",
       "      <th>0</th>\n",
       "      <td>ur c'harzh</td>\n",
       "      <td>ur c'harzh</td>\n",
       "      <td>une haie</td>\n",
       "      <td>sus</td>\n",
       "      <td>29032</td>\n",
       "      <td>1.000000</td>\n",
       "      <td>1.000000</td>\n",
       "      <td>1057</td>\n",
       "    </tr>\n",
       "    <tr>\n",
       "      <th>1</th>\n",
       "      <td>Mari zo deuet a-benn enno antronoz.</td>\n",
       "      <td>mari zo deuet a benn enno antronoz</td>\n",
       "      <td>Marie est venue vers eux le lendemain.</td>\n",
       "      <td>Mori, as you do, benenne internus</td>\n",
       "      <td>29168</td>\n",
       "      <td>1.000000</td>\n",
       "      <td>0.558824</td>\n",
       "      <td>2654</td>\n",
       "    </tr>\n",
       "    <tr>\n",
       "      <th>2</th>\n",
       "      <td>An amzer gwechall, ne oa... ne oa ket, eu... n...</td>\n",
       "      <td>an amzer gwechall ne oa ne oa ket eu ne oa ket...</td>\n",
       "      <td>Autrefois, c'était... c'était, euh... ça n'éta...</td>\n",
       "      <td>Non-bsordre deixal Wo That what are you Many ...</td>\n",
       "      <td>29230</td>\n",
       "      <td>1.000000</td>\n",
       "      <td>0.750000</td>\n",
       "      <td>4401</td>\n",
       "    </tr>\n",
       "    <tr>\n",
       "      <th>3</th>\n",
       "      <td>Piv zo bet o troc'hiñ ar wezenn ?</td>\n",
       "      <td>piv zo bet o troc'hiñ ar wezenn</td>\n",
       "      <td>Qui a coupé l'arbre ?</td>\n",
       "      <td>拚蜆 refers to a good prize but nevertheless thi...</td>\n",
       "      <td>29293</td>\n",
       "      <td>1.857143</td>\n",
       "      <td>1.677419</td>\n",
       "      <td>5843</td>\n",
       "    </tr>\n",
       "    <tr>\n",
       "      <th>4</th>\n",
       "      <td>Pa oufemp ar wirionez, n'he lavarfemp ket.</td>\n",
       "      <td>pa oufemp ar wirionez n'he lavarfemp ket</td>\n",
       "      <td>Si nous savions la vérité, nous ne la dirions ...</td>\n",
       "      <td>Apugu, yang, arwer, yoni, nilar, emce!</td>\n",
       "      <td>56175</td>\n",
       "      <td>1.000000</td>\n",
       "      <td>0.750000</td>\n",
       "      <td>7177</td>\n",
       "    </tr>\n",
       "    <tr>\n",
       "      <th>...</th>\n",
       "      <td>...</td>\n",
       "      <td>...</td>\n",
       "      <td>...</td>\n",
       "      <td>...</td>\n",
       "      <td>...</td>\n",
       "      <td>...</td>\n",
       "      <td>...</td>\n",
       "      <td>...</td>\n",
       "    </tr>\n",
       "    <tr>\n",
       "      <th>195</th>\n",
       "      <td>War an hent am eus gwelet div vaouez.</td>\n",
       "      <td>war an hent am eus gwelet div vaouez</td>\n",
       "      <td>Sur le chemin, j'ai vu deux femmes.</td>\n",
       "      <td>For a thing, it will do always</td>\n",
       "      <td>29168</td>\n",
       "      <td>1.000000</td>\n",
       "      <td>0.666667</td>\n",
       "      <td>2925</td>\n",
       "    </tr>\n",
       "    <tr>\n",
       "      <th>196</th>\n",
       "      <td>Mes pegiz e ra ar re zo e-barzh... e-kostez......</td>\n",
       "      <td>mes pegiz e ra ar re zo e barzh e kostez beg e...</td>\n",
       "      <td>Mes pegiz e ra ar re zo e-barzh... e-kostez......</td>\n",
       "      <td>My benef defenders-over... kinds, le digging ...</td>\n",
       "      <td>29150</td>\n",
       "      <td>1.000000</td>\n",
       "      <td>0.730435</td>\n",
       "      <td>2251</td>\n",
       "    </tr>\n",
       "    <tr>\n",
       "      <th>197</th>\n",
       "      <td>Ar bedervet deus e verc'hed zo aet da chom da ...</td>\n",
       "      <td>ar bedervet deus e verc'hed zo aet da chom da ...</td>\n",
       "      <td>La quatrième de ses filles est allée habiter à...</td>\n",
       "      <td>Bedir Danae Feels歡迎 Forum</td>\n",
       "      <td>29293</td>\n",
       "      <td>1.000000</td>\n",
       "      <td>0.784314</td>\n",
       "      <td>5777</td>\n",
       "    </tr>\n",
       "    <tr>\n",
       "      <th>198</th>\n",
       "      <td>Kerzhet a ra ? Eñ... eñ a respont ? O, me a we...</td>\n",
       "      <td>kerzhet a ra eñ eñ a respont o me a wel oiaou ...</td>\n",
       "      <td>Il fonctionne (ton appareil) ? Il... il répond...</td>\n",
       "      <td>Territra, yoh, yoh, responda. Ah, yoh, yoh, y...</td>\n",
       "      <td>56094</td>\n",
       "      <td>1.000000</td>\n",
       "      <td>0.960000</td>\n",
       "      <td>6815</td>\n",
       "    </tr>\n",
       "    <tr>\n",
       "      <th>199</th>\n",
       "      <td>E brad-eñ ha, ne oa ket da zen mod arall nemet...</td>\n",
       "      <td>e brad eñ ha ne oa ket da zen mod arall nemet ...</td>\n",
       "      <td>C'était son pré à lui et, il n'appartenait à p...</td>\n",
       "      <td>«Ibrad jo' h- Video te zine melodikai me te h...</td>\n",
       "      <td>56089</td>\n",
       "      <td>1.000000</td>\n",
       "      <td>0.634146</td>\n",
       "      <td>6453</td>\n",
       "    </tr>\n",
       "  </tbody>\n",
       "</table>\n",
       "<p>200 rows × 8 columns</p>\n",
       "</div>"
      ],
      "text/plain": [
       "                                                    br  \\\n",
       "0                                           ur c'harzh   \n",
       "1                  Mari zo deuet a-benn enno antronoz.   \n",
       "2    An amzer gwechall, ne oa... ne oa ket, eu... n...   \n",
       "3                    Piv zo bet o troc'hiñ ar wezenn ?   \n",
       "4           Pa oufemp ar wirionez, n'he lavarfemp ket.   \n",
       "..                                                 ...   \n",
       "195              War an hent am eus gwelet div vaouez.   \n",
       "196  Mes pegiz e ra ar re zo e-barzh... e-kostez......   \n",
       "197  Ar bedervet deus e verc'hed zo aet da chom da ...   \n",
       "198  Kerzhet a ra ? Eñ... eñ a respont ? O, me a we...   \n",
       "199  E brad-eñ ha, ne oa ket da zen mod arall nemet...   \n",
       "\n",
       "                                          br_processed  \\\n",
       "0                                           ur c'harzh   \n",
       "1                   mari zo deuet a benn enno antronoz   \n",
       "2    an amzer gwechall ne oa ne oa ket eu ne oa ket...   \n",
       "3                      piv zo bet o troc'hiñ ar wezenn   \n",
       "4             pa oufemp ar wirionez n'he lavarfemp ket   \n",
       "..                                                 ...   \n",
       "195               war an hent am eus gwelet div vaouez   \n",
       "196  mes pegiz e ra ar re zo e barzh e kostez beg e...   \n",
       "197  ar bedervet deus e verc'hed zo aet da chom da ...   \n",
       "198  kerzhet a ra eñ eñ a respont o me a wel oiaou ...   \n",
       "199  e brad eñ ha ne oa ket da zen mod arall nemet ...   \n",
       "\n",
       "                                                    fr  \\\n",
       "0                                             une haie   \n",
       "1               Marie est venue vers eux le lendemain.   \n",
       "2    Autrefois, c'était... c'était, euh... ça n'éta...   \n",
       "3                                Qui a coupé l'arbre ?   \n",
       "4    Si nous savions la vérité, nous ne la dirions ...   \n",
       "..                                                 ...   \n",
       "195                Sur le chemin, j'ai vu deux femmes.   \n",
       "196  Mes pegiz e ra ar re zo e-barzh... e-kostez......   \n",
       "197  La quatrième de ses filles est allée habiter à...   \n",
       "198  Il fonctionne (ton appareil) ? Il... il répond...   \n",
       "199  C'était son pré à lui et, il n'appartenait à p...   \n",
       "\n",
       "                                         transcription   city       wer  \\\n",
       "0                                                  sus  29032  1.000000   \n",
       "1                    Mori, as you do, benenne internus  29168  1.000000   \n",
       "2     Non-bsordre deixal Wo That what are you Many ...  29230  1.000000   \n",
       "3    拚蜆 refers to a good prize but nevertheless thi...  29293  1.857143   \n",
       "4               Apugu, yang, arwer, yoni, nilar, emce!  56175  1.000000   \n",
       "..                                                 ...    ...       ...   \n",
       "195                     For a thing, it will do always  29168  1.000000   \n",
       "196   My benef defenders-over... kinds, le digging ...  29150  1.000000   \n",
       "197                          Bedir Danae Feels歡迎 Forum  29293  1.000000   \n",
       "198   Territra, yoh, yoh, responda. Ah, yoh, yoh, y...  56094  1.000000   \n",
       "199   «Ibrad jo' h- Video te zine melodikai me te h...  56089  1.000000   \n",
       "\n",
       "          cer  file  \n",
       "0    1.000000  1057  \n",
       "1    0.558824  2654  \n",
       "2    0.750000  4401  \n",
       "3    1.677419  5843  \n",
       "4    0.750000  7177  \n",
       "..        ...   ...  \n",
       "195  0.666667  2925  \n",
       "196  0.730435  2251  \n",
       "197  0.784314  5777  \n",
       "198  0.960000  6815  \n",
       "199  0.634146  6453  \n",
       "\n",
       "[200 rows x 8 columns]"
      ]
     },
     "execution_count": 17,
     "metadata": {},
     "output_type": "execute_result"
    }
   ],
   "source": [
    "small_df = small_df[['br', 'br_processed', 'fr', 'transcription', 'city', 'wer', 'cer', 'file']]\n",
    "small_df"
   ]
  },
  {
   "cell_type": "code",
   "execution_count": 18,
   "id": "b6a7c24c",
   "metadata": {},
   "outputs": [
    {
     "name": "stdout",
     "output_type": "stream",
     "text": [
      "Average WER and CER for 22107:\n",
      "WER: 1.25\n",
      "CER: 0.9\n",
      "\n",
      "Average WER and CER for 22167:\n",
      "WER: 1.05\n",
      "CER: 1.13\n",
      "\n",
      "Average WER and CER for 22181:\n",
      "WER: 1.0\n",
      "CER: 0.89\n",
      "\n",
      "Average WER and CER for 22230:\n",
      "WER: 1.04\n",
      "CER: 0.91\n",
      "\n",
      "Average WER and CER for 22331:\n",
      "WER: 1.0\n",
      "CER: 0.78\n",
      "\n",
      "Average WER and CER for 22386:\n",
      "WER: 1.43\n",
      "CER: 1.12\n",
      "\n",
      "Average WER and CER for 29032:\n",
      "WER: 1.0\n",
      "CER: 0.83\n",
      "\n",
      "Average WER and CER for 29058:\n",
      "WER: 0.98\n",
      "CER: 0.69\n",
      "\n",
      "Average WER and CER for 29105:\n",
      "WER: 1.0\n",
      "CER: 0.84\n",
      "\n",
      "Average WER and CER for 29122:\n",
      "WER: 1.0\n",
      "CER: 0.89\n",
      "\n",
      "Average WER and CER for 29146:\n",
      "WER: 1.0\n",
      "CER: 0.82\n",
      "\n",
      "Average WER and CER for 29150:\n",
      "WER: 1.0\n",
      "CER: 0.81\n",
      "\n",
      "Average WER and CER for 29153:\n",
      "WER: 1.2\n",
      "CER: 1.03\n",
      "\n",
      "Average WER and CER for 29154:\n",
      "WER: 1.0\n",
      "CER: 0.89\n",
      "\n",
      "Average WER and CER for 29168:\n",
      "WER: 1.0\n",
      "CER: 0.78\n",
      "\n",
      "Average WER and CER for 29180:\n",
      "WER: 1.0\n",
      "CER: 0.69\n",
      "\n",
      "Average WER and CER for 29195:\n",
      "WER: 1.0\n",
      "CER: 0.84\n",
      "\n",
      "Average WER and CER for 29230:\n",
      "WER: 1.07\n",
      "CER: 0.89\n",
      "\n",
      "Average WER and CER for 29236:\n",
      "WER: 1.25\n",
      "CER: 0.92\n",
      "\n",
      "Average WER and CER for 29239:\n",
      "WER: 0.99\n",
      "CER: 0.84\n",
      "\n",
      "Average WER and CER for 29259:\n",
      "WER: 0.99\n",
      "CER: 0.73\n",
      "\n",
      "Average WER and CER for 29262:\n",
      "WER: 1.0\n",
      "CER: 0.88\n",
      "\n",
      "Average WER and CER for 29273:\n",
      "WER: 1.0\n",
      "CER: 0.85\n",
      "\n",
      "Average WER and CER for 29274:\n",
      "WER: 1.0\n",
      "CER: 0.85\n",
      "\n",
      "Average WER and CER for 29293:\n",
      "WER: 1.09\n",
      "CER: 0.87\n",
      "\n",
      "Average WER and CER for 29297:\n",
      "WER: 2.5\n",
      "CER: 2.55\n",
      "\n",
      "Average WER and CER for 56014:\n",
      "WER: 0.99\n",
      "CER: 0.92\n",
      "\n",
      "Average WER and CER for 56026:\n",
      "WER: 1.0\n",
      "CER: 0.84\n",
      "\n",
      "Average WER and CER for 56057:\n",
      "WER: 1.0\n",
      "CER: 0.74\n",
      "\n",
      "Average WER and CER for 56076:\n",
      "WER: 1.0\n",
      "CER: 0.68\n",
      "\n",
      "Average WER and CER for 56085:\n",
      "WER: 1.0\n",
      "CER: 0.79\n",
      "\n",
      "Average WER and CER for 56089:\n",
      "WER: 1.02\n",
      "CER: 0.83\n",
      "\n",
      "Average WER and CER for 56094:\n",
      "WER: 1.0\n",
      "CER: 0.85\n",
      "\n",
      "Average WER and CER for 56116:\n",
      "WER: 1.0\n",
      "CER: 0.87\n",
      "\n",
      "Average WER and CER for 56175:\n",
      "WER: 1.05\n",
      "CER: 0.88\n",
      "\n",
      "Average WER and CER for 56179:\n",
      "WER: 1.0\n",
      "CER: 0.8\n",
      "\n",
      "Average WER and CER for 56209:\n",
      "WER: 1.0\n",
      "CER: 0.78\n",
      "\n",
      "Average WER and CER for 56247:\n",
      "WER: 1.0\n",
      "CER: 1.0\n",
      "\n"
     ]
    }
   ],
   "source": [
    "# Assuming your DataFrame has columns: 'city', 'wer', and 'cer'\n",
    "city_avg = small_df.groupby('city')[['wer', 'cer']].mean()\n",
    "\n",
    "# Optional: round to 2 decimal places\n",
    "city_avg = city_avg.round(2)\n",
    "\n",
    "# Print each city's average WER and CER\n",
    "for city_code, row in city_avg.iterrows():\n",
    "    print(f\"Average WER and CER for {city_code}:\\nWER: {row['wer']}\\nCER: {row['cer']}\\n\")"
   ]
  },
  {
   "cell_type": "code",
   "execution_count": 19,
   "id": "8c8c29ce",
   "metadata": {},
   "outputs": [
    {
     "name": "stdout",
     "output_type": "stream",
     "text": [
      "Evaluation for --Côtes-d'Armor-- dialects 22xxx :\n",
      "WER: 1.1031\n",
      "CER: 0.9569\n",
      "\n",
      "Evaluation for --Finistère-- dialects 29xxx :\n",
      "WER: 1.0619\n",
      "CER: 0.8681\n",
      "\n",
      "Evaluation for --Morbihan-- dialects 56xxx :\n",
      "WER: 1.0122\n",
      "CER: 0.8366\n"
     ]
    }
   ],
   "source": [
    "# Filter for cities starting with '22'\n",
    "small_df_22 = small_df[small_df['city'].str.startswith('22')]\n",
    "avg_22 = small_df_22[['wer', 'cer']].mean().round(4)\n",
    "\n",
    "\n",
    "# Filter for cities starting with '22'\n",
    "small_df_29 = small_df[small_df['city'].str.startswith('29')]\n",
    "avg_29 = small_df_29[['wer', 'cer']].mean().round(4)\n",
    "\n",
    "\n",
    "# Filter for cities starting with '56'\n",
    "small_df_56 = small_df[small_df['city'].str.startswith('56')]\n",
    "avg_56 = small_df_56[['wer', 'cer']].mean().round(4)\n",
    "\n",
    "\n",
    "\n",
    "print(\"Evaluation for --Côtes-d'Armor-- dialects 22xxx :\")\n",
    "print(f\"WER: {avg_22['wer']}\")\n",
    "print(f\"CER: {avg_22['cer']}\\n\")\n",
    "\n",
    "print(\"Evaluation for --Finistère-- dialects 29xxx :\")\n",
    "print(f\"WER: {avg_29['wer']}\")\n",
    "print(f\"CER: {avg_29['cer']}\\n\")\n",
    "\n",
    "print(\"Evaluation for --Morbihan-- dialects 56xxx :\")\n",
    "print(f\"WER: {avg_56['wer']}\")\n",
    "print(f\"CER: {avg_56['cer']}\")"
   ]
  },
  {
   "cell_type": "code",
   "execution_count": 20,
   "id": "220c7579",
   "metadata": {},
   "outputs": [
    {
     "name": "stdout",
     "output_type": "stream",
     "text": [
      "Overall Average WER: 1.06\n",
      "Overall Average CER: 0.87\n"
     ]
    }
   ],
   "source": [
    "# Assuming 'wer' and 'cer' columns exist\n",
    "average_wer = small_df['wer'].mean()\n",
    "average_cer = small_df['cer'].mean()\n",
    "\n",
    "# Optional: round them\n",
    "average_wer = round(average_wer, 2)\n",
    "average_cer = round(average_cer, 2)\n",
    "\n",
    "print(f\"Overall Average WER: {average_wer}\")\n",
    "print(f\"Overall Average CER: {average_cer}\")"
   ]
  },
  {
   "cell_type": "code",
   "execution_count": null,
   "id": "1d8a6c92",
   "metadata": {},
   "outputs": [],
   "source": []
  }
 ],
 "metadata": {
  "kernelspec": {
   "display_name": "stt-breton",
   "language": "python",
   "name": "python3"
  },
  "language_info": {
   "codemirror_mode": {
    "name": "ipython",
    "version": 3
   },
   "file_extension": ".py",
   "mimetype": "text/x-python",
   "name": "python",
   "nbconvert_exporter": "python",
   "pygments_lexer": "ipython3",
   "version": "3.10.16"
  }
 },
 "nbformat": 4,
 "nbformat_minor": 5
}
