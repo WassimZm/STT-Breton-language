{
 "cells": [
  {
   "cell_type": "code",
   "execution_count": 1,
   "id": "74cc39bf",
   "metadata": {},
   "outputs": [],
   "source": [
    "import os\n",
    "import wave\n",
    "import json\n",
    "import jiwer\n",
    "import audio\n",
    "\n",
    "import sys\n",
    "\n",
    "import whisper"
   ]
  },
  {
   "cell_type": "code",
   "execution_count": 2,
   "id": "fed700c2",
   "metadata": {},
   "outputs": [],
   "source": [
    "import pandas as pd"
   ]
  },
  {
   "cell_type": "code",
   "execution_count": 3,
   "id": "e4e74a2f",
   "metadata": {},
   "outputs": [],
   "source": [
    "# Login using e.g. `huggingface-cli login` to access this dataset\n",
    "df = pd.read_parquet(\"/home/ouassim/Downloads/0000.parquet\",columns=[\"br\",\"fr\",\"city\"])\n",
    "# df = pd.read_parquet(\"/home/wazemour/Stage-Breton/Data/Banque sonore des Dialectes Bretonnes/0000.parquet\",columns=[\"br\",\"fr\",\"city\"])"
   ]
  },
  {
   "cell_type": "code",
   "execution_count": 4,
   "id": "51119bd8",
   "metadata": {},
   "outputs": [],
   "source": [
    "def fix_row(row):\n",
    "    if 'peurunvan :' in row['fr']:\n",
    "        # Extract Breton text after \"peurunvan :\"\n",
    "        new_text = row['fr'].split('peurunvan :', 1)[1].strip()\n",
    "        # Replace both Br and Fr columns with this new_text\n",
    "        row['br'] = new_text\n",
    "        row['fr'] = new_text\n",
    "    return row\n",
    "\n",
    "df = df.apply(fix_row, axis=1)"
   ]
  },
  {
   "cell_type": "code",
   "execution_count": 5,
   "id": "94c651c9",
   "metadata": {},
   "outputs": [
    {
     "data": {
      "application/vnd.microsoft.datawrangler.viewer.v0+json": {
       "columns": [
        {
         "name": "index",
         "rawType": "int64",
         "type": "integer"
        },
        {
         "name": "br",
         "rawType": "object",
         "type": "string"
        },
        {
         "name": "fr",
         "rawType": "object",
         "type": "string"
        },
        {
         "name": "city",
         "rawType": "object",
         "type": "string"
        }
       ],
       "ref": "3c53b171-a8dc-47d3-af5d-29ce839bd613",
       "rows": [
        [
         "0",
         "Pell zo n'eo ket o welet ac'hanon.",
         "Ça fait longtemps qu'il n'est pas venu me voir.",
         "22107"
        ],
        [
         "1",
         "N'oc'h ket bet pell zo o welet ac'hanon.",
         "Vous n'êtes pas venus me voir depuis longtemps.",
         "22107"
        ],
        [
         "2",
         "Pell zo n'eo ket bet o welet ac'hanon.",
         "Ça fait longtemps qu'il n'est pas venu me voir.",
         "22107"
        ],
        [
         "3",
         "Ma... ma zi ne vo ket gwerzhet.",
         "Ma... ma maison ne sera pas vendue.",
         "22107"
        ],
        [
         "4",
         "Hon... hon ti ne vo ket gwerzhet.",
         "Notre... notre maison ne sera pas vendue.",
         "22107"
        ],
        [
         "5",
         "Me am eus... me am eus afer da lavaret un dra-bennak deoc'h.",
         "J'ai... j'ai besoin de te dire quelque chose.",
         "22107"
        ],
        [
         "6",
         "N'an ket da vale d'ar c'h-... Koad ar Forj.",
         "Je ne vais pas me promener dans la F-... Forêt de Quénécan.",
         "22107"
        ],
        [
         "7",
         "N'an ket ma unan da... vale da Goad ar Forj.",
         "Je ne vais pas toute seule me... promener dans la Forêt de Quénécan.",
         "22107"
        ],
        [
         "8",
         "E hini zo gwelloc'h evit ma hini.",
         "Le sien est mieux que le mien.",
         "22107"
        ],
        [
         "9",
         "N'eo ket mad.",
         "Ce n'est pas bon.",
         "22107"
        ],
        [
         "10",
         "Ma zad zo skuizh hiziv.",
         "Mon père est fatigué aujourd'hui.",
         "22107"
        ],
        [
         "11",
         "Bout zo saout er park.",
         "Il y a des vaches dans le champ.",
         "22107"
        ],
        [
         "12",
         "Bout zo... bout zo saout er park.",
         "Il y a... il y a des vaches dans le champ.",
         "22107"
        ],
        [
         "13",
         "N'eus ket deñved e-barzh er park ken.",
         "Il n'y a plus de moutons dans le champ.",
         "22107"
        ],
        [
         "14",
         "N'eus ket deñved e-barzh er park ken.",
         "Il n'y a plus de moutons dans le champ.",
         "22107"
        ],
        [
         "15",
         "Ar paotr-se ne blij ket din.",
         "Ce garçon ne me plaît pas.",
         "22107"
        ],
        [
         "16",
         "Me am eus droug-kof pa zebrañ kaol.",
         "J'ai mal au ventre quand je mange du chou.",
         "22107"
        ],
        [
         "17",
         "Me am eus... me am eus drouk-kozh... -kof pa zebrañ kaol.",
         "J'ai... j'ai mal de vieux... au ventre quand je mange du chou.",
         "22107"
        ],
        [
         "18",
         "E-men ema ar skeul ?",
         "Où est l'échelle ?",
         "22107"
        ],
        [
         "19",
         "Ma breur en deus lakaet anezhi e-kos-... e-kos-... e-kostez an ti.",
         "Mon frère l'a mise c-... c-... contre la maison.",
         "22107"
        ],
        [
         "20",
         "Ma breur en deus lakaet anezhi e-kostez an ti.",
         "Mon frère l'a mise contre la maison.",
         "22107"
        ],
        [
         "21",
         "Deuet on gantañ.",
         "Je suis venue avec lui.",
         "22107"
        ],
        [
         "22",
         "Deuet on ganti.",
         "Je suis venue avec elle.",
         "22107"
        ],
        [
         "23",
         "Deuet on ganti.",
         "Je suis venue avec elle.",
         "22107"
        ],
        [
         "24",
         "Deuet on ganeoc'h.",
         "Je suis venue avec toi.",
         "22107"
        ],
        [
         "25",
         "Ober a ra tommoc'h war-lerc'h kreisteiz evit h-... evit hi-... evit ar mintin-mañ.",
         "Il fait plus chaud après midi que... que... que ce matin.",
         "22107"
        ],
        [
         "26",
         "Ober a ra tommoc'h war-lerc'h kreisteiz evit ar mintin-mañ.",
         "Il fait plus chaud après midi que ce matin.",
         "22107"
        ],
        [
         "27",
         "Yenoc'h eo bremañ evit a beure.",
         "Il fait plus froid maintenant que ce matin.",
         "22107"
        ],
        [
         "28",
         "Yenoc'h eo bremañ evit a beure.",
         "Il fait plus froid maintenant que ce matin.",
         "22107"
        ],
        [
         "29",
         "Bremañ ec'h an da vale d'ar... d'ar c'hoad.",
         "Maintenant je vais me promener dans... dans le bois.",
         "22107"
        ],
        [
         "30",
         "Bremañ ec'h an da vale d'ar c'hoadoù.",
         "Maintenant je vais me promener dans les bois.",
         "22107"
        ],
        [
         "31",
         "Droug am eus e ma diouc'har, n'on ket ken evit kerzhal.",
         "J'ai mal aux jambes, je ne peux plus marcher.",
         "22107"
        ],
        [
         "32",
         "Ema oc'h angellat... oc'h angellat... er rivier.",
         "Il est en train de nager... de nager... dans la rivière.",
         "22107"
        ],
        [
         "33",
         "Ema oc'h angellat er rivier.",
         "Il est en train de nager dans la rivière.",
         "22107"
        ],
        [
         "34",
         "Me am eus ur porc'hell. Me a gaso anezhañ da Rostrenenn warc'hoazh da... da... da werhzañ.",
         "J'ai un cochon. Je l'enverrai à Rostrenen demain pour... pour... pour le vendre.",
         "22107"
        ],
        [
         "35",
         "He mamm a oa matezh e Kergarreg.",
         "Sa mère était servante à Kergarrec.",
         "22107"
        ],
        [
         "36",
         "Red eo din mont kuit, ma zad-kozh zo o c'hortoz ac'hanon er gêr.",
         "Je dois partir, mon grand-père est en train de m'attendre à la maison.",
         "22107"
        ],
        [
         "37",
         "Ma rastell zo drailhet.",
         "Mon râteau est cassé.",
         "22107"
        ],
        [
         "38",
         "Ho rastell zo drailhet.",
         "Votre râteau est cassé.",
         "22107"
        ],
        [
         "39",
         "E loened zo oc'h evañ dour e-barzh er rivier.",
         "Ses bêtes sont en train de boire de l'eau dans la rivière.",
         "22107"
        ],
        [
         "40",
         "Ho loened zo oc'h evañ dour er rivier.",
         "Vos bêtes sont en train de boire de l'eau dans la rivière.",
         "22107"
        ],
        [
         "41",
         "Petra eo hennezh ?",
         "Qu'est-ce que c'est que celui-là ?",
         "22107"
        ],
        [
         "42",
         "raden.",
         "des fougères.",
         "22107"
        ],
        [
         "43",
         "Re a zour zo d'ar... d'ar goañv.",
         "Il y a trop d'eau en... en hiver.",
         "22107"
        ],
        [
         "44",
         "N'omp ket evit sailhañ... ar... ar rigol.",
         "Nous ne pouvons pas sauter... le... le ruisseau.",
         "22107"
        ],
        [
         "45",
         "sailhañ",
         "sauter",
         "22107"
        ],
        [
         "46",
         "N'eus ket ken kemener evit ober dilhad.",
         "Il n'y a plus de tailleur pour faire des habits.",
         "22107"
        ],
        [
         "47",
         "Hiziv ema brav... brav an amzer.",
         "Aujourd'hui il fait beau... le temps est beau.",
         "22107"
        ],
        [
         "48",
         "Bout zo ur bern merien e ma... e... e ma sukr.",
         "Il y a plein de fourmis dans mon... dans... dans mon sucre.",
         "22107"
        ],
        [
         "49",
         "Bout... bout zo ur bern melien e-barzh e ma sukr.",
         "Il y a... il y a plein de fourmis dans mon sucre.",
         "22107"
        ]
       ],
       "shape": {
        "columns": 3,
        "rows": 7291
       }
      },
      "text/html": [
       "<div>\n",
       "<style scoped>\n",
       "    .dataframe tbody tr th:only-of-type {\n",
       "        vertical-align: middle;\n",
       "    }\n",
       "\n",
       "    .dataframe tbody tr th {\n",
       "        vertical-align: top;\n",
       "    }\n",
       "\n",
       "    .dataframe thead th {\n",
       "        text-align: right;\n",
       "    }\n",
       "</style>\n",
       "<table border=\"1\" class=\"dataframe\">\n",
       "  <thead>\n",
       "    <tr style=\"text-align: right;\">\n",
       "      <th></th>\n",
       "      <th>br</th>\n",
       "      <th>fr</th>\n",
       "      <th>city</th>\n",
       "    </tr>\n",
       "  </thead>\n",
       "  <tbody>\n",
       "    <tr>\n",
       "      <th>0</th>\n",
       "      <td>Pell zo n'eo ket o welet ac'hanon.</td>\n",
       "      <td>Ça fait longtemps qu'il n'est pas venu me voir.</td>\n",
       "      <td>22107</td>\n",
       "    </tr>\n",
       "    <tr>\n",
       "      <th>1</th>\n",
       "      <td>N'oc'h ket bet pell zo o welet ac'hanon.</td>\n",
       "      <td>Vous n'êtes pas venus me voir depuis longtemps.</td>\n",
       "      <td>22107</td>\n",
       "    </tr>\n",
       "    <tr>\n",
       "      <th>2</th>\n",
       "      <td>Pell zo n'eo ket bet o welet ac'hanon.</td>\n",
       "      <td>Ça fait longtemps qu'il n'est pas venu me voir.</td>\n",
       "      <td>22107</td>\n",
       "    </tr>\n",
       "    <tr>\n",
       "      <th>3</th>\n",
       "      <td>Ma... ma zi ne vo ket gwerzhet.</td>\n",
       "      <td>Ma... ma maison ne sera pas vendue.</td>\n",
       "      <td>22107</td>\n",
       "    </tr>\n",
       "    <tr>\n",
       "      <th>4</th>\n",
       "      <td>Hon... hon ti ne vo ket gwerzhet.</td>\n",
       "      <td>Notre... notre maison ne sera pas vendue.</td>\n",
       "      <td>22107</td>\n",
       "    </tr>\n",
       "    <tr>\n",
       "      <th>...</th>\n",
       "      <td>...</td>\n",
       "      <td>...</td>\n",
       "      <td>...</td>\n",
       "    </tr>\n",
       "    <tr>\n",
       "      <th>7286</th>\n",
       "      <td>Ne zeue ket ag ar vro Kemper. Ne zeue ket ag a...</td>\n",
       "      <td>Il ne venait pas du pays de Quimper. Il ne ven...</td>\n",
       "      <td>56247</td>\n",
       "    </tr>\n",
       "    <tr>\n",
       "      <th>7287</th>\n",
       "      <td>Bout a oa linad razh d'en-dro ar feunteun. Bou...</td>\n",
       "      <td>Il y avait des orties tout autour de la fontai...</td>\n",
       "      <td>56247</td>\n",
       "    </tr>\n",
       "    <tr>\n",
       "      <th>7288</th>\n",
       "      <td>Ne oa ket aes o zennañ.</td>\n",
       "      <td>Ce n'était pas facile de les arracher.</td>\n",
       "      <td>56247</td>\n",
       "    </tr>\n",
       "    <tr>\n",
       "      <th>7289</th>\n",
       "      <td>Ne oa ket aes o zennañ.</td>\n",
       "      <td>Ce n'était pas facile de les arracher.</td>\n",
       "      <td>56247</td>\n",
       "    </tr>\n",
       "    <tr>\n",
       "      <th>7290</th>\n",
       "      <td>Bout a o gweler lies o, o pousiñ e-tal ar feun...</td>\n",
       "      <td>On les voit souvent pousser près de la fontain...</td>\n",
       "      <td>56247</td>\n",
       "    </tr>\n",
       "  </tbody>\n",
       "</table>\n",
       "<p>7291 rows × 3 columns</p>\n",
       "</div>"
      ],
      "text/plain": [
       "                                                     br  \\\n",
       "0                    Pell zo n'eo ket o welet ac'hanon.   \n",
       "1              N'oc'h ket bet pell zo o welet ac'hanon.   \n",
       "2                Pell zo n'eo ket bet o welet ac'hanon.   \n",
       "3                       Ma... ma zi ne vo ket gwerzhet.   \n",
       "4                     Hon... hon ti ne vo ket gwerzhet.   \n",
       "...                                                 ...   \n",
       "7286  Ne zeue ket ag ar vro Kemper. Ne zeue ket ag a...   \n",
       "7287  Bout a oa linad razh d'en-dro ar feunteun. Bou...   \n",
       "7288                            Ne oa ket aes o zennañ.   \n",
       "7289                            Ne oa ket aes o zennañ.   \n",
       "7290  Bout a o gweler lies o, o pousiñ e-tal ar feun...   \n",
       "\n",
       "                                                     fr   city  \n",
       "0       Ça fait longtemps qu'il n'est pas venu me voir.  22107  \n",
       "1       Vous n'êtes pas venus me voir depuis longtemps.  22107  \n",
       "2       Ça fait longtemps qu'il n'est pas venu me voir.  22107  \n",
       "3                   Ma... ma maison ne sera pas vendue.  22107  \n",
       "4             Notre... notre maison ne sera pas vendue.  22107  \n",
       "...                                                 ...    ...  \n",
       "7286  Il ne venait pas du pays de Quimper. Il ne ven...  56247  \n",
       "7287  Il y avait des orties tout autour de la fontai...  56247  \n",
       "7288             Ce n'était pas facile de les arracher.  56247  \n",
       "7289             Ce n'était pas facile de les arracher.  56247  \n",
       "7290  On les voit souvent pousser près de la fontain...  56247  \n",
       "\n",
       "[7291 rows x 3 columns]"
      ]
     },
     "execution_count": 5,
     "metadata": {},
     "output_type": "execute_result"
    }
   ],
   "source": [
    "df"
   ]
  },
  {
   "cell_type": "code",
   "execution_count": 6,
   "id": "a9c9d16d",
   "metadata": {},
   "outputs": [],
   "source": [
    "# dataset_path = \"/home/wazemour/Stage-Breton/Data/Banque sonore des Dialectes Bretonnes/Audio/Audio\"\n",
    "dataset_path = \"/home/ouassim/Desktop/ss/stage/Data/Banque sonore des Dialectes Bretonnes/Audio/Audio\""
   ]
  },
  {
   "cell_type": "code",
   "execution_count": 7,
   "id": "4f893d71",
   "metadata": {},
   "outputs": [],
   "source": [
    "model = whisper.load_model(\"base\")"
   ]
  },
  {
   "cell_type": "code",
   "execution_count": 8,
   "id": "d69ad2e0",
   "metadata": {},
   "outputs": [],
   "source": [
    "\n",
    "from load_ground_truth import load_ground_truth_dict\n",
    "\n",
    "from transcriber import transcribe_audio\n",
    "\n",
    "from evaluate_wer_cer import evaluate_wer_cer"
   ]
  },
  {
   "cell_type": "code",
   "execution_count": 9,
   "id": "26edfb57",
   "metadata": {},
   "outputs": [],
   "source": [
    "def generate_transcription(row):\n",
    "    file_id = row['file']\n",
    "    utt_name = f\"utt_{file_id:05d}.wav\"\n",
    "    full_path = os.path.join(dataset_path, utt_name)\n",
    "    return transcribe_audio(full_path, model)"
   ]
  },
  {
   "cell_type": "code",
   "execution_count": 10,
   "id": "7e37246d",
   "metadata": {},
   "outputs": [
    {
     "data": {
      "application/vnd.microsoft.datawrangler.viewer.v0+json": {
       "columns": [
        {
         "name": "index",
         "rawType": "int64",
         "type": "integer"
        },
        {
         "name": "br",
         "rawType": "object",
         "type": "string"
        },
        {
         "name": "fr",
         "rawType": "object",
         "type": "string"
        },
        {
         "name": "city",
         "rawType": "object",
         "type": "string"
        }
       ],
       "ref": "fa870b56-01a8-47f3-a01d-fe123835c8ae",
       "rows": [
        [
         "1057",
         "ur c'harzh",
         "une haie",
         "29032"
        ],
        [
         "2654",
         "Mari zo deuet a-benn enno antronoz.",
         "Marie est venue vers eux le lendemain.",
         "29168"
        ],
        [
         "4401",
         "An amzer gwechall, ne oa... ne oa ket, eu... ne oa ket memes mod.",
         "Autrefois, c'était... c'était, euh... ça n'était pas pareil.",
         "29230"
        ],
        [
         "5843",
         "Piv zo bet o troc'hiñ ar wezenn ?",
         "Qui a coupé l'arbre ?",
         "29293"
        ],
        [
         "7177",
         "Pa oufemp ar wirionez, n'he lavarfemp ket.",
         "Si nous savions la vérité, nous ne la dirions pas.",
         "56175"
        ],
        [
         "3805",
         "Int zo o joentrañ ar mein e-barzh ar vur.",
         "Ils sont en train de joindre les pierres du mur.",
         "29230"
        ],
        [
         "3961",
         "A-benn em eus labouret em eus gounezet ma fae.",
         "Quand j'ai travaillé, j'ai gagné ma paie.",
         "29230"
        ],
        [
         "6147",
         "Un amzer zo bet, eu, dour ar feunteun a rede e-barzh ar prad.",
         "Fut un temps, euh, l'eau de la fontaine coulait dans la prairie.",
         "56057"
        ],
        [
         "3551",
         "A-wechoù em eus poan-benn diouzh ar pardaez.",
         "Parfois j'ai mal à la tête le soir.",
         "29180"
        ],
        [
         "2413",
         "gris loued",
         "bleu grisonnant",
         "29153"
        ],
        [
         "185",
         "A-vuzul e kosha, e teu muioc'h a spered dezhañ.",
         "Plus il vieillit, plus il devient intelligent.",
         "22167"
        ],
        [
         "1221",
         "Ah, ar glesker a oa bet kuzhet marteze e-barzh ar c'holi ? n'ouzon ket ; boñ, amañ emañ tout an dud bremañ neuze, bez' emañ ar mous, bez' emañ ar glesker bihan, hag an hini vras, fougeet ivez, an tortu hag ar c'hi, ar c'hi zo da, ar c'hi n'en deus ket an aer bezañ gwall seder anezhañ, marteze ar c'hi n'en deus ket bet netra, n'ouzon ket.",
         "Ah, ar glesker a oa bet kuzhet marteze e-barzh ar c'holi ? n'ouzon ket ; boñ, amañ emañ tout an dud bremañ neuze, bez' emañ ar mous, bez' emañ ar glesker bihan, hag an hini vras, fougeet ivez, an tortu hag ar c'hi, ar c'hi zo da, ar c'hi n'en deus ket an aer bezañ gwall seder anezhañ, marteze ar c'hi n'en deus ket bet netra, n'ouzon ket.",
         "29122"
        ],
        [
         "61",
         "Evit Gouel an Ollzent ar bloaz tremenet, ec'h oa muioc'h a... a bokedoù er... er vered... evit ar bloaz-mañ.",
         "À la Toussaint l'année dernière, il y avait plus de... de fleurs au... au cimetière... que cette année.",
         "22107"
        ],
        [
         "2328",
         "Te zo bet o teskiñ debriñ korriged e-barzh bro ar Mokoied¹ !",
         "Te zo bet o teskiñ debriñ korriged e-barzh bro ar Mokoied¹ !",
         "29150"
        ],
        [
         "6524",
         "Me a lavarfe, me a lavarfe, bremañ, me a wel anezho evel rouanezed, ha ur seurt ne chomont ket, war ar maez !",
         "Me a lavarfe, me a lavarfe, bremañ, me a wel anezho evel rouanezed, ha ur seurt ne chomont ket, war ar maez !",
         "56089"
        ],
        [
         "6082",
         "Ah mes, e-barzh amañ ez omp e-barzh Goured al Lojoù ;<br/>hag, e-barzh aze, dreist ar, vardell-se zo, zo un espes lenn ivez kar, ar stêr a lenn kwa ;<br/>an hini kaoz e-barzh-amañ e oa ul lec'h neuze, e-barzh an tu all evit lakaat kizelloù, gwel-, gwelet e vez ar, ar vur heñ ;<br/> mes bout zo euh, bout zo ur goured, ne welit ket, ar goured euh a base etre, etre an daou biler ;<br/>an hini kaoz hennezh, aze e veze lakaet kizelloù, gwel-, gwelet a vez heñ ;<br/>kaoz ar c'hizelloù a veze staget ouzh euh, ouzh ar voger kwa, ouzh, ouzh ar murioù kwa, hag hennezh a oa ul lec'h evit tapout silioù a-font ;<br/>hennezh zo bet evel-se ha, hag unan seurt-se zo c'hoazh, a-benn euh, pa erruit izeloc'h evit Milin Poulhibed du-se zo unan seurt-se c'hoazh, ur, mes n'eo ket e-barzh ar memes model, eñ zo plomoc'h kwa, hag e oa tout ar re-se a oa graet a-espres evit la-, evit tapout silioù.",
         "Ah mes, e-barzh amañ ez omp e-barzh Goured al Lojoù ;<br/>hag, e-barzh aze, dreist ar, vardell-se zo, zo un espes lenn ivez kar, ar stêr a lenn kwa ;<br/>an hini kaoz e-barzh-amañ e oa ul lec'h neuze, e-barzh an tu all evit lakaat kizelloù, gwel-, gwelet e vez ar, ar vur heñ ;<br/> mes bout zo euh, bout zo ur goured, ne welit ket, ar goured euh a base etre, etre an daou biler ;<br/>an hini kaoz hennezh, aze e veze lakaet kizelloù, gwel-, gwelet a vez heñ ;<br/>kaoz ar c'hizelloù a veze staget ouzh euh, ouzh ar voger kwa, ouzh, ouzh ar murioù kwa, hag hennezh a oa ul lec'h evit tapout silioù a-font ;<br/>hennezh zo bet evel-se ha, hag unan seurt-se zo c'hoazh, a-benn euh, pa erruit izeloc'h evit Milin Poulhibed du-se zo unan seurt-se c'hoazh, ur, mes n'eo ket e-barzh ar memes model, eñ zo plomoc'h kwa, hag e oa tout ar re-se a oa graet a-espres evit la-, evit tapout silioù.",
         "56014"
        ],
        [
         "3934",
         "Ma breur zo ganet tri bloaz war o lerc'h.",
         "Mon frère est né 3 ans après eux.",
         "29230"
        ],
        [
         "4128",
         "Un amzer zo bet, ni n'ajemp ket d'ar skol d'ar yaou.",
         "Autrefois, nous n'allions pas à l'école le jeudi.",
         "29230"
        ],
        [
         "2344",
         "Eu, me am eus soñj, a-benn e oan e-barzh... a-benn e oan yaouank... ha krennbaotr memes... lar, eu... an devezh, eu, Gouel, eu... Nedeleg, eh beñ, e yae an traoù da... an oferenn hanter-noz ha neuze, eu... pa veze, eu... deuet an dud d'ar gêr, beñ, e veze degaset, eu... ur vriochenn, a-wechoù, un aval-orañj pe... a-wechoù e veze degaset ivez ur mabig Jezuz, un tammig, eu... gant... graet gant sukr ha neuze, eu... an dra-se e oa... dija un dra... \"un dra gaer\" e veze lavaret ! Ha neuze da... da vintin, te a gave an dra-se tout e-barzh da votez-koad, kar pa... a-benn e oa... da... d'an devezh a-raok, te az poa naetaet, e veze lavaret dit :<br/>\"Ah paotr ! Te ema dav dit naetaat da vo-... da voutoù-lêr pe da... da voutoù-koad, surtout boutoù-koad, dav(?) kaout anezhe prop, lakaat un tammig plouz fresk e-barzh anezhe ha neuze, eu... a-benn warc'hoazh vitin, beñ, eu... e vo... marteze, eu... e vo d-... e kavi un dra-bennak e-barzh da... e-barzh da votez-koad, kwa.\"<br/>Ha neuze, eu... boñ beñ... alies, eu... dija atav memes e veze kavet, eu... hag an dra-se a oa un dra gaer... lar... evit ur c'hrouadur da welet... da gaout an dra-se e-barzh e votez-koad. Hag an dra-se a oa e-barzh... met... a-hend-all... ha neuze, eu... d'an devezh, eu... e veze graet un tammig, eu... mañjer, eu... eu, gwelloc'h a-wechoù evit, eu... an devezhioù-all. E veze lakeet ur yar pe ur c'hog da boazhañ ha neuze, eu... e veze kavet ar soubenn d'ober un daou pe dri devezh war-lerc'h... ah... an dra-se a oa... an dra-se a oa dija ur fest ! Ya...",
         "Eu, me am eus soñj, a-benn e oan e-barzh... a-benn e oan yaouank... ha krennbaotr memes... lar, eu... an devezh, eu, Gouel, eu... Nedeleg, eh beñ, e yae an traoù da... an oferenn hanter-noz ha neuze, eu... pa veze, eu... deuet an dud d'ar gêr, beñ, e veze degaset, eu... ur vriochenn, a-wechoù, un aval-orañj pe... a-wechoù e veze degaset ivez ur mabig Jezuz, un tammig, eu... gant... graet gant sukr ha neuze, eu... an dra-se e oa... dija un dra... \"un dra gaer\" e veze lavaret ! Ha neuze da... da vintin, te a gave an dra-se tout e-barzh da votez-koad, kar pa... a-benn e oa... da... d'an devezh a-raok, te az poa naetaet, e veze lavaret dit :<br/>\"Ah paotr ! Te ema dav dit naetaat da vo-... da voutoù-lêr pe da... da voutoù-koad, surtout boutoù-koad, dav(?) kaout anezhe prop, lakaat un tammig plouz fresk e-barzh anezhe ha neuze, eu... a-benn warc'hoazh vitin, beñ, eu... e vo... marteze, eu... e vo d-... e kavi un dra-bennak e-barzh da... e-barzh da votez-koad, kwa.\"<br/>Ha neuze, eu... boñ beñ... alies, eu... dija atav memes e veze kavet, eu... hag an dra-se a oa un dra gaer... lar... evit ur c'hrouadur da welet... da gaout an dra-se e-barzh e votez-koad. Hag an dra-se a oa e-barzh... met... a-hend-all... ha neuze, eu... d'an devezh, eu... e veze graet un tammig, eu... mañjer, eu... eu, gwelloc'h a-wechoù evit, eu... an devezhioù-all. E veze lakeet ur yar pe ur c'hog da boazhañ ha neuze, eu... e veze kavet ar soubenn d'ober un daou pe dri devezh war-lerc'h... ah... an dra-se a oa... an dra-se a oa dija ur fest ! Ya...",
         "29153"
        ],
        [
         "6771",
         "Tuet d'an douar ur seurt, ne oamp ket heu, ne oamp ket pesketaerien heu, ni a oa...",
         "Tournés vers la terre quand même, nous n'étions pas heu, nous n'étions pas des pêcheurs heu, nous étions...",
         "56094"
        ],
        [
         "4539",
         "Eu, an uioù-se zo dozvet gant ma yar wenn.",
         "Euh, ces oeufs-là ont été pondus par ma poule blanche.",
         "29230"
        ],
        [
         "544",
         "Al levrioù-mañ zo ker, pegement eo ar re-se ?",
         "Ces livres-ci sont chers, combien coûtent ceux-là ?",
         "22331"
        ],
        [
         "3647",
         "Ar bal zo aet a-dreuz kaer.",
         "La pelle a fini toute tordue.",
         "29230"
        ],
        [
         "1670",
         "Me zo o vont da skubañ ma zi a-benn e vi aet kuit.",
         "Je vais balayer ma maison quand tu seras parti.",
         "29150"
        ],
        [
         "1465",
         "Ah... te az peus troc'het un tamm da lakaat aze, a-gaoz e oan o vont da lavar, n'ema ket staget tu ebet anezhañ !",
         "Ah... te az peus troc'het un tamm da lakaat aze, a-gaoz e oan o vont da lavar, n'ema ket staget tu ebet anezhañ !",
         "29150"
        ],
        [
         "3463",
         "Euh, euh, ouzh ouzh o favioù ? Ya, e veze lakaet ul, ul, ul liver. Petra a vez lavaret eus an dra-se e, e galleg ?",
         "Euh, euh, ouzh ouzh o favioù ? Ya, e veze lakaet ul, ul, ul liver. Petra a vez lavaret eus an dra-se e, e galleg ?",
         "29168"
        ],
        [
         "2778",
         "Pa yaen da welet va breur-kaer, eñv a gonte din istorioù eus... les... diouzh al lutin.",
         "Quand j'allais voir mon beau-frère, il me racontait des histoires de lutins.",
         "29168"
        ],
        [
         "2492",
         "N'eus ket e-leizh bugale hag a oa brezhoneg.",
         "Il n'y a pas beaucoup d'enfants qui savent le breton.",
         "29153"
        ],
        [
         "6966",
         "Ki ivez, un amzer ki a ve bet lavaret, ya. Fall amzer peotramant un amzer ki.",
         "Ki ivez, un amzer ki a ve bet lavaret, ya. Fall amzer peotramant un amzer ki.",
         "56116"
        ],
        [
         "4666",
         "N'ho peus ket graet ar pezh am boa lavaret deoc'h.",
         "Vous n'avez pas fait ce que je vous avais dit.",
         "29236"
        ],
        [
         "994",
         "Muioc'h a dud e oant dec'h e-barzh an overenn.",
         "Ils étaient plus de monde hier à la messe.",
         "29032"
        ],
        [
         "7118",
         "Ar voazined zo deuet d'ober an dornerezh.",
         "Les voisins sont venus faire le battage.",
         "56175"
        ],
        [
         "4011",
         "Dec'h, ni hor boa gwelet e vreur gantañ.",
         "Hier, nous avions vu son frère avec lui.",
         "29230"
        ],
        [
         "177",
         "Dont a rehet, da ma gwel (gwelet), a-benn ur miz ac'hann-amañ.",
         "Tu viendras me voir dans un mois.",
         "22167"
        ],
        [
         "1737",
         "Gra ur bouch din !",
         "Fais-moi un bisou !",
         "29150"
        ],
        [
         "1615",
         "Eu... oui, ya... me zo o vont da lavar dit lar me am eus, eu... ur c'hou-... ur c'houzeñ jermen da ma mamm... hag, eu... zo bet lazhet... e oa kouezhet... kouezhet ar... ar wern hag a oa ar vizan dalc'h diouti hag ar... ar wern zo kouezhet hag he deus lazhet °na-... ar paotr yaouank, war-c'horre ar vag.",
         "Eu... oui, ya... me zo o vont da lavar dit lar me am eus, eu... ur c'hou-... ur c'houzeñ jermen da ma mamm... hag, eu... zo bet lazhet... e oa kouezhet... kouezhet ar... ar wern hag a oa ar vizan dalc'h diouti hag ar... ar wern zo kouezhet hag he deus lazhet °na-... ar paotr yaouank, war-c'horre ar vag.",
         "29150"
        ],
        [
         "4700",
         "An dra-se zo lavaret \"payer cash\", paeet diouzhtu, kwa. Hag an arc'hant war ar peul. Abalamour gwechall, pa'z eer d'ar foar gant ur marc'h pe ur vuoc'h, e veze plantet peulioù deomp gant... tud... gant... kantonierien kêr, kwa, a lakae peulioù hag e veze staget ar marc'h pe a... setu, e veze kontet an arc'hant war ar peul peogwir ne oa taol ebet. Ya, e veze kountet war ar peul a dalveze da stagañ ar marc'h pe ar vuoc'h, eo war ar peul-se a oa plat ar penn e veze kontet ar gwenneien war-gorre... pa veze prenet ur vuoc'h.",
         "Cela se dit \"payer cash\", payé tout de suite, quoi. Et l'argent sur le pieu. Parce qu'autrefois, quand on allait à la foire avec un cheval ou une vache, les gens, les cantoniers municipaux nous plantaient des pieux, quoi. Ils mettaient des pieux et on attachait le cheval ou... ainsi, on comptait l'argent sur le pieu puisqu'il n'y avait aucune table. Oui, on comptait sur le pieu... qui servait à attacher le cheval ou la vache. C'est sur ce pieu-là dont ta tête était plate qu'on comptait les sous par-dessus... quand on achetait une vache.",
         "29239"
        ],
        [
         "877",
         "Kerzh d'azezañ war-c'horre ma gwele !",
         "Vas t'asseoir sur mon lit !",
         "29032"
        ],
        [
         "263",
         "Ya, ar c'hezeg, ma vagec'h anezho mat, ar re-se a gerzhe mat.",
         "Ya, ar c'hezeg, ma vagec'h anezho mat, ar re-se a gerzhe mat.",
         "22181"
        ],
        [
         "3206",
         "Pa gontoc'h an istor-se d'hoc'h eontr, eñ ne gredo ket ac'hanoc'h anezhañ.",
         "Quand vous raconterez cette histoire à votre oncle, il ne vous croira pas.",
         "29168"
        ],
        [
         "319",
         "E c'hoar zo demezet gant unan deus Plaeraneg.",
         "Sa soeur est mariée avec quelqu'un de Ploubazlanec.",
         "22230"
        ],
        [
         "3768",
         "Ar paotrig bihan a oa e noazh.",
         "Le petit garçon était nu.",
         "29230"
        ],
        [
         "3439",
         "An dra-se n'em eus ket gwelet, eu, n'em eus ken klevet va mamm-gozh, eu, o rentañ din, eu, penaos e raent, kwa. Peogwir va mamm-gozh a oa diouzh Kerured hag e teue, eu... hag e veze aze gant, eu... peogwir e oa ur gazeg... peogwir e oa un... un... ur stal vihan ivez, e oa ur gazeg er gêr, setu e teue ivez, eu... hi ha neuze ar... ar re a-raok hi, eu, he zad, donc, da... beñ, d'ober ar bezhin. An dra-se, eu, a zikoure anezho ivez da gaout un tammig moneiz.",
         "An dra-se n'em eus ket gwelet, eu, n'em eus ken klevet va mamm-gozh, eu, o rentañ din, eu, penaos e raent, kwa. Peogwir va mamm-gozh a oa diouzh Kerured hag e teue, eu... hag e veze aze gant, eu... peogwir e oa ur gazeg... peogwir e oa un... un... ur stal vihan ivez, e oa ur gazeg er gêr, setu e teue ivez, eu... hi ha neuze ar... ar re a-raok hi, eu, he zad, donc, da... beñ, d'ober ar bezhin. An dra-se, eu, a zikoure anezho ivez da gaout un tammig moneiz.",
         "29168"
        ],
        [
         "5774",
         "Ar bedervet deus ar merc'hed... ar bedervet deus ar merc'hed.",
         "La quatrième des filles... la quatrième des filles.",
         "29293"
        ],
        [
         "1511",
         "Me... me a wel anezhe... petra int bremañ. Ha te... te a bouez warne, paf ! Te a dorr anezhe... bremañ... mes peseurt anv o deus, n'ouzon ket par exemple... mes ra... ni, ni a lavare bezhin kloc'hek oute : \"Kerzhit da gla-... kerzhit da... en em amuz-... d'ober jeu, ne vez ket lavaret en em amuz, kerzhit d'ober jeu gant bezhin kloc'hek du-se ! Petra emaoc'h oc'h ober aze, o lakaat ar bezhin kloc'hek da strakal ?\" Memes a-benn e oa... zo... zo heol mat, int... te a glev paf ! paf ! e vez... int... te a glev... te a glev... te a glev anezhe o tigeriñ.",
         "Me... me a wel anezhe... petra int bremañ. Ha te... te a bouez warne, paf ! Te a dorr anezhe... bremañ... mes peseurt anv o deus, n'ouzon ket par exemple... mes ra... ni, ni a lavare bezhin kloc'hek oute : \"Kerzhit da gla-... kerzhit da... en em amuz-... d'ober jeu, ne vez ket lavaret en em amuz, kerzhit d'ober jeu gant bezhin kloc'hek du-se ! Petra emaoc'h oc'h ober aze, o lakaat ar bezhin kloc'hek da strakal ?\" Memes a-benn e oa... zo... zo heol mat, int... te a glev paf ! paf ! e vez... int... te a glev... te a glev... te a glev anezhe o tigeriñ.",
         "29150"
        ],
        [
         "5484",
         "Mes pas peogwir te a dro anezhañ diouzhin atav !",
         "Mes pas peogwir te a dro anezhañ diouzhin atav !",
         "29293"
        ],
        [
         "3107",
         "Yann a oa azezet tost dezhañ.",
         "Yann était assis près de lui.",
         "29168"
        ],
        [
         "2543",
         "un alc'houez",
         "une clef",
         "29154"
        ],
        [
         "4100",
         "Bemnoz, ni hor boa naon.",
         "Tous les soirs, nous avions faim.",
         "29230"
        ],
        [
         "230",
         "Hi a end-eeune he zraoù e-barzh en he sakoch.",
         "Elle rangeait ses affaires dans son sac.",
         "22167"
        ]
       ],
       "shape": {
        "columns": 3,
        "rows": 200
       }
      },
      "text/html": [
       "<div>\n",
       "<style scoped>\n",
       "    .dataframe tbody tr th:only-of-type {\n",
       "        vertical-align: middle;\n",
       "    }\n",
       "\n",
       "    .dataframe tbody tr th {\n",
       "        vertical-align: top;\n",
       "    }\n",
       "\n",
       "    .dataframe thead th {\n",
       "        text-align: right;\n",
       "    }\n",
       "</style>\n",
       "<table border=\"1\" class=\"dataframe\">\n",
       "  <thead>\n",
       "    <tr style=\"text-align: right;\">\n",
       "      <th></th>\n",
       "      <th>br</th>\n",
       "      <th>fr</th>\n",
       "      <th>city</th>\n",
       "    </tr>\n",
       "  </thead>\n",
       "  <tbody>\n",
       "    <tr>\n",
       "      <th>1057</th>\n",
       "      <td>ur c'harzh</td>\n",
       "      <td>une haie</td>\n",
       "      <td>29032</td>\n",
       "    </tr>\n",
       "    <tr>\n",
       "      <th>2654</th>\n",
       "      <td>Mari zo deuet a-benn enno antronoz.</td>\n",
       "      <td>Marie est venue vers eux le lendemain.</td>\n",
       "      <td>29168</td>\n",
       "    </tr>\n",
       "    <tr>\n",
       "      <th>4401</th>\n",
       "      <td>An amzer gwechall, ne oa... ne oa ket, eu... n...</td>\n",
       "      <td>Autrefois, c'était... c'était, euh... ça n'éta...</td>\n",
       "      <td>29230</td>\n",
       "    </tr>\n",
       "    <tr>\n",
       "      <th>5843</th>\n",
       "      <td>Piv zo bet o troc'hiñ ar wezenn ?</td>\n",
       "      <td>Qui a coupé l'arbre ?</td>\n",
       "      <td>29293</td>\n",
       "    </tr>\n",
       "    <tr>\n",
       "      <th>7177</th>\n",
       "      <td>Pa oufemp ar wirionez, n'he lavarfemp ket.</td>\n",
       "      <td>Si nous savions la vérité, nous ne la dirions ...</td>\n",
       "      <td>56175</td>\n",
       "    </tr>\n",
       "    <tr>\n",
       "      <th>...</th>\n",
       "      <td>...</td>\n",
       "      <td>...</td>\n",
       "      <td>...</td>\n",
       "    </tr>\n",
       "    <tr>\n",
       "      <th>2925</th>\n",
       "      <td>War an hent am eus gwelet div vaouez.</td>\n",
       "      <td>Sur le chemin, j'ai vu deux femmes.</td>\n",
       "      <td>29168</td>\n",
       "    </tr>\n",
       "    <tr>\n",
       "      <th>2251</th>\n",
       "      <td>Mes pegiz e ra ar re zo e-barzh... e-kostez......</td>\n",
       "      <td>Mes pegiz e ra ar re zo e-barzh... e-kostez......</td>\n",
       "      <td>29150</td>\n",
       "    </tr>\n",
       "    <tr>\n",
       "      <th>5777</th>\n",
       "      <td>Ar bedervet deus e verc'hed zo aet da chom da ...</td>\n",
       "      <td>La quatrième de ses filles est allée habiter à...</td>\n",
       "      <td>29293</td>\n",
       "    </tr>\n",
       "    <tr>\n",
       "      <th>6815</th>\n",
       "      <td>Kerzhet a ra ? Eñ... eñ a respont ? O, me a we...</td>\n",
       "      <td>Il fonctionne (ton appareil) ? Il... il répond...</td>\n",
       "      <td>56094</td>\n",
       "    </tr>\n",
       "    <tr>\n",
       "      <th>6453</th>\n",
       "      <td>E brad-eñ ha, ne oa ket da zen mod arall nemet...</td>\n",
       "      <td>C'était son pré à lui et, il n'appartenait à p...</td>\n",
       "      <td>56089</td>\n",
       "    </tr>\n",
       "  </tbody>\n",
       "</table>\n",
       "<p>200 rows × 3 columns</p>\n",
       "</div>"
      ],
      "text/plain": [
       "                                                     br  \\\n",
       "1057                                         ur c'harzh   \n",
       "2654                Mari zo deuet a-benn enno antronoz.   \n",
       "4401  An amzer gwechall, ne oa... ne oa ket, eu... n...   \n",
       "5843                  Piv zo bet o troc'hiñ ar wezenn ?   \n",
       "7177         Pa oufemp ar wirionez, n'he lavarfemp ket.   \n",
       "...                                                 ...   \n",
       "2925              War an hent am eus gwelet div vaouez.   \n",
       "2251  Mes pegiz e ra ar re zo e-barzh... e-kostez......   \n",
       "5777  Ar bedervet deus e verc'hed zo aet da chom da ...   \n",
       "6815  Kerzhet a ra ? Eñ... eñ a respont ? O, me a we...   \n",
       "6453  E brad-eñ ha, ne oa ket da zen mod arall nemet...   \n",
       "\n",
       "                                                     fr   city  \n",
       "1057                                           une haie  29032  \n",
       "2654             Marie est venue vers eux le lendemain.  29168  \n",
       "4401  Autrefois, c'était... c'était, euh... ça n'éta...  29230  \n",
       "5843                              Qui a coupé l'arbre ?  29293  \n",
       "7177  Si nous savions la vérité, nous ne la dirions ...  56175  \n",
       "...                                                 ...    ...  \n",
       "2925                Sur le chemin, j'ai vu deux femmes.  29168  \n",
       "2251  Mes pegiz e ra ar re zo e-barzh... e-kostez......  29150  \n",
       "5777  La quatrième de ses filles est allée habiter à...  29293  \n",
       "6815  Il fonctionne (ton appareil) ? Il... il répond...  56094  \n",
       "6453  C'était son pré à lui et, il n'appartenait à p...  56089  \n",
       "\n",
       "[200 rows x 3 columns]"
      ]
     },
     "execution_count": 10,
     "metadata": {},
     "output_type": "execute_result"
    }
   ],
   "source": [
    "# If your DataFrame is called df\n",
    "small_df = df.sample(n=200, random_state=42)  # random_state makes it reproducible\n",
    "small_df"
   ]
  },
  {
   "cell_type": "code",
   "execution_count": 11,
   "id": "0e2d9326",
   "metadata": {},
   "outputs": [
    {
     "name": "stdout",
     "output_type": "stream",
     "text": [
      "Transcribing /home/ouassim/Desktop/ss/stage/Data/Banque sonore des Dialectes Bretonnes/Audio/Audio/utt_01057.wav...\n"
     ]
    },
    {
     "name": "stderr",
     "output_type": "stream",
     "text": [
      "/home/ouassim/anaconda3/envs/stt-breton/lib/python3.10/site-packages/whisper/transcribe.py:126: UserWarning: FP16 is not supported on CPU; using FP32 instead\n",
      "  warnings.warn(\"FP16 is not supported on CPU; using FP32 instead\")\n"
     ]
    },
    {
     "name": "stdout",
     "output_type": "stream",
     "text": [
      "[00:00.000 --> 00:04.640]  therefore\n",
      "Transcribing /home/ouassim/Desktop/ss/stage/Data/Banque sonore des Dialectes Bretonnes/Audio/Audio/utt_02654.wav...\n"
     ]
    },
    {
     "name": "stderr",
     "output_type": "stream",
     "text": [
      "/home/ouassim/anaconda3/envs/stt-breton/lib/python3.10/site-packages/whisper/transcribe.py:126: UserWarning: FP16 is not supported on CPU; using FP32 instead\n",
      "  warnings.warn(\"FP16 is not supported on CPU; using FP32 instead\")\n"
     ]
    },
    {
     "name": "stdout",
     "output_type": "stream",
     "text": [
      "[00:00.000 --> 00:03.000]  Mori, aso du benen internoos.\n",
      "Transcribing /home/ouassim/Desktop/ss/stage/Data/Banque sonore des Dialectes Bretonnes/Audio/Audio/utt_04401.wav...\n"
     ]
    },
    {
     "name": "stderr",
     "output_type": "stream",
     "text": [
      "/home/ouassim/anaconda3/envs/stt-breton/lib/python3.10/site-packages/whisper/transcribe.py:126: UserWarning: FP16 is not supported on CPU; using FP32 instead\n",
      "  warnings.warn(\"FP16 is not supported on CPU; using FP32 instead\")\n"
     ]
    },
    {
     "name": "stdout",
     "output_type": "stream",
     "text": [
      "[00:00.000 --> 00:03.800]  exams ordurue shele boister\n",
      "[00:04.420 --> 00:06.600]  what she's imagined\n",
      "Transcribing /home/ouassim/Desktop/ss/stage/Data/Banque sonore des Dialectes Bretonnes/Audio/Audio/utt_05843.wav...\n"
     ]
    },
    {
     "name": "stderr",
     "output_type": "stream",
     "text": [
      "/home/ouassim/anaconda3/envs/stt-breton/lib/python3.10/site-packages/whisper/transcribe.py:126: UserWarning: FP16 is not supported on CPU; using FP32 instead\n",
      "  warnings.warn(\"FP16 is not supported on CPU; using FP32 instead\")\n"
     ]
    },
    {
     "name": "stdout",
     "output_type": "stream",
     "text": [
      "[00:00.000 --> 00:03.340]  Cubâtsalthoulo\n",
      "Transcribing /home/ouassim/Desktop/ss/stage/Data/Banque sonore des Dialectes Bretonnes/Audio/Audio/utt_07177.wav...\n"
     ]
    },
    {
     "name": "stderr",
     "output_type": "stream",
     "text": [
      "/home/ouassim/anaconda3/envs/stt-breton/lib/python3.10/site-packages/whisper/transcribe.py:126: UserWarning: FP16 is not supported on CPU; using FP32 instead\n",
      "  warnings.warn(\"FP16 is not supported on CPU; using FP32 instead\")\n"
     ]
    },
    {
     "name": "stdout",
     "output_type": "stream",
     "text": [
      "[00:00.000 --> 00:06.280]  dint abolieменenar einsod\n",
      "Transcribing /home/ouassim/Desktop/ss/stage/Data/Banque sonore des Dialectes Bretonnes/Audio/Audio/utt_03805.wav...\n"
     ]
    },
    {
     "name": "stderr",
     "output_type": "stream",
     "text": [
      "/home/ouassim/anaconda3/envs/stt-breton/lib/python3.10/site-packages/whisper/transcribe.py:126: UserWarning: FP16 is not supported on CPU; using FP32 instead\n",
      "  warnings.warn(\"FP16 is not supported on CPU; using FP32 instead\")\n"
     ]
    },
    {
     "name": "stdout",
     "output_type": "stream",
     "text": [
      "[00:00.000 --> 00:02.880]  He's as shwente un mine besuich...\n",
      "Transcribing /home/ouassim/Desktop/ss/stage/Data/Banque sonore des Dialectes Bretonnes/Audio/Audio/utt_03961.wav...\n"
     ]
    },
    {
     "name": "stderr",
     "output_type": "stream",
     "text": [
      "/home/ouassim/anaconda3/envs/stt-breton/lib/python3.10/site-packages/whisper/transcribe.py:126: UserWarning: FP16 is not supported on CPU; using FP32 instead\n",
      "  warnings.warn(\"FP16 is not supported on CPU; using FP32 instead\")\n"
     ]
    },
    {
     "name": "stdout",
     "output_type": "stream",
     "text": [
      "[00:00.000 --> 00:02.920]  Ben Mirz Laburot Musgon ich der Mitte.\n",
      "Transcribing /home/ouassim/Desktop/ss/stage/Data/Banque sonore des Dialectes Bretonnes/Audio/Audio/utt_06147.wav...\n"
     ]
    },
    {
     "name": "stderr",
     "output_type": "stream",
     "text": [
      "/home/ouassim/anaconda3/envs/stt-breton/lib/python3.10/site-packages/whisper/transcribe.py:126: UserWarning: FP16 is not supported on CPU; using FP32 instead\n",
      "  warnings.warn(\"FP16 is not supported on CPU; using FP32 instead\")\n"
     ]
    },
    {
     "name": "stdout",
     "output_type": "stream",
     "text": [
      "[00:00.000 --> 00:18.360]  consumption bill\n",
      "Transcribing /home/ouassim/Desktop/ss/stage/Data/Banque sonore des Dialectes Bretonnes/Audio/Audio/utt_03551.wav...\n"
     ]
    },
    {
     "name": "stderr",
     "output_type": "stream",
     "text": [
      "/home/ouassim/anaconda3/envs/stt-breton/lib/python3.10/site-packages/whisper/transcribe.py:126: UserWarning: FP16 is not supported on CPU; using FP32 instead\n",
      "  warnings.warn(\"FP16 is not supported on CPU; using FP32 instead\")\n"
     ]
    },
    {
     "name": "stdout",
     "output_type": "stream",
     "text": [
      "[00:00.000 --> 00:02.740]  a they should must one bend the eye.\n",
      "[00:03.280 --> 00:04.800]  the herbo artist'\n",
      "Transcribing /home/ouassim/Desktop/ss/stage/Data/Banque sonore des Dialectes Bretonnes/Audio/Audio/utt_02413.wav...\n"
     ]
    },
    {
     "name": "stderr",
     "output_type": "stream",
     "text": [
      "/home/ouassim/anaconda3/envs/stt-breton/lib/python3.10/site-packages/whisper/transcribe.py:126: UserWarning: FP16 is not supported on CPU; using FP32 instead\n",
      "  warnings.warn(\"FP16 is not supported on CPU; using FP32 instead\")\n"
     ]
    },
    {
     "name": "stdout",
     "output_type": "stream",
     "text": [
      "[00:00.000 --> 00:01.240]  Hello 9\n",
      "Transcribing /home/ouassim/Desktop/ss/stage/Data/Banque sonore des Dialectes Bretonnes/Audio/Audio/utt_00185.wav...\n"
     ]
    },
    {
     "name": "stderr",
     "output_type": "stream",
     "text": [
      "/home/ouassim/anaconda3/envs/stt-breton/lib/python3.10/site-packages/whisper/transcribe.py:126: UserWarning: FP16 is not supported on CPU; using FP32 instead\n",
      "  warnings.warn(\"FP16 is not supported on CPU; using FP32 instead\")\n"
     ]
    },
    {
     "name": "stdout",
     "output_type": "stream",
     "text": [
      "[00:00.000 --> 00:04.640]  Aves yvrQUA tamir vaître pump.\n",
      "Transcribing /home/ouassim/Desktop/ss/stage/Data/Banque sonore des Dialectes Bretonnes/Audio/Audio/utt_01221.wav...\n"
     ]
    },
    {
     "name": "stderr",
     "output_type": "stream",
     "text": [
      "/home/ouassim/anaconda3/envs/stt-breton/lib/python3.10/site-packages/whisper/transcribe.py:126: UserWarning: FP16 is not supported on CPU; using FP32 instead\n",
      "  warnings.warn(\"FP16 is not supported on CPU; using FP32 instead\")\n"
     ]
    },
    {
     "name": "stdout",
     "output_type": "stream",
     "text": [
      "[00:00.000 --> 00:04.220]  Aehhh, ai, ae clayska warbikk then, ae te bahag holi nushin,\n",
      "[00:04.220 --> 00:06.140]  bo ha leftor duun constitue Ne, dec man bus.\n",
      "[00:06.140 --> 00:09.120]  Mea clayska dataset nui invasgod son,\n",
      "[00:09.120 --> 00:20.740]  ff ид e lionschit, tar tuekцион' ke shish otte beh buit\n",
      "Transcribing /home/ouassim/Desktop/ss/stage/Data/Banque sonore des Dialectes Bretonnes/Audio/Audio/utt_00061.wav...\n"
     ]
    },
    {
     "name": "stderr",
     "output_type": "stream",
     "text": [
      "/home/ouassim/anaconda3/envs/stt-breton/lib/python3.10/site-packages/whisper/transcribe.py:126: UserWarning: FP16 is not supported on CPU; using FP32 instead\n",
      "  warnings.warn(\"FP16 is not supported on CPU; using FP32 instead\")\n"
     ]
    },
    {
     "name": "stdout",
     "output_type": "stream",
     "text": [
      "[00:00.480 --> 00:02.380]  Vigule Null Magazine\n",
      "[00:03.520 --> 00:04.480]  Blethяд\n",
      "[00:06.040 --> 00:07.000] ❤️\n",
      "[00:07.320 --> 00:08.160]  X\n",
      "[00:08.480 --> 00:09.980]  Y\n",
      "[00:10.140 --> 00:11.140]  X\n",
      "[00:11.380 --> 00:11.880]  Y\n",
      "[00:11.900 --> 00:12.400]  X\n",
      "[00:12.520 --> 00:13.340]  Y\n",
      "[00:13.340 --> 00:13.800]  Y\n",
      "Transcribing /home/ouassim/Desktop/ss/stage/Data/Banque sonore des Dialectes Bretonnes/Audio/Audio/utt_02328.wav...\n"
     ]
    },
    {
     "name": "stderr",
     "output_type": "stream",
     "text": [
      "/home/ouassim/anaconda3/envs/stt-breton/lib/python3.10/site-packages/whisper/transcribe.py:126: UserWarning: FP16 is not supported on CPU; using FP32 instead\n",
      "  warnings.warn(\"FP16 is not supported on CPU; using FP32 instead\")\n"
     ]
    },
    {
     "name": "stdout",
     "output_type": "stream",
     "text": [
      "[00:00.000 --> 00:02.800]  Ceis'la au-g geite.\n",
      "Transcribing /home/ouassim/Desktop/ss/stage/Data/Banque sonore des Dialectes Bretonnes/Audio/Audio/utt_06524.wav...\n"
     ]
    },
    {
     "name": "stderr",
     "output_type": "stream",
     "text": [
      "/home/ouassim/anaconda3/envs/stt-breton/lib/python3.10/site-packages/whisper/transcribe.py:126: UserWarning: FP16 is not supported on CPU; using FP32 instead\n",
      "  warnings.warn(\"FP16 is not supported on CPU; using FP32 instead\")\n"
     ]
    },
    {
     "name": "stdout",
     "output_type": "stream",
     "text": [
      "[00:00.000 --> 00:11.120]  Millar\n",
      "Transcribing /home/ouassim/Desktop/ss/stage/Data/Banque sonore des Dialectes Bretonnes/Audio/Audio/utt_06082.wav...\n"
     ]
    },
    {
     "name": "stderr",
     "output_type": "stream",
     "text": [
      "/home/ouassim/anaconda3/envs/stt-breton/lib/python3.10/site-packages/whisper/transcribe.py:126: UserWarning: FP16 is not supported on CPU; using FP32 instead\n",
      "  warnings.warn(\"FP16 is not supported on CPU; using FP32 instead\")\n"
     ]
    },
    {
     "name": "stdout",
     "output_type": "stream",
     "text": [
      "[00:00.000 --> 00:01.680]  4. Af этомgettis\n",
      "[00:01.680 --> 00:03.380]  4. Afнулas\n",
      "[00:03.380 --> 00:06.880]  4. Afolges\n",
      "[00:06.880 --> 00:09.140]  5. Af Mercury\n",
      "[00:09.140 --> 00:09.660]  6. Af entertainment\n",
      "[00:09.660 --> 00:11.520]  6. Afoti noble\n",
      "[00:11.520 --> 00:12.540]  6. Afumсти\n",
      "[00:12.540 --> 00:14.500]  6. Af beauty\n",
      "[00:23.840 --> 00:25.660]  6. Afiti\n",
      "[00:25.660 --> 00:33.660]  Duleve, hizala, hiztage, dörvangui, dörmuriau,\n",
      "[00:33.660 --> 00:37.660]  Hinawala, hiztapuzia, wafon.\n",
      "[00:37.660 --> 00:39.660]  Hinawala, hiztapuzia, wafon.\n",
      "[00:39.660 --> 00:41.660]  Hinawala, hiztapuzia, wafon.\n",
      "[00:41.660 --> 00:43.660]  Hinawala, hiztapuzia, wafon.\n",
      "[00:43.660 --> 00:45.660]  Hinawala, hiztapuzia, wafon.\n",
      "[00:45.660 --> 00:47.660]  Hinawala, hiztapuzia, wafon.\n",
      "[00:47.660 --> 00:49.660]  Hinawala, hiztapuzia, wafon.\n",
      "[00:49.660 --> 00:51.660]  Hinawala, hiztapuzia, wafon.\n",
      "[00:51.660 --> 00:53.660]  Hinawala, hiztapuzia, wafon.\n",
      "[00:53.660 --> 00:55.660]  Hinawala, hiztapuzia, wafon.\n",
      "Transcribing /home/ouassim/Desktop/ss/stage/Data/Banque sonore des Dialectes Bretonnes/Audio/Audio/utt_03934.wav...\n"
     ]
    },
    {
     "name": "stderr",
     "output_type": "stream",
     "text": [
      "/home/ouassim/anaconda3/envs/stt-breton/lib/python3.10/site-packages/whisper/transcribe.py:126: UserWarning: FP16 is not supported on CPU; using FP32 instead\n",
      "  warnings.warn(\"FP16 is not supported on CPU; using FP32 instead\")\n"
     ]
    },
    {
     "name": "stdout",
     "output_type": "stream",
     "text": [
      "[00:00.000 --> 00:03.220]  Me brûr se gan trie bla aluminum atlèr.\n",
      "Transcribing /home/ouassim/Desktop/ss/stage/Data/Banque sonore des Dialectes Bretonnes/Audio/Audio/utt_04128.wav...\n"
     ]
    },
    {
     "name": "stderr",
     "output_type": "stream",
     "text": [
      "/home/ouassim/anaconda3/envs/stt-breton/lib/python3.10/site-packages/whisper/transcribe.py:126: UserWarning: FP16 is not supported on CPU; using FP32 instead\n",
      "  warnings.warn(\"FP16 is not supported on CPU; using FP32 instead\")\n"
     ]
    },
    {
     "name": "stdout",
     "output_type": "stream",
     "text": [
      "[00:00.000 --> 00:05.000]  Names of subit, nini senti de school de Rio.\n",
      "Transcribing /home/ouassim/Desktop/ss/stage/Data/Banque sonore des Dialectes Bretonnes/Audio/Audio/utt_02344.wav...\n"
     ]
    },
    {
     "name": "stderr",
     "output_type": "stream",
     "text": [
      "/home/ouassim/anaconda3/envs/stt-breton/lib/python3.10/site-packages/whisper/transcribe.py:126: UserWarning: FP16 is not supported on CPU; using FP32 instead\n",
      "  warnings.warn(\"FP16 is not supported on CPU; using FP32 instead\")\n"
     ]
    },
    {
     "name": "stdout",
     "output_type": "stream",
     "text": [
      "[00:00.000 --> 00:03.520]  Meme s'enjë beu m'emba de m'o'ionk,\n",
      "[00:03.520 --> 00:05.360]  crënbëot m'emis,\n",
      "[00:05.360 --> 00:09.360]  la ralmdeus quil nëlëk,\n",
      "[00:09.360 --> 00:10.920]  a bënë,\n",
      "[00:10.920 --> 00:14.160]  iën trou de naferna runus,\n",
      "[00:14.160 --> 00:16.520]  a neusë,\n",
      "[00:16.520 --> 00:18.520]  pëvëdë,\n",
      "[00:18.520 --> 00:20.160]  dëdë dënëër,\n",
      "[00:20.160 --> 00:23.400]  maënë vëdëestëvrioësën,\n",
      "[00:23.400 --> 00:25.600]  vëëjësëvnë, nëolërënjë,\n",
      "[00:25.600 --> 00:28.240]  pëëjësëvëdëestëdëm,\n",
      "[00:28.680 --> 00:30.280]  mistënë,\n",
      "[00:30.280 --> 00:32.080]  máabighjë jëj justjë,\n",
      "[00:32.080 --> 00:34.080]  Sixtëhënë,\n",
      "[00:34.880 --> 00:35.920]  nënzë ottë i jënndra?\n",
      "[00:35.920 --> 00:37.840]  Nação jëtre her dui besë..\n",
      "[00:37.840 --> 00:38.360]  etë..\n",
      "[00:38.360 --> 00:39.120]  etë..\n",
      "[00:39.120 --> 00:40.480] ë..\n",
      "[00:40.480 --> 00:42.560]  enë..\n",
      "[00:42.560 --> 00:45.400]  malgoshë c hire eh indre a allegëdë\n",
      "[00:45.400 --> 00:46.240]  lerëggke bjëdë,\n",
      "[00:46.240 --> 00:50.080]  cpletë,\n",
      "[00:50.080 --> 00:51.200]  dëoo en ou cvoce mawisëjë wollte\n",
      "[00:51.200 --> 00:52.720]  entë truriafërdë,\n",
      "[00:52.720 --> 00:55.680]  cры�o amfrë alluëe dëgoë agë potë,\n",
      "[00:55.680 --> 00:57.920]  potë ja adaptë fra iëânëm syyëllig midsegë...\n",
      "[00:57.920 --> 01:01.520]  M'n matresa,\n",
      "[01:01.520 --> 01:03.020]  gainadanik,\n",
      "[01:03.020 --> 01:05.020]  bade mardvorskot,\n",
      "[01:05.020 --> 01:06.520]  hanazar,\n",
      "[01:06.520 --> 01:08.020]  bomba,\n",
      "[01:08.020 --> 01:09.520]  alisma,\n",
      "[01:09.520 --> 01:10.520]  bizetau,\n",
      "[01:10.520 --> 01:11.020]  mums,\n",
      "[01:11.020 --> 01:12.020]  viqa'et,\n",
      "[01:12.020 --> 01:13.220]  nazwa,\n",
      "[01:13.220 --> 01:14.220]  nardagair,\n",
      "[01:14.220 --> 01:15.220]  alar,\n",
      "[01:15.220 --> 01:16.220]  viqa'et,\n",
      "[01:16.220 --> 01:17.220]  gau'n dat,\n",
      "[01:17.220 --> 01:18.220]  bai vorskot,\n",
      "[01:18.220 --> 01:20.220]  hanazwa,\n",
      "[01:20.220 --> 01:22.220]  m'n,\n",
      "[01:22.220 --> 01:24.220]  nardal, hanazwa,\n",
      "[01:24.220 --> 01:25.720]  den deuz,\n",
      "[01:25.720 --> 01:26.420]  viqa'et,\n",
      "[01:26.420 --> 01:27.420]  m'n,\n",
      "[01:27.420 --> 01:28.420]  m'n,\n",
      "[01:28.420 --> 01:29.420]  r'\n",
      "[01:29.420 --> 01:30.420]  v'ala,\n",
      "[01:30.420 --> 01:31.420]  rej,\n",
      "[01:31.420 --> 01:32.420]  viqa'et,\n",
      "[01:32.420 --> 01:33.420]  viqa'et,\n",
      "[01:33.420 --> 01:34.420]  viqa'et,\n",
      "[01:34.420 --> 01:35.420]  gau'et,\n",
      "[01:35.420 --> 01:37.420]  nazwa,\n",
      "[01:37.420 --> 01:37.920]  viqa'et,\n",
      "[01:37.920 --> 01:38.420]  zum,\n",
      "[01:38.420 --> 01:39.420]  nardal,\n",
      "[01:39.420 --> 01:40.420]  viqa'et,\n",
      "[01:40.420 --> 01:41.420]  gau'et,\n",
      "[01:41.420 --> 01:42.420]  gau'et,\n",
      "[01:42.420 --> 01:43.420]  nardal,\n",
      "[01:43.420 --> 01:44.420]  nardal,\n",
      "[01:44.420 --> 01:45.420]  nardal,\n",
      "[01:45.420 --> 01:46.420]  nardal,\n",
      "Transcribing /home/ouassim/Desktop/ss/stage/Data/Banque sonore des Dialectes Bretonnes/Audio/Audio/utt_06771.wav...\n"
     ]
    },
    {
     "name": "stderr",
     "output_type": "stream",
     "text": [
      "/home/ouassim/anaconda3/envs/stt-breton/lib/python3.10/site-packages/whisper/transcribe.py:126: UserWarning: FP16 is not supported on CPU; using FP32 instead\n",
      "  warnings.warn(\"FP16 is not supported on CPU; using FP32 instead\")\n"
     ]
    },
    {
     "name": "stdout",
     "output_type": "stream",
     "text": [
      "[00:00.000 --> 00:06.370]  el shorter ankle\n",
      "Transcribing /home/ouassim/Desktop/ss/stage/Data/Banque sonore des Dialectes Bretonnes/Audio/Audio/utt_04539.wav...\n"
     ]
    },
    {
     "name": "stderr",
     "output_type": "stream",
     "text": [
      "/home/ouassim/anaconda3/envs/stt-breton/lib/python3.10/site-packages/whisper/transcribe.py:126: UserWarning: FP16 is not supported on CPU; using FP32 instead\n",
      "  warnings.warn(\"FP16 is not supported on CPU; using FP32 instead\")\n"
     ]
    },
    {
     "name": "stdout",
     "output_type": "stream",
     "text": [
      "[00:00.000 --> 00:04.500]  Nu gir sosildohu pod aunque mingyig affordio\n",
      "[00:04.500 --> 00:07.120]  huh\n",
      "Transcribing /home/ouassim/Desktop/ss/stage/Data/Banque sonore des Dialectes Bretonnes/Audio/Audio/utt_00544.wav...\n"
     ]
    },
    {
     "name": "stderr",
     "output_type": "stream",
     "text": [
      "/home/ouassim/anaconda3/envs/stt-breton/lib/python3.10/site-packages/whisper/transcribe.py:126: UserWarning: FP16 is not supported on CPU; using FP32 instead\n",
      "  warnings.warn(\"FP16 is not supported on CPU; using FP32 instead\")\n"
     ]
    },
    {
     "name": "stdout",
     "output_type": "stream",
     "text": [
      "[00:00.000 --> 00:03.480]  Leveria broadcast transport and language is a problem with rotation getting worse and worse.\n",
      "Transcribing /home/ouassim/Desktop/ss/stage/Data/Banque sonore des Dialectes Bretonnes/Audio/Audio/utt_03647.wav...\n"
     ]
    },
    {
     "name": "stderr",
     "output_type": "stream",
     "text": [
      "/home/ouassim/anaconda3/envs/stt-breton/lib/python3.10/site-packages/whisper/transcribe.py:126: UserWarning: FP16 is not supported on CPU; using FP32 instead\n",
      "  warnings.warn(\"FP16 is not supported on CPU; using FP32 instead\")\n"
     ]
    },
    {
     "name": "stdout",
     "output_type": "stream",
     "text": [
      "[00:00.000 --> 00:02.480]  Ball, so I Trushgear\n",
      "Transcribing /home/ouassim/Desktop/ss/stage/Data/Banque sonore des Dialectes Bretonnes/Audio/Audio/utt_01670.wav...\n"
     ]
    },
    {
     "name": "stderr",
     "output_type": "stream",
     "text": [
      "/home/ouassim/anaconda3/envs/stt-breton/lib/python3.10/site-packages/whisper/transcribe.py:126: UserWarning: FP16 is not supported on CPU; using FP32 instead\n",
      "  warnings.warn(\"FP16 is not supported on CPU; using FP32 instead\")\n"
     ]
    },
    {
     "name": "stdout",
     "output_type": "stream",
     "text": [
      "[00:00.000 --> 00:22.340]  Nu don′t难, bist见, kend\n",
      "Transcribing /home/ouassim/Desktop/ss/stage/Data/Banque sonore des Dialectes Bretonnes/Audio/Audio/utt_01465.wav...\n"
     ]
    },
    {
     "name": "stderr",
     "output_type": "stream",
     "text": [
      "/home/ouassim/anaconda3/envs/stt-breton/lib/python3.10/site-packages/whisper/transcribe.py:126: UserWarning: FP16 is not supported on CPU; using FP32 instead\n",
      "  warnings.warn(\"FP16 is not supported on CPU; using FP32 instead\")\n"
     ]
    },
    {
     "name": "stdout",
     "output_type": "stream",
     "text": [
      "[00:00.000 --> 00:03.620]  Áęapplast 40 gens,\n",
      "[00:03.700 --> 00:07.640]  21這樣\n",
      "Transcribing /home/ouassim/Desktop/ss/stage/Data/Banque sonore des Dialectes Bretonnes/Audio/Audio/utt_03463.wav...\n"
     ]
    },
    {
     "name": "stderr",
     "output_type": "stream",
     "text": [
      "/home/ouassim/anaconda3/envs/stt-breton/lib/python3.10/site-packages/whisper/transcribe.py:126: UserWarning: FP16 is not supported on CPU; using FP32 instead\n",
      "  warnings.warn(\"FP16 is not supported on CPU; using FP32 instead\")\n"
     ]
    },
    {
     "name": "stdout",
     "output_type": "stream",
     "text": [
      "[00:00.000 --> 00:02.700]  Adrienidうん\n",
      "[00:04.880 --> 00:10.260]  Alili\n",
      "Transcribing /home/ouassim/Desktop/ss/stage/Data/Banque sonore des Dialectes Bretonnes/Audio/Audio/utt_02778.wav...\n"
     ]
    },
    {
     "name": "stderr",
     "output_type": "stream",
     "text": [
      "/home/ouassim/anaconda3/envs/stt-breton/lib/python3.10/site-packages/whisper/transcribe.py:126: UserWarning: FP16 is not supported on CPU; using FP32 instead\n",
      "  warnings.warn(\"FP16 is not supported on CPU; using FP32 instead\")\n"
     ]
    },
    {
     "name": "stdout",
     "output_type": "stream",
     "text": [
      "[00:00.000 --> 00:01.960]  païna verteveye bom expenditures he\n",
      "[00:01.960 --> 00:03.560]  pho Shadowیا\n",
      "[00:03.560 --> 00:06.120]  dependance\n",
      "Transcribing /home/ouassim/Desktop/ss/stage/Data/Banque sonore des Dialectes Bretonnes/Audio/Audio/utt_02492.wav...\n"
     ]
    },
    {
     "name": "stderr",
     "output_type": "stream",
     "text": [
      "/home/ouassim/anaconda3/envs/stt-breton/lib/python3.10/site-packages/whisper/transcribe.py:126: UserWarning: FP16 is not supported on CPU; using FP32 instead\n",
      "  warnings.warn(\"FP16 is not supported on CPU; using FP32 instead\")\n"
     ]
    },
    {
     "name": "stdout",
     "output_type": "stream",
     "text": [
      "[00:00.000 --> 00:06.040]  neden\n",
      "Transcribing /home/ouassim/Desktop/ss/stage/Data/Banque sonore des Dialectes Bretonnes/Audio/Audio/utt_06966.wav...\n"
     ]
    },
    {
     "name": "stderr",
     "output_type": "stream",
     "text": [
      "/home/ouassim/anaconda3/envs/stt-breton/lib/python3.10/site-packages/whisper/transcribe.py:126: UserWarning: FP16 is not supported on CPU; using FP32 instead\n",
      "  warnings.warn(\"FP16 is not supported on CPU; using FP32 instead\")\n"
     ]
    },
    {
     "name": "stdout",
     "output_type": "stream",
     "text": [
      "[00:00.000 --> 00:28.760]  Choyu hěu'u n'hèu'u'uq cha'یک cueu qui ble beneficay\n",
      "Transcribing /home/ouassim/Desktop/ss/stage/Data/Banque sonore des Dialectes Bretonnes/Audio/Audio/utt_04666.wav...\n"
     ]
    },
    {
     "name": "stderr",
     "output_type": "stream",
     "text": [
      "/home/ouassim/anaconda3/envs/stt-breton/lib/python3.10/site-packages/whisper/transcribe.py:126: UserWarning: FP16 is not supported on CPU; using FP32 instead\n",
      "  warnings.warn(\"FP16 is not supported on CPU; using FP32 instead\")\n"
     ]
    },
    {
     "name": "stdout",
     "output_type": "stream",
     "text": [
      "[00:00.000 --> 00:02.000]  Pueche gruët pismalardor.\n",
      "Transcribing /home/ouassim/Desktop/ss/stage/Data/Banque sonore des Dialectes Bretonnes/Audio/Audio/utt_00994.wav...\n"
     ]
    },
    {
     "name": "stderr",
     "output_type": "stream",
     "text": [
      "/home/ouassim/anaconda3/envs/stt-breton/lib/python3.10/site-packages/whisper/transcribe.py:126: UserWarning: FP16 is not supported on CPU; using FP32 instead\n",
      "  warnings.warn(\"FP16 is not supported on CPU; using FP32 instead\")\n"
     ]
    },
    {
     "name": "stdout",
     "output_type": "stream",
     "text": [
      "[00:00.000 --> 00:02.000]  mindful mind seems nice,\n",
      "Transcribing /home/ouassim/Desktop/ss/stage/Data/Banque sonore des Dialectes Bretonnes/Audio/Audio/utt_07118.wav...\n"
     ]
    },
    {
     "name": "stderr",
     "output_type": "stream",
     "text": [
      "/home/ouassim/anaconda3/envs/stt-breton/lib/python3.10/site-packages/whisper/transcribe.py:126: UserWarning: FP16 is not supported on CPU; using FP32 instead\n",
      "  warnings.warn(\"FP16 is not supported on CPU; using FP32 instead\")\n"
     ]
    },
    {
     "name": "stdout",
     "output_type": "stream",
     "text": [
      "[00:00.000 --> 00:05.380]  Garuen Grant le Mwan produto\n",
      "Transcribing /home/ouassim/Desktop/ss/stage/Data/Banque sonore des Dialectes Bretonnes/Audio/Audio/utt_04011.wav...\n"
     ]
    },
    {
     "name": "stderr",
     "output_type": "stream",
     "text": [
      "/home/ouassim/anaconda3/envs/stt-breton/lib/python3.10/site-packages/whisper/transcribe.py:126: UserWarning: FP16 is not supported on CPU; using FP32 instead\n",
      "  warnings.warn(\"FP16 is not supported on CPU; using FP32 instead\")\n"
     ]
    },
    {
     "name": "stdout",
     "output_type": "stream",
     "text": [
      "[00:00.000 --> 00:02.800]  Derny, Meduelle, Vrueur, Gaton.\n",
      "Transcribing /home/ouassim/Desktop/ss/stage/Data/Banque sonore des Dialectes Bretonnes/Audio/Audio/utt_00177.wav...\n"
     ]
    },
    {
     "name": "stderr",
     "output_type": "stream",
     "text": [
      "/home/ouassim/anaconda3/envs/stt-breton/lib/python3.10/site-packages/whisper/transcribe.py:126: UserWarning: FP16 is not supported on CPU; using FP32 instead\n",
      "  warnings.warn(\"FP16 is not supported on CPU; using FP32 instead\")\n"
     ]
    },
    {
     "name": "stdout",
     "output_type": "stream",
     "text": [
      "[00:00.000 --> 00:05.760]  Dhona ryeit ue de me Qoeil beno Ni'za Diosan panel\n",
      "Transcribing /home/ouassim/Desktop/ss/stage/Data/Banque sonore des Dialectes Bretonnes/Audio/Audio/utt_01737.wav...\n"
     ]
    },
    {
     "name": "stderr",
     "output_type": "stream",
     "text": [
      "/home/ouassim/anaconda3/envs/stt-breton/lib/python3.10/site-packages/whisper/transcribe.py:126: UserWarning: FP16 is not supported on CPU; using FP32 instead\n",
      "  warnings.warn(\"FP16 is not supported on CPU; using FP32 instead\")\n"
     ]
    },
    {
     "name": "stdout",
     "output_type": "stream",
     "text": [
      "[00:00.000 --> 00:02.000]  Krabušteo!\n",
      "Transcribing /home/ouassim/Desktop/ss/stage/Data/Banque sonore des Dialectes Bretonnes/Audio/Audio/utt_01615.wav...\n"
     ]
    },
    {
     "name": "stderr",
     "output_type": "stream",
     "text": [
      "/home/ouassim/anaconda3/envs/stt-breton/lib/python3.10/site-packages/whisper/transcribe.py:126: UserWarning: FP16 is not supported on CPU; using FP32 instead\n",
      "  warnings.warn(\"FP16 is not supported on CPU; using FP32 instead\")\n"
     ]
    },
    {
     "name": "stdout",
     "output_type": "stream",
     "text": [
      "[00:00.000 --> 00:02.100]  Ummm...\n",
      "[00:02.180 --> 00:08.020]  People from Greece don't get bored of us and sometimes find something!\n",
      "[00:08.020 --> 00:14.280]  The Indian people are themselves in my class-\n",
      "[00:15.020 --> 00:19.360]  but Vitality is also in my class like this,\n",
      "[00:19.360 --> 00:21.560]  it's like we're living appreciated.\n",
      "Transcribing /home/ouassim/Desktop/ss/stage/Data/Banque sonore des Dialectes Bretonnes/Audio/Audio/utt_04700.wav...\n"
     ]
    },
    {
     "name": "stderr",
     "output_type": "stream",
     "text": [
      "/home/ouassim/anaconda3/envs/stt-breton/lib/python3.10/site-packages/whisper/transcribe.py:126: UserWarning: FP16 is not supported on CPU; using FP32 instead\n",
      "  warnings.warn(\"FP16 is not supported on CPU; using FP32 instead\")\n"
     ]
    },
    {
     "name": "stdout",
     "output_type": "stream",
     "text": [
      "[00:00.000 --> 00:03.540]  Andreiaiaiaiaiaiaiaiaia iaia,ai Michikeius?\n",
      "[00:03.540 --> 00:05.700]  Acḥanbaradādādau bel graffitieile,\n",
      "[00:06.460 --> 00:09.580] ası Čerdem corprap,\n",
      "[00:09.580 --> 00:12.680] γadem yaerdem corprap.\n",
      "[00:12.720 --> 00:16.780]  M�ard ко offassин poc\n",
      "[00:16.780 --> 00:24.020] jing\n",
      "[00:24.020 --> 00:26.200]  porque no ent起edwardué un natu injusto,\n",
      "[00:26.680 --> 00:27.320]  hebbenرت staggerar konssträngi flok\n",
      "[00:27.400 --> 00:32.140]  dar su psychdanast Sorry about stars in the red\n",
      "[00:32.140 --> 00:33.260]  heater of land of water through vegetable pools\n",
      "[00:33.340 --> 00:34.500]  nula eb what we touch\n",
      "Transcribing /home/ouassim/Desktop/ss/stage/Data/Banque sonore des Dialectes Bretonnes/Audio/Audio/utt_00877.wav...\n"
     ]
    },
    {
     "name": "stderr",
     "output_type": "stream",
     "text": [
      "/home/ouassim/anaconda3/envs/stt-breton/lib/python3.10/site-packages/whisper/transcribe.py:126: UserWarning: FP16 is not supported on CPU; using FP32 instead\n",
      "  warnings.warn(\"FP16 is not supported on CPU; using FP32 instead\")\n"
     ]
    },
    {
     "name": "stdout",
     "output_type": "stream",
     "text": [
      "[00:00.000 --> 00:01.000]  cm\n",
      "[00:10.000 --> 00:12.000]  M\n",
      "[00:21.000 --> 00:24.000]  gesehen\n",
      "Transcribing /home/ouassim/Desktop/ss/stage/Data/Banque sonore des Dialectes Bretonnes/Audio/Audio/utt_00263.wav...\n"
     ]
    },
    {
     "name": "stderr",
     "output_type": "stream",
     "text": [
      "/home/ouassim/anaconda3/envs/stt-breton/lib/python3.10/site-packages/whisper/transcribe.py:126: UserWarning: FP16 is not supported on CPU; using FP32 instead\n",
      "  warnings.warn(\"FP16 is not supported on CPU; using FP32 instead\")\n"
     ]
    },
    {
     "name": "stdout",
     "output_type": "stream",
     "text": [
      "[00:00.000 --> 00:01.900]  Que, me βhaj parlean.\n",
      "[00:01.900 --> 00:02.520]  Ma draps fruitful\n",
      "[00:02.520 --> 00:06.020]  djehae am za\n",
      "Transcribing /home/ouassim/Desktop/ss/stage/Data/Banque sonore des Dialectes Bretonnes/Audio/Audio/utt_03206.wav...\n"
     ]
    },
    {
     "name": "stderr",
     "output_type": "stream",
     "text": [
      "/home/ouassim/anaconda3/envs/stt-breton/lib/python3.10/site-packages/whisper/transcribe.py:126: UserWarning: FP16 is not supported on CPU; using FP32 instead\n",
      "  warnings.warn(\"FP16 is not supported on CPU; using FP32 instead\")\n"
     ]
    },
    {
     "name": "stdout",
     "output_type": "stream",
     "text": [
      "[00:00.000 --> 00:02.140]  Back on to our gonenicas edge of the union\n",
      "[00:02.140 --> 00:03.940]  and we are very eager for the union.\n",
      "Transcribing /home/ouassim/Desktop/ss/stage/Data/Banque sonore des Dialectes Bretonnes/Audio/Audio/utt_00319.wav...\n"
     ]
    },
    {
     "name": "stderr",
     "output_type": "stream",
     "text": [
      "/home/ouassim/anaconda3/envs/stt-breton/lib/python3.10/site-packages/whisper/transcribe.py:126: UserWarning: FP16 is not supported on CPU; using FP32 instead\n",
      "  warnings.warn(\"FP16 is not supported on CPU; using FP32 instead\")\n"
     ]
    },
    {
     "name": "stdout",
     "output_type": "stream",
     "text": [
      "[00:00.000 --> 00:03.880]  by\n",
      "Transcribing /home/ouassim/Desktop/ss/stage/Data/Banque sonore des Dialectes Bretonnes/Audio/Audio/utt_03768.wav...\n"
     ]
    },
    {
     "name": "stderr",
     "output_type": "stream",
     "text": [
      "/home/ouassim/anaconda3/envs/stt-breton/lib/python3.10/site-packages/whisper/transcribe.py:126: UserWarning: FP16 is not supported on CPU; using FP32 instead\n",
      "  warnings.warn(\"FP16 is not supported on CPU; using FP32 instead\")\n"
     ]
    },
    {
     "name": "stdout",
     "output_type": "stream",
     "text": [
      "[00:00.000 --> 00:02.000]  QUEəl?\n",
      "Transcribing /home/ouassim/Desktop/ss/stage/Data/Banque sonore des Dialectes Bretonnes/Audio/Audio/utt_03439.wav...\n"
     ]
    },
    {
     "name": "stderr",
     "output_type": "stream",
     "text": [
      "/home/ouassim/anaconda3/envs/stt-breton/lib/python3.10/site-packages/whisper/transcribe.py:126: UserWarning: FP16 is not supported on CPU; using FP32 instead\n",
      "  warnings.warn(\"FP16 is not supported on CPU; using FP32 instead\")\n"
     ]
    },
    {
     "name": "stdout",
     "output_type": "stream",
     "text": [
      "[00:00.000 --> 00:04.040]  Anai Najy boun. Jy me bizkin klevaisFor myo\n",
      "[00:04.040 --> 00:16.580] if i soybeanse edan ta bianbananan pinozaalena'd Bur\n",
      "[00:16.580 --> 00:22.180] œ receptor ag began wasn't un usedain as flash eexaminera,\n",
      "[00:22.180 --> 00:25.060]  nus un a heoически ascendas heo belly bark\n",
      "[00:27.860 --> 00:32.100]  j amb e is legislation\n",
      "[00:32.100 --> 00:35.700]  he Related dialection\n",
      "Transcribing /home/ouassim/Desktop/ss/stage/Data/Banque sonore des Dialectes Bretonnes/Audio/Audio/utt_05774.wav...\n"
     ]
    },
    {
     "name": "stderr",
     "output_type": "stream",
     "text": [
      "/home/ouassim/anaconda3/envs/stt-breton/lib/python3.10/site-packages/whisper/transcribe.py:126: UserWarning: FP16 is not supported on CPU; using FP32 instead\n",
      "  warnings.warn(\"FP16 is not supported on CPU; using FP32 instead\")\n"
     ]
    },
    {
     "name": "stdout",
     "output_type": "stream",
     "text": [
      "[00:00.000 --> 00:03.340]  Нев Зем Library\n",
      "Transcribing /home/ouassim/Desktop/ss/stage/Data/Banque sonore des Dialectes Bretonnes/Audio/Audio/utt_01511.wav...\n"
     ]
    },
    {
     "name": "stderr",
     "output_type": "stream",
     "text": [
      "/home/ouassim/anaconda3/envs/stt-breton/lib/python3.10/site-packages/whisper/transcribe.py:126: UserWarning: FP16 is not supported on CPU; using FP32 instead\n",
      "  warnings.warn(\"FP16 is not supported on CPU; using FP32 instead\")\n"
     ]
    },
    {
     "name": "stdout",
     "output_type": "stream",
     "text": [
      "[00:00.000 --> 00:04.000]  M'o mewël nep'tra innbrun, na te te buëzën nep't thth\n",
      "[00:04.000 --> 00:08.000]  Pshuduune, brumëmë pshunënë s'anduënë phezënë\n",
      "[00:08.000 --> 00:11.000]  Mërënë nënërënë rebenkloëgtës te\n",
      "[00:11.000 --> 00:14.000]  Tjëtërëkënë ththërëkënë nëmënë d'a hodrëu\n",
      "[00:14.000 --> 00:17.000]  Tjëtërëkënë nëmënë ththërëkënë d'a hodrëkënë kloëgtësë\n",
      "[00:17.000 --> 00:21.000]  Kramëkë oresë lakërëbenkloëgtë astrakën\n",
      "[00:21.000 --> 00:44.000]  Mëmëzënë verëzë Görë Holmëatë\n",
      "Transcribing /home/ouassim/Desktop/ss/stage/Data/Banque sonore des Dialectes Bretonnes/Audio/Audio/utt_05484.wav...\n"
     ]
    },
    {
     "name": "stderr",
     "output_type": "stream",
     "text": [
      "/home/ouassim/anaconda3/envs/stt-breton/lib/python3.10/site-packages/whisper/transcribe.py:126: UserWarning: FP16 is not supported on CPU; using FP32 instead\n",
      "  warnings.warn(\"FP16 is not supported on CPU; using FP32 instead\")\n"
     ]
    },
    {
     "name": "stdout",
     "output_type": "stream",
     "text": [
      "[00:00.000 --> 00:02.000]  Pappagyadjer, dure mon amdi Thanks for your support\n",
      "Transcribing /home/ouassim/Desktop/ss/stage/Data/Banque sonore des Dialectes Bretonnes/Audio/Audio/utt_03107.wav...\n"
     ]
    },
    {
     "name": "stderr",
     "output_type": "stream",
     "text": [
      "/home/ouassim/anaconda3/envs/stt-breton/lib/python3.10/site-packages/whisper/transcribe.py:126: UserWarning: FP16 is not supported on CPU; using FP32 instead\n",
      "  warnings.warn(\"FP16 is not supported on CPU; using FP32 instead\")\n"
     ]
    },
    {
     "name": "stdout",
     "output_type": "stream",
     "text": [
      "[00:00.000 --> 00:02.000]  Jan Vasito's dear\n",
      "Transcribing /home/ouassim/Desktop/ss/stage/Data/Banque sonore des Dialectes Bretonnes/Audio/Audio/utt_02543.wav...\n"
     ]
    },
    {
     "name": "stderr",
     "output_type": "stream",
     "text": [
      "/home/ouassim/anaconda3/envs/stt-breton/lib/python3.10/site-packages/whisper/transcribe.py:126: UserWarning: FP16 is not supported on CPU; using FP32 instead\n",
      "  warnings.warn(\"FP16 is not supported on CPU; using FP32 instead\")\n"
     ]
    },
    {
     "name": "stdout",
     "output_type": "stream",
     "text": [
      "[00:00.000 --> 00:01.460]  Nathan\n",
      "Transcribing /home/ouassim/Desktop/ss/stage/Data/Banque sonore des Dialectes Bretonnes/Audio/Audio/utt_04100.wav...\n"
     ]
    },
    {
     "name": "stderr",
     "output_type": "stream",
     "text": [
      "/home/ouassim/anaconda3/envs/stt-breton/lib/python3.10/site-packages/whisper/transcribe.py:126: UserWarning: FP16 is not supported on CPU; using FP32 instead\n",
      "  warnings.warn(\"FP16 is not supported on CPU; using FP32 instead\")\n"
     ]
    },
    {
     "name": "stdout",
     "output_type": "stream",
     "text": [
      "[00:00.000 --> 00:03.000]  Bipnos ni manon.\n",
      "Transcribing /home/ouassim/Desktop/ss/stage/Data/Banque sonore des Dialectes Bretonnes/Audio/Audio/utt_00230.wav...\n"
     ]
    },
    {
     "name": "stderr",
     "output_type": "stream",
     "text": [
      "/home/ouassim/anaconda3/envs/stt-breton/lib/python3.10/site-packages/whisper/transcribe.py:126: UserWarning: FP16 is not supported on CPU; using FP32 instead\n",
      "  warnings.warn(\"FP16 is not supported on CPU; using FP32 instead\")\n"
     ]
    },
    {
     "name": "stdout",
     "output_type": "stream",
     "text": [
      "[00:00.000 --> 00:04.980]  Hudonnheризua benhi composer sauce.\n",
      "Transcribing /home/ouassim/Desktop/ss/stage/Data/Banque sonore des Dialectes Bretonnes/Audio/Audio/utt_07199.wav...\n"
     ]
    },
    {
     "name": "stderr",
     "output_type": "stream",
     "text": [
      "/home/ouassim/anaconda3/envs/stt-breton/lib/python3.10/site-packages/whisper/transcribe.py:126: UserWarning: FP16 is not supported on CPU; using FP32 instead\n",
      "  warnings.warn(\"FP16 is not supported on CPU; using FP32 instead\")\n"
     ]
    },
    {
     "name": "stdout",
     "output_type": "stream",
     "text": [
      "[00:00.000 --> 00:09.900]  Nun, ne ma wat, i msus Nice\n",
      "Transcribing /home/ouassim/Desktop/ss/stage/Data/Banque sonore des Dialectes Bretonnes/Audio/Audio/utt_04595.wav...\n"
     ]
    },
    {
     "name": "stderr",
     "output_type": "stream",
     "text": [
      "/home/ouassim/anaconda3/envs/stt-breton/lib/python3.10/site-packages/whisper/transcribe.py:126: UserWarning: FP16 is not supported on CPU; using FP32 instead\n",
      "  warnings.warn(\"FP16 is not supported on CPU; using FP32 instead\")\n"
     ]
    },
    {
     "name": "stdout",
     "output_type": "stream",
     "text": [
      "[00:00.000 --> 00:02.960]  Mus'frei d'accon o...\n",
      "[00:03.240 --> 00:06.800]  Accon o colet dut이!\n",
      "Transcribing /home/ouassim/Desktop/ss/stage/Data/Banque sonore des Dialectes Bretonnes/Audio/Audio/utt_04355.wav...\n"
     ]
    },
    {
     "name": "stderr",
     "output_type": "stream",
     "text": [
      "/home/ouassim/anaconda3/envs/stt-breton/lib/python3.10/site-packages/whisper/transcribe.py:126: UserWarning: FP16 is not supported on CPU; using FP32 instead\n",
      "  warnings.warn(\"FP16 is not supported on CPU; using FP32 instead\")\n"
     ]
    },
    {
     "name": "stdout",
     "output_type": "stream",
     "text": [
      "[00:00.000 --> 00:13.480] و тرجمانانانانانانانانانانانانانانانانانانانانانانانانانانانانانانانانانانانWind\n",
      "Transcribing /home/ouassim/Desktop/ss/stage/Data/Banque sonore des Dialectes Bretonnes/Audio/Audio/utt_03620.wav...\n"
     ]
    },
    {
     "name": "stderr",
     "output_type": "stream",
     "text": [
      "/home/ouassim/anaconda3/envs/stt-breton/lib/python3.10/site-packages/whisper/transcribe.py:126: UserWarning: FP16 is not supported on CPU; using FP32 instead\n",
      "  warnings.warn(\"FP16 is not supported on CPU; using FP32 instead\")\n"
     ]
    },
    {
     "name": "stdout",
     "output_type": "stream",
     "text": [
      "[00:00.000 --> 00:05.300]  I cyteta don't go to환 – as we do, we will do it.\n",
      "[00:05.300 --> 00:14.580]  But I think it was one of the most important items for us to do,\n",
      "[00:14.580 --> 00:17.820]  on the Future –\n",
      "[00:17.820 --> 00:25.660]  we are not being too far from here.\n",
      "Transcribing /home/ouassim/Desktop/ss/stage/Data/Banque sonore des Dialectes Bretonnes/Audio/Audio/utt_01352.wav...\n"
     ]
    },
    {
     "name": "stderr",
     "output_type": "stream",
     "text": [
      "/home/ouassim/anaconda3/envs/stt-breton/lib/python3.10/site-packages/whisper/transcribe.py:126: UserWarning: FP16 is not supported on CPU; using FP32 instead\n",
      "  warnings.warn(\"FP16 is not supported on CPU; using FP32 instead\")\n"
     ]
    },
    {
     "name": "stdout",
     "output_type": "stream",
     "text": [
      "[00:00.000 --> 00:04.320]  M'agri ma her, parvenso se rei, ja reo parveno.\n",
      "[00:04.320 --> 00:08.640]  Te oors parveno mario, parveno pere, parveno s'enfiliberte ago tuntus.\n",
      "[00:08.640 --> 00:11.840]  M'agri ma gion on individu, parveno s'en wok.\n",
      "Transcribing /home/ouassim/Desktop/ss/stage/Data/Banque sonore des Dialectes Bretonnes/Audio/Audio/utt_02970.wav...\n"
     ]
    },
    {
     "name": "stderr",
     "output_type": "stream",
     "text": [
      "/home/ouassim/anaconda3/envs/stt-breton/lib/python3.10/site-packages/whisper/transcribe.py:126: UserWarning: FP16 is not supported on CPU; using FP32 instead\n",
      "  warnings.warn(\"FP16 is not supported on CPU; using FP32 instead\")\n"
     ]
    },
    {
     "name": "stdout",
     "output_type": "stream",
     "text": [
      "[00:00.000 --> 00:04.000]  Da ham dimma, ni eske ni miti, and ni eske ni dom taio fal.\n",
      "Transcribing /home/ouassim/Desktop/ss/stage/Data/Banque sonore des Dialectes Bretonnes/Audio/Audio/utt_06300.wav...\n"
     ]
    },
    {
     "name": "stderr",
     "output_type": "stream",
     "text": [
      "/home/ouassim/anaconda3/envs/stt-breton/lib/python3.10/site-packages/whisper/transcribe.py:126: UserWarning: FP16 is not supported on CPU; using FP32 instead\n",
      "  warnings.warn(\"FP16 is not supported on CPU; using FP32 instead\")\n"
     ]
    },
    {
     "name": "stdout",
     "output_type": "stream",
     "text": [
      "[00:00.000 --> 00:04.160]  ἀντιῃ ἐδ ἐ στο γονῖlingen obahu Standards Functions Die Hilton Railways,\n",
      "[00:04.680 --> 00:12.440]  ἀῬ φηλῖέλ ο οὴς θε΅ wurden αὰ καὶ οὴς鈴 ἐ τῆδεν Ḣ ἐ γzuge contributing to high school benefit.\n",
      "[00:12.920 --> 00:18.400]  ḥ κiges τα ὑähr καὶffε μ quella πι gibt relations with thoseдὺ.\n",
      "[00:19.200 --> 00:21.480]  ḥ Ἀχνεclickā Ὥα ḥ tsun Aube обязана φόλλα � cad bet,\n",
      "[00:22.520 --> 00:26.160]  ḥ πυarts καὶ τυχαὸ καatamente gehe Ὓ Ἰ εὐ οὴς πєוגον Clerks.\n",
      "Transcribing /home/ouassim/Desktop/ss/stage/Data/Banque sonore des Dialectes Bretonnes/Audio/Audio/utt_06876.wav...\n"
     ]
    },
    {
     "name": "stderr",
     "output_type": "stream",
     "text": [
      "/home/ouassim/anaconda3/envs/stt-breton/lib/python3.10/site-packages/whisper/transcribe.py:126: UserWarning: FP16 is not supported on CPU; using FP32 instead\n",
      "  warnings.warn(\"FP16 is not supported on CPU; using FP32 instead\")\n"
     ]
    },
    {
     "name": "stdout",
     "output_type": "stream",
     "text": [
      "[00:00.000 --> 00:07.780]  Piscitaeme, llenaไม'u Cheerme Chant Hema, piscitaeme Yena M ждauweb y\n",
      "[00:08.620 --> 00:10.820]  POu pococos de aurenm\n",
      "Transcribing /home/ouassim/Desktop/ss/stage/Data/Banque sonore des Dialectes Bretonnes/Audio/Audio/utt_05650.wav...\n"
     ]
    },
    {
     "name": "stderr",
     "output_type": "stream",
     "text": [
      "/home/ouassim/anaconda3/envs/stt-breton/lib/python3.10/site-packages/whisper/transcribe.py:126: UserWarning: FP16 is not supported on CPU; using FP32 instead\n",
      "  warnings.warn(\"FP16 is not supported on CPU; using FP32 instead\")\n"
     ]
    },
    {
     "name": "stdout",
     "output_type": "stream",
     "text": [
      "[00:00.000 --> 00:03.900]  Petra Paladeyi e' ne mea diagnostios góbocht машigme\n",
      "Transcribing /home/ouassim/Desktop/ss/stage/Data/Banque sonore des Dialectes Bretonnes/Audio/Audio/utt_05890.wav...\n"
     ]
    },
    {
     "name": "stderr",
     "output_type": "stream",
     "text": [
      "/home/ouassim/anaconda3/envs/stt-breton/lib/python3.10/site-packages/whisper/transcribe.py:126: UserWarning: FP16 is not supported on CPU; using FP32 instead\n",
      "  warnings.warn(\"FP16 is not supported on CPU; using FP32 instead\")\n"
     ]
    },
    {
     "name": "stdout",
     "output_type": "stream",
     "text": [
      "[00:00.000 --> 00:04.140]  ‎b sharp near cunning tomato\n",
      "[00:04.520 --> 00:26.920]  ‎race\n",
      "Transcribing /home/ouassim/Desktop/ss/stage/Data/Banque sonore des Dialectes Bretonnes/Audio/Audio/utt_05377.wav...\n"
     ]
    },
    {
     "name": "stderr",
     "output_type": "stream",
     "text": [
      "/home/ouassim/anaconda3/envs/stt-breton/lib/python3.10/site-packages/whisper/transcribe.py:126: UserWarning: FP16 is not supported on CPU; using FP32 instead\n",
      "  warnings.warn(\"FP16 is not supported on CPU; using FP32 instead\")\n"
     ]
    },
    {
     "name": "stdout",
     "output_type": "stream",
     "text": [
      "[00:00.000 --> 00:19.020]  a noodle cheek\n",
      "Transcribing /home/ouassim/Desktop/ss/stage/Data/Banque sonore des Dialectes Bretonnes/Audio/Audio/utt_05753.wav...\n"
     ]
    },
    {
     "name": "stderr",
     "output_type": "stream",
     "text": [
      "/home/ouassim/anaconda3/envs/stt-breton/lib/python3.10/site-packages/whisper/transcribe.py:126: UserWarning: FP16 is not supported on CPU; using FP32 instead\n",
      "  warnings.warn(\"FP16 is not supported on CPU; using FP32 instead\")\n"
     ]
    },
    {
     "name": "stdout",
     "output_type": "stream",
     "text": [
      "[00:00.000 --> 00:11.000]  Su brava, vei l'acquificel, vei l'acquistrevevi pasadimu la paille,\n",
      "[00:11.000 --> 00:14.000]  a sé, a fe laget.\n",
      "Transcribing /home/ouassim/Desktop/ss/stage/Data/Banque sonore des Dialectes Bretonnes/Audio/Audio/utt_01176.wav...\n"
     ]
    },
    {
     "name": "stderr",
     "output_type": "stream",
     "text": [
      "/home/ouassim/anaconda3/envs/stt-breton/lib/python3.10/site-packages/whisper/transcribe.py:126: UserWarning: FP16 is not supported on CPU; using FP32 instead\n",
      "  warnings.warn(\"FP16 is not supported on CPU; using FP32 instead\")\n"
     ]
    },
    {
     "name": "stdout",
     "output_type": "stream",
     "text": [
      "[00:00.000 --> 00:05.480] ahaart thrown to freely provided for a freely.\n",
      "Transcribing /home/ouassim/Desktop/ss/stage/Data/Banque sonore des Dialectes Bretonnes/Audio/Audio/utt_05902.wav...\n"
     ]
    },
    {
     "name": "stderr",
     "output_type": "stream",
     "text": [
      "/home/ouassim/anaconda3/envs/stt-breton/lib/python3.10/site-packages/whisper/transcribe.py:126: UserWarning: FP16 is not supported on CPU; using FP32 instead\n",
      "  warnings.warn(\"FP16 is not supported on CPU; using FP32 instead\")\n"
     ]
    },
    {
     "name": "stdout",
     "output_type": "stream",
     "text": [
      "[00:00.000 --> 00:02.000]  Matidam\n",
      "Transcribing /home/ouassim/Desktop/ss/stage/Data/Banque sonore des Dialectes Bretonnes/Audio/Audio/utt_04237.wav...\n"
     ]
    },
    {
     "name": "stderr",
     "output_type": "stream",
     "text": [
      "/home/ouassim/anaconda3/envs/stt-breton/lib/python3.10/site-packages/whisper/transcribe.py:126: UserWarning: FP16 is not supported on CPU; using FP32 instead\n",
      "  warnings.warn(\"FP16 is not supported on CPU; using FP32 instead\")\n"
     ]
    },
    {
     "name": "stdout",
     "output_type": "stream",
     "text": [
      "[00:00.000 --> 00:02.780]  Pierre et Ney Brasson de Sté\n",
      "Transcribing /home/ouassim/Desktop/ss/stage/Data/Banque sonore des Dialectes Bretonnes/Audio/Audio/utt_01047.wav...\n"
     ]
    },
    {
     "name": "stderr",
     "output_type": "stream",
     "text": [
      "/home/ouassim/anaconda3/envs/stt-breton/lib/python3.10/site-packages/whisper/transcribe.py:126: UserWarning: FP16 is not supported on CPU; using FP32 instead\n",
      "  warnings.warn(\"FP16 is not supported on CPU; using FP32 instead\")\n"
     ]
    },
    {
     "name": "stdout",
     "output_type": "stream",
     "text": [
      "[00:00.000 --> 00:03.120]  la segori d'avèn wasțige was Papas\n",
      "Transcribing /home/ouassim/Desktop/ss/stage/Data/Banque sonore des Dialectes Bretonnes/Audio/Audio/utt_06885.wav...\n"
     ]
    },
    {
     "name": "stderr",
     "output_type": "stream",
     "text": [
      "/home/ouassim/anaconda3/envs/stt-breton/lib/python3.10/site-packages/whisper/transcribe.py:126: UserWarning: FP16 is not supported on CPU; using FP32 instead\n",
      "  warnings.warn(\"FP16 is not supported on CPU; using FP32 instead\")\n"
     ]
    },
    {
     "name": "stdout",
     "output_type": "stream",
     "text": [
      "[00:00.000 --> 00:05.940]  ‬우 fuel air . Ū ENNIS Dec notice.\n",
      "[00:05.940 --> 00:10.960]  ¶f�� ro пробio oh no Nëлeighth grõ lateral trvestle.\n",
      "Transcribing /home/ouassim/Desktop/ss/stage/Data/Banque sonore des Dialectes Bretonnes/Audio/Audio/utt_03916.wav...\n"
     ]
    },
    {
     "name": "stderr",
     "output_type": "stream",
     "text": [
      "/home/ouassim/anaconda3/envs/stt-breton/lib/python3.10/site-packages/whisper/transcribe.py:126: UserWarning: FP16 is not supported on CPU; using FP32 instead\n",
      "  warnings.warn(\"FP16 is not supported on CPU; using FP32 instead\")\n"
     ]
    },
    {
     "name": "stdout",
     "output_type": "stream",
     "text": [
      "[00:00.000 --> 00:02.180]  Aliyah?\n",
      "[00:02.180 --> 00:03.280]  Meɣf tjə d ವənnt் yuffs\n",
      "[00:03.360 --> 00:04.000]  Maah?\n",
      "[00:04.000 --> 00:06.060]  Azunda\n",
      "Transcribing /home/ouassim/Desktop/ss/stage/Data/Banque sonore des Dialectes Bretonnes/Audio/Audio/utt_03518.wav...\n"
     ]
    },
    {
     "name": "stderr",
     "output_type": "stream",
     "text": [
      "/home/ouassim/anaconda3/envs/stt-breton/lib/python3.10/site-packages/whisper/transcribe.py:126: UserWarning: FP16 is not supported on CPU; using FP32 instead\n",
      "  warnings.warn(\"FP16 is not supported on CPU; using FP32 instead\")\n"
     ]
    },
    {
     "name": "stdout",
     "output_type": "stream",
     "text": [
      "[00:00.000 --> 00:03.500]  Várhuás Emma Conluá\n",
      "Transcribing /home/ouassim/Desktop/ss/stage/Data/Banque sonore des Dialectes Bretonnes/Audio/Audio/utt_04241.wav...\n"
     ]
    },
    {
     "name": "stderr",
     "output_type": "stream",
     "text": [
      "/home/ouassim/anaconda3/envs/stt-breton/lib/python3.10/site-packages/whisper/transcribe.py:126: UserWarning: FP16 is not supported on CPU; using FP32 instead\n",
      "  warnings.warn(\"FP16 is not supported on CPU; using FP32 instead\")\n"
     ]
    },
    {
     "name": "stdout",
     "output_type": "stream",
     "text": [
      "[00:00.000 --> 00:03.500]  Menuë la mij colleagues\n",
      "Transcribing /home/ouassim/Desktop/ss/stage/Data/Banque sonore des Dialectes Bretonnes/Audio/Audio/utt_00332.wav...\n"
     ]
    },
    {
     "name": "stderr",
     "output_type": "stream",
     "text": [
      "/home/ouassim/anaconda3/envs/stt-breton/lib/python3.10/site-packages/whisper/transcribe.py:126: UserWarning: FP16 is not supported on CPU; using FP32 instead\n",
      "  warnings.warn(\"FP16 is not supported on CPU; using FP32 instead\")\n"
     ]
    },
    {
     "name": "stdout",
     "output_type": "stream",
     "text": [
      "[00:00.000 --> 00:24.240]  który sont mehr\n",
      "Transcribing /home/ouassim/Desktop/ss/stage/Data/Banque sonore des Dialectes Bretonnes/Audio/Audio/utt_04379.wav...\n"
     ]
    },
    {
     "name": "stderr",
     "output_type": "stream",
     "text": [
      "/home/ouassim/anaconda3/envs/stt-breton/lib/python3.10/site-packages/whisper/transcribe.py:126: UserWarning: FP16 is not supported on CPU; using FP32 instead\n",
      "  warnings.warn(\"FP16 is not supported on CPU; using FP32 instead\")\n"
     ]
    },
    {
     "name": "stdout",
     "output_type": "stream",
     "text": [
      "[00:00.000 --> 00:02.000]  Bipadjai teni duel noch.\n",
      "Transcribing /home/ouassim/Desktop/ss/stage/Data/Banque sonore des Dialectes Bretonnes/Audio/Audio/utt_06737.wav...\n"
     ]
    },
    {
     "name": "stderr",
     "output_type": "stream",
     "text": [
      "/home/ouassim/anaconda3/envs/stt-breton/lib/python3.10/site-packages/whisper/transcribe.py:126: UserWarning: FP16 is not supported on CPU; using FP32 instead\n",
      "  warnings.warn(\"FP16 is not supported on CPU; using FP32 instead\")\n"
     ]
    },
    {
     "name": "stdout",
     "output_type": "stream",
     "text": [
      "[00:00.000 --> 00:03.140]  dah\n",
      "Transcribing /home/ouassim/Desktop/ss/stage/Data/Banque sonore des Dialectes Bretonnes/Audio/Audio/utt_05447.wav...\n"
     ]
    },
    {
     "name": "stderr",
     "output_type": "stream",
     "text": [
      "/home/ouassim/anaconda3/envs/stt-breton/lib/python3.10/site-packages/whisper/transcribe.py:126: UserWarning: FP16 is not supported on CPU; using FP32 instead\n",
      "  warnings.warn(\"FP16 is not supported on CPU; using FP32 instead\")\n"
     ]
    },
    {
     "name": "stdout",
     "output_type": "stream",
     "text": [
      "[00:00.000 --> 00:04.300]  Luluhtok Link\n",
      "Transcribing /home/ouassim/Desktop/ss/stage/Data/Banque sonore des Dialectes Bretonnes/Audio/Audio/utt_04078.wav...\n"
     ]
    },
    {
     "name": "stderr",
     "output_type": "stream",
     "text": [
      "/home/ouassim/anaconda3/envs/stt-breton/lib/python3.10/site-packages/whisper/transcribe.py:126: UserWarning: FP16 is not supported on CPU; using FP32 instead\n",
      "  warnings.warn(\"FP16 is not supported on CPU; using FP32 instead\")\n"
     ]
    },
    {
     "name": "stdout",
     "output_type": "stream",
     "text": [
      "[00:00.000 --> 00:03.080]  biniret fu надur cutsen\n",
      "[00:03.920 --> 00:05.120]  er bokchen\n",
      "[00:06.140 --> 00:16.720]  bl bl bl bl bl\n",
      "Transcribing /home/ouassim/Desktop/ss/stage/Data/Banque sonore des Dialectes Bretonnes/Audio/Audio/utt_03658.wav...\n"
     ]
    },
    {
     "name": "stderr",
     "output_type": "stream",
     "text": [
      "/home/ouassim/anaconda3/envs/stt-breton/lib/python3.10/site-packages/whisper/transcribe.py:126: UserWarning: FP16 is not supported on CPU; using FP32 instead\n",
      "  warnings.warn(\"FP16 is not supported on CPU; using FP32 instead\")\n"
     ]
    },
    {
     "name": "stdout",
     "output_type": "stream",
     "text": [
      "[00:00.000 --> 00:02.320]  Pin droids Renaultary,\n",
      "[00:02.320 --> 00:04.120]  voila!\n",
      "Transcribing /home/ouassim/Desktop/ss/stage/Data/Banque sonore des Dialectes Bretonnes/Audio/Audio/utt_06199.wav...\n"
     ]
    },
    {
     "name": "stderr",
     "output_type": "stream",
     "text": [
      "/home/ouassim/anaconda3/envs/stt-breton/lib/python3.10/site-packages/whisper/transcribe.py:126: UserWarning: FP16 is not supported on CPU; using FP32 instead\n",
      "  warnings.warn(\"FP16 is not supported on CPU; using FP32 instead\")\n"
     ]
    },
    {
     "name": "stdout",
     "output_type": "stream",
     "text": [
      "[00:00.000 --> 00:03.000]  Peu chœur, peu chœur, peu guanclein,\n",
      "[00:03.000 --> 00:06.000]  ja je vous avez aidé de reçillute.\n",
      "Transcribing /home/ouassim/Desktop/ss/stage/Data/Banque sonore des Dialectes Bretonnes/Audio/Audio/utt_06249.wav...\n"
     ]
    },
    {
     "name": "stderr",
     "output_type": "stream",
     "text": [
      "/home/ouassim/anaconda3/envs/stt-breton/lib/python3.10/site-packages/whisper/transcribe.py:126: UserWarning: FP16 is not supported on CPU; using FP32 instead\n",
      "  warnings.warn(\"FP16 is not supported on CPU; using FP32 instead\")\n"
     ]
    },
    {
     "name": "stdout",
     "output_type": "stream",
     "text": [
      "[00:00.000 --> 00:11.900]  norard norart norart norart norart norart norart Norart norart norart norart norart norart norart norart norart norart\n",
      "Transcribing /home/ouassim/Desktop/ss/stage/Data/Banque sonore des Dialectes Bretonnes/Audio/Audio/utt_03406.wav...\n"
     ]
    },
    {
     "name": "stderr",
     "output_type": "stream",
     "text": [
      "/home/ouassim/anaconda3/envs/stt-breton/lib/python3.10/site-packages/whisper/transcribe.py:126: UserWarning: FP16 is not supported on CPU; using FP32 instead\n",
      "  warnings.warn(\"FP16 is not supported on CPU; using FP32 instead\")\n"
     ]
    },
    {
     "name": "stdout",
     "output_type": "stream",
     "text": [
      "[00:00.000 --> 00:02.620]  Micheanns, resulte prizultertareへner,\n",
      "[00:02.800 --> 00:04.380]  Helena Oberst,\n",
      "[00:04.440 --> 00:06.560]  Trou é humility\n",
      "Transcribing /home/ouassim/Desktop/ss/stage/Data/Banque sonore des Dialectes Bretonnes/Audio/Audio/utt_00101.wav...\n"
     ]
    },
    {
     "name": "stderr",
     "output_type": "stream",
     "text": [
      "/home/ouassim/anaconda3/envs/stt-breton/lib/python3.10/site-packages/whisper/transcribe.py:126: UserWarning: FP16 is not supported on CPU; using FP32 instead\n",
      "  warnings.warn(\"FP16 is not supported on CPU; using FP32 instead\")\n"
     ]
    },
    {
     "name": "stdout",
     "output_type": "stream",
     "text": [
      "[00:00.000 --> 00:02.600]  la bolange riche aux h hunches\n",
      "Transcribing /home/ouassim/Desktop/ss/stage/Data/Banque sonore des Dialectes Bretonnes/Audio/Audio/utt_00538.wav...\n"
     ]
    },
    {
     "name": "stderr",
     "output_type": "stream",
     "text": [
      "/home/ouassim/anaconda3/envs/stt-breton/lib/python3.10/site-packages/whisper/transcribe.py:126: UserWarning: FP16 is not supported on CPU; using FP32 instead\n",
      "  warnings.warn(\"FP16 is not supported on CPU; using FP32 instead\")\n"
     ]
    },
    {
     "name": "stdout",
     "output_type": "stream",
     "text": [
      "[00:00.000 --> 00:03.020]  Be Informatzes\n",
      "Transcribing /home/ouassim/Desktop/ss/stage/Data/Banque sonore des Dialectes Bretonnes/Audio/Audio/utt_03238.wav...\n"
     ]
    },
    {
     "name": "stderr",
     "output_type": "stream",
     "text": [
      "/home/ouassim/anaconda3/envs/stt-breton/lib/python3.10/site-packages/whisper/transcribe.py:126: UserWarning: FP16 is not supported on CPU; using FP32 instead\n",
      "  warnings.warn(\"FP16 is not supported on CPU; using FP32 instead\")\n"
     ]
    },
    {
     "name": "stdout",
     "output_type": "stream",
     "text": [
      "[00:00.000 --> 00:02.560] \")\",Cetyan,andinza,id thanksom the melo.)\n",
      "Transcribing /home/ouassim/Desktop/ss/stage/Data/Banque sonore des Dialectes Bretonnes/Audio/Audio/utt_07234.wav...\n"
     ]
    },
    {
     "name": "stderr",
     "output_type": "stream",
     "text": [
      "/home/ouassim/anaconda3/envs/stt-breton/lib/python3.10/site-packages/whisper/transcribe.py:126: UserWarning: FP16 is not supported on CPU; using FP32 instead\n",
      "  warnings.warn(\"FP16 is not supported on CPU; using FP32 instead\")\n"
     ]
    },
    {
     "name": "stdout",
     "output_type": "stream",
     "text": [
      "[00:00.000 --> 00:19.080]  faire ba un pot maar\n",
      "[00:19.080 --> 00:28.720]  ba i\n",
      "Transcribing /home/ouassim/Desktop/ss/stage/Data/Banque sonore des Dialectes Bretonnes/Audio/Audio/utt_06929.wav...\n"
     ]
    },
    {
     "name": "stderr",
     "output_type": "stream",
     "text": [
      "/home/ouassim/anaconda3/envs/stt-breton/lib/python3.10/site-packages/whisper/transcribe.py:126: UserWarning: FP16 is not supported on CPU; using FP32 instead\n",
      "  warnings.warn(\"FP16 is not supported on CPU; using FP32 instead\")\n"
     ]
    },
    {
     "name": "stdout",
     "output_type": "stream",
     "text": [
      "[00:00.000 --> 00:18.860]  Win Urneuaiv bi Bouka renfnith sprigyeim\n",
      "Transcribing /home/ouassim/Desktop/ss/stage/Data/Banque sonore des Dialectes Bretonnes/Audio/Audio/utt_05230.wav...\n"
     ]
    },
    {
     "name": "stderr",
     "output_type": "stream",
     "text": [
      "/home/ouassim/anaconda3/envs/stt-breton/lib/python3.10/site-packages/whisper/transcribe.py:126: UserWarning: FP16 is not supported on CPU; using FP32 instead\n",
      "  warnings.warn(\"FP16 is not supported on CPU; using FP32 instead\")\n"
     ]
    },
    {
     "name": "stdout",
     "output_type": "stream",
     "text": [
      "[00:01.000 --> 00:05.560]  Ana tu Informationen med manuar,\n",
      "[00:05.560 --> 00:08.340]  Fontalontas園\n",
      "Transcribing /home/ouassim/Desktop/ss/stage/Data/Banque sonore des Dialectes Bretonnes/Audio/Audio/utt_02941.wav...\n"
     ]
    },
    {
     "name": "stderr",
     "output_type": "stream",
     "text": [
      "/home/ouassim/anaconda3/envs/stt-breton/lib/python3.10/site-packages/whisper/transcribe.py:126: UserWarning: FP16 is not supported on CPU; using FP32 instead\n",
      "  warnings.warn(\"FP16 is not supported on CPU; using FP32 instead\")\n"
     ]
    },
    {
     "name": "stdout",
     "output_type": "stream",
     "text": [
      "[00:00.020 --> 00:01.320]  Et n'est fazem�\n",
      "[00:01.320 --> 00:02.560]  d'ay Stop\n",
      "Transcribing /home/ouassim/Desktop/ss/stage/Data/Banque sonore des Dialectes Bretonnes/Audio/Audio/utt_02288.wav...\n"
     ]
    },
    {
     "name": "stderr",
     "output_type": "stream",
     "text": [
      "/home/ouassim/anaconda3/envs/stt-breton/lib/python3.10/site-packages/whisper/transcribe.py:126: UserWarning: FP16 is not supported on CPU; using FP32 instead\n",
      "  warnings.warn(\"FP16 is not supported on CPU; using FP32 instead\")\n"
     ]
    },
    {
     "name": "stdout",
     "output_type": "stream",
     "text": [
      "[00:00.000 --> 00:03.440]  mensenzanzou da guel\n",
      "[00:03.440 --> 00:05.020]  sono inprante\n",
      "[00:06.040 --> 00:06.800]  o che pa\n",
      "[00:06.800 --> 00:26.060]  add\n",
      "Transcribing /home/ouassim/Desktop/ss/stage/Data/Banque sonore des Dialectes Bretonnes/Audio/Audio/utt_03686.wav...\n"
     ]
    },
    {
     "name": "stderr",
     "output_type": "stream",
     "text": [
      "/home/ouassim/anaconda3/envs/stt-breton/lib/python3.10/site-packages/whisper/transcribe.py:126: UserWarning: FP16 is not supported on CPU; using FP32 instead\n",
      "  warnings.warn(\"FP16 is not supported on CPU; using FP32 instead\")\n"
     ]
    },
    {
     "name": "stdout",
     "output_type": "stream",
     "text": [
      "[00:00.000 --> 00:01.000]  Voici her!\n",
      "Transcribing /home/ouassim/Desktop/ss/stage/Data/Banque sonore des Dialectes Bretonnes/Audio/Audio/utt_06764.wav...\n"
     ]
    },
    {
     "name": "stderr",
     "output_type": "stream",
     "text": [
      "/home/ouassim/anaconda3/envs/stt-breton/lib/python3.10/site-packages/whisper/transcribe.py:126: UserWarning: FP16 is not supported on CPU; using FP32 instead\n",
      "  warnings.warn(\"FP16 is not supported on CPU; using FP32 instead\")\n"
     ]
    },
    {
     "name": "stdout",
     "output_type": "stream",
     "text": [
      "[00:00.000 --> 00:04.760]  C'est há aeless but Iascularism can殼 no I should not have bad wounds.\n",
      "[00:05.240 --> 00:09.200]  We had to be healed causes to be花ed,\n",
      "[00:09.420 --> 00:12.700]  this is the unironSMS.\n",
      "Transcribing /home/ouassim/Desktop/ss/stage/Data/Banque sonore des Dialectes Bretonnes/Audio/Audio/utt_05927.wav...\n"
     ]
    },
    {
     "name": "stderr",
     "output_type": "stream",
     "text": [
      "/home/ouassim/anaconda3/envs/stt-breton/lib/python3.10/site-packages/whisper/transcribe.py:126: UserWarning: FP16 is not supported on CPU; using FP32 instead\n",
      "  warnings.warn(\"FP16 is not supported on CPU; using FP32 instead\")\n"
     ]
    },
    {
     "name": "stdout",
     "output_type": "stream",
     "text": [
      "[00:00.000 --> 00:01.020]  I Laき Na cover\n",
      "Transcribing /home/ouassim/Desktop/ss/stage/Data/Banque sonore des Dialectes Bretonnes/Audio/Audio/utt_06182.wav...\n"
     ]
    },
    {
     "name": "stderr",
     "output_type": "stream",
     "text": [
      "/home/ouassim/anaconda3/envs/stt-breton/lib/python3.10/site-packages/whisper/transcribe.py:126: UserWarning: FP16 is not supported on CPU; using FP32 instead\n",
      "  warnings.warn(\"FP16 is not supported on CPU; using FP32 instead\")\n"
     ]
    },
    {
     "name": "stdout",
     "output_type": "stream",
     "text": [
      "[00:00.000 --> 00:03.340]  En micro сво Like a camera\n",
      "[00:03.760 --> 00:06.020]  Circle\n",
      "[00:06.160 --> 00:08.360]  Is not steady\n",
      "[00:08.460 --> 00:11.320]  What does it mean?\n",
      "[00:11.620 --> 00:12.600] cks\n",
      "[00:12.680 --> 00:13.800]  Is theic\n",
      "[00:14.260 --> 00:15.100]  ow\n",
      "[00:21.580 --> 00:21.980]  Good\n",
      "[00:22.280 --> 00:25.000]  Is there IRAs in twos\n",
      "Transcribing /home/ouassim/Desktop/ss/stage/Data/Banque sonore des Dialectes Bretonnes/Audio/Audio/utt_06060.wav...\n"
     ]
    },
    {
     "name": "stderr",
     "output_type": "stream",
     "text": [
      "/home/ouassim/anaconda3/envs/stt-breton/lib/python3.10/site-packages/whisper/transcribe.py:126: UserWarning: FP16 is not supported on CPU; using FP32 instead\n",
      "  warnings.warn(\"FP16 is not supported on CPU; using FP32 instead\")\n"
     ]
    },
    {
     "name": "stdout",
     "output_type": "stream",
     "text": [
      "[00:00.000 --> 00:04.000]  Vatos nesviere de guain qui accorde l'aise.\n",
      "Transcribing /home/ouassim/Desktop/ss/stage/Data/Banque sonore des Dialectes Bretonnes/Audio/Audio/utt_00079.wav...\n"
     ]
    },
    {
     "name": "stderr",
     "output_type": "stream",
     "text": [
      "/home/ouassim/anaconda3/envs/stt-breton/lib/python3.10/site-packages/whisper/transcribe.py:126: UserWarning: FP16 is not supported on CPU; using FP32 instead\n",
      "  warnings.warn(\"FP16 is not supported on CPU; using FP32 instead\")\n"
     ]
    },
    {
     "name": "stdout",
     "output_type": "stream",
     "text": [
      "[00:00.000 --> 00:03.000]  Tanwale and have to take to a strange cage.\n",
      "Transcribing /home/ouassim/Desktop/ss/stage/Data/Banque sonore des Dialectes Bretonnes/Audio/Audio/utt_06576.wav...\n"
     ]
    },
    {
     "name": "stderr",
     "output_type": "stream",
     "text": [
      "/home/ouassim/anaconda3/envs/stt-breton/lib/python3.10/site-packages/whisper/transcribe.py:126: UserWarning: FP16 is not supported on CPU; using FP32 instead\n",
      "  warnings.warn(\"FP16 is not supported on CPU; using FP32 instead\")\n"
     ]
    },
    {
     "name": "stdout",
     "output_type": "stream",
     "text": [
      "[00:00.000 --> 00:27.840] ărl\n",
      "Transcribing /home/ouassim/Desktop/ss/stage/Data/Banque sonore des Dialectes Bretonnes/Audio/Audio/utt_04483.wav...\n"
     ]
    },
    {
     "name": "stderr",
     "output_type": "stream",
     "text": [
      "/home/ouassim/anaconda3/envs/stt-breton/lib/python3.10/site-packages/whisper/transcribe.py:126: UserWarning: FP16 is not supported on CPU; using FP32 instead\n",
      "  warnings.warn(\"FP16 is not supported on CPU; using FP32 instead\")\n"
     ]
    },
    {
     "name": "stdout",
     "output_type": "stream",
     "text": [
      "[00:00.000 --> 00:02.000]  Ben chili, ni velune.\n",
      "Transcribing /home/ouassim/Desktop/ss/stage/Data/Banque sonore des Dialectes Bretonnes/Audio/Audio/utt_01374.wav...\n"
     ]
    },
    {
     "name": "stderr",
     "output_type": "stream",
     "text": [
      "/home/ouassim/anaconda3/envs/stt-breton/lib/python3.10/site-packages/whisper/transcribe.py:126: UserWarning: FP16 is not supported on CPU; using FP32 instead\n",
      "  warnings.warn(\"FP16 is not supported on CPU; using FP32 instead\")\n"
     ]
    },
    {
     "name": "stdout",
     "output_type": "stream",
     "text": [
      "[00:00.000 --> 00:01.640]  Rezonezaismes subindflön.\n",
      "Transcribing /home/ouassim/Desktop/ss/stage/Data/Banque sonore des Dialectes Bretonnes/Audio/Audio/utt_01912.wav...\n"
     ]
    },
    {
     "name": "stderr",
     "output_type": "stream",
     "text": [
      "/home/ouassim/anaconda3/envs/stt-breton/lib/python3.10/site-packages/whisper/transcribe.py:126: UserWarning: FP16 is not supported on CPU; using FP32 instead\n",
      "  warnings.warn(\"FP16 is not supported on CPU; using FP32 instead\")\n"
     ]
    },
    {
     "name": "stdout",
     "output_type": "stream",
     "text": [
      "[00:00.000 --> 00:03.320]  Né, me jenservilaushi bauljennizain.\n",
      "[00:03.320 --> 00:06.000]  Hanna n'a, hanna n'a, hanna laushi bauljennizain.\n",
      "[00:06.000 --> 00:08.840]  Me i baulbu sundru.\n",
      "[00:08.840 --> 00:11.360]  Hanna i baulbu sundru.\n",
      "[00:11.360 --> 00:13.360]  Jenservilaushi bauljennizain.\n",
      "Transcribing /home/ouassim/Desktop/ss/stage/Data/Banque sonore des Dialectes Bretonnes/Audio/Audio/utt_01662.wav...\n"
     ]
    },
    {
     "name": "stderr",
     "output_type": "stream",
     "text": [
      "/home/ouassim/anaconda3/envs/stt-breton/lib/python3.10/site-packages/whisper/transcribe.py:126: UserWarning: FP16 is not supported on CPU; using FP32 instead\n",
      "  warnings.warn(\"FP16 is not supported on CPU; using FP32 instead\")\n"
     ]
    },
    {
     "name": "stdout",
     "output_type": "stream",
     "text": [
      "[00:00.000 --> 00:02.000]  Beys du dongato.\n",
      "Transcribing /home/ouassim/Desktop/ss/stage/Data/Banque sonore des Dialectes Bretonnes/Audio/Audio/utt_04059.wav...\n"
     ]
    },
    {
     "name": "stderr",
     "output_type": "stream",
     "text": [
      "/home/ouassim/anaconda3/envs/stt-breton/lib/python3.10/site-packages/whisper/transcribe.py:126: UserWarning: FP16 is not supported on CPU; using FP32 instead\n",
      "  warnings.warn(\"FP16 is not supported on CPU; using FP32 instead\")\n"
     ]
    },
    {
     "name": "stdout",
     "output_type": "stream",
     "text": [
      "[00:00.000 --> 00:04.240]  Schaż, Néalisma dúri vennbennó.\n",
      "Transcribing /home/ouassim/Desktop/ss/stage/Data/Banque sonore des Dialectes Bretonnes/Audio/Audio/utt_07257.wav...\n"
     ]
    },
    {
     "name": "stderr",
     "output_type": "stream",
     "text": [
      "/home/ouassim/anaconda3/envs/stt-breton/lib/python3.10/site-packages/whisper/transcribe.py:126: UserWarning: FP16 is not supported on CPU; using FP32 instead\n",
      "  warnings.warn(\"FP16 is not supported on CPU; using FP32 instead\")\n"
     ]
    },
    {
     "name": "stdout",
     "output_type": "stream",
     "text": [
      "[00:00.000 --> 00:02.880]  And that dear g�� glor zavan isot!\n",
      "Transcribing /home/ouassim/Desktop/ss/stage/Data/Banque sonore des Dialectes Bretonnes/Audio/Audio/utt_02897.wav...\n"
     ]
    },
    {
     "name": "stderr",
     "output_type": "stream",
     "text": [
      "/home/ouassim/anaconda3/envs/stt-breton/lib/python3.10/site-packages/whisper/transcribe.py:126: UserWarning: FP16 is not supported on CPU; using FP32 instead\n",
      "  warnings.warn(\"FP16 is not supported on CPU; using FP32 instead\")\n"
     ]
    },
    {
     "name": "stdout",
     "output_type": "stream",
     "text": [
      "[00:00.000 --> 00:02.820]  Oder ohne zuekon keumaj entonces\n",
      "Transcribing /home/ouassim/Desktop/ss/stage/Data/Banque sonore des Dialectes Bretonnes/Audio/Audio/utt_01420.wav...\n"
     ]
    },
    {
     "name": "stderr",
     "output_type": "stream",
     "text": [
      "/home/ouassim/anaconda3/envs/stt-breton/lib/python3.10/site-packages/whisper/transcribe.py:126: UserWarning: FP16 is not supported on CPU; using FP32 instead\n",
      "  warnings.warn(\"FP16 is not supported on CPU; using FP32 instead\")\n"
     ]
    },
    {
     "name": "stdout",
     "output_type": "stream",
     "text": [
      "[00:00.000 --> 00:03.000]  M'és expliquitizzi j'en stujoel,\n",
      "[00:03.000 --> 00:05.000]  des possatuit anel,\n",
      "[00:05.000 --> 00:07.000]  des possatuit a stujo.\n",
      "[00:07.000 --> 00:12.000]  Mahoni n'agore n'agore n'alt en ert.\n",
      "[00:12.000 --> 00:17.000]  Ma'in avmur, anelte d'un tu d'humur,\n",
      "[00:17.000 --> 00:19.000]  c'est pris me d'a stujo.\n",
      "Transcribing /home/ouassim/Desktop/ss/stage/Data/Banque sonore des Dialectes Bretonnes/Audio/Audio/utt_03992.wav...\n"
     ]
    },
    {
     "name": "stderr",
     "output_type": "stream",
     "text": [
      "/home/ouassim/anaconda3/envs/stt-breton/lib/python3.10/site-packages/whisper/transcribe.py:126: UserWarning: FP16 is not supported on CPU; using FP32 instead\n",
      "  warnings.warn(\"FP16 is not supported on CPU; using FP32 instead\")\n"
     ]
    },
    {
     "name": "stdout",
     "output_type": "stream",
     "text": [
      "[00:00.000 --> 00:02.000]  si l'arréoate duir.\n",
      "Transcribing /home/ouassim/Desktop/ss/stage/Data/Banque sonore des Dialectes Bretonnes/Audio/Audio/utt_06139.wav...\n"
     ]
    },
    {
     "name": "stderr",
     "output_type": "stream",
     "text": [
      "/home/ouassim/anaconda3/envs/stt-breton/lib/python3.10/site-packages/whisper/transcribe.py:126: UserWarning: FP16 is not supported on CPU; using FP32 instead\n",
      "  warnings.warn(\"FP16 is not supported on CPU; using FP32 instead\")\n"
     ]
    },
    {
     "name": "stdout",
     "output_type": "stream",
     "text": [
      "[00:00.000 --> 00:02.160]  but´s a DO starflevenidos!\n",
      "Transcribing /home/ouassim/Desktop/ss/stage/Data/Banque sonore des Dialectes Bretonnes/Audio/Audio/utt_05523.wav...\n"
     ]
    },
    {
     "name": "stderr",
     "output_type": "stream",
     "text": [
      "/home/ouassim/anaconda3/envs/stt-breton/lib/python3.10/site-packages/whisper/transcribe.py:126: UserWarning: FP16 is not supported on CPU; using FP32 instead\n",
      "  warnings.warn(\"FP16 is not supported on CPU; using FP32 instead\")\n"
     ]
    },
    {
     "name": "stdout",
     "output_type": "stream",
     "text": [
      "[00:00.360 --> 00:02.160]  Kasun.\n",
      "[00:02.360 --> 00:05.480]  O proudly,\n",
      "[00:05.480 --> 00:16.080]  celebi ussel Buchser métal de Donde.\n",
      "Transcribing /home/ouassim/Desktop/ss/stage/Data/Banque sonore des Dialectes Bretonnes/Audio/Audio/utt_01084.wav...\n"
     ]
    },
    {
     "name": "stderr",
     "output_type": "stream",
     "text": [
      "/home/ouassim/anaconda3/envs/stt-breton/lib/python3.10/site-packages/whisper/transcribe.py:126: UserWarning: FP16 is not supported on CPU; using FP32 instead\n",
      "  warnings.warn(\"FP16 is not supported on CPU; using FP32 instead\")\n"
     ]
    },
    {
     "name": "stdout",
     "output_type": "stream",
     "text": [
      "[00:00.120 --> 00:01.860]  oppon genau nëe k doch credax wheel\n",
      "[00:01.860 --> 00:09.380]  t two\n",
      "[00:09.380 --> 00:13.400]  a h i w e e com��\n",
      "[00:15.000 --> 00:18.600]  hau\n",
      "[00:18.600 --> 00:24.160]  de\n",
      "[00:24.160 --> 00:28.720]  mome\n",
      "Transcribing /home/ouassim/Desktop/ss/stage/Data/Banque sonore des Dialectes Bretonnes/Audio/Audio/utt_06392.wav...\n"
     ]
    },
    {
     "name": "stderr",
     "output_type": "stream",
     "text": [
      "/home/ouassim/anaconda3/envs/stt-breton/lib/python3.10/site-packages/whisper/transcribe.py:126: UserWarning: FP16 is not supported on CPU; using FP32 instead\n",
      "  warnings.warn(\"FP16 is not supported on CPU; using FP32 instead\")\n"
     ]
    },
    {
     "name": "stdout",
     "output_type": "stream",
     "text": [
      "[00:00.000 --> 00:03.320]  Oda me greu d'u L.uj to o.\n",
      "[00:27.000 --> 00:29.480]  E bl da\n",
      "Transcribing /home/ouassim/Desktop/ss/stage/Data/Banque sonore des Dialectes Bretonnes/Audio/Audio/utt_01992.wav...\n"
     ]
    },
    {
     "name": "stderr",
     "output_type": "stream",
     "text": [
      "/home/ouassim/anaconda3/envs/stt-breton/lib/python3.10/site-packages/whisper/transcribe.py:126: UserWarning: FP16 is not supported on CPU; using FP32 instead\n",
      "  warnings.warn(\"FP16 is not supported on CPU; using FP32 instead\")\n"
     ]
    },
    {
     "name": "stdout",
     "output_type": "stream",
     "text": [
      "[00:00.000 --> 00:03.000]  M'heli hoa se fond ba con toul,\n",
      "[00:03.000 --> 00:08.000]  a cajonal gati ag e le nojonal alahten, lendem,\n",
      "[00:08.000 --> 00:11.000]  pezua ajonal,\n",
      "[00:11.000 --> 00:14.000]  gila regale ag e gose gale ag to,\n",
      "[00:14.000 --> 00:16.000]  ne m to spi ajonal,\n",
      "[00:16.000 --> 00:19.000]  gila regem be trasi di be ba,\n",
      "[00:19.000 --> 00:21.000]  ba pare se di guendras ba ma,\n",
      "[00:21.000 --> 00:23.000]  toulun ma di guendras ag e to,\n",
      "[00:23.000 --> 00:25.000]  gila reg to dintrustem,\n",
      "[00:25.000 --> 00:27.000]  tut tut tut tut ma, e le,\n",
      "[00:27.000 --> 00:29.000]  e le nui e le,\n",
      "[00:29.000 --> 00:31.000]  e le nui e le,\n",
      "Transcribing /home/ouassim/Desktop/ss/stage/Data/Banque sonore des Dialectes Bretonnes/Audio/Audio/utt_02499.wav...\n"
     ]
    },
    {
     "name": "stderr",
     "output_type": "stream",
     "text": [
      "/home/ouassim/anaconda3/envs/stt-breton/lib/python3.10/site-packages/whisper/transcribe.py:126: UserWarning: FP16 is not supported on CPU; using FP32 instead\n",
      "  warnings.warn(\"FP16 is not supported on CPU; using FP32 instead\")\n"
     ]
    },
    {
     "name": "stdout",
     "output_type": "stream",
     "text": [
      "[00:00.000 --> 00:02.000]  musiko marman ko sir zawa\n",
      "Transcribing /home/ouassim/Desktop/ss/stage/Data/Banque sonore des Dialectes Bretonnes/Audio/Audio/utt_04125.wav...\n"
     ]
    },
    {
     "name": "stderr",
     "output_type": "stream",
     "text": [
      "/home/ouassim/anaconda3/envs/stt-breton/lib/python3.10/site-packages/whisper/transcribe.py:126: UserWarning: FP16 is not supported on CPU; using FP32 instead\n",
      "  warnings.warn(\"FP16 is not supported on CPU; using FP32 instead\")\n"
     ]
    },
    {
     "name": "stdout",
     "output_type": "stream",
     "text": [
      "[00:00.000 --> 00:02.000]  Aštudu lagauja\n",
      "Transcribing /home/ouassim/Desktop/ss/stage/Data/Banque sonore des Dialectes Bretonnes/Audio/Audio/utt_05793.wav...\n"
     ]
    },
    {
     "name": "stderr",
     "output_type": "stream",
     "text": [
      "/home/ouassim/anaconda3/envs/stt-breton/lib/python3.10/site-packages/whisper/transcribe.py:126: UserWarning: FP16 is not supported on CPU; using FP32 instead\n",
      "  warnings.warn(\"FP16 is not supported on CPU; using FP32 instead\")\n"
     ]
    },
    {
     "name": "stdout",
     "output_type": "stream",
     "text": [
      "[00:00.500 --> 00:02.500]  Man.. man... lies me tennis\n",
      "[00:03.260 --> 00:05.900]  bring, blah blah\n",
      "Transcribing /home/ouassim/Desktop/ss/stage/Data/Banque sonore des Dialectes Bretonnes/Audio/Audio/utt_03002.wav...\n"
     ]
    },
    {
     "name": "stderr",
     "output_type": "stream",
     "text": [
      "/home/ouassim/anaconda3/envs/stt-breton/lib/python3.10/site-packages/whisper/transcribe.py:126: UserWarning: FP16 is not supported on CPU; using FP32 instead\n",
      "  warnings.warn(\"FP16 is not supported on CPU; using FP32 instead\")\n"
     ]
    },
    {
     "name": "stdout",
     "output_type": "stream",
     "text": [
      "[00:00.000 --> 00:01.980]  I U rocket, I Brass I have been\n",
      "[00:01.980 --> 00:03.360]  I am\n",
      "[00:06.120 --> 00:15.120]  Really\n",
      "Transcribing /home/ouassim/Desktop/ss/stage/Data/Banque sonore des Dialectes Bretonnes/Audio/Audio/utt_06186.wav...\n"
     ]
    },
    {
     "name": "stderr",
     "output_type": "stream",
     "text": [
      "/home/ouassim/anaconda3/envs/stt-breton/lib/python3.10/site-packages/whisper/transcribe.py:126: UserWarning: FP16 is not supported on CPU; using FP32 instead\n",
      "  warnings.warn(\"FP16 is not supported on CPU; using FP32 instead\")\n"
     ]
    },
    {
     "name": "stdout",
     "output_type": "stream",
     "text": [
      "[00:00.000 --> 00:05.300]  M'est chiant qu'il me brûtour, m'est chiant, m'est chiant jamais disque tu m'imblik de la blague de la gmérada me mâme quoi.\n",
      "Transcribing /home/ouassim/Desktop/ss/stage/Data/Banque sonore des Dialectes Bretonnes/Audio/Audio/utt_01882.wav...\n"
     ]
    },
    {
     "name": "stderr",
     "output_type": "stream",
     "text": [
      "/home/ouassim/anaconda3/envs/stt-breton/lib/python3.10/site-packages/whisper/transcribe.py:126: UserWarning: FP16 is not supported on CPU; using FP32 instead\n",
      "  warnings.warn(\"FP16 is not supported on CPU; using FP32 instead\")\n"
     ]
    },
    {
     "name": "stdout",
     "output_type": "stream",
     "text": [
      "[00:00.000 --> 00:02.000]  A Solonteck Majet?\n",
      "[00:02.000 --> 00:04.000]  Is a Solonteck no?\n",
      "[00:04.000 --> 00:06.000]  Eh Solonteck Majet?\n",
      "[00:06.000 --> 00:09.000]  I am going to be a Solonteck.\n",
      "[00:09.000 --> 00:12.000]  I am going to be a Solonteck.\n",
      "[00:12.000 --> 00:14.000]  Solonteck, go, go, go!\n",
      "Transcribing /home/ouassim/Desktop/ss/stage/Data/Banque sonore des Dialectes Bretonnes/Audio/Audio/utt_02576.wav...\n"
     ]
    },
    {
     "name": "stderr",
     "output_type": "stream",
     "text": [
      "/home/ouassim/anaconda3/envs/stt-breton/lib/python3.10/site-packages/whisper/transcribe.py:126: UserWarning: FP16 is not supported on CPU; using FP32 instead\n",
      "  warnings.warn(\"FP16 is not supported on CPU; using FP32 instead\")\n"
     ]
    },
    {
     "name": "stdout",
     "output_type": "stream",
     "text": [
      "[00:00.000 --> 00:09.000]  Pyristo peja badao azon donse cazon donsek pyristo peja badao azon donse cazon mou\n",
      "[00:09.000 --> 00:18.000]  Agala, Agawa, pyristo pek pyristo pega galara galara pyristo pex evira\n",
      "Transcribing /home/ouassim/Desktop/ss/stage/Data/Banque sonore des Dialectes Bretonnes/Audio/Audio/utt_04609.wav...\n"
     ]
    },
    {
     "name": "stderr",
     "output_type": "stream",
     "text": [
      "/home/ouassim/anaconda3/envs/stt-breton/lib/python3.10/site-packages/whisper/transcribe.py:126: UserWarning: FP16 is not supported on CPU; using FP32 instead\n",
      "  warnings.warn(\"FP16 is not supported on CPU; using FP32 instead\")\n"
     ]
    },
    {
     "name": "stdout",
     "output_type": "stream",
     "text": [
      "[00:00.000 --> 00:02.000]  Vot scripts\n",
      "Transcribing /home/ouassim/Desktop/ss/stage/Data/Banque sonore des Dialectes Bretonnes/Audio/Audio/utt_02799.wav...\n"
     ]
    },
    {
     "name": "stderr",
     "output_type": "stream",
     "text": [
      "/home/ouassim/anaconda3/envs/stt-breton/lib/python3.10/site-packages/whisper/transcribe.py:126: UserWarning: FP16 is not supported on CPU; using FP32 instead\n",
      "  warnings.warn(\"FP16 is not supported on CPU; using FP32 instead\")\n"
     ]
    },
    {
     "name": "stdout",
     "output_type": "stream",
     "text": [
      "[00:00.000 --> 00:03.000]  Nos, nous, nous, c'est qu'il peut y avoir un petit hôphe.\n",
      "Transcribing /home/ouassim/Desktop/ss/stage/Data/Banque sonore des Dialectes Bretonnes/Audio/Audio/utt_06622.wav...\n"
     ]
    },
    {
     "name": "stderr",
     "output_type": "stream",
     "text": [
      "/home/ouassim/anaconda3/envs/stt-breton/lib/python3.10/site-packages/whisper/transcribe.py:126: UserWarning: FP16 is not supported on CPU; using FP32 instead\n",
      "  warnings.warn(\"FP16 is not supported on CPU; using FP32 instead\")\n"
     ]
    },
    {
     "name": "stdout",
     "output_type": "stream",
     "text": [
      "[00:00.000 --> 00:04.000]  La cadaville d'oura tuta la borde washten.\n",
      "Transcribing /home/ouassim/Desktop/ss/stage/Data/Banque sonore des Dialectes Bretonnes/Audio/Audio/utt_01074.wav...\n"
     ]
    },
    {
     "name": "stderr",
     "output_type": "stream",
     "text": [
      "/home/ouassim/anaconda3/envs/stt-breton/lib/python3.10/site-packages/whisper/transcribe.py:126: UserWarning: FP16 is not supported on CPU; using FP32 instead\n",
      "  warnings.warn(\"FP16 is not supported on CPU; using FP32 instead\")\n"
     ]
    },
    {
     "name": "stdout",
     "output_type": "stream",
     "text": [
      "[00:00.000 --> 00:07.880]  Abiwado hir d'anglie veire si Wakana,\n",
      "[00:07.880 --> 00:11.140]  la nahi ki'et plumuuru butterfly\n",
      "[00:11.140 --> 00:13.020]  he inseuri w Christie pasan\n",
      "[00:13.020 --> 00:14.440]  musikaul doesn sat a\n",
      "[00:14.440 --> 00:17.120]  munim 2013\n",
      "[00:17.120 --> 00:35.700] ком\n",
      "Transcribing /home/ouassim/Desktop/ss/stage/Data/Banque sonore des Dialectes Bretonnes/Audio/Audio/utt_07197.wav...\n"
     ]
    },
    {
     "name": "stderr",
     "output_type": "stream",
     "text": [
      "/home/ouassim/anaconda3/envs/stt-breton/lib/python3.10/site-packages/whisper/transcribe.py:126: UserWarning: FP16 is not supported on CPU; using FP32 instead\n",
      "  warnings.warn(\"FP16 is not supported on CPU; using FP32 instead\")\n"
     ]
    },
    {
     "name": "stdout",
     "output_type": "stream",
     "text": [
      "[00:00.000 --> 00:21.620]  Giau люl the life of the\n",
      "Transcribing /home/ouassim/Desktop/ss/stage/Data/Banque sonore des Dialectes Bretonnes/Audio/Audio/utt_04601.wav...\n"
     ]
    },
    {
     "name": "stderr",
     "output_type": "stream",
     "text": [
      "/home/ouassim/anaconda3/envs/stt-breton/lib/python3.10/site-packages/whisper/transcribe.py:126: UserWarning: FP16 is not supported on CPU; using FP32 instead\n",
      "  warnings.warn(\"FP16 is not supported on CPU; using FP32 instead\")\n"
     ]
    },
    {
     "name": "stdout",
     "output_type": "stream",
     "text": [
      "[00:00.000 --> 00:02.800]  ve'klémodör dessus lao\n",
      "Transcribing /home/ouassim/Desktop/ss/stage/Data/Banque sonore des Dialectes Bretonnes/Audio/Audio/utt_01543.wav...\n"
     ]
    },
    {
     "name": "stderr",
     "output_type": "stream",
     "text": [
      "/home/ouassim/anaconda3/envs/stt-breton/lib/python3.10/site-packages/whisper/transcribe.py:126: UserWarning: FP16 is not supported on CPU; using FP32 instead\n",
      "  warnings.warn(\"FP16 is not supported on CPU; using FP32 instead\")\n"
     ]
    },
    {
     "name": "stdout",
     "output_type": "stream",
     "text": [
      "[00:00.000 --> 00:10.620]  – Me girl – My girl my baby father, my dre paternal Everybody, a George's where to live.\n",
      "Transcribing /home/ouassim/Desktop/ss/stage/Data/Banque sonore des Dialectes Bretonnes/Audio/Audio/utt_05909.wav...\n"
     ]
    },
    {
     "name": "stderr",
     "output_type": "stream",
     "text": [
      "/home/ouassim/anaconda3/envs/stt-breton/lib/python3.10/site-packages/whisper/transcribe.py:126: UserWarning: FP16 is not supported on CPU; using FP32 instead\n",
      "  warnings.warn(\"FP16 is not supported on CPU; using FP32 instead\")\n"
     ]
    },
    {
     "name": "stdout",
     "output_type": "stream",
     "text": [
      "[00:00.000 --> 00:02.000]  Madure\n",
      "Transcribing /home/ouassim/Desktop/ss/stage/Data/Banque sonore des Dialectes Bretonnes/Audio/Audio/utt_00132.wav...\n"
     ]
    },
    {
     "name": "stderr",
     "output_type": "stream",
     "text": [
      "/home/ouassim/anaconda3/envs/stt-breton/lib/python3.10/site-packages/whisper/transcribe.py:126: UserWarning: FP16 is not supported on CPU; using FP32 instead\n",
      "  warnings.warn(\"FP16 is not supported on CPU; using FP32 instead\")\n"
     ]
    },
    {
     "name": "stdout",
     "output_type": "stream",
     "text": [
      "[00:00.000 --> 00:04.000]  Gyoul cit m'én wén pill 50 00答 MayON\n",
      "Transcribing /home/ouassim/Desktop/ss/stage/Data/Banque sonore des Dialectes Bretonnes/Audio/Audio/utt_04394.wav...\n"
     ]
    },
    {
     "name": "stderr",
     "output_type": "stream",
     "text": [
      "/home/ouassim/anaconda3/envs/stt-breton/lib/python3.10/site-packages/whisper/transcribe.py:126: UserWarning: FP16 is not supported on CPU; using FP32 instead\n",
      "  warnings.warn(\"FP16 is not supported on CPU; using FP32 instead\")\n"
     ]
    },
    {
     "name": "stdout",
     "output_type": "stream",
     "text": [
      "[00:00.000 --> 00:01.700]  Gandhi,\n",
      "[00:01.700 --> 00:02.820] ilight,\n",
      "[00:02.820 --> 00:05.360]  Andใonああああああああああああああ\n",
      "Transcribing /home/ouassim/Desktop/ss/stage/Data/Banque sonore des Dialectes Bretonnes/Audio/Audio/utt_01421.wav...\n"
     ]
    },
    {
     "name": "stderr",
     "output_type": "stream",
     "text": [
      "/home/ouassim/anaconda3/envs/stt-breton/lib/python3.10/site-packages/whisper/transcribe.py:126: UserWarning: FP16 is not supported on CPU; using FP32 instead\n",
      "  warnings.warn(\"FP16 is not supported on CPU; using FP32 instead\")\n"
     ]
    },
    {
     "name": "stdout",
     "output_type": "stream",
     "text": [
      "[00:00.000 --> 00:02.800]  Rikulan, sota, taudu mure.\n",
      "[00:02.800 --> 00:05.300]  Gosele Nel, nel ta,\n",
      "[00:05.300 --> 00:07.700]  ben tarikulan, sota, taudu mure.\n",
      "[00:07.700 --> 00:11.000]  T'he velikirikulan, sota, dondoar.\n",
      "[00:11.000 --> 00:13.600]  Nel d'ur mure, rikulan, sota.\n",
      "Transcribing /home/ouassim/Desktop/ss/stage/Data/Banque sonore des Dialectes Bretonnes/Audio/Audio/utt_03668.wav...\n"
     ]
    },
    {
     "name": "stderr",
     "output_type": "stream",
     "text": [
      "/home/ouassim/anaconda3/envs/stt-breton/lib/python3.10/site-packages/whisper/transcribe.py:126: UserWarning: FP16 is not supported on CPU; using FP32 instead\n",
      "  warnings.warn(\"FP16 is not supported on CPU; using FP32 instead\")\n"
     ]
    },
    {
     "name": "stdout",
     "output_type": "stream",
     "text": [
      "[00:00.000 --> 00:02.500]  Hoentneuel bestech.\n",
      "Transcribing /home/ouassim/Desktop/ss/stage/Data/Banque sonore des Dialectes Bretonnes/Audio/Audio/utt_02934.wav...\n"
     ]
    },
    {
     "name": "stderr",
     "output_type": "stream",
     "text": [
      "/home/ouassim/anaconda3/envs/stt-breton/lib/python3.10/site-packages/whisper/transcribe.py:126: UserWarning: FP16 is not supported on CPU; using FP32 instead\n",
      "  warnings.warn(\"FP16 is not supported on CPU; using FP32 instead\")\n"
     ]
    },
    {
     "name": "stdout",
     "output_type": "stream",
     "text": [
      "[00:00.000 --> 00:02.940]  de ribis darvou seete de lego.\n",
      "Transcribing /home/ouassim/Desktop/ss/stage/Data/Banque sonore des Dialectes Bretonnes/Audio/Audio/utt_04168.wav...\n"
     ]
    },
    {
     "name": "stderr",
     "output_type": "stream",
     "text": [
      "/home/ouassim/anaconda3/envs/stt-breton/lib/python3.10/site-packages/whisper/transcribe.py:126: UserWarning: FP16 is not supported on CPU; using FP32 instead\n",
      "  warnings.warn(\"FP16 is not supported on CPU; using FP32 instead\")\n"
     ]
    },
    {
     "name": "stdout",
     "output_type": "stream",
     "text": [
      "[00:00.000 --> 00:02.600]  Nis eti no des cašteti beilet.\n",
      "Transcribing /home/ouassim/Desktop/ss/stage/Data/Banque sonore des Dialectes Bretonnes/Audio/Audio/utt_05483.wav...\n"
     ]
    },
    {
     "name": "stderr",
     "output_type": "stream",
     "text": [
      "/home/ouassim/anaconda3/envs/stt-breton/lib/python3.10/site-packages/whisper/transcribe.py:126: UserWarning: FP16 is not supported on CPU; using FP32 instead\n",
      "  warnings.warn(\"FP16 is not supported on CPU; using FP32 instead\")\n"
     ]
    },
    {
     "name": "stdout",
     "output_type": "stream",
     "text": [
      "[00:00.000 --> 00:02.480]  I'm done br... I'm done push you like també\n",
      "Transcribing /home/ouassim/Desktop/ss/stage/Data/Banque sonore des Dialectes Bretonnes/Audio/Audio/utt_03127.wav...\n"
     ]
    },
    {
     "name": "stderr",
     "output_type": "stream",
     "text": [
      "/home/ouassim/anaconda3/envs/stt-breton/lib/python3.10/site-packages/whisper/transcribe.py:126: UserWarning: FP16 is not supported on CPU; using FP32 instead\n",
      "  warnings.warn(\"FP16 is not supported on CPU; using FP32 instead\")\n"
     ]
    },
    {
     "name": "stdout",
     "output_type": "stream",
     "text": [
      "[00:00.000 --> 00:02.940]  Doctors across the nation\n",
      "Transcribing /home/ouassim/Desktop/ss/stage/Data/Banque sonore des Dialectes Bretonnes/Audio/Audio/utt_03849.wav...\n"
     ]
    },
    {
     "name": "stderr",
     "output_type": "stream",
     "text": [
      "/home/ouassim/anaconda3/envs/stt-breton/lib/python3.10/site-packages/whisper/transcribe.py:126: UserWarning: FP16 is not supported on CPU; using FP32 instead\n",
      "  warnings.warn(\"FP16 is not supported on CPU; using FP32 instead\")\n"
     ]
    },
    {
     "name": "stdout",
     "output_type": "stream",
     "text": [
      "[00:00.000 --> 00:01.220]  champion bro\n",
      "Transcribing /home/ouassim/Desktop/ss/stage/Data/Banque sonore des Dialectes Bretonnes/Audio/Audio/utt_06898.wav...\n"
     ]
    },
    {
     "name": "stderr",
     "output_type": "stream",
     "text": [
      "/home/ouassim/anaconda3/envs/stt-breton/lib/python3.10/site-packages/whisper/transcribe.py:126: UserWarning: FP16 is not supported on CPU; using FP32 instead\n",
      "  warnings.warn(\"FP16 is not supported on CPU; using FP32 instead\")\n"
     ]
    },
    {
     "name": "stdout",
     "output_type": "stream",
     "text": [
      "[00:00.000 --> 00:01.740]  w染red name tue\n",
      "Transcribing /home/ouassim/Desktop/ss/stage/Data/Banque sonore des Dialectes Bretonnes/Audio/Audio/utt_02402.wav...\n"
     ]
    },
    {
     "name": "stderr",
     "output_type": "stream",
     "text": [
      "/home/ouassim/anaconda3/envs/stt-breton/lib/python3.10/site-packages/whisper/transcribe.py:126: UserWarning: FP16 is not supported on CPU; using FP32 instead\n",
      "  warnings.warn(\"FP16 is not supported on CPU; using FP32 instead\")\n"
     ]
    },
    {
     "name": "stdout",
     "output_type": "stream",
     "text": [
      "[00:00.000 --> 00:05.500] ء\n",
      "Transcribing /home/ouassim/Desktop/ss/stage/Data/Banque sonore des Dialectes Bretonnes/Audio/Audio/utt_06364.wav...\n"
     ]
    },
    {
     "name": "stderr",
     "output_type": "stream",
     "text": [
      "/home/ouassim/anaconda3/envs/stt-breton/lib/python3.10/site-packages/whisper/transcribe.py:126: UserWarning: FP16 is not supported on CPU; using FP32 instead\n",
      "  warnings.warn(\"FP16 is not supported on CPU; using FP32 instead\")\n"
     ]
    },
    {
     "name": "stdout",
     "output_type": "stream",
     "text": [
      "[00:00.000 --> 00:04.600]  De propriter, l'émuzen, l'ému de ferme d'endouard.\n",
      "Transcribing /home/ouassim/Desktop/ss/stage/Data/Banque sonore des Dialectes Bretonnes/Audio/Audio/utt_05300.wav...\n"
     ]
    },
    {
     "name": "stderr",
     "output_type": "stream",
     "text": [
      "/home/ouassim/anaconda3/envs/stt-breton/lib/python3.10/site-packages/whisper/transcribe.py:126: UserWarning: FP16 is not supported on CPU; using FP32 instead\n",
      "  warnings.warn(\"FP16 is not supported on CPU; using FP32 instead\")\n"
     ]
    },
    {
     "name": "stdout",
     "output_type": "stream",
     "text": [
      "[00:00.000 --> 00:29.600]  Gördb\n",
      "Transcribing /home/ouassim/Desktop/ss/stage/Data/Banque sonore des Dialectes Bretonnes/Audio/Audio/utt_01632.wav...\n"
     ]
    },
    {
     "name": "stderr",
     "output_type": "stream",
     "text": [
      "/home/ouassim/anaconda3/envs/stt-breton/lib/python3.10/site-packages/whisper/transcribe.py:126: UserWarning: FP16 is not supported on CPU; using FP32 instead\n",
      "  warnings.warn(\"FP16 is not supported on CPU; using FP32 instead\")\n"
     ]
    },
    {
     "name": "stdout",
     "output_type": "stream",
     "text": [
      "[00:00.000 --> 00:11.060]  Niego hanna brinneu, nien tujëlës djërë, n'itrogërë brinneu, nien tauër hanna brinneu, n'itrogërës djër hanna brinneu.\n",
      "Transcribing /home/ouassim/Desktop/ss/stage/Data/Banque sonore des Dialectes Bretonnes/Audio/Audio/utt_05926.wav...\n"
     ]
    },
    {
     "name": "stderr",
     "output_type": "stream",
     "text": [
      "/home/ouassim/anaconda3/envs/stt-breton/lib/python3.10/site-packages/whisper/transcribe.py:126: UserWarning: FP16 is not supported on CPU; using FP32 instead\n",
      "  warnings.warn(\"FP16 is not supported on CPU; using FP32 instead\")\n"
     ]
    },
    {
     "name": "stdout",
     "output_type": "stream",
     "text": [
      "[00:00.000 --> 00:03.680]  To be it.\n",
      "Transcribing /home/ouassim/Desktop/ss/stage/Data/Banque sonore des Dialectes Bretonnes/Audio/Audio/utt_05363.wav...\n"
     ]
    },
    {
     "name": "stderr",
     "output_type": "stream",
     "text": [
      "/home/ouassim/anaconda3/envs/stt-breton/lib/python3.10/site-packages/whisper/transcribe.py:126: UserWarning: FP16 is not supported on CPU; using FP32 instead\n",
      "  warnings.warn(\"FP16 is not supported on CPU; using FP32 instead\")\n"
     ]
    },
    {
     "name": "stdout",
     "output_type": "stream",
     "text": [
      "[00:00.000 --> 00:01.380]  Am меняicans,\n",
      "Transcribing /home/ouassim/Desktop/ss/stage/Data/Banque sonore des Dialectes Bretonnes/Audio/Audio/utt_01512.wav...\n"
     ]
    },
    {
     "name": "stderr",
     "output_type": "stream",
     "text": [
      "/home/ouassim/anaconda3/envs/stt-breton/lib/python3.10/site-packages/whisper/transcribe.py:126: UserWarning: FP16 is not supported on CPU; using FP32 instead\n",
      "  warnings.warn(\"FP16 is not supported on CPU; using FP32 instead\")\n"
     ]
    },
    {
     "name": "stdout",
     "output_type": "stream",
     "text": [
      "[00:00.000 --> 00:02.000]  I was black.\n",
      "[00:02.000 --> 00:04.000]  Maki los raidit.\n",
      "[00:06.000 --> 00:08.000]  I was white.\n",
      "[00:08.000 --> 00:10.000]  Los raid.\n",
      "[00:10.000 --> 00:12.000]  I was black.\n",
      "[00:12.000 --> 00:14.000]  Maki los raidit.\n",
      "[00:14.000 --> 00:16.000]  Maki los raidit.\n",
      "[00:16.000 --> 00:18.000]  Los raidit.\n",
      "[00:18.000 --> 00:20.000]  Maki los raidit.\n",
      "[00:20.000 --> 00:22.000]  Maki los raidit.\n",
      "[00:22.000 --> 00:24.000]  Maki los raidit.\n",
      "[00:24.000 --> 00:26.000]  Maki los raidit.\n",
      "[00:26.000 --> 00:28.000]  Maki los raidit.\n",
      "[00:28.000 --> 00:29.500]  May be alone.\n",
      "[00:29.500 --> 00:31.500]  May be alone.\n",
      "[00:31.500 --> 00:32.500]  May be alone.\n",
      "[00:32.500 --> 00:33.500]  May be alone.\n",
      "[00:33.500 --> 00:35.500]  May be alone.\n",
      "[00:35.500 --> 00:36.500]  May be alone.\n",
      "[00:36.500 --> 00:37.500]  May be alone.\n",
      "[00:37.500 --> 00:38.500]  May be alone.\n",
      "[00:38.500 --> 00:39.500]  May be a musician.\n",
      "[00:40.500 --> 00:41.500]  May be a musician.\n",
      "[00:41.500 --> 00:42.500]  May be alone.\n",
      "[00:42.500 --> 00:43.500]  May be alone.\n",
      "Transcribing /home/ouassim/Desktop/ss/stage/Data/Banque sonore des Dialectes Bretonnes/Audio/Audio/utt_01656.wav...\n"
     ]
    },
    {
     "name": "stderr",
     "output_type": "stream",
     "text": [
      "/home/ouassim/anaconda3/envs/stt-breton/lib/python3.10/site-packages/whisper/transcribe.py:126: UserWarning: FP16 is not supported on CPU; using FP32 instead\n",
      "  warnings.warn(\"FP16 is not supported on CPU; using FP32 instead\")\n"
     ]
    },
    {
     "name": "stdout",
     "output_type": "stream",
     "text": [
      "[00:00.000 --> 00:03.000]  assistant\n",
      "[00:07.000 --> 00:08.000]  ke\n",
      "[00:08.000 --> 00:09.000]  kienne\n",
      "[00:09.000 --> 00:10.000] 성을\n",
      "[00:10.000 --> 00:11.000]  dye\n",
      "[00:13.000 --> 00:14.000]  flag\n",
      "[00:15.000 --> 00:16.000]  Mer правда\n",
      "[00:17.000 --> 00:18.000]  non\n",
      "[00:18.000 --> 00:19.000]  rust\n",
      "[00:19.000 --> 00:20.000]  rhet 34\n",
      "[00:20.000 --> 00:22.000]  пережit\n",
      "[00:22.000 --> 00:24.000]  ek\n",
      "[00:24.000 --> 00:25.000]  sav\n",
      "[00:25.000 --> 00:26.760]  mit\n",
      "[00:26.760 --> 00:28.000] point\n",
      "[00:28.000 --> 00:29.020]  Khosh\n",
      "Transcribing /home/ouassim/Desktop/ss/stage/Data/Banque sonore des Dialectes Bretonnes/Audio/Audio/utt_05457.wav...\n"
     ]
    },
    {
     "name": "stderr",
     "output_type": "stream",
     "text": [
      "/home/ouassim/anaconda3/envs/stt-breton/lib/python3.10/site-packages/whisper/transcribe.py:126: UserWarning: FP16 is not supported on CPU; using FP32 instead\n",
      "  warnings.warn(\"FP16 is not supported on CPU; using FP32 instead\")\n"
     ]
    },
    {
     "name": "stdout",
     "output_type": "stream",
     "text": [
      "[00:00.000 --> 00:00.600]  1.\n",
      "[00:01.420 --> 00:02.900]  2.\n",
      "[00:02.900 --> 00:03.900]  2.\n",
      "[00:05.920 --> 00:08.020]  2.\n",
      "[00:08.280 --> 00:08.760]  2.\n",
      "[00:08.820 --> 00:11.020]  2.\n",
      "[00:14.260 --> 00:15.220]  2.\n",
      "[00:18.600 --> 00:19.640]  2.\n",
      "[00:19.860 --> 00:20.700]  2.\n",
      "[00:21.020 --> 00:22.260]  2.\n",
      "[00:23.540 --> 00:24.440]  2.\n",
      "[00:24.480 --> 00:25.000]  2.\n",
      "[00:25.020 --> 00:26.080]  2.\n",
      "[00:27.900 --> 00:29.420]  2.\n",
      "[00:29.420 --> 00:33.420]  Ase d'un mamje danafenantanous,\n",
      "[00:33.420 --> 00:43.020]  a js Let's not forget to go to singers have forgiven me chests orsehen many hours instead of Authoress.\n",
      "[00:43.220 --> 00:48.860]  Ase petha悪圍, Angenous tausse,\n",
      "[00:49.020 --> 00:53.140]  arole bãoke,anasemadhulmentanous prze'cti passan,\n",
      "[00:53.300 --> 00:57.700]  b a armacio cn式 nam,\n",
      "[00:57.860 --> 01:00.180]  todaə Ku hot,\n",
      "[01:00.180 --> 01:30.080]  Ṛn手b\n",
      "[01:30.180 --> 01:32.180]  a viunta oikus o vilaniyong a lei,\n",
      "[01:32.180 --> 01:34.180]  me gai pa fal da goud,\n",
      "[01:34.180 --> 01:36.180]  pernoel, ambad volskoat,\n",
      "[01:36.180 --> 01:38.180]  mou tis un, chichiu,\n",
      "[01:38.180 --> 01:40.180]  primadidon meis, oh, i llian fi dija,\n",
      "[01:40.180 --> 01:42.180]  he wesh o on kuei de la mpa anoel,\n",
      "[01:42.180 --> 01:44.180]  doson, habin fi i viundet,\n",
      "[01:44.180 --> 01:46.180]  oh, he wesh ove vrioschen,\n",
      "[01:46.180 --> 01:48.180]  ma mam, tu me gior la vinus,\n",
      "[01:48.180 --> 01:49.180]  fi dea se an,\n",
      "[01:49.180 --> 01:50.180]  un oranjm,\n",
      "[01:50.180 --> 01:52.180]  me dredo a en lux,\n",
      "[01:52.180 --> 01:54.180]  i bani emze onw sa Tell me,\n",
      "[01:54.180 --> 01:56.180]  hsix При dea,\n",
      "[01:56.180 --> 01:58.180]  oray Ask Sarah to pass,\n",
      "[01:58.180 --> 02:00.180]  o Vera,\n",
      "[02:00.180 --> 02:01.180]  jo pina all��'\n",
      "[02:01.180 --> 02:07.180]  d'Ea r bidentuell Filter\n",
      "[02:07.180 --> 02:09.180]  to harbor.\n",
      "[02:09.180 --> 02:11.180]  A I debates tellers,\n",
      "[02:11.180 --> 02:16.180]  Sam Broto,\n",
      "[02:16.180 --> 02:19.420]  anoel,\n",
      "Transcribing /home/ouassim/Desktop/ss/stage/Data/Banque sonore des Dialectes Bretonnes/Audio/Audio/utt_03279.wav...\n"
     ]
    },
    {
     "name": "stderr",
     "output_type": "stream",
     "text": [
      "/home/ouassim/anaconda3/envs/stt-breton/lib/python3.10/site-packages/whisper/transcribe.py:126: UserWarning: FP16 is not supported on CPU; using FP32 instead\n",
      "  warnings.warn(\"FP16 is not supported on CPU; using FP32 instead\")\n"
     ]
    },
    {
     "name": "stdout",
     "output_type": "stream",
     "text": [
      "[00:00.000 --> 00:02.140]  Israel nervelea da denuié dever Honfi\n",
      "[00:02.200 --> 00:03.060]  En decide to\n",
      "[00:03.060 --> 00:04.380]  go\n",
      "Transcribing /home/ouassim/Desktop/ss/stage/Data/Banque sonore des Dialectes Bretonnes/Audio/Audio/utt_00381.wav...\n"
     ]
    },
    {
     "name": "stderr",
     "output_type": "stream",
     "text": [
      "/home/ouassim/anaconda3/envs/stt-breton/lib/python3.10/site-packages/whisper/transcribe.py:126: UserWarning: FP16 is not supported on CPU; using FP32 instead\n",
      "  warnings.warn(\"FP16 is not supported on CPU; using FP32 instead\")\n"
     ]
    },
    {
     "name": "stdout",
     "output_type": "stream",
     "text": [
      "[00:00.000 --> 00:01.000]  le coup d'oeil\n",
      "Transcribing /home/ouassim/Desktop/ss/stage/Data/Banque sonore des Dialectes Bretonnes/Audio/Audio/utt_04325.wav...\n"
     ]
    },
    {
     "name": "stderr",
     "output_type": "stream",
     "text": [
      "/home/ouassim/anaconda3/envs/stt-breton/lib/python3.10/site-packages/whisper/transcribe.py:126: UserWarning: FP16 is not supported on CPU; using FP32 instead\n",
      "  warnings.warn(\"FP16 is not supported on CPU; using FP32 instead\")\n"
     ]
    },
    {
     "name": "stdout",
     "output_type": "stream",
     "text": [
      "[00:00.000 --> 00:04.800]  Moc spinal筋\n",
      "Transcribing /home/ouassim/Desktop/ss/stage/Data/Banque sonore des Dialectes Bretonnes/Audio/Audio/utt_02229.wav...\n"
     ]
    },
    {
     "name": "stderr",
     "output_type": "stream",
     "text": [
      "/home/ouassim/anaconda3/envs/stt-breton/lib/python3.10/site-packages/whisper/transcribe.py:126: UserWarning: FP16 is not supported on CPU; using FP32 instead\n",
      "  warnings.warn(\"FP16 is not supported on CPU; using FP32 instead\")\n"
     ]
    },
    {
     "name": "stdout",
     "output_type": "stream",
     "text": [
      "[00:00.000 --> 00:04.000]  ……Allahdi held sa dallekabakhruʻuJono.\n",
      "[00:04.000 --> 00:07.840]  Buomeؤ M-2 01x1arten\n",
      "[00:11.140 --> 00:13.940]  Iseeim\n",
      "[00:14.500 --> 00:16.260]  �im\n",
      "[00:16.340 --> 00:20.260]  Dr.\n",
      "[00:23.340 --> 00:25.460]  Bro Who\n",
      "[00:26.820 --> 00:28.740]  Isem\n",
      "Transcribing /home/ouassim/Desktop/ss/stage/Data/Banque sonore des Dialectes Bretonnes/Audio/Audio/utt_04582.wav...\n"
     ]
    },
    {
     "name": "stderr",
     "output_type": "stream",
     "text": [
      "/home/ouassim/anaconda3/envs/stt-breton/lib/python3.10/site-packages/whisper/transcribe.py:126: UserWarning: FP16 is not supported on CPU; using FP32 instead\n",
      "  warnings.warn(\"FP16 is not supported on CPU; using FP32 instead\")\n"
     ]
    },
    {
     "name": "stdout",
     "output_type": "stream",
     "text": [
      "[00:00.000 --> 00:02.460]  if on us troop paired Arena\n",
      "Transcribing /home/ouassim/Desktop/ss/stage/Data/Banque sonore des Dialectes Bretonnes/Audio/Audio/utt_06493.wav...\n"
     ]
    },
    {
     "name": "stderr",
     "output_type": "stream",
     "text": [
      "/home/ouassim/anaconda3/envs/stt-breton/lib/python3.10/site-packages/whisper/transcribe.py:126: UserWarning: FP16 is not supported on CPU; using FP32 instead\n",
      "  warnings.warn(\"FP16 is not supported on CPU; using FP32 instead\")\n"
     ]
    },
    {
     "name": "stdout",
     "output_type": "stream",
     "text": [
      "[00:00.000 --> 00:03.080]  Hanna vuisinguGenRu danannelu\n",
      "[00:03.080 --> 00:06.000]  Wgj&3\n",
      "[00:06.080 --> 00:07.840]  YJS\n",
      "[00:07.840 --> 00:29.700]  obras\n",
      "Transcribing /home/ouassim/Desktop/ss/stage/Data/Banque sonore des Dialectes Bretonnes/Audio/Audio/utt_00393.wav...\n"
     ]
    },
    {
     "name": "stderr",
     "output_type": "stream",
     "text": [
      "/home/ouassim/anaconda3/envs/stt-breton/lib/python3.10/site-packages/whisper/transcribe.py:126: UserWarning: FP16 is not supported on CPU; using FP32 instead\n",
      "  warnings.warn(\"FP16 is not supported on CPU; using FP32 instead\")\n"
     ]
    },
    {
     "name": "stdout",
     "output_type": "stream",
     "text": [
      "[00:00.000 --> 00:02.700]  Nymuucu vision X ...\n",
      "Transcribing /home/ouassim/Desktop/ss/stage/Data/Banque sonore des Dialectes Bretonnes/Audio/Audio/utt_02664.wav...\n"
     ]
    },
    {
     "name": "stderr",
     "output_type": "stream",
     "text": [
      "/home/ouassim/anaconda3/envs/stt-breton/lib/python3.10/site-packages/whisper/transcribe.py:126: UserWarning: FP16 is not supported on CPU; using FP32 instead\n",
      "  warnings.warn(\"FP16 is not supported on CPU; using FP32 instead\")\n"
     ]
    },
    {
     "name": "stdout",
     "output_type": "stream",
     "text": [
      "[00:00.000 --> 00:01.340]  A beyes och rozîf,\n",
      "[00:01.340 --> 00:03.120]  to FC THEABERMS A RAIS\n",
      "[00:03.120 --> 00:03.600]  TORON PER을 COBRA\n",
      "[00:03.600 --> 00:12.220]  ACTUAL\n",
      "Transcribing /home/ouassim/Desktop/ss/stage/Data/Banque sonore des Dialectes Bretonnes/Audio/Audio/utt_01315.wav...\n"
     ]
    },
    {
     "name": "stderr",
     "output_type": "stream",
     "text": [
      "/home/ouassim/anaconda3/envs/stt-breton/lib/python3.10/site-packages/whisper/transcribe.py:126: UserWarning: FP16 is not supported on CPU; using FP32 instead\n",
      "  warnings.warn(\"FP16 is not supported on CPU; using FP32 instead\")\n"
     ]
    },
    {
     "name": "stdout",
     "output_type": "stream",
     "text": [
      "[00:00.000 --> 00:02.000]  Be dama\n",
      "Transcribing /home/ouassim/Desktop/ss/stage/Data/Banque sonore des Dialectes Bretonnes/Audio/Audio/utt_04614.wav...\n"
     ]
    },
    {
     "name": "stderr",
     "output_type": "stream",
     "text": [
      "/home/ouassim/anaconda3/envs/stt-breton/lib/python3.10/site-packages/whisper/transcribe.py:126: UserWarning: FP16 is not supported on CPU; using FP32 instead\n",
      "  warnings.warn(\"FP16 is not supported on CPU; using FP32 instead\")\n"
     ]
    },
    {
     "name": "stdout",
     "output_type": "stream",
     "text": [
      "[00:00.000 --> 00:02.880] mp4\n",
      "Transcribing /home/ouassim/Desktop/ss/stage/Data/Banque sonore des Dialectes Bretonnes/Audio/Audio/utt_06913.wav...\n"
     ]
    },
    {
     "name": "stderr",
     "output_type": "stream",
     "text": [
      "/home/ouassim/anaconda3/envs/stt-breton/lib/python3.10/site-packages/whisper/transcribe.py:126: UserWarning: FP16 is not supported on CPU; using FP32 instead\n",
      "  warnings.warn(\"FP16 is not supported on CPU; using FP32 instead\")\n"
     ]
    },
    {
     "name": "stdout",
     "output_type": "stream",
     "text": [
      "[00:00.000 --> 00:02.120]  y du Leistuan\n",
      "Transcribing /home/ouassim/Desktop/ss/stage/Data/Banque sonore des Dialectes Bretonnes/Audio/Audio/utt_00251.wav...\n"
     ]
    },
    {
     "name": "stderr",
     "output_type": "stream",
     "text": [
      "/home/ouassim/anaconda3/envs/stt-breton/lib/python3.10/site-packages/whisper/transcribe.py:126: UserWarning: FP16 is not supported on CPU; using FP32 instead\n",
      "  warnings.warn(\"FP16 is not supported on CPU; using FP32 instead\")\n"
     ]
    },
    {
     "name": "stdout",
     "output_type": "stream",
     "text": [
      "[00:00.000 --> 00:25.940]  schemes\n",
      "Transcribing /home/ouassim/Desktop/ss/stage/Data/Banque sonore des Dialectes Bretonnes/Audio/Audio/utt_06780.wav...\n"
     ]
    },
    {
     "name": "stderr",
     "output_type": "stream",
     "text": [
      "/home/ouassim/anaconda3/envs/stt-breton/lib/python3.10/site-packages/whisper/transcribe.py:126: UserWarning: FP16 is not supported on CPU; using FP32 instead\n",
      "  warnings.warn(\"FP16 is not supported on CPU; using FP32 instead\")\n"
     ]
    },
    {
     "name": "stdout",
     "output_type": "stream",
     "text": [
      "[00:00.000 --> 00:02.080]  Voila, she is crying\n",
      "[00:02.080 --> 00:03.760]  is her new hair\n",
      "Transcribing /home/ouassim/Desktop/ss/stage/Data/Banque sonore des Dialectes Bretonnes/Audio/Audio/utt_07021.wav...\n"
     ]
    },
    {
     "name": "stderr",
     "output_type": "stream",
     "text": [
      "/home/ouassim/anaconda3/envs/stt-breton/lib/python3.10/site-packages/whisper/transcribe.py:126: UserWarning: FP16 is not supported on CPU; using FP32 instead\n",
      "  warnings.warn(\"FP16 is not supported on CPU; using FP32 instead\")\n"
     ]
    },
    {
     "name": "stdout",
     "output_type": "stream",
     "text": [
      "[00:00.000 --> 00:04.440]  Purei I noch me yayigatom de wUniley\n",
      "Transcribing /home/ouassim/Desktop/ss/stage/Data/Banque sonore des Dialectes Bretonnes/Audio/Audio/utt_02689.wav...\n"
     ]
    },
    {
     "name": "stderr",
     "output_type": "stream",
     "text": [
      "/home/ouassim/anaconda3/envs/stt-breton/lib/python3.10/site-packages/whisper/transcribe.py:126: UserWarning: FP16 is not supported on CPU; using FP32 instead\n",
      "  warnings.warn(\"FP16 is not supported on CPU; using FP32 instead\")\n"
     ]
    },
    {
     "name": "stdout",
     "output_type": "stream",
     "text": [
      "[00:00.000 --> 00:02.000]  Nos esqueteza con salida.\n",
      "Transcribing /home/ouassim/Desktop/ss/stage/Data/Banque sonore des Dialectes Bretonnes/Audio/Audio/utt_02771.wav...\n"
     ]
    },
    {
     "name": "stderr",
     "output_type": "stream",
     "text": [
      "/home/ouassim/anaconda3/envs/stt-breton/lib/python3.10/site-packages/whisper/transcribe.py:126: UserWarning: FP16 is not supported on CPU; using FP32 instead\n",
      "  warnings.warn(\"FP16 is not supported on CPU; using FP32 instead\")\n"
     ]
    },
    {
     "name": "stdout",
     "output_type": "stream",
     "text": [
      "[00:00.000 --> 00:01.940]  Lehamnadok ke Daileestaddepe.\n",
      "Transcribing /home/ouassim/Desktop/ss/stage/Data/Banque sonore des Dialectes Bretonnes/Audio/Audio/utt_01916.wav...\n"
     ]
    },
    {
     "name": "stderr",
     "output_type": "stream",
     "text": [
      "/home/ouassim/anaconda3/envs/stt-breton/lib/python3.10/site-packages/whisper/transcribe.py:126: UserWarning: FP16 is not supported on CPU; using FP32 instead\n",
      "  warnings.warn(\"FP16 is not supported on CPU; using FP32 instead\")\n"
     ]
    },
    {
     "name": "stdout",
     "output_type": "stream",
     "text": [
      "[00:00.000 --> 00:26.040]  Dra\n",
      "Transcribing /home/ouassim/Desktop/ss/stage/Data/Banque sonore des Dialectes Bretonnes/Audio/Audio/utt_00676.wav...\n"
     ]
    },
    {
     "name": "stderr",
     "output_type": "stream",
     "text": [
      "/home/ouassim/anaconda3/envs/stt-breton/lib/python3.10/site-packages/whisper/transcribe.py:126: UserWarning: FP16 is not supported on CPU; using FP32 instead\n",
      "  warnings.warn(\"FP16 is not supported on CPU; using FP32 instead\")\n"
     ]
    },
    {
     "name": "stdout",
     "output_type": "stream",
     "text": [
      "[00:00.000 --> 00:03.000]  We, my dreaded dear Thanos.\n",
      "Transcribing /home/ouassim/Desktop/ss/stage/Data/Banque sonore des Dialectes Bretonnes/Audio/Audio/utt_01858.wav...\n"
     ]
    },
    {
     "name": "stderr",
     "output_type": "stream",
     "text": [
      "/home/ouassim/anaconda3/envs/stt-breton/lib/python3.10/site-packages/whisper/transcribe.py:126: UserWarning: FP16 is not supported on CPU; using FP32 instead\n",
      "  warnings.warn(\"FP16 is not supported on CPU; using FP32 instead\")\n"
     ]
    },
    {
     "name": "stdout",
     "output_type": "stream",
     "text": [
      "[00:00.000 --> 00:03.000] iernorm eztr isrорт\n",
      "[00:03.200 --> 00:04.420]  ezil\n",
      "Transcribing /home/ouassim/Desktop/ss/stage/Data/Banque sonore des Dialectes Bretonnes/Audio/Audio/utt_05590.wav...\n"
     ]
    },
    {
     "name": "stderr",
     "output_type": "stream",
     "text": [
      "/home/ouassim/anaconda3/envs/stt-breton/lib/python3.10/site-packages/whisper/transcribe.py:126: UserWarning: FP16 is not supported on CPU; using FP32 instead\n",
      "  warnings.warn(\"FP16 is not supported on CPU; using FP32 instead\")\n"
     ]
    },
    {
     "name": "stdout",
     "output_type": "stream",
     "text": [
      "[00:00.000 --> 00:01.320]  i plau alot nukan\n",
      "Transcribing /home/ouassim/Desktop/ss/stage/Data/Banque sonore des Dialectes Bretonnes/Audio/Audio/utt_06580.wav...\n"
     ]
    },
    {
     "name": "stderr",
     "output_type": "stream",
     "text": [
      "/home/ouassim/anaconda3/envs/stt-breton/lib/python3.10/site-packages/whisper/transcribe.py:126: UserWarning: FP16 is not supported on CPU; using FP32 instead\n",
      "  warnings.warn(\"FP16 is not supported on CPU; using FP32 instead\")\n"
     ]
    },
    {
     "name": "stdout",
     "output_type": "stream",
     "text": [
      "[00:00.000 --> 00:05.400]  Ratingy crystalline men化 只是 hat her dernle Helme Su причelli ji lingering.\n",
      "[00:05.440 --> 00:16.140] 算n\n",
      "Transcribing /home/ouassim/Desktop/ss/stage/Data/Banque sonore des Dialectes Bretonnes/Audio/Audio/utt_01452.wav...\n"
     ]
    },
    {
     "name": "stderr",
     "output_type": "stream",
     "text": [
      "/home/ouassim/anaconda3/envs/stt-breton/lib/python3.10/site-packages/whisper/transcribe.py:126: UserWarning: FP16 is not supported on CPU; using FP32 instead\n",
      "  warnings.warn(\"FP16 is not supported on CPU; using FP32 instead\")\n"
     ]
    },
    {
     "name": "stdout",
     "output_type": "stream",
     "text": [
      "[00:00.000 --> 00:02.000]  Krusha Dominglas\n",
      "Transcribing /home/ouassim/Desktop/ss/stage/Data/Banque sonore des Dialectes Bretonnes/Audio/Audio/utt_06494.wav...\n"
     ]
    },
    {
     "name": "stderr",
     "output_type": "stream",
     "text": [
      "/home/ouassim/anaconda3/envs/stt-breton/lib/python3.10/site-packages/whisper/transcribe.py:126: UserWarning: FP16 is not supported on CPU; using FP32 instead\n",
      "  warnings.warn(\"FP16 is not supported on CPU; using FP32 instead\")\n"
     ]
    },
    {
     "name": "stdout",
     "output_type": "stream",
     "text": [
      "[00:00.000 --> 00:02.380]  Ayrhya un nahte\n",
      "Transcribing /home/ouassim/Desktop/ss/stage/Data/Banque sonore des Dialectes Bretonnes/Audio/Audio/utt_04668.wav...\n"
     ]
    },
    {
     "name": "stderr",
     "output_type": "stream",
     "text": [
      "/home/ouassim/anaconda3/envs/stt-breton/lib/python3.10/site-packages/whisper/transcribe.py:126: UserWarning: FP16 is not supported on CPU; using FP32 instead\n",
      "  warnings.warn(\"FP16 is not supported on CPU; using FP32 instead\")\n"
     ]
    },
    {
     "name": "stdout",
     "output_type": "stream",
     "text": [
      "[00:00.000 --> 00:02.480]  Hóaak! E'n er xoase ben vaartegae,\n",
      "[00:02.600 --> 00:04.120]  Tegae, du elnuta....\n",
      "Transcribing /home/ouassim/Desktop/ss/stage/Data/Banque sonore des Dialectes Bretonnes/Audio/Audio/utt_04743.wav...\n"
     ]
    },
    {
     "name": "stderr",
     "output_type": "stream",
     "text": [
      "/home/ouassim/anaconda3/envs/stt-breton/lib/python3.10/site-packages/whisper/transcribe.py:126: UserWarning: FP16 is not supported on CPU; using FP32 instead\n",
      "  warnings.warn(\"FP16 is not supported on CPU; using FP32 instead\")\n"
     ]
    },
    {
     "name": "stdout",
     "output_type": "stream",
     "text": [
      "[00:00.000 --> 00:03.640]  Aga, mei mei mei sii da rivaro, andrei rei rei galechloch,\n",
      "[00:03.640 --> 00:07.520]  a nei mei nenn, azo, tre minet,\n",
      "[00:07.520 --> 00:10.240]  bezi e devo, da be d'er,\n",
      "[00:10.240 --> 00:13.840]  agei passei, bune chou, sii nei glor.\n",
      "[00:13.840 --> 00:14.960]  Mei mei mei sii nii?\n",
      "[00:14.960 --> 00:17.360]  Ja, nii nii rei tebou nii nii.\n",
      "[00:17.360 --> 00:20.680]  Azi, ai nii, ai nii sei passei,\n",
      "[00:20.680 --> 00:22.280]  apei mei sii, fini,\n",
      "[00:22.280 --> 00:24.120]  nus unkii te garni e varmei e s,\n",
      "[00:24.120 --> 00:26.640]  mei panagavei na wei hei kei,\n",
      "[00:26.640 --> 00:28.520]  e nanei en passei el,\n",
      "[00:28.520 --> 00:31.280]  ja, da la repu eem haro,\n",
      "[00:31.280 --> 00:32.880]  pörishele damen.\n",
      "Transcribing /home/ouassim/Desktop/ss/stage/Data/Banque sonore des Dialectes Bretonnes/Audio/Audio/utt_02622.wav...\n"
     ]
    },
    {
     "name": "stderr",
     "output_type": "stream",
     "text": [
      "/home/ouassim/anaconda3/envs/stt-breton/lib/python3.10/site-packages/whisper/transcribe.py:126: UserWarning: FP16 is not supported on CPU; using FP32 instead\n",
      "  warnings.warn(\"FP16 is not supported on CPU; using FP32 instead\")\n"
     ]
    },
    {
     "name": "stdout",
     "output_type": "stream",
     "text": [
      "[00:00.000 --> 00:01.740]  y mis druga imi bibi scarf\n",
      "Transcribing /home/ouassim/Desktop/ss/stage/Data/Banque sonore des Dialectes Bretonnes/Audio/Audio/utt_06817.wav...\n"
     ]
    },
    {
     "name": "stderr",
     "output_type": "stream",
     "text": [
      "/home/ouassim/anaconda3/envs/stt-breton/lib/python3.10/site-packages/whisper/transcribe.py:126: UserWarning: FP16 is not supported on CPU; using FP32 instead\n",
      "  warnings.warn(\"FP16 is not supported on CPU; using FP32 instead\")\n"
     ]
    },
    {
     "name": "stdout",
     "output_type": "stream",
     "text": [
      "[00:00.000 --> 00:03.000]  Pail 5 km\n",
      "Transcribing /home/ouassim/Desktop/ss/stage/Data/Banque sonore des Dialectes Bretonnes/Audio/Audio/utt_06634.wav...\n"
     ]
    },
    {
     "name": "stderr",
     "output_type": "stream",
     "text": [
      "/home/ouassim/anaconda3/envs/stt-breton/lib/python3.10/site-packages/whisper/transcribe.py:126: UserWarning: FP16 is not supported on CPU; using FP32 instead\n",
      "  warnings.warn(\"FP16 is not supported on CPU; using FP32 instead\")\n"
     ]
    },
    {
     "name": "stdout",
     "output_type": "stream",
     "text": [
      "[00:00.000 --> 00:13.340]  Av Papa van\n",
      "Transcribing /home/ouassim/Desktop/ss/stage/Data/Banque sonore des Dialectes Bretonnes/Audio/Audio/utt_02283.wav...\n"
     ]
    },
    {
     "name": "stderr",
     "output_type": "stream",
     "text": [
      "/home/ouassim/anaconda3/envs/stt-breton/lib/python3.10/site-packages/whisper/transcribe.py:126: UserWarning: FP16 is not supported on CPU; using FP32 instead\n",
      "  warnings.warn(\"FP16 is not supported on CPU; using FP32 instead\")\n"
     ]
    },
    {
     "name": "stdout",
     "output_type": "stream",
     "text": [
      "[00:00.000 --> 00:04.320]  Hوнес ,il mheeteng tchi 99 ˖ين\n",
      "[00:04.980 --> 00:06.180] encer\n",
      "[00:06.280 --> 00:06.380]  kolšan\n",
      "[00:09.580 --> 00:09.980]  ˖ventional\n",
      "Transcribing /home/ouassim/Desktop/ss/stage/Data/Banque sonore des Dialectes Bretonnes/Audio/Audio/utt_02268.wav...\n"
     ]
    },
    {
     "name": "stderr",
     "output_type": "stream",
     "text": [
      "/home/ouassim/anaconda3/envs/stt-breton/lib/python3.10/site-packages/whisper/transcribe.py:126: UserWarning: FP16 is not supported on CPU; using FP32 instead\n",
      "  warnings.warn(\"FP16 is not supported on CPU; using FP32 instead\")\n"
     ]
    },
    {
     "name": "stdout",
     "output_type": "stream",
     "text": [
      "[00:00.000 --> 00:03.360]  Yong生 fi,\n",
      "[00:03.360 --> 00:10.560]  q'laughe d Знаida la crash\n",
      "[00:12.060 --> 00:17.220]  tu pri کہ c'est tamb?\n",
      "[00:17.220 --> 00:19.220]  F哪裡?\n",
      "[00:20.020 --> 00:23.500]  Oufящio\n",
      "[00:23.800 --> 00:28.600]  Orga\n",
      "[00:29.560 --> 00:41.300]  cuộc seiner пери Brauna\n",
      "[00:41.300 --> 00:43.700]  Zagis visits to the beginning of the day\n",
      "[00:43.880 --> 00:46.580]  Valentimi's taken fortunes\n",
      "[00:46.840 --> 00:49.620]  e m'josh neredes tre\n",
      "[00:49.620 --> 00:51.420]  GOSTI f�� déntред End buds\n",
      "Transcribing /home/ouassim/Desktop/ss/stage/Data/Banque sonore des Dialectes Bretonnes/Audio/Audio/utt_02310.wav...\n"
     ]
    },
    {
     "name": "stderr",
     "output_type": "stream",
     "text": [
      "/home/ouassim/anaconda3/envs/stt-breton/lib/python3.10/site-packages/whisper/transcribe.py:126: UserWarning: FP16 is not supported on CPU; using FP32 instead\n",
      "  warnings.warn(\"FP16 is not supported on CPU; using FP32 instead\")\n"
     ]
    },
    {
     "name": "stdout",
     "output_type": "stream",
     "text": [
      "[00:00.280 --> 00:03.600]  Ma''Ulfé'rolle'n proud,\n",
      "[00:03.600 --> 00:05.760]  onkersol eilύ l'ten'men scree\n",
      "[00:05.960 --> 00:07.440]  dee ha'ller saan avant\n",
      "[00:07.440 --> 00:07.960]  tis agi de de de de re'mene\n",
      "[00:09.200 --> 00:10.760]  oops,\n",
      "[00:10.760 --> 00:11.680]  bolo'tl qu baskets\n",
      "[00:12.480 --> 00:13.680]  tr fringe\n",
      "[00:14.000 --> 00:16.740]  t tta'l a adam\n",
      "[00:17.000 --> 00:18.000]  ul vワ'l lol\n",
      "[00:18.560 --> 00:18.900]  Tay\n",
      "[00:22.260 --> 00:23.540]  milo twa tr zar\n",
      "[00:24.160 --> 00:26.960]  vwa'l ch'nj\n",
      "[00:26.960 --> 00:30.200]  Mması bropod m capacities quik mave kieli la reicht.\n",
      "[00:30.220 --> 00:35.580]  La kermi nendra dåClass officer ngomondu\n",
      "[00:35.900 --> 00:52.600]  Being a\n",
      "Transcribing /home/ouassim/Desktop/ss/stage/Data/Banque sonore des Dialectes Bretonnes/Audio/Audio/utt_06092.wav...\n"
     ]
    },
    {
     "name": "stderr",
     "output_type": "stream",
     "text": [
      "/home/ouassim/anaconda3/envs/stt-breton/lib/python3.10/site-packages/whisper/transcribe.py:126: UserWarning: FP16 is not supported on CPU; using FP32 instead\n",
      "  warnings.warn(\"FP16 is not supported on CPU; using FP32 instead\")\n"
     ]
    },
    {
     "name": "stdout",
     "output_type": "stream",
     "text": [
      "[00:00.000 --> 00:02.160]  I Alexander Y Russians\n",
      "[00:04.640 --> 00:29.180]  Band of the\n",
      "Transcribing /home/ouassim/Desktop/ss/stage/Data/Banque sonore des Dialectes Bretonnes/Audio/Audio/utt_01507.wav...\n"
     ]
    },
    {
     "name": "stderr",
     "output_type": "stream",
     "text": [
      "/home/ouassim/anaconda3/envs/stt-breton/lib/python3.10/site-packages/whisper/transcribe.py:126: UserWarning: FP16 is not supported on CPU; using FP32 instead\n",
      "  warnings.warn(\"FP16 is not supported on CPU; using FP32 instead\")\n"
     ]
    },
    {
     "name": "stdout",
     "output_type": "stream",
     "text": [
      "[00:00.000 --> 00:05.500]  Mery köz warum u mird com er\n",
      "Transcribing /home/ouassim/Desktop/ss/stage/Data/Banque sonore des Dialectes Bretonnes/Audio/Audio/utt_01888.wav...\n"
     ]
    },
    {
     "name": "stderr",
     "output_type": "stream",
     "text": [
      "/home/ouassim/anaconda3/envs/stt-breton/lib/python3.10/site-packages/whisper/transcribe.py:126: UserWarning: FP16 is not supported on CPU; using FP32 instead\n",
      "  warnings.warn(\"FP16 is not supported on CPU; using FP32 instead\")\n"
     ]
    },
    {
     "name": "stdout",
     "output_type": "stream",
     "text": [
      "[00:00.660 --> 00:02.160]  Hmitipusë je teetipusë\n",
      "[00:04.260 --> 00:06.260]  need asimbr runaune jo\n",
      "[00:06.780 --> 00:08.280]  me noako brunxta guar tuurhto\n",
      "[00:10.080 --> 00:11.800]  agos jus e gro past\n",
      "[00:14.340 --> 00:14.980]  agos jo fr白 thé\n",
      "[00:15.000 --> 00:16.240]  agos geis m sete\n",
      "[00:19.240 --> 00:19.740]  agos mæntrade\n",
      "Transcribing /home/ouassim/Desktop/ss/stage/Data/Banque sonore des Dialectes Bretonnes/Audio/Audio/utt_03881.wav...\n"
     ]
    },
    {
     "name": "stderr",
     "output_type": "stream",
     "text": [
      "/home/ouassim/anaconda3/envs/stt-breton/lib/python3.10/site-packages/whisper/transcribe.py:126: UserWarning: FP16 is not supported on CPU; using FP32 instead\n",
      "  warnings.warn(\"FP16 is not supported on CPU; using FP32 instead\")\n"
     ]
    },
    {
     "name": "stdout",
     "output_type": "stream",
     "text": [
      "[00:00.000 --> 00:02.500]  Tudist youre nonire hantjendrus\n",
      "Transcribing /home/ouassim/Desktop/ss/stage/Data/Banque sonore des Dialectes Bretonnes/Audio/Audio/utt_04680.wav...\n"
     ]
    },
    {
     "name": "stderr",
     "output_type": "stream",
     "text": [
      "/home/ouassim/anaconda3/envs/stt-breton/lib/python3.10/site-packages/whisper/transcribe.py:126: UserWarning: FP16 is not supported on CPU; using FP32 instead\n",
      "  warnings.warn(\"FP16 is not supported on CPU; using FP32 instead\")\n"
     ]
    },
    {
     "name": "stdout",
     "output_type": "stream",
     "text": [
      "[00:00.000 --> 00:02.660]  questi poece\n",
      "Transcribing /home/ouassim/Desktop/ss/stage/Data/Banque sonore des Dialectes Bretonnes/Audio/Audio/utt_06476.wav...\n"
     ]
    },
    {
     "name": "stderr",
     "output_type": "stream",
     "text": [
      "/home/ouassim/anaconda3/envs/stt-breton/lib/python3.10/site-packages/whisper/transcribe.py:126: UserWarning: FP16 is not supported on CPU; using FP32 instead\n",
      "  warnings.warn(\"FP16 is not supported on CPU; using FP32 instead\")\n"
     ]
    },
    {
     "name": "stdout",
     "output_type": "stream",
     "text": [
      "[00:00.000 --> 00:00.760]  Note tiene brugna ne Note\n",
      "Transcribing /home/ouassim/Desktop/ss/stage/Data/Banque sonore des Dialectes Bretonnes/Audio/Audio/utt_01554.wav...\n"
     ]
    },
    {
     "name": "stderr",
     "output_type": "stream",
     "text": [
      "/home/ouassim/anaconda3/envs/stt-breton/lib/python3.10/site-packages/whisper/transcribe.py:126: UserWarning: FP16 is not supported on CPU; using FP32 instead\n",
      "  warnings.warn(\"FP16 is not supported on CPU; using FP32 instead\")\n"
     ]
    },
    {
     "name": "stdout",
     "output_type": "stream",
     "text": [
      "[00:00.000 --> 00:04.160]  Moth na rinne雷naq, str ri Hunter Moore, ap utilized i geometry\n",
      "[00:04.160 --> 00:05.080]  energonug.\n",
      "[00:05.080 --> 00:15.520]  Av росo Hammer imagini me pic cette nodziata,\n",
      "[00:15.520 --> 00:18.500]  gan o?\n",
      "Transcribing /home/ouassim/Desktop/ss/stage/Data/Banque sonore des Dialectes Bretonnes/Audio/Audio/utt_04487.wav...\n"
     ]
    },
    {
     "name": "stderr",
     "output_type": "stream",
     "text": [
      "/home/ouassim/anaconda3/envs/stt-breton/lib/python3.10/site-packages/whisper/transcribe.py:126: UserWarning: FP16 is not supported on CPU; using FP32 instead\n",
      "  warnings.warn(\"FP16 is not supported on CPU; using FP32 instead\")\n"
     ]
    },
    {
     "name": "stdout",
     "output_type": "stream",
     "text": [
      "[00:00.000 --> 00:00.120] umpy4\n",
      "[00:01.120 --> 00:03.000]  de\n",
      "[00:04.600 --> 00:06.820]  LE Let Me\n",
      "Transcribing /home/ouassim/Desktop/ss/stage/Data/Banque sonore des Dialectes Bretonnes/Audio/Audio/utt_05275.wav...\n"
     ]
    },
    {
     "name": "stderr",
     "output_type": "stream",
     "text": [
      "/home/ouassim/anaconda3/envs/stt-breton/lib/python3.10/site-packages/whisper/transcribe.py:126: UserWarning: FP16 is not supported on CPU; using FP32 instead\n",
      "  warnings.warn(\"FP16 is not supported on CPU; using FP32 instead\")\n"
     ]
    },
    {
     "name": "stdout",
     "output_type": "stream",
     "text": [
      "[00:00.000 --> 00:03.140]  Hald el Chop C scale\n",
      "Transcribing /home/ouassim/Desktop/ss/stage/Data/Banque sonore des Dialectes Bretonnes/Audio/Audio/utt_03378.wav...\n"
     ]
    },
    {
     "name": "stderr",
     "output_type": "stream",
     "text": [
      "/home/ouassim/anaconda3/envs/stt-breton/lib/python3.10/site-packages/whisper/transcribe.py:126: UserWarning: FP16 is not supported on CPU; using FP32 instead\n",
      "  warnings.warn(\"FP16 is not supported on CPU; using FP32 instead\")\n"
     ]
    },
    {
     "name": "stdout",
     "output_type": "stream",
     "text": [
      "[00:00.000 --> 00:03.020]  Out.\n",
      "Transcribing /home/ouassim/Desktop/ss/stage/Data/Banque sonore des Dialectes Bretonnes/Audio/Audio/utt_06062.wav...\n"
     ]
    },
    {
     "name": "stderr",
     "output_type": "stream",
     "text": [
      "/home/ouassim/anaconda3/envs/stt-breton/lib/python3.10/site-packages/whisper/transcribe.py:126: UserWarning: FP16 is not supported on CPU; using FP32 instead\n",
      "  warnings.warn(\"FP16 is not supported on CPU; using FP32 instead\")\n"
     ]
    },
    {
     "name": "stdout",
     "output_type": "stream",
     "text": [
      "[00:00.000 --> 00:06.000]  Mambus visantiserys undert one is shown\n",
      "Transcribing /home/ouassim/Desktop/ss/stage/Data/Banque sonore des Dialectes Bretonnes/Audio/Audio/utt_01803.wav...\n"
     ]
    },
    {
     "name": "stderr",
     "output_type": "stream",
     "text": [
      "/home/ouassim/anaconda3/envs/stt-breton/lib/python3.10/site-packages/whisper/transcribe.py:126: UserWarning: FP16 is not supported on CPU; using FP32 instead\n",
      "  warnings.warn(\"FP16 is not supported on CPU; using FP32 instead\")\n"
     ]
    },
    {
     "name": "stdout",
     "output_type": "stream",
     "text": [
      "[00:00.040 --> 00:25.560]  Zainest Sergeant George\n",
      "Transcribing /home/ouassim/Desktop/ss/stage/Data/Banque sonore des Dialectes Bretonnes/Audio/Audio/utt_02548.wav...\n"
     ]
    },
    {
     "name": "stderr",
     "output_type": "stream",
     "text": [
      "/home/ouassim/anaconda3/envs/stt-breton/lib/python3.10/site-packages/whisper/transcribe.py:126: UserWarning: FP16 is not supported on CPU; using FP32 instead\n",
      "  warnings.warn(\"FP16 is not supported on CPU; using FP32 instead\")\n"
     ]
    },
    {
     "name": "stdout",
     "output_type": "stream",
     "text": [
      "[00:00.000 --> 00:01.000]  Brand.\n",
      "Transcribing /home/ouassim/Desktop/ss/stage/Data/Banque sonore des Dialectes Bretonnes/Audio/Audio/utt_00087.wav...\n"
     ]
    },
    {
     "name": "stderr",
     "output_type": "stream",
     "text": [
      "/home/ouassim/anaconda3/envs/stt-breton/lib/python3.10/site-packages/whisper/transcribe.py:126: UserWarning: FP16 is not supported on CPU; using FP32 instead\n",
      "  warnings.warn(\"FP16 is not supported on CPU; using FP32 instead\")\n"
     ]
    },
    {
     "name": "stdout",
     "output_type": "stream",
     "text": [
      "[00:00.000 --> 00:03.520] singing\n",
      "[00:03.520 --> 00:06.520]  find\n",
      "Transcribing /home/ouassim/Desktop/ss/stage/Data/Banque sonore des Dialectes Bretonnes/Audio/Audio/utt_01964.wav...\n"
     ]
    },
    {
     "name": "stderr",
     "output_type": "stream",
     "text": [
      "/home/ouassim/anaconda3/envs/stt-breton/lib/python3.10/site-packages/whisper/transcribe.py:126: UserWarning: FP16 is not supported on CPU; using FP32 instead\n",
      "  warnings.warn(\"FP16 is not supported on CPU; using FP32 instead\")\n"
     ]
    },
    {
     "name": "stdout",
     "output_type": "stream",
     "text": [
      "[00:00.000 --> 00:02.600]  Dalki boendeur galipat muessen.\n",
      "Transcribing /home/ouassim/Desktop/ss/stage/Data/Banque sonore des Dialectes Bretonnes/Audio/Audio/utt_06088.wav...\n"
     ]
    },
    {
     "name": "stderr",
     "output_type": "stream",
     "text": [
      "/home/ouassim/anaconda3/envs/stt-breton/lib/python3.10/site-packages/whisper/transcribe.py:126: UserWarning: FP16 is not supported on CPU; using FP32 instead\n",
      "  warnings.warn(\"FP16 is not supported on CPU; using FP32 instead\")\n"
     ]
    },
    {
     "name": "stdout",
     "output_type": "stream",
     "text": [
      "[00:00.000 --> 00:01.640]  Crvrrrbud!\n",
      "Transcribing /home/ouassim/Desktop/ss/stage/Data/Banque sonore des Dialectes Bretonnes/Audio/Audio/utt_02024.wav...\n"
     ]
    },
    {
     "name": "stderr",
     "output_type": "stream",
     "text": [
      "/home/ouassim/anaconda3/envs/stt-breton/lib/python3.10/site-packages/whisper/transcribe.py:126: UserWarning: FP16 is not supported on CPU; using FP32 instead\n",
      "  warnings.warn(\"FP16 is not supported on CPU; using FP32 instead\")\n"
     ]
    },
    {
     "name": "stdout",
     "output_type": "stream",
     "text": [
      "[00:00.000 --> 00:03.200]  Pajon vujenam, jona kei rumiz,\n",
      "[00:03.200 --> 00:06.400]  jona kei mori, jona kei femerso,\n",
      "[00:06.400 --> 00:09.220]  meiso velane,\n",
      "[00:09.220 --> 00:11.700]  jona kei femerso, barmugu,\n",
      "[00:11.700 --> 00:14.700]  dun duana, barmugu,\n",
      "[00:14.700 --> 00:16.700]  jona kei rumiz.\n",
      "Transcribing /home/ouassim/Desktop/ss/stage/Data/Banque sonore des Dialectes Bretonnes/Audio/Audio/utt_01718.wav...\n"
     ]
    },
    {
     "name": "stderr",
     "output_type": "stream",
     "text": [
      "/home/ouassim/anaconda3/envs/stt-breton/lib/python3.10/site-packages/whisper/transcribe.py:126: UserWarning: FP16 is not supported on CPU; using FP32 instead\n",
      "  warnings.warn(\"FP16 is not supported on CPU; using FP32 instead\")\n"
     ]
    },
    {
     "name": "stdout",
     "output_type": "stream",
     "text": [
      "[00:00.000 --> 00:02.200]  Hose ne shun nerg keer beni,\n",
      "[00:02.600 --> 00:04.600]  ne shun nerg keer beni,\n",
      "Transcribing /home/ouassim/Desktop/ss/stage/Data/Banque sonore des Dialectes Bretonnes/Audio/Audio/utt_03454.wav...\n"
     ]
    },
    {
     "name": "stderr",
     "output_type": "stream",
     "text": [
      "/home/ouassim/anaconda3/envs/stt-breton/lib/python3.10/site-packages/whisper/transcribe.py:126: UserWarning: FP16 is not supported on CPU; using FP32 instead\n",
      "  warnings.warn(\"FP16 is not supported on CPU; using FP32 instead\")\n"
     ]
    },
    {
     "name": "stdout",
     "output_type": "stream",
     "text": [
      "[00:00.000 --> 00:02.120]  De novo Pikachu\n",
      "Transcribing /home/ouassim/Desktop/ss/stage/Data/Banque sonore des Dialectes Bretonnes/Audio/Audio/utt_04323.wav...\n"
     ]
    },
    {
     "name": "stderr",
     "output_type": "stream",
     "text": [
      "/home/ouassim/anaconda3/envs/stt-breton/lib/python3.10/site-packages/whisper/transcribe.py:126: UserWarning: FP16 is not supported on CPU; using FP32 instead\n",
      "  warnings.warn(\"FP16 is not supported on CPU; using FP32 instead\")\n"
     ]
    },
    {
     "name": "stdout",
     "output_type": "stream",
     "text": [
      "[00:00.000 --> 00:03.360]  постро shedagor Cadrio...\n",
      "Transcribing /home/ouassim/Desktop/ss/stage/Data/Banque sonore des Dialectes Bretonnes/Audio/Audio/utt_05981.wav...\n"
     ]
    },
    {
     "name": "stderr",
     "output_type": "stream",
     "text": [
      "/home/ouassim/anaconda3/envs/stt-breton/lib/python3.10/site-packages/whisper/transcribe.py:126: UserWarning: FP16 is not supported on CPU; using FP32 instead\n",
      "  warnings.warn(\"FP16 is not supported on CPU; using FP32 instead\")\n"
     ]
    },
    {
     "name": "stdout",
     "output_type": "stream",
     "text": [
      "[00:00.000 --> 00:01.600]  Þrtea o Ity,\n",
      "[00:02.560 --> 00:06.200]   Our governments want to win oui while he wants to become the military Chief,\n",
      "[00:06.200 --> 00:08.480]  when they back out there,\n",
      "[00:08.480 --> 00:10.480]  and someone who doesn't want to use the gun,\n",
      "[00:10.480 --> 00:13.080]  someone who loves the gun,\n",
      "[00:13.080 --> 00:15.600]  the gun weMay not want,\n",
      "[00:15.600 --> 00:24.080]  it's impossible for them to step and kill the gun.\n",
      "[00:24.080 --> 00:25.440]  That's what happened.\n",
      "[00:26.000 --> 00:28.440]  And now we have to result in\n",
      "[00:28.440 --> 00:34.860]  M'n s'aulèg, a mod l'îge on bas, a nos allermes,\n",
      "[00:34.860 --> 00:37.740]  a p's'o'n'te, a z'o'k'a récupè'o, a vid'e g'a'g'a'n p'v'é,\n",
      "[00:38.000 --> 00:40.080] uxe de Xavier Vii L'Alouetto.\n",
      "[00:40.220 --> 00:42.720]  C'est fort 5'8EX buro.\n",
      "[00:43.520 --> 01:07.360]  PLACE\n",
      "Transcribing /home/ouassim/Desktop/ss/stage/Data/Banque sonore des Dialectes Bretonnes/Audio/Audio/utt_05148.wav...\n"
     ]
    },
    {
     "name": "stderr",
     "output_type": "stream",
     "text": [
      "/home/ouassim/anaconda3/envs/stt-breton/lib/python3.10/site-packages/whisper/transcribe.py:126: UserWarning: FP16 is not supported on CPU; using FP32 instead\n",
      "  warnings.warn(\"FP16 is not supported on CPU; using FP32 instead\")\n"
     ]
    },
    {
     "name": "stdout",
     "output_type": "stream",
     "text": [
      "[00:00.000 --> 00:03.000]  Lukuukezi ʻgloumannwith slumi Greek lid\n",
      "[00:03.000 --> 00:03.540]  et g like a glou\n",
      "[00:03.560 --> 00:04.960]  hagin' nheu den du deen\n",
      "[00:05.000 --> 00:06.240]  ke n染z elfalk\n",
      "Transcribing /home/ouassim/Desktop/ss/stage/Data/Banque sonore des Dialectes Bretonnes/Audio/Audio/utt_02925.wav...\n"
     ]
    },
    {
     "name": "stderr",
     "output_type": "stream",
     "text": [
      "/home/ouassim/anaconda3/envs/stt-breton/lib/python3.10/site-packages/whisper/transcribe.py:126: UserWarning: FP16 is not supported on CPU; using FP32 instead\n",
      "  warnings.warn(\"FP16 is not supported on CPU; using FP32 instead\")\n"
     ]
    },
    {
     "name": "stdout",
     "output_type": "stream",
     "text": [
      "[00:00.000 --> 00:02.000]  Who,\n",
      "[00:02.420 --> 00:04.420]  And mext to the mice\n",
      "[00:13.080 --> 00:24.520]  i\n",
      "Transcribing /home/ouassim/Desktop/ss/stage/Data/Banque sonore des Dialectes Bretonnes/Audio/Audio/utt_02251.wav...\n"
     ]
    },
    {
     "name": "stderr",
     "output_type": "stream",
     "text": [
      "/home/ouassim/anaconda3/envs/stt-breton/lib/python3.10/site-packages/whisper/transcribe.py:126: UserWarning: FP16 is not supported on CPU; using FP32 instead\n",
      "  warnings.warn(\"FP16 is not supported on CPU; using FP32 instead\")\n"
     ]
    },
    {
     "name": "stdout",
     "output_type": "stream",
     "text": [
      "[00:00.000 --> 00:07.000]  Mephizrari, zuban, koss, bika, maschani du zunzen,\n",
      "[00:07.000 --> 00:11.000]  plomodernag du hitari, zunibra du,\n",
      "[00:11.000 --> 00:13.000]  medjimantitosun tierne,\n",
      "[00:13.000 --> 00:16.000]  me zizur, me zizur, me tosu zidi.\n",
      "Transcribing /home/ouassim/Desktop/ss/stage/Data/Banque sonore des Dialectes Bretonnes/Audio/Audio/utt_05777.wav...\n"
     ]
    },
    {
     "name": "stderr",
     "output_type": "stream",
     "text": [
      "/home/ouassim/anaconda3/envs/stt-breton/lib/python3.10/site-packages/whisper/transcribe.py:126: UserWarning: FP16 is not supported on CPU; using FP32 instead\n",
      "  warnings.warn(\"FP16 is not supported on CPU; using FP32 instead\")\n"
     ]
    },
    {
     "name": "stdout",
     "output_type": "stream",
     "text": [
      "[00:00.080 --> 00:01.720]  Bide on Deieveatte ...\n",
      "[00:01.720 --> 00:03.740]  Z� Scene Rosa'u no chrome de ba pounding\n",
      "Transcribing /home/ouassim/Desktop/ss/stage/Data/Banque sonore des Dialectes Bretonnes/Audio/Audio/utt_06815.wav...\n"
     ]
    },
    {
     "name": "stderr",
     "output_type": "stream",
     "text": [
      "/home/ouassim/anaconda3/envs/stt-breton/lib/python3.10/site-packages/whisper/transcribe.py:126: UserWarning: FP16 is not supported on CPU; using FP32 instead\n",
      "  warnings.warn(\"FP16 is not supported on CPU; using FP32 instead\")\n"
     ]
    },
    {
     "name": "stdout",
     "output_type": "stream",
     "text": [
      "[00:00.840 --> 00:03.760]  believed\n",
      "[00:03.800 --> 00:05.680]  Andre\n",
      "[00:05.740 --> 00:06.880]  you\n",
      "Transcribing /home/ouassim/Desktop/ss/stage/Data/Banque sonore des Dialectes Bretonnes/Audio/Audio/utt_06453.wav...\n"
     ]
    },
    {
     "name": "stderr",
     "output_type": "stream",
     "text": [
      "/home/ouassim/anaconda3/envs/stt-breton/lib/python3.10/site-packages/whisper/transcribe.py:126: UserWarning: FP16 is not supported on CPU; using FP32 instead\n",
      "  warnings.warn(\"FP16 is not supported on CPU; using FP32 instead\")\n"
     ]
    },
    {
     "name": "stdout",
     "output_type": "stream",
     "text": [
      "[00:00.000 --> 00:04.600]  Spoiltor – Abdul-Sやって!\n",
      "[00:04.600 --> 00:28.840]  Ambienti Krothilich\n"
     ]
    }
   ],
   "source": [
    "# Step 1: Filter where city starts with '22'\n",
    "# df_22 = df[df['city'].astype(str).str.startswith('22')].copy()\n",
    "\n",
    "# Step 2: Add a 'file' column with the original index\n",
    "small_df['file'] = small_df.index\n",
    "\n",
    "small_df['transcription'] = small_df.apply(generate_transcription, axis=1)\n",
    "\n",
    "# Optional: Reset index for a clean new DataFrame\n",
    "small_df = small_df.reset_index(drop=True)"
   ]
  },
  {
   "cell_type": "code",
   "execution_count": 12,
   "id": "cc43a987",
   "metadata": {},
   "outputs": [
    {
     "data": {
      "application/vnd.microsoft.datawrangler.viewer.v0+json": {
       "columns": [
        {
         "name": "index",
         "rawType": "int64",
         "type": "integer"
        },
        {
         "name": "br",
         "rawType": "object",
         "type": "string"
        },
        {
         "name": "fr",
         "rawType": "object",
         "type": "string"
        },
        {
         "name": "city",
         "rawType": "object",
         "type": "string"
        },
        {
         "name": "file",
         "rawType": "int64",
         "type": "integer"
        },
        {
         "name": "transcription",
         "rawType": "object",
         "type": "string"
        }
       ],
       "ref": "924e6f47-6be4-459e-8d9b-8bb0f0a142da",
       "rows": [
        [
         "0",
         "ur c'harzh",
         "une haie",
         "29032",
         "1057",
         " therefore"
        ],
        [
         "1",
         "Mari zo deuet a-benn enno antronoz.",
         "Marie est venue vers eux le lendemain.",
         "29168",
         "2654",
         " Mori, aso du benen internoos."
        ],
        [
         "2",
         "An amzer gwechall, ne oa... ne oa ket, eu... ne oa ket memes mod.",
         "Autrefois, c'était... c'était, euh... ça n'était pas pareil.",
         "29230",
         "4401",
         " exams ordurue shele boister what she's imagined"
        ],
        [
         "3",
         "Piv zo bet o troc'hiñ ar wezenn ?",
         "Qui a coupé l'arbre ?",
         "29293",
         "5843",
         " Cubâtsalthoulo"
        ],
        [
         "4",
         "Pa oufemp ar wirionez, n'he lavarfemp ket.",
         "Si nous savions la vérité, nous ne la dirions pas.",
         "56175",
         "7177",
         " dint abolieменenar einsod"
        ],
        [
         "5",
         "Int zo o joentrañ ar mein e-barzh ar vur.",
         "Ils sont en train de joindre les pierres du mur.",
         "29230",
         "3805",
         " He's as shwente un mine besuich..."
        ],
        [
         "6",
         "A-benn em eus labouret em eus gounezet ma fae.",
         "Quand j'ai travaillé, j'ai gagné ma paie.",
         "29230",
         "3961",
         " Ben Mirz Laburot Musgon ich der Mitte."
        ],
        [
         "7",
         "Un amzer zo bet, eu, dour ar feunteun a rede e-barzh ar prad.",
         "Fut un temps, euh, l'eau de la fontaine coulait dans la prairie.",
         "56057",
         "6147",
         " consumption bill"
        ],
        [
         "8",
         "A-wechoù em eus poan-benn diouzh ar pardaez.",
         "Parfois j'ai mal à la tête le soir.",
         "29180",
         "3551",
         " a they should must one bend the eye. the herbo artist'"
        ],
        [
         "9",
         "gris loued",
         "bleu grisonnant",
         "29153",
         "2413",
         " Hello 9"
        ],
        [
         "10",
         "A-vuzul e kosha, e teu muioc'h a spered dezhañ.",
         "Plus il vieillit, plus il devient intelligent.",
         "22167",
         "185",
         " Aves yvrQUA tamir vaître pump."
        ],
        [
         "11",
         "Ah, ar glesker a oa bet kuzhet marteze e-barzh ar c'holi ? n'ouzon ket ; boñ, amañ emañ tout an dud bremañ neuze, bez' emañ ar mous, bez' emañ ar glesker bihan, hag an hini vras, fougeet ivez, an tortu hag ar c'hi, ar c'hi zo da, ar c'hi n'en deus ket an aer bezañ gwall seder anezhañ, marteze ar c'hi n'en deus ket bet netra, n'ouzon ket.",
         "Ah, ar glesker a oa bet kuzhet marteze e-barzh ar c'holi ? n'ouzon ket ; boñ, amañ emañ tout an dud bremañ neuze, bez' emañ ar mous, bez' emañ ar glesker bihan, hag an hini vras, fougeet ivez, an tortu hag ar c'hi, ar c'hi zo da, ar c'hi n'en deus ket an aer bezañ gwall seder anezhañ, marteze ar c'hi n'en deus ket bet netra, n'ouzon ket.",
         "29122",
         "1221",
         " Aehhh, ai, ae clayska warbikk then, ae te bahag holi nushin, bo ha leftor duun constitue Ne, dec man bus. Mea clayska dataset nui invasgod son, ff ид e lionschit, tar tuekцион' ke shish otte beh buit"
        ],
        [
         "12",
         "Evit Gouel an Ollzent ar bloaz tremenet, ec'h oa muioc'h a... a bokedoù er... er vered... evit ar bloaz-mañ.",
         "À la Toussaint l'année dernière, il y avait plus de... de fleurs au... au cimetière... que cette année.",
         "22107",
         "61",
         " Vigule Null Magazine Blethяд❤️ X Y X Y X Y Y"
        ],
        [
         "13",
         "Te zo bet o teskiñ debriñ korriged e-barzh bro ar Mokoied¹ !",
         "Te zo bet o teskiñ debriñ korriged e-barzh bro ar Mokoied¹ !",
         "29150",
         "2328",
         " Ceis'la au-g geite."
        ],
        [
         "14",
         "Me a lavarfe, me a lavarfe, bremañ, me a wel anezho evel rouanezed, ha ur seurt ne chomont ket, war ar maez !",
         "Me a lavarfe, me a lavarfe, bremañ, me a wel anezho evel rouanezed, ha ur seurt ne chomont ket, war ar maez !",
         "56089",
         "6524",
         " Millar"
        ],
        [
         "15",
         "Ah mes, e-barzh amañ ez omp e-barzh Goured al Lojoù ;<br/>hag, e-barzh aze, dreist ar, vardell-se zo, zo un espes lenn ivez kar, ar stêr a lenn kwa ;<br/>an hini kaoz e-barzh-amañ e oa ul lec'h neuze, e-barzh an tu all evit lakaat kizelloù, gwel-, gwelet e vez ar, ar vur heñ ;<br/> mes bout zo euh, bout zo ur goured, ne welit ket, ar goured euh a base etre, etre an daou biler ;<br/>an hini kaoz hennezh, aze e veze lakaet kizelloù, gwel-, gwelet a vez heñ ;<br/>kaoz ar c'hizelloù a veze staget ouzh euh, ouzh ar voger kwa, ouzh, ouzh ar murioù kwa, hag hennezh a oa ul lec'h evit tapout silioù a-font ;<br/>hennezh zo bet evel-se ha, hag unan seurt-se zo c'hoazh, a-benn euh, pa erruit izeloc'h evit Milin Poulhibed du-se zo unan seurt-se c'hoazh, ur, mes n'eo ket e-barzh ar memes model, eñ zo plomoc'h kwa, hag e oa tout ar re-se a oa graet a-espres evit la-, evit tapout silioù.",
         "Ah mes, e-barzh amañ ez omp e-barzh Goured al Lojoù ;<br/>hag, e-barzh aze, dreist ar, vardell-se zo, zo un espes lenn ivez kar, ar stêr a lenn kwa ;<br/>an hini kaoz e-barzh-amañ e oa ul lec'h neuze, e-barzh an tu all evit lakaat kizelloù, gwel-, gwelet e vez ar, ar vur heñ ;<br/> mes bout zo euh, bout zo ur goured, ne welit ket, ar goured euh a base etre, etre an daou biler ;<br/>an hini kaoz hennezh, aze e veze lakaet kizelloù, gwel-, gwelet a vez heñ ;<br/>kaoz ar c'hizelloù a veze staget ouzh euh, ouzh ar voger kwa, ouzh, ouzh ar murioù kwa, hag hennezh a oa ul lec'h evit tapout silioù a-font ;<br/>hennezh zo bet evel-se ha, hag unan seurt-se zo c'hoazh, a-benn euh, pa erruit izeloc'h evit Milin Poulhibed du-se zo unan seurt-se c'hoazh, ur, mes n'eo ket e-barzh ar memes model, eñ zo plomoc'h kwa, hag e oa tout ar re-se a oa graet a-espres evit la-, evit tapout silioù.",
         "56014",
         "6082",
         " 4. Af этомgettis 4. Afнулas 4. Afolges 5. Af Mercury 6. Af entertainment 6. Afoti noble 6. Afumсти 6. Af beauty 6. Afiti Duleve, hizala, hiztage, dörvangui, dörmuriau, Hinawala, hiztapuzia, wafon. Hinawala, hiztapuzia, wafon. Hinawala, hiztapuzia, wafon. Hinawala, hiztapuzia, wafon. Hinawala, hiztapuzia, wafon. Hinawala, hiztapuzia, wafon. Hinawala, hiztapuzia, wafon. Hinawala, hiztapuzia, wafon. Hinawala, hiztapuzia, wafon. Hinawala, hiztapuzia, wafon."
        ],
        [
         "16",
         "Ma breur zo ganet tri bloaz war o lerc'h.",
         "Mon frère est né 3 ans après eux.",
         "29230",
         "3934",
         " Me brûr se gan trie bla aluminum atlèr."
        ],
        [
         "17",
         "Un amzer zo bet, ni n'ajemp ket d'ar skol d'ar yaou.",
         "Autrefois, nous n'allions pas à l'école le jeudi.",
         "29230",
         "4128",
         " Names of subit, nini senti de school de Rio."
        ],
        [
         "18",
         "Eu, me am eus soñj, a-benn e oan e-barzh... a-benn e oan yaouank... ha krennbaotr memes... lar, eu... an devezh, eu, Gouel, eu... Nedeleg, eh beñ, e yae an traoù da... an oferenn hanter-noz ha neuze, eu... pa veze, eu... deuet an dud d'ar gêr, beñ, e veze degaset, eu... ur vriochenn, a-wechoù, un aval-orañj pe... a-wechoù e veze degaset ivez ur mabig Jezuz, un tammig, eu... gant... graet gant sukr ha neuze, eu... an dra-se e oa... dija un dra... \"un dra gaer\" e veze lavaret ! Ha neuze da... da vintin, te a gave an dra-se tout e-barzh da votez-koad, kar pa... a-benn e oa... da... d'an devezh a-raok, te az poa naetaet, e veze lavaret dit :<br/>\"Ah paotr ! Te ema dav dit naetaat da vo-... da voutoù-lêr pe da... da voutoù-koad, surtout boutoù-koad, dav(?) kaout anezhe prop, lakaat un tammig plouz fresk e-barzh anezhe ha neuze, eu... a-benn warc'hoazh vitin, beñ, eu... e vo... marteze, eu... e vo d-... e kavi un dra-bennak e-barzh da... e-barzh da votez-koad, kwa.\"<br/>Ha neuze, eu... boñ beñ... alies, eu... dija atav memes e veze kavet, eu... hag an dra-se a oa un dra gaer... lar... evit ur c'hrouadur da welet... da gaout an dra-se e-barzh e votez-koad. Hag an dra-se a oa e-barzh... met... a-hend-all... ha neuze, eu... d'an devezh, eu... e veze graet un tammig, eu... mañjer, eu... eu, gwelloc'h a-wechoù evit, eu... an devezhioù-all. E veze lakeet ur yar pe ur c'hog da boazhañ ha neuze, eu... e veze kavet ar soubenn d'ober un daou pe dri devezh war-lerc'h... ah... an dra-se a oa... an dra-se a oa dija ur fest ! Ya...",
         "Eu, me am eus soñj, a-benn e oan e-barzh... a-benn e oan yaouank... ha krennbaotr memes... lar, eu... an devezh, eu, Gouel, eu... Nedeleg, eh beñ, e yae an traoù da... an oferenn hanter-noz ha neuze, eu... pa veze, eu... deuet an dud d'ar gêr, beñ, e veze degaset, eu... ur vriochenn, a-wechoù, un aval-orañj pe... a-wechoù e veze degaset ivez ur mabig Jezuz, un tammig, eu... gant... graet gant sukr ha neuze, eu... an dra-se e oa... dija un dra... \"un dra gaer\" e veze lavaret ! Ha neuze da... da vintin, te a gave an dra-se tout e-barzh da votez-koad, kar pa... a-benn e oa... da... d'an devezh a-raok, te az poa naetaet, e veze lavaret dit :<br/>\"Ah paotr ! Te ema dav dit naetaat da vo-... da voutoù-lêr pe da... da voutoù-koad, surtout boutoù-koad, dav(?) kaout anezhe prop, lakaat un tammig plouz fresk e-barzh anezhe ha neuze, eu... a-benn warc'hoazh vitin, beñ, eu... e vo... marteze, eu... e vo d-... e kavi un dra-bennak e-barzh da... e-barzh da votez-koad, kwa.\"<br/>Ha neuze, eu... boñ beñ... alies, eu... dija atav memes e veze kavet, eu... hag an dra-se a oa un dra gaer... lar... evit ur c'hrouadur da welet... da gaout an dra-se e-barzh e votez-koad. Hag an dra-se a oa e-barzh... met... a-hend-all... ha neuze, eu... d'an devezh, eu... e veze graet un tammig, eu... mañjer, eu... eu, gwelloc'h a-wechoù evit, eu... an devezhioù-all. E veze lakeet ur yar pe ur c'hog da boazhañ ha neuze, eu... e veze kavet ar soubenn d'ober un daou pe dri devezh war-lerc'h... ah... an dra-se a oa... an dra-se a oa dija ur fest ! Ya...",
         "29153",
         "2344",
         " Meme s'enjë beu m'emba de m'o'ionk, crënbëot m'emis, la ralmdeus quil nëlëk, a bënë, iën trou de naferna runus, a neusë, pëvëdë, dëdë dënëër, maënë vëdëestëvrioësën, vëëjësëvnë, nëolërënjë, pëëjësëvëdëestëdëm, mistënë, máabighjë jëj justjë, Sixtëhënë, nënzë ottë i jënndra? Nação jëtre her dui besë.. etë.. etë..ë.. enë.. malgoshë c hire eh indre a allegëdë lerëggke bjëdë, cpletë, dëoo en ou cvoce mawisëjë wollte entë truriafërdë, cры�o amfrë alluëe dëgoë agë potë, potë ja adaptë fra iëânëm syyëllig midsegë... M'n matresa, gainadanik, bade mardvorskot, hanazar, bomba, alisma, bizetau, mums, viqa'et, nazwa, nardagair, alar, viqa'et, gau'n dat, bai vorskot, hanazwa, m'n, nardal, hanazwa, den deuz, viqa'et, m'n, m'n, r' v'ala, rej, viqa'et, viqa'et, viqa'et, gau'et, nazwa, viqa'et, zum, nardal, viqa'et, gau'et, gau'et, nardal, nardal, nardal, nardal,"
        ],
        [
         "19",
         "Tuet d'an douar ur seurt, ne oamp ket heu, ne oamp ket pesketaerien heu, ni a oa...",
         "Tournés vers la terre quand même, nous n'étions pas heu, nous n'étions pas des pêcheurs heu, nous étions...",
         "56094",
         "6771",
         " el shorter ankle"
        ],
        [
         "20",
         "Eu, an uioù-se zo dozvet gant ma yar wenn.",
         "Euh, ces oeufs-là ont été pondus par ma poule blanche.",
         "29230",
         "4539",
         " Nu gir sosildohu pod aunque mingyig affordio huh"
        ],
        [
         "21",
         "Al levrioù-mañ zo ker, pegement eo ar re-se ?",
         "Ces livres-ci sont chers, combien coûtent ceux-là ?",
         "22331",
         "544",
         " Leveria broadcast transport and language is a problem with rotation getting worse and worse."
        ],
        [
         "22",
         "Ar bal zo aet a-dreuz kaer.",
         "La pelle a fini toute tordue.",
         "29230",
         "3647",
         " Ball, so I Trushgear"
        ],
        [
         "23",
         "Me zo o vont da skubañ ma zi a-benn e vi aet kuit.",
         "Je vais balayer ma maison quand tu seras parti.",
         "29150",
         "1670",
         " Nu don′t难, bist见, kend<|cs|>"
        ],
        [
         "24",
         "Ah... te az peus troc'het un tamm da lakaat aze, a-gaoz e oan o vont da lavar, n'ema ket staget tu ebet anezhañ !",
         "Ah... te az peus troc'het un tamm da lakaat aze, a-gaoz e oan o vont da lavar, n'ema ket staget tu ebet anezhañ !",
         "29150",
         "1465",
         " Áęapplast 40 gens, 21這樣"
        ],
        [
         "25",
         "Euh, euh, ouzh ouzh o favioù ? Ya, e veze lakaet ul, ul, ul liver. Petra a vez lavaret eus an dra-se e, e galleg ?",
         "Euh, euh, ouzh ouzh o favioù ? Ya, e veze lakaet ul, ul, ul liver. Petra a vez lavaret eus an dra-se e, e galleg ?",
         "29168",
         "3463",
         " Adrienidうん Alili"
        ],
        [
         "26",
         "Pa yaen da welet va breur-kaer, eñv a gonte din istorioù eus... les... diouzh al lutin.",
         "Quand j'allais voir mon beau-frère, il me racontait des histoires de lutins.",
         "29168",
         "2778",
         " païna verteveye bom expenditures he pho Shadowیا dependance"
        ],
        [
         "27",
         "N'eus ket e-leizh bugale hag a oa brezhoneg.",
         "Il n'y a pas beaucoup d'enfants qui savent le breton.",
         "29153",
         "2492",
         " neden"
        ],
        [
         "28",
         "Ki ivez, un amzer ki a ve bet lavaret, ya. Fall amzer peotramant un amzer ki.",
         "Ki ivez, un amzer ki a ve bet lavaret, ya. Fall amzer peotramant un amzer ki.",
         "56116",
         "6966",
         " Choyu hěu'u n'hèu'u'uq cha'یک cueu qui ble beneficay"
        ],
        [
         "29",
         "N'ho peus ket graet ar pezh am boa lavaret deoc'h.",
         "Vous n'avez pas fait ce que je vous avais dit.",
         "29236",
         "4666",
         " Pueche gruët pismalardor."
        ],
        [
         "30",
         "Muioc'h a dud e oant dec'h e-barzh an overenn.",
         "Ils étaient plus de monde hier à la messe.",
         "29032",
         "994",
         " mindful mind seems nice,"
        ],
        [
         "31",
         "Ar voazined zo deuet d'ober an dornerezh.",
         "Les voisins sont venus faire le battage.",
         "56175",
         "7118",
         " Garuen Grant le Mwan produto"
        ],
        [
         "32",
         "Dec'h, ni hor boa gwelet e vreur gantañ.",
         "Hier, nous avions vu son frère avec lui.",
         "29230",
         "4011",
         " Derny, Meduelle, Vrueur, Gaton."
        ],
        [
         "33",
         "Dont a rehet, da ma gwel (gwelet), a-benn ur miz ac'hann-amañ.",
         "Tu viendras me voir dans un mois.",
         "22167",
         "177",
         " Dhona ryeit ue de me Qoeil beno Ni'za Diosan panel"
        ],
        [
         "34",
         "Gra ur bouch din !",
         "Fais-moi un bisou !",
         "29150",
         "1737",
         " Krabušteo!"
        ],
        [
         "35",
         "Eu... oui, ya... me zo o vont da lavar dit lar me am eus, eu... ur c'hou-... ur c'houzeñ jermen da ma mamm... hag, eu... zo bet lazhet... e oa kouezhet... kouezhet ar... ar wern hag a oa ar vizan dalc'h diouti hag ar... ar wern zo kouezhet hag he deus lazhet °na-... ar paotr yaouank, war-c'horre ar vag.",
         "Eu... oui, ya... me zo o vont da lavar dit lar me am eus, eu... ur c'hou-... ur c'houzeñ jermen da ma mamm... hag, eu... zo bet lazhet... e oa kouezhet... kouezhet ar... ar wern hag a oa ar vizan dalc'h diouti hag ar... ar wern zo kouezhet hag he deus lazhet °na-... ar paotr yaouank, war-c'horre ar vag.",
         "29150",
         "1615",
         " Ummm... People from Greece don't get bored of us and sometimes find something! The Indian people are themselves in my class- but Vitality is also in my class like this, it's like we're living appreciated."
        ],
        [
         "36",
         "An dra-se zo lavaret \"payer cash\", paeet diouzhtu, kwa. Hag an arc'hant war ar peul. Abalamour gwechall, pa'z eer d'ar foar gant ur marc'h pe ur vuoc'h, e veze plantet peulioù deomp gant... tud... gant... kantonierien kêr, kwa, a lakae peulioù hag e veze staget ar marc'h pe a... setu, e veze kontet an arc'hant war ar peul peogwir ne oa taol ebet. Ya, e veze kountet war ar peul a dalveze da stagañ ar marc'h pe ar vuoc'h, eo war ar peul-se a oa plat ar penn e veze kontet ar gwenneien war-gorre... pa veze prenet ur vuoc'h.",
         "Cela se dit \"payer cash\", payé tout de suite, quoi. Et l'argent sur le pieu. Parce qu'autrefois, quand on allait à la foire avec un cheval ou une vache, les gens, les cantoniers municipaux nous plantaient des pieux, quoi. Ils mettaient des pieux et on attachait le cheval ou... ainsi, on comptait l'argent sur le pieu puisqu'il n'y avait aucune table. Oui, on comptait sur le pieu... qui servait à attacher le cheval ou la vache. C'est sur ce pieu-là dont ta tête était plate qu'on comptait les sous par-dessus... quand on achetait une vache.",
         "29239",
         "4700",
         " Andreiaiaiaiaiaiaiaiaia iaia,ai Michikeius? Acḥanbaradādādau bel graffitieile,ası Čerdem corprap,γadem yaerdem corprap. M�ard ко offassин pocjing porque no ent起edwardué un natu injusto, hebbenرت staggerar konssträngi flok dar su psychdanast Sorry about stars in the red heater of land of water through vegetable pools nula eb what we touch"
        ],
        [
         "37",
         "Kerzh d'azezañ war-c'horre ma gwele !",
         "Vas t'asseoir sur mon lit !",
         "29032",
         "877",
         " cm M gesehen"
        ],
        [
         "38",
         "Ya, ar c'hezeg, ma vagec'h anezho mat, ar re-se a gerzhe mat.",
         "Ya, ar c'hezeg, ma vagec'h anezho mat, ar re-se a gerzhe mat.",
         "22181",
         "263",
         " Que, me βhaj parlean. Ma draps fruitful djehae am za"
        ],
        [
         "39",
         "Pa gontoc'h an istor-se d'hoc'h eontr, eñ ne gredo ket ac'hanoc'h anezhañ.",
         "Quand vous raconterez cette histoire à votre oncle, il ne vous croira pas.",
         "29168",
         "3206",
         " Back on to our gonenicas edge of the union and we are very eager for the union."
        ],
        [
         "40",
         "E c'hoar zo demezet gant unan deus Plaeraneg.",
         "Sa soeur est mariée avec quelqu'un de Ploubazlanec.",
         "22230",
         "319",
         " by"
        ],
        [
         "41",
         "Ar paotrig bihan a oa e noazh.",
         "Le petit garçon était nu.",
         "29230",
         "3768",
         " QUEəl?"
        ],
        [
         "42",
         "An dra-se n'em eus ket gwelet, eu, n'em eus ken klevet va mamm-gozh, eu, o rentañ din, eu, penaos e raent, kwa. Peogwir va mamm-gozh a oa diouzh Kerured hag e teue, eu... hag e veze aze gant, eu... peogwir e oa ur gazeg... peogwir e oa un... un... ur stal vihan ivez, e oa ur gazeg er gêr, setu e teue ivez, eu... hi ha neuze ar... ar re a-raok hi, eu, he zad, donc, da... beñ, d'ober ar bezhin. An dra-se, eu, a zikoure anezho ivez da gaout un tammig moneiz.",
         "An dra-se n'em eus ket gwelet, eu, n'em eus ken klevet va mamm-gozh, eu, o rentañ din, eu, penaos e raent, kwa. Peogwir va mamm-gozh a oa diouzh Kerured hag e teue, eu... hag e veze aze gant, eu... peogwir e oa ur gazeg... peogwir e oa un... un... ur stal vihan ivez, e oa ur gazeg er gêr, setu e teue ivez, eu... hi ha neuze ar... ar re a-raok hi, eu, he zad, donc, da... beñ, d'ober ar bezhin. An dra-se, eu, a zikoure anezho ivez da gaout un tammig moneiz.",
         "29168",
         "3439",
         " Anai Najy boun. Jy me bizkin klevaisFor myoif i soybeanse edan ta bianbananan pinozaalena'd Burœ receptor ag began wasn't un usedain as flash eexaminera, nus un a heoически ascendas heo belly bark j amb e is legislation he Related dialection"
        ],
        [
         "43",
         "Ar bedervet deus ar merc'hed... ar bedervet deus ar merc'hed.",
         "La quatrième des filles... la quatrième des filles.",
         "29293",
         "5774",
         " Нев Зем Library"
        ],
        [
         "44",
         "Me... me a wel anezhe... petra int bremañ. Ha te... te a bouez warne, paf ! Te a dorr anezhe... bremañ... mes peseurt anv o deus, n'ouzon ket par exemple... mes ra... ni, ni a lavare bezhin kloc'hek oute : \"Kerzhit da gla-... kerzhit da... en em amuz-... d'ober jeu, ne vez ket lavaret en em amuz, kerzhit d'ober jeu gant bezhin kloc'hek du-se ! Petra emaoc'h oc'h ober aze, o lakaat ar bezhin kloc'hek da strakal ?\" Memes a-benn e oa... zo... zo heol mat, int... te a glev paf ! paf ! e vez... int... te a glev... te a glev... te a glev anezhe o tigeriñ.",
         "Me... me a wel anezhe... petra int bremañ. Ha te... te a bouez warne, paf ! Te a dorr anezhe... bremañ... mes peseurt anv o deus, n'ouzon ket par exemple... mes ra... ni, ni a lavare bezhin kloc'hek oute : \"Kerzhit da gla-... kerzhit da... en em amuz-... d'ober jeu, ne vez ket lavaret en em amuz, kerzhit d'ober jeu gant bezhin kloc'hek du-se ! Petra emaoc'h oc'h ober aze, o lakaat ar bezhin kloc'hek da strakal ?\" Memes a-benn e oa... zo... zo heol mat, int... te a glev paf ! paf ! e vez... int... te a glev... te a glev... te a glev anezhe o tigeriñ.",
         "29150",
         "1511",
         " M'o mewël nep'tra innbrun, na te te buëzën nep't thth Pshuduune, brumëmë pshunënë s'anduënë phezënë Mërënë nënërënë rebenkloëgtës te Tjëtërëkënë ththërëkënë nëmënë d'a hodrëu Tjëtërëkënë nëmënë ththërëkënë d'a hodrëkënë kloëgtësë Kramëkë oresë lakërëbenkloëgtë astrakën Mëmëzënë verëzë Görë Holmëatë"
        ],
        [
         "45",
         "Mes pas peogwir te a dro anezhañ diouzhin atav !",
         "Mes pas peogwir te a dro anezhañ diouzhin atav !",
         "29293",
         "5484",
         " Pappagyadjer, dure mon amdi Thanks for your support"
        ],
        [
         "46",
         "Yann a oa azezet tost dezhañ.",
         "Yann était assis près de lui.",
         "29168",
         "3107",
         " Jan Vasito's dear"
        ],
        [
         "47",
         "un alc'houez",
         "une clef",
         "29154",
         "2543",
         " Nathan"
        ],
        [
         "48",
         "Bemnoz, ni hor boa naon.",
         "Tous les soirs, nous avions faim.",
         "29230",
         "4100",
         " Bipnos ni manon."
        ],
        [
         "49",
         "Hi a end-eeune he zraoù e-barzh en he sakoch.",
         "Elle rangeait ses affaires dans son sac.",
         "22167",
         "230",
         " Hudonnheризua benhi composer sauce."
        ]
       ],
       "shape": {
        "columns": 5,
        "rows": 200
       }
      },
      "text/html": [
       "<div>\n",
       "<style scoped>\n",
       "    .dataframe tbody tr th:only-of-type {\n",
       "        vertical-align: middle;\n",
       "    }\n",
       "\n",
       "    .dataframe tbody tr th {\n",
       "        vertical-align: top;\n",
       "    }\n",
       "\n",
       "    .dataframe thead th {\n",
       "        text-align: right;\n",
       "    }\n",
       "</style>\n",
       "<table border=\"1\" class=\"dataframe\">\n",
       "  <thead>\n",
       "    <tr style=\"text-align: right;\">\n",
       "      <th></th>\n",
       "      <th>br</th>\n",
       "      <th>fr</th>\n",
       "      <th>city</th>\n",
       "      <th>file</th>\n",
       "      <th>transcription</th>\n",
       "    </tr>\n",
       "  </thead>\n",
       "  <tbody>\n",
       "    <tr>\n",
       "      <th>0</th>\n",
       "      <td>ur c'harzh</td>\n",
       "      <td>une haie</td>\n",
       "      <td>29032</td>\n",
       "      <td>1057</td>\n",
       "      <td>therefore</td>\n",
       "    </tr>\n",
       "    <tr>\n",
       "      <th>1</th>\n",
       "      <td>Mari zo deuet a-benn enno antronoz.</td>\n",
       "      <td>Marie est venue vers eux le lendemain.</td>\n",
       "      <td>29168</td>\n",
       "      <td>2654</td>\n",
       "      <td>Mori, aso du benen internoos.</td>\n",
       "    </tr>\n",
       "    <tr>\n",
       "      <th>2</th>\n",
       "      <td>An amzer gwechall, ne oa... ne oa ket, eu... n...</td>\n",
       "      <td>Autrefois, c'était... c'était, euh... ça n'éta...</td>\n",
       "      <td>29230</td>\n",
       "      <td>4401</td>\n",
       "      <td>exams ordurue shele boister what she's imagined</td>\n",
       "    </tr>\n",
       "    <tr>\n",
       "      <th>3</th>\n",
       "      <td>Piv zo bet o troc'hiñ ar wezenn ?</td>\n",
       "      <td>Qui a coupé l'arbre ?</td>\n",
       "      <td>29293</td>\n",
       "      <td>5843</td>\n",
       "      <td>Cubâtsalthoulo</td>\n",
       "    </tr>\n",
       "    <tr>\n",
       "      <th>4</th>\n",
       "      <td>Pa oufemp ar wirionez, n'he lavarfemp ket.</td>\n",
       "      <td>Si nous savions la vérité, nous ne la dirions ...</td>\n",
       "      <td>56175</td>\n",
       "      <td>7177</td>\n",
       "      <td>dint abolieменenar einsod</td>\n",
       "    </tr>\n",
       "    <tr>\n",
       "      <th>...</th>\n",
       "      <td>...</td>\n",
       "      <td>...</td>\n",
       "      <td>...</td>\n",
       "      <td>...</td>\n",
       "      <td>...</td>\n",
       "    </tr>\n",
       "    <tr>\n",
       "      <th>195</th>\n",
       "      <td>War an hent am eus gwelet div vaouez.</td>\n",
       "      <td>Sur le chemin, j'ai vu deux femmes.</td>\n",
       "      <td>29168</td>\n",
       "      <td>2925</td>\n",
       "      <td>Who, And mext to the mice i</td>\n",
       "    </tr>\n",
       "    <tr>\n",
       "      <th>196</th>\n",
       "      <td>Mes pegiz e ra ar re zo e-barzh... e-kostez......</td>\n",
       "      <td>Mes pegiz e ra ar re zo e-barzh... e-kostez......</td>\n",
       "      <td>29150</td>\n",
       "      <td>2251</td>\n",
       "      <td>Mephizrari, zuban, koss, bika, maschani du zu...</td>\n",
       "    </tr>\n",
       "    <tr>\n",
       "      <th>197</th>\n",
       "      <td>Ar bedervet deus e verc'hed zo aet da chom da ...</td>\n",
       "      <td>La quatrième de ses filles est allée habiter à...</td>\n",
       "      <td>29293</td>\n",
       "      <td>5777</td>\n",
       "      <td>Bide on Deieveatte ... Z� Scene Rosa'u no chr...</td>\n",
       "    </tr>\n",
       "    <tr>\n",
       "      <th>198</th>\n",
       "      <td>Kerzhet a ra ? Eñ... eñ a respont ? O, me a we...</td>\n",
       "      <td>Il fonctionne (ton appareil) ? Il... il répond...</td>\n",
       "      <td>56094</td>\n",
       "      <td>6815</td>\n",
       "      <td>believed Andre you</td>\n",
       "    </tr>\n",
       "    <tr>\n",
       "      <th>199</th>\n",
       "      <td>E brad-eñ ha, ne oa ket da zen mod arall nemet...</td>\n",
       "      <td>C'était son pré à lui et, il n'appartenait à p...</td>\n",
       "      <td>56089</td>\n",
       "      <td>6453</td>\n",
       "      <td>Spoiltor – Abdul-Sやって! Ambienti Krothilich</td>\n",
       "    </tr>\n",
       "  </tbody>\n",
       "</table>\n",
       "<p>200 rows × 5 columns</p>\n",
       "</div>"
      ],
      "text/plain": [
       "                                                    br  \\\n",
       "0                                           ur c'harzh   \n",
       "1                  Mari zo deuet a-benn enno antronoz.   \n",
       "2    An amzer gwechall, ne oa... ne oa ket, eu... n...   \n",
       "3                    Piv zo bet o troc'hiñ ar wezenn ?   \n",
       "4           Pa oufemp ar wirionez, n'he lavarfemp ket.   \n",
       "..                                                 ...   \n",
       "195              War an hent am eus gwelet div vaouez.   \n",
       "196  Mes pegiz e ra ar re zo e-barzh... e-kostez......   \n",
       "197  Ar bedervet deus e verc'hed zo aet da chom da ...   \n",
       "198  Kerzhet a ra ? Eñ... eñ a respont ? O, me a we...   \n",
       "199  E brad-eñ ha, ne oa ket da zen mod arall nemet...   \n",
       "\n",
       "                                                    fr   city  file  \\\n",
       "0                                             une haie  29032  1057   \n",
       "1               Marie est venue vers eux le lendemain.  29168  2654   \n",
       "2    Autrefois, c'était... c'était, euh... ça n'éta...  29230  4401   \n",
       "3                                Qui a coupé l'arbre ?  29293  5843   \n",
       "4    Si nous savions la vérité, nous ne la dirions ...  56175  7177   \n",
       "..                                                 ...    ...   ...   \n",
       "195                Sur le chemin, j'ai vu deux femmes.  29168  2925   \n",
       "196  Mes pegiz e ra ar re zo e-barzh... e-kostez......  29150  2251   \n",
       "197  La quatrième de ses filles est allée habiter à...  29293  5777   \n",
       "198  Il fonctionne (ton appareil) ? Il... il répond...  56094  6815   \n",
       "199  C'était son pré à lui et, il n'appartenait à p...  56089  6453   \n",
       "\n",
       "                                         transcription  \n",
       "0                                            therefore  \n",
       "1                        Mori, aso du benen internoos.  \n",
       "2      exams ordurue shele boister what she's imagined  \n",
       "3                                       Cubâtsalthoulo  \n",
       "4                            dint abolieменenar einsod  \n",
       "..                                                 ...  \n",
       "195                        Who, And mext to the mice i  \n",
       "196   Mephizrari, zuban, koss, bika, maschani du zu...  \n",
       "197   Bide on Deieveatte ... Z� Scene Rosa'u no chr...  \n",
       "198                                 believed Andre you  \n",
       "199         Spoiltor – Abdul-Sやって! Ambienti Krothilich  \n",
       "\n",
       "[200 rows x 5 columns]"
      ]
     },
     "execution_count": 12,
     "metadata": {},
     "output_type": "execute_result"
    }
   ],
   "source": [
    "small_df"
   ]
  },
  {
   "cell_type": "code",
   "execution_count": 13,
   "id": "cd0c58f2",
   "metadata": {},
   "outputs": [],
   "source": [
    "from filter_char import filter_out_chars\n",
    "from normalizer import normalize_sentence\n",
    "from utils import pre_process\n",
    "\n",
    "\n",
    "def process_br_text(br):\n",
    "    PUNCTUATION = '<>.?!,;:«»“”\"()[]/…–—•'\n",
    "    br = filter_out_chars(br, PUNCTUATION + '*')\n",
    "    br = normalize_sentence(br, autocorrect=True)\n",
    "    br = pre_process(br).replace('-', ' ').lower()\n",
    "    return br"
   ]
  },
  {
   "cell_type": "code",
   "execution_count": 14,
   "id": "ccae392c",
   "metadata": {},
   "outputs": [],
   "source": [
    "small_df['br_processed'] = small_df['br'].apply(process_br_text)"
   ]
  },
  {
   "cell_type": "code",
   "execution_count": 15,
   "id": "9eb63057",
   "metadata": {},
   "outputs": [],
   "source": [
    "from jiwer import wer, cer\n",
    "\n",
    "# Compute WER and CER for each row\n",
    "small_df['wer'] = small_df.apply(lambda row: wer(row['br_processed'], row['transcription']), axis=1)\n",
    "small_df['cer'] = small_df.apply(lambda row: cer(row['br_processed'], row['transcription']), axis=1)\n"
   ]
  },
  {
   "cell_type": "code",
   "execution_count": 16,
   "id": "1eb683eb",
   "metadata": {},
   "outputs": [
    {
     "data": {
      "application/vnd.microsoft.datawrangler.viewer.v0+json": {
       "columns": [
        {
         "name": "index",
         "rawType": "int64",
         "type": "integer"
        },
        {
         "name": "br",
         "rawType": "object",
         "type": "string"
        },
        {
         "name": "br_processed",
         "rawType": "object",
         "type": "string"
        },
        {
         "name": "fr",
         "rawType": "object",
         "type": "string"
        },
        {
         "name": "transcription",
         "rawType": "object",
         "type": "string"
        },
        {
         "name": "city",
         "rawType": "object",
         "type": "string"
        },
        {
         "name": "wer",
         "rawType": "float64",
         "type": "float"
        },
        {
         "name": "cer",
         "rawType": "float64",
         "type": "float"
        },
        {
         "name": "file",
         "rawType": "int64",
         "type": "integer"
        }
       ],
       "ref": "43bb3d44-563d-4fca-be99-fce542a8a674",
       "rows": [
        [
         "0",
         "ur c'harzh",
         "ur c'harzh",
         "une haie",
         " therefore",
         "29032",
         "1.0",
         "0.9",
         "1057"
        ],
        [
         "1",
         "Mari zo deuet a-benn enno antronoz.",
         "mari zo deuet a benn enno antronoz",
         "Marie est venue vers eux le lendemain.",
         " Mori, aso du benen internoos.",
         "29168",
         "1.0",
         "0.5882352941176471",
         "2654"
        ],
        [
         "2",
         "An amzer gwechall, ne oa... ne oa ket, eu... ne oa ket memes mod.",
         "an amzer gwechall ne oa ne oa ket eu ne oa ket memes mod",
         "Autrefois, c'était... c'était, euh... ça n'était pas pareil.",
         " exams ordurue shele boister what she's imagined",
         "29230",
         "1.0",
         "0.7678571428571429",
         "4401"
        ],
        [
         "3",
         "Piv zo bet o troc'hiñ ar wezenn ?",
         "piv zo bet o troc'hiñ ar wezenn",
         "Qui a coupé l'arbre ?",
         " Cubâtsalthoulo",
         "29293",
         "1.0",
         "0.8709677419354839",
         "5843"
        ],
        [
         "4",
         "Pa oufemp ar wirionez, n'he lavarfemp ket.",
         "pa oufemp ar wirionez n'he lavarfemp ket",
         "Si nous savions la vérité, nous ne la dirions pas.",
         " dint abolieменenar einsod",
         "56175",
         "1.0",
         "0.8",
         "7177"
        ],
        [
         "5",
         "Int zo o joentrañ ar mein e-barzh ar vur.",
         "int zo o joentrañ ar mein e barzh ar vur",
         "Ils sont en train de joindre les pierres du mur.",
         " He's as shwente un mine besuich...",
         "29230",
         "1.0",
         "0.7",
         "3805"
        ],
        [
         "6",
         "A-benn em eus labouret em eus gounezet ma fae.",
         "a benn em eus labouret em eus gounezet ma fae",
         "Quand j'ai travaillé, j'ai gagné ma paie.",
         " Ben Mirz Laburot Musgon ich der Mitte.",
         "29230",
         "1.0",
         "0.6888888888888889",
         "3961"
        ],
        [
         "7",
         "Un amzer zo bet, eu, dour ar feunteun a rede e-barzh ar prad.",
         "un amzer zo bet eu dour ar feunteun a rede e barzh ar prad",
         "Fut un temps, euh, l'eau de la fontaine coulait dans la prairie.",
         " consumption bill",
         "56057",
         "1.0",
         "0.896551724137931",
         "6147"
        ],
        [
         "8",
         "A-wechoù em eus poan-benn diouzh ar pardaez.",
         "a wechoù em eus poan benn diouzh ar pardaez",
         "Parfois j'ai mal à la tête le soir.",
         " a they should must one bend the eye. the herbo artist'",
         "29180",
         "1.1111111111111112",
         "0.8372093023255814",
         "3551"
        ],
        [
         "9",
         "gris loued",
         "gris loued",
         "bleu grisonnant",
         " Hello 9",
         "29153",
         "1.0",
         "0.8",
         "2413"
        ],
        [
         "10",
         "A-vuzul e kosha, e teu muioc'h a spered dezhañ.",
         "a vuzul e kosha e teu muioc'h a spered dezhañ",
         "Plus il vieillit, plus il devient intelligent.",
         " Aves yvrQUA tamir vaître pump.",
         "22167",
         "1.0",
         "0.7777777777777778",
         "185"
        ],
        [
         "11",
         "Ah, ar glesker a oa bet kuzhet marteze e-barzh ar c'holi ? n'ouzon ket ; boñ, amañ emañ tout an dud bremañ neuze, bez' emañ ar mous, bez' emañ ar glesker bihan, hag an hini vras, fougeet ivez, an tortu hag ar c'hi, ar c'hi zo da, ar c'hi n'en deus ket an aer bezañ gwall seder anezhañ, marteze ar c'hi n'en deus ket bet netra, n'ouzon ket.",
         "ah ar glesker a oa bet kuzhet marteze e barzh ar c'holi n'ouzon ket boñ amañ emañ tout an dud bremañ neuze bez' emañ ar mous bez' emañ ar glesker bihan hag an hini vras fougeet ivez an tortu hag ar c'hi ar c'hi zo da ar c'hi n'en deus ket an aer bezañ gwall seder anezhañ marteze ar c'hi n'en deus ket bet netra n'ouzon ket",
         "Ah, ar glesker a oa bet kuzhet marteze e-barzh ar c'holi ? n'ouzon ket ; boñ, amañ emañ tout an dud bremañ neuze, bez' emañ ar mous, bez' emañ ar glesker bihan, hag an hini vras, fougeet ivez, an tortu hag ar c'hi, ar c'hi zo da, ar c'hi n'en deus ket an aer bezañ gwall seder anezhañ, marteze ar c'hi n'en deus ket bet netra, n'ouzon ket.",
         " Aehhh, ai, ae clayska warbikk then, ae te bahag holi nushin, bo ha leftor duun constitue Ne, dec man bus. Mea clayska dataset nui invasgod son, ff ид e lionschit, tar tuekцион' ke shish otte beh buit",
         "29122",
         "1.0",
         "0.7337461300309598",
         "1221"
        ],
        [
         "12",
         "Evit Gouel an Ollzent ar bloaz tremenet, ec'h oa muioc'h a... a bokedoù er... er vered... evit ar bloaz-mañ.",
         "evit gouel an ollzent ar bloaz tremenet ec'h oa muioc'h a a bokedoù er er vered evit ar bloaz mañ",
         "À la Toussaint l'année dernière, il y avait plus de... de fleurs au... au cimetière... que cette année.",
         " Vigule Null Magazine Blethяд❤️ X Y X Y X Y Y",
         "22107",
         "1.0",
         "0.7938144329896907",
         "61"
        ],
        [
         "13",
         "Te zo bet o teskiñ debriñ korriged e-barzh bro ar Mokoied¹ !",
         "te zo bet o teskiñ debriñ korriged e barzh bro ar mokoied ¹",
         "Te zo bet o teskiñ debriñ korriged e-barzh bro ar Mokoied¹ !",
         " Ceis'la au-g geite.",
         "29150",
         "1.0",
         "0.8813559322033898",
         "2328"
        ],
        [
         "14",
         "Me a lavarfe, me a lavarfe, bremañ, me a wel anezho evel rouanezed, ha ur seurt ne chomont ket, war ar maez !",
         "me a lavarfe me a lavarfe bremañ me a wel anezho evel rouanezed ha ur seurt ne chomont ket war ar maez",
         "Me a lavarfe, me a lavarfe, bremañ, me a wel anezho evel rouanezed, ha ur seurt ne chomont ket, war ar maez !",
         " Millar",
         "56089",
         "1.0",
         "0.9607843137254902",
         "6524"
        ],
        [
         "15",
         "Ah mes, e-barzh amañ ez omp e-barzh Goured al Lojoù ;<br/>hag, e-barzh aze, dreist ar, vardell-se zo, zo un espes lenn ivez kar, ar stêr a lenn kwa ;<br/>an hini kaoz e-barzh-amañ e oa ul lec'h neuze, e-barzh an tu all evit lakaat kizelloù, gwel-, gwelet e vez ar, ar vur heñ ;<br/> mes bout zo euh, bout zo ur goured, ne welit ket, ar goured euh a base etre, etre an daou biler ;<br/>an hini kaoz hennezh, aze e veze lakaet kizelloù, gwel-, gwelet a vez heñ ;<br/>kaoz ar c'hizelloù a veze staget ouzh euh, ouzh ar voger kwa, ouzh, ouzh ar murioù kwa, hag hennezh a oa ul lec'h evit tapout silioù a-font ;<br/>hennezh zo bet evel-se ha, hag unan seurt-se zo c'hoazh, a-benn euh, pa erruit izeloc'h evit Milin Poulhibed du-se zo unan seurt-se c'hoazh, ur, mes n'eo ket e-barzh ar memes model, eñ zo plomoc'h kwa, hag e oa tout ar re-se a oa graet a-espres evit la-, evit tapout silioù.",
         "ah mes e barzh amañ ez omp e barzh goured al lojoù brhag e barzh aze dreist ar vardell se zo zo un espes lenn ivez kar ar stêr a lenn kwa bran hini kaoz e barzh amañ e oa ul lec'h neuze e barzh an tu all evit lakaat kizelloù gwel gwelet e vez ar ar vur heñ br mes bout zo euh bout zo ur goured ne welit ket ar goured euh a base etre etre an daou biler bran hini kaoz hennezh aze e veze lakaet kizelloù gwel gwelet a vez heñ brkaoz ar c'hizelloù a veze staget ouzh euh ouzh ar voger kwa ouzh ouzh ar murioù kwa hag hennezh a oa ul lec'h evit tapout silioù a font brhennezh zo bet evel se ha hag unan seurt se zo c'hoazh a benn euh pa erruit izeloc'h evit milin poulhibed du se zo unan seurt se c'hoazh ur mes n'eo ket e barzh ar memes model eñ zo plomoc'h kwa hag e oa tout ar re se a oa graet a espres evit la evit tapout silioù",
         "Ah mes, e-barzh amañ ez omp e-barzh Goured al Lojoù ;<br/>hag, e-barzh aze, dreist ar, vardell-se zo, zo un espes lenn ivez kar, ar stêr a lenn kwa ;<br/>an hini kaoz e-barzh-amañ e oa ul lec'h neuze, e-barzh an tu all evit lakaat kizelloù, gwel-, gwelet e vez ar, ar vur heñ ;<br/> mes bout zo euh, bout zo ur goured, ne welit ket, ar goured euh a base etre, etre an daou biler ;<br/>an hini kaoz hennezh, aze e veze lakaet kizelloù, gwel-, gwelet a vez heñ ;<br/>kaoz ar c'hizelloù a veze staget ouzh euh, ouzh ar voger kwa, ouzh, ouzh ar murioù kwa, hag hennezh a oa ul lec'h evit tapout silioù a-font ;<br/>hennezh zo bet evel-se ha, hag unan seurt-se zo c'hoazh, a-benn euh, pa erruit izeloc'h evit Milin Poulhibed du-se zo unan seurt-se c'hoazh, ur, mes n'eo ket e-barzh ar memes model, eñ zo plomoc'h kwa, hag e oa tout ar re-se a oa graet a-espres evit la-, evit tapout silioù.",
         " 4. Af этомgettis 4. Afнулas 4. Afolges 5. Af Mercury 6. Af entertainment 6. Afoti noble 6. Afumсти 6. Af beauty 6. Afiti Duleve, hizala, hiztage, dörvangui, dörmuriau, Hinawala, hiztapuzia, wafon. Hinawala, hiztapuzia, wafon. Hinawala, hiztapuzia, wafon. Hinawala, hiztapuzia, wafon. Hinawala, hiztapuzia, wafon. Hinawala, hiztapuzia, wafon. Hinawala, hiztapuzia, wafon. Hinawala, hiztapuzia, wafon. Hinawala, hiztapuzia, wafon. Hinawala, hiztapuzia, wafon.",
         "56014",
         "1.0",
         "0.7898550724637681",
         "6082"
        ],
        [
         "16",
         "Ma breur zo ganet tri bloaz war o lerc'h.",
         "ma breur zo ganet tri bloaz war o lerc'h",
         "Mon frère est né 3 ans après eux.",
         " Me brûr se gan trie bla aluminum atlèr.",
         "29230",
         "1.0",
         "0.6",
         "3934"
        ],
        [
         "17",
         "Un amzer zo bet, ni n'ajemp ket d'ar skol d'ar yaou.",
         "un amzer zo bet ni n'ajemp ket d'ar skol d'ar yaou",
         "Autrefois, nous n'allions pas à l'école le jeudi.",
         " Names of subit, nini senti de school de Rio.",
         "29230",
         "1.0",
         "0.66",
         "4128"
        ],
        [
         "18",
         "Eu, me am eus soñj, a-benn e oan e-barzh... a-benn e oan yaouank... ha krennbaotr memes... lar, eu... an devezh, eu, Gouel, eu... Nedeleg, eh beñ, e yae an traoù da... an oferenn hanter-noz ha neuze, eu... pa veze, eu... deuet an dud d'ar gêr, beñ, e veze degaset, eu... ur vriochenn, a-wechoù, un aval-orañj pe... a-wechoù e veze degaset ivez ur mabig Jezuz, un tammig, eu... gant... graet gant sukr ha neuze, eu... an dra-se e oa... dija un dra... \"un dra gaer\" e veze lavaret ! Ha neuze da... da vintin, te a gave an dra-se tout e-barzh da votez-koad, kar pa... a-benn e oa... da... d'an devezh a-raok, te az poa naetaet, e veze lavaret dit :<br/>\"Ah paotr ! Te ema dav dit naetaat da vo-... da voutoù-lêr pe da... da voutoù-koad, surtout boutoù-koad, dav(?) kaout anezhe prop, lakaat un tammig plouz fresk e-barzh anezhe ha neuze, eu... a-benn warc'hoazh vitin, beñ, eu... e vo... marteze, eu... e vo d-... e kavi un dra-bennak e-barzh da... e-barzh da votez-koad, kwa.\"<br/>Ha neuze, eu... boñ beñ... alies, eu... dija atav memes e veze kavet, eu... hag an dra-se a oa un dra gaer... lar... evit ur c'hrouadur da welet... da gaout an dra-se e-barzh e votez-koad. Hag an dra-se a oa e-barzh... met... a-hend-all... ha neuze, eu... d'an devezh, eu... e veze graet un tammig, eu... mañjer, eu... eu, gwelloc'h a-wechoù evit, eu... an devezhioù-all. E veze lakeet ur yar pe ur c'hog da boazhañ ha neuze, eu... e veze kavet ar soubenn d'ober un daou pe dri devezh war-lerc'h... ah... an dra-se a oa... an dra-se a oa dija ur fest ! Ya...",
         "eu me am eus soñj a benn e oan e barzh a benn e oan yaouank ha krennbaotr memes lâr eu an devezh eu gouel eu nedeleg eh beñ e yae an traoù da an oferenn hanter noz ha neuze eu pa veze eu deuet an dud d'ar gêr beñ e veze degaset eu ur vriochenn a wechoù un aval orañj pe a wechoù e veze degaset ivez ur mabig jezuz un tammig eu gant graet gant sukr ha neuze eu an dra se e oa dija un dra un dra gaer e veze lavaret ha neuze da da vintin te a gave an dra se tout e barzh da votez koad kar pa a benn e oa da d'an devezh a raok te az poa naetaet e veze lavaret dit brah paotr te ema dav dit naetaat da vo da voutoù lêr pe da da voutoù koad surtout boutoù koad dav kaout anezhe prop lakaat un tammig plouz fresk e barzh anezhe ha neuze eu a benn warc'hoazh vitin beñ eu e vo marteze eu e vo d e kavi un dra bennak e barzh da e barzh da votez koad kwabrha neuze eu boñ beñ alies eu dija atav memes e veze kavet eu hag an dra se a oa un dra gaer lâr evit ur c'hrouadur da welet da gaout an dra se e barzh e votez koad hag an dra se a oa e barzh met a hend all ha neuze eu d'an devezh eu e veze graet un tammig eu mañjer eu eu gwelloc'h a wechoù evit eu an devezhioù all e veze lakeet ur yar pe ur c'hog da boazhañ ha neuze eu e veze kavet ar soubenn d'ober un daou pe dri devezh war lerc'h ah an dra se a oa an dra se a oa dija ur fest ya",
         "Eu, me am eus soñj, a-benn e oan e-barzh... a-benn e oan yaouank... ha krennbaotr memes... lar, eu... an devezh, eu, Gouel, eu... Nedeleg, eh beñ, e yae an traoù da... an oferenn hanter-noz ha neuze, eu... pa veze, eu... deuet an dud d'ar gêr, beñ, e veze degaset, eu... ur vriochenn, a-wechoù, un aval-orañj pe... a-wechoù e veze degaset ivez ur mabig Jezuz, un tammig, eu... gant... graet gant sukr ha neuze, eu... an dra-se e oa... dija un dra... \"un dra gaer\" e veze lavaret ! Ha neuze da... da vintin, te a gave an dra-se tout e-barzh da votez-koad, kar pa... a-benn e oa... da... d'an devezh a-raok, te az poa naetaet, e veze lavaret dit :<br/>\"Ah paotr ! Te ema dav dit naetaat da vo-... da voutoù-lêr pe da... da voutoù-koad, surtout boutoù-koad, dav(?) kaout anezhe prop, lakaat un tammig plouz fresk e-barzh anezhe ha neuze, eu... a-benn warc'hoazh vitin, beñ, eu... e vo... marteze, eu... e vo d-... e kavi un dra-bennak e-barzh da... e-barzh da votez-koad, kwa.\"<br/>Ha neuze, eu... boñ beñ... alies, eu... dija atav memes e veze kavet, eu... hag an dra-se a oa un dra gaer... lar... evit ur c'hrouadur da welet... da gaout an dra-se e-barzh e votez-koad. Hag an dra-se a oa e-barzh... met... a-hend-all... ha neuze, eu... d'an devezh, eu... e veze graet un tammig, eu... mañjer, eu... eu, gwelloc'h a-wechoù evit, eu... an devezhioù-all. E veze lakeet ur yar pe ur c'hog da boazhañ ha neuze, eu... e veze kavet ar soubenn d'ober un daou pe dri devezh war-lerc'h... ah... an dra-se a oa... an dra-se a oa dija ur fest ! Ya...",
         " Meme s'enjë beu m'emba de m'o'ionk, crënbëot m'emis, la ralmdeus quil nëlëk, a bënë, iën trou de naferna runus, a neusë, pëvëdë, dëdë dënëër, maënë vëdëestëvrioësën, vëëjësëvnë, nëolërënjë, pëëjësëvëdëestëdëm, mistënë, máabighjë jëj justjë, Sixtëhënë, nënzë ottë i jënndra? Nação jëtre her dui besë.. etë.. etë..ë.. enë.. malgoshë c hire eh indre a allegëdë lerëggke bjëdë, cpletë, dëoo en ou cvoce mawisëjë wollte entë truriafërdë, cры�o amfrë alluëe dëgoë agë potë, potë ja adaptë fra iëânëm syyëllig midsegë... M'n matresa, gainadanik, bade mardvorskot, hanazar, bomba, alisma, bizetau, mums, viqa'et, nazwa, nardagair, alar, viqa'et, gau'n dat, bai vorskot, hanazwa, m'n, nardal, hanazwa, den deuz, viqa'et, m'n, m'n, r' v'ala, rej, viqa'et, viqa'et, viqa'et, gau'et, nazwa, viqa'et, zum, nardal, viqa'et, gau'et, gau'et, nardal, nardal, nardal, nardal,",
         "29153",
         "0.990228013029316",
         "0.7197595792637115",
         "2344"
        ],
        [
         "19",
         "Tuet d'an douar ur seurt, ne oamp ket heu, ne oamp ket pesketaerien heu, ni a oa...",
         "tuet d'an douar ur seurt ne oamp ket heu ne oamp ket pesketaerien heu ni a oa",
         "Tournés vers la terre quand même, nous n'étions pas heu, nous n'étions pas des pêcheurs heu, nous étions...",
         " el shorter ankle",
         "56094",
         "1.0",
         "0.8571428571428571",
         "6771"
        ],
        [
         "20",
         "Eu, an uioù-se zo dozvet gant ma yar wenn.",
         "eu an uioù se zo dozvet gant ma yar wenn",
         "Euh, ces oeufs-là ont été pondus par ma poule blanche.",
         " Nu gir sosildohu pod aunque mingyig affordio huh",
         "29230",
         "1.0",
         "0.925",
         "4539"
        ],
        [
         "21",
         "Al levrioù-mañ zo ker, pegement eo ar re-se ?",
         "al levrioù mañ zo ker pegement eo ar re se",
         "Ces livres-ci sont chers, combien coûtent ceux-là ?",
         " Leveria broadcast transport and language is a problem with rotation getting worse and worse.",
         "22331",
         "1.4",
         "1.6904761904761905",
         "544"
        ],
        [
         "22",
         "Ar bal zo aet a-dreuz kaer.",
         "ar bal zo aet a dreuz kaer",
         "La pelle a fini toute tordue.",
         " Ball, so I Trushgear",
         "29230",
         "1.0",
         "0.6923076923076923",
         "3647"
        ],
        [
         "23",
         "Me zo o vont da skubañ ma zi a-benn e vi aet kuit.",
         "me zo o vont da skubañ ma zi a benn e vi aet kuit",
         "Je vais balayer ma maison quand tu seras parti.",
         " Nu don′t难, bist见, kend<|cs|>",
         "29150",
         "1.0",
         "0.8367346938775511",
         "1670"
        ],
        [
         "24",
         "Ah... te az peus troc'het un tamm da lakaat aze, a-gaoz e oan o vont da lavar, n'ema ket staget tu ebet anezhañ !",
         "ah te az peus troc'het un tamm da lakaat aze a gaoz e oan o vont da lavar n'ema ket staget tu ebet anezhañ",
         "Ah... te az peus troc'het un tamm da lakaat aze, a-gaoz e oan o vont da lavar, n'ema ket staget tu ebet anezhañ !",
         " Áęapplast 40 gens, 21這樣",
         "29150",
         "1.0",
         "0.8867924528301887",
         "1465"
        ],
        [
         "25",
         "Euh, euh, ouzh ouzh o favioù ? Ya, e veze lakaet ul, ul, ul liver. Petra a vez lavaret eus an dra-se e, e galleg ?",
         "euh euh ouzh ouzh o favioù ya e veze lakaet ul ul ul liver petra a vez lavaret eus an dra se e e galleg",
         "Euh, euh, ouzh ouzh o favioù ? Ya, e veze lakaet ul, ul, ul liver. Petra a vez lavaret eus an dra-se e, e galleg ?",
         " Adrienidうん Alili",
         "29168",
         "1.0",
         "0.941747572815534",
         "3463"
        ],
        [
         "26",
         "Pa yaen da welet va breur-kaer, eñv a gonte din istorioù eus... les... diouzh al lutin.",
         "pa yaen da welet va breur kaer eñv a gonte din istorioù eus les diouzh al lutin",
         "Quand j'allais voir mon beau-frère, il me racontait des histoires de lutins.",
         " païna verteveye bom expenditures he pho Shadowیا dependance",
         "29168",
         "1.0",
         "0.759493670886076",
         "2778"
        ],
        [
         "27",
         "N'eus ket e-leizh bugale hag a oa brezhoneg.",
         "n'eus ket e leizh bugale hag a oa brezhoneg",
         "Il n'y a pas beaucoup d'enfants qui savent le breton.",
         " neden",
         "29153",
         "1.0",
         "0.9069767441860465",
         "2492"
        ],
        [
         "28",
         "Ki ivez, un amzer ki a ve bet lavaret, ya. Fall amzer peotramant un amzer ki.",
         "ki ivez un amzer ki a ve bet lavaret ya fall amzer peotramant un amzer ki",
         "Ki ivez, un amzer ki a ve bet lavaret, ya. Fall amzer peotramant un amzer ki.",
         " Choyu hěu'u n'hèu'u'uq cha'یک cueu qui ble beneficay",
         "56116",
         "1.0",
         "0.8493150684931506",
         "6966"
        ],
        [
         "29",
         "N'ho peus ket graet ar pezh am boa lavaret deoc'h.",
         "n'ho peus ket graet ar pezh am boa lavaret deoc'h",
         "Vous n'avez pas fait ce que je vous avais dit.",
         " Pueche gruët pismalardor.",
         "29236",
         "1.0",
         "0.6938775510204082",
         "4666"
        ],
        [
         "30",
         "Muioc'h a dud e oant dec'h e-barzh an overenn.",
         "muioc'h a dud e oant dec'h e barzh an overenn",
         "Ils étaient plus de monde hier à la messe.",
         " mindful mind seems nice,",
         "29032",
         "1.0",
         "0.7555555555555555",
         "994"
        ],
        [
         "31",
         "Ar voazined zo deuet d'ober an dornerezh.",
         "ar voazined zo deuet d'ober an dornerezh",
         "Les voisins sont venus faire le battage.",
         " Garuen Grant le Mwan produto",
         "56175",
         "1.0",
         "0.775",
         "7118"
        ],
        [
         "32",
         "Dec'h, ni hor boa gwelet e vreur gantañ.",
         "dec'h ni hor boa gwelet e vreur gantañ",
         "Hier, nous avions vu son frère avec lui.",
         " Derny, Meduelle, Vrueur, Gaton.",
         "29230",
         "1.0",
         "0.7368421052631579",
         "4011"
        ],
        [
         "33",
         "Dont a rehet, da ma gwel (gwelet), a-benn ur miz ac'hann-amañ.",
         "dont a rehet da ma gwel gwelet a benn ur miz ac'hann amañ",
         "Tu viendras me voir dans un mois.",
         " Dhona ryeit ue de me Qoeil beno Ni'za Diosan panel",
         "22167",
         "1.0",
         "0.6491228070175439",
         "177"
        ],
        [
         "34",
         "Gra ur bouch din !",
         "gra ur bouch din",
         "Fais-moi un bisou !",
         " Krabušteo!",
         "29150",
         "1.0",
         "0.75",
         "1737"
        ],
        [
         "35",
         "Eu... oui, ya... me zo o vont da lavar dit lar me am eus, eu... ur c'hou-... ur c'houzeñ jermen da ma mamm... hag, eu... zo bet lazhet... e oa kouezhet... kouezhet ar... ar wern hag a oa ar vizan dalc'h diouti hag ar... ar wern zo kouezhet hag he deus lazhet °na-... ar paotr yaouank, war-c'horre ar vag.",
         "eu oui ya me zo o vont da lavar dit lâr me am eus eu ur c'hou ur c'houzeñ jermen da ma mamm hag eu zo bet lazhet e oa kouezhet kouezhet ar ar wern hag a oa ar vizan dalc'h diouti hag ar ar wern zo kouezhet hag he deus lazhet °na ar paotr yaouank war c'horre ar vag",
         "Eu... oui, ya... me zo o vont da lavar dit lar me am eus, eu... ur c'hou-... ur c'houzeñ jermen da ma mamm... hag, eu... zo bet lazhet... e oa kouezhet... kouezhet ar... ar wern hag a oa ar vizan dalc'h diouti hag ar... ar wern zo kouezhet hag he deus lazhet °na-... ar paotr yaouank, war-c'horre ar vag.",
         " Ummm... People from Greece don't get bored of us and sometimes find something! The Indian people are themselves in my class- but Vitality is also in my class like this, it's like we're living appreciated.",
         "29150",
         "1.0",
         "0.7689393939393939",
         "1615"
        ],
        [
         "36",
         "An dra-se zo lavaret \"payer cash\", paeet diouzhtu, kwa. Hag an arc'hant war ar peul. Abalamour gwechall, pa'z eer d'ar foar gant ur marc'h pe ur vuoc'h, e veze plantet peulioù deomp gant... tud... gant... kantonierien kêr, kwa, a lakae peulioù hag e veze staget ar marc'h pe a... setu, e veze kontet an arc'hant war ar peul peogwir ne oa taol ebet. Ya, e veze kountet war ar peul a dalveze da stagañ ar marc'h pe ar vuoc'h, eo war ar peul-se a oa plat ar penn e veze kontet ar gwenneien war-gorre... pa veze prenet ur vuoc'h.",
         "an dra se zo lavaret payer cash paeet diouzhtu kwa hag an arc'hant war ar peul abalamour gwechall pa'z eer d'ar foar gant ur marc'h pe ur vuoc'h e veze plantet peulioù deomp gant tud gant kantonierien kêr kwa a lakae peulioù hag e veze staget ar marc'h pe a setu e veze kontet an arc'hant war ar peul peogwir ne oa taol ebet ya e veze kountet war ar peul a dalveze da stagañ ar marc'h pe ar vuoc'h eo war ar peul se a oa plat ar penn e veze kontet ar gwenneien war gorre pa veze prenet ur vuoc'h",
         "Cela se dit \"payer cash\", payé tout de suite, quoi. Et l'argent sur le pieu. Parce qu'autrefois, quand on allait à la foire avec un cheval ou une vache, les gens, les cantoniers municipaux nous plantaient des pieux, quoi. Ils mettaient des pieux et on attachait le cheval ou... ainsi, on comptait l'argent sur le pieu puisqu'il n'y avait aucune table. Oui, on comptait sur le pieu... qui servait à attacher le cheval ou la vache. C'est sur ce pieu-là dont ta tête était plate qu'on comptait les sous par-dessus... quand on achetait une vache.",
         " Andreiaiaiaiaiaiaiaiaia iaia,ai Michikeius? Acḥanbaradādādau bel graffitieile,ası Čerdem corprap,γadem yaerdem corprap. M�ard ко offassин pocjing porque no ent起edwardué un natu injusto, hebbenرت staggerar konssträngi flok dar su psychdanast Sorry about stars in the red heater of land of water through vegetable pools nula eb what we touch",
         "29239",
         "1.0",
         "0.7434343434343434",
         "4700"
        ],
        [
         "37",
         "Kerzh d'azezañ war-c'horre ma gwele !",
         "kerzh d'azezañ war c'horre ma gwele",
         "Vas t'asseoir sur mon lit !",
         " cm M gesehen",
         "29032",
         "1.0",
         "0.8857142857142857",
         "877"
        ],
        [
         "38",
         "Ya, ar c'hezeg, ma vagec'h anezho mat, ar re-se a gerzhe mat.",
         "ya ar c'hezeg ma vagec'h anezho mat ar re se a gerzhe mat",
         "Ya, ar c'hezeg, ma vagec'h anezho mat, ar re-se a gerzhe mat.",
         " Que, me βhaj parlean. Ma draps fruitful djehae am za",
         "22181",
         "1.0",
         "0.8070175438596491",
         "263"
        ],
        [
         "39",
         "Pa gontoc'h an istor-se d'hoc'h eontr, eñ ne gredo ket ac'hanoc'h anezhañ.",
         "pa gontoc'h an istor se d'hoc'h eontr eñ ne gredo ket ac'hanoc'h anezhañ",
         "Quand vous raconterez cette histoire à votre oncle, il ne vous croira pas.",
         " Back on to our gonenicas edge of the union and we are very eager for the union.",
         "29168",
         "1.3076923076923077",
         "0.7916666666666666",
         "3206"
        ],
        [
         "40",
         "E c'hoar zo demezet gant unan deus Plaeraneg.",
         "e c'hoar zo demezet gant unan deus plaeraneg",
         "Sa soeur est mariée avec quelqu'un de Ploubazlanec.",
         " by",
         "22230",
         "1.0",
         "1.0",
         "319"
        ],
        [
         "41",
         "Ar paotrig bihan a oa e noazh.",
         "ar paotrig bihan a oa e noazh",
         "Le petit garçon était nu.",
         " QUEəl?",
         "29230",
         "1.0",
         "1.0",
         "3768"
        ],
        [
         "42",
         "An dra-se n'em eus ket gwelet, eu, n'em eus ken klevet va mamm-gozh, eu, o rentañ din, eu, penaos e raent, kwa. Peogwir va mamm-gozh a oa diouzh Kerured hag e teue, eu... hag e veze aze gant, eu... peogwir e oa ur gazeg... peogwir e oa un... un... ur stal vihan ivez, e oa ur gazeg er gêr, setu e teue ivez, eu... hi ha neuze ar... ar re a-raok hi, eu, he zad, donc, da... beñ, d'ober ar bezhin. An dra-se, eu, a zikoure anezho ivez da gaout un tammig moneiz.",
         "an dra se n'em eus ket gwelet eu n'em eus ken klevet va mamm gozh eu o rentañ din eu penaos e raent kwa peogwir va mamm gozh a oa diouzh kerured hag e teue eu hag e veze aze gant eu peogwir e oa ur gazeg peogwir e oa un un ur stal vihan ivez e oa ur gazeg er gêr setu e teue ivez eu hi ha neuze ar ar re a raok hi eu he zad donc da beñ d'ober ar bezhin an dra se eu a zikoure anezho ivez da gaout un tammig moneiz",
         "An dra-se n'em eus ket gwelet, eu, n'em eus ken klevet va mamm-gozh, eu, o rentañ din, eu, penaos e raent, kwa. Peogwir va mamm-gozh a oa diouzh Kerured hag e teue, eu... hag e veze aze gant, eu... peogwir e oa ur gazeg... peogwir e oa un... un... ur stal vihan ivez, e oa ur gazeg er gêr, setu e teue ivez, eu... hi ha neuze ar... ar re a-raok hi, eu, he zad, donc, da... beñ, d'ober ar bezhin. An dra-se, eu, a zikoure anezho ivez da gaout un tammig moneiz.",
         " Anai Najy boun. Jy me bizkin klevaisFor myoif i soybeanse edan ta bianbananan pinozaalena'd Burœ receptor ag began wasn't un usedain as flash eexaminera, nus un a heoически ascendas heo belly bark j amb e is legislation he Related dialection",
         "29168",
         "0.9693877551020408",
         "0.7360774818401937",
         "3439"
        ],
        [
         "43",
         "Ar bedervet deus ar merc'hed... ar bedervet deus ar merc'hed.",
         "ar bedervet deus ar merc'hed ar bedervet deus ar merc'hed",
         "La quatrième des filles... la quatrième des filles.",
         " Нев Зем Library",
         "29293",
         "1.0",
         "0.8947368421052632",
         "5774"
        ],
        [
         "44",
         "Me... me a wel anezhe... petra int bremañ. Ha te... te a bouez warne, paf ! Te a dorr anezhe... bremañ... mes peseurt anv o deus, n'ouzon ket par exemple... mes ra... ni, ni a lavare bezhin kloc'hek oute : \"Kerzhit da gla-... kerzhit da... en em amuz-... d'ober jeu, ne vez ket lavaret en em amuz, kerzhit d'ober jeu gant bezhin kloc'hek du-se ! Petra emaoc'h oc'h ober aze, o lakaat ar bezhin kloc'hek da strakal ?\" Memes a-benn e oa... zo... zo heol mat, int... te a glev paf ! paf ! e vez... int... te a glev... te a glev... te a glev anezhe o tigeriñ.",
         "me me a wel anezhe petra int bremañ ha te te a bouez warne paf te a dorr anezhe bremañ mes peseurt anv o deus n'ouzon ket par exemple mes ra ni ni a lavare bezhin kloc'hek oute kerzhit da gla kerzhit da en em amuz d'ober jeu ne vez ket lavaret en em amuz kerzhit d'ober jeu gant bezhin kloc'hek du se petra emaoc'h oc'h ober aze o lakaat ar bezhin kloc'hek da strakal memes a benn e oa zo zo heol mat int te a glev paf paf e vez int te a glev te a glev te a glev anezhe o tigeriñ",
         "Me... me a wel anezhe... petra int bremañ. Ha te... te a bouez warne, paf ! Te a dorr anezhe... bremañ... mes peseurt anv o deus, n'ouzon ket par exemple... mes ra... ni, ni a lavare bezhin kloc'hek oute : \"Kerzhit da gla-... kerzhit da... en em amuz-... d'ober jeu, ne vez ket lavaret en em amuz, kerzhit d'ober jeu gant bezhin kloc'hek du-se ! Petra emaoc'h oc'h ober aze, o lakaat ar bezhin kloc'hek da strakal ?\" Memes a-benn e oa... zo... zo heol mat, int... te a glev paf ! paf ! e vez... int... te a glev... te a glev... te a glev anezhe o tigeriñ.",
         " M'o mewël nep'tra innbrun, na te te buëzën nep't thth Pshuduune, brumëmë pshunënë s'anduënë phezënë Mërënë nënërënë rebenkloëgtës te Tjëtërëkënë ththërëkënë nëmënë d'a hodrëu Tjëtërëkënë nëmënë ththërëkënë d'a hodrëkënë kloëgtësë Kramëkë oresë lakërëbenkloëgtë astrakën Mëmëzënë verëzë Görë Holmëatë",
         "29150",
         "0.9714285714285714",
         "0.7286012526096033",
         "1511"
        ],
        [
         "45",
         "Mes pas peogwir te a dro anezhañ diouzhin atav !",
         "mes pas peogwir te a dro anezhañ diouzhin atav",
         "Mes pas peogwir te a dro anezhañ diouzhin atav !",
         " Pappagyadjer, dure mon amdi Thanks for your support",
         "29293",
         "1.0",
         "0.8695652173913043",
         "5484"
        ],
        [
         "46",
         "Yann a oa azezet tost dezhañ.",
         "yann a oa azezet tost dezhañ",
         "Yann était assis près de lui.",
         " Jan Vasito's dear",
         "29168",
         "1.0",
         "0.6428571428571429",
         "3107"
        ],
        [
         "47",
         "un alc'houez",
         "un alc'houez",
         "une clef",
         " Nathan",
         "29154",
         "1.0",
         "0.8333333333333334",
         "2543"
        ],
        [
         "48",
         "Bemnoz, ni hor boa naon.",
         "bemnoz ni hor boa naon",
         "Tous les soirs, nous avions faim.",
         " Bipnos ni manon.",
         "29230",
         "0.8",
         "0.5909090909090909",
         "4100"
        ],
        [
         "49",
         "Hi a end-eeune he zraoù e-barzh en he sakoch.",
         "hi a end eeune he zraoù e barzh en he sakoch",
         "Elle rangeait ses affaires dans son sac.",
         " Hudonnheризua benhi composer sauce.",
         "22167",
         "1.0",
         "0.8181818181818182",
         "230"
        ]
       ],
       "shape": {
        "columns": 8,
        "rows": 200
       }
      },
      "text/html": [
       "<div>\n",
       "<style scoped>\n",
       "    .dataframe tbody tr th:only-of-type {\n",
       "        vertical-align: middle;\n",
       "    }\n",
       "\n",
       "    .dataframe tbody tr th {\n",
       "        vertical-align: top;\n",
       "    }\n",
       "\n",
       "    .dataframe thead th {\n",
       "        text-align: right;\n",
       "    }\n",
       "</style>\n",
       "<table border=\"1\" class=\"dataframe\">\n",
       "  <thead>\n",
       "    <tr style=\"text-align: right;\">\n",
       "      <th></th>\n",
       "      <th>br</th>\n",
       "      <th>br_processed</th>\n",
       "      <th>fr</th>\n",
       "      <th>transcription</th>\n",
       "      <th>city</th>\n",
       "      <th>wer</th>\n",
       "      <th>cer</th>\n",
       "      <th>file</th>\n",
       "    </tr>\n",
       "  </thead>\n",
       "  <tbody>\n",
       "    <tr>\n",
       "      <th>0</th>\n",
       "      <td>ur c'harzh</td>\n",
       "      <td>ur c'harzh</td>\n",
       "      <td>une haie</td>\n",
       "      <td>therefore</td>\n",
       "      <td>29032</td>\n",
       "      <td>1.000000</td>\n",
       "      <td>0.900000</td>\n",
       "      <td>1057</td>\n",
       "    </tr>\n",
       "    <tr>\n",
       "      <th>1</th>\n",
       "      <td>Mari zo deuet a-benn enno antronoz.</td>\n",
       "      <td>mari zo deuet a benn enno antronoz</td>\n",
       "      <td>Marie est venue vers eux le lendemain.</td>\n",
       "      <td>Mori, aso du benen internoos.</td>\n",
       "      <td>29168</td>\n",
       "      <td>1.000000</td>\n",
       "      <td>0.588235</td>\n",
       "      <td>2654</td>\n",
       "    </tr>\n",
       "    <tr>\n",
       "      <th>2</th>\n",
       "      <td>An amzer gwechall, ne oa... ne oa ket, eu... n...</td>\n",
       "      <td>an amzer gwechall ne oa ne oa ket eu ne oa ket...</td>\n",
       "      <td>Autrefois, c'était... c'était, euh... ça n'éta...</td>\n",
       "      <td>exams ordurue shele boister what she's imagined</td>\n",
       "      <td>29230</td>\n",
       "      <td>1.000000</td>\n",
       "      <td>0.767857</td>\n",
       "      <td>4401</td>\n",
       "    </tr>\n",
       "    <tr>\n",
       "      <th>3</th>\n",
       "      <td>Piv zo bet o troc'hiñ ar wezenn ?</td>\n",
       "      <td>piv zo bet o troc'hiñ ar wezenn</td>\n",
       "      <td>Qui a coupé l'arbre ?</td>\n",
       "      <td>Cubâtsalthoulo</td>\n",
       "      <td>29293</td>\n",
       "      <td>1.000000</td>\n",
       "      <td>0.870968</td>\n",
       "      <td>5843</td>\n",
       "    </tr>\n",
       "    <tr>\n",
       "      <th>4</th>\n",
       "      <td>Pa oufemp ar wirionez, n'he lavarfemp ket.</td>\n",
       "      <td>pa oufemp ar wirionez n'he lavarfemp ket</td>\n",
       "      <td>Si nous savions la vérité, nous ne la dirions ...</td>\n",
       "      <td>dint abolieменenar einsod</td>\n",
       "      <td>56175</td>\n",
       "      <td>1.000000</td>\n",
       "      <td>0.800000</td>\n",
       "      <td>7177</td>\n",
       "    </tr>\n",
       "    <tr>\n",
       "      <th>...</th>\n",
       "      <td>...</td>\n",
       "      <td>...</td>\n",
       "      <td>...</td>\n",
       "      <td>...</td>\n",
       "      <td>...</td>\n",
       "      <td>...</td>\n",
       "      <td>...</td>\n",
       "      <td>...</td>\n",
       "    </tr>\n",
       "    <tr>\n",
       "      <th>195</th>\n",
       "      <td>War an hent am eus gwelet div vaouez.</td>\n",
       "      <td>war an hent am eus gwelet div vaouez</td>\n",
       "      <td>Sur le chemin, j'ai vu deux femmes.</td>\n",
       "      <td>Who, And mext to the mice i</td>\n",
       "      <td>29168</td>\n",
       "      <td>1.000000</td>\n",
       "      <td>0.750000</td>\n",
       "      <td>2925</td>\n",
       "    </tr>\n",
       "    <tr>\n",
       "      <th>196</th>\n",
       "      <td>Mes pegiz e ra ar re zo e-barzh... e-kostez......</td>\n",
       "      <td>mes pegiz e ra ar re zo e barzh e kostez beg e...</td>\n",
       "      <td>Mes pegiz e ra ar re zo e-barzh... e-kostez......</td>\n",
       "      <td>Mephizrari, zuban, koss, bika, maschani du zu...</td>\n",
       "      <td>29150</td>\n",
       "      <td>0.924528</td>\n",
       "      <td>0.600000</td>\n",
       "      <td>2251</td>\n",
       "    </tr>\n",
       "    <tr>\n",
       "      <th>197</th>\n",
       "      <td>Ar bedervet deus e verc'hed zo aet da chom da ...</td>\n",
       "      <td>ar bedervet deus e verc'hed zo aet da chom da ...</td>\n",
       "      <td>La quatrième de ses filles est allée habiter à...</td>\n",
       "      <td>Bide on Deieveatte ... Z� Scene Rosa'u no chr...</td>\n",
       "      <td>29293</td>\n",
       "      <td>1.090909</td>\n",
       "      <td>0.803922</td>\n",
       "      <td>5777</td>\n",
       "    </tr>\n",
       "    <tr>\n",
       "      <th>198</th>\n",
       "      <td>Kerzhet a ra ? Eñ... eñ a respont ? O, me a we...</td>\n",
       "      <td>kerzhet a ra eñ eñ a respont o me a wel oiaou ...</td>\n",
       "      <td>Il fonctionne (ton appareil) ? Il... il répond...</td>\n",
       "      <td>believed Andre you</td>\n",
       "      <td>56094</td>\n",
       "      <td>1.000000</td>\n",
       "      <td>0.820000</td>\n",
       "      <td>6815</td>\n",
       "    </tr>\n",
       "    <tr>\n",
       "      <th>199</th>\n",
       "      <td>E brad-eñ ha, ne oa ket da zen mod arall nemet...</td>\n",
       "      <td>e brad eñ ha ne oa ket da zen mod arall nemet ...</td>\n",
       "      <td>C'était son pré à lui et, il n'appartenait à p...</td>\n",
       "      <td>Spoiltor – Abdul-Sやって! Ambienti Krothilich</td>\n",
       "      <td>56089</td>\n",
       "      <td>1.000000</td>\n",
       "      <td>0.869919</td>\n",
       "      <td>6453</td>\n",
       "    </tr>\n",
       "  </tbody>\n",
       "</table>\n",
       "<p>200 rows × 8 columns</p>\n",
       "</div>"
      ],
      "text/plain": [
       "                                                    br  \\\n",
       "0                                           ur c'harzh   \n",
       "1                  Mari zo deuet a-benn enno antronoz.   \n",
       "2    An amzer gwechall, ne oa... ne oa ket, eu... n...   \n",
       "3                    Piv zo bet o troc'hiñ ar wezenn ?   \n",
       "4           Pa oufemp ar wirionez, n'he lavarfemp ket.   \n",
       "..                                                 ...   \n",
       "195              War an hent am eus gwelet div vaouez.   \n",
       "196  Mes pegiz e ra ar re zo e-barzh... e-kostez......   \n",
       "197  Ar bedervet deus e verc'hed zo aet da chom da ...   \n",
       "198  Kerzhet a ra ? Eñ... eñ a respont ? O, me a we...   \n",
       "199  E brad-eñ ha, ne oa ket da zen mod arall nemet...   \n",
       "\n",
       "                                          br_processed  \\\n",
       "0                                           ur c'harzh   \n",
       "1                   mari zo deuet a benn enno antronoz   \n",
       "2    an amzer gwechall ne oa ne oa ket eu ne oa ket...   \n",
       "3                      piv zo bet o troc'hiñ ar wezenn   \n",
       "4             pa oufemp ar wirionez n'he lavarfemp ket   \n",
       "..                                                 ...   \n",
       "195               war an hent am eus gwelet div vaouez   \n",
       "196  mes pegiz e ra ar re zo e barzh e kostez beg e...   \n",
       "197  ar bedervet deus e verc'hed zo aet da chom da ...   \n",
       "198  kerzhet a ra eñ eñ a respont o me a wel oiaou ...   \n",
       "199  e brad eñ ha ne oa ket da zen mod arall nemet ...   \n",
       "\n",
       "                                                    fr  \\\n",
       "0                                             une haie   \n",
       "1               Marie est venue vers eux le lendemain.   \n",
       "2    Autrefois, c'était... c'était, euh... ça n'éta...   \n",
       "3                                Qui a coupé l'arbre ?   \n",
       "4    Si nous savions la vérité, nous ne la dirions ...   \n",
       "..                                                 ...   \n",
       "195                Sur le chemin, j'ai vu deux femmes.   \n",
       "196  Mes pegiz e ra ar re zo e-barzh... e-kostez......   \n",
       "197  La quatrième de ses filles est allée habiter à...   \n",
       "198  Il fonctionne (ton appareil) ? Il... il répond...   \n",
       "199  C'était son pré à lui et, il n'appartenait à p...   \n",
       "\n",
       "                                         transcription   city       wer  \\\n",
       "0                                            therefore  29032  1.000000   \n",
       "1                        Mori, aso du benen internoos.  29168  1.000000   \n",
       "2      exams ordurue shele boister what she's imagined  29230  1.000000   \n",
       "3                                       Cubâtsalthoulo  29293  1.000000   \n",
       "4                            dint abolieменenar einsod  56175  1.000000   \n",
       "..                                                 ...    ...       ...   \n",
       "195                        Who, And mext to the mice i  29168  1.000000   \n",
       "196   Mephizrari, zuban, koss, bika, maschani du zu...  29150  0.924528   \n",
       "197   Bide on Deieveatte ... Z� Scene Rosa'u no chr...  29293  1.090909   \n",
       "198                                 believed Andre you  56094  1.000000   \n",
       "199         Spoiltor – Abdul-Sやって! Ambienti Krothilich  56089  1.000000   \n",
       "\n",
       "          cer  file  \n",
       "0    0.900000  1057  \n",
       "1    0.588235  2654  \n",
       "2    0.767857  4401  \n",
       "3    0.870968  5843  \n",
       "4    0.800000  7177  \n",
       "..        ...   ...  \n",
       "195  0.750000  2925  \n",
       "196  0.600000  2251  \n",
       "197  0.803922  5777  \n",
       "198  0.820000  6815  \n",
       "199  0.869919  6453  \n",
       "\n",
       "[200 rows x 8 columns]"
      ]
     },
     "execution_count": 16,
     "metadata": {},
     "output_type": "execute_result"
    }
   ],
   "source": [
    "small_df = small_df[['br', 'br_processed', 'fr', 'transcription', 'city', 'wer', 'cer', 'file']]\n",
    "small_df"
   ]
  },
  {
   "cell_type": "code",
   "execution_count": 17,
   "id": "b6a7c24c",
   "metadata": {},
   "outputs": [
    {
     "name": "stdout",
     "output_type": "stream",
     "text": [
      "Average WER and CER for 22107:\n",
      "WER: 1.18\n",
      "CER: 0.86\n",
      "\n",
      "Average WER and CER for 22167:\n",
      "WER: 1.0\n",
      "CER: 0.74\n",
      "\n",
      "Average WER and CER for 22181:\n",
      "WER: 1.0\n",
      "CER: 0.86\n",
      "\n",
      "Average WER and CER for 22230:\n",
      "WER: 1.0\n",
      "CER: 0.91\n",
      "\n",
      "Average WER and CER for 22331:\n",
      "WER: 1.2\n",
      "CER: 1.28\n",
      "\n",
      "Average WER and CER for 22386:\n",
      "WER: 1.0\n",
      "CER: 0.72\n",
      "\n",
      "Average WER and CER for 29032:\n",
      "WER: 1.0\n",
      "CER: 0.83\n",
      "\n",
      "Average WER and CER for 29058:\n",
      "WER: 0.99\n",
      "CER: 0.91\n",
      "\n",
      "Average WER and CER for 29105:\n",
      "WER: 1.0\n",
      "CER: 0.76\n",
      "\n",
      "Average WER and CER for 29122:\n",
      "WER: 1.0\n",
      "CER: 0.73\n",
      "\n",
      "Average WER and CER for 29146:\n",
      "WER: 1.0\n",
      "CER: 0.64\n",
      "\n",
      "Average WER and CER for 29150:\n",
      "WER: 0.99\n",
      "CER: 0.75\n",
      "\n",
      "Average WER and CER for 29153:\n",
      "WER: 1.0\n",
      "CER: 0.82\n",
      "\n",
      "Average WER and CER for 29154:\n",
      "WER: 1.0\n",
      "CER: 0.74\n",
      "\n",
      "Average WER and CER for 29168:\n",
      "WER: 1.09\n",
      "CER: 0.83\n",
      "\n",
      "Average WER and CER for 29180:\n",
      "WER: 1.06\n",
      "CER: 0.78\n",
      "\n",
      "Average WER and CER for 29195:\n",
      "WER: 1.74\n",
      "CER: 1.23\n",
      "\n",
      "Average WER and CER for 29230:\n",
      "WER: 1.0\n",
      "CER: 0.76\n",
      "\n",
      "Average WER and CER for 29236:\n",
      "WER: 1.0\n",
      "CER: 0.73\n",
      "\n",
      "Average WER and CER for 29239:\n",
      "WER: 1.0\n",
      "CER: 0.74\n",
      "\n",
      "Average WER and CER for 29259:\n",
      "WER: 0.96\n",
      "CER: 0.62\n",
      "\n",
      "Average WER and CER for 29262:\n",
      "WER: 1.0\n",
      "CER: 0.64\n",
      "\n",
      "Average WER and CER for 29273:\n",
      "WER: 1.0\n",
      "CER: 0.75\n",
      "\n",
      "Average WER and CER for 29274:\n",
      "WER: 1.0\n",
      "CER: 0.98\n",
      "\n",
      "Average WER and CER for 29293:\n",
      "WER: 1.1\n",
      "CER: 0.81\n",
      "\n",
      "Average WER and CER for 29297:\n",
      "WER: 1.0\n",
      "CER: 0.72\n",
      "\n",
      "Average WER and CER for 56014:\n",
      "WER: 1.0\n",
      "CER: 0.79\n",
      "\n",
      "Average WER and CER for 56026:\n",
      "WER: 1.67\n",
      "CER: 1.83\n",
      "\n",
      "Average WER and CER for 56057:\n",
      "WER: 1.0\n",
      "CER: 0.86\n",
      "\n",
      "Average WER and CER for 56076:\n",
      "WER: 3.38\n",
      "CER: 2.73\n",
      "\n",
      "Average WER and CER for 56085:\n",
      "WER: 1.0\n",
      "CER: 0.81\n",
      "\n",
      "Average WER and CER for 56089:\n",
      "WER: 1.63\n",
      "CER: 1.48\n",
      "\n",
      "Average WER and CER for 56094:\n",
      "WER: 1.0\n",
      "CER: 0.8\n",
      "\n",
      "Average WER and CER for 56116:\n",
      "WER: 1.0\n",
      "CER: 0.79\n",
      "\n",
      "Average WER and CER for 56175:\n",
      "WER: 0.98\n",
      "CER: 0.75\n",
      "\n",
      "Average WER and CER for 56179:\n",
      "WER: 1.17\n",
      "CER: 0.8\n",
      "\n",
      "Average WER and CER for 56209:\n",
      "WER: 3.5\n",
      "CER: 2.11\n",
      "\n",
      "Average WER and CER for 56247:\n",
      "WER: 1.0\n",
      "CER: 0.74\n",
      "\n"
     ]
    }
   ],
   "source": [
    "# Assuming your DataFrame has columns: 'city', 'wer', and 'cer'\n",
    "city_avg = small_df.groupby('city')[['wer', 'cer']].mean()\n",
    "\n",
    "# Optional: round to 2 decimal places\n",
    "city_avg = city_avg.round(2)\n",
    "\n",
    "# Print each city's average WER and CER\n",
    "for city_code, row in city_avg.iterrows():\n",
    "    print(f\"Average WER and CER for {city_code}:\\nWER: {row['wer']}\\nCER: {row['cer']}\\n\")"
   ]
  },
  {
   "cell_type": "code",
   "execution_count": 18,
   "id": "8c8c29ce",
   "metadata": {},
   "outputs": [
    {
     "name": "stdout",
     "output_type": "stream",
     "text": [
      "Evaluation for --Côtes-d'Armor-- dialects 22xxx :\n",
      "WER: 1.0647\n",
      "CER: 0.8834\n",
      "\n",
      "Evaluation for --Finistère-- dialects 29xxx :\n",
      "WER: 1.0321\n",
      "CER: 0.7828\n",
      "\n",
      "Evaluation for --Morbihan-- dialects 56xxx :\n",
      "WER: 1.3884\n",
      "CER: 1.1626\n"
     ]
    }
   ],
   "source": [
    "# Filter for cities starting with '22'\n",
    "small_df_22 = small_df[small_df['city'].str.startswith('22')]\n",
    "avg_22 = small_df_22[['wer', 'cer']].mean().round(4)\n",
    "\n",
    "\n",
    "# Filter for cities starting with '22'\n",
    "small_df_29 = small_df[small_df['city'].str.startswith('29')]\n",
    "avg_29 = small_df_29[['wer', 'cer']].mean().round(4)\n",
    "\n",
    "\n",
    "# Filter for cities starting with '56'\n",
    "small_df_56 = small_df[small_df['city'].str.startswith('56')]\n",
    "avg_56 = small_df_56[['wer', 'cer']].mean().round(4)\n",
    "\n",
    "\n",
    "\n",
    "print(\"Evaluation for --Côtes-d'Armor-- dialects 22xxx :\")\n",
    "print(f\"WER: {avg_22['wer']}\")\n",
    "print(f\"CER: {avg_22['cer']}\\n\")\n",
    "\n",
    "print(\"Evaluation for --Finistère-- dialects 29xxx :\")\n",
    "print(f\"WER: {avg_29['wer']}\")\n",
    "print(f\"CER: {avg_29['cer']}\\n\")\n",
    "\n",
    "print(\"Evaluation for --Morbihan-- dialects 56xxx :\")\n",
    "print(f\"WER: {avg_56['wer']}\")\n",
    "print(f\"CER: {avg_56['cer']}\")"
   ]
  },
  {
   "cell_type": "code",
   "execution_count": 19,
   "id": "220c7579",
   "metadata": {},
   "outputs": [
    {
     "name": "stdout",
     "output_type": "stream",
     "text": [
      "Overall Average WER: 1.11\n",
      "Overall Average CER: 0.87\n"
     ]
    }
   ],
   "source": [
    "# Assuming 'wer' and 'cer' columns exist\n",
    "average_wer = small_df['wer'].mean()\n",
    "average_cer = small_df['cer'].mean()\n",
    "\n",
    "# Optional: round them\n",
    "average_wer = round(average_wer, 2)\n",
    "average_cer = round(average_cer, 2)\n",
    "\n",
    "print(f\"Overall Average WER: {average_wer}\")\n",
    "print(f\"Overall Average CER: {average_cer}\")"
   ]
  },
  {
   "cell_type": "code",
   "execution_count": null,
   "id": "1d8a6c92",
   "metadata": {},
   "outputs": [],
   "source": []
  }
 ],
 "metadata": {
  "kernelspec": {
   "display_name": "stt-breton",
   "language": "python",
   "name": "python3"
  },
  "language_info": {
   "codemirror_mode": {
    "name": "ipython",
    "version": 3
   },
   "file_extension": ".py",
   "mimetype": "text/x-python",
   "name": "python",
   "nbconvert_exporter": "python",
   "pygments_lexer": "ipython3",
   "version": "3.10.16"
  }
 },
 "nbformat": 4,
 "nbformat_minor": 5
}
